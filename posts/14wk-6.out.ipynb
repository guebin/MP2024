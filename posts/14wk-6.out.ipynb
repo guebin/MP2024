{
  "cells": [
    {
      "cell_type": "markdown",
      "metadata": {},
      "source": [
        "# 14wk-6: 타이타닉 / Autogluon (best_quality)\n",
        "\n",
        "최규빈  \n",
        "2024-12-11\n",
        "\n",
        "<a href=\"https://colab.research.google.com/github/guebin/MP2024/blob/main/posts/14wk-3.ipynb\"><img src=\"https://colab.research.google.com/assets/colab-badge.svg\" style=\"text-align: left\"></a>\n",
        "\n",
        "# 1. 강의영상\n",
        "\n",
        "<https://youtu.be/playlist?list=PLQqh36zP38-x6USW3HM9Lm-B19o9qrm19&si=EFy8hdlgDJ-LUFHi>\n",
        "\n",
        "# 2. Import\n",
        "\n",
        "``` python\n",
        "# This Python 3 environment comes with many helpful analytics libraries installed\n",
        "# It is defined by the kaggle/python Docker image: https://github.com/kaggle/docker-python\n",
        "# For example, here's several helpful packages to load\n",
        "\n",
        "import numpy as np # linear algebra\n",
        "import pandas as pd # data processing, CSV file I/O (e.g. pd.read_csv)\n",
        "\n",
        "# Input data files are available in the read-only \"../input/\" directory\n",
        "# For example, running this (by clicking run or pressing Shift+Enter) will list all files under the input directory\n",
        "\n",
        "import os\n",
        "for dirname, _, filenames in os.walk('/kaggle/input'):\n",
        "    for filename in filenames:\n",
        "        print(os.path.join(dirname, filename))\n",
        "\n",
        "# You can write up to 20GB to the current directory (/kaggle/working/) that gets preserved as output when you create a version using \"Save & Run All\" \n",
        "# You can also write temporary files to /kaggle/temp/, but they won't be saved outside of the current session\n",
        "```\n",
        "\n",
        "    /kaggle/input/titanic/train.csv\n",
        "    /kaggle/input/titanic/test.csv\n",
        "    /kaggle/input/titanic/gender_submission.csv"
      ],
      "id": "94d5f913-7d48-4988-9d18-e458684c751b"
    },
    {
      "cell_type": "code",
      "execution_count": 10,
      "metadata": {},
      "outputs": [],
      "source": [
        "#pip install autogluon"
      ],
      "id": "5ee63a9f-4df2-46eb-b255-633ad13ef668"
    },
    {
      "cell_type": "code",
      "execution_count": 11,
      "metadata": {},
      "outputs": [],
      "source": [
        "from autogluon.tabular import TabularDataset, TabularPredictor"
      ],
      "id": "4fb9404e-25d7-4a80-8709-69221a7fbc3a"
    },
    {
      "cell_type": "markdown",
      "metadata": {},
      "source": [
        "# 3. 분석의 절차\n",
        "\n",
        "## A. 데이터\n",
        "\n",
        "`-` 비유: 문제를 받아오는 과정으로 비유할 수 있다."
      ],
      "id": "d1efac8a-7750-40c7-b96b-a28e28ca7401"
    },
    {
      "cell_type": "code",
      "execution_count": 12,
      "metadata": {},
      "outputs": [
        {
          "output_type": "stream",
          "name": "stdout",
          "text": [
            "Downloading titanic.zip to /home/cgb2/Dropbox/07_lectures/2023-09-MP2023/posts\n",
            "  0%|                                               | 0.00/34.1k [00:00<?, ?B/s]\n",
            "100%|███████████████████████████████████████| 34.1k/34.1k [00:00<00:00, 407kB/s]\n",
            "Archive:  titanic.zip\n",
            "  inflating: titanic/gender_submission.csv  \n",
            "  inflating: titanic/test.csv        \n",
            "  inflating: titanic/train.csv       "
          ]
        },
        {
          "output_type": "stream",
          "name": "stderr",
          "text": [
            "Loaded data from: titanic/train.csv | Columns = 12 / 12 | Rows = 891 -> 891\n",
            "Loaded data from: titanic/test.csv | Columns = 11 / 11 | Rows = 418 -> 418"
          ]
        }
      ],
      "source": [
        "!kaggle competitions download -c titanic\n",
        "!unzip titanic.zip -d titanic\n",
        "df_train = TabularDataset('titanic/train.csv')\n",
        "df_test = TabularDataset('titanic/test.csv')\n",
        "!rm titanic.zip\n",
        "!rm -rf titanic/"
      ],
      "id": "5ac6c193-2953-419d-ac23-d3d9ea3f40c8"
    },
    {
      "cell_type": "markdown",
      "metadata": {},
      "source": [
        "## B. Predictor 생성\n",
        "\n",
        "`-` 비유: 문제를 풀 학생을 생성하는 과정으로 비유할 수 있다."
      ],
      "id": "12e81125-2e8e-4939-80e3-a580c7efaee0"
    },
    {
      "cell_type": "code",
      "execution_count": 19,
      "metadata": {},
      "outputs": [],
      "source": [
        "predictr = TabularPredictor(\"Survived\",verbosity=False)"
      ],
      "id": "d14af837-2d5e-4dd3-9348-ade59683b80d"
    },
    {
      "cell_type": "markdown",
      "metadata": {},
      "source": [
        "## C. 적합(fit)\n",
        "\n",
        "`-` 비유: 학생이 공부를 하는 과정으로 비유할 수 있다.\n",
        "\n",
        "`-` 학습"
      ],
      "id": "1ad6cbae-e587-4053-b1cf-492b7f9a951e"
    },
    {
      "cell_type": "code",
      "execution_count": 1,
      "metadata": {},
      "outputs": [],
      "source": [
        "#predictr.fit(df_train,presets='best_quality') # 학생(predictr)에게 문제(tr)를 줘서 학습을 시킴(predictr.fit())"
      ],
      "id": "d487d466-82e6-4b71-b6c5-037ae26df37e"
    },
    {
      "cell_type": "markdown",
      "metadata": {},
      "source": [
        "`-` 리더보드확인 (모의고사채점)"
      ],
      "id": "87820838-5ffb-46f2-814d-c66618a2560c"
    },
    {
      "cell_type": "code",
      "execution_count": 21,
      "metadata": {},
      "outputs": [],
      "source": [
        "predictr.leaderboard()"
      ],
      "id": "174c297f-09ab-4fab-8b6a-c1b5f5cc5244"
    },
    {
      "cell_type": "markdown",
      "metadata": {},
      "source": [
        "## D. 예측 (predict)\n",
        "\n",
        "`-` 비유: 학습이후에 문제를 푸는 과정으로 비유할 수 있다.\n",
        "\n",
        "`-` training set 을 풀어봄 (predict) $\\to$ 점수 확인"
      ],
      "id": "f85496f1-eebc-46fe-9151-e66e1e4d64d7"
    },
    {
      "cell_type": "code",
      "execution_count": 2,
      "metadata": {},
      "outputs": [],
      "source": [
        "#(df_train.Survived == predictr.predict(df_train)).mean()"
      ],
      "id": "63dde064-62d6-4b36-bade-c3826d031584"
    },
    {
      "cell_type": "markdown",
      "metadata": {},
      "source": [
        "`-` test set 을 풀어봄 (predict) $\\to$ 점수 확인 하러 캐글에 결과제출"
      ],
      "id": "549b2148-ad8d-46e6-8964-20e5ec0f3481"
    },
    {
      "cell_type": "code",
      "execution_count": 17,
      "metadata": {},
      "outputs": [],
      "source": [
        "# df_test.assign(Survived = predictr.predict(df_test)).loc[:,['PassengerId','Survived']]\\\n",
        "# .to_csv(\"autogluon(best_quality)_submission.csv\",index=False)"
      ],
      "id": "767c5239-4ba5-4a43-873b-dd1575ef8954"
    },
    {
      "cell_type": "markdown",
      "metadata": {},
      "source": [
        "# 3. 숙제\n",
        "\n",
        "`-` 캐글에 제출한 결과를 캡쳐하여 LMS에 제출"
      ],
      "id": "95081aa8-d83f-4b14-9a3f-6f281812af75"
    }
  ],
  "nbformat": 4,
  "nbformat_minor": 5,
  "metadata": {
    "kernelspec": {
      "name": "python3",
      "display_name": "Python 3 (ipykernel)",
      "language": "python"
    },
    "language_info": {
      "name": "python",
      "codemirror_mode": {
        "name": "ipython",
        "version": "3"
      },
      "file_extension": ".py",
      "mimetype": "text/x-python",
      "nbconvert_exporter": "python",
      "pygments_lexer": "ipython3",
      "version": "3.12.2"
    }
  }
}