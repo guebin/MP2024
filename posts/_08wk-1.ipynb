{
 "cells": [
  {
   "cell_type": "raw",
   "metadata": {
    "vscode": {
     "languageId": "raw"
    }
   },
   "source": [
    "---\n",
    "title: \"08wk-1: 모듈설치 및 변경\"\n",
    "author: \"최규빈\"\n",
    "date: \"10/31/2024\"\n",
    "draft: false\n",
    "---"
   ]
  },
  {
   "cell_type": "markdown",
   "metadata": {},
   "source": [
    "<a href=\"https://colab.research.google.com/github/guebin/MP2024/blob/main/posts/08wk-1.ipynb\"><img src=\"https://colab.research.google.com/assets/colab-badge.svg\" style=\"text-align: left\"></a>"
   ]
  },
  {
   "cell_type": "markdown",
   "metadata": {
    "vscode": {
     "languageId": "raw"
    }
   },
   "source": [
    "# 1. 강의영상 "
   ]
  },
  {
   "cell_type": "markdown",
   "metadata": {
    "vscode": {
     "languageId": "raw"
    }
   },
   "source": [
    "# 2. 내가 만든 좋은 함수"
   ]
  },
  {
   "cell_type": "markdown",
   "metadata": {
    "vscode": {
     "languageId": "raw"
    }
   },
   "source": [
    "`# 예시1` -- `my_show_list()`"
   ]
  },
  {
   "cell_type": "markdown",
   "metadata": {},
   "source": [
    "`-` 리스트의구조를 잘 살펴볼 수 있는 함수를 만들어보자.."
   ]
  },
  {
   "cell_type": "code",
   "execution_count": 2,
   "metadata": {},
   "outputs": [],
   "source": [
    "from collections.abc import Iterable\n",
    "\n",
    "def my_show_list(item, max_depth=2, max_items=5):\n",
    "    \"\"\"Displays type, length, and content of nested items up to level 2.\"\"\"\n",
    "    \n",
    "    # Level 1 information\n",
    "    item_type = type(item).__name__\n",
    "    try:\n",
    "        item_len = len(item)\n",
    "    except TypeError:\n",
    "        item_len = None  # If length cannot be determined\n",
    "    \n",
    "    item_str = repr(item)\n",
    "    if len(item_str) > 50:\n",
    "        content = f\"{item_str[:25]} ... {item_str[-25:]}\"\n",
    "    else:\n",
    "        content = item_str\n",
    "    \n",
    "    info = f\"Level 1 - Type: {item_type}\"\n",
    "    if item_len is not None:\n",
    "        info += f\", Length: {item_len}\"\n",
    "    info += f\", Content: {content}\"\n",
    "    print(info)\n",
    "\n",
    "    # Level 2 information (only if item is Iterable)\n",
    "    if isinstance(item, Iterable) and not isinstance(item, (str, bytes)):\n",
    "        if item_len is None:\n",
    "            return  # Skip if length cannot be determined\n",
    "        for idx, subitem in enumerate(item):\n",
    "            if idx == max_items // 2 and item_len > max_items:\n",
    "                print(f\"     ...\")\n",
    "            elif idx >= max_items and idx < item_len - max_items // 2:\n",
    "                continue\n",
    "\n",
    "            subitem_type = type(subitem).__name__\n",
    "            try:\n",
    "                subitem_len = len(subitem)\n",
    "            except TypeError:\n",
    "                subitem_len = None\n",
    "            \n",
    "            subitem_str = repr(subitem)\n",
    "            if len(subitem_str) > 50:\n",
    "                sub_content = f\"{subitem_str[:25]} ... {subitem_str[-25:]}\"\n",
    "            else:\n",
    "                sub_content = subitem_str\n",
    "\n",
    "            sub_info = f\"     Level 2 - Type: {subitem_type}\"\n",
    "            if subitem_len is not None:\n",
    "                sub_info += f\", Length: {subitem_len}\"\n",
    "            sub_info += f\", Content: {sub_content}\"\n",
    "            print(sub_info)"
   ]
  },
  {
   "cell_type": "markdown",
   "metadata": {},
   "source": [
    "`-` 사용해보자. "
   ]
  },
  {
   "cell_type": "markdown",
   "metadata": {},
   "source": [
    "`#`"
   ]
  },
  {
   "cell_type": "markdown",
   "metadata": {},
   "source": [
    "`# 예제2` -- `my_show_dict()`"
   ]
  },
  {
   "cell_type": "code",
   "execution_count": 5,
   "metadata": {},
   "outputs": [],
   "source": [
    "def my_show_dict(dct):\n",
    "    print(\"Dictionary Overview:\")\n",
    "    print(f\"Total keys: {len(dct.keys())}\")\n",
    "    print(f\"Keys: {list(dct.keys())}\\n\")\n",
    "    \n",
    "    for i, (k, v) in enumerate(dct.items()):\n",
    "        print(f\"{i+1}. Key: '{k}'\")\n",
    "        print(f\"   - Type: {type(v).__name__}\")\n",
    "\n",
    "        # 길이 확인이 가능한 타입인 경우 길이 정보 출력\n",
    "        if hasattr(v, \"__len__\"):\n",
    "            print(f\"   - Length: {len(v)}\")\n",
    "\n",
    "        # Iterable 값의 길이를 제한해 출력\n",
    "        if len(str(v)) > 100:\n",
    "            display_values = str(v)[:100] + \"...\"  # 문자열 길이 제한 후 생략 표시\n",
    "        else:\n",
    "            display_values = str(v)\n",
    "\n",
    "        # 값 출력\n",
    "        print(f\"   - Values: {display_values}\")\n",
    "        print()  # 공백 줄 추가"
   ]
  },
  {
   "cell_type": "markdown",
   "metadata": {},
   "source": [
    "`#`"
   ]
  },
  {
   "cell_type": "markdown",
   "metadata": {},
   "source": [
    "`# 예제3` -- imdb"
   ]
  },
  {
   "cell_type": "markdown",
   "metadata": {},
   "source": [
    "`#`"
   ]
  },
  {
   "cell_type": "markdown",
   "metadata": {},
   "source": [
    "# 3. 모듈"
   ]
  },
  {
   "cell_type": "markdown",
   "metadata": {},
   "source": [
    "`-` 이거 생각보다 좋음 $\\to$ 다음에도 쓰고 싶음 \n",
    "\n",
    "- 방법1: 코드를 어디에 잘 저장해둠.. 주피터킬때마다 불러서 읽어옴 \n",
    "- 방법2: 패키지화 시킴 "
   ]
  },
  {
   "cell_type": "markdown",
   "metadata": {},
   "source": [
    "`-` 방법2를 살펴보자. "
   ]
  },
  {
   "cell_type": "markdown",
   "metadata": {},
   "source": [
    "## A. 위치"
   ]
  },
  {
   "cell_type": "markdown",
   "metadata": {},
   "source": [
    "`-` numpy가 설치된 위치를 알아보자. "
   ]
  },
  {
   "cell_type": "markdown",
   "metadata": {},
   "source": [
    "`-` numpy폴더는 있고 mp2024pkg 폴더는 없음.."
   ]
  },
  {
   "cell_type": "markdown",
   "metadata": {},
   "source": [
    "`-` 그래서 numpy는 임포트되는데 mp2024pkg는 임포트되지 않음 "
   ]
  },
  {
   "cell_type": "markdown",
   "metadata": {},
   "source": [
    "## B. 설치"
   ]
  },
  {
   "cell_type": "markdown",
   "metadata": {},
   "source": [
    "`-` `mp2024pkg` install (=download)"
   ]
  },
  {
   "cell_type": "markdown",
   "metadata": {},
   "source": [
    "`-` 생성된 `mp2024pkg` 폴더의 내용 -- 깃허브에 있는 폴더 그대로 다운로드됨.."
   ]
  },
  {
   "cell_type": "markdown",
   "metadata": {},
   "source": [
    "`-` import "
   ]
  },
  {
   "cell_type": "markdown",
   "metadata": {},
   "source": [
    "`-` 사용 "
   ]
  },
  {
   "cell_type": "markdown",
   "metadata": {},
   "source": [
    "## C. 변경"
   ]
  },
  {
   "cell_type": "markdown",
   "metadata": {},
   "source": [
    "`-` `mp2024pkg` 폴더로 `show_list` 함수가 정의된 부분 변경"
   ]
  },
  {
   "cell_type": "markdown",
   "metadata": {},
   "source": [
    "`-` 커널재시작후 다시 import "
   ]
  },
  {
   "cell_type": "markdown",
   "metadata": {},
   "source": [
    "`-` 변경된 내용 확인 "
   ]
  },
  {
   "cell_type": "markdown",
   "metadata": {},
   "source": [
    "## D. 로드 "
   ]
  },
  {
   "cell_type": "markdown",
   "metadata": {},
   "source": [
    "`# 예시1`"
   ]
  },
  {
   "cell_type": "code",
   "execution_count": null,
   "metadata": {},
   "outputs": [],
   "source": []
  },
  {
   "cell_type": "markdown",
   "metadata": {},
   "source": [
    "`#`"
   ]
  },
  {
   "cell_type": "markdown",
   "metadata": {},
   "source": [
    "`# 예시2`"
   ]
  },
  {
   "cell_type": "code",
   "execution_count": null,
   "metadata": {},
   "outputs": [],
   "source": []
  },
  {
   "cell_type": "markdown",
   "metadata": {},
   "source": [
    "`#`"
   ]
  },
  {
   "cell_type": "markdown",
   "metadata": {},
   "source": [
    "`# 예시3`"
   ]
  },
  {
   "cell_type": "code",
   "execution_count": null,
   "metadata": {},
   "outputs": [],
   "source": []
  },
  {
   "cell_type": "markdown",
   "metadata": {},
   "source": [
    "`#`"
   ]
  },
  {
   "cell_type": "markdown",
   "metadata": {},
   "source": [
    "`# 예시5` "
   ]
  },
  {
   "cell_type": "code",
   "execution_count": null,
   "metadata": {},
   "outputs": [],
   "source": []
  },
  {
   "cell_type": "markdown",
   "metadata": {},
   "source": [
    "`#`"
   ]
  },
  {
   "cell_type": "markdown",
   "metadata": {},
   "source": [
    "`# 예시6` "
   ]
  },
  {
   "cell_type": "code",
   "execution_count": null,
   "metadata": {},
   "outputs": [],
   "source": []
  },
  {
   "cell_type": "markdown",
   "metadata": {},
   "source": [
    "`#`"
   ]
  },
  {
   "cell_type": "markdown",
   "metadata": {},
   "source": [
    "`# 예시7` "
   ]
  },
  {
   "cell_type": "code",
   "execution_count": null,
   "metadata": {},
   "outputs": [],
   "source": []
  },
  {
   "cell_type": "markdown",
   "metadata": {},
   "source": [
    "`#`"
   ]
  },
  {
   "cell_type": "markdown",
   "metadata": {},
   "source": [
    "# 4. 모듈, 패키지, 라이브러리??"
   ]
  },
  {
   "cell_type": "markdown",
   "metadata": {},
   "source": [
    "`-` 모듈은 import를 하여 생기게 되는 오브젝트를 의미한다. "
   ]
  },
  {
   "cell_type": "code",
   "execution_count": null,
   "metadata": {},
   "outputs": [
    {
     "data": {
      "text/plain": [
       "module"
      ]
     },
     "metadata": {},
     "output_type": "display_data"
    }
   ],
   "source": [
    "import numpy as np\n",
    "type(np)"
   ]
  },
  {
   "cell_type": "markdown",
   "metadata": {},
   "source": [
    "`-` 교수님들: 모듈이 모이면 패키지라고 부른다. 그리고 라이브러리는 패키지보다 큰 개념이다."
   ]
  },
  {
   "cell_type": "markdown",
   "metadata": {},
   "source": [
    "`-` 그런데 구분이 모호하다.\n",
    "\n",
    "- `np`의 type은 모듈이라고 나옴.. \n",
    "- 그런데 numpy package 라고 검색하면 검색가능함. \n",
    "- 심지어 numpy library 라고 검색해도 검색가능하다."
   ]
  },
  {
   "cell_type": "markdown",
   "metadata": {},
   "source": [
    "`-` 제 생각: 넘파이모듈, 넘파이패키지, 넘파이라이브러리 다 맞는 말임.. "
   ]
  }
 ],
 "metadata": {
  "kernelspec": {
   "display_name": "hf",
   "language": "python",
   "name": "python3"
  },
  "language_info": {
   "codemirror_mode": {
    "name": "ipython",
    "version": 3
   },
   "file_extension": ".py",
   "mimetype": "text/x-python",
   "name": "python",
   "nbconvert_exporter": "python",
   "pygments_lexer": "ipython3",
   "version": "3.12.2"
  }
 },
 "nbformat": 4,
 "nbformat_minor": 2
}
