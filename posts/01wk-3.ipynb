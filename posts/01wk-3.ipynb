{
 "cells": [
  {
   "cell_type": "raw",
   "metadata": {
    "vscode": {
     "languageId": "raw"
    }
   },
   "source": [
    "---\n",
    "title: \"01wk-3: IMDB 자료 살펴보기, 지도학습의 개념\"\n",
    "author: \"최규빈\"\n",
    "date: \"09/06/2024\"\n",
    "---"
   ]
  },
  {
   "cell_type": "markdown",
   "metadata": {},
   "source": [
    "<a href=\"https://colab.research.google.com/github/guebin/MP2024/blob/main/posts/01wk-3.ipynb\"><img src=\"https://colab.research.google.com/assets/colab-badge.svg\" style=\"text-align: left\"></a>"
   ]
  },
  {
   "cell_type": "markdown",
   "metadata": {},
   "source": [
    "# 1. 상상 혹은 경험 "
   ]
  },
  {
   "cell_type": "markdown",
   "metadata": {
    "vscode": {
     "languageId": "raw"
    }
   },
   "source": [
    "`-` 데이터 분석을 하고 싶음. \n",
    "\n",
    "- 할 줄 아는 것이 별로 없음.\n",
    "- 이론적으로 처음부터 익히려고 했는데, 도저히 각이 안나옴. (엄두가 나지 않음) \n",
    "- 블로그등을 보면서 데이터를 분석하는 코드를 독학하기로 함. \n",
    "- 전략: (1) 블로그의 코드를 돌려본다. (2) 블로그의 코드를 이해한다. (이론을 이해하는게 아님. 코드의 흐름을 이해하는 것임) (3) 블로그의 코드에서 데이터를 읽는 부분만 내가 사용할 데이터로 바꿔침 (4) 돌려서 결과를 제출. "
   ]
  },
  {
   "cell_type": "markdown",
   "metadata": {
    "vscode": {
     "languageId": "raw"
    }
   },
   "source": [
    "`-` 어려울 것이라 예상되는 점. \n",
    "\n",
    "- `(1)` 안 돌아감. `import` 부터 잘 안될 것임.\n",
    "- `(2)` 이해가 안될걸?? \n",
    "- `(3)` 이게 진짜 어려움. 이걸 잘하기 위해서는 파이썬의 기본 문법이 강해야함. \n",
    "- `(4)` 돌아는 가지만 결과가 좋지 않을 것임. "
   ]
  },
  {
   "cell_type": "markdown",
   "metadata": {
    "vscode": {
     "languageId": "raw"
    }
   },
   "source": [
    "`-` 소망: 아래가 되었으면.. \n",
    "\n",
    "- (1)-(4)의 과정이 매끄럽게 진행되면 좋겠다.. \n",
    "- 이 과정이 빠르게 반복되면서 여러코드를 최대한 빨리/많이 정리될 수 있다면.. \n",
    "- 그래서 비슷한 분석을 나중에 해야 할 일이 있을때 참고할 거리가 많으면... \n",
    "- 나중에는 코드가 동작하는 공통적인 원리를 깨우쳐 스스로 데이터를 보면서 얼개를 잡아나갈수 있고, 어느정도 분석도 할 수 있는 수준이 되었으면.. "
   ]
  },
  {
   "cell_type": "markdown",
   "metadata": {
    "vscode": {
     "languageId": "raw"
    }
   },
   "source": [
    "`-` 마음가짐: 컨셉을 잘 잡아야함.. \n",
    "\n",
    "- 나는 어떠한 코드도 짤 수 있는 사람이다. X \n",
    "- 나는 어떠한 코드도 이해할 수 있는 사람이다. X \n",
    "- 나는 어떠한 코드도 베낄 수 있는 (활용할 수 있는) 사람이다. O "
   ]
  },
  {
   "cell_type": "markdown",
   "metadata": {
    "vscode": {
     "languageId": "raw"
    }
   },
   "source": [
    "> 느리지만 정확하게 해결하는것은 옳지 않다. 모든 분석은 시간싸움임. 느려지는 순간 이미 뒤쳐진다. (마라톤을 하는게 아님. 100m 달리기임) "
   ]
  },
  {
   "cell_type": "markdown",
   "metadata": {
    "vscode": {
     "languageId": "raw"
    }
   },
   "source": [
    "`-` 저는 컴공과 교수가 아니에요.. (그럴만한 실력도 없어요) 그냥 먹고살기 위해서 눈치껏 코딩을 할 뿐입니다.. \n",
    "\n",
    "- 그래서 강의노트도 무식하게 만들예정.. \n",
    "- 이전에는 예쁘게 만든 편임.. (빅데이터 혁신공유대학 사업.. 서해안권 어쩌고.. 충남대학생들이 들었음) "
   ]
  },
  {
   "cell_type": "markdown",
   "metadata": {
    "vscode": {
     "languageId": "raw"
    }
   },
   "source": [
    "# 2. 감성분석 공부재료"
   ]
  },
  {
   "cell_type": "markdown",
   "metadata": {
    "vscode": {
     "languageId": "raw"
    }
   },
   "source": [
    "`-` 좋은 공부재료 (데이터+분석방법) 를 잘 선정해야함. 이게 사실 어려워요.. \n",
    "\n",
    "- 수업시간에 하는 예제는 좋은 예제에요. 고르고 고른 자료들입니다. 분석방법도 선별한 중요한 방법들임 (성능이 좋거나, 최신 유행이거나, 고전적인 상식수준의 알고리즘)\n",
    "- 그 외에는 몇개의 유명한 사이트를 즐겨찾기 해놓고 시간날때마다 공부하는 것이 좋음. \n",
    "- 일단 이번시간에 추천하는 사이트는.. <https://huggingface.co/docs/transformers/index> 입니다. "
   ]
  },
  {
   "cell_type": "markdown",
   "metadata": {
    "vscode": {
     "languageId": "raw"
    }
   },
   "source": [
    "`-` ref: <https://huggingface.co/docs/transformers/tasks/sequence_classification>\n",
    "\n",
    "- ref는 reference의 약자. \n",
    "- 해당 사이트를 참고했다는 의미. \n",
    "- 원 작가에 대한 예의 + 나중에 공부할때도 좋음. --> 대학생활하면서 숙제하실때도 참고하세요.. \n",
    "- 없어보이는 행동이 아님. 더 빛나게 만들어주는 행동이라 생각함.. "
   ]
  },
  {
   "cell_type": "markdown",
   "metadata": {
    "vscode": {
     "languageId": "raw"
    }
   },
   "source": [
    "`-` 허깅페이스 \n",
    "\n",
    "- 대부분의 경진대회 분석은 (1) tabular 를 분석하는 경우 (2) tabular 데이터가 아닌 자료를 분석하는 경우로 나눌 수 있음. \n",
    "- Tabular 데이터를 분석하는 여러가지 전통적인 방법이 있으나 우승하려면 거의 무조건 XGBoost, LightGBM, CatBoost 중 하나를 써야함. 의사결정나무 기반의 알고리즘을 사용해야합니다. (의사결정나무가 거의 크랙임. 회귀분석, 로지스틱, SVM 등등.. 다 필요없음)\n",
    "- Tabular 데이터가 아닌 자료를 분석하는 경우는 딥러닝 모형을 사용해야함. 여러가지 모형이 있지만 transformer 기반의 모형이 크랙임. \n",
    "- 허깅페이스는 transformer 기반의 다양한 모델(=분석방법)을 다운로드 하고 사용하기 용이하게 도와주는 사이트(hub)임. "
   ]
  },
  {
   "cell_type": "markdown",
   "metadata": {
    "vscode": {
     "languageId": "raw"
    }
   },
   "source": [
    "# 3. Install "
   ]
  },
  {
   "cell_type": "raw",
   "metadata": {},
   "source": []
  },
  {
   "cell_type": "raw",
   "metadata": {},
   "source": []
  },
  {
   "cell_type": "raw",
   "metadata": {},
   "source": []
  },
  {
   "cell_type": "raw",
   "metadata": {},
   "source": []
  }
 ],
 "metadata": {
  "kernelspec": {
   "display_name": "hf",
   "language": "python",
   "name": "python3"
  },
  "language_info": {
   "codemirror_mode": {
    "name": "ipython",
    "version": 3
   },
   "file_extension": ".py",
   "mimetype": "text/x-python",
   "name": "python",
   "nbconvert_exporter": "python",
   "pygments_lexer": "ipython3",
   "version": "3.12.4"
  }
 },
 "nbformat": 4,
 "nbformat_minor": 2
}
