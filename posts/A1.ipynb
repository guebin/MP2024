{
 "cells": [
  {
   "cell_type": "raw",
   "id": "37a7a92e-ceb2-476e-a1e9-d08c1fb7dd85",
   "metadata": {
    "vscode": {
     "languageId": "raw"
    }
   },
   "source": [
    "---\n",
    "title: \"A1: 산업계가 원하는 데이터 과학 인재상\"\n",
    "author: \"최규빈\"\n",
    "date: \"12/12/2024\"\n",
    "---"
   ]
  },
  {
   "attachments": {},
   "cell_type": "markdown",
   "id": "92ced58c-f286-43cf-8548-73e5dc144567",
   "metadata": {},
   "source": [
    "ref: 데이터사이언스 시대 미래인재 양성을 위한 학부 교육과정 재설계 가이드라인 (통계교육혁신위원회) \n",
    "\n",
    "- <https://github.com/guebin/MP2024/blob/main/posts/MP2024-A1.pdf>"
   ]
  }
 ],
 "metadata": {
  "kernelspec": {
   "display_name": "Python 3 (ipykernel)",
   "language": "python",
   "name": "python3"
  },
  "language_info": {
   "codemirror_mode": {
    "name": "ipython",
    "version": 3
   },
   "file_extension": ".py",
   "mimetype": "text/x-python",
   "name": "python",
   "nbconvert_exporter": "python",
   "pygments_lexer": "ipython3",
   "version": "3.13.0"
  }
 },
 "nbformat": 4,
 "nbformat_minor": 5
}
