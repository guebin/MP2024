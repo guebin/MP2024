{
 "cells": [
  {
   "cell_type": "raw",
   "id": "37a7a92e-ceb2-476e-a1e9-d08c1fb7dd85",
   "metadata": {
    "vscode": {
     "languageId": "raw"
    }
   },
   "source": [
    "---\n",
    "title: \"A1: 산업계가 원하는 데이터 과학 인재상\"\n",
    "author: \"최규빈\"\n",
    "date: \"12/12/2024\"\n",
    "---"
   ]
  }
 ],
 "metadata": {
  "kernelspec": {
   "display_name": "Python 3 (ipykernel)",
   "language": "python",
   "name": "python3"
  },
  "language_info": {
   "codemirror_mode": {
    "name": "ipython",
    "version": 3
   },
   "file_extension": ".py",
   "mimetype": "text/x-python",
   "name": "python",
   "nbconvert_exporter": "python",
   "pygments_lexer": "ipython3",
   "version": "3.13.0"
  }
 },
 "nbformat": 4,
 "nbformat_minor": 5
}
