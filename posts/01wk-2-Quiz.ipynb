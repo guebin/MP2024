{
 "cells": [
  {
   "cell_type": "raw",
   "metadata": {
    "vscode": {
     "languageId": "raw"
    }
   },
   "source": [
    "---\n",
    "title: \"01wk-2: Quiz\"\n",
    "author: \"최규빈\"\n",
    "date: \"09/05/2024\"\n",
    "---"
   ]
  },
  {
   "cell_type": "markdown",
   "metadata": {},
   "source": [
    "<a href=\"https://colab.research.google.com/github/guebin/MP2024/blob/main/posts/01wk-2-Quiz.ipynb\"><img src=\"https://colab.research.google.com/assets/colab-badge.svg\" style=\"text-align: left\"></a>"
   ]
  },
  {
   "cell_type": "code",
   "execution_count": 1,
   "metadata": {},
   "outputs": [],
   "source": [
    "# {{<video https://youtu.be/playlist?list=PLQqh36zP38-xkTDmutNidYnOkCgn2Zkdk&si=DPIWwBqzxkGHWIAr >}}"
   ]
  },
  {
   "cell_type": "markdown",
   "metadata": {},
   "source": [
    "| **항목**               | **허용 여부**        | **비고**                                          |\n",
    "|------------------------|----------------------|---------------------------------------------------|\n",
    "| **강의노트 참고**      | 허용                 | 수업 중 제공된 강의노트나 본인이 정리한 자료를 참고 가능       |\n",
    "| **구글 검색**          | 허용                 | 인터넷을 통한 자료 검색 및 정보 확인 가능        |\n",
    "| **GPT 사용**           | 허용 안함            | 인공지능 기반 도구(GPT 등) 사용 불가            |"
   ]
  },
  {
   "cell_type": "markdown",
   "metadata": {},
   "source": [
    "::: {.callout-caution}\n",
    "\n",
    "- 모든 문항은 부분점수 없음. \n",
    "- 일부문항은 부분문제를 모두 맞출경우만 정답으로 인정함. \n",
    "- `.ipynb` 파일 형태로 LMS에 제출된 답안지만 채점하며 그 외의 형식 (`.hwp`등)은 채점하지 않음. 즉 0점 처리함. **제출방법 모르면 물어볼것!**\n",
    "- 부정행위 (카카오톡 채팅을 통한 코드공유, 생성형모델 사용, 대리시험 등) 적발시 F 처리함. \n",
    "- 퀴즈 중 지각할 경우 지각사실을 기록함 (일반적으로 지각에 대한 별다른 감점은 부여하지 않을 예정임)\n",
    "\n",
    ":::\n"
   ]
  },
  {
   "cell_type": "code",
   "execution_count": 2,
   "metadata": {},
   "outputs": [],
   "source": [
    "import numpy as np"
   ]
  },
  {
   "cell_type": "markdown",
   "metadata": {},
   "source": [
    "# 1. 20점"
   ]
  },
  {
   "cell_type": "markdown",
   "metadata": {},
   "source": [
    "아래의 코드를 관찰하고 올바르게 해석한 학생을 모두 골라라. "
   ]
  },
  {
   "cell_type": "markdown",
   "metadata": {},
   "source": [
    "> 올바르게 해석한 학생을 모두 정확하게 맞출경우만 20점으로 인정하고 그 외의는 0점 처리함"
   ]
  },
  {
   "cell_type": "code",
   "execution_count": 22,
   "metadata": {},
   "outputs": [
    {
     "name": "stdout",
     "output_type": "stream",
     "text": [
      "Buddy barks.\n"
     ]
    }
   ],
   "source": [
    "# 부모 클래스\n",
    "class Animal:\n",
    "    def __init__(self, name):\n",
    "        self.name = name\n",
    "\n",
    "    def speak(self):\n",
    "        return f\"{self.name} makes a sound.\"\n",
    "\n",
    "# 자식 클래스\n",
    "class Dog(Animal):\n",
    "    def speak(self):\n",
    "        return f\"{self.name} barks.\"\n",
    "\n",
    "# 인스턴스 생성\n",
    "my_dog = Dog(\"Buddy\")\n",
    "print(my_dog.speak())  # Buddy barks."
   ]
  },
  {
   "cell_type": "markdown",
   "metadata": {},
   "source": [
    "`명수`: `Animal` 클래스의 `__init__` 메서드는 `Dog` 클래스의 인스턴스가 생성될 때 자동으로 호출된다.\n",
    "\n",
    "`준하`: `Dog` 클래스는 `Animal` 클래스를 상속받고 있다.\n",
    "\n",
    "`재석`: `Dog` 클래스에서 `speak` 메서드를 재정의하지 않았다면, `my_dog.speak()`의 출력은 “Buddy makes a sound.“가 될 것이다.\n",
    "\n",
    "`형돈`: `my_dog` 인스턴스는 `speak` 메서드를 호출할 때, `Animal` 클래스의 `speak` 메서드를 사용한다.\n",
    "\n",
    "`하하`: `Animal` 클래스는 `object` 클래스를 상속받는다. 이는 `Animal.mro()`로 확인할 수 있다. "
   ]
  }
 ],
 "metadata": {
  "kernelspec": {
   "display_name": "base",
   "language": "python",
   "name": "python3"
  },
  "language_info": {
   "codemirror_mode": {
    "name": "ipython",
    "version": 3
   },
   "file_extension": ".py",
   "mimetype": "text/x-python",
   "name": "python",
   "nbconvert_exporter": "python",
   "pygments_lexer": "ipython3",
   "version": "3.12.4"
  }
 },
 "nbformat": 4,
 "nbformat_minor": 2
}
