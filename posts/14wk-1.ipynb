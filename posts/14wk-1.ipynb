{
 "cells": [
  {
   "cell_type": "raw",
   "id": "37a7a92e-ceb2-476e-a1e9-d08c1fb7dd85",
   "metadata": {
    "vscode": {
     "languageId": "raw"
    }
   },
   "source": [
    "---\n",
    "title: \"14wk-1: 타이타닉 데이터 분석\"\n",
    "author: \"최규빈\"\n",
    "date: \"12/06/2024\"\n",
    "---"
   ]
  },
  {
   "attachments": {},
   "cell_type": "markdown",
   "id": "90b40a02-2dbb-4d39-b1fd-8ffd4ed5855c",
   "metadata": {},
   "source": [
    "- 첫제출: <https://guebin.github.io/MP2023/posts/02wk-03.html>\n",
    "- Alexis Cook의 코드: <https://guebin.github.io/MP2023/posts/02wk-04.html>\n",
    "- Autogluon: <https://guebin.github.io/MP2023/posts/02wk-05.html>\n",
    "- Autogluon (Fsize): <https://guebin.github.io/MP2023/posts/02wk-06.html>\n",
    "- Autogluon (Fsize,Drop): <https://guebin.github.io/MP2023/posts/02wk-07.html>\n",
    "- Autogluon (best_quality): <https://guebin.github.io/MP2023/posts/02wk-08.html>"
   ]
  }
 ],
 "metadata": {
  "kernelspec": {
   "display_name": "Python 3 (ipykernel)",
   "language": "python",
   "name": "python3"
  },
  "language_info": {
   "codemirror_mode": {
    "name": "ipython",
    "version": 3
   },
   "file_extension": ".py",
   "mimetype": "text/x-python",
   "name": "python",
   "nbconvert_exporter": "python",
   "pygments_lexer": "ipython3",
   "version": "3.12.2"
  }
 },
 "nbformat": 4,
 "nbformat_minor": 5
}
