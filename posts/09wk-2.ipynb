{
 "cells": [
  {
   "cell_type": "raw",
   "metadata": {
    "vscode": {
     "languageId": "raw"
    }
   },
   "source": [
    "---\n",
    "title: \"09wk-2: `model`의 입력파악, `model`의 사용연습\"\n",
    "author: \"최규빈\"\n",
    "date: \"11/09/2024\"\n",
    "draft: false\n",
    "---"
   ]
  },
  {
   "cell_type": "markdown",
   "metadata": {},
   "source": [
    "<a href=\"https://colab.research.google.com/github/guebin/MP2024/blob/main/posts/09wk-2.ipynb\"><img src=\"https://colab.research.google.com/assets/colab-badge.svg\" style=\"text-align: left\"></a>"
   ]
  },
  {
   "cell_type": "markdown",
   "metadata": {},
   "source": [
    "# 1. 강의영상 "
   ]
  },
  {
   "cell_type": "markdown",
   "metadata": {},
   "source": [
    "{{<video https://youtu.be/playlist?list=PLQqh36zP38-xsRgsXpLEUNWClxLi0N9Mk&si=Lssxzw70RRT1adiJ >}}"
   ]
  },
  {
   "cell_type": "code",
   "execution_count": 1,
   "metadata": {},
   "outputs": [
    {
     "name": "stdout",
     "output_type": "stream",
     "text": [
      "Found existing installation: mp2024pkg 1.0\n",
      "Uninstalling mp2024pkg-1.0:\n",
      "  Successfully uninstalled mp2024pkg-1.0\n",
      "Collecting git+https://github.com/guebin/mp2024pkg.git\n",
      "  Cloning https://github.com/guebin/mp2024pkg.git to /tmp/pip-req-build-492c7x4k\n",
      "  Running command git clone --filter=blob:none --quiet https://github.com/guebin/mp2024pkg.git /tmp/pip-req-build-492c7x4k\n",
      "  Resolved https://github.com/guebin/mp2024pkg.git to commit 86f7741f20beb99dd57ed2b534528db30a70bc9a\n",
      "  Preparing metadata (setup.py) ... \u001b[?25ldone\n",
      "\u001b[?25hBuilding wheels for collected packages: mp2024pkg\n",
      "  Building wheel for mp2024pkg (setup.py) ... \u001b[?25ldone\n",
      "\u001b[?25h  Created wheel for mp2024pkg: filename=mp2024pkg-1.0-py3-none-any.whl size=4451 sha256=b6b72746e5060e0eb30557ba6504f7373ca350a03fc67ce274b8ed116955fdf8\n",
      "  Stored in directory: /tmp/pip-ephem-wheel-cache-uvqwgvtd/wheels/83/81/b1/63c03ca869bb1a35a588dce54e83ea32c6c21e6af0bbeaa640\n",
      "Successfully built mp2024pkg\n",
      "Installing collected packages: mp2024pkg\n",
      "Successfully installed mp2024pkg-1.0\n"
     ]
    }
   ],
   "source": [
    "!pip uninstall mp2024pkg -y \n",
    "!pip install git+https://github.com/guebin/mp2024pkg.git"
   ]
  },
  {
   "cell_type": "markdown",
   "metadata": {},
   "source": [
    "# 2. Imports "
   ]
  },
  {
   "cell_type": "code",
   "execution_count": 2,
   "metadata": {},
   "outputs": [
    {
     "name": "stderr",
     "output_type": "stream",
     "text": [
      "/home/cgb3/anaconda3/envs/hf/lib/python3.12/site-packages/tqdm/auto.py:21: TqdmWarning: IProgress not found. Please update jupyter and ipywidgets. See https://ipywidgets.readthedocs.io/en/stable/user_install.html\n",
      "  from .autonotebook import tqdm as notebook_tqdm\n"
     ]
    }
   ],
   "source": [
    "import transformers\n",
    "import datasets\n",
    "import huggingface_hub\n",
    "import torch\n",
    "import torchvision\n",
    "import pytorchvideo.data\n",
    "import PIL\n",
    "import tarfile\n",
    "import mp2024pkg as mp"
   ]
  },
  {
   "cell_type": "markdown",
   "metadata": {},
   "source": [
    "# 3. Model 입력파악"
   ]
  },
  {
   "cell_type": "markdown",
   "metadata": {},
   "source": [
    "`-` 아래중 하나의 방법순으로.. \n",
    "\n",
    "- 방법1: `model.forward?` 에서 시그니처를 확인\n",
    "- 방법2: `model.forward?` 에서 사용예제를 확인\n",
    "- 방법3: 인터넷을 활용한 외부 자료 확인 (공식문서, 공식튜토리얼, 신뢰할만한 블로그, ChatGPT등)\n",
    "- 방법4: `model.forward??` 를 보고 모든 코드를 뜯어봄 <--- 하지마세요"
   ]
  },
  {
   "cell_type": "markdown",
   "metadata": {},
   "source": [
    "`-` 모델의 입력이 어떤형태로 정리되어야 하는지 알아내는 확실한 방법은 없음 \n",
    "\n",
    "- 방법1,2,3 은 다른사람의 호의에 기대해야함.\n",
    "- 방법4는 사실상 불가능"
   ]
  },
  {
   "cell_type": "markdown",
   "metadata": {},
   "source": [
    "`# 예제1` -- 텍스트분류"
   ]
  },
  {
   "cell_type": "code",
   "execution_count": 3,
   "metadata": {},
   "outputs": [
    {
     "name": "stderr",
     "output_type": "stream",
     "text": [
      "Some weights of DistilBertForSequenceClassification were not initialized from the model checkpoint at distilbert/distilbert-base-uncased and are newly initialized: ['classifier.bias', 'classifier.weight', 'pre_classifier.bias', 'pre_classifier.weight']\n",
      "You should probably TRAIN this model on a down-stream task to be able to use it for predictions and inference.\n"
     ]
    }
   ],
   "source": [
    "model1 = transformers.AutoModelForSequenceClassification.from_pretrained(\n",
    "    \"distilbert/distilbert-base-uncased\", num_labels=2\n",
    ")"
   ]
  },
  {
   "cell_type": "markdown",
   "metadata": {},
   "source": [
    "*모델의 기본정보(config)*"
   ]
  },
  {
   "cell_type": "code",
   "execution_count": 4,
   "metadata": {},
   "outputs": [
    {
     "data": {
      "text/plain": [
       "DistilBertConfig {\n",
       "  \"_attn_implementation_autoset\": true,\n",
       "  \"_name_or_path\": \"distilbert/distilbert-base-uncased\",\n",
       "  \"activation\": \"gelu\",\n",
       "  \"architectures\": [\n",
       "    \"DistilBertForMaskedLM\"\n",
       "  ],\n",
       "  \"attention_dropout\": 0.1,\n",
       "  \"dim\": 768,\n",
       "  \"dropout\": 0.1,\n",
       "  \"hidden_dim\": 3072,\n",
       "  \"initializer_range\": 0.02,\n",
       "  \"max_position_embeddings\": 512,\n",
       "  \"model_type\": \"distilbert\",\n",
       "  \"n_heads\": 12,\n",
       "  \"n_layers\": 6,\n",
       "  \"pad_token_id\": 0,\n",
       "  \"qa_dropout\": 0.1,\n",
       "  \"seq_classif_dropout\": 0.2,\n",
       "  \"sinusoidal_pos_embds\": false,\n",
       "  \"tie_weights_\": true,\n",
       "  \"transformers_version\": \"4.46.2\",\n",
       "  \"vocab_size\": 30522\n",
       "}"
      ]
     },
     "execution_count": 4,
     "metadata": {},
     "output_type": "execute_result"
    }
   ],
   "source": [
    "model1.config"
   ]
  },
  {
   "cell_type": "markdown",
   "metadata": {},
   "source": [
    "- max_position_embeddings: 512"
   ]
  },
  {
   "cell_type": "markdown",
   "metadata": {},
   "source": [
    "*모델의 입력파악*"
   ]
  },
  {
   "cell_type": "code",
   "execution_count": 5,
   "metadata": {},
   "outputs": [
    {
     "data": {
      "text/plain": [
       "\u001b[0;31mSignature:\u001b[0m\n",
       "\u001b[0mmodel1\u001b[0m\u001b[0;34m.\u001b[0m\u001b[0mforward\u001b[0m\u001b[0;34m(\u001b[0m\u001b[0;34m\u001b[0m\n",
       "\u001b[0;34m\u001b[0m    \u001b[0minput_ids\u001b[0m\u001b[0;34m:\u001b[0m \u001b[0mOptional\u001b[0m\u001b[0;34m[\u001b[0m\u001b[0mtorch\u001b[0m\u001b[0;34m.\u001b[0m\u001b[0mTensor\u001b[0m\u001b[0;34m]\u001b[0m \u001b[0;34m=\u001b[0m \u001b[0;32mNone\u001b[0m\u001b[0;34m,\u001b[0m\u001b[0;34m\u001b[0m\n",
       "\u001b[0;34m\u001b[0m    \u001b[0mattention_mask\u001b[0m\u001b[0;34m:\u001b[0m \u001b[0mOptional\u001b[0m\u001b[0;34m[\u001b[0m\u001b[0mtorch\u001b[0m\u001b[0;34m.\u001b[0m\u001b[0mTensor\u001b[0m\u001b[0;34m]\u001b[0m \u001b[0;34m=\u001b[0m \u001b[0;32mNone\u001b[0m\u001b[0;34m,\u001b[0m\u001b[0;34m\u001b[0m\n",
       "\u001b[0;34m\u001b[0m    \u001b[0mhead_mask\u001b[0m\u001b[0;34m:\u001b[0m \u001b[0mOptional\u001b[0m\u001b[0;34m[\u001b[0m\u001b[0mtorch\u001b[0m\u001b[0;34m.\u001b[0m\u001b[0mTensor\u001b[0m\u001b[0;34m]\u001b[0m \u001b[0;34m=\u001b[0m \u001b[0;32mNone\u001b[0m\u001b[0;34m,\u001b[0m\u001b[0;34m\u001b[0m\n",
       "\u001b[0;34m\u001b[0m    \u001b[0minputs_embeds\u001b[0m\u001b[0;34m:\u001b[0m \u001b[0mOptional\u001b[0m\u001b[0;34m[\u001b[0m\u001b[0mtorch\u001b[0m\u001b[0;34m.\u001b[0m\u001b[0mTensor\u001b[0m\u001b[0;34m]\u001b[0m \u001b[0;34m=\u001b[0m \u001b[0;32mNone\u001b[0m\u001b[0;34m,\u001b[0m\u001b[0;34m\u001b[0m\n",
       "\u001b[0;34m\u001b[0m    \u001b[0mlabels\u001b[0m\u001b[0;34m:\u001b[0m \u001b[0mOptional\u001b[0m\u001b[0;34m[\u001b[0m\u001b[0mtorch\u001b[0m\u001b[0;34m.\u001b[0m\u001b[0mLongTensor\u001b[0m\u001b[0;34m]\u001b[0m \u001b[0;34m=\u001b[0m \u001b[0;32mNone\u001b[0m\u001b[0;34m,\u001b[0m\u001b[0;34m\u001b[0m\n",
       "\u001b[0;34m\u001b[0m    \u001b[0moutput_attentions\u001b[0m\u001b[0;34m:\u001b[0m \u001b[0mOptional\u001b[0m\u001b[0;34m[\u001b[0m\u001b[0mbool\u001b[0m\u001b[0;34m]\u001b[0m \u001b[0;34m=\u001b[0m \u001b[0;32mNone\u001b[0m\u001b[0;34m,\u001b[0m\u001b[0;34m\u001b[0m\n",
       "\u001b[0;34m\u001b[0m    \u001b[0moutput_hidden_states\u001b[0m\u001b[0;34m:\u001b[0m \u001b[0mOptional\u001b[0m\u001b[0;34m[\u001b[0m\u001b[0mbool\u001b[0m\u001b[0;34m]\u001b[0m \u001b[0;34m=\u001b[0m \u001b[0;32mNone\u001b[0m\u001b[0;34m,\u001b[0m\u001b[0;34m\u001b[0m\n",
       "\u001b[0;34m\u001b[0m    \u001b[0mreturn_dict\u001b[0m\u001b[0;34m:\u001b[0m \u001b[0mOptional\u001b[0m\u001b[0;34m[\u001b[0m\u001b[0mbool\u001b[0m\u001b[0;34m]\u001b[0m \u001b[0;34m=\u001b[0m \u001b[0;32mNone\u001b[0m\u001b[0;34m,\u001b[0m\u001b[0;34m\u001b[0m\n",
       "\u001b[0;34m\u001b[0m\u001b[0;34m)\u001b[0m \u001b[0;34m->\u001b[0m \u001b[0mUnion\u001b[0m\u001b[0;34m[\u001b[0m\u001b[0mtransformers\u001b[0m\u001b[0;34m.\u001b[0m\u001b[0mmodeling_outputs\u001b[0m\u001b[0;34m.\u001b[0m\u001b[0mSequenceClassifierOutput\u001b[0m\u001b[0;34m,\u001b[0m \u001b[0mTuple\u001b[0m\u001b[0;34m[\u001b[0m\u001b[0mtorch\u001b[0m\u001b[0;34m.\u001b[0m\u001b[0mTensor\u001b[0m\u001b[0;34m,\u001b[0m \u001b[0;34m...\u001b[0m\u001b[0;34m]\u001b[0m\u001b[0;34m]\u001b[0m\u001b[0;34m\u001b[0m\u001b[0;34m\u001b[0m\u001b[0m\n",
       "\u001b[0;31mDocstring:\u001b[0m\n",
       "The [`DistilBertForSequenceClassification`] forward method, overrides the `__call__` special method.\n",
       "\n",
       "<Tip>\n",
       "\n",
       "Although the recipe for forward pass needs to be defined within this function, one should call the [`Module`]\n",
       "instance afterwards instead of this since the former takes care of running the pre and post processing steps while\n",
       "the latter silently ignores them.\n",
       "\n",
       "</Tip>\n",
       "\n",
       "Args:\n",
       "    input_ids (`torch.LongTensor` of shape `(batch_size, sequence_length)`):\n",
       "        Indices of input sequence tokens in the vocabulary.\n",
       "\n",
       "        Indices can be obtained using [`AutoTokenizer`]. See [`PreTrainedTokenizer.encode`] and\n",
       "        [`PreTrainedTokenizer.__call__`] for details.\n",
       "\n",
       "        [What are input IDs?](../glossary#input-ids)\n",
       "    attention_mask (`torch.FloatTensor` of shape `(batch_size, sequence_length)`, *optional*):\n",
       "        Mask to avoid performing attention on padding token indices. Mask values selected in `[0, 1]`:\n",
       "\n",
       "        - 1 for tokens that are **not masked**,\n",
       "        - 0 for tokens that are **masked**.\n",
       "\n",
       "        [What are attention masks?](../glossary#attention-mask)\n",
       "    head_mask (`torch.FloatTensor` of shape `(num_heads,)` or `(num_layers, num_heads)`, *optional*):\n",
       "        Mask to nullify selected heads of the self-attention modules. Mask values selected in `[0, 1]`:\n",
       "\n",
       "        - 1 indicates the head is **not masked**,\n",
       "        - 0 indicates the head is **masked**.\n",
       "\n",
       "    inputs_embeds (`torch.FloatTensor` of shape `(batch_size, sequence_length, hidden_size)`, *optional*):\n",
       "        Optionally, instead of passing `input_ids` you can choose to directly pass an embedded representation. This\n",
       "        is useful if you want more control over how to convert `input_ids` indices into associated vectors than the\n",
       "        model's internal embedding lookup matrix.\n",
       "    output_attentions (`bool`, *optional*):\n",
       "        Whether or not to return the attentions tensors of all attention layers. See `attentions` under returned\n",
       "        tensors for more detail.\n",
       "    output_hidden_states (`bool`, *optional*):\n",
       "        Whether or not to return the hidden states of all layers. See `hidden_states` under returned tensors for\n",
       "        more detail.\n",
       "    return_dict (`bool`, *optional*):\n",
       "        Whether or not to return a [`~utils.ModelOutput`] instead of a plain tuple.\n",
       "\n",
       "    labels (`torch.LongTensor` of shape `(batch_size,)`, *optional*):\n",
       "        Labels for computing the sequence classification/regression loss. Indices should be in `[0, ...,\n",
       "        config.num_labels - 1]`. If `config.num_labels == 1` a regression loss is computed (Mean-Square loss), If\n",
       "        `config.num_labels > 1` a classification loss is computed (Cross-Entropy).\n",
       "    \n",
       "Returns:\n",
       "    [`transformers.modeling_outputs.SequenceClassifierOutput`] or `tuple(torch.FloatTensor)`: A [`transformers.modeling_outputs.SequenceClassifierOutput`] or a tuple of\n",
       "    `torch.FloatTensor` (if `return_dict=False` is passed or when `config.return_dict=False`) comprising various\n",
       "    elements depending on the configuration ([`DistilBertConfig`]) and inputs.\n",
       "\n",
       "    - **loss** (`torch.FloatTensor` of shape `(1,)`, *optional*, returned when `labels` is provided) -- Classification (or regression if config.num_labels==1) loss.\n",
       "    - **logits** (`torch.FloatTensor` of shape `(batch_size, config.num_labels)`) -- Classification (or regression if config.num_labels==1) scores (before SoftMax).\n",
       "    - **hidden_states** (`tuple(torch.FloatTensor)`, *optional*, returned when `output_hidden_states=True` is passed or when `config.output_hidden_states=True`) -- Tuple of `torch.FloatTensor` (one for the output of the embeddings, if the model has an embedding layer, +\n",
       "      one for the output of each layer) of shape `(batch_size, sequence_length, hidden_size)`.\n",
       "\n",
       "      Hidden-states of the model at the output of each layer plus the optional initial embedding outputs.\n",
       "    - **attentions** (`tuple(torch.FloatTensor)`, *optional*, returned when `output_attentions=True` is passed or when `config.output_attentions=True`) -- Tuple of `torch.FloatTensor` (one for each layer) of shape `(batch_size, num_heads, sequence_length,\n",
       "      sequence_length)`.\n",
       "\n",
       "      Attentions weights after the attention softmax, used to compute the weighted average in the self-attention\n",
       "      heads.\n",
       "\n",
       "Example of single-label classification:\n",
       "\n",
       "```python\n",
       ">>> import torch\n",
       ">>> from transformers import AutoTokenizer, DistilBertForSequenceClassification\n",
       "\n",
       ">>> tokenizer = AutoTokenizer.from_pretrained(\"distilbert-base-uncased\")\n",
       ">>> model = DistilBertForSequenceClassification.from_pretrained(\"distilbert-base-uncased\")\n",
       "\n",
       ">>> inputs = tokenizer(\"Hello, my dog is cute\", return_tensors=\"pt\")\n",
       "\n",
       ">>> with torch.no_grad():\n",
       "...     logits = model(**inputs).logits\n",
       "\n",
       ">>> predicted_class_id = logits.argmax().item()\n",
       "\n",
       ">>> # To train a model on `num_labels` classes, you can pass `num_labels=num_labels` to `.from_pretrained(...)`\n",
       ">>> num_labels = len(model.config.id2label)\n",
       ">>> model = DistilBertForSequenceClassification.from_pretrained(\"distilbert-base-uncased\", num_labels=num_labels)\n",
       "\n",
       ">>> labels = torch.tensor([1])\n",
       ">>> loss = model(**inputs, labels=labels).loss\n",
       "```\n",
       "\n",
       "Example of multi-label classification:\n",
       "\n",
       "```python\n",
       ">>> import torch\n",
       ">>> from transformers import AutoTokenizer, DistilBertForSequenceClassification\n",
       "\n",
       ">>> tokenizer = AutoTokenizer.from_pretrained(\"distilbert-base-uncased\")\n",
       ">>> model = DistilBertForSequenceClassification.from_pretrained(\"distilbert-base-uncased\", problem_type=\"multi_label_classification\")\n",
       "\n",
       ">>> inputs = tokenizer(\"Hello, my dog is cute\", return_tensors=\"pt\")\n",
       "\n",
       ">>> with torch.no_grad():\n",
       "...     logits = model(**inputs).logits\n",
       "\n",
       ">>> predicted_class_ids = torch.arange(0, logits.shape[-1])[torch.sigmoid(logits).squeeze(dim=0) > 0.5]\n",
       "\n",
       ">>> # To train a model on `num_labels` classes, you can pass `num_labels=num_labels` to `.from_pretrained(...)`\n",
       ">>> num_labels = len(model.config.id2label)\n",
       ">>> model = DistilBertForSequenceClassification.from_pretrained(\n",
       "...     \"distilbert-base-uncased\", num_labels=num_labels, problem_type=\"multi_label_classification\"\n",
       "... )\n",
       "\n",
       ">>> labels = torch.sum(\n",
       "...     torch.nn.functional.one_hot(predicted_class_ids[None, :].clone(), num_classes=num_labels), dim=1\n",
       "... ).to(torch.float)\n",
       ">>> loss = model(**inputs, labels=labels).loss\n",
       "```\n",
       "\u001b[0;31mFile:\u001b[0m      ~/anaconda3/envs/hf/lib/python3.12/site-packages/transformers/models/distilbert/modeling_distilbert.py\n",
       "\u001b[0;31mType:\u001b[0m      method"
      ]
     },
     "metadata": {},
     "output_type": "display_data"
    }
   ],
   "source": [
    "model1.forward?"
   ]
  },
  {
   "cell_type": "markdown",
   "metadata": {},
   "source": [
    "*사용예시1 -- 입력나열, loss O*"
   ]
  },
  {
   "cell_type": "code",
   "execution_count": 6,
   "metadata": {},
   "outputs": [
    {
     "data": {
      "text/plain": [
       "SequenceClassifierOutput(loss=tensor(0.6902, grad_fn=<NllLossBackward0>), logits=tensor([[-0.0566, -0.0616],\n",
       "        [-0.0505, -0.0575]], grad_fn=<AddmmBackward0>), hidden_states=None, attentions=None)"
      ]
     },
     "execution_count": 6,
     "metadata": {},
     "output_type": "execute_result"
    }
   ],
   "source": [
    "model1(\n",
    "    input_ids = torch.tensor([[1,2,3,4], [2,3,4,5]]),\n",
    "    labels = torch.tensor([0,0])\n",
    ")"
   ]
  },
  {
   "cell_type": "markdown",
   "metadata": {},
   "source": [
    "*사용예시2 -- `**딕셔너리`, loss O*"
   ]
  },
  {
   "cell_type": "code",
   "execution_count": 7,
   "metadata": {},
   "outputs": [
    {
     "data": {
      "text/plain": [
       "SequenceClassifierOutput(loss=tensor(0.6902, grad_fn=<NllLossBackward0>), logits=tensor([[-0.0566, -0.0616],\n",
       "        [-0.0505, -0.0575]], grad_fn=<AddmmBackward0>), hidden_states=None, attentions=None)"
      ]
     },
     "execution_count": 7,
     "metadata": {},
     "output_type": "execute_result"
    }
   ],
   "source": [
    "model1_input = dict(\n",
    "    input_ids = torch.tensor([[1,2,3,4], [2,3,4,5]]),\n",
    "    labels = torch.tensor([0,0])\n",
    ")\n",
    "model1(**model1_input)"
   ]
  },
  {
   "cell_type": "markdown",
   "metadata": {},
   "source": [
    "*사용예시3 -- 입력나열, loss X*"
   ]
  },
  {
   "cell_type": "code",
   "execution_count": 8,
   "metadata": {},
   "outputs": [
    {
     "data": {
      "text/plain": [
       "SequenceClassifierOutput(loss=None, logits=tensor([[-0.0566, -0.0616],\n",
       "        [-0.0505, -0.0575]], grad_fn=<AddmmBackward0>), hidden_states=None, attentions=None)"
      ]
     },
     "execution_count": 8,
     "metadata": {},
     "output_type": "execute_result"
    }
   ],
   "source": [
    "model1(\n",
    "    input_ids = torch.tensor([[1,2,3,4], [2,3,4,5]])\n",
    ")"
   ]
  },
  {
   "cell_type": "markdown",
   "metadata": {},
   "source": [
    "*사용예시4 -- `**딕셔너리`, loss X*"
   ]
  },
  {
   "cell_type": "code",
   "execution_count": 9,
   "metadata": {},
   "outputs": [
    {
     "data": {
      "text/plain": [
       "SequenceClassifierOutput(loss=None, logits=tensor([[-0.0566, -0.0616],\n",
       "        [-0.0505, -0.0575]], grad_fn=<AddmmBackward0>), hidden_states=None, attentions=None)"
      ]
     },
     "execution_count": 9,
     "metadata": {},
     "output_type": "execute_result"
    }
   ],
   "source": [
    "model1_input = dict(\n",
    "    input_ids = torch.tensor([[1,2,3,4], [2,3,4,5]])\n",
    ")\n",
    "model1(**model1_input)"
   ]
  },
  {
   "cell_type": "markdown",
   "metadata": {},
   "source": [
    "*사용예시5 -- 초간단, loss X*"
   ]
  },
  {
   "cell_type": "code",
   "execution_count": 10,
   "metadata": {},
   "outputs": [
    {
     "data": {
      "text/plain": [
       "SequenceClassifierOutput(loss=None, logits=tensor([[-0.0566, -0.0616],\n",
       "        [-0.0505, -0.0575]], grad_fn=<AddmmBackward0>), hidden_states=None, attentions=None)"
      ]
     },
     "execution_count": 10,
     "metadata": {},
     "output_type": "execute_result"
    }
   ],
   "source": [
    "model1(torch.tensor([[1,2,3,4], [2,3,4,5]]))"
   ]
  },
  {
   "cell_type": "markdown",
   "metadata": {},
   "source": [
    "> 사용예시1~5에서 `model1()` 대신에 `model1.forward()`를 사용해도 된다. "
   ]
  },
  {
   "cell_type": "markdown",
   "metadata": {},
   "source": [
    "`#`"
   ]
  },
  {
   "cell_type": "markdown",
   "metadata": {},
   "source": [
    "`# 예제2` -- 이미지분류"
   ]
  },
  {
   "cell_type": "code",
   "execution_count": 11,
   "metadata": {},
   "outputs": [
    {
     "name": "stderr",
     "output_type": "stream",
     "text": [
      "Some weights of ViTForImageClassification were not initialized from the model checkpoint at google/vit-base-patch16-224-in21k and are newly initialized: ['classifier.bias', 'classifier.weight']\n",
      "You should probably TRAIN this model on a down-stream task to be able to use it for predictions and inference.\n"
     ]
    }
   ],
   "source": [
    "model2 = transformers.AutoModelForImageClassification.from_pretrained(\n",
    "    \"google/vit-base-patch16-224-in21k\",\n",
    "    num_labels=3 # 그냥 대충 3이라고 했음.. 별 이유는 없음\n",
    ")"
   ]
  },
  {
   "cell_type": "markdown",
   "metadata": {},
   "source": [
    "*모델의 기본정보(config)*"
   ]
  },
  {
   "cell_type": "code",
   "execution_count": 12,
   "metadata": {},
   "outputs": [
    {
     "data": {
      "text/plain": [
       "ViTConfig {\n",
       "  \"_attn_implementation_autoset\": true,\n",
       "  \"_name_or_path\": \"google/vit-base-patch16-224-in21k\",\n",
       "  \"architectures\": [\n",
       "    \"ViTModel\"\n",
       "  ],\n",
       "  \"attention_probs_dropout_prob\": 0.0,\n",
       "  \"encoder_stride\": 16,\n",
       "  \"hidden_act\": \"gelu\",\n",
       "  \"hidden_dropout_prob\": 0.0,\n",
       "  \"hidden_size\": 768,\n",
       "  \"id2label\": {\n",
       "    \"0\": \"LABEL_0\",\n",
       "    \"1\": \"LABEL_1\",\n",
       "    \"2\": \"LABEL_2\"\n",
       "  },\n",
       "  \"image_size\": 224,\n",
       "  \"initializer_range\": 0.02,\n",
       "  \"intermediate_size\": 3072,\n",
       "  \"label2id\": {\n",
       "    \"LABEL_0\": 0,\n",
       "    \"LABEL_1\": 1,\n",
       "    \"LABEL_2\": 2\n",
       "  },\n",
       "  \"layer_norm_eps\": 1e-12,\n",
       "  \"model_type\": \"vit\",\n",
       "  \"num_attention_heads\": 12,\n",
       "  \"num_channels\": 3,\n",
       "  \"num_hidden_layers\": 12,\n",
       "  \"patch_size\": 16,\n",
       "  \"qkv_bias\": true,\n",
       "  \"transformers_version\": \"4.46.2\"\n",
       "}"
      ]
     },
     "execution_count": 12,
     "metadata": {},
     "output_type": "execute_result"
    }
   ],
   "source": [
    "model2.config"
   ]
  },
  {
   "cell_type": "markdown",
   "metadata": {},
   "source": [
    "- image_size: 224"
   ]
  },
  {
   "cell_type": "code",
   "execution_count": 13,
   "metadata": {},
   "outputs": [
    {
     "name": "stderr",
     "output_type": "stream",
     "text": [
      "`loss_type=None` was set in the config but it is unrecognised.Using the default loss: `ForCausalLMLoss`.\n"
     ]
    },
    {
     "data": {
      "text/html": [
       "<style type=\"text/css\">\n",
       "#T_ba02d_row0_col0, #T_ba02d_row1_col0, #T_ba02d_row2_col0, #T_ba02d_row3_col0, #T_ba02d_row4_col0, #T_ba02d_row5_col0, #T_ba02d_row6_col0, #T_ba02d_row7_col0, #T_ba02d_row8_col0, #T_ba02d_row9_col0, #T_ba02d_row10_col0, #T_ba02d_row11_col0, #T_ba02d_row12_col0, #T_ba02d_row13_col0, #T_ba02d_row14_col0, #T_ba02d_row15_col0, #T_ba02d_row16_col0, #T_ba02d_row17_col0, #T_ba02d_row18_col0, #T_ba02d_row19_col0, #T_ba02d_row20_col0, #T_ba02d_row21_col0, #T_ba02d_row22_col0, #T_ba02d_row23_col0, #T_ba02d_row24_col0, #T_ba02d_row25_col0, #T_ba02d_row26_col0, #T_ba02d_row27_col0, #T_ba02d_row28_col0, #T_ba02d_row29_col0, #T_ba02d_row30_col0, #T_ba02d_row31_col0, #T_ba02d_row32_col0, #T_ba02d_row33_col0, #T_ba02d_row34_col0, #T_ba02d_row35_col0, #T_ba02d_row36_col0, #T_ba02d_row37_col0, #T_ba02d_row38_col0, #T_ba02d_row39_col0, #T_ba02d_row40_col0, #T_ba02d_row41_col0, #T_ba02d_row42_col0, #T_ba02d_row43_col0, #T_ba02d_row44_col0, #T_ba02d_row45_col0, #T_ba02d_row46_col0, #T_ba02d_row47_col0, #T_ba02d_row48_col0, #T_ba02d_row49_col0, #T_ba02d_row50_col0, #T_ba02d_row51_col0, #T_ba02d_row52_col0, #T_ba02d_row53_col0, #T_ba02d_row54_col0, #T_ba02d_row55_col0, #T_ba02d_row56_col0, #T_ba02d_row57_col0, #T_ba02d_row58_col0, #T_ba02d_row59_col0, #T_ba02d_row60_col0, #T_ba02d_row61_col0, #T_ba02d_row62_col0, #T_ba02d_row63_col0, #T_ba02d_row64_col0, #T_ba02d_row65_col0, #T_ba02d_row66_col0, #T_ba02d_row67_col0, #T_ba02d_row68_col0, #T_ba02d_row69_col0, #T_ba02d_row70_col0, #T_ba02d_row71_col0, #T_ba02d_row72_col0, #T_ba02d_row73_col0, #T_ba02d_row74_col0, #T_ba02d_row75_col0, #T_ba02d_row76_col0, #T_ba02d_row77_col0, #T_ba02d_row78_col0, #T_ba02d_row79_col0, #T_ba02d_row80_col0, #T_ba02d_row81_col0, #T_ba02d_row82_col0, #T_ba02d_row83_col0, #T_ba02d_row84_col0, #T_ba02d_row85_col0, #T_ba02d_row86_col0, #T_ba02d_row87_col0, #T_ba02d_row88_col0, #T_ba02d_row89_col0, #T_ba02d_row90_col0, #T_ba02d_row91_col0, #T_ba02d_row92_col0, #T_ba02d_row93_col0, #T_ba02d_row94_col0, #T_ba02d_row95_col0, #T_ba02d_row96_col0, #T_ba02d_row97_col0, #T_ba02d_row98_col0, #T_ba02d_row99_col0, #T_ba02d_row100_col0, #T_ba02d_row101_col0, #T_ba02d_row102_col0, #T_ba02d_row103_col0, #T_ba02d_row104_col0, #T_ba02d_row105_col0, #T_ba02d_row106_col0, #T_ba02d_row107_col0, #T_ba02d_row108_col0, #T_ba02d_row109_col0, #T_ba02d_row110_col0, #T_ba02d_row111_col0, #T_ba02d_row112_col0, #T_ba02d_row113_col0, #T_ba02d_row114_col0, #T_ba02d_row115_col0, #T_ba02d_row116_col0 {\n",
       "  text-align: left;\n",
       "}\n",
       "</style>\n",
       "<table id=\"T_ba02d\">\n",
       "  <thead>\n",
       "    <tr>\n",
       "      <th class=\"blank\" >&nbsp;</th>\n",
       "      <th class=\"blank level0\" >&nbsp;</th>\n",
       "      <th id=\"T_ba02d_level0_col0\" class=\"col_heading level0 col0\" >Description</th>\n",
       "    </tr>\n",
       "    <tr>\n",
       "      <th class=\"index_name level0\" >Type</th>\n",
       "      <th class=\"index_name level1\" >Name</th>\n",
       "      <th class=\"blank col0\" >&nbsp;</th>\n",
       "    </tr>\n",
       "  </thead>\n",
       "  <tbody>\n",
       "    <tr>\n",
       "      <th id=\"T_ba02d_level0_row0\" class=\"row_heading level0 row0\" >Linear</th>\n",
       "      <th id=\"T_ba02d_level1_row0\" class=\"row_heading level1 row0\" >classifier</th>\n",
       "      <td id=\"T_ba02d_row0_col0\" class=\"data row0 col0\" >Applies an affine linear transformation to the incoming data: :math:`y = xA^T + b`.\n",
       "\n",
       "This module supports :ref:`TensorFloat32<tf32_on_ampere>`.\n",
       "\n",
       "On certain ROCm devices, when using float16 inputs this module will use :ref:`different precision<fp16_on_mi200>` for backward.\n",
       "\n",
       "Args:\n",
       "    in_features: size of each input sample\n",
       "    out_features: size of each output sample\n",
       "    bias: If set to ``False``, the layer will not learn an additive bias.\n",
       "        Default: ``True``\n",
       "\n",
       "Shape:\n",
       "    - Input: :math:`(*, H_{in})` where :math:`*` means any number of\n",
       "      dimensions including none and :math:`H_{in} = \\text{in\\_features}`.\n",
       "    - Output: :math:`(*, H_{out})` where all but the last dimension\n",
       "      are the same shape as the input and :math:`H_{out} = \\text{out\\_features}`.\n",
       "\n",
       "Attributes:\n",
       "    weight: the learnable weights of the module of shape\n",
       "        :math:`(\\text{out\\_features}, \\text{in\\_features})`. The values are\n",
       "        initialized from :math:`\\mathcal{U}(-\\sqrt{k}, \\sqrt{k})`, where\n",
       "        :math:`k = \\frac{1}{\\text{in\\_features}}`\n",
       "    bias:   the learnable bias of the module of shape :math:`(\\text{out\\_features})`.\n",
       "            If :attr:`bias` is ``True``, the values are initialized from\n",
       "            :math:`\\mathcal{U}(-\\sqrt{k}, \\sqrt{k})` where\n",
       "            :math:`k = \\frac{1}{\\text{in\\_features}}`\n",
       "\n",
       "Examples::\n",
       "\n",
       "    >>> m = nn.Linear(20, 30)\n",
       "    >>> input = torch.randn(128, 20)\n",
       "    >>> output = m(input)\n",
       "    >>> print(output.size())\n",
       "    torch.Size([128, 30])</td>\n",
       "    </tr>\n",
       "    <tr>\n",
       "      <th id=\"T_ba02d_level0_row1\" class=\"row_heading level0 row1\" rowspan=\"2\">NoneType</th>\n",
       "      <th id=\"T_ba02d_level1_row1\" class=\"row_heading level1 row1\" >generation_config</th>\n",
       "      <td id=\"T_ba02d_row1_col0\" class=\"data row1 col0\" >None</td>\n",
       "    </tr>\n",
       "    <tr>\n",
       "      <th id=\"T_ba02d_level1_row2\" class=\"row_heading level1 row2\" >model_tags</th>\n",
       "      <td id=\"T_ba02d_row2_col0\" class=\"data row2 col0\" >None</td>\n",
       "    </tr>\n",
       "    <tr>\n",
       "      <th id=\"T_ba02d_level0_row3\" class=\"row_heading level0 row3\" >TypeVar</th>\n",
       "      <th id=\"T_ba02d_level1_row3\" class=\"row_heading level1 row3\" >T_destination</th>\n",
       "      <td id=\"T_ba02d_row3_col0\" class=\"data row3 col0\" >Type variable.\n",
       "\n",
       "The preferred way to construct a type variable is via the dedicated\n",
       "syntax for generic functions, classes, and type aliases::\n",
       "\n",
       "    class Sequence[T]:  # T is a TypeVar\n",
       "        ...\n",
       "\n",
       "This syntax can also be used to create bound and constrained type\n",
       "variables::\n",
       "\n",
       "    # S is a TypeVar bound to str\n",
       "    class StrSequence[S: str]:\n",
       "        ...\n",
       "\n",
       "    # A is a TypeVar constrained to str or bytes\n",
       "    class StrOrBytesSequence[A: (str, bytes)]:\n",
       "        ...\n",
       "\n",
       "However, if desired, reusable type variables can also be constructed\n",
       "manually, like so::\n",
       "\n",
       "   T = TypeVar('T')  # Can be anything\n",
       "   S = TypeVar('S', bound=str)  # Can be any subtype of str\n",
       "   A = TypeVar('A', str, bytes)  # Must be exactly str or bytes\n",
       "\n",
       "Type variables exist primarily for the benefit of static type\n",
       "checkers.  They serve as the parameters for generic types as well\n",
       "as for generic function and type alias definitions.\n",
       "\n",
       "The variance of type variables is inferred by type checkers when they\n",
       "are created through the type parameter syntax and when\n",
       "``infer_variance=True`` is passed. Manually created type variables may\n",
       "be explicitly marked covariant or contravariant by passing\n",
       "``covariant=True`` or ``contravariant=True``. By default, manually\n",
       "created type variables are invariant. See PEP 484 and PEP 695 for more\n",
       "details.</td>\n",
       "    </tr>\n",
       "    <tr>\n",
       "      <th id=\"T_ba02d_level0_row4\" class=\"row_heading level0 row4\" >ViTConfig</th>\n",
       "      <th id=\"T_ba02d_level1_row4\" class=\"row_heading level1 row4\" >config</th>\n",
       "      <td id=\"T_ba02d_row4_col0\" class=\"data row4 col0\" >This is the configuration class to store the configuration of a [`ViTModel`]. It is used to instantiate an ViT\n",
       "model according to the specified arguments, defining the model architecture. Instantiating a configuration with the\n",
       "defaults will yield a similar configuration to that of the ViT\n",
       "[google/vit-base-patch16-224](https://huggingface.co/google/vit-base-patch16-224) architecture.\n",
       "\n",
       "Configuration objects inherit from [`PretrainedConfig`] and can be used to control the model outputs. Read the\n",
       "documentation from [`PretrainedConfig`] for more information.\n",
       "\n",
       "\n",
       "Args:\n",
       "    hidden_size (`int`, *optional*, defaults to 768):\n",
       "        Dimensionality of the encoder layers and the pooler layer.\n",
       "    num_hidden_layers (`int`, *optional*, defaults to 12):\n",
       "        Number of hidden layers in the Transformer encoder.\n",
       "    num_attention_heads (`int`, *optional*, defaults to 12):\n",
       "        Number of attention heads for each attention layer in the Transformer encoder.\n",
       "    intermediate_size (`int`, *optional*, defaults to 3072):\n",
       "        Dimensionality of the \"intermediate\" (i.e., feed-forward) layer in the Transformer encoder.\n",
       "    hidden_act (`str` or `function`, *optional*, defaults to `\"gelu\"`):\n",
       "        The non-linear activation function (function or string) in the encoder and pooler. If string, `\"gelu\"`,\n",
       "        `\"relu\"`, `\"selu\"` and `\"gelu_new\"` are supported.\n",
       "    hidden_dropout_prob (`float`, *optional*, defaults to 0.0):\n",
       "        The dropout probability for all fully connected layers in the embeddings, encoder, and pooler.\n",
       "    attention_probs_dropout_prob (`float`, *optional*, defaults to 0.0):\n",
       "        The dropout ratio for the attention probabilities.\n",
       "    initializer_range (`float`, *optional*, defaults to 0.02):\n",
       "        The standard deviation of the truncated_normal_initializer for initializing all weight matrices.\n",
       "    layer_norm_eps (`float`, *optional*, defaults to 1e-12):\n",
       "        The epsilon used by the layer normalization layers.\n",
       "    image_size (`int`, *optional*, defaults to 224):\n",
       "        The size (resolution) of each image.\n",
       "    patch_size (`int`, *optional*, defaults to 16):\n",
       "        The size (resolution) of each patch.\n",
       "    num_channels (`int`, *optional*, defaults to 3):\n",
       "        The number of input channels.\n",
       "    qkv_bias (`bool`, *optional*, defaults to `True`):\n",
       "        Whether to add a bias to the queries, keys and values.\n",
       "    encoder_stride (`int`, *optional*, defaults to 16):\n",
       "       Factor to increase the spatial resolution by in the decoder head for masked image modeling.\n",
       "\n",
       "Example:\n",
       "\n",
       "```python\n",
       ">>> from transformers import ViTConfig, ViTModel\n",
       "\n",
       ">>> # Initializing a ViT vit-base-patch16-224 style configuration\n",
       ">>> configuration = ViTConfig()\n",
       "\n",
       ">>> # Initializing a model (with random weights) from the vit-base-patch16-224 style configuration\n",
       ">>> model = ViTModel(configuration)\n",
       "\n",
       ">>> # Accessing the model configuration\n",
       ">>> configuration = model.config\n",
       "```</td>\n",
       "    </tr>\n",
       "    <tr>\n",
       "      <th id=\"T_ba02d_level0_row5\" class=\"row_heading level0 row5\" rowspan=\"2\">ViTModel</th>\n",
       "      <th id=\"T_ba02d_level1_row5\" class=\"row_heading level1 row5\" >base_model</th>\n",
       "      <td id=\"T_ba02d_row5_col0\" class=\"data row5 col0\" >The bare ViT Model transformer outputting raw hidden-states without any specific head on top.\n",
       "This model is a PyTorch [torch.nn.Module](https://pytorch.org/docs/stable/nn.html#torch.nn.Module) subclass. Use it\n",
       "as a regular PyTorch Module and refer to the PyTorch documentation for all matter related to general usage and\n",
       "behavior.\n",
       "\n",
       "Parameters:\n",
       "    config ([`ViTConfig`]): Model configuration class with all the parameters of the model.\n",
       "        Initializing with a config file does not load the weights associated with the model, only the\n",
       "        configuration. Check out the [`~PreTrainedModel.from_pretrained`] method to load the model weights.</td>\n",
       "    </tr>\n",
       "    <tr>\n",
       "      <th id=\"T_ba02d_level1_row6\" class=\"row_heading level1 row6\" >vit</th>\n",
       "      <td id=\"T_ba02d_row6_col0\" class=\"data row6 col0\" >The bare ViT Model transformer outputting raw hidden-states without any specific head on top.\n",
       "This model is a PyTorch [torch.nn.Module](https://pytorch.org/docs/stable/nn.html#torch.nn.Module) subclass. Use it\n",
       "as a regular PyTorch Module and refer to the PyTorch documentation for all matter related to general usage and\n",
       "behavior.\n",
       "\n",
       "Parameters:\n",
       "    config ([`ViTConfig`]): Model configuration class with all the parameters of the model.\n",
       "        Initializing with a config file does not load the weights associated with the model, only the\n",
       "        configuration. Check out the [`~PreTrainedModel.from_pretrained`] method to load the model weights.</td>\n",
       "    </tr>\n",
       "    <tr>\n",
       "      <th id=\"T_ba02d_level0_row7\" class=\"row_heading level0 row7\" rowspan=\"6\">bool</th>\n",
       "      <th id=\"T_ba02d_level1_row7\" class=\"row_heading level1 row7\" >call_super_init</th>\n",
       "      <td id=\"T_ba02d_row7_col0\" class=\"data row7 col0\" >bool(x) -> bool\n",
       "\n",
       "Returns True when the argument x is true, False otherwise.\n",
       "The builtins True and False are the only two instances of the class bool.\n",
       "The class bool is a subclass of the class int, and cannot be subclassed.</td>\n",
       "    </tr>\n",
       "    <tr>\n",
       "      <th id=\"T_ba02d_level1_row8\" class=\"row_heading level1 row8\" >dump_patches</th>\n",
       "      <td id=\"T_ba02d_row8_col0\" class=\"data row8 col0\" >bool(x) -> bool\n",
       "\n",
       "Returns True when the argument x is true, False otherwise.\n",
       "The builtins True and False are the only two instances of the class bool.\n",
       "The class bool is a subclass of the class int, and cannot be subclassed.</td>\n",
       "    </tr>\n",
       "    <tr>\n",
       "      <th id=\"T_ba02d_level1_row9\" class=\"row_heading level1 row9\" >is_gradient_checkpointing</th>\n",
       "      <td id=\"T_ba02d_row9_col0\" class=\"data row9 col0\" >bool(x) -> bool\n",
       "\n",
       "Returns True when the argument x is true, False otherwise.\n",
       "The builtins True and False are the only two instances of the class bool.\n",
       "The class bool is a subclass of the class int, and cannot be subclassed.</td>\n",
       "    </tr>\n",
       "    <tr>\n",
       "      <th id=\"T_ba02d_level1_row10\" class=\"row_heading level1 row10\" >is_parallelizable</th>\n",
       "      <td id=\"T_ba02d_row10_col0\" class=\"data row10 col0\" >bool(x) -> bool\n",
       "\n",
       "Returns True when the argument x is true, False otherwise.\n",
       "The builtins True and False are the only two instances of the class bool.\n",
       "The class bool is a subclass of the class int, and cannot be subclassed.</td>\n",
       "    </tr>\n",
       "    <tr>\n",
       "      <th id=\"T_ba02d_level1_row11\" class=\"row_heading level1 row11\" >supports_gradient_checkpointing</th>\n",
       "      <td id=\"T_ba02d_row11_col0\" class=\"data row11 col0\" >bool(x) -> bool\n",
       "\n",
       "Returns True when the argument x is true, False otherwise.\n",
       "The builtins True and False are the only two instances of the class bool.\n",
       "The class bool is a subclass of the class int, and cannot be subclassed.</td>\n",
       "    </tr>\n",
       "    <tr>\n",
       "      <th id=\"T_ba02d_level1_row12\" class=\"row_heading level1 row12\" >training</th>\n",
       "      <td id=\"T_ba02d_row12_col0\" class=\"data row12 col0\" >bool(x) -> bool\n",
       "\n",
       "Returns True when the argument x is true, False otherwise.\n",
       "The builtins True and False are the only two instances of the class bool.\n",
       "The class bool is a subclass of the class int, and cannot be subclassed.</td>\n",
       "    </tr>\n",
       "    <tr>\n",
       "      <th id=\"T_ba02d_level0_row13\" class=\"row_heading level0 row13\" >device</th>\n",
       "      <th id=\"T_ba02d_level1_row13\" class=\"row_heading level1 row13\" >device</th>\n",
       "      <td id=\"T_ba02d_row13_col0\" class=\"data row13 col0\" >None</td>\n",
       "    </tr>\n",
       "    <tr>\n",
       "      <th id=\"T_ba02d_level0_row14\" class=\"row_heading level0 row14\" rowspan=\"2\">dict</th>\n",
       "      <th id=\"T_ba02d_level1_row14\" class=\"row_heading level1 row14\" >dummy_inputs</th>\n",
       "      <td id=\"T_ba02d_row14_col0\" class=\"data row14 col0\" >dict() -> new empty dictionary\n",
       "dict(mapping) -> new dictionary initialized from a mapping object's\n",
       "    (key, value) pairs\n",
       "dict(iterable) -> new dictionary initialized as if via:\n",
       "    d = {}\n",
       "    for k, v in iterable:\n",
       "        d[k] = v\n",
       "dict(**kwargs) -> new dictionary initialized with the name=value pairs\n",
       "    in the keyword argument list.  For example:  dict(one=1, two=2)</td>\n",
       "    </tr>\n",
       "    <tr>\n",
       "      <th id=\"T_ba02d_level1_row15\" class=\"row_heading level1 row15\" >warnings_issued</th>\n",
       "      <td id=\"T_ba02d_row15_col0\" class=\"data row15 col0\" >dict() -> new empty dictionary\n",
       "dict(mapping) -> new dictionary initialized from a mapping object's\n",
       "    (key, value) pairs\n",
       "dict(iterable) -> new dictionary initialized as if via:\n",
       "    d = {}\n",
       "    for k, v in iterable:\n",
       "        d[k] = v\n",
       "dict(**kwargs) -> new dictionary initialized with the name=value pairs\n",
       "    in the keyword argument list.  For example:  dict(one=1, two=2)</td>\n",
       "    </tr>\n",
       "    <tr>\n",
       "      <th id=\"T_ba02d_level0_row16\" class=\"row_heading level0 row16\" >dtype</th>\n",
       "      <th id=\"T_ba02d_level1_row16\" class=\"row_heading level1 row16\" >dtype</th>\n",
       "      <td id=\"T_ba02d_row16_col0\" class=\"data row16 col0\" >None</td>\n",
       "    </tr>\n",
       "    <tr>\n",
       "      <th id=\"T_ba02d_level0_row17\" class=\"row_heading level0 row17\" rowspan=\"2\">function</th>\n",
       "      <th id=\"T_ba02d_level1_row17\" class=\"row_heading level1 row17\" >create_extended_attention_mask_for_decoder</th>\n",
       "      <td id=\"T_ba02d_row17_col0\" class=\"data row17 col0\" >None</td>\n",
       "    </tr>\n",
       "    <tr>\n",
       "      <th id=\"T_ba02d_level1_row18\" class=\"row_heading level1 row18\" >loss_function</th>\n",
       "      <td id=\"T_ba02d_row18_col0\" class=\"data row18 col0\" >None</td>\n",
       "    </tr>\n",
       "    <tr>\n",
       "      <th id=\"T_ba02d_level0_row19\" class=\"row_heading level0 row19\" >int</th>\n",
       "      <th id=\"T_ba02d_level1_row19\" class=\"row_heading level1 row19\" >num_labels</th>\n",
       "      <td id=\"T_ba02d_row19_col0\" class=\"data row19 col0\" >int([x]) -> integer\n",
       "int(x, base=10) -> integer\n",
       "\n",
       "Convert a number or string to an integer, or return 0 if no arguments\n",
       "are given.  If x is a number, return x.__int__().  For floating point\n",
       "numbers, this truncates towards zero.\n",
       "\n",
       "If x is not a number or if base is given, then x must be a string,\n",
       "bytes, or bytearray instance representing an integer literal in the\n",
       "given base.  The literal can be preceded by '+' or '-' and be surrounded\n",
       "by whitespace.  The base defaults to 10.  Valid bases are 0 and 2-36.\n",
       "Base 0 means to interpret the base from the string as an integer literal.\n",
       ">>> int('0b100', base=0)\n",
       "4</td>\n",
       "    </tr>\n",
       "    <tr>\n",
       "      <th id=\"T_ba02d_level0_row20\" class=\"row_heading level0 row20\" rowspan=\"92\">method</th>\n",
       "      <th id=\"T_ba02d_level1_row20\" class=\"row_heading level1 row20\" >active_adapters</th>\n",
       "      <td id=\"T_ba02d_row20_col0\" class=\"data row20 col0\" >If you are not familiar with adapters and PEFT methods, we invite you to read more about them on the PEFT\n",
       "official documentation: https://huggingface.co/docs/peft\n",
       "\n",
       "Gets the current active adapters of the model. In case of multi-adapter inference (combining multiple adapters\n",
       "for inference) returns the list of all active adapters so that users can deal with them accordingly.\n",
       "\n",
       "For previous PEFT versions (that does not support multi-adapter inference), `module.active_adapter` will return\n",
       "a single string.</td>\n",
       "    </tr>\n",
       "    <tr>\n",
       "      <th id=\"T_ba02d_level1_row21\" class=\"row_heading level1 row21\" >add_adapter</th>\n",
       "      <td id=\"T_ba02d_row21_col0\" class=\"data row21 col0\" >If you are not familiar with adapters and PEFT methods, we invite you to read more about them on the PEFT\n",
       "official documentation: https://huggingface.co/docs/peft\n",
       "\n",
       "Adds a fresh new adapter to the current model for training purpose. If no adapter name is passed, a default\n",
       "name is assigned to the adapter to follow the convention of PEFT library (in PEFT we use \"default\" as the\n",
       "default adapter name).\n",
       "\n",
       "Args:\n",
       "    adapter_config (`~peft.PeftConfig`):\n",
       "        The configuration of the adapter to add, supported adapters are non-prefix tuning and adaption prompts\n",
       "        methods\n",
       "    adapter_name (`str`, *optional*, defaults to `\"default\"`):\n",
       "        The name of the adapter to add. If no name is passed, a default name is assigned to the adapter.</td>\n",
       "    </tr>\n",
       "    <tr>\n",
       "      <th id=\"T_ba02d_level1_row22\" class=\"row_heading level1 row22\" >add_memory_hooks</th>\n",
       "      <td id=\"T_ba02d_row22_col0\" class=\"data row22 col0\" >Add a memory hook before and after each sub-module forward pass to record increase in memory consumption.\n",
       "\n",
       "Increase in memory consumption is stored in a `mem_rss_diff` attribute for each module and can be reset to zero\n",
       "with `model.reset_memory_hooks_state()`.</td>\n",
       "    </tr>\n",
       "    <tr>\n",
       "      <th id=\"T_ba02d_level1_row23\" class=\"row_heading level1 row23\" >add_model_tags</th>\n",
       "      <td id=\"T_ba02d_row23_col0\" class=\"data row23 col0\" >Add custom tags into the model that gets pushed to the Hugging Face Hub. Will\n",
       "not overwrite existing tags in the model.\n",
       "\n",
       "Args:\n",
       "    tags (`Union[List[str], str]`):\n",
       "        The desired tags to inject in the model\n",
       "\n",
       "Examples:\n",
       "\n",
       "```python\n",
       "from transformers import AutoModel\n",
       "\n",
       "model = AutoModel.from_pretrained(\"google-bert/bert-base-cased\")\n",
       "\n",
       "model.add_model_tags([\"custom\", \"custom-bert\"])\n",
       "\n",
       "# Push the model to your namespace with the name \"my-custom-bert\".\n",
       "model.push_to_hub(\"my-custom-bert\")\n",
       "```</td>\n",
       "    </tr>\n",
       "    <tr>\n",
       "      <th id=\"T_ba02d_level1_row24\" class=\"row_heading level1 row24\" >add_module</th>\n",
       "      <td id=\"T_ba02d_row24_col0\" class=\"data row24 col0\" >Add a child module to the current module.\n",
       "\n",
       "The module can be accessed as an attribute using the given name.\n",
       "\n",
       "Args:\n",
       "    name (str): name of the child module. The child module can be\n",
       "        accessed from this module using the given name\n",
       "    module (Module): child module to be added to the module.</td>\n",
       "    </tr>\n",
       "    <tr>\n",
       "      <th id=\"T_ba02d_level1_row25\" class=\"row_heading level1 row25\" >apply</th>\n",
       "      <td id=\"T_ba02d_row25_col0\" class=\"data row25 col0\" >Apply ``fn`` recursively to every submodule (as returned by ``.children()``) as well as self.\n",
       "\n",
       "Typical use includes initializing the parameters of a model\n",
       "(see also :ref:`nn-init-doc`).\n",
       "\n",
       "Args:\n",
       "    fn (:class:`Module` -> None): function to be applied to each submodule\n",
       "\n",
       "Returns:\n",
       "    Module: self\n",
       "\n",
       "Example::\n",
       "\n",
       "    >>> @torch.no_grad()\n",
       "    >>> def init_weights(m):\n",
       "    >>>     print(m)\n",
       "    >>>     if type(m) == nn.Linear:\n",
       "    >>>         m.weight.fill_(1.0)\n",
       "    >>>         print(m.weight)\n",
       "    >>> net = nn.Sequential(nn.Linear(2, 2), nn.Linear(2, 2))\n",
       "    >>> net.apply(init_weights)\n",
       "    Linear(in_features=2, out_features=2, bias=True)\n",
       "    Parameter containing:\n",
       "    tensor([[1., 1.],\n",
       "            [1., 1.]], requires_grad=True)\n",
       "    Linear(in_features=2, out_features=2, bias=True)\n",
       "    Parameter containing:\n",
       "    tensor([[1., 1.],\n",
       "            [1., 1.]], requires_grad=True)\n",
       "    Sequential(\n",
       "      (0): Linear(in_features=2, out_features=2, bias=True)\n",
       "      (1): Linear(in_features=2, out_features=2, bias=True)\n",
       "    )</td>\n",
       "    </tr>\n",
       "    <tr>\n",
       "      <th id=\"T_ba02d_level1_row26\" class=\"row_heading level1 row26\" >bfloat16</th>\n",
       "      <td id=\"T_ba02d_row26_col0\" class=\"data row26 col0\" >Casts all floating point parameters and buffers to ``bfloat16`` datatype.\n",
       "\n",
       ".. note::\n",
       "    This method modifies the module in-place.\n",
       "\n",
       "Returns:\n",
       "    Module: self</td>\n",
       "    </tr>\n",
       "    <tr>\n",
       "      <th id=\"T_ba02d_level1_row27\" class=\"row_heading level1 row27\" >buffers</th>\n",
       "      <td id=\"T_ba02d_row27_col0\" class=\"data row27 col0\" >Return an iterator over module buffers.\n",
       "\n",
       "Args:\n",
       "    recurse (bool): if True, then yields buffers of this module\n",
       "        and all submodules. Otherwise, yields only buffers that\n",
       "        are direct members of this module.\n",
       "\n",
       "Yields:\n",
       "    torch.Tensor: module buffer\n",
       "\n",
       "Example::\n",
       "\n",
       "    >>> # xdoctest: +SKIP(\"undefined vars\")\n",
       "    >>> for buf in model.buffers():\n",
       "    >>>     print(type(buf), buf.size())\n",
       "    <class 'torch.Tensor'> (20L,)\n",
       "    <class 'torch.Tensor'> (20L, 1L, 5L, 5L)</td>\n",
       "    </tr>\n",
       "    <tr>\n",
       "      <th id=\"T_ba02d_level1_row28\" class=\"row_heading level1 row28\" >can_generate</th>\n",
       "      <td id=\"T_ba02d_row28_col0\" class=\"data row28 col0\" >Returns whether this model can generate sequences with `.generate()`.\n",
       "\n",
       "Returns:\n",
       "    `bool`: Whether this model can generate sequences with `.generate()`.</td>\n",
       "    </tr>\n",
       "    <tr>\n",
       "      <th id=\"T_ba02d_level1_row29\" class=\"row_heading level1 row29\" >children</th>\n",
       "      <td id=\"T_ba02d_row29_col0\" class=\"data row29 col0\" >Return an iterator over immediate children modules.\n",
       "\n",
       "Yields:\n",
       "    Module: a child module</td>\n",
       "    </tr>\n",
       "    <tr>\n",
       "      <th id=\"T_ba02d_level1_row30\" class=\"row_heading level1 row30\" >compile</th>\n",
       "      <td id=\"T_ba02d_row30_col0\" class=\"data row30 col0\" >Compile this Module's forward using :func:`torch.compile`.\n",
       "\n",
       "This Module's `__call__` method is compiled and all arguments are passed as-is\n",
       "to :func:`torch.compile`.\n",
       "\n",
       "See :func:`torch.compile` for details on the arguments for this function.</td>\n",
       "    </tr>\n",
       "    <tr>\n",
       "      <th id=\"T_ba02d_level1_row31\" class=\"row_heading level1 row31\" >compute_transition_scores</th>\n",
       "      <td id=\"T_ba02d_row31_col0\" class=\"data row31 col0\" >Computes the transition scores of sequences given the generation scores (and beam indices, if beam search was\n",
       "used). This is a convenient method to quicky obtain the scores of the selected tokens at generation time.\n",
       "\n",
       "Parameters:\n",
       "    sequences (`torch.LongTensor`):\n",
       "        The generated sequences. The second dimension (sequence_length) is either equal to `max_length` or\n",
       "        shorter if all batches finished early due to the `eos_token_id`.\n",
       "    scores (`tuple(torch.FloatTensor)`):\n",
       "        Transition scores for each vocabulary token at each generation step. Beam transition scores consisting\n",
       "        of log probabilities of tokens conditioned on log softmax of previously generated tokens in this beam.\n",
       "        Tuple of `torch.FloatTensor` with up to `max_new_tokens` elements (one element for each generated token),\n",
       "        with each tensor of shape `(batch_size*num_beams, config.vocab_size)`.\n",
       "    beam_indices (`torch.LongTensor`, *optional*):\n",
       "        Beam indices of generated token id at each generation step. `torch.LongTensor` of shape\n",
       "        `(batch_size*num_return_sequences, sequence_length)`. Only required if a `num_beams>1` at\n",
       "        generate-time.\n",
       "    normalize_logits (`bool`, *optional*, defaults to `False`):\n",
       "        Whether to normalize the logits (which, for legacy reasons, may be unnormalized).\n",
       "\n",
       "Return:\n",
       "    `torch.Tensor`: A `torch.Tensor` of shape `(batch_size*num_return_sequences, sequence_length)` containing\n",
       "        the transition scores (logits)\n",
       "\n",
       "Examples:\n",
       "\n",
       "```python\n",
       ">>> from transformers import GPT2Tokenizer, AutoModelForCausalLM\n",
       ">>> import numpy as np\n",
       "\n",
       ">>> tokenizer = GPT2Tokenizer.from_pretrained(\"gpt2\")\n",
       ">>> model = AutoModelForCausalLM.from_pretrained(\"openai-community/gpt2\")\n",
       ">>> tokenizer.pad_token_id = tokenizer.eos_token_id\n",
       ">>> inputs = tokenizer([\"Today is\"], return_tensors=\"pt\")\n",
       "\n",
       ">>> # Example 1: Print the scores for each token generated with Greedy Search\n",
       ">>> outputs = model.generate(**inputs, max_new_tokens=5, return_dict_in_generate=True, output_scores=True)\n",
       ">>> transition_scores = model.compute_transition_scores(\n",
       "...     outputs.sequences, outputs.scores, normalize_logits=True\n",
       "... )\n",
       ">>> # input_length is the length of the input prompt for decoder-only models, like the GPT family, and 1 for\n",
       ">>> # encoder-decoder models, like BART or T5.\n",
       ">>> input_length = 1 if model.config.is_encoder_decoder else inputs.input_ids.shape[1]\n",
       ">>> generated_tokens = outputs.sequences[:, input_length:]\n",
       ">>> for tok, score in zip(generated_tokens[0], transition_scores[0]):\n",
       "...     # | token | token string | log probability | probability\n",
       "...     print(f\"| {tok:5d} | {tokenizer.decode(tok):8s} | {score.numpy():.3f} | {np.exp(score.numpy()):.2%}\")\n",
       "|   262 |  the     | -1.414 | 24.33%\n",
       "|  1110 |  day     | -2.609 | 7.36%\n",
       "|   618 |  when    | -2.010 | 13.40%\n",
       "|   356 |  we      | -1.859 | 15.58%\n",
       "|   460 |  can     | -2.508 | 8.14%\n",
       "\n",
       ">>> # Example 2: Reconstruct the sequence scores from Beam Search\n",
       ">>> outputs = model.generate(\n",
       "...     **inputs,\n",
       "...     max_new_tokens=5,\n",
       "...     num_beams=4,\n",
       "...     num_return_sequences=4,\n",
       "...     return_dict_in_generate=True,\n",
       "...     output_scores=True,\n",
       "... )\n",
       ">>> transition_scores = model.compute_transition_scores(\n",
       "...     outputs.sequences, outputs.scores, outputs.beam_indices, normalize_logits=False\n",
       "... )\n",
       ">>> # If you sum the generated tokens' scores and apply the length penalty, you'll get the sequence scores.\n",
       ">>> # Tip 1: recomputing the scores is only guaranteed to match with `normalize_logits=False`. Depending on the\n",
       ">>> # use case, you might want to recompute it with `normalize_logits=True`.\n",
       ">>> # Tip 2: the output length does NOT include the input length\n",
       ">>> output_length = np.sum(transition_scores.numpy() < 0, axis=1)\n",
       ">>> length_penalty = model.generation_config.length_penalty\n",
       ">>> reconstructed_scores = transition_scores.sum(axis=1) / (output_length**length_penalty)\n",
       ">>> print(np.allclose(outputs.sequences_scores, reconstructed_scores))\n",
       "True\n",
       "```</td>\n",
       "    </tr>\n",
       "    <tr>\n",
       "      <th id=\"T_ba02d_level1_row32\" class=\"row_heading level1 row32\" >cpu</th>\n",
       "      <td id=\"T_ba02d_row32_col0\" class=\"data row32 col0\" >Move all model parameters and buffers to the CPU.\n",
       "\n",
       ".. note::\n",
       "    This method modifies the module in-place.\n",
       "\n",
       "Returns:\n",
       "    Module: self</td>\n",
       "    </tr>\n",
       "    <tr>\n",
       "      <th id=\"T_ba02d_level1_row33\" class=\"row_heading level1 row33\" >cuda</th>\n",
       "      <td id=\"T_ba02d_row33_col0\" class=\"data row33 col0\" >Move all model parameters and buffers to the GPU.\n",
       "\n",
       "This also makes associated parameters and buffers different objects. So\n",
       "it should be called before constructing optimizer if the module will\n",
       "live on GPU while being optimized.\n",
       "\n",
       ".. note::\n",
       "    This method modifies the module in-place.\n",
       "\n",
       "Args:\n",
       "    device (int, optional): if specified, all parameters will be\n",
       "        copied to that device\n",
       "\n",
       "Returns:\n",
       "    Module: self</td>\n",
       "    </tr>\n",
       "    <tr>\n",
       "      <th id=\"T_ba02d_level1_row34\" class=\"row_heading level1 row34\" >dequantize</th>\n",
       "      <td id=\"T_ba02d_row34_col0\" class=\"data row34 col0\" >Potentially dequantize the model in case it has been quantized by a quantization method that support\n",
       "dequantization.</td>\n",
       "    </tr>\n",
       "    <tr>\n",
       "      <th id=\"T_ba02d_level1_row35\" class=\"row_heading level1 row35\" >disable_adapters</th>\n",
       "      <td id=\"T_ba02d_row35_col0\" class=\"data row35 col0\" >If you are not familiar with adapters and PEFT methods, we invite you to read more about them on the PEFT\n",
       "official documentation: https://huggingface.co/docs/peft\n",
       "\n",
       "Disable all adapters that are attached to the model. This leads to inferring with the base model only.</td>\n",
       "    </tr>\n",
       "    <tr>\n",
       "      <th id=\"T_ba02d_level1_row36\" class=\"row_heading level1 row36\" >disable_input_require_grads</th>\n",
       "      <td id=\"T_ba02d_row36_col0\" class=\"data row36 col0\" >Removes the `_require_grads_hook`.</td>\n",
       "    </tr>\n",
       "    <tr>\n",
       "      <th id=\"T_ba02d_level1_row37\" class=\"row_heading level1 row37\" >double</th>\n",
       "      <td id=\"T_ba02d_row37_col0\" class=\"data row37 col0\" >Casts all floating point parameters and buffers to ``double`` datatype.\n",
       "\n",
       ".. note::\n",
       "    This method modifies the module in-place.\n",
       "\n",
       "Returns:\n",
       "    Module: self</td>\n",
       "    </tr>\n",
       "    <tr>\n",
       "      <th id=\"T_ba02d_level1_row38\" class=\"row_heading level1 row38\" >enable_adapters</th>\n",
       "      <td id=\"T_ba02d_row38_col0\" class=\"data row38 col0\" >If you are not familiar with adapters and PEFT methods, we invite you to read more about them on the PEFT\n",
       "official documentation: https://huggingface.co/docs/peft\n",
       "\n",
       "Enable adapters that are attached to the model. The model will use `self.active_adapter()`</td>\n",
       "    </tr>\n",
       "    <tr>\n",
       "      <th id=\"T_ba02d_level1_row39\" class=\"row_heading level1 row39\" >enable_input_require_grads</th>\n",
       "      <td id=\"T_ba02d_row39_col0\" class=\"data row39 col0\" >Enables the gradients for the input embeddings. This is useful for fine-tuning adapter weights while keeping\n",
       "the model weights fixed.</td>\n",
       "    </tr>\n",
       "    <tr>\n",
       "      <th id=\"T_ba02d_level1_row40\" class=\"row_heading level1 row40\" >estimate_tokens</th>\n",
       "      <td id=\"T_ba02d_row40_col0\" class=\"data row40 col0\" >Helper function to estimate the total number of tokens from the model inputs.\n",
       "\n",
       "Args:\n",
       "    inputs (`dict`): The model inputs.\n",
       "\n",
       "Returns:\n",
       "    `int`: The total number of tokens.</td>\n",
       "    </tr>\n",
       "    <tr>\n",
       "      <th id=\"T_ba02d_level1_row41\" class=\"row_heading level1 row41\" >eval</th>\n",
       "      <td id=\"T_ba02d_row41_col0\" class=\"data row41 col0\" >Set the module in evaluation mode.\n",
       "\n",
       "This has any effect only on certain modules. See documentations of\n",
       "particular modules for details of their behaviors in training/evaluation\n",
       "mode, if they are affected, e.g. :class:`Dropout`, :class:`BatchNorm`,\n",
       "etc.\n",
       "\n",
       "This is equivalent with :meth:`self.train(False) <torch.nn.Module.train>`.\n",
       "\n",
       "See :ref:`locally-disable-grad-doc` for a comparison between\n",
       "`.eval()` and several similar mechanisms that may be confused with it.\n",
       "\n",
       "Returns:\n",
       "    Module: self</td>\n",
       "    </tr>\n",
       "    <tr>\n",
       "      <th id=\"T_ba02d_level1_row42\" class=\"row_heading level1 row42\" >extra_repr</th>\n",
       "      <td id=\"T_ba02d_row42_col0\" class=\"data row42 col0\" >Set the extra representation of the module.\n",
       "\n",
       "To print customized extra information, you should re-implement\n",
       "this method in your own modules. Both single-line and multi-line\n",
       "strings are acceptable.</td>\n",
       "    </tr>\n",
       "    <tr>\n",
       "      <th id=\"T_ba02d_level1_row43\" class=\"row_heading level1 row43\" >float</th>\n",
       "      <td id=\"T_ba02d_row43_col0\" class=\"data row43 col0\" >Casts all floating point parameters and buffers to ``float`` datatype.\n",
       "\n",
       ".. note::\n",
       "    This method modifies the module in-place.\n",
       "\n",
       "Returns:\n",
       "    Module: self</td>\n",
       "    </tr>\n",
       "    <tr>\n",
       "      <th id=\"T_ba02d_level1_row44\" class=\"row_heading level1 row44\" >floating_point_ops</th>\n",
       "      <td id=\"T_ba02d_row44_col0\" class=\"data row44 col0\" >Get number of (optionally, non-embeddings) floating-point operations for the forward and backward passes of a\n",
       "batch with this transformer model. Default approximation neglects the quadratic dependency on the number of\n",
       "tokens (valid if `12 * d_model << sequence_length`) as laid out in [this\n",
       "paper](https://arxiv.org/pdf/2001.08361.pdf) section 2.1. Should be overridden for transformers with parameter\n",
       "re-use e.g. Albert or Universal Transformers, or if doing long-range modeling with very high sequence lengths.\n",
       "\n",
       "Args:\n",
       "    batch_size (`int`):\n",
       "        The batch size for the forward pass.\n",
       "\n",
       "    sequence_length (`int`):\n",
       "        The number of tokens in each line of the batch.\n",
       "\n",
       "    exclude_embeddings (`bool`, *optional*, defaults to `True`):\n",
       "        Whether or not to count embedding and softmax operations.\n",
       "\n",
       "Returns:\n",
       "    `int`: The number of floating-point operations.</td>\n",
       "    </tr>\n",
       "    <tr>\n",
       "      <th id=\"T_ba02d_level1_row45\" class=\"row_heading level1 row45\" >forward</th>\n",
       "      <td id=\"T_ba02d_row45_col0\" class=\"data row45 col0\" >The [`ViTForImageClassification`] forward method, overrides the `__call__` special method.\n",
       "\n",
       "<Tip>\n",
       "\n",
       "Although the recipe for forward pass needs to be defined within this function, one should call the [`Module`]\n",
       "instance afterwards instead of this since the former takes care of running the pre and post processing steps while\n",
       "the latter silently ignores them.\n",
       "\n",
       "</Tip>\n",
       "\n",
       "Args:\n",
       "    pixel_values (`torch.FloatTensor` of shape `(batch_size, num_channels, height, width)`):\n",
       "        Pixel values. Pixel values can be obtained using [`AutoImageProcessor`]. See [`ViTImageProcessor.__call__`]\n",
       "        for details.\n",
       "\n",
       "    head_mask (`torch.FloatTensor` of shape `(num_heads,)` or `(num_layers, num_heads)`, *optional*):\n",
       "        Mask to nullify selected heads of the self-attention modules. Mask values selected in `[0, 1]`:\n",
       "\n",
       "        - 1 indicates the head is **not masked**,\n",
       "        - 0 indicates the head is **masked**.\n",
       "\n",
       "    output_attentions (`bool`, *optional*):\n",
       "        Whether or not to return the attentions tensors of all attention layers. See `attentions` under returned\n",
       "        tensors for more detail.\n",
       "    output_hidden_states (`bool`, *optional*):\n",
       "        Whether or not to return the hidden states of all layers. See `hidden_states` under returned tensors for\n",
       "        more detail.\n",
       "    interpolate_pos_encoding (`bool`, *optional*):\n",
       "        Whether to interpolate the pre-trained position encodings.\n",
       "    return_dict (`bool`, *optional*):\n",
       "        Whether or not to return a [`~utils.ModelOutput`] instead of a plain tuple.\n",
       "\n",
       "    labels (`torch.LongTensor` of shape `(batch_size,)`, *optional*):\n",
       "        Labels for computing the image classification/regression loss. Indices should be in `[0, ...,\n",
       "        config.num_labels - 1]`. If `config.num_labels == 1` a regression loss is computed (Mean-Square loss), If\n",
       "        `config.num_labels > 1` a classification loss is computed (Cross-Entropy).\n",
       "    \n",
       "Returns:\n",
       "    [`transformers.modeling_outputs.ImageClassifierOutput`] or `tuple(torch.FloatTensor)`: A [`transformers.modeling_outputs.ImageClassifierOutput`] or a tuple of\n",
       "    `torch.FloatTensor` (if `return_dict=False` is passed or when `config.return_dict=False`) comprising various\n",
       "    elements depending on the configuration ([`ViTConfig`]) and inputs.\n",
       "\n",
       "    - **loss** (`torch.FloatTensor` of shape `(1,)`, *optional*, returned when `labels` is provided) -- Classification (or regression if config.num_labels==1) loss.\n",
       "    - **logits** (`torch.FloatTensor` of shape `(batch_size, config.num_labels)`) -- Classification (or regression if config.num_labels==1) scores (before SoftMax).\n",
       "    - **hidden_states** (`tuple(torch.FloatTensor)`, *optional*, returned when `output_hidden_states=True` is passed or when `config.output_hidden_states=True`) -- Tuple of `torch.FloatTensor` (one for the output of the embeddings, if the model has an embedding layer, +\n",
       "      one for the output of each stage) of shape `(batch_size, sequence_length, hidden_size)`. Hidden-states\n",
       "      (also called feature maps) of the model at the output of each stage.\n",
       "    - **attentions** (`tuple(torch.FloatTensor)`, *optional*, returned when `output_attentions=True` is passed or when `config.output_attentions=True`) -- Tuple of `torch.FloatTensor` (one for each layer) of shape `(batch_size, num_heads, patch_size,\n",
       "      sequence_length)`.\n",
       "\n",
       "      Attentions weights after the attention softmax, used to compute the weighted average in the self-attention\n",
       "      heads.\n",
       "\n",
       "Example:\n",
       "\n",
       "```python\n",
       ">>> from transformers import AutoImageProcessor, ViTForImageClassification\n",
       ">>> import torch\n",
       ">>> from datasets import load_dataset\n",
       "\n",
       ">>> dataset = load_dataset(\"huggingface/cats-image\", trust_remote_code=True)\n",
       ">>> image = dataset[\"test\"][\"image\"][0]\n",
       "\n",
       ">>> image_processor = AutoImageProcessor.from_pretrained(\"google/vit-base-patch16-224\")\n",
       ">>> model = ViTForImageClassification.from_pretrained(\"google/vit-base-patch16-224\")\n",
       "\n",
       ">>> inputs = image_processor(image, return_tensors=\"pt\")\n",
       "\n",
       ">>> with torch.no_grad():\n",
       "...     logits = model(**inputs).logits\n",
       "\n",
       ">>> # model predicts one of the 1000 ImageNet classes\n",
       ">>> predicted_label = logits.argmax(-1).item()\n",
       ">>> print(model.config.id2label[predicted_label])\n",
       "Egyptian cat\n",
       "```</td>\n",
       "    </tr>\n",
       "    <tr>\n",
       "      <th id=\"T_ba02d_level1_row46\" class=\"row_heading level1 row46\" >from_pretrained</th>\n",
       "      <td id=\"T_ba02d_row46_col0\" class=\"data row46 col0\" >Instantiate a pretrained pytorch model from a pre-trained model configuration.\n",
       "\n",
       "The model is set in evaluation mode by default using `model.eval()` (Dropout modules are deactivated). To train\n",
       "the model, you should first set it back in training mode with `model.train()`.\n",
       "\n",
       "The warning *Weights from XXX not initialized from pretrained model* means that the weights of XXX do not come\n",
       "pretrained with the rest of the model. It is up to you to train those weights with a downstream fine-tuning\n",
       "task.\n",
       "\n",
       "The warning *Weights from XXX not used in YYY* means that the layer XXX is not used by YYY, therefore those\n",
       "weights are discarded.\n",
       "\n",
       "If model weights are the same precision as the base model (and is a supported model), weights will be lazily loaded\n",
       "in using the `meta` device and brought into memory once an input is passed through that layer regardless of\n",
       "`low_cpu_mem_usage`.\n",
       "\n",
       "Parameters:\n",
       "    pretrained_model_name_or_path (`str` or `os.PathLike`, *optional*):\n",
       "        Can be either:\n",
       "\n",
       "            - A string, the *model id* of a pretrained model hosted inside a model repo on huggingface.co.\n",
       "            - A path to a *directory* containing model weights saved using\n",
       "              [`~PreTrainedModel.save_pretrained`], e.g., `./my_model_directory/`.\n",
       "            - A path or url to a *tensorflow index checkpoint file* (e.g, `./tf_model/model.ckpt.index`). In\n",
       "              this case, `from_tf` should be set to `True` and a configuration object should be provided as\n",
       "              `config` argument. This loading path is slower than converting the TensorFlow checkpoint in a\n",
       "              PyTorch model using the provided conversion scripts and loading the PyTorch model afterwards.\n",
       "            - A path or url to a model folder containing a *flax checkpoint file* in *.msgpack* format (e.g,\n",
       "              `./flax_model/` containing `flax_model.msgpack`). In this case, `from_flax` should be set to\n",
       "              `True`.\n",
       "            - `None` if you are both providing the configuration and state dictionary (resp. with keyword\n",
       "              arguments `config` and `state_dict`).\n",
       "    model_args (sequence of positional arguments, *optional*):\n",
       "        All remaining positional arguments will be passed to the underlying model's `__init__` method.\n",
       "    config (`Union[PretrainedConfig, str, os.PathLike]`, *optional*):\n",
       "        Can be either:\n",
       "\n",
       "            - an instance of a class derived from [`PretrainedConfig`],\n",
       "            - a string or path valid as input to [`~PretrainedConfig.from_pretrained`].\n",
       "\n",
       "        Configuration for the model to use instead of an automatically loaded configuration. Configuration can\n",
       "        be automatically loaded when:\n",
       "\n",
       "            - The model is a model provided by the library (loaded with the *model id* string of a pretrained\n",
       "              model).\n",
       "            - The model was saved using [`~PreTrainedModel.save_pretrained`] and is reloaded by supplying the\n",
       "              save directory.\n",
       "            - The model is loaded by supplying a local directory as `pretrained_model_name_or_path` and a\n",
       "              configuration JSON file named *config.json* is found in the directory.\n",
       "    state_dict (`Dict[str, torch.Tensor]`, *optional*):\n",
       "        A state dictionary to use instead of a state dictionary loaded from saved weights file.\n",
       "\n",
       "        This option can be used if you want to create a model from a pretrained configuration but load your own\n",
       "        weights. In this case though, you should check if using [`~PreTrainedModel.save_pretrained`] and\n",
       "        [`~PreTrainedModel.from_pretrained`] is not a simpler option.\n",
       "    cache_dir (`Union[str, os.PathLike]`, *optional*):\n",
       "        Path to a directory in which a downloaded pretrained model configuration should be cached if the\n",
       "        standard cache should not be used.\n",
       "    from_tf (`bool`, *optional*, defaults to `False`):\n",
       "        Load the model weights from a TensorFlow checkpoint save file (see docstring of\n",
       "        `pretrained_model_name_or_path` argument).\n",
       "    from_flax (`bool`, *optional*, defaults to `False`):\n",
       "        Load the model weights from a Flax checkpoint save file (see docstring of\n",
       "        `pretrained_model_name_or_path` argument).\n",
       "    ignore_mismatched_sizes (`bool`, *optional*, defaults to `False`):\n",
       "        Whether or not to raise an error if some of the weights from the checkpoint do not have the same size\n",
       "        as the weights of the model (if for instance, you are instantiating a model with 10 labels from a\n",
       "        checkpoint with 3 labels).\n",
       "    force_download (`bool`, *optional*, defaults to `False`):\n",
       "        Whether or not to force the (re-)download of the model weights and configuration files, overriding the\n",
       "        cached versions if they exist.\n",
       "    resume_download:\n",
       "        Deprecated and ignored. All downloads are now resumed by default when possible.\n",
       "        Will be removed in v5 of Transformers.\n",
       "    proxies (`Dict[str, str]`, *optional*):\n",
       "        A dictionary of proxy servers to use by protocol or endpoint, e.g., `{'http': 'foo.bar:3128',\n",
       "        'http://hostname': 'foo.bar:4012'}`. The proxies are used on each request.\n",
       "    output_loading_info(`bool`, *optional*, defaults to `False`):\n",
       "        Whether ot not to also return a dictionary containing missing keys, unexpected keys and error messages.\n",
       "    local_files_only(`bool`, *optional*, defaults to `False`):\n",
       "        Whether or not to only look at local files (i.e., do not try to download the model).\n",
       "    token (`str` or `bool`, *optional*):\n",
       "        The token to use as HTTP bearer authorization for remote files. If `True`, or not specified, will use\n",
       "        the token generated when running `huggingface-cli login` (stored in `~/.huggingface`).\n",
       "    revision (`str`, *optional*, defaults to `\"main\"`):\n",
       "        The specific model version to use. It can be a branch name, a tag name, or a commit id, since we use a\n",
       "        git-based system for storing models and other artifacts on huggingface.co, so `revision` can be any\n",
       "        identifier allowed by git.\n",
       "\n",
       "        <Tip>\n",
       "\n",
       "        To test a pull request you made on the Hub, you can pass `revision=\"refs/pr/<pr_number>\"`.\n",
       "\n",
       "        </Tip>\n",
       "\n",
       "    mirror (`str`, *optional*):\n",
       "        Mirror source to accelerate downloads in China. If you are from China and have an accessibility\n",
       "        problem, you can set this option to resolve it. Note that we do not guarantee the timeliness or safety.\n",
       "        Please refer to the mirror site for more information.\n",
       "    _fast_init(`bool`, *optional*, defaults to `True`):\n",
       "        Whether or not to disable fast initialization.\n",
       "\n",
       "        <Tip warning={true}>\n",
       "\n",
       "        One should only disable *_fast_init* to ensure backwards compatibility with `transformers.__version__ <\n",
       "        4.6.0` for seeded model initialization. This argument will be removed at the next major version. See\n",
       "        [pull request 11471](https://github.com/huggingface/transformers/pull/11471) for more information.\n",
       "\n",
       "        </Tip>\n",
       "    attn_implementation (`str`, *optional*):\n",
       "        The attention implementation to use in the model (if relevant). Can be any of `\"eager\"` (manual implementation of the attention), `\"sdpa\"` (using [`F.scaled_dot_product_attention`](https://pytorch.org/docs/master/generated/torch.nn.functional.scaled_dot_product_attention.html)), or `\"flash_attention_2\"` (using [Dao-AILab/flash-attention](https://github.com/Dao-AILab/flash-attention)). By default, if available, SDPA will be used for torch>=2.1.1. The default is otherwise the manual `\"eager\"` implementation.\n",
       "\n",
       "    > Parameters for big model inference\n",
       "\n",
       "    low_cpu_mem_usage(`bool`, *optional*):\n",
       "        Tries not to use more than 1x model size in CPU memory (including peak memory) while loading the model.\n",
       "        Generally should be combined with a `device_map` (such as `\"auto\"`) for best results.\n",
       "        This is an experimental feature and a subject to change at any moment.\n",
       "        </Tip>\n",
       "            If the model weights are in the same precision as the model loaded in, `low_cpu_mem_usage` (without\n",
       "            `device_map`) is redundant and will not provide any benefit in regards to CPU memory usage. However,\n",
       "            this should still be enabled if you are passing in a `device_map`.\n",
       "        </Tip>\n",
       "    torch_dtype (`str` or `torch.dtype`, *optional*):\n",
       "        Override the default `torch.dtype` and load the model under a specific `dtype`. The different options\n",
       "        are:\n",
       "\n",
       "        1. `torch.float16` or `torch.bfloat16` or `torch.float`: load in a specified\n",
       "          `dtype`, ignoring the model's `config.torch_dtype` if one exists. If not specified\n",
       "          - the model will get loaded in `torch.float` (fp32).\n",
       "\n",
       "        2. `\"auto\"` - A `torch_dtype` entry in the `config.json` file of the model will be\n",
       "          attempted to be used. If this entry isn't found then next check the `dtype` of the first weight in\n",
       "          the checkpoint that's of a floating point type and use that as `dtype`. This will load the model\n",
       "          using the `dtype` it was saved in at the end of the training. It can't be used as an indicator of how\n",
       "          the model was trained. Since it could be trained in one of half precision dtypes, but saved in fp32.\n",
       "\n",
       "        3. A string that is a valid `torch.dtype`. E.g. \"float32\" loads the model in `torch.float32`, \"float16\" loads in `torch.float16` etc.\n",
       "\n",
       "        <Tip>\n",
       "\n",
       "        For some models the `dtype` they were trained in is unknown - you may try to check the model's paper or\n",
       "        reach out to the authors and ask them to add this information to the model's card and to insert the\n",
       "        `torch_dtype` entry in `config.json` on the hub.\n",
       "\n",
       "        </Tip>\n",
       "\n",
       "    device_map (`str` or `Dict[str, Union[int, str, torch.device]]` or `int` or `torch.device`, *optional*):\n",
       "        A map that specifies where each submodule should go. It doesn't need to be refined to each\n",
       "        parameter/buffer name, once a given module name is inside, every submodule of it will be sent to the\n",
       "        same device. If we only pass the device (*e.g.*, `\"cpu\"`, `\"cuda:1\"`, `\"mps\"`, or a GPU ordinal rank\n",
       "        like `1`) on which the model will be allocated, the device map will map the entire model to this\n",
       "        device. Passing `device_map = 0` means put the whole model on GPU 0.\n",
       "\n",
       "        To have Accelerate compute the most optimized `device_map` automatically, set `device_map=\"auto\"`. For\n",
       "        more information about each option see [designing a device\n",
       "        map](https://hf.co/docs/accelerate/main/en/usage_guides/big_modeling#designing-a-device-map).\n",
       "    max_memory (`Dict`, *optional*):\n",
       "        A dictionary device identifier to maximum memory. Will default to the maximum memory available for each\n",
       "        GPU and the available CPU RAM if unset.\n",
       "    offload_folder (`str` or `os.PathLike`, *optional*):\n",
       "        If the `device_map` contains any value `\"disk\"`, the folder where we will offload weights.\n",
       "    offload_state_dict (`bool`, *optional*):\n",
       "        If `True`, will temporarily offload the CPU state dict to the hard drive to avoid getting out of CPU\n",
       "        RAM if the weight of the CPU state dict + the biggest shard of the checkpoint does not fit. Defaults to\n",
       "        `True` when there is some disk offload.\n",
       "    offload_buffers (`bool`, *optional*):\n",
       "        Whether or not to offload the buffers with the model parameters.\n",
       "    quantization_config (`Union[QuantizationConfigMixin,Dict]`, *optional*):\n",
       "        A dictionary of configuration parameters or a QuantizationConfigMixin object for quantization (e.g\n",
       "        bitsandbytes, gptq). There may be other quantization-related kwargs, including `load_in_4bit` and\n",
       "        `load_in_8bit`, which are parsed by QuantizationConfigParser. Supported only for bitsandbytes\n",
       "        quantizations and not preferred. consider inserting all such arguments into quantization_config\n",
       "        instead.\n",
       "    subfolder (`str`, *optional*, defaults to `\"\"`):\n",
       "        In case the relevant files are located inside a subfolder of the model repo on huggingface.co, you can\n",
       "        specify the folder name here.\n",
       "    variant (`str`, *optional*):\n",
       "        If specified load weights from `variant` filename, *e.g.* pytorch_model.<variant>.bin. `variant` is\n",
       "        ignored when using `from_tf` or `from_flax`.\n",
       "    use_safetensors (`bool`, *optional*, defaults to `None`):\n",
       "        Whether or not to use `safetensors` checkpoints. Defaults to `None`. If not specified and `safetensors`\n",
       "        is not installed, it will be set to `False`.\n",
       "\n",
       "    weights_only (`bool`, *optional*, defaults to `True`):\n",
       "        Indicates whether unpickler should be restricted to loading only tensors, primitive types,\n",
       "        dictionaries and any types added via torch.serialization.add_safe_globals().\n",
       "        When set to False, we can load wrapper tensor subclass weights.\n",
       "\n",
       "    kwargs (remaining dictionary of keyword arguments, *optional*):\n",
       "        Can be used to update the configuration object (after it being loaded) and initiate the model (e.g.,\n",
       "        `output_attentions=True`). Behaves differently depending on whether a `config` is provided or\n",
       "        automatically loaded:\n",
       "\n",
       "            - If a configuration is provided with `config`, `**kwargs` will be directly passed to the\n",
       "              underlying model's `__init__` method (we assume all relevant updates to the configuration have\n",
       "              already been done)\n",
       "            - If a configuration is not provided, `kwargs` will be first passed to the configuration class\n",
       "              initialization function ([`~PretrainedConfig.from_pretrained`]). Each key of `kwargs` that\n",
       "              corresponds to a configuration attribute will be used to override said attribute with the\n",
       "              supplied `kwargs` value. Remaining keys that do not correspond to any configuration attribute\n",
       "              will be passed to the underlying model's `__init__` function.\n",
       "\n",
       "<Tip>\n",
       "\n",
       "Activate the special [\"offline-mode\"](https://huggingface.co/transformers/installation.html#offline-mode) to\n",
       "use this method in a firewalled environment.\n",
       "\n",
       "</Tip>\n",
       "\n",
       "Examples:\n",
       "\n",
       "```python\n",
       ">>> from transformers import BertConfig, BertModel\n",
       "\n",
       ">>> # Download model and configuration from huggingface.co and cache.\n",
       ">>> model = BertModel.from_pretrained(\"google-bert/bert-base-uncased\")\n",
       ">>> # Model was saved using *save_pretrained('./test/saved_model/')* (for example purposes, not runnable).\n",
       ">>> model = BertModel.from_pretrained(\"./test/saved_model/\")\n",
       ">>> # Update configuration during loading.\n",
       ">>> model = BertModel.from_pretrained(\"google-bert/bert-base-uncased\", output_attentions=True)\n",
       ">>> assert model.config.output_attentions == True\n",
       ">>> # Loading from a TF checkpoint file instead of a PyTorch model (slower, for example purposes, not runnable).\n",
       ">>> config = BertConfig.from_json_file(\"./tf_model/my_tf_model_config.json\")\n",
       ">>> model = BertModel.from_pretrained(\"./tf_model/my_tf_checkpoint.ckpt.index\", from_tf=True, config=config)\n",
       ">>> # Loading from a Flax checkpoint file instead of a PyTorch model (slower)\n",
       ">>> model = BertModel.from_pretrained(\"google-bert/bert-base-uncased\", from_flax=True)\n",
       "```\n",
       "\n",
       "* `low_cpu_mem_usage` algorithm:\n",
       "\n",
       "This is an experimental function that loads the model using ~1x model size CPU memory\n",
       "\n",
       "Here is how it works:\n",
       "\n",
       "1. save which state_dict keys we have\n",
       "2. drop state_dict before the model is created, since the latter takes 1x model size CPU memory\n",
       "3. after the model has been instantiated switch to the meta device all params/buffers that\n",
       "are going to be replaced from the loaded state_dict\n",
       "4. load state_dict 2nd time\n",
       "5. replace the params/buffers from the state_dict\n",
       "\n",
       "Currently, it can't handle deepspeed ZeRO stage 3 and ignores loading errors</td>\n",
       "    </tr>\n",
       "    <tr>\n",
       "      <th id=\"T_ba02d_level1_row47\" class=\"row_heading level1 row47\" >generate</th>\n",
       "      <td id=\"T_ba02d_row47_col0\" class=\"data row47 col0\" >Generates sequences of token ids for models with a language modeling head.\n",
       "\n",
       "<Tip warning={true}>\n",
       "\n",
       "Most generation-controlling parameters are set in `generation_config` which, if not passed, will be set to the\n",
       "model's default generation configuration. You can override any `generation_config` by passing the corresponding\n",
       "parameters to generate(), e.g. `.generate(inputs, num_beams=4, do_sample=True)`.\n",
       "\n",
       "For an overview of generation strategies and code examples, check out the [following\n",
       "guide](../generation_strategies).\n",
       "\n",
       "</Tip>\n",
       "\n",
       "Parameters:\n",
       "    inputs (`torch.Tensor` of varying shape depending on the modality, *optional*):\n",
       "        The sequence used as a prompt for the generation or as model inputs to the encoder. If `None` the\n",
       "        method initializes it with `bos_token_id` and a batch size of 1. For decoder-only models `inputs`\n",
       "        should be in the format of `input_ids`. For encoder-decoder models *inputs* can represent any of\n",
       "        `input_ids`, `input_values`, `input_features`, or `pixel_values`.\n",
       "    generation_config ([`~generation.GenerationConfig`], *optional*):\n",
       "        The generation configuration to be used as base parametrization for the generation call. `**kwargs`\n",
       "        passed to generate matching the attributes of `generation_config` will override them. If\n",
       "        `generation_config` is not provided, the default will be used, which has the following loading\n",
       "        priority: 1) from the `generation_config.json` model file, if it exists; 2) from the model\n",
       "        configuration. Please note that unspecified parameters will inherit [`~generation.GenerationConfig`]'s\n",
       "        default values, whose documentation should be checked to parameterize generation.\n",
       "    logits_processor (`LogitsProcessorList`, *optional*):\n",
       "        Custom logits processors that complement the default logits processors built from arguments and\n",
       "        generation config. If a logit processor is passed that is already created with the arguments or a\n",
       "        generation config an error is thrown. This feature is intended for advanced users.\n",
       "    stopping_criteria (`StoppingCriteriaList`, *optional*):\n",
       "        Custom stopping criteria that complements the default stopping criteria built from arguments and a\n",
       "        generation config. If a stopping criteria is passed that is already created with the arguments or a\n",
       "        generation config an error is thrown. If your stopping criteria depends on the `scores` input, make\n",
       "        sure you pass `return_dict_in_generate=True, output_scores=True` to `generate`. This feature is\n",
       "        intended for advanced users.\n",
       "    prefix_allowed_tokens_fn (`Callable[[int, torch.Tensor], List[int]]`, *optional*):\n",
       "        If provided, this function constraints the beam search to allowed tokens only at each step. If not\n",
       "        provided no constraint is applied. This function takes 2 arguments: the batch ID `batch_id` and\n",
       "        `input_ids`. It has to return a list with the allowed tokens for the next generation step conditioned\n",
       "        on the batch ID `batch_id` and the previously generated tokens `inputs_ids`. This argument is useful\n",
       "        for constrained generation conditioned on the prefix, as described in [Autoregressive Entity\n",
       "        Retrieval](https://arxiv.org/abs/2010.00904).\n",
       "    synced_gpus (`bool`, *optional*):\n",
       "        Whether to continue running the while loop until max_length. Unless overridden, this flag will be set\n",
       "        to `True` if using `FullyShardedDataParallel` or DeepSpeed ZeRO Stage 3 with multiple GPUs to avoid\n",
       "        deadlocking if one GPU finishes generating before other GPUs. Otherwise, defaults to `False`.\n",
       "    assistant_model (`PreTrainedModel`, *optional*):\n",
       "        An assistant model that can be used to accelerate generation. The assistant model must have the exact\n",
       "        same tokenizer. The acceleration is achieved when forecasting candidate tokens with the assistant model\n",
       "        is much faster than running generation with the model you're calling generate from. As such, the\n",
       "        assistant model should be much smaller.\n",
       "    streamer (`BaseStreamer`, *optional*):\n",
       "        Streamer object that will be used to stream the generated sequences. Generated tokens are passed\n",
       "        through `streamer.put(token_ids)` and the streamer is responsible for any further processing.\n",
       "    negative_prompt_ids (`torch.LongTensor` of shape `(batch_size, sequence_length)`, *optional*):\n",
       "        The negative prompt needed for some processors such as CFG. The batch size must match the input batch\n",
       "        size. This is an experimental feature, subject to breaking API changes in future versions.\n",
       "    negative_prompt_attention_mask (`torch.LongTensor` of shape `(batch_size, sequence_length)`, *optional*):\n",
       "        Attention_mask for `negative_prompt_ids`.\n",
       "    kwargs (`Dict[str, Any]`, *optional*):\n",
       "        Ad hoc parametrization of `generation_config` and/or additional model-specific kwargs that will be\n",
       "        forwarded to the `forward` function of the model. If the model is an encoder-decoder model, encoder\n",
       "        specific kwargs should not be prefixed and decoder specific kwargs should be prefixed with *decoder_*.\n",
       "\n",
       "Return:\n",
       "    [`~utils.ModelOutput`] or `torch.LongTensor`: A [`~utils.ModelOutput`] (if `return_dict_in_generate=True`\n",
       "    or when `config.return_dict_in_generate=True`) or a `torch.LongTensor`.\n",
       "\n",
       "        If the model is *not* an encoder-decoder model (`model.config.is_encoder_decoder=False`), the possible\n",
       "        [`~utils.ModelOutput`] types are:\n",
       "\n",
       "            - [`~generation.GenerateDecoderOnlyOutput`],\n",
       "            - [`~generation.GenerateBeamDecoderOnlyOutput`]\n",
       "\n",
       "        If the model is an encoder-decoder model (`model.config.is_encoder_decoder=True`), the possible\n",
       "        [`~utils.ModelOutput`] types are:\n",
       "\n",
       "            - [`~generation.GenerateEncoderDecoderOutput`],\n",
       "            - [`~generation.GenerateBeamEncoderDecoderOutput`]</td>\n",
       "    </tr>\n",
       "    <tr>\n",
       "      <th id=\"T_ba02d_level1_row48\" class=\"row_heading level1 row48\" >get_adapter_state_dict</th>\n",
       "      <td id=\"T_ba02d_row48_col0\" class=\"data row48 col0\" >If you are not familiar with adapters and PEFT methods, we invite you to read more about them on the PEFT\n",
       "official documentation: https://huggingface.co/docs/peft\n",
       "\n",
       "Gets the adapter state dict that should only contain the weights tensors of the specified adapter_name adapter.\n",
       "If no adapter_name is passed, the active adapter is used.\n",
       "\n",
       "Args:\n",
       "    adapter_name (`str`, *optional*):\n",
       "        The name of the adapter to get the state dict from. If no name is passed, the active adapter is used.</td>\n",
       "    </tr>\n",
       "    <tr>\n",
       "      <th id=\"T_ba02d_level1_row49\" class=\"row_heading level1 row49\" >get_buffer</th>\n",
       "      <td id=\"T_ba02d_row49_col0\" class=\"data row49 col0\" >Return the buffer given by ``target`` if it exists, otherwise throw an error.\n",
       "\n",
       "See the docstring for ``get_submodule`` for a more detailed\n",
       "explanation of this method's functionality as well as how to\n",
       "correctly specify ``target``.\n",
       "\n",
       "Args:\n",
       "    target: The fully-qualified string name of the buffer\n",
       "        to look for. (See ``get_submodule`` for how to specify a\n",
       "        fully-qualified string.)\n",
       "\n",
       "Returns:\n",
       "    torch.Tensor: The buffer referenced by ``target``\n",
       "\n",
       "Raises:\n",
       "    AttributeError: If the target string references an invalid\n",
       "        path or resolves to something that is not a\n",
       "        buffer</td>\n",
       "    </tr>\n",
       "    <tr>\n",
       "      <th id=\"T_ba02d_level1_row50\" class=\"row_heading level1 row50\" >get_extended_attention_mask</th>\n",
       "      <td id=\"T_ba02d_row50_col0\" class=\"data row50 col0\" >Makes broadcastable attention and causal masks so that future and masked tokens are ignored.\n",
       "\n",
       "Arguments:\n",
       "    attention_mask (`torch.Tensor`):\n",
       "        Mask with ones indicating tokens to attend to, zeros for tokens to ignore.\n",
       "    input_shape (`Tuple[int]`):\n",
       "        The shape of the input to the model.\n",
       "\n",
       "Returns:\n",
       "    `torch.Tensor` The extended attention mask, with a the same dtype as `attention_mask.dtype`.</td>\n",
       "    </tr>\n",
       "    <tr>\n",
       "      <th id=\"T_ba02d_level1_row51\" class=\"row_heading level1 row51\" >get_extra_state</th>\n",
       "      <td id=\"T_ba02d_row51_col0\" class=\"data row51 col0\" >Return any extra state to include in the module's state_dict.\n",
       "\n",
       "Implement this and a corresponding :func:`set_extra_state` for your module\n",
       "if you need to store extra state. This function is called when building the\n",
       "module's `state_dict()`.\n",
       "\n",
       "Note that extra state should be picklable to ensure working serialization\n",
       "of the state_dict. We only provide provide backwards compatibility guarantees\n",
       "for serializing Tensors; other objects may break backwards compatibility if\n",
       "their serialized pickled form changes.\n",
       "\n",
       "Returns:\n",
       "    object: Any extra state to store in the module's state_dict</td>\n",
       "    </tr>\n",
       "    <tr>\n",
       "      <th id=\"T_ba02d_level1_row52\" class=\"row_heading level1 row52\" >get_head_mask</th>\n",
       "      <td id=\"T_ba02d_row52_col0\" class=\"data row52 col0\" >Prepare the head mask if needed.\n",
       "\n",
       "Args:\n",
       "    head_mask (`torch.Tensor` with shape `[num_heads]` or `[num_hidden_layers x num_heads]`, *optional*):\n",
       "        The mask indicating if we should keep the heads or not (1.0 for keep, 0.0 for discard).\n",
       "    num_hidden_layers (`int`):\n",
       "        The number of hidden layers in the model.\n",
       "    is_attention_chunked (`bool`, *optional*, defaults to `False`):\n",
       "        Whether or not the attentions scores are computed by chunks or not.\n",
       "\n",
       "Returns:\n",
       "    `torch.Tensor` with shape `[num_hidden_layers x batch x num_heads x seq_length x seq_length]` or list with\n",
       "    `[None]` for each layer.</td>\n",
       "    </tr>\n",
       "    <tr>\n",
       "      <th id=\"T_ba02d_level1_row53\" class=\"row_heading level1 row53\" >get_input_embeddings</th>\n",
       "      <td id=\"T_ba02d_row53_col0\" class=\"data row53 col0\" >Returns the model's input embeddings.\n",
       "\n",
       "Returns:\n",
       "    `nn.Module`: A torch module mapping vocabulary to hidden states.</td>\n",
       "    </tr>\n",
       "    <tr>\n",
       "      <th id=\"T_ba02d_level1_row54\" class=\"row_heading level1 row54\" >get_memory_footprint</th>\n",
       "      <td id=\"T_ba02d_row54_col0\" class=\"data row54 col0\" >Get the memory footprint of a model. This will return the memory footprint of the current model in bytes.\n",
       "Useful to benchmark the memory footprint of the current model and design some tests. Solution inspired from the\n",
       "PyTorch discussions: https://discuss.pytorch.org/t/gpu-memory-that-model-uses/56822/2\n",
       "\n",
       "Arguments:\n",
       "    return_buffers (`bool`, *optional*, defaults to `True`):\n",
       "        Whether to return the size of the buffer tensors in the computation of the memory footprint. Buffers\n",
       "        are tensors that do not require gradients and not registered as parameters. E.g. mean and std in batch\n",
       "        norm layers. Please see: https://discuss.pytorch.org/t/what-pytorch-means-by-buffers/120266/2</td>\n",
       "    </tr>\n",
       "    <tr>\n",
       "      <th id=\"T_ba02d_level1_row55\" class=\"row_heading level1 row55\" >get_output_embeddings</th>\n",
       "      <td id=\"T_ba02d_row55_col0\" class=\"data row55 col0\" >Returns the model's output embeddings.\n",
       "\n",
       "Returns:\n",
       "    `nn.Module`: A torch module mapping hidden states to vocabulary.</td>\n",
       "    </tr>\n",
       "    <tr>\n",
       "      <th id=\"T_ba02d_level1_row56\" class=\"row_heading level1 row56\" >get_parameter</th>\n",
       "      <td id=\"T_ba02d_row56_col0\" class=\"data row56 col0\" >Return the parameter given by ``target`` if it exists, otherwise throw an error.\n",
       "\n",
       "See the docstring for ``get_submodule`` for a more detailed\n",
       "explanation of this method's functionality as well as how to\n",
       "correctly specify ``target``.\n",
       "\n",
       "Args:\n",
       "    target: The fully-qualified string name of the Parameter\n",
       "        to look for. (See ``get_submodule`` for how to specify a\n",
       "        fully-qualified string.)\n",
       "\n",
       "Returns:\n",
       "    torch.nn.Parameter: The Parameter referenced by ``target``\n",
       "\n",
       "Raises:\n",
       "    AttributeError: If the target string references an invalid\n",
       "        path or resolves to something that is not an\n",
       "        ``nn.Parameter``</td>\n",
       "    </tr>\n",
       "    <tr>\n",
       "      <th id=\"T_ba02d_level1_row57\" class=\"row_heading level1 row57\" >get_submodule</th>\n",
       "      <td id=\"T_ba02d_row57_col0\" class=\"data row57 col0\" >Return the submodule given by ``target`` if it exists, otherwise throw an error.\n",
       "\n",
       "For example, let's say you have an ``nn.Module`` ``A`` that\n",
       "looks like this:\n",
       "\n",
       ".. code-block:: text\n",
       "\n",
       "    A(\n",
       "        (net_b): Module(\n",
       "            (net_c): Module(\n",
       "                (conv): Conv2d(16, 33, kernel_size=(3, 3), stride=(2, 2))\n",
       "            )\n",
       "            (linear): Linear(in_features=100, out_features=200, bias=True)\n",
       "        )\n",
       "    )\n",
       "\n",
       "(The diagram shows an ``nn.Module`` ``A``. ``A`` has a nested\n",
       "submodule ``net_b``, which itself has two submodules ``net_c``\n",
       "and ``linear``. ``net_c`` then has a submodule ``conv``.)\n",
       "\n",
       "To check whether or not we have the ``linear`` submodule, we\n",
       "would call ``get_submodule(\"net_b.linear\")``. To check whether\n",
       "we have the ``conv`` submodule, we would call\n",
       "``get_submodule(\"net_b.net_c.conv\")``.\n",
       "\n",
       "The runtime of ``get_submodule`` is bounded by the degree\n",
       "of module nesting in ``target``. A query against\n",
       "``named_modules`` achieves the same result, but it is O(N) in\n",
       "the number of transitive modules. So, for a simple check to see\n",
       "if some submodule exists, ``get_submodule`` should always be\n",
       "used.\n",
       "\n",
       "Args:\n",
       "    target: The fully-qualified string name of the submodule\n",
       "        to look for. (See above example for how to specify a\n",
       "        fully-qualified string.)\n",
       "\n",
       "Returns:\n",
       "    torch.nn.Module: The submodule referenced by ``target``\n",
       "\n",
       "Raises:\n",
       "    AttributeError: If the target string references an invalid\n",
       "        path or resolves to something that is not an\n",
       "        ``nn.Module``</td>\n",
       "    </tr>\n",
       "    <tr>\n",
       "      <th id=\"T_ba02d_level1_row58\" class=\"row_heading level1 row58\" >gradient_checkpointing_disable</th>\n",
       "      <td id=\"T_ba02d_row58_col0\" class=\"data row58 col0\" >Deactivates gradient checkpointing for the current model.\n",
       "\n",
       "Note that in other frameworks this feature can be referred to as \"activation checkpointing\" or \"checkpoint\n",
       "activations\".</td>\n",
       "    </tr>\n",
       "    <tr>\n",
       "      <th id=\"T_ba02d_level1_row59\" class=\"row_heading level1 row59\" >gradient_checkpointing_enable</th>\n",
       "      <td id=\"T_ba02d_row59_col0\" class=\"data row59 col0\" >Activates gradient checkpointing for the current model.\n",
       "\n",
       "Note that in other frameworks this feature can be referred to as \"activation checkpointing\" or \"checkpoint\n",
       "activations\".\n",
       "\n",
       "We pass the `__call__` method of the modules instead of `forward` because `__call__` attaches all the hooks of\n",
       "the module. https://discuss.pytorch.org/t/any-different-between-model-input-and-model-forward-input/3690/2\n",
       "\n",
       "Args:\n",
       "    gradient_checkpointing_kwargs (dict, *optional*):\n",
       "        Additional keyword arguments passed along to the `torch.utils.checkpoint.checkpoint` function.</td>\n",
       "    </tr>\n",
       "    <tr>\n",
       "      <th id=\"T_ba02d_level1_row60\" class=\"row_heading level1 row60\" >half</th>\n",
       "      <td id=\"T_ba02d_row60_col0\" class=\"data row60 col0\" >Casts all floating point parameters and buffers to ``half`` datatype.\n",
       "\n",
       ".. note::\n",
       "    This method modifies the module in-place.\n",
       "\n",
       "Returns:\n",
       "    Module: self</td>\n",
       "    </tr>\n",
       "    <tr>\n",
       "      <th id=\"T_ba02d_level1_row61\" class=\"row_heading level1 row61\" >heal_tokens</th>\n",
       "      <td id=\"T_ba02d_row61_col0\" class=\"data row61 col0\" >Generates sequences of token ids for models with a language modeling head.\n",
       "Parameters:\n",
       "    input_ids (`torch.LongTensor`): The sequence used as a prompt for the generation.\n",
       "    tokenizer (`PreTrainedTokenizerBase`, *optional*): The tokenizer used to decode the input ids.\n",
       "Return:\n",
       "    `torch.LongTensor` where each sequence has its tail token replaced with its appropriate extension.</td>\n",
       "    </tr>\n",
       "    <tr>\n",
       "      <th id=\"T_ba02d_level1_row62\" class=\"row_heading level1 row62\" >init_weights</th>\n",
       "      <td id=\"T_ba02d_row62_col0\" class=\"data row62 col0\" >If needed prunes and maybe initializes weights. If using a custom `PreTrainedModel`, you need to implement any\n",
       "initialization logic in `_init_weights`.</td>\n",
       "    </tr>\n",
       "    <tr>\n",
       "      <th id=\"T_ba02d_level1_row63\" class=\"row_heading level1 row63\" >invert_attention_mask</th>\n",
       "      <td id=\"T_ba02d_row63_col0\" class=\"data row63 col0\" >Invert an attention mask (e.g., switches 0. and 1.).\n",
       "\n",
       "Args:\n",
       "    encoder_attention_mask (`torch.Tensor`): An attention mask.\n",
       "\n",
       "Returns:\n",
       "    `torch.Tensor`: The inverted attention mask.</td>\n",
       "    </tr>\n",
       "    <tr>\n",
       "      <th id=\"T_ba02d_level1_row64\" class=\"row_heading level1 row64\" >ipu</th>\n",
       "      <td id=\"T_ba02d_row64_col0\" class=\"data row64 col0\" >Move all model parameters and buffers to the IPU.\n",
       "\n",
       "This also makes associated parameters and buffers different objects. So\n",
       "it should be called before constructing optimizer if the module will\n",
       "live on IPU while being optimized.\n",
       "\n",
       ".. note::\n",
       "    This method modifies the module in-place.\n",
       "\n",
       "Arguments:\n",
       "    device (int, optional): if specified, all parameters will be\n",
       "        copied to that device\n",
       "\n",
       "Returns:\n",
       "    Module: self</td>\n",
       "    </tr>\n",
       "    <tr>\n",
       "      <th id=\"T_ba02d_level1_row65\" class=\"row_heading level1 row65\" >load_adapter</th>\n",
       "      <td id=\"T_ba02d_row65_col0\" class=\"data row65 col0\" >Load adapter weights from file or remote Hub folder. If you are not familiar with adapters and PEFT methods, we\n",
       "invite you to read more about them on PEFT official documentation: https://huggingface.co/docs/peft\n",
       "\n",
       "Requires peft as a backend to load the adapter weights.\n",
       "\n",
       "Args:\n",
       "    peft_model_id (`str`, *optional*):\n",
       "        The identifier of the model to look for on the Hub, or a local path to the saved adapter config file\n",
       "        and adapter weights.\n",
       "    adapter_name (`str`, *optional*):\n",
       "        The adapter name to use. If not set, will use the default adapter.\n",
       "    revision (`str`, *optional*, defaults to `\"main\"`):\n",
       "        The specific model version to use. It can be a branch name, a tag name, or a commit id, since we use a\n",
       "        git-based system for storing models and other artifacts on huggingface.co, so `revision` can be any\n",
       "        identifier allowed by git.\n",
       "\n",
       "        <Tip>\n",
       "\n",
       "        To test a pull request you made on the Hub, you can pass `revision=\"refs/pr/<pr_number>\"`.\n",
       "\n",
       "        </Tip>\n",
       "\n",
       "    token (`str`, `optional`):\n",
       "        Whether to use authentication token to load the remote folder. Userful to load private repositories\n",
       "        that are on HuggingFace Hub. You might need to call `huggingface-cli login` and paste your tokens to\n",
       "        cache it.\n",
       "    device_map (`str` or `Dict[str, Union[int, str, torch.device]]` or `int` or `torch.device`, *optional*):\n",
       "        A map that specifies where each submodule should go. It doesn't need to be refined to each\n",
       "        parameter/buffer name, once a given module name is inside, every submodule of it will be sent to the\n",
       "        same device. If we only pass the device (*e.g.*, `\"cpu\"`, `\"cuda:1\"`, `\"mps\"`, or a GPU ordinal rank\n",
       "        like `1`) on which the model will be allocated, the device map will map the entire model to this\n",
       "        device. Passing `device_map = 0` means put the whole model on GPU 0.\n",
       "\n",
       "        To have Accelerate compute the most optimized `device_map` automatically, set `device_map=\"auto\"`. For\n",
       "        more information about each option see [designing a device\n",
       "        map](https://hf.co/docs/accelerate/main/en/usage_guides/big_modeling#designing-a-device-map).\n",
       "    max_memory (`Dict`, *optional*):\n",
       "        A dictionary device identifier to maximum memory. Will default to the maximum memory available for each\n",
       "        GPU and the available CPU RAM if unset.\n",
       "    offload_folder (`str` or `os.PathLike`, `optional`):\n",
       "        If the `device_map` contains any value `\"disk\"`, the folder where we will offload weights.\n",
       "    offload_index (`int`, `optional`):\n",
       "        `offload_index` argument to be passed to `accelerate.dispatch_model` method.\n",
       "    peft_config (`Dict[str, Any]`, *optional*):\n",
       "        The configuration of the adapter to add, supported adapters are non-prefix tuning and adaption prompts\n",
       "        methods. This argument is used in case users directly pass PEFT state dicts\n",
       "    adapter_state_dict (`Dict[str, torch.Tensor]`, *optional*):\n",
       "        The state dict of the adapter to load. This argument is used in case users directly pass PEFT state\n",
       "        dicts\n",
       "    low_cpu_mem_usage (`bool`, *optional*, defaults to `False`):\n",
       "        Reduce memory usage while loading the PEFT adapter. This should also speed up the loading process.\n",
       "        Requires PEFT version 0.13.0 or higher.\n",
       "    adapter_kwargs (`Dict[str, Any]`, *optional*):\n",
       "        Additional keyword arguments passed along to the `from_pretrained` method of the adapter config and\n",
       "        `find_adapter_config_file` method.</td>\n",
       "    </tr>\n",
       "    <tr>\n",
       "      <th id=\"T_ba02d_level1_row66\" class=\"row_heading level1 row66\" >load_state_dict</th>\n",
       "      <td id=\"T_ba02d_row66_col0\" class=\"data row66 col0\" >Copy parameters and buffers from :attr:`state_dict` into this module and its descendants.\n",
       "\n",
       "If :attr:`strict` is ``True``, then\n",
       "the keys of :attr:`state_dict` must exactly match the keys returned\n",
       "by this module's :meth:`~torch.nn.Module.state_dict` function.\n",
       "\n",
       ".. warning::\n",
       "    If :attr:`assign` is ``True`` the optimizer must be created after\n",
       "    the call to :attr:`load_state_dict` unless\n",
       "    :func:`~torch.__future__.get_swap_module_params_on_conversion` is ``True``.\n",
       "\n",
       "Args:\n",
       "    state_dict (dict): a dict containing parameters and\n",
       "        persistent buffers.\n",
       "    strict (bool, optional): whether to strictly enforce that the keys\n",
       "        in :attr:`state_dict` match the keys returned by this module's\n",
       "        :meth:`~torch.nn.Module.state_dict` function. Default: ``True``\n",
       "    assign (bool, optional): When ``False``, the properties of the tensors\n",
       "        in the current module are preserved while when ``True``, the\n",
       "        properties of the Tensors in the state dict are preserved. The only\n",
       "        exception is the ``requires_grad`` field of :class:`~torch.nn.Parameter`s\n",
       "        for which the value from the module is preserved.\n",
       "        Default: ``False``\n",
       "\n",
       "Returns:\n",
       "    ``NamedTuple`` with ``missing_keys`` and ``unexpected_keys`` fields:\n",
       "        * **missing_keys** is a list of str containing any keys that are expected\n",
       "            by this module but missing from the provided ``state_dict``.\n",
       "        * **unexpected_keys** is a list of str containing the keys that are not\n",
       "            expected by this module but present in the provided ``state_dict``.\n",
       "\n",
       "Note:\n",
       "    If a parameter or buffer is registered as ``None`` and its corresponding key\n",
       "    exists in :attr:`state_dict`, :meth:`load_state_dict` will raise a\n",
       "    ``RuntimeError``.</td>\n",
       "    </tr>\n",
       "    <tr>\n",
       "      <th id=\"T_ba02d_level1_row67\" class=\"row_heading level1 row67\" >modules</th>\n",
       "      <td id=\"T_ba02d_row67_col0\" class=\"data row67 col0\" >Return an iterator over all modules in the network.\n",
       "\n",
       "Yields:\n",
       "    Module: a module in the network\n",
       "\n",
       "Note:\n",
       "    Duplicate modules are returned only once. In the following\n",
       "    example, ``l`` will be returned only once.\n",
       "\n",
       "Example::\n",
       "\n",
       "    >>> l = nn.Linear(2, 2)\n",
       "    >>> net = nn.Sequential(l, l)\n",
       "    >>> for idx, m in enumerate(net.modules()):\n",
       "    ...     print(idx, '->', m)\n",
       "\n",
       "    0 -> Sequential(\n",
       "      (0): Linear(in_features=2, out_features=2, bias=True)\n",
       "      (1): Linear(in_features=2, out_features=2, bias=True)\n",
       "    )\n",
       "    1 -> Linear(in_features=2, out_features=2, bias=True)</td>\n",
       "    </tr>\n",
       "    <tr>\n",
       "      <th id=\"T_ba02d_level1_row68\" class=\"row_heading level1 row68\" >named_buffers</th>\n",
       "      <td id=\"T_ba02d_row68_col0\" class=\"data row68 col0\" >Return an iterator over module buffers, yielding both the name of the buffer as well as the buffer itself.\n",
       "\n",
       "Args:\n",
       "    prefix (str): prefix to prepend to all buffer names.\n",
       "    recurse (bool, optional): if True, then yields buffers of this module\n",
       "        and all submodules. Otherwise, yields only buffers that\n",
       "        are direct members of this module. Defaults to True.\n",
       "    remove_duplicate (bool, optional): whether to remove the duplicated buffers in the result. Defaults to True.\n",
       "\n",
       "Yields:\n",
       "    (str, torch.Tensor): Tuple containing the name and buffer\n",
       "\n",
       "Example::\n",
       "\n",
       "    >>> # xdoctest: +SKIP(\"undefined vars\")\n",
       "    >>> for name, buf in self.named_buffers():\n",
       "    >>>     if name in ['running_var']:\n",
       "    >>>         print(buf.size())</td>\n",
       "    </tr>\n",
       "    <tr>\n",
       "      <th id=\"T_ba02d_level1_row69\" class=\"row_heading level1 row69\" >named_children</th>\n",
       "      <td id=\"T_ba02d_row69_col0\" class=\"data row69 col0\" >Return an iterator over immediate children modules, yielding both the name of the module as well as the module itself.\n",
       "\n",
       "Yields:\n",
       "    (str, Module): Tuple containing a name and child module\n",
       "\n",
       "Example::\n",
       "\n",
       "    >>> # xdoctest: +SKIP(\"undefined vars\")\n",
       "    >>> for name, module in model.named_children():\n",
       "    >>>     if name in ['conv4', 'conv5']:\n",
       "    >>>         print(module)</td>\n",
       "    </tr>\n",
       "    <tr>\n",
       "      <th id=\"T_ba02d_level1_row70\" class=\"row_heading level1 row70\" >named_modules</th>\n",
       "      <td id=\"T_ba02d_row70_col0\" class=\"data row70 col0\" >Return an iterator over all modules in the network, yielding both the name of the module as well as the module itself.\n",
       "\n",
       "Args:\n",
       "    memo: a memo to store the set of modules already added to the result\n",
       "    prefix: a prefix that will be added to the name of the module\n",
       "    remove_duplicate: whether to remove the duplicated module instances in the result\n",
       "        or not\n",
       "\n",
       "Yields:\n",
       "    (str, Module): Tuple of name and module\n",
       "\n",
       "Note:\n",
       "    Duplicate modules are returned only once. In the following\n",
       "    example, ``l`` will be returned only once.\n",
       "\n",
       "Example::\n",
       "\n",
       "    >>> l = nn.Linear(2, 2)\n",
       "    >>> net = nn.Sequential(l, l)\n",
       "    >>> for idx, m in enumerate(net.named_modules()):\n",
       "    ...     print(idx, '->', m)\n",
       "\n",
       "    0 -> ('', Sequential(\n",
       "      (0): Linear(in_features=2, out_features=2, bias=True)\n",
       "      (1): Linear(in_features=2, out_features=2, bias=True)\n",
       "    ))\n",
       "    1 -> ('0', Linear(in_features=2, out_features=2, bias=True))</td>\n",
       "    </tr>\n",
       "    <tr>\n",
       "      <th id=\"T_ba02d_level1_row71\" class=\"row_heading level1 row71\" >named_parameters</th>\n",
       "      <td id=\"T_ba02d_row71_col0\" class=\"data row71 col0\" >Return an iterator over module parameters, yielding both the name of the parameter as well as the parameter itself.\n",
       "\n",
       "Args:\n",
       "    prefix (str): prefix to prepend to all parameter names.\n",
       "    recurse (bool): if True, then yields parameters of this module\n",
       "        and all submodules. Otherwise, yields only parameters that\n",
       "        are direct members of this module.\n",
       "    remove_duplicate (bool, optional): whether to remove the duplicated\n",
       "        parameters in the result. Defaults to True.\n",
       "\n",
       "Yields:\n",
       "    (str, Parameter): Tuple containing the name and parameter\n",
       "\n",
       "Example::\n",
       "\n",
       "    >>> # xdoctest: +SKIP(\"undefined vars\")\n",
       "    >>> for name, param in self.named_parameters():\n",
       "    >>>     if name in ['bias']:\n",
       "    >>>         print(param.size())</td>\n",
       "    </tr>\n",
       "    <tr>\n",
       "      <th id=\"T_ba02d_level1_row72\" class=\"row_heading level1 row72\" >num_parameters</th>\n",
       "      <td id=\"T_ba02d_row72_col0\" class=\"data row72 col0\" >Get number of (optionally, trainable or non-embeddings) parameters in the module.\n",
       "\n",
       "Args:\n",
       "    only_trainable (`bool`, *optional*, defaults to `False`):\n",
       "        Whether or not to return only the number of trainable parameters\n",
       "\n",
       "    exclude_embeddings (`bool`, *optional*, defaults to `False`):\n",
       "        Whether or not to return only the number of non-embeddings parameters\n",
       "\n",
       "Returns:\n",
       "    `int`: The number of parameters.</td>\n",
       "    </tr>\n",
       "    <tr>\n",
       "      <th id=\"T_ba02d_level1_row73\" class=\"row_heading level1 row73\" >parameters</th>\n",
       "      <td id=\"T_ba02d_row73_col0\" class=\"data row73 col0\" >Return an iterator over module parameters.\n",
       "\n",
       "This is typically passed to an optimizer.\n",
       "\n",
       "Args:\n",
       "    recurse (bool): if True, then yields parameters of this module\n",
       "        and all submodules. Otherwise, yields only parameters that\n",
       "        are direct members of this module.\n",
       "\n",
       "Yields:\n",
       "    Parameter: module parameter\n",
       "\n",
       "Example::\n",
       "\n",
       "    >>> # xdoctest: +SKIP(\"undefined vars\")\n",
       "    >>> for param in model.parameters():\n",
       "    >>>     print(type(param), param.size())\n",
       "    <class 'torch.Tensor'> (20L,)\n",
       "    <class 'torch.Tensor'> (20L, 1L, 5L, 5L)</td>\n",
       "    </tr>\n",
       "    <tr>\n",
       "      <th id=\"T_ba02d_level1_row74\" class=\"row_heading level1 row74\" >post_init</th>\n",
       "      <td id=\"T_ba02d_row74_col0\" class=\"data row74 col0\" >A method executed at the end of each Transformer model initialization, to execute code that needs the model's\n",
       "modules properly initialized (such as weight initialization).</td>\n",
       "    </tr>\n",
       "    <tr>\n",
       "      <th id=\"T_ba02d_level1_row75\" class=\"row_heading level1 row75\" >prepare_inputs_for_generation</th>\n",
       "      <td id=\"T_ba02d_row75_col0\" class=\"data row75 col0\" >Prepare the model inputs for generation. In includes operations like computing the 4D attention mask or\n",
       "slicing inputs given the existing cache.\n",
       "\n",
       "See the forward pass in the model documentation for expected arguments (different models might have different\n",
       "requirements for e.g. `past_key_values`). This function should work as is for most LLMs.</td>\n",
       "    </tr>\n",
       "    <tr>\n",
       "      <th id=\"T_ba02d_level1_row76\" class=\"row_heading level1 row76\" >prune_heads</th>\n",
       "      <td id=\"T_ba02d_row76_col0\" class=\"data row76 col0\" >Prunes heads of the base model.\n",
       "\n",
       "Arguments:\n",
       "    heads_to_prune (`Dict[int, List[int]]`):\n",
       "        Dictionary with keys being selected layer indices (`int`) and associated values being the list of heads\n",
       "        to prune in said layer (list of `int`). For instance {1: [0, 2], 2: [2, 3]} will prune heads 0 and 2 on\n",
       "        layer 1 and heads 2 and 3 on layer 2.</td>\n",
       "    </tr>\n",
       "    <tr>\n",
       "      <th id=\"T_ba02d_level1_row77\" class=\"row_heading level1 row77\" >push_to_hub</th>\n",
       "      <td id=\"T_ba02d_row77_col0\" class=\"data row77 col0\" >Upload the model file to the 🤗 Model Hub.\n",
       "\n",
       "Parameters:\n",
       "    repo_id (`str`):\n",
       "        The name of the repository you want to push your model to. It should contain your organization name\n",
       "        when pushing to a given organization.\n",
       "    use_temp_dir (`bool`, *optional*):\n",
       "        Whether or not to use a temporary directory to store the files saved before they are pushed to the Hub.\n",
       "        Will default to `True` if there is no directory named like `repo_id`, `False` otherwise.\n",
       "    commit_message (`str`, *optional*):\n",
       "        Message to commit while pushing. Will default to `\"Upload model\"`.\n",
       "    private (`bool`, *optional*):\n",
       "        Whether or not the repository created should be private.\n",
       "    token (`bool` or `str`, *optional*):\n",
       "        The token to use as HTTP bearer authorization for remote files. If `True`, will use the token generated\n",
       "        when running `huggingface-cli login` (stored in `~/.huggingface`). Will default to `True` if `repo_url`\n",
       "        is not specified.\n",
       "    max_shard_size (`int` or `str`, *optional*, defaults to `\"5GB\"`):\n",
       "        Only applicable for models. The maximum size for a checkpoint before being sharded. Checkpoints shard\n",
       "        will then be each of size lower than this size. If expressed as a string, needs to be digits followed\n",
       "        by a unit (like `\"5MB\"`). We default it to `\"5GB\"` so that users can easily load models on free-tier\n",
       "        Google Colab instances without any CPU OOM issues.\n",
       "    create_pr (`bool`, *optional*, defaults to `False`):\n",
       "        Whether or not to create a PR with the uploaded files or directly commit.\n",
       "    safe_serialization (`bool`, *optional*, defaults to `True`):\n",
       "        Whether or not to convert the model weights in safetensors format for safer serialization.\n",
       "    revision (`str`, *optional*):\n",
       "        Branch to push the uploaded files to.\n",
       "    commit_description (`str`, *optional*):\n",
       "        The description of the commit that will be created\n",
       "    tags (`List[str]`, *optional*):\n",
       "        List of tags to push on the Hub.\n",
       "\n",
       "Examples:\n",
       "\n",
       "```python\n",
       "from transformers import AutoModel\n",
       "\n",
       "model = AutoModel.from_pretrained(\"google-bert/bert-base-cased\")\n",
       "\n",
       "# Push the model to your namespace with the name \"my-finetuned-bert\".\n",
       "model.push_to_hub(\"my-finetuned-bert\")\n",
       "\n",
       "# Push the model to an organization with the name \"my-finetuned-bert\".\n",
       "model.push_to_hub(\"huggingface/my-finetuned-bert\")\n",
       "```</td>\n",
       "    </tr>\n",
       "    <tr>\n",
       "      <th id=\"T_ba02d_level1_row78\" class=\"row_heading level1 row78\" >register_backward_hook</th>\n",
       "      <td id=\"T_ba02d_row78_col0\" class=\"data row78 col0\" >Register a backward hook on the module.\n",
       "\n",
       "This function is deprecated in favor of :meth:`~torch.nn.Module.register_full_backward_hook` and\n",
       "the behavior of this function will change in future versions.\n",
       "\n",
       "Returns:\n",
       "    :class:`torch.utils.hooks.RemovableHandle`:\n",
       "        a handle that can be used to remove the added hook by calling\n",
       "        ``handle.remove()``</td>\n",
       "    </tr>\n",
       "    <tr>\n",
       "      <th id=\"T_ba02d_level1_row79\" class=\"row_heading level1 row79\" >register_buffer</th>\n",
       "      <td id=\"T_ba02d_row79_col0\" class=\"data row79 col0\" >Add a buffer to the module.\n",
       "\n",
       "This is typically used to register a buffer that should not to be\n",
       "considered a model parameter. For example, BatchNorm's ``running_mean``\n",
       "is not a parameter, but is part of the module's state. Buffers, by\n",
       "default, are persistent and will be saved alongside parameters. This\n",
       "behavior can be changed by setting :attr:`persistent` to ``False``. The\n",
       "only difference between a persistent buffer and a non-persistent buffer\n",
       "is that the latter will not be a part of this module's\n",
       ":attr:`state_dict`.\n",
       "\n",
       "Buffers can be accessed as attributes using given names.\n",
       "\n",
       "Args:\n",
       "    name (str): name of the buffer. The buffer can be accessed\n",
       "        from this module using the given name\n",
       "    tensor (Tensor or None): buffer to be registered. If ``None``, then operations\n",
       "        that run on buffers, such as :attr:`cuda`, are ignored. If ``None``,\n",
       "        the buffer is **not** included in the module's :attr:`state_dict`.\n",
       "    persistent (bool): whether the buffer is part of this module's\n",
       "        :attr:`state_dict`.\n",
       "\n",
       "Example::\n",
       "\n",
       "    >>> # xdoctest: +SKIP(\"undefined vars\")\n",
       "    >>> self.register_buffer('running_mean', torch.zeros(num_features))</td>\n",
       "    </tr>\n",
       "    <tr>\n",
       "      <th id=\"T_ba02d_level1_row80\" class=\"row_heading level1 row80\" >register_for_auto_class</th>\n",
       "      <td id=\"T_ba02d_row80_col0\" class=\"data row80 col0\" >Register this class with a given auto class. This should only be used for custom models as the ones in the\n",
       "library are already mapped with an auto class.\n",
       "\n",
       "<Tip warning={true}>\n",
       "\n",
       "This API is experimental and may have some slight breaking changes in the next releases.\n",
       "\n",
       "</Tip>\n",
       "\n",
       "Args:\n",
       "    auto_class (`str` or `type`, *optional*, defaults to `\"AutoModel\"`):\n",
       "        The auto class to register this new model with.</td>\n",
       "    </tr>\n",
       "    <tr>\n",
       "      <th id=\"T_ba02d_level1_row81\" class=\"row_heading level1 row81\" >register_forward_hook</th>\n",
       "      <td id=\"T_ba02d_row81_col0\" class=\"data row81 col0\" >Register a forward hook on the module.\n",
       "\n",
       "The hook will be called every time after :func:`forward` has computed an output.\n",
       "\n",
       "If ``with_kwargs`` is ``False`` or not specified, the input contains only\n",
       "the positional arguments given to the module. Keyword arguments won't be\n",
       "passed to the hooks and only to the ``forward``. The hook can modify the\n",
       "output. It can modify the input inplace but it will not have effect on\n",
       "forward since this is called after :func:`forward` is called. The hook\n",
       "should have the following signature::\n",
       "\n",
       "    hook(module, args, output) -> None or modified output\n",
       "\n",
       "If ``with_kwargs`` is ``True``, the forward hook will be passed the\n",
       "``kwargs`` given to the forward function and be expected to return the\n",
       "output possibly modified. The hook should have the following signature::\n",
       "\n",
       "    hook(module, args, kwargs, output) -> None or modified output\n",
       "\n",
       "Args:\n",
       "    hook (Callable): The user defined hook to be registered.\n",
       "    prepend (bool): If ``True``, the provided ``hook`` will be fired\n",
       "        before all existing ``forward`` hooks on this\n",
       "        :class:`torch.nn.modules.Module`. Otherwise, the provided\n",
       "        ``hook`` will be fired after all existing ``forward`` hooks on\n",
       "        this :class:`torch.nn.modules.Module`. Note that global\n",
       "        ``forward`` hooks registered with\n",
       "        :func:`register_module_forward_hook` will fire before all hooks\n",
       "        registered by this method.\n",
       "        Default: ``False``\n",
       "    with_kwargs (bool): If ``True``, the ``hook`` will be passed the\n",
       "        kwargs given to the forward function.\n",
       "        Default: ``False``\n",
       "    always_call (bool): If ``True`` the ``hook`` will be run regardless of\n",
       "        whether an exception is raised while calling the Module.\n",
       "        Default: ``False``\n",
       "\n",
       "Returns:\n",
       "    :class:`torch.utils.hooks.RemovableHandle`:\n",
       "        a handle that can be used to remove the added hook by calling\n",
       "        ``handle.remove()``</td>\n",
       "    </tr>\n",
       "    <tr>\n",
       "      <th id=\"T_ba02d_level1_row82\" class=\"row_heading level1 row82\" >register_forward_pre_hook</th>\n",
       "      <td id=\"T_ba02d_row82_col0\" class=\"data row82 col0\" >Register a forward pre-hook on the module.\n",
       "\n",
       "The hook will be called every time before :func:`forward` is invoked.\n",
       "\n",
       "\n",
       "If ``with_kwargs`` is false or not specified, the input contains only\n",
       "the positional arguments given to the module. Keyword arguments won't be\n",
       "passed to the hooks and only to the ``forward``. The hook can modify the\n",
       "input. User can either return a tuple or a single modified value in the\n",
       "hook. We will wrap the value into a tuple if a single value is returned\n",
       "(unless that value is already a tuple). The hook should have the\n",
       "following signature::\n",
       "\n",
       "    hook(module, args) -> None or modified input\n",
       "\n",
       "If ``with_kwargs`` is true, the forward pre-hook will be passed the\n",
       "kwargs given to the forward function. And if the hook modifies the\n",
       "input, both the args and kwargs should be returned. The hook should have\n",
       "the following signature::\n",
       "\n",
       "    hook(module, args, kwargs) -> None or a tuple of modified input and kwargs\n",
       "\n",
       "Args:\n",
       "    hook (Callable): The user defined hook to be registered.\n",
       "    prepend (bool): If true, the provided ``hook`` will be fired before\n",
       "        all existing ``forward_pre`` hooks on this\n",
       "        :class:`torch.nn.modules.Module`. Otherwise, the provided\n",
       "        ``hook`` will be fired after all existing ``forward_pre`` hooks\n",
       "        on this :class:`torch.nn.modules.Module`. Note that global\n",
       "        ``forward_pre`` hooks registered with\n",
       "        :func:`register_module_forward_pre_hook` will fire before all\n",
       "        hooks registered by this method.\n",
       "        Default: ``False``\n",
       "    with_kwargs (bool): If true, the ``hook`` will be passed the kwargs\n",
       "        given to the forward function.\n",
       "        Default: ``False``\n",
       "\n",
       "Returns:\n",
       "    :class:`torch.utils.hooks.RemovableHandle`:\n",
       "        a handle that can be used to remove the added hook by calling\n",
       "        ``handle.remove()``</td>\n",
       "    </tr>\n",
       "    <tr>\n",
       "      <th id=\"T_ba02d_level1_row83\" class=\"row_heading level1 row83\" >register_full_backward_hook</th>\n",
       "      <td id=\"T_ba02d_row83_col0\" class=\"data row83 col0\" >Register a backward hook on the module.\n",
       "\n",
       "The hook will be called every time the gradients with respect to a module\n",
       "are computed, i.e. the hook will execute if and only if the gradients with\n",
       "respect to module outputs are computed. The hook should have the following\n",
       "signature::\n",
       "\n",
       "    hook(module, grad_input, grad_output) -> tuple(Tensor) or None\n",
       "\n",
       "The :attr:`grad_input` and :attr:`grad_output` are tuples that contain the gradients\n",
       "with respect to the inputs and outputs respectively. The hook should\n",
       "not modify its arguments, but it can optionally return a new gradient with\n",
       "respect to the input that will be used in place of :attr:`grad_input` in\n",
       "subsequent computations. :attr:`grad_input` will only correspond to the inputs given\n",
       "as positional arguments and all kwarg arguments are ignored. Entries\n",
       "in :attr:`grad_input` and :attr:`grad_output` will be ``None`` for all non-Tensor\n",
       "arguments.\n",
       "\n",
       "For technical reasons, when this hook is applied to a Module, its forward function will\n",
       "receive a view of each Tensor passed to the Module. Similarly the caller will receive a view\n",
       "of each Tensor returned by the Module's forward function.\n",
       "\n",
       ".. warning ::\n",
       "    Modifying inputs or outputs inplace is not allowed when using backward hooks and\n",
       "    will raise an error.\n",
       "\n",
       "Args:\n",
       "    hook (Callable): The user-defined hook to be registered.\n",
       "    prepend (bool): If true, the provided ``hook`` will be fired before\n",
       "        all existing ``backward`` hooks on this\n",
       "        :class:`torch.nn.modules.Module`. Otherwise, the provided\n",
       "        ``hook`` will be fired after all existing ``backward`` hooks on\n",
       "        this :class:`torch.nn.modules.Module`. Note that global\n",
       "        ``backward`` hooks registered with\n",
       "        :func:`register_module_full_backward_hook` will fire before\n",
       "        all hooks registered by this method.\n",
       "\n",
       "Returns:\n",
       "    :class:`torch.utils.hooks.RemovableHandle`:\n",
       "        a handle that can be used to remove the added hook by calling\n",
       "        ``handle.remove()``</td>\n",
       "    </tr>\n",
       "    <tr>\n",
       "      <th id=\"T_ba02d_level1_row84\" class=\"row_heading level1 row84\" >register_full_backward_pre_hook</th>\n",
       "      <td id=\"T_ba02d_row84_col0\" class=\"data row84 col0\" >Register a backward pre-hook on the module.\n",
       "\n",
       "The hook will be called every time the gradients for the module are computed.\n",
       "The hook should have the following signature::\n",
       "\n",
       "    hook(module, grad_output) -> tuple[Tensor] or None\n",
       "\n",
       "The :attr:`grad_output` is a tuple. The hook should\n",
       "not modify its arguments, but it can optionally return a new gradient with\n",
       "respect to the output that will be used in place of :attr:`grad_output` in\n",
       "subsequent computations. Entries in :attr:`grad_output` will be ``None`` for\n",
       "all non-Tensor arguments.\n",
       "\n",
       "For technical reasons, when this hook is applied to a Module, its forward function will\n",
       "receive a view of each Tensor passed to the Module. Similarly the caller will receive a view\n",
       "of each Tensor returned by the Module's forward function.\n",
       "\n",
       ".. warning ::\n",
       "    Modifying inputs inplace is not allowed when using backward hooks and\n",
       "    will raise an error.\n",
       "\n",
       "Args:\n",
       "    hook (Callable): The user-defined hook to be registered.\n",
       "    prepend (bool): If true, the provided ``hook`` will be fired before\n",
       "        all existing ``backward_pre`` hooks on this\n",
       "        :class:`torch.nn.modules.Module`. Otherwise, the provided\n",
       "        ``hook`` will be fired after all existing ``backward_pre`` hooks\n",
       "        on this :class:`torch.nn.modules.Module`. Note that global\n",
       "        ``backward_pre`` hooks registered with\n",
       "        :func:`register_module_full_backward_pre_hook` will fire before\n",
       "        all hooks registered by this method.\n",
       "\n",
       "Returns:\n",
       "    :class:`torch.utils.hooks.RemovableHandle`:\n",
       "        a handle that can be used to remove the added hook by calling\n",
       "        ``handle.remove()``</td>\n",
       "    </tr>\n",
       "    <tr>\n",
       "      <th id=\"T_ba02d_level1_row85\" class=\"row_heading level1 row85\" >register_load_state_dict_post_hook</th>\n",
       "      <td id=\"T_ba02d_row85_col0\" class=\"data row85 col0\" >Register a post hook to be run after module's ``load_state_dict`` is called.\n",
       "\n",
       "It should have the following signature::\n",
       "    hook(module, incompatible_keys) -> None\n",
       "\n",
       "The ``module`` argument is the current module that this hook is registered\n",
       "on, and the ``incompatible_keys`` argument is a ``NamedTuple`` consisting\n",
       "of attributes ``missing_keys`` and ``unexpected_keys``. ``missing_keys``\n",
       "is a ``list`` of ``str`` containing the missing keys and\n",
       "``unexpected_keys`` is a ``list`` of ``str`` containing the unexpected keys.\n",
       "\n",
       "The given incompatible_keys can be modified inplace if needed.\n",
       "\n",
       "Note that the checks performed when calling :func:`load_state_dict` with\n",
       "``strict=True`` are affected by modifications the hook makes to\n",
       "``missing_keys`` or ``unexpected_keys``, as expected. Additions to either\n",
       "set of keys will result in an error being thrown when ``strict=True``, and\n",
       "clearing out both missing and unexpected keys will avoid an error.\n",
       "\n",
       "Returns:\n",
       "    :class:`torch.utils.hooks.RemovableHandle`:\n",
       "        a handle that can be used to remove the added hook by calling\n",
       "        ``handle.remove()``</td>\n",
       "    </tr>\n",
       "    <tr>\n",
       "      <th id=\"T_ba02d_level1_row86\" class=\"row_heading level1 row86\" >register_module</th>\n",
       "      <td id=\"T_ba02d_row86_col0\" class=\"data row86 col0\" >Alias for :func:`add_module`.</td>\n",
       "    </tr>\n",
       "    <tr>\n",
       "      <th id=\"T_ba02d_level1_row87\" class=\"row_heading level1 row87\" >register_parameter</th>\n",
       "      <td id=\"T_ba02d_row87_col0\" class=\"data row87 col0\" >Add a parameter to the module.\n",
       "\n",
       "The parameter can be accessed as an attribute using given name.\n",
       "\n",
       "Args:\n",
       "    name (str): name of the parameter. The parameter can be accessed\n",
       "        from this module using the given name\n",
       "    param (Parameter or None): parameter to be added to the module. If\n",
       "        ``None``, then operations that run on parameters, such as :attr:`cuda`,\n",
       "        are ignored. If ``None``, the parameter is **not** included in the\n",
       "        module's :attr:`state_dict`.</td>\n",
       "    </tr>\n",
       "    <tr>\n",
       "      <th id=\"T_ba02d_level1_row88\" class=\"row_heading level1 row88\" >register_state_dict_pre_hook</th>\n",
       "      <td id=\"T_ba02d_row88_col0\" class=\"data row88 col0\" >Register a pre-hook for the :meth:`~torch.nn.Module.state_dict` method.\n",
       "\n",
       "These hooks will be called with arguments: ``self``, ``prefix``,\n",
       "and ``keep_vars`` before calling ``state_dict`` on ``self``. The registered\n",
       "hooks can be used to perform pre-processing before the ``state_dict``\n",
       "call is made.</td>\n",
       "    </tr>\n",
       "    <tr>\n",
       "      <th id=\"T_ba02d_level1_row89\" class=\"row_heading level1 row89\" >requires_grad_</th>\n",
       "      <td id=\"T_ba02d_row89_col0\" class=\"data row89 col0\" >Change if autograd should record operations on parameters in this module.\n",
       "\n",
       "This method sets the parameters' :attr:`requires_grad` attributes\n",
       "in-place.\n",
       "\n",
       "This method is helpful for freezing part of the module for finetuning\n",
       "or training parts of a model individually (e.g., GAN training).\n",
       "\n",
       "See :ref:`locally-disable-grad-doc` for a comparison between\n",
       "`.requires_grad_()` and several similar mechanisms that may be confused with it.\n",
       "\n",
       "Args:\n",
       "    requires_grad (bool): whether autograd should record operations on\n",
       "                          parameters in this module. Default: ``True``.\n",
       "\n",
       "Returns:\n",
       "    Module: self</td>\n",
       "    </tr>\n",
       "    <tr>\n",
       "      <th id=\"T_ba02d_level1_row90\" class=\"row_heading level1 row90\" >reset_memory_hooks_state</th>\n",
       "      <td id=\"T_ba02d_row90_col0\" class=\"data row90 col0\" >Reset the `mem_rss_diff` attribute of each module (see [`~modeling_utils.ModuleUtilsMixin.add_memory_hooks`]).</td>\n",
       "    </tr>\n",
       "    <tr>\n",
       "      <th id=\"T_ba02d_level1_row91\" class=\"row_heading level1 row91\" >resize_token_embeddings</th>\n",
       "      <td id=\"T_ba02d_row91_col0\" class=\"data row91 col0\" >Resizes input token embeddings matrix of the model if `new_num_tokens != config.vocab_size`.\n",
       "\n",
       "Takes care of tying weights embeddings afterwards if the model class has a `tie_weights()` method.\n",
       "\n",
       "Arguments:\n",
       "    new_num_tokens (`int`, *optional*):\n",
       "        The new number of tokens in the embedding matrix. Increasing the size will add newly initialized\n",
       "        vectors at the end. Reducing the size will remove vectors from the end. If not provided or `None`, just\n",
       "        returns a pointer to the input tokens `torch.nn.Embedding` module of the model without doing anything.\n",
       "    pad_to_multiple_of (`int`, *optional*):\n",
       "        If set will pad the embedding matrix to a multiple of the provided value.If `new_num_tokens` is set to\n",
       "        `None` will just pad the embedding to a multiple of `pad_to_multiple_of`.\n",
       "\n",
       "        This is especially useful to enable the use of Tensor Cores on NVIDIA hardware with compute capability\n",
       "        `>= 7.5` (Volta), or on TPUs which benefit from having sequence lengths be a multiple of 128. For more\n",
       "        details about this, or help on choosing the correct value for resizing, refer to this guide:\n",
       "        https://docs.nvidia.com/deeplearning/performance/dl-performance-matrix-multiplication/index.html#requirements-tc\n",
       "    mean_resizing (`bool`):\n",
       "        Whether to initialize the added embeddings from a multivariate normal distribution that has old embeddings' mean and\n",
       "        covariance or to initialize them with a normal distribution that has a mean of zero and std equals `config.initializer_range`.\n",
       "\n",
       "        Setting `mean_resizing` to `True` is useful when increasing the size of the embeddings of causal language models,\n",
       "        where the generated tokens' probabilities won't be affected by the added embeddings because initializing the new embeddings with the\n",
       "        old embeddings' mean will reduce the kl-divergence between the next token probability before and after adding the new embeddings.\n",
       "        Refer to this article for more information: https://nlp.stanford.edu/~johnhew/vocab-expansion.html\n",
       "\n",
       "Return:\n",
       "    `torch.nn.Embedding`: Pointer to the input tokens Embeddings Module of the model.</td>\n",
       "    </tr>\n",
       "    <tr>\n",
       "      <th id=\"T_ba02d_level1_row92\" class=\"row_heading level1 row92\" >reverse_bettertransformer</th>\n",
       "      <td id=\"T_ba02d_row92_col0\" class=\"data row92 col0\" >Reverts the transformation from [`~PreTrainedModel.to_bettertransformer`] so that the original modeling is\n",
       "used, for example in order to save the model.\n",
       "\n",
       "Returns:\n",
       "    [`PreTrainedModel`]: The model converted back to the original modeling.</td>\n",
       "    </tr>\n",
       "    <tr>\n",
       "      <th id=\"T_ba02d_level1_row93\" class=\"row_heading level1 row93\" >save_pretrained</th>\n",
       "      <td id=\"T_ba02d_row93_col0\" class=\"data row93 col0\" >Save a model and its configuration file to a directory, so that it can be re-loaded using the\n",
       "[`~PreTrainedModel.from_pretrained`] class method.\n",
       "\n",
       "Arguments:\n",
       "    save_directory (`str` or `os.PathLike`):\n",
       "        Directory to which to save. Will be created if it doesn't exist.\n",
       "    is_main_process (`bool`, *optional*, defaults to `True`):\n",
       "        Whether the process calling this is the main process or not. Useful when in distributed training like\n",
       "        TPUs and need to call this function on all processes. In this case, set `is_main_process=True` only on\n",
       "        the main process to avoid race conditions.\n",
       "    state_dict (nested dictionary of `torch.Tensor`):\n",
       "        The state dictionary of the model to save. Will default to `self.state_dict()`, but can be used to only\n",
       "        save parts of the model or if special precautions need to be taken when recovering the state dictionary\n",
       "        of a model (like when using model parallelism).\n",
       "    save_function (`Callable`):\n",
       "        The function to use to save the state dictionary. Useful on distributed training like TPUs when one\n",
       "        need to replace `torch.save` by another method.\n",
       "    push_to_hub (`bool`, *optional*, defaults to `False`):\n",
       "        Whether or not to push your model to the Hugging Face model hub after saving it. You can specify the\n",
       "        repository you want to push to with `repo_id` (will default to the name of `save_directory` in your\n",
       "        namespace).\n",
       "    max_shard_size (`int` or `str`, *optional*, defaults to `\"5GB\"`):\n",
       "        The maximum size for a checkpoint before being sharded. Checkpoints shard will then be each of size\n",
       "        lower than this size. If expressed as a string, needs to be digits followed by a unit (like `\"5MB\"`).\n",
       "        We default it to 5GB in order for models to be able to run easily on free-tier google colab instances\n",
       "        without CPU OOM issues.\n",
       "\n",
       "        <Tip warning={true}>\n",
       "\n",
       "        If a single weight of the model is bigger than `max_shard_size`, it will be in its own checkpoint shard\n",
       "        which will be bigger than `max_shard_size`.\n",
       "\n",
       "        </Tip>\n",
       "\n",
       "    safe_serialization (`bool`, *optional*, defaults to `True`):\n",
       "        Whether to save the model using `safetensors` or the traditional PyTorch way (that uses `pickle`).\n",
       "    variant (`str`, *optional*):\n",
       "        If specified, weights are saved in the format pytorch_model.<variant>.bin.\n",
       "    token (`str` or `bool`, *optional*):\n",
       "        The token to use as HTTP bearer authorization for remote files. If `True`, or not specified, will use\n",
       "        the token generated when running `huggingface-cli login` (stored in `~/.huggingface`).\n",
       "    save_peft_format (`bool`, *optional*, defaults to `True`):\n",
       "        For backward compatibility with PEFT library, in case adapter weights are attached to the model, all\n",
       "        keys of the state dict of adapters needs to be pre-pended with `base_model.model`. Advanced users can\n",
       "        disable this behaviours by setting `save_peft_format` to `False`.\n",
       "    kwargs (`Dict[str, Any]`, *optional*):\n",
       "        Additional key word arguments passed along to the [`~utils.PushToHubMixin.push_to_hub`] method.</td>\n",
       "    </tr>\n",
       "    <tr>\n",
       "      <th id=\"T_ba02d_level1_row94\" class=\"row_heading level1 row94\" >set_adapter</th>\n",
       "      <td id=\"T_ba02d_row94_col0\" class=\"data row94 col0\" >If you are not familiar with adapters and PEFT methods, we invite you to read more about them on the PEFT\n",
       "official documentation: https://huggingface.co/docs/peft\n",
       "\n",
       "Sets a specific adapter by forcing the model to use a that adapter and disable the other adapters.\n",
       "\n",
       "Args:\n",
       "    adapter_name (`Union[List[str], str]`):\n",
       "        The name of the adapter to set. Can be also a list of strings to set multiple adapters.</td>\n",
       "    </tr>\n",
       "    <tr>\n",
       "      <th id=\"T_ba02d_level1_row95\" class=\"row_heading level1 row95\" >set_extra_state</th>\n",
       "      <td id=\"T_ba02d_row95_col0\" class=\"data row95 col0\" >Set extra state contained in the loaded `state_dict`.\n",
       "\n",
       "This function is called from :func:`load_state_dict` to handle any extra state\n",
       "found within the `state_dict`. Implement this function and a corresponding\n",
       ":func:`get_extra_state` for your module if you need to store extra state within its\n",
       "`state_dict`.\n",
       "\n",
       "Args:\n",
       "    state (dict): Extra state from the `state_dict`</td>\n",
       "    </tr>\n",
       "    <tr>\n",
       "      <th id=\"T_ba02d_level1_row96\" class=\"row_heading level1 row96\" >set_input_embeddings</th>\n",
       "      <td id=\"T_ba02d_row96_col0\" class=\"data row96 col0\" >Set model's input embeddings.\n",
       "\n",
       "Args:\n",
       "    value (`nn.Module`): A module mapping vocabulary to hidden states.</td>\n",
       "    </tr>\n",
       "    <tr>\n",
       "      <th id=\"T_ba02d_level1_row97\" class=\"row_heading level1 row97\" >share_memory</th>\n",
       "      <td id=\"T_ba02d_row97_col0\" class=\"data row97 col0\" >See :meth:`torch.Tensor.share_memory_`.</td>\n",
       "    </tr>\n",
       "    <tr>\n",
       "      <th id=\"T_ba02d_level1_row98\" class=\"row_heading level1 row98\" >state_dict</th>\n",
       "      <td id=\"T_ba02d_row98_col0\" class=\"data row98 col0\" >Return a dictionary containing references to the whole state of the module.\n",
       "\n",
       "Both parameters and persistent buffers (e.g. running averages) are\n",
       "included. Keys are corresponding parameter and buffer names.\n",
       "Parameters and buffers set to ``None`` are not included.\n",
       "\n",
       ".. note::\n",
       "    The returned object is a shallow copy. It contains references\n",
       "    to the module's parameters and buffers.\n",
       "\n",
       ".. warning::\n",
       "    Currently ``state_dict()`` also accepts positional arguments for\n",
       "    ``destination``, ``prefix`` and ``keep_vars`` in order. However,\n",
       "    this is being deprecated and keyword arguments will be enforced in\n",
       "    future releases.\n",
       "\n",
       ".. warning::\n",
       "    Please avoid the use of argument ``destination`` as it is not\n",
       "    designed for end-users.\n",
       "\n",
       "Args:\n",
       "    destination (dict, optional): If provided, the state of module will\n",
       "        be updated into the dict and the same object is returned.\n",
       "        Otherwise, an ``OrderedDict`` will be created and returned.\n",
       "        Default: ``None``.\n",
       "    prefix (str, optional): a prefix added to parameter and buffer\n",
       "        names to compose the keys in state_dict. Default: ``''``.\n",
       "    keep_vars (bool, optional): by default the :class:`~torch.Tensor` s\n",
       "        returned in the state dict are detached from autograd. If it's\n",
       "        set to ``True``, detaching will not be performed.\n",
       "        Default: ``False``.\n",
       "\n",
       "Returns:\n",
       "    dict:\n",
       "        a dictionary containing a whole state of the module\n",
       "\n",
       "Example::\n",
       "\n",
       "    >>> # xdoctest: +SKIP(\"undefined vars\")\n",
       "    >>> module.state_dict().keys()\n",
       "    ['bias', 'weight']</td>\n",
       "    </tr>\n",
       "    <tr>\n",
       "      <th id=\"T_ba02d_level1_row99\" class=\"row_heading level1 row99\" >tie_weights</th>\n",
       "      <td id=\"T_ba02d_row99_col0\" class=\"data row99 col0\" >Tie the weights between the input embeddings and the output embeddings.\n",
       "\n",
       "If the `torchscript` flag is set in the configuration, can't handle parameter sharing so we are cloning the\n",
       "weights instead.</td>\n",
       "    </tr>\n",
       "    <tr>\n",
       "      <th id=\"T_ba02d_level1_row100\" class=\"row_heading level1 row100\" >to</th>\n",
       "      <td id=\"T_ba02d_row100_col0\" class=\"data row100 col0\" >Move and/or cast the parameters and buffers.\n",
       "\n",
       "This can be called as\n",
       "\n",
       ".. function:: to(device=None, dtype=None, non_blocking=False)\n",
       "   :noindex:\n",
       "\n",
       ".. function:: to(dtype, non_blocking=False)\n",
       "   :noindex:\n",
       "\n",
       ".. function:: to(tensor, non_blocking=False)\n",
       "   :noindex:\n",
       "\n",
       ".. function:: to(memory_format=torch.channels_last)\n",
       "   :noindex:\n",
       "\n",
       "Its signature is similar to :meth:`torch.Tensor.to`, but only accepts\n",
       "floating point or complex :attr:`dtype`\\ s. In addition, this method will\n",
       "only cast the floating point or complex parameters and buffers to :attr:`dtype`\n",
       "(if given). The integral parameters and buffers will be moved\n",
       ":attr:`device`, if that is given, but with dtypes unchanged. When\n",
       ":attr:`non_blocking` is set, it tries to convert/move asynchronously\n",
       "with respect to the host if possible, e.g., moving CPU Tensors with\n",
       "pinned memory to CUDA devices.\n",
       "\n",
       "See below for examples.\n",
       "\n",
       ".. note::\n",
       "    This method modifies the module in-place.\n",
       "\n",
       "Args:\n",
       "    device (:class:`torch.device`): the desired device of the parameters\n",
       "        and buffers in this module\n",
       "    dtype (:class:`torch.dtype`): the desired floating point or complex dtype of\n",
       "        the parameters and buffers in this module\n",
       "    tensor (torch.Tensor): Tensor whose dtype and device are the desired\n",
       "        dtype and device for all parameters and buffers in this module\n",
       "    memory_format (:class:`torch.memory_format`): the desired memory\n",
       "        format for 4D parameters and buffers in this module (keyword\n",
       "        only argument)\n",
       "\n",
       "Returns:\n",
       "    Module: self\n",
       "\n",
       "Examples::\n",
       "\n",
       "    >>> # xdoctest: +IGNORE_WANT(\"non-deterministic\")\n",
       "    >>> linear = nn.Linear(2, 2)\n",
       "    >>> linear.weight\n",
       "    Parameter containing:\n",
       "    tensor([[ 0.1913, -0.3420],\n",
       "            [-0.5113, -0.2325]])\n",
       "    >>> linear.to(torch.double)\n",
       "    Linear(in_features=2, out_features=2, bias=True)\n",
       "    >>> linear.weight\n",
       "    Parameter containing:\n",
       "    tensor([[ 0.1913, -0.3420],\n",
       "            [-0.5113, -0.2325]], dtype=torch.float64)\n",
       "    >>> # xdoctest: +REQUIRES(env:TORCH_DOCTEST_CUDA1)\n",
       "    >>> gpu1 = torch.device(\"cuda:1\")\n",
       "    >>> linear.to(gpu1, dtype=torch.half, non_blocking=True)\n",
       "    Linear(in_features=2, out_features=2, bias=True)\n",
       "    >>> linear.weight\n",
       "    Parameter containing:\n",
       "    tensor([[ 0.1914, -0.3420],\n",
       "            [-0.5112, -0.2324]], dtype=torch.float16, device='cuda:1')\n",
       "    >>> cpu = torch.device(\"cpu\")\n",
       "    >>> linear.to(cpu)\n",
       "    Linear(in_features=2, out_features=2, bias=True)\n",
       "    >>> linear.weight\n",
       "    Parameter containing:\n",
       "    tensor([[ 0.1914, -0.3420],\n",
       "            [-0.5112, -0.2324]], dtype=torch.float16)\n",
       "\n",
       "    >>> linear = nn.Linear(2, 2, bias=None).to(torch.cdouble)\n",
       "    >>> linear.weight\n",
       "    Parameter containing:\n",
       "    tensor([[ 0.3741+0.j,  0.2382+0.j],\n",
       "            [ 0.5593+0.j, -0.4443+0.j]], dtype=torch.complex128)\n",
       "    >>> linear(torch.ones(3, 2, dtype=torch.cdouble))\n",
       "    tensor([[0.6122+0.j, 0.1150+0.j],\n",
       "            [0.6122+0.j, 0.1150+0.j],\n",
       "            [0.6122+0.j, 0.1150+0.j]], dtype=torch.complex128)</td>\n",
       "    </tr>\n",
       "    <tr>\n",
       "      <th id=\"T_ba02d_level1_row101\" class=\"row_heading level1 row101\" >to_bettertransformer</th>\n",
       "      <td id=\"T_ba02d_row101_col0\" class=\"data row101 col0\" >Converts the model to use [PyTorch's native attention\n",
       "implementation](https://pytorch.org/docs/stable/generated/torch.nn.MultiheadAttention.html), integrated to\n",
       "Transformers through [Optimum library](https://huggingface.co/docs/optimum/bettertransformer/overview). Only a\n",
       "subset of all Transformers models are supported.\n",
       "\n",
       "PyTorch's attention fastpath allows to speed up inference through kernel fusions and the use of [nested\n",
       "tensors](https://pytorch.org/docs/stable/nested.html). Detailed benchmarks can be found in [this blog\n",
       "post](https://medium.com/pytorch/bettertransformer-out-of-the-box-performance-for-huggingface-transformers-3fbe27d50ab2).\n",
       "\n",
       "Returns:\n",
       "    [`PreTrainedModel`]: The model converted to BetterTransformer.</td>\n",
       "    </tr>\n",
       "    <tr>\n",
       "      <th id=\"T_ba02d_level1_row102\" class=\"row_heading level1 row102\" >to_empty</th>\n",
       "      <td id=\"T_ba02d_row102_col0\" class=\"data row102 col0\" >Move the parameters and buffers to the specified device without copying storage.\n",
       "\n",
       "Args:\n",
       "    device (:class:`torch.device`): The desired device of the parameters\n",
       "        and buffers in this module.\n",
       "    recurse (bool): Whether parameters and buffers of submodules should\n",
       "        be recursively moved to the specified device.\n",
       "\n",
       "Returns:\n",
       "    Module: self</td>\n",
       "    </tr>\n",
       "    <tr>\n",
       "      <th id=\"T_ba02d_level1_row103\" class=\"row_heading level1 row103\" >train</th>\n",
       "      <td id=\"T_ba02d_row103_col0\" class=\"data row103 col0\" >Set the module in training mode.\n",
       "\n",
       "This has any effect only on certain modules. See documentations of\n",
       "particular modules for details of their behaviors in training/evaluation\n",
       "mode, if they are affected, e.g. :class:`Dropout`, :class:`BatchNorm`,\n",
       "etc.\n",
       "\n",
       "Args:\n",
       "    mode (bool): whether to set training mode (``True``) or evaluation\n",
       "                 mode (``False``). Default: ``True``.\n",
       "\n",
       "Returns:\n",
       "    Module: self</td>\n",
       "    </tr>\n",
       "    <tr>\n",
       "      <th id=\"T_ba02d_level1_row104\" class=\"row_heading level1 row104\" >type</th>\n",
       "      <td id=\"T_ba02d_row104_col0\" class=\"data row104 col0\" >Casts all parameters and buffers to :attr:`dst_type`.\n",
       "\n",
       ".. note::\n",
       "    This method modifies the module in-place.\n",
       "\n",
       "Args:\n",
       "    dst_type (type or string): the desired type\n",
       "\n",
       "Returns:\n",
       "    Module: self</td>\n",
       "    </tr>\n",
       "    <tr>\n",
       "      <th id=\"T_ba02d_level1_row105\" class=\"row_heading level1 row105\" >warn_if_padding_and_no_attention_mask</th>\n",
       "      <td id=\"T_ba02d_row105_col0\" class=\"data row105 col0\" >Shows a one-time warning if the input_ids appear to contain padding and no attention mask was given.</td>\n",
       "    </tr>\n",
       "    <tr>\n",
       "      <th id=\"T_ba02d_level1_row106\" class=\"row_heading level1 row106\" >xpu</th>\n",
       "      <td id=\"T_ba02d_row106_col0\" class=\"data row106 col0\" >Move all model parameters and buffers to the XPU.\n",
       "\n",
       "This also makes associated parameters and buffers different objects. So\n",
       "it should be called before constructing optimizer if the module will\n",
       "live on XPU while being optimized.\n",
       "\n",
       ".. note::\n",
       "    This method modifies the module in-place.\n",
       "\n",
       "Arguments:\n",
       "    device (int, optional): if specified, all parameters will be\n",
       "        copied to that device\n",
       "\n",
       "Returns:\n",
       "    Module: self</td>\n",
       "    </tr>\n",
       "    <tr>\n",
       "      <th id=\"T_ba02d_level1_row107\" class=\"row_heading level1 row107\" >zero_grad</th>\n",
       "      <td id=\"T_ba02d_row107_col0\" class=\"data row107 col0\" >Reset gradients of all model parameters.\n",
       "\n",
       "See similar function under :class:`torch.optim.Optimizer` for more context.\n",
       "\n",
       "Args:\n",
       "    set_to_none (bool): instead of setting to zero, set the grads to None.\n",
       "        See :meth:`torch.optim.Optimizer.zero_grad` for details.</td>\n",
       "    </tr>\n",
       "    <tr>\n",
       "      <th id=\"T_ba02d_level1_row108\" class=\"row_heading level1 row108\" >active_adapter</th>\n",
       "      <td id=\"T_ba02d_row108_col0\" class=\"data row108 col0\" >None</td>\n",
       "    </tr>\n",
       "    <tr>\n",
       "      <th id=\"T_ba02d_level1_row109\" class=\"row_heading level1 row109\" >get_position_embeddings</th>\n",
       "      <td id=\"T_ba02d_row109_col0\" class=\"data row109 col0\" >None</td>\n",
       "    </tr>\n",
       "    <tr>\n",
       "      <th id=\"T_ba02d_level1_row110\" class=\"row_heading level1 row110\" >resize_position_embeddings</th>\n",
       "      <td id=\"T_ba02d_row110_col0\" class=\"data row110 col0\" >None</td>\n",
       "    </tr>\n",
       "    <tr>\n",
       "      <th id=\"T_ba02d_level1_row111\" class=\"row_heading level1 row111\" >retrieve_modules_from_names</th>\n",
       "      <td id=\"T_ba02d_row111_col0\" class=\"data row111 col0\" >None</td>\n",
       "    </tr>\n",
       "    <tr>\n",
       "      <th id=\"T_ba02d_level0_row112\" class=\"row_heading level0 row112\" rowspan=\"4\">str</th>\n",
       "      <th id=\"T_ba02d_level1_row112\" class=\"row_heading level1 row112\" >base_model_prefix</th>\n",
       "      <td id=\"T_ba02d_row112_col0\" class=\"data row112 col0\" >str(object='') -> str\n",
       "str(bytes_or_buffer[, encoding[, errors]]) -> str\n",
       "\n",
       "Create a new string object from the given object. If encoding or\n",
       "errors is specified, then the object must expose a data buffer\n",
       "that will be decoded using the given encoding and error handler.\n",
       "Otherwise, returns the result of object.__str__() (if defined)\n",
       "or repr(object).\n",
       "encoding defaults to sys.getdefaultencoding().\n",
       "errors defaults to 'strict'.</td>\n",
       "    </tr>\n",
       "    <tr>\n",
       "      <th id=\"T_ba02d_level1_row113\" class=\"row_heading level1 row113\" >framework</th>\n",
       "      <td id=\"T_ba02d_row113_col0\" class=\"data row113 col0\" >str(object='') -> str\n",
       "str(bytes_or_buffer[, encoding[, errors]]) -> str\n",
       "\n",
       "Create a new string object from the given object. If encoding or\n",
       "errors is specified, then the object must expose a data buffer\n",
       "that will be decoded using the given encoding and error handler.\n",
       "Otherwise, returns the result of object.__str__() (if defined)\n",
       "or repr(object).\n",
       "encoding defaults to sys.getdefaultencoding().\n",
       "errors defaults to 'strict'.</td>\n",
       "    </tr>\n",
       "    <tr>\n",
       "      <th id=\"T_ba02d_level1_row114\" class=\"row_heading level1 row114\" >main_input_name</th>\n",
       "      <td id=\"T_ba02d_row114_col0\" class=\"data row114 col0\" >str(object='') -> str\n",
       "str(bytes_or_buffer[, encoding[, errors]]) -> str\n",
       "\n",
       "Create a new string object from the given object. If encoding or\n",
       "errors is specified, then the object must expose a data buffer\n",
       "that will be decoded using the given encoding and error handler.\n",
       "Otherwise, returns the result of object.__str__() (if defined)\n",
       "or repr(object).\n",
       "encoding defaults to sys.getdefaultencoding().\n",
       "errors defaults to 'strict'.</td>\n",
       "    </tr>\n",
       "    <tr>\n",
       "      <th id=\"T_ba02d_level1_row115\" class=\"row_heading level1 row115\" >name_or_path</th>\n",
       "      <td id=\"T_ba02d_row115_col0\" class=\"data row115 col0\" >str(object='') -> str\n",
       "str(bytes_or_buffer[, encoding[, errors]]) -> str\n",
       "\n",
       "Create a new string object from the given object. If encoding or\n",
       "errors is specified, then the object must expose a data buffer\n",
       "that will be decoded using the given encoding and error handler.\n",
       "Otherwise, returns the result of object.__str__() (if defined)\n",
       "or repr(object).\n",
       "encoding defaults to sys.getdefaultencoding().\n",
       "errors defaults to 'strict'.</td>\n",
       "    </tr>\n",
       "    <tr>\n",
       "      <th id=\"T_ba02d_level0_row116\" class=\"row_heading level0 row116\" >type</th>\n",
       "      <th id=\"T_ba02d_level1_row116\" class=\"row_heading level1 row116\" >config_class</th>\n",
       "      <td id=\"T_ba02d_row116_col0\" class=\"data row116 col0\" >This is the configuration class to store the configuration of a [`ViTModel`]. It is used to instantiate an ViT\n",
       "model according to the specified arguments, defining the model architecture. Instantiating a configuration with the\n",
       "defaults will yield a similar configuration to that of the ViT\n",
       "[google/vit-base-patch16-224](https://huggingface.co/google/vit-base-patch16-224) architecture.\n",
       "\n",
       "Configuration objects inherit from [`PretrainedConfig`] and can be used to control the model outputs. Read the\n",
       "documentation from [`PretrainedConfig`] for more information.\n",
       "\n",
       "\n",
       "Args:\n",
       "    hidden_size (`int`, *optional*, defaults to 768):\n",
       "        Dimensionality of the encoder layers and the pooler layer.\n",
       "    num_hidden_layers (`int`, *optional*, defaults to 12):\n",
       "        Number of hidden layers in the Transformer encoder.\n",
       "    num_attention_heads (`int`, *optional*, defaults to 12):\n",
       "        Number of attention heads for each attention layer in the Transformer encoder.\n",
       "    intermediate_size (`int`, *optional*, defaults to 3072):\n",
       "        Dimensionality of the \"intermediate\" (i.e., feed-forward) layer in the Transformer encoder.\n",
       "    hidden_act (`str` or `function`, *optional*, defaults to `\"gelu\"`):\n",
       "        The non-linear activation function (function or string) in the encoder and pooler. If string, `\"gelu\"`,\n",
       "        `\"relu\"`, `\"selu\"` and `\"gelu_new\"` are supported.\n",
       "    hidden_dropout_prob (`float`, *optional*, defaults to 0.0):\n",
       "        The dropout probability for all fully connected layers in the embeddings, encoder, and pooler.\n",
       "    attention_probs_dropout_prob (`float`, *optional*, defaults to 0.0):\n",
       "        The dropout ratio for the attention probabilities.\n",
       "    initializer_range (`float`, *optional*, defaults to 0.02):\n",
       "        The standard deviation of the truncated_normal_initializer for initializing all weight matrices.\n",
       "    layer_norm_eps (`float`, *optional*, defaults to 1e-12):\n",
       "        The epsilon used by the layer normalization layers.\n",
       "    image_size (`int`, *optional*, defaults to 224):\n",
       "        The size (resolution) of each image.\n",
       "    patch_size (`int`, *optional*, defaults to 16):\n",
       "        The size (resolution) of each patch.\n",
       "    num_channels (`int`, *optional*, defaults to 3):\n",
       "        The number of input channels.\n",
       "    qkv_bias (`bool`, *optional*, defaults to `True`):\n",
       "        Whether to add a bias to the queries, keys and values.\n",
       "    encoder_stride (`int`, *optional*, defaults to 16):\n",
       "       Factor to increase the spatial resolution by in the decoder head for masked image modeling.\n",
       "\n",
       "Example:\n",
       "\n",
       "```python\n",
       ">>> from transformers import ViTConfig, ViTModel\n",
       "\n",
       ">>> # Initializing a ViT vit-base-patch16-224 style configuration\n",
       ">>> configuration = ViTConfig()\n",
       "\n",
       ">>> # Initializing a model (with random weights) from the vit-base-patch16-224 style configuration\n",
       ">>> model = ViTModel(configuration)\n",
       "\n",
       ">>> # Accessing the model configuration\n",
       ">>> configuration = model.config\n",
       "```</td>\n",
       "    </tr>\n",
       "  </tbody>\n",
       "</table>\n"
      ],
      "text/plain": [
       "<pandas.io.formats.style.Styler at 0x7f02985cc110>"
      ]
     },
     "execution_count": 13,
     "metadata": {},
     "output_type": "execute_result"
    }
   ],
   "source": [
    "mp.tab(model2)"
   ]
  },
  {
   "cell_type": "code",
   "execution_count": 14,
   "metadata": {},
   "outputs": [
    {
     "data": {
      "text/plain": [
       "3"
      ]
     },
     "execution_count": 14,
     "metadata": {},
     "output_type": "execute_result"
    }
   ],
   "source": [
    "model2.config.num_channels"
   ]
  },
  {
   "cell_type": "markdown",
   "metadata": {},
   "source": [
    "*모델의 입력파악*"
   ]
  },
  {
   "cell_type": "code",
   "execution_count": 15,
   "metadata": {},
   "outputs": [
    {
     "data": {
      "text/plain": [
       "tensor([[[[-0.1009,  0.0782, -0.2936,  ..., -0.8261, -1.1317,  0.9066],\n",
       "          [ 0.7733,  1.4631, -0.6633,  ..., -0.3680,  0.2449, -0.7789],\n",
       "          [-1.2995, -1.8838,  0.1308,  ..., -0.2662, -0.4356,  0.8953],\n",
       "          ...,\n",
       "          [-1.6264, -1.3875,  0.8295,  ...,  0.4387,  2.0692, -0.3382],\n",
       "          [ 0.8416, -0.3607,  0.9601,  ...,  0.6325, -0.2735,  0.5620],\n",
       "          [ 2.3128,  0.3432,  0.4706,  ..., -1.4477, -0.5906,  1.6101]],\n",
       "\n",
       "         [[-0.7485,  0.7549, -1.2641,  ..., -0.7279,  0.0960, -0.4647],\n",
       "          [-0.8664, -0.3963, -0.5144,  ..., -0.1854, -0.0972,  0.2777],\n",
       "          [-0.2527,  0.0363,  1.7765,  ...,  2.2673, -0.6216,  0.0126],\n",
       "          ...,\n",
       "          [ 0.1170,  0.1373,  1.7322,  ...,  1.0348, -0.0675,  1.2776],\n",
       "          [ 0.7451,  2.3603,  0.2400,  ...,  2.9033, -0.1395, -0.4768],\n",
       "          [-1.1253,  1.3700,  0.2835,  ..., -0.1808,  0.2924,  0.3762]],\n",
       "\n",
       "         [[ 1.6625,  0.2998,  0.2963,  ..., -0.1092, -0.1848, -1.0980],\n",
       "          [-1.5162,  0.6258,  1.0644,  ..., -0.0233,  0.7193,  2.8997],\n",
       "          [-1.2072,  0.0637,  0.3468,  ..., -0.7601,  1.1253, -0.3201],\n",
       "          ...,\n",
       "          [ 0.7621, -1.2622, -1.1768,  ...,  0.4507, -0.5831, -0.2464],\n",
       "          [-0.1351, -0.4914,  1.0887,  ..., -1.1722, -0.9697,  0.4002],\n",
       "          [ 0.5476,  1.4738,  0.5386,  ...,  1.3505, -0.0407, -1.9684]]],\n",
       "\n",
       "\n",
       "        [[[ 0.0205,  1.6072, -1.6295,  ..., -1.8536,  0.9424, -2.4207],\n",
       "          [-0.2637,  0.1078, -0.5851,  ...,  1.0505,  2.5568, -1.5048],\n",
       "          [-1.8161,  0.3797,  0.2602,  ...,  0.6447,  0.7930, -1.5202],\n",
       "          ...,\n",
       "          [-0.6190, -0.7511,  0.9899,  ...,  0.7651, -0.2050,  0.8483],\n",
       "          [-0.7660, -0.2110, -1.9204,  ..., -0.6778,  0.2753, -0.3811],\n",
       "          [ 2.2644,  0.5056,  0.2056,  ..., -0.9433,  0.4809, -1.2013]],\n",
       "\n",
       "         [[-0.1762,  0.3518,  0.1411,  ...,  1.1664, -0.4803, -1.5084],\n",
       "          [ 0.2149,  1.9405,  1.4501,  ...,  0.9375,  0.1116, -0.5110],\n",
       "          [ 1.6337,  0.3375, -0.7945,  ...,  1.0044,  0.9370, -0.9928],\n",
       "          ...,\n",
       "          [-0.8338,  2.2148, -0.9090,  ...,  0.1704, -0.4884, -0.7437],\n",
       "          [-1.2930,  1.0195,  0.4175,  ...,  0.8012,  0.7123, -0.1891],\n",
       "          [-0.5710, -0.4075, -0.4146,  ...,  0.2438, -1.2221, -1.1805]],\n",
       "\n",
       "         [[ 1.1555, -0.4329, -0.3110,  ...,  0.1235,  1.7158, -1.7741],\n",
       "          [-0.9925,  0.3176, -1.8682,  ..., -0.2635,  0.8900,  1.5625],\n",
       "          [ 1.6099,  0.7112,  1.1126,  ...,  0.3603,  0.2155,  1.1254],\n",
       "          ...,\n",
       "          [-1.0946,  0.1539,  0.0776,  ...,  0.5034,  1.2998, -0.0415],\n",
       "          [-1.5609, -0.4282,  0.7448,  ..., -1.9999,  1.4257,  1.4298],\n",
       "          [ 0.2211, -0.5169,  2.0247,  ..., -0.3311, -1.6482, -0.5100]]]])"
      ]
     },
     "execution_count": 15,
     "metadata": {},
     "output_type": "execute_result"
    }
   ],
   "source": [
    "torch.randn(2,3,64,64)"
   ]
  },
  {
   "cell_type": "markdown",
   "metadata": {},
   "source": [
    "*사용예시1 -- 입력나열, loss O*"
   ]
  },
  {
   "cell_type": "code",
   "execution_count": 16,
   "metadata": {},
   "outputs": [
    {
     "data": {
      "text/plain": [
       "ImageClassifierOutput(loss=tensor(1.1295, grad_fn=<NllLossBackward0>), logits=tensor([[ 0.0349, -0.0951,  0.0233],\n",
       "        [ 0.0300, -0.1247,  0.0345]], grad_fn=<AddmmBackward0>), hidden_states=None, attentions=None)"
      ]
     },
     "execution_count": 16,
     "metadata": {},
     "output_type": "execute_result"
    }
   ],
   "source": [
    "torch.random.manual_seed(42)\n",
    "model2(\n",
    "    pixel_values = torch.randn(2,3,224,224),\n",
    "    labels = torch.tensor([0,1])\n",
    ")"
   ]
  },
  {
   "cell_type": "markdown",
   "metadata": {},
   "source": [
    "*사용예시2 -- `**딕셔너리`, loss O*"
   ]
  },
  {
   "cell_type": "code",
   "execution_count": 17,
   "metadata": {},
   "outputs": [
    {
     "data": {
      "text/plain": [
       "ImageClassifierOutput(loss=tensor(1.1295, grad_fn=<NllLossBackward0>), logits=tensor([[ 0.0349, -0.0951,  0.0233],\n",
       "        [ 0.0300, -0.1247,  0.0345]], grad_fn=<AddmmBackward0>), hidden_states=None, attentions=None)"
      ]
     },
     "execution_count": 17,
     "metadata": {},
     "output_type": "execute_result"
    }
   ],
   "source": [
    "torch.random.manual_seed(42)\n",
    "model2_input = dict(\n",
    "    pixel_values = torch.randn(2,3,224,224),\n",
    "    labels = torch.tensor([0,1])\n",
    ")\n",
    "model2(**model2_input)"
   ]
  },
  {
   "cell_type": "markdown",
   "metadata": {},
   "source": [
    "*사용예시3 -- 입력나열, loss X*"
   ]
  },
  {
   "cell_type": "code",
   "execution_count": 18,
   "metadata": {},
   "outputs": [
    {
     "data": {
      "text/plain": [
       "ImageClassifierOutput(loss=None, logits=tensor([[ 0.0349, -0.0951,  0.0233],\n",
       "        [ 0.0300, -0.1247,  0.0345]], grad_fn=<AddmmBackward0>), hidden_states=None, attentions=None)"
      ]
     },
     "execution_count": 18,
     "metadata": {},
     "output_type": "execute_result"
    }
   ],
   "source": [
    "torch.random.manual_seed(42)\n",
    "model2(\n",
    "    pixel_values = torch.randn(2,3,224,224)\n",
    ")"
   ]
  },
  {
   "cell_type": "markdown",
   "metadata": {},
   "source": [
    "*사용예시4 -- `**딕셔너리`, loss X*"
   ]
  },
  {
   "cell_type": "code",
   "execution_count": 19,
   "metadata": {},
   "outputs": [
    {
     "data": {
      "text/plain": [
       "ImageClassifierOutput(loss=None, logits=tensor([[ 0.0349, -0.0951,  0.0233],\n",
       "        [ 0.0300, -0.1247,  0.0345]], grad_fn=<AddmmBackward0>), hidden_states=None, attentions=None)"
      ]
     },
     "execution_count": 19,
     "metadata": {},
     "output_type": "execute_result"
    }
   ],
   "source": [
    "torch.random.manual_seed(42)\n",
    "model2_input = dict(\n",
    "    pixel_values = torch.randn(2,3,224,224),\n",
    ")\n",
    "model2(**model2_input)"
   ]
  },
  {
   "cell_type": "markdown",
   "metadata": {},
   "source": [
    "*사용예시5 -- 초간단, loss X*"
   ]
  },
  {
   "cell_type": "code",
   "execution_count": 20,
   "metadata": {},
   "outputs": [
    {
     "data": {
      "text/plain": [
       "ImageClassifierOutput(loss=None, logits=tensor([[ 0.0349, -0.0951,  0.0233],\n",
       "        [ 0.0300, -0.1247,  0.0345]], grad_fn=<AddmmBackward0>), hidden_states=None, attentions=None)"
      ]
     },
     "execution_count": 20,
     "metadata": {},
     "output_type": "execute_result"
    }
   ],
   "source": [
    "torch.random.manual_seed(42)\n",
    "model2(torch.randn(2,3,224,224))"
   ]
  },
  {
   "cell_type": "markdown",
   "metadata": {},
   "source": [
    "`#`"
   ]
  },
  {
   "cell_type": "markdown",
   "metadata": {},
   "source": [
    "`# 예제3` -- 동영상분류"
   ]
  },
  {
   "cell_type": "code",
   "execution_count": 21,
   "metadata": {},
   "outputs": [
    {
     "name": "stderr",
     "output_type": "stream",
     "text": [
      "Some weights of VideoMAEForVideoClassification were not initialized from the model checkpoint at MCG-NJU/videomae-base and are newly initialized: ['classifier.bias', 'classifier.weight']\n",
      "You should probably TRAIN this model on a down-stream task to be able to use it for predictions and inference.\n"
     ]
    }
   ],
   "source": [
    "model3 = transformers.VideoMAEForVideoClassification.from_pretrained(\n",
    "    \"MCG-NJU/videomae-base\",\n",
    ")"
   ]
  },
  {
   "cell_type": "markdown",
   "metadata": {},
   "source": [
    "*모델의 기본정보(config)*"
   ]
  },
  {
   "cell_type": "code",
   "execution_count": 22,
   "metadata": {},
   "outputs": [
    {
     "data": {
      "text/plain": [
       "VideoMAEConfig {\n",
       "  \"_attn_implementation_autoset\": true,\n",
       "  \"_name_or_path\": \"MCG-NJU/videomae-base\",\n",
       "  \"architectures\": [\n",
       "    \"VideoMAEForPreTraining\"\n",
       "  ],\n",
       "  \"attention_probs_dropout_prob\": 0.0,\n",
       "  \"decoder_hidden_size\": 384,\n",
       "  \"decoder_intermediate_size\": 1536,\n",
       "  \"decoder_num_attention_heads\": 6,\n",
       "  \"decoder_num_hidden_layers\": 4,\n",
       "  \"hidden_act\": \"gelu\",\n",
       "  \"hidden_dropout_prob\": 0.0,\n",
       "  \"hidden_size\": 768,\n",
       "  \"image_size\": 224,\n",
       "  \"initializer_range\": 0.02,\n",
       "  \"intermediate_size\": 3072,\n",
       "  \"layer_norm_eps\": 1e-12,\n",
       "  \"model_type\": \"videomae\",\n",
       "  \"norm_pix_loss\": true,\n",
       "  \"num_attention_heads\": 12,\n",
       "  \"num_channels\": 3,\n",
       "  \"num_frames\": 16,\n",
       "  \"num_hidden_layers\": 12,\n",
       "  \"patch_size\": 16,\n",
       "  \"qkv_bias\": true,\n",
       "  \"torch_dtype\": \"float32\",\n",
       "  \"transformers_version\": \"4.46.2\",\n",
       "  \"tubelet_size\": 2,\n",
       "  \"use_mean_pooling\": false\n",
       "}"
      ]
     },
     "execution_count": 22,
     "metadata": {},
     "output_type": "execute_result"
    }
   ],
   "source": [
    "model3.config"
   ]
  },
  {
   "cell_type": "markdown",
   "metadata": {},
   "source": [
    "- image_size: 224\n",
    "- num_frames: 16"
   ]
  },
  {
   "cell_type": "markdown",
   "metadata": {},
   "source": [
    "*모델의 입력파악*"
   ]
  },
  {
   "cell_type": "code",
   "execution_count": 23,
   "metadata": {},
   "outputs": [
    {
     "data": {
      "text/plain": [
       "\u001b[0;31mSignature:\u001b[0m\n",
       "\u001b[0mmodel3\u001b[0m\u001b[0;34m.\u001b[0m\u001b[0mforward\u001b[0m\u001b[0;34m(\u001b[0m\u001b[0;34m\u001b[0m\n",
       "\u001b[0;34m\u001b[0m    \u001b[0mpixel_values\u001b[0m\u001b[0;34m:\u001b[0m \u001b[0mOptional\u001b[0m\u001b[0;34m[\u001b[0m\u001b[0mtorch\u001b[0m\u001b[0;34m.\u001b[0m\u001b[0mTensor\u001b[0m\u001b[0;34m]\u001b[0m \u001b[0;34m=\u001b[0m \u001b[0;32mNone\u001b[0m\u001b[0;34m,\u001b[0m\u001b[0;34m\u001b[0m\n",
       "\u001b[0;34m\u001b[0m    \u001b[0mhead_mask\u001b[0m\u001b[0;34m:\u001b[0m \u001b[0mOptional\u001b[0m\u001b[0;34m[\u001b[0m\u001b[0mtorch\u001b[0m\u001b[0;34m.\u001b[0m\u001b[0mTensor\u001b[0m\u001b[0;34m]\u001b[0m \u001b[0;34m=\u001b[0m \u001b[0;32mNone\u001b[0m\u001b[0;34m,\u001b[0m\u001b[0;34m\u001b[0m\n",
       "\u001b[0;34m\u001b[0m    \u001b[0mlabels\u001b[0m\u001b[0;34m:\u001b[0m \u001b[0mOptional\u001b[0m\u001b[0;34m[\u001b[0m\u001b[0mtorch\u001b[0m\u001b[0;34m.\u001b[0m\u001b[0mTensor\u001b[0m\u001b[0;34m]\u001b[0m \u001b[0;34m=\u001b[0m \u001b[0;32mNone\u001b[0m\u001b[0;34m,\u001b[0m\u001b[0;34m\u001b[0m\n",
       "\u001b[0;34m\u001b[0m    \u001b[0moutput_attentions\u001b[0m\u001b[0;34m:\u001b[0m \u001b[0mOptional\u001b[0m\u001b[0;34m[\u001b[0m\u001b[0mbool\u001b[0m\u001b[0;34m]\u001b[0m \u001b[0;34m=\u001b[0m \u001b[0;32mNone\u001b[0m\u001b[0;34m,\u001b[0m\u001b[0;34m\u001b[0m\n",
       "\u001b[0;34m\u001b[0m    \u001b[0moutput_hidden_states\u001b[0m\u001b[0;34m:\u001b[0m \u001b[0mOptional\u001b[0m\u001b[0;34m[\u001b[0m\u001b[0mbool\u001b[0m\u001b[0;34m]\u001b[0m \u001b[0;34m=\u001b[0m \u001b[0;32mNone\u001b[0m\u001b[0;34m,\u001b[0m\u001b[0;34m\u001b[0m\n",
       "\u001b[0;34m\u001b[0m    \u001b[0mreturn_dict\u001b[0m\u001b[0;34m:\u001b[0m \u001b[0mOptional\u001b[0m\u001b[0;34m[\u001b[0m\u001b[0mbool\u001b[0m\u001b[0;34m]\u001b[0m \u001b[0;34m=\u001b[0m \u001b[0;32mNone\u001b[0m\u001b[0;34m,\u001b[0m\u001b[0;34m\u001b[0m\n",
       "\u001b[0;34m\u001b[0m\u001b[0;34m)\u001b[0m \u001b[0;34m->\u001b[0m \u001b[0mUnion\u001b[0m\u001b[0;34m[\u001b[0m\u001b[0mTuple\u001b[0m\u001b[0;34m,\u001b[0m \u001b[0mtransformers\u001b[0m\u001b[0;34m.\u001b[0m\u001b[0mmodeling_outputs\u001b[0m\u001b[0;34m.\u001b[0m\u001b[0mImageClassifierOutput\u001b[0m\u001b[0;34m]\u001b[0m\u001b[0;34m\u001b[0m\u001b[0;34m\u001b[0m\u001b[0m\n",
       "\u001b[0;31mDocstring:\u001b[0m\n",
       "The [`VideoMAEForVideoClassification`] forward method, overrides the `__call__` special method.\n",
       "\n",
       "<Tip>\n",
       "\n",
       "Although the recipe for forward pass needs to be defined within this function, one should call the [`Module`]\n",
       "instance afterwards instead of this since the former takes care of running the pre and post processing steps while\n",
       "the latter silently ignores them.\n",
       "\n",
       "</Tip>\n",
       "\n",
       "Args:\n",
       "    pixel_values (`torch.FloatTensor` of shape `(batch_size, num_frames, num_channels, height, width)`):\n",
       "        Pixel values. Pixel values can be obtained using [`AutoImageProcessor`]. See\n",
       "        [`VideoMAEImageProcessor.__call__`] for details.\n",
       "\n",
       "    head_mask (`torch.FloatTensor` of shape `(num_heads,)` or `(num_layers, num_heads)`, *optional*):\n",
       "        Mask to nullify selected heads of the self-attention modules. Mask values selected in `[0, 1]`:\n",
       "\n",
       "        - 1 indicates the head is **not masked**,\n",
       "        - 0 indicates the head is **masked**.\n",
       "\n",
       "    output_attentions (`bool`, *optional*):\n",
       "        Whether or not to return the attentions tensors of all attention layers. See `attentions` under returned\n",
       "        tensors for more detail.\n",
       "    output_hidden_states (`bool`, *optional*):\n",
       "        Whether or not to return the hidden states of all layers. See `hidden_states` under returned tensors for\n",
       "        more detail.\n",
       "    return_dict (`bool`, *optional*):\n",
       "        Whether or not to return a [`~utils.ModelOutput`] instead of a plain tuple.\n",
       "\n",
       "    labels (`torch.LongTensor` of shape `(batch_size,)`, *optional*):\n",
       "        Labels for computing the image classification/regression loss. Indices should be in `[0, ...,\n",
       "        config.num_labels - 1]`. If `config.num_labels == 1` a regression loss is computed (Mean-Square loss), If\n",
       "        `config.num_labels > 1` a classification loss is computed (Cross-Entropy).\n",
       "\n",
       "\n",
       "    Returns:\n",
       "        [`transformers.modeling_outputs.ImageClassifierOutput`] or `tuple(torch.FloatTensor)`: A [`transformers.modeling_outputs.ImageClassifierOutput`] or a tuple of\n",
       "        `torch.FloatTensor` (if `return_dict=False` is passed or when `config.return_dict=False`) comprising various\n",
       "        elements depending on the configuration ([`VideoMAEConfig`]) and inputs.\n",
       "\n",
       "        - **loss** (`torch.FloatTensor` of shape `(1,)`, *optional*, returned when `labels` is provided) -- Classification (or regression if config.num_labels==1) loss.\n",
       "        - **logits** (`torch.FloatTensor` of shape `(batch_size, config.num_labels)`) -- Classification (or regression if config.num_labels==1) scores (before SoftMax).\n",
       "        - **hidden_states** (`tuple(torch.FloatTensor)`, *optional*, returned when `output_hidden_states=True` is passed or when `config.output_hidden_states=True`) -- Tuple of `torch.FloatTensor` (one for the output of the embeddings, if the model has an embedding layer, +\n",
       "          one for the output of each stage) of shape `(batch_size, sequence_length, hidden_size)`. Hidden-states\n",
       "          (also called feature maps) of the model at the output of each stage.\n",
       "        - **attentions** (`tuple(torch.FloatTensor)`, *optional*, returned when `output_attentions=True` is passed or when `config.output_attentions=True`) -- Tuple of `torch.FloatTensor` (one for each layer) of shape `(batch_size, num_heads, patch_size,\n",
       "          sequence_length)`.\n",
       "\n",
       "          Attentions weights after the attention softmax, used to compute the weighted average in the self-attention\n",
       "          heads.\n",
       "  \n",
       "\n",
       "    Examples:\n",
       "\n",
       "    ```python\n",
       "    >>> import av\n",
       "    >>> import torch\n",
       "    >>> import numpy as np\n",
       "\n",
       "    >>> from transformers import AutoImageProcessor, VideoMAEForVideoClassification\n",
       "    >>> from huggingface_hub import hf_hub_download\n",
       "\n",
       "    >>> np.random.seed(0)\n",
       "\n",
       "\n",
       "    >>> def read_video_pyav(container, indices):\n",
       "    ...     '''\n",
       "    ...     Decode the video with PyAV decoder.\n",
       "    ...     Args:\n",
       "    ...         container (`av.container.input.InputContainer`): PyAV container.\n",
       "    ...         indices (`List[int]`): List of frame indices to decode.\n",
       "    ...     Returns:\n",
       "    ...         result (np.ndarray): np array of decoded frames of shape (num_frames, height, width, 3).\n",
       "    ...     '''\n",
       "    ...     frames = []\n",
       "    ...     container.seek(0)\n",
       "    ...     start_index = indices[0]\n",
       "    ...     end_index = indices[-1]\n",
       "    ...     for i, frame in enumerate(container.decode(video=0)):\n",
       "    ...         if i > end_index:\n",
       "    ...             break\n",
       "    ...         if i >= start_index and i in indices:\n",
       "    ...             frames.append(frame)\n",
       "    ...     return np.stack([x.to_ndarray(format=\"rgb24\") for x in frames])\n",
       "\n",
       "\n",
       "    >>> def sample_frame_indices(clip_len, frame_sample_rate, seg_len):\n",
       "    ...     '''\n",
       "    ...     Sample a given number of frame indices from the video.\n",
       "    ...     Args:\n",
       "    ...         clip_len (`int`): Total number of frames to sample.\n",
       "    ...         frame_sample_rate (`int`): Sample every n-th frame.\n",
       "    ...         seg_len (`int`): Maximum allowed index of sample's last frame.\n",
       "    ...     Returns:\n",
       "    ...         indices (`List[int]`): List of sampled frame indices\n",
       "    ...     '''\n",
       "    ...     converted_len = int(clip_len * frame_sample_rate)\n",
       "    ...     end_idx = np.random.randint(converted_len, seg_len)\n",
       "    ...     start_idx = end_idx - converted_len\n",
       "    ...     indices = np.linspace(start_idx, end_idx, num=clip_len)\n",
       "    ...     indices = np.clip(indices, start_idx, end_idx - 1).astype(np.int64)\n",
       "    ...     return indices\n",
       "\n",
       "\n",
       "    >>> # video clip consists of 300 frames (10 seconds at 30 FPS)\n",
       "    >>> file_path = hf_hub_download(\n",
       "    ...     repo_id=\"nielsr/video-demo\", filename=\"eating_spaghetti.mp4\", repo_type=\"dataset\"\n",
       "    ... )\n",
       "    >>> container = av.open(file_path)\n",
       "\n",
       "    >>> # sample 16 frames\n",
       "    >>> indices = sample_frame_indices(clip_len=16, frame_sample_rate=1, seg_len=container.streams.video[0].frames)\n",
       "    >>> video = read_video_pyav(container, indices)\n",
       "\n",
       "    >>> image_processor = AutoImageProcessor.from_pretrained(\"MCG-NJU/videomae-base-finetuned-kinetics\")\n",
       "    >>> model = VideoMAEForVideoClassification.from_pretrained(\"MCG-NJU/videomae-base-finetuned-kinetics\")\n",
       "\n",
       "    >>> inputs = image_processor(list(video), return_tensors=\"pt\")\n",
       "\n",
       "    >>> with torch.no_grad():\n",
       "    ...     outputs = model(**inputs)\n",
       "    ...     logits = outputs.logits\n",
       "\n",
       "    >>> # model predicts one of the 400 Kinetics-400 classes\n",
       "    >>> predicted_label = logits.argmax(-1).item()\n",
       "    >>> print(model.config.id2label[predicted_label])\n",
       "    eating spaghetti\n",
       "    ```\n",
       "\u001b[0;31mFile:\u001b[0m      ~/anaconda3/envs/hf/lib/python3.12/site-packages/transformers/models/videomae/modeling_videomae.py\n",
       "\u001b[0;31mType:\u001b[0m      method"
      ]
     },
     "metadata": {},
     "output_type": "display_data"
    }
   ],
   "source": [
    "model3.forward?"
   ]
  },
  {
   "cell_type": "markdown",
   "metadata": {},
   "source": [
    "*사용예시1 -- 입력나열, loss O*"
   ]
  },
  {
   "cell_type": "code",
   "execution_count": 24,
   "metadata": {},
   "outputs": [
    {
     "data": {
      "text/plain": [
       "ImageClassifierOutput(loss=tensor(0.7254, grad_fn=<NllLossBackward0>), logits=tensor([[-0.7084, -0.2919],\n",
       "        [-0.5846, -0.1854],\n",
       "        [-0.6635, -0.2402],\n",
       "        [-0.7193, -0.3811]], grad_fn=<AddmmBackward0>), hidden_states=None, attentions=None)"
      ]
     },
     "execution_count": 24,
     "metadata": {},
     "output_type": "execute_result"
    }
   ],
   "source": [
    "torch.random.manual_seed(42)\n",
    "model3(\n",
    "    pixel_values = torch.randn(4,16,3,224,224),\n",
    "    labels = torch.tensor([0,1,0,1])\n",
    ")"
   ]
  },
  {
   "cell_type": "markdown",
   "metadata": {},
   "source": [
    "*사용예시2 -- `**딕셔너리`, loss O*"
   ]
  },
  {
   "cell_type": "code",
   "execution_count": 25,
   "metadata": {},
   "outputs": [
    {
     "data": {
      "text/plain": [
       "ImageClassifierOutput(loss=tensor(0.7254, grad_fn=<NllLossBackward0>), logits=tensor([[-0.7084, -0.2919],\n",
       "        [-0.5846, -0.1854],\n",
       "        [-0.6635, -0.2402],\n",
       "        [-0.7193, -0.3811]], grad_fn=<AddmmBackward0>), hidden_states=None, attentions=None)"
      ]
     },
     "execution_count": 25,
     "metadata": {},
     "output_type": "execute_result"
    }
   ],
   "source": [
    "torch.random.manual_seed(42)\n",
    "model3_input = dict(\n",
    "    pixel_values = torch.randn(4,16,3,224,224),\n",
    "    labels = torch.tensor([0,1,0,1])\n",
    ")\n",
    "model3(**model3_input)"
   ]
  },
  {
   "cell_type": "markdown",
   "metadata": {},
   "source": [
    "*사용예시3 -- 입력나열, loss X*"
   ]
  },
  {
   "cell_type": "code",
   "execution_count": 26,
   "metadata": {},
   "outputs": [
    {
     "data": {
      "text/plain": [
       "ImageClassifierOutput(loss=None, logits=tensor([[-0.7084, -0.2919],\n",
       "        [-0.5846, -0.1854],\n",
       "        [-0.6635, -0.2402],\n",
       "        [-0.7193, -0.3811]], grad_fn=<AddmmBackward0>), hidden_states=None, attentions=None)"
      ]
     },
     "execution_count": 26,
     "metadata": {},
     "output_type": "execute_result"
    }
   ],
   "source": [
    "torch.random.manual_seed(42)\n",
    "model3(\n",
    "    pixel_values = torch.randn(4,16,3,224,224)\n",
    ")"
   ]
  },
  {
   "cell_type": "markdown",
   "metadata": {},
   "source": [
    "*사용예시4 -- `**딕셔너리`, loss X*"
   ]
  },
  {
   "cell_type": "code",
   "execution_count": 27,
   "metadata": {},
   "outputs": [
    {
     "data": {
      "text/plain": [
       "ImageClassifierOutput(loss=None, logits=tensor([[-0.7084, -0.2919],\n",
       "        [-0.5846, -0.1854],\n",
       "        [-0.6635, -0.2402],\n",
       "        [-0.7193, -0.3811]], grad_fn=<AddmmBackward0>), hidden_states=None, attentions=None)"
      ]
     },
     "execution_count": 27,
     "metadata": {},
     "output_type": "execute_result"
    }
   ],
   "source": [
    "torch.random.manual_seed(42)\n",
    "model3_input = dict(\n",
    "    pixel_values = torch.randn(4,16,3,224,224),\n",
    ")\n",
    "model3(**model3_input)"
   ]
  },
  {
   "cell_type": "markdown",
   "metadata": {},
   "source": [
    "*사용예시5 -- 초간단, loss X*"
   ]
  },
  {
   "cell_type": "code",
   "execution_count": 28,
   "metadata": {},
   "outputs": [
    {
     "data": {
      "text/plain": [
       "ImageClassifierOutput(loss=None, logits=tensor([[-0.7084, -0.2919],\n",
       "        [-0.5846, -0.1854],\n",
       "        [-0.6635, -0.2402],\n",
       "        [-0.7193, -0.3811]], grad_fn=<AddmmBackward0>), hidden_states=None, attentions=None)"
      ]
     },
     "execution_count": 28,
     "metadata": {},
     "output_type": "execute_result"
    }
   ],
   "source": [
    "torch.random.manual_seed(42)\n",
    "model3(torch.randn(4,16,3,224,224))"
   ]
  },
  {
   "cell_type": "markdown",
   "metadata": {},
   "source": [
    "`#`"
   ]
  },
  {
   "cell_type": "markdown",
   "metadata": {},
   "source": [
    "# 4. Model 사용 연습 "
   ]
  },
  {
   "cell_type": "markdown",
   "metadata": {},
   "source": [
    "## A. 텍스트"
   ]
  },
  {
   "cell_type": "code",
   "execution_count": 29,
   "metadata": {},
   "outputs": [
    {
     "name": "stderr",
     "output_type": "stream",
     "text": [
      "Some weights of DistilBertForSequenceClassification were not initialized from the model checkpoint at distilbert/distilbert-base-uncased and are newly initialized: ['classifier.bias', 'classifier.weight', 'pre_classifier.bias', 'pre_classifier.weight']\n",
      "You should probably TRAIN this model on a down-stream task to be able to use it for predictions and inference.\n"
     ]
    }
   ],
   "source": [
    "model1 = transformers.AutoModelForSequenceClassification.from_pretrained(\n",
    "    \"distilbert/distilbert-base-uncased\", num_labels=2\n",
    ")\n",
    "tokenizer = transformers.AutoTokenizer.from_pretrained(\"distilbert/distilbert-base-uncased\")"
   ]
  },
  {
   "cell_type": "markdown",
   "metadata": {},
   "source": [
    "`# 예제1` -- imdb"
   ]
  },
  {
   "cell_type": "code",
   "execution_count": 30,
   "metadata": {},
   "outputs": [],
   "source": [
    "imdb = datasets.load_dataset('imdb')"
   ]
  },
  {
   "cell_type": "code",
   "execution_count": 31,
   "metadata": {},
   "outputs": [
    {
     "data": {
      "text/plain": [
       "Dataset({\n",
       "    features: ['text', 'label'],\n",
       "    num_rows: 3\n",
       "})"
      ]
     },
     "execution_count": 31,
     "metadata": {},
     "output_type": "execute_result"
    }
   ],
   "source": [
    "d = imdb['train'].select(range(3))\n",
    "d"
   ]
  },
  {
   "cell_type": "markdown",
   "metadata": {},
   "source": [
    "`(풀이1)`"
   ]
  },
  {
   "cell_type": "markdown",
   "metadata": {},
   "source": [
    "*실패*"
   ]
  },
  {
   "cell_type": "code",
   "execution_count": 32,
   "metadata": {},
   "outputs": [
    {
     "ename": "ValueError",
     "evalue": "expected sequence of length 363 at dim 1 (got 304)",
     "output_type": "error",
     "traceback": [
      "\u001b[0;31m---------------------------------------------------------------------------\u001b[0m",
      "\u001b[0;31mValueError\u001b[0m                                Traceback (most recent call last)",
      "Cell \u001b[0;32mIn[32], line 1\u001b[0m\n\u001b[0;32m----> 1\u001b[0m model1\u001b[38;5;241m.\u001b[39mforward(\u001b[43mtorch\u001b[49m\u001b[38;5;241;43m.\u001b[39;49m\u001b[43mtensor\u001b[49m\u001b[43m(\u001b[49m\u001b[43mtokenizer\u001b[49m\u001b[43m(\u001b[49m\u001b[43md\u001b[49m\u001b[43m[\u001b[49m\u001b[38;5;124;43m'\u001b[39;49m\u001b[38;5;124;43mtext\u001b[39;49m\u001b[38;5;124;43m'\u001b[39;49m\u001b[43m]\u001b[49m\u001b[43m)\u001b[49m\u001b[43m[\u001b[49m\u001b[38;5;124;43m'\u001b[39;49m\u001b[38;5;124;43minput_ids\u001b[39;49m\u001b[38;5;124;43m'\u001b[39;49m\u001b[43m]\u001b[49m\u001b[43m)\u001b[49m)\n",
      "\u001b[0;31mValueError\u001b[0m: expected sequence of length 363 at dim 1 (got 304)"
     ]
    }
   ],
   "source": [
    "model1.forward(torch.tensor(tokenizer(d['text'])['input_ids']))"
   ]
  },
  {
   "cell_type": "markdown",
   "metadata": {},
   "source": [
    "*원인분석*"
   ]
  },
  {
   "cell_type": "code",
   "execution_count": 33,
   "metadata": {},
   "outputs": [
    {
     "name": "stdout",
     "output_type": "stream",
     "text": [
      "List Overview:\n",
      "Total items: 3\n",
      "\n",
      "1. list[0]\n",
      "   - Type: list\n",
      "   - Length: 363\n",
      "   - Value: [101, 1045, 12524, 1045, 2572, 8025, 1011, 3756, 2013, 2026, 2678, 3573, 2138, 1997, 2035, 1996, 6704, 2008, 5129, 2009, 2043, 2009, 2001, 2034, 2207, 1999, 3476, 1012, 1045, 2036, 2657, 2008, 2012, 2034, 2009, 2001, 8243, 2011, 1057, 1012, 1055, 1012, 8205, 2065, 2009, 2412, 2699, 2000, 4607, 2023, 2406, 1010, 3568, 2108, 1037, 5470, 1997, 3152, 2641, 1000, 6801, 1000, 1045, 2428, 2018, 2000, 2156, 2023, 2005, 2870, 1012, 1026, 7987, 1013, 1028, 1026, 7987, 1013, 1028, 1996, 5436, 2003, 8857, 2105, 1037, 2402, 4467, 3689, 3076, 2315, 14229, 2040, 4122, 2000, 4553, 2673, 2016, 2064, 2055, 2166, 1012, 1999, 3327, 2016, 4122, 2000, 3579, 2014, 3086, 2015, 2000, 2437, 2070, 4066, 1997, 4516, 2006, 2054, 1996, 2779, 25430, 14728, 2245, 2055, 3056, 2576, 3314, 2107, 2004, 1996, 5148, 2162, 1998, 2679, 3314, 1999, 1996, 2142, 2163, 1012, 1999, 2090, 4851, 8801, 1998, 6623, 7939, 4697, 3619, 1997, 8947, 2055, 2037, 10740, 2006, 4331, 1010, 2016, 2038, 3348, 2007, 2014, 3689, 3836, 1010, 19846, 1010, 1998, 2496, 2273, 1012, 1026, 7987, 1013, 1028, 1026, 7987, 1013, 1028, 2054, 8563, 2033, 2055, 1045, 2572, 8025, 1011, 3756, 2003, 2008, 2871, 2086, 3283, 1010, 2023, 2001, 2641, 26932, 1012, 2428, 1010, 1996, 3348, 1998, 16371, 25469, 5019, 2024, 2261, 1998, 2521, 2090, 1010, 2130, 2059, 2009, 1005, 1055, 2025, 2915, 2066, 2070, 10036, 2135, 2081, 22555, 2080, 1012, 2096, 2026, 2406, 3549, 2568, 2424, 2009, 16880, 1010, 1999, 4507, 3348, 1998, 16371, 25469, 2024, 1037, 2350, 18785, 1999, 4467, 5988, 1012, 2130, 13749, 7849, 24544, 1010, 15835, 2037, 3437, 2000, 2204, 2214, 2879, 2198, 4811, 1010, 2018, 3348, 5019, 1999, 2010, 3152, 1012, 1026, 7987, 1013, 1028, 1026, 7987, 1013, 1028, 1045, 2079, 4012, 3549, 2094, 1996, 16587, 2005, 1996, 2755, 2008, 2151, 3348, 3491, 1999, 1996, 2143, 2003, 3491, 2005, 6018, 5682, 2738, 2084, 2074, 2000, 5213, 2111, 1998, 2191, 2769, 2000, 2022, 3491, 1999, 26932, 12370, 1999, 2637, 1012, 1045, 2572, 8025, 1011, 3756, 2003, 1037, 2204, 2143, 2005, 3087, 5782, 2000, 2817, 1996, 6240, 1998, 14629, 1006, 2053, 26136, 3832, 1007, 1997, 4467, 5988, 1012, 2021, 2428, 1010, 2023, 2143, 2987, 1005, 1056, 2031, 2172, 1997, 1037, 5436, 1012, 102]\n",
      "\n",
      "2. list[1]\n",
      "   - Type: list\n",
      "   - Length: 304\n",
      "   - Value: [101, 1000, 1045, 2572, 8025, 1024, 3756, 1000, 2003, 1037, 15544, 19307, 1998, 3653, 6528, 20771, 19986, 8632, 1012, 2009, 2987, 1005, 1056, 3043, 2054, 2028, 1005, 1055, 2576, 5328, 2024, 2138, 2023, 2143, 2064, 6684, 2022, 2579, 5667, 2006, 2151, 2504, 1012, 2004, 2005, 1996, 4366, 2008, 19124, 3287, 16371, 25469, 2003, 2019, 6882, 13316, 1011, 2459, 1010, 2008, 3475, 1005, 1056, 2995, 1012, 1045, 1005, 2310, 2464, 1054, 1011, 6758, 3152, 2007, 3287, 16371, 25469, 1012, 4379, 1010, 2027, 2069, 3749, 2070, 25085, 5328, 1010, 2021, 2073, 2024, 1996, 1054, 1011, 6758, 3152, 2007, 21226, 24728, 22144, 2015, 1998, 20916, 4691, 6845, 2401, 1029, 7880, 1010, 2138, 2027, 2123, 1005, 1056, 4839, 1012, 1996, 2168, 3632, 2005, 2216, 10231, 7685, 5830, 3065, 1024, 8040, 7317, 5063, 2015, 11820, 1999, 1996, 9478, 2021, 2025, 1037, 17962, 21239, 1999, 4356, 1012, 1998, 2216, 3653, 6528, 20771, 10271, 5691, 2066, 1996, 2829, 16291, 1010, 1999, 2029, 2057, 1005, 2128, 5845, 2000, 1996, 2609, 1997, 6320, 25624, 1005, 1055, 17061, 3779, 1010, 2021, 2025, 1037, 7637, 1997, 5061, 5710, 2006, 9318, 7367, 5737, 19393, 1012, 2077, 6933, 1006, 2030, 20242, 1007, 1000, 3313, 1011, 3115, 1000, 1999, 5609, 1997, 16371, 25469, 1010, 1996, 10597, 27885, 5809, 2063, 2323, 2202, 2046, 4070, 2028, 14477, 6767, 8524, 6321, 5793, 28141, 4489, 2090, 2273, 1998, 2308, 1024, 2045, 2024, 2053, 8991, 18400, 2015, 2006, 4653, 2043, 19910, 3544, 15287, 1010, 1998, 1996, 2168, 3685, 2022, 2056, 2005, 1037, 2158, 1012, 1999, 2755, 1010, 2017, 3227, 2180, 1005, 1056, 2156, 2931, 8991, 18400, 2015, 1999, 2019, 2137, 2143, 1999, 2505, 2460, 1997, 22555, 2030, 13216, 14253, 2050, 1012, 2023, 6884, 3313, 1011, 3115, 2003, 2625, 1037, 3313, 3115, 2084, 2019, 4914, 2135, 2139, 24128, 3754, 2000, 2272, 2000, 3408, 20547, 2007, 1996, 19008, 1997, 2308, 1005, 1055, 4230, 1012, 102]\n",
      "\n",
      "3. list[2]\n",
      "   - Type: list\n",
      "   - Length: 133\n",
      "   - Value: [101, 2065, 2069, 2000, 4468, 2437, 2023, 2828, 1997, 2143, 1999, 1996, 2925, 1012, 2023, 2143, 2003, 5875, 2004, 2019, 7551, 2021, 4136, 2053, 2522, 11461, 2466, 1012, 1026, 7987, 1013, 1028, 1026, 7987, 1013, 1028, 2028, 2453, 2514, 6819, 5339, 8918, 2005, 3564, 27046, 2009, 2138, 2009, 12817, 2006, 2061, 2116, 2590, 3314, 2021, 2009, 2515, 2061, 2302, 2151, 5860, 11795, 3085, 15793, 1012, 1996, 13972, 3310, 2185, 2007, 2053, 2047, 15251, 1006, 4983, 2028, 3310, 2039, 2007, 2028, 2096, 2028, 1005, 1055, 2568, 17677, 2015, 1010, 2004, 2009, 2097, 26597, 2079, 2076, 2023, 23100, 2143, 1007, 1012, 1026, 7987, 1013, 1028, 1026, 7987, 1013, 1028, 2028, 2453, 2488, 5247, 2028, 1005, 1055, 2051, 4582, 2041, 1037, 3332, 2012, 1037, 3392, 3652, 1012, 1026, 7987, 1013, 1028, 1026, 7987, 1013, 1028, 102]\n"
     ]
    }
   ],
   "source": [
    "mp.show_list(\n",
    "    tokenizer(d['text'])['input_ids']\n",
    ")"
   ]
  },
  {
   "cell_type": "code",
   "execution_count": 34,
   "metadata": {},
   "outputs": [
    {
     "name": "stdout",
     "output_type": "stream",
     "text": [
      "List Overview:\n",
      "Total items: 3\n",
      "\n",
      "1. list[0]\n",
      "   - Type: list\n",
      "   - Length: 363\n",
      "   - Value: [101, 1045, 12524, 1045, 2572, 8025, 1011, 3756, 2013, 2026, 2678, 3573, 2138, 1997, 2035, 1996, 6704, 2008, 5129, 2009, 2043, 2009, 2001, 2034, 2207, 1999, 3476, 1012, 1045, 2036, 2657, 2008, 2012, 2034, 2009, 2001, 8243, 2011, 1057, 1012, 1055, 1012, 8205, 2065, 2009, 2412, 2699, 2000, 4607, 2023, 2406, 1010, 3568, 2108, 1037, 5470, 1997, 3152, 2641, 1000, 6801, 1000, 1045, 2428, 2018, 2000, 2156, 2023, 2005, 2870, 1012, 1026, 7987, 1013, 1028, 1026, 7987, 1013, 1028, 1996, 5436, 2003, 8857, 2105, 1037, 2402, 4467, 3689, 3076, 2315, 14229, 2040, 4122, 2000, 4553, 2673, 2016, 2064, 2055, 2166, 1012, 1999, 3327, 2016, 4122, 2000, 3579, 2014, 3086, 2015, 2000, 2437, 2070, 4066, 1997, 4516, 2006, 2054, 1996, 2779, 25430, 14728, 2245, 2055, 3056, 2576, 3314, 2107, 2004, 1996, 5148, 2162, 1998, 2679, 3314, 1999, 1996, 2142, 2163, 1012, 1999, 2090, 4851, 8801, 1998, 6623, 7939, 4697, 3619, 1997, 8947, 2055, 2037, 10740, 2006, 4331, 1010, 2016, 2038, 3348, 2007, 2014, 3689, 3836, 1010, 19846, 1010, 1998, 2496, 2273, 1012, 1026, 7987, 1013, 1028, 1026, 7987, 1013, 1028, 2054, 8563, 2033, 2055, 1045, 2572, 8025, 1011, 3756, 2003, 2008, 2871, 2086, 3283, 1010, 2023, 2001, 2641, 26932, 1012, 2428, 1010, 1996, 3348, 1998, 16371, 25469, 5019, 2024, 2261, 1998, 2521, 2090, 1010, 2130, 2059, 2009, 1005, 1055, 2025, 2915, 2066, 2070, 10036, 2135, 2081, 22555, 2080, 1012, 2096, 2026, 2406, 3549, 2568, 2424, 2009, 16880, 1010, 1999, 4507, 3348, 1998, 16371, 25469, 2024, 1037, 2350, 18785, 1999, 4467, 5988, 1012, 2130, 13749, 7849, 24544, 1010, 15835, 2037, 3437, 2000, 2204, 2214, 2879, 2198, 4811, 1010, 2018, 3348, 5019, 1999, 2010, 3152, 1012, 1026, 7987, 1013, 1028, 1026, 7987, 1013, 1028, 1045, 2079, 4012, 3549, 2094, 1996, 16587, 2005, 1996, 2755, 2008, 2151, 3348, 3491, 1999, 1996, 2143, 2003, 3491, 2005, 6018, 5682, 2738, 2084, 2074, 2000, 5213, 2111, 1998, 2191, 2769, 2000, 2022, 3491, 1999, 26932, 12370, 1999, 2637, 1012, 1045, 2572, 8025, 1011, 3756, 2003, 1037, 2204, 2143, 2005, 3087, 5782, 2000, 2817, 1996, 6240, 1998, 14629, 1006, 2053, 26136, 3832, 1007, 1997, 4467, 5988, 1012, 2021, 2428, 1010, 2023, 2143, 2987, 1005, 1056, 2031, 2172, 1997, 1037, 5436, 1012, 102]\n",
      "\n",
      "2. list[1]\n",
      "   - Type: list\n",
      "   - Length: 363\n",
      "   - Value: [101, 1000, 1045, 2572, 8025, 1024, 3756, 1000, 2003, 1037, 15544, 19307, 1998, 3653, 6528, 20771, 19986, 8632, 1012, 2009, 2987, 1005, 1056, 3043, 2054, 2028, 1005, 1055, 2576, 5328, 2024, 2138, 2023, 2143, 2064, 6684, 2022, 2579, 5667, 2006, 2151, 2504, 1012, 2004, 2005, 1996, 4366, 2008, 19124, 3287, 16371, 25469, 2003, 2019, 6882, 13316, 1011, 2459, 1010, 2008, 3475, 1005, 1056, 2995, 1012, 1045, 1005, 2310, 2464, 1054, 1011, 6758, 3152, 2007, 3287, 16371, 25469, 1012, 4379, 1010, 2027, 2069, 3749, 2070, 25085, 5328, 1010, 2021, 2073, 2024, 1996, 1054, 1011, 6758, 3152, 2007, 21226, 24728, 22144, 2015, 1998, 20916, 4691, 6845, 2401, 1029, 7880, 1010, 2138, 2027, 2123, 1005, 1056, 4839, 1012, 1996, 2168, 3632, 2005, 2216, 10231, 7685, 5830, 3065, 1024, 8040, 7317, 5063, 2015, 11820, 1999, 1996, 9478, 2021, 2025, 1037, 17962, 21239, 1999, 4356, 1012, 1998, 2216, 3653, 6528, 20771, 10271, 5691, 2066, 1996, 2829, 16291, 1010, 1999, 2029, 2057, 1005, 2128, 5845, 2000, 1996, 2609, 1997, 6320, 25624, 1005, 1055, 17061, 3779, 1010, 2021, 2025, 1037, 7637, 1997, 5061, 5710, 2006, 9318, 7367, 5737, 19393, 1012, 2077, 6933, 1006, 2030, 20242, 1007, 1000, 3313, 1011, 3115, 1000, 1999, 5609, 1997, 16371, 25469, 1010, 1996, 10597, 27885, 5809, 2063, 2323, 2202, 2046, 4070, 2028, 14477, 6767, 8524, 6321, 5793, 28141, 4489, 2090, 2273, 1998, 2308, 1024, 2045, 2024, 2053, 8991, 18400, 2015, 2006, 4653, 2043, 19910, 3544, 15287, 1010, 1998, 1996, 2168, 3685, 2022, 2056, 2005, 1037, 2158, 1012, 1999, 2755, 1010, 2017, 3227, 2180, 1005, 1056, 2156, 2931, 8991, 18400, 2015, 1999, 2019, 2137, 2143, 1999, 2505, 2460, 1997, 22555, 2030, 13216, 14253, 2050, 1012, 2023, 6884, 3313, 1011, 3115, 2003, 2625, 1037, 3313, 3115, 2084, 2019, 4914, 2135, 2139, 24128, 3754, 2000, 2272, 2000, 3408, 20547, 2007, 1996, 19008, 1997, 2308, 1005, 1055, 4230, 1012, 102, 0, 0, 0, 0, 0, 0, 0, 0, 0, 0, 0, 0, 0, 0, 0, 0, 0, 0, 0, 0, 0, 0, 0, 0, 0, 0, 0, 0, 0, 0, 0, 0, 0, 0, 0, 0, 0, 0, 0, 0, 0, 0, 0, 0, 0, 0, 0, 0, 0, 0, 0, 0, 0, 0, 0, 0, 0, 0, 0]\n",
      "\n",
      "3. list[2]\n",
      "   - Type: list\n",
      "   - Length: 363\n",
      "   - Value: [101, 2065, 2069, 2000, 4468, 2437, 2023, 2828, 1997, 2143, 1999, 1996, 2925, 1012, 2023, 2143, 2003, 5875, 2004, 2019, 7551, 2021, 4136, 2053, 2522, 11461, 2466, 1012, 1026, 7987, 1013, 1028, 1026, 7987, 1013, 1028, 2028, 2453, 2514, 6819, 5339, 8918, 2005, 3564, 27046, 2009, 2138, 2009, 12817, 2006, 2061, 2116, 2590, 3314, 2021, 2009, 2515, 2061, 2302, 2151, 5860, 11795, 3085, 15793, 1012, 1996, 13972, 3310, 2185, 2007, 2053, 2047, 15251, 1006, 4983, 2028, 3310, 2039, 2007, 2028, 2096, 2028, 1005, 1055, 2568, 17677, 2015, 1010, 2004, 2009, 2097, 26597, 2079, 2076, 2023, 23100, 2143, 1007, 1012, 1026, 7987, 1013, 1028, 1026, 7987, 1013, 1028, 2028, 2453, 2488, 5247, 2028, 1005, 1055, 2051, 4582, 2041, 1037, 3332, 2012, 1037, 3392, 3652, 1012, 1026, 7987, 1013, 1028, 1026, 7987, 1013, 1028, 102, 0, 0, 0, 0, 0, 0, 0, 0, 0, 0, 0, 0, 0, 0, 0, 0, 0, 0, 0, 0, 0, 0, 0, 0, 0, 0, 0, 0, 0, 0, 0, 0, 0, 0, 0, 0, 0, 0, 0, 0, 0, 0, 0, 0, 0, 0, 0, 0, 0, 0, 0, 0, 0, 0, 0, 0, 0, 0, 0, 0, 0, 0, 0, 0, 0, 0, 0, 0, 0, 0, 0, 0, 0, 0, 0, 0, 0, 0, 0, 0, 0, 0, 0, 0, 0, 0, 0, 0, 0, 0, 0, 0, 0, 0, 0, 0, 0, 0, 0, 0, 0, 0, 0, 0, 0, 0, 0, 0, 0, 0, 0, 0, 0, 0, 0, 0, 0, 0, 0, 0, 0, 0, 0, 0, 0, 0, 0, 0, 0, 0, 0, 0, 0, 0, 0, 0, 0, 0, 0, 0, 0, 0, 0, 0, 0, 0, 0, 0, 0, 0, 0, 0, 0, 0, 0, 0, 0, 0, 0, 0, 0, 0, 0, 0, 0, 0, 0, 0, 0, 0, 0, 0, 0, 0, 0, 0, 0, 0, 0, 0, 0, 0, 0, 0, 0, 0, 0, 0, 0, 0, 0, 0, 0, 0, 0, 0, 0, 0, 0, 0, 0, 0, 0, 0, 0, 0, 0, 0, 0, 0, 0, 0, 0, 0, 0, 0, 0, 0, 0, 0, 0, 0, 0, 0, 0, 0, 0, 0, 0, 0]\n"
     ]
    }
   ],
   "source": [
    "mp.show_list(\n",
    "    tokenizer(d['text'], padding=True)['input_ids']\n",
    ")"
   ]
  },
  {
   "cell_type": "markdown",
   "metadata": {},
   "source": [
    "*성공*"
   ]
  },
  {
   "cell_type": "code",
   "execution_count": 35,
   "metadata": {},
   "outputs": [
    {
     "name": "stderr",
     "output_type": "stream",
     "text": [
      "We strongly recommend passing in an `attention_mask` since your input_ids may be padded. See https://huggingface.co/docs/transformers/troubleshooting#incorrect-output-when-padding-tokens-arent-masked.\n"
     ]
    },
    {
     "data": {
      "text/plain": [
       "SequenceClassifierOutput(loss=None, logits=tensor([[-0.0174,  0.1774],\n",
       "        [-0.0269,  0.2127],\n",
       "        [-0.0322,  0.2528]], grad_fn=<AddmmBackward0>), hidden_states=None, attentions=None)"
      ]
     },
     "execution_count": 35,
     "metadata": {},
     "output_type": "execute_result"
    }
   ],
   "source": [
    "model1(torch.tensor(tokenizer(d['text'], padding=True)['input_ids']))"
   ]
  },
  {
   "cell_type": "markdown",
   "metadata": {},
   "source": [
    "`(풀이2)`"
   ]
  },
  {
   "cell_type": "code",
   "execution_count": 36,
   "metadata": {},
   "outputs": [
    {
     "data": {
      "text/plain": [
       "SequenceClassifierOutput(loss=None, logits=tensor([[-0.0174,  0.1774],\n",
       "        [-0.0269,  0.2127],\n",
       "        [-0.0322,  0.2528]], grad_fn=<AddmmBackward0>), hidden_states=None, attentions=None)"
      ]
     },
     "execution_count": 36,
     "metadata": {},
     "output_type": "execute_result"
    }
   ],
   "source": [
    "model1(tokenizer(d['text'], padding=True, return_tensors=\"pt\")['input_ids'])"
   ]
  },
  {
   "cell_type": "markdown",
   "metadata": {},
   "source": [
    "`#`"
   ]
  },
  {
   "cell_type": "markdown",
   "metadata": {},
   "source": [
    "`# 예제2` -- emotion"
   ]
  },
  {
   "cell_type": "code",
   "execution_count": 37,
   "metadata": {},
   "outputs": [],
   "source": [
    "emotion = datasets.load_dataset('emotion')"
   ]
  },
  {
   "cell_type": "code",
   "execution_count": 38,
   "metadata": {},
   "outputs": [
    {
     "data": {
      "text/plain": [
       "Dataset({\n",
       "    features: ['text', 'label'],\n",
       "    num_rows: 3\n",
       "})"
      ]
     },
     "execution_count": 38,
     "metadata": {},
     "output_type": "execute_result"
    }
   ],
   "source": [
    "d = emotion['train'].select(range(3))\n",
    "d"
   ]
  },
  {
   "cell_type": "markdown",
   "metadata": {},
   "source": [
    "`(풀이)`"
   ]
  },
  {
   "cell_type": "code",
   "execution_count": 39,
   "metadata": {},
   "outputs": [
    {
     "data": {
      "text/plain": [
       "SequenceClassifierOutput(loss=None, logits=tensor([[0.0163, 0.2285],\n",
       "        [0.0100, 0.2066],\n",
       "        [0.0087, 0.2619]], grad_fn=<AddmmBackward0>), hidden_states=None, attentions=None)"
      ]
     },
     "execution_count": 39,
     "metadata": {},
     "output_type": "execute_result"
    }
   ],
   "source": [
    "model1(torch.tensor(tokenizer(d['text'],padding=True)['input_ids']))"
   ]
  },
  {
   "cell_type": "markdown",
   "metadata": {},
   "source": [
    "`#`"
   ]
  },
  {
   "cell_type": "markdown",
   "metadata": {},
   "source": [
    "`# 예제3` -- MBTI"
   ]
  },
  {
   "cell_type": "code",
   "execution_count": 72,
   "metadata": {},
   "outputs": [
    {
     "name": "stderr",
     "output_type": "stream",
     "text": [
      "huggingface/tokenizers: The current process just got forked, after parallelism has already been used. Disabling parallelism to avoid deadlocks...\n",
      "To disable this warning, you can either:\n",
      "\t- Avoid using `tokenizers` before the fork if possible\n",
      "\t- Explicitly set the environment variable TOKENIZERS_PARALLELISM=(true | false)\n"
     ]
    },
    {
     "name": "stdout",
     "output_type": "stream",
     "text": [
      "--2024-11-12 22:32:08--  https://raw.githubusercontent.com/guebin/MP2024/refs/heads/main/posts/mbti_1.csv\n",
      "Resolving raw.githubusercontent.com (raw.githubusercontent.com)... 185.199.111.133, 185.199.110.133, 185.199.109.133, ...\n",
      "Connecting to raw.githubusercontent.com (raw.githubusercontent.com)|185.199.111.133|:443... connected.\n",
      "HTTP request sent, awaiting response... 200 OK\n",
      "Length: 62856486 (60M) [text/plain]\n",
      "Saving to: ‘mbti_1.csv’\n",
      "\n",
      "mbti_1.csv          100%[===================>]  59.94M   109MB/s    in 0.6s    \n",
      "\n",
      "2024-11-12 22:32:09 (109 MB/s) - ‘mbti_1.csv’ saved [62856486/62856486]\n",
      "\n"
     ]
    }
   ],
   "source": [
    "# mbti1.csv 파일 다운로드 \n",
    "!wget https://raw.githubusercontent.com/guebin/MP2024/refs/heads/main/posts/mbti_1.csv"
   ]
  },
  {
   "cell_type": "code",
   "execution_count": 44,
   "metadata": {},
   "outputs": [
    {
     "data": {
      "text/plain": [
       "Dataset({\n",
       "    features: ['type', 'posts'],\n",
       "    num_rows: 3\n",
       "})"
      ]
     },
     "execution_count": 44,
     "metadata": {},
     "output_type": "execute_result"
    }
   ],
   "source": [
    "d = datasets.Dataset.from_csv(\"mbti_1.csv\").select(range(3))\n",
    "d"
   ]
  },
  {
   "cell_type": "markdown",
   "metadata": {},
   "source": [
    "`(풀이1)`"
   ]
  },
  {
   "cell_type": "markdown",
   "metadata": {},
   "source": [
    "*실패*"
   ]
  },
  {
   "cell_type": "code",
   "execution_count": 45,
   "metadata": {},
   "outputs": [
    {
     "name": "stderr",
     "output_type": "stream",
     "text": [
      "Token indices sequence length is longer than the specified maximum sequence length for this model (2102 > 512). Running this sequence through the model will result in indexing errors\n"
     ]
    },
    {
     "ename": "RuntimeError",
     "evalue": "The size of tensor a (2102) must match the size of tensor b (512) at non-singleton dimension 1",
     "output_type": "error",
     "traceback": [
      "\u001b[0;31m---------------------------------------------------------------------------\u001b[0m",
      "\u001b[0;31mRuntimeError\u001b[0m                              Traceback (most recent call last)",
      "Cell \u001b[0;32mIn[45], line 1\u001b[0m\n\u001b[0;32m----> 1\u001b[0m \u001b[43mmodel1\u001b[49m\u001b[43m(\u001b[49m\u001b[43mtorch\u001b[49m\u001b[38;5;241;43m.\u001b[39;49m\u001b[43mtensor\u001b[49m\u001b[43m(\u001b[49m\u001b[43mtokenizer\u001b[49m\u001b[43m(\u001b[49m\u001b[43md\u001b[49m\u001b[43m[\u001b[49m\u001b[38;5;124;43m'\u001b[39;49m\u001b[38;5;124;43mposts\u001b[39;49m\u001b[38;5;124;43m'\u001b[39;49m\u001b[43m]\u001b[49m\u001b[43m,\u001b[49m\u001b[43mpadding\u001b[49m\u001b[38;5;241;43m=\u001b[39;49m\u001b[38;5;28;43;01mTrue\u001b[39;49;00m\u001b[43m)\u001b[49m\u001b[43m[\u001b[49m\u001b[38;5;124;43m'\u001b[39;49m\u001b[38;5;124;43minput_ids\u001b[39;49m\u001b[38;5;124;43m'\u001b[39;49m\u001b[43m]\u001b[49m\u001b[43m)\u001b[49m\u001b[43m)\u001b[49m\n",
      "File \u001b[0;32m~/anaconda3/envs/hf/lib/python3.12/site-packages/torch/nn/modules/module.py:1553\u001b[0m, in \u001b[0;36mModule._wrapped_call_impl\u001b[0;34m(self, *args, **kwargs)\u001b[0m\n\u001b[1;32m   1551\u001b[0m     \u001b[38;5;28;01mreturn\u001b[39;00m \u001b[38;5;28mself\u001b[39m\u001b[38;5;241m.\u001b[39m_compiled_call_impl(\u001b[38;5;241m*\u001b[39margs, \u001b[38;5;241m*\u001b[39m\u001b[38;5;241m*\u001b[39mkwargs)  \u001b[38;5;66;03m# type: ignore[misc]\u001b[39;00m\n\u001b[1;32m   1552\u001b[0m \u001b[38;5;28;01melse\u001b[39;00m:\n\u001b[0;32m-> 1553\u001b[0m     \u001b[38;5;28;01mreturn\u001b[39;00m \u001b[38;5;28;43mself\u001b[39;49m\u001b[38;5;241;43m.\u001b[39;49m\u001b[43m_call_impl\u001b[49m\u001b[43m(\u001b[49m\u001b[38;5;241;43m*\u001b[39;49m\u001b[43margs\u001b[49m\u001b[43m,\u001b[49m\u001b[43m \u001b[49m\u001b[38;5;241;43m*\u001b[39;49m\u001b[38;5;241;43m*\u001b[39;49m\u001b[43mkwargs\u001b[49m\u001b[43m)\u001b[49m\n",
      "File \u001b[0;32m~/anaconda3/envs/hf/lib/python3.12/site-packages/torch/nn/modules/module.py:1562\u001b[0m, in \u001b[0;36mModule._call_impl\u001b[0;34m(self, *args, **kwargs)\u001b[0m\n\u001b[1;32m   1557\u001b[0m \u001b[38;5;66;03m# If we don't have any hooks, we want to skip the rest of the logic in\u001b[39;00m\n\u001b[1;32m   1558\u001b[0m \u001b[38;5;66;03m# this function, and just call forward.\u001b[39;00m\n\u001b[1;32m   1559\u001b[0m \u001b[38;5;28;01mif\u001b[39;00m \u001b[38;5;129;01mnot\u001b[39;00m (\u001b[38;5;28mself\u001b[39m\u001b[38;5;241m.\u001b[39m_backward_hooks \u001b[38;5;129;01mor\u001b[39;00m \u001b[38;5;28mself\u001b[39m\u001b[38;5;241m.\u001b[39m_backward_pre_hooks \u001b[38;5;129;01mor\u001b[39;00m \u001b[38;5;28mself\u001b[39m\u001b[38;5;241m.\u001b[39m_forward_hooks \u001b[38;5;129;01mor\u001b[39;00m \u001b[38;5;28mself\u001b[39m\u001b[38;5;241m.\u001b[39m_forward_pre_hooks\n\u001b[1;32m   1560\u001b[0m         \u001b[38;5;129;01mor\u001b[39;00m _global_backward_pre_hooks \u001b[38;5;129;01mor\u001b[39;00m _global_backward_hooks\n\u001b[1;32m   1561\u001b[0m         \u001b[38;5;129;01mor\u001b[39;00m _global_forward_hooks \u001b[38;5;129;01mor\u001b[39;00m _global_forward_pre_hooks):\n\u001b[0;32m-> 1562\u001b[0m     \u001b[38;5;28;01mreturn\u001b[39;00m \u001b[43mforward_call\u001b[49m\u001b[43m(\u001b[49m\u001b[38;5;241;43m*\u001b[39;49m\u001b[43margs\u001b[49m\u001b[43m,\u001b[49m\u001b[43m \u001b[49m\u001b[38;5;241;43m*\u001b[39;49m\u001b[38;5;241;43m*\u001b[39;49m\u001b[43mkwargs\u001b[49m\u001b[43m)\u001b[49m\n\u001b[1;32m   1564\u001b[0m \u001b[38;5;28;01mtry\u001b[39;00m:\n\u001b[1;32m   1565\u001b[0m     result \u001b[38;5;241m=\u001b[39m \u001b[38;5;28;01mNone\u001b[39;00m\n",
      "File \u001b[0;32m~/anaconda3/envs/hf/lib/python3.12/site-packages/transformers/models/distilbert/modeling_distilbert.py:978\u001b[0m, in \u001b[0;36mDistilBertForSequenceClassification.forward\u001b[0;34m(self, input_ids, attention_mask, head_mask, inputs_embeds, labels, output_attentions, output_hidden_states, return_dict)\u001b[0m\n\u001b[1;32m    970\u001b[0m \u001b[38;5;250m\u001b[39m\u001b[38;5;124mr\u001b[39m\u001b[38;5;124;03m\"\"\"\u001b[39;00m\n\u001b[1;32m    971\u001b[0m \u001b[38;5;124;03mlabels (`torch.LongTensor` of shape `(batch_size,)`, *optional*):\u001b[39;00m\n\u001b[1;32m    972\u001b[0m \u001b[38;5;124;03m    Labels for computing the sequence classification/regression loss. Indices should be in `[0, ...,\u001b[39;00m\n\u001b[1;32m    973\u001b[0m \u001b[38;5;124;03m    config.num_labels - 1]`. If `config.num_labels == 1` a regression loss is computed (Mean-Square loss), If\u001b[39;00m\n\u001b[1;32m    974\u001b[0m \u001b[38;5;124;03m    `config.num_labels > 1` a classification loss is computed (Cross-Entropy).\u001b[39;00m\n\u001b[1;32m    975\u001b[0m \u001b[38;5;124;03m\"\"\"\u001b[39;00m\n\u001b[1;32m    976\u001b[0m return_dict \u001b[38;5;241m=\u001b[39m return_dict \u001b[38;5;28;01mif\u001b[39;00m return_dict \u001b[38;5;129;01mis\u001b[39;00m \u001b[38;5;129;01mnot\u001b[39;00m \u001b[38;5;28;01mNone\u001b[39;00m \u001b[38;5;28;01melse\u001b[39;00m \u001b[38;5;28mself\u001b[39m\u001b[38;5;241m.\u001b[39mconfig\u001b[38;5;241m.\u001b[39muse_return_dict\n\u001b[0;32m--> 978\u001b[0m distilbert_output \u001b[38;5;241m=\u001b[39m \u001b[38;5;28;43mself\u001b[39;49m\u001b[38;5;241;43m.\u001b[39;49m\u001b[43mdistilbert\u001b[49m\u001b[43m(\u001b[49m\n\u001b[1;32m    979\u001b[0m \u001b[43m    \u001b[49m\u001b[43minput_ids\u001b[49m\u001b[38;5;241;43m=\u001b[39;49m\u001b[43minput_ids\u001b[49m\u001b[43m,\u001b[49m\n\u001b[1;32m    980\u001b[0m \u001b[43m    \u001b[49m\u001b[43mattention_mask\u001b[49m\u001b[38;5;241;43m=\u001b[39;49m\u001b[43mattention_mask\u001b[49m\u001b[43m,\u001b[49m\n\u001b[1;32m    981\u001b[0m \u001b[43m    \u001b[49m\u001b[43mhead_mask\u001b[49m\u001b[38;5;241;43m=\u001b[39;49m\u001b[43mhead_mask\u001b[49m\u001b[43m,\u001b[49m\n\u001b[1;32m    982\u001b[0m \u001b[43m    \u001b[49m\u001b[43minputs_embeds\u001b[49m\u001b[38;5;241;43m=\u001b[39;49m\u001b[43minputs_embeds\u001b[49m\u001b[43m,\u001b[49m\n\u001b[1;32m    983\u001b[0m \u001b[43m    \u001b[49m\u001b[43moutput_attentions\u001b[49m\u001b[38;5;241;43m=\u001b[39;49m\u001b[43moutput_attentions\u001b[49m\u001b[43m,\u001b[49m\n\u001b[1;32m    984\u001b[0m \u001b[43m    \u001b[49m\u001b[43moutput_hidden_states\u001b[49m\u001b[38;5;241;43m=\u001b[39;49m\u001b[43moutput_hidden_states\u001b[49m\u001b[43m,\u001b[49m\n\u001b[1;32m    985\u001b[0m \u001b[43m    \u001b[49m\u001b[43mreturn_dict\u001b[49m\u001b[38;5;241;43m=\u001b[39;49m\u001b[43mreturn_dict\u001b[49m\u001b[43m,\u001b[49m\n\u001b[1;32m    986\u001b[0m \u001b[43m\u001b[49m\u001b[43m)\u001b[49m\n\u001b[1;32m    987\u001b[0m hidden_state \u001b[38;5;241m=\u001b[39m distilbert_output[\u001b[38;5;241m0\u001b[39m]  \u001b[38;5;66;03m# (bs, seq_len, dim)\u001b[39;00m\n\u001b[1;32m    988\u001b[0m pooled_output \u001b[38;5;241m=\u001b[39m hidden_state[:, \u001b[38;5;241m0\u001b[39m]  \u001b[38;5;66;03m# (bs, dim)\u001b[39;00m\n",
      "File \u001b[0;32m~/anaconda3/envs/hf/lib/python3.12/site-packages/torch/nn/modules/module.py:1553\u001b[0m, in \u001b[0;36mModule._wrapped_call_impl\u001b[0;34m(self, *args, **kwargs)\u001b[0m\n\u001b[1;32m   1551\u001b[0m     \u001b[38;5;28;01mreturn\u001b[39;00m \u001b[38;5;28mself\u001b[39m\u001b[38;5;241m.\u001b[39m_compiled_call_impl(\u001b[38;5;241m*\u001b[39margs, \u001b[38;5;241m*\u001b[39m\u001b[38;5;241m*\u001b[39mkwargs)  \u001b[38;5;66;03m# type: ignore[misc]\u001b[39;00m\n\u001b[1;32m   1552\u001b[0m \u001b[38;5;28;01melse\u001b[39;00m:\n\u001b[0;32m-> 1553\u001b[0m     \u001b[38;5;28;01mreturn\u001b[39;00m \u001b[38;5;28;43mself\u001b[39;49m\u001b[38;5;241;43m.\u001b[39;49m\u001b[43m_call_impl\u001b[49m\u001b[43m(\u001b[49m\u001b[38;5;241;43m*\u001b[39;49m\u001b[43margs\u001b[49m\u001b[43m,\u001b[49m\u001b[43m \u001b[49m\u001b[38;5;241;43m*\u001b[39;49m\u001b[38;5;241;43m*\u001b[39;49m\u001b[43mkwargs\u001b[49m\u001b[43m)\u001b[49m\n",
      "File \u001b[0;32m~/anaconda3/envs/hf/lib/python3.12/site-packages/torch/nn/modules/module.py:1562\u001b[0m, in \u001b[0;36mModule._call_impl\u001b[0;34m(self, *args, **kwargs)\u001b[0m\n\u001b[1;32m   1557\u001b[0m \u001b[38;5;66;03m# If we don't have any hooks, we want to skip the rest of the logic in\u001b[39;00m\n\u001b[1;32m   1558\u001b[0m \u001b[38;5;66;03m# this function, and just call forward.\u001b[39;00m\n\u001b[1;32m   1559\u001b[0m \u001b[38;5;28;01mif\u001b[39;00m \u001b[38;5;129;01mnot\u001b[39;00m (\u001b[38;5;28mself\u001b[39m\u001b[38;5;241m.\u001b[39m_backward_hooks \u001b[38;5;129;01mor\u001b[39;00m \u001b[38;5;28mself\u001b[39m\u001b[38;5;241m.\u001b[39m_backward_pre_hooks \u001b[38;5;129;01mor\u001b[39;00m \u001b[38;5;28mself\u001b[39m\u001b[38;5;241m.\u001b[39m_forward_hooks \u001b[38;5;129;01mor\u001b[39;00m \u001b[38;5;28mself\u001b[39m\u001b[38;5;241m.\u001b[39m_forward_pre_hooks\n\u001b[1;32m   1560\u001b[0m         \u001b[38;5;129;01mor\u001b[39;00m _global_backward_pre_hooks \u001b[38;5;129;01mor\u001b[39;00m _global_backward_hooks\n\u001b[1;32m   1561\u001b[0m         \u001b[38;5;129;01mor\u001b[39;00m _global_forward_hooks \u001b[38;5;129;01mor\u001b[39;00m _global_forward_pre_hooks):\n\u001b[0;32m-> 1562\u001b[0m     \u001b[38;5;28;01mreturn\u001b[39;00m \u001b[43mforward_call\u001b[49m\u001b[43m(\u001b[49m\u001b[38;5;241;43m*\u001b[39;49m\u001b[43margs\u001b[49m\u001b[43m,\u001b[49m\u001b[43m \u001b[49m\u001b[38;5;241;43m*\u001b[39;49m\u001b[38;5;241;43m*\u001b[39;49m\u001b[43mkwargs\u001b[49m\u001b[43m)\u001b[49m\n\u001b[1;32m   1564\u001b[0m \u001b[38;5;28;01mtry\u001b[39;00m:\n\u001b[1;32m   1565\u001b[0m     result \u001b[38;5;241m=\u001b[39m \u001b[38;5;28;01mNone\u001b[39;00m\n",
      "File \u001b[0;32m~/anaconda3/envs/hf/lib/python3.12/site-packages/transformers/models/distilbert/modeling_distilbert.py:785\u001b[0m, in \u001b[0;36mDistilBertModel.forward\u001b[0;34m(self, input_ids, attention_mask, head_mask, inputs_embeds, output_attentions, output_hidden_states, return_dict)\u001b[0m\n\u001b[1;32m    782\u001b[0m \u001b[38;5;66;03m# Prepare head mask if needed\u001b[39;00m\n\u001b[1;32m    783\u001b[0m head_mask \u001b[38;5;241m=\u001b[39m \u001b[38;5;28mself\u001b[39m\u001b[38;5;241m.\u001b[39mget_head_mask(head_mask, \u001b[38;5;28mself\u001b[39m\u001b[38;5;241m.\u001b[39mconfig\u001b[38;5;241m.\u001b[39mnum_hidden_layers)\n\u001b[0;32m--> 785\u001b[0m embeddings \u001b[38;5;241m=\u001b[39m \u001b[38;5;28;43mself\u001b[39;49m\u001b[38;5;241;43m.\u001b[39;49m\u001b[43membeddings\u001b[49m\u001b[43m(\u001b[49m\u001b[43minput_ids\u001b[49m\u001b[43m,\u001b[49m\u001b[43m \u001b[49m\u001b[43minputs_embeds\u001b[49m\u001b[43m)\u001b[49m  \u001b[38;5;66;03m# (bs, seq_length, dim)\u001b[39;00m\n\u001b[1;32m    787\u001b[0m \u001b[38;5;28;01mif\u001b[39;00m \u001b[38;5;28mself\u001b[39m\u001b[38;5;241m.\u001b[39m_use_flash_attention_2:\n\u001b[1;32m    788\u001b[0m     attention_mask \u001b[38;5;241m=\u001b[39m attention_mask \u001b[38;5;28;01mif\u001b[39;00m (attention_mask \u001b[38;5;129;01mis\u001b[39;00m \u001b[38;5;129;01mnot\u001b[39;00m \u001b[38;5;28;01mNone\u001b[39;00m \u001b[38;5;129;01mand\u001b[39;00m \u001b[38;5;241m0\u001b[39m \u001b[38;5;129;01min\u001b[39;00m attention_mask) \u001b[38;5;28;01melse\u001b[39;00m \u001b[38;5;28;01mNone\u001b[39;00m\n",
      "File \u001b[0;32m~/anaconda3/envs/hf/lib/python3.12/site-packages/torch/nn/modules/module.py:1553\u001b[0m, in \u001b[0;36mModule._wrapped_call_impl\u001b[0;34m(self, *args, **kwargs)\u001b[0m\n\u001b[1;32m   1551\u001b[0m     \u001b[38;5;28;01mreturn\u001b[39;00m \u001b[38;5;28mself\u001b[39m\u001b[38;5;241m.\u001b[39m_compiled_call_impl(\u001b[38;5;241m*\u001b[39margs, \u001b[38;5;241m*\u001b[39m\u001b[38;5;241m*\u001b[39mkwargs)  \u001b[38;5;66;03m# type: ignore[misc]\u001b[39;00m\n\u001b[1;32m   1552\u001b[0m \u001b[38;5;28;01melse\u001b[39;00m:\n\u001b[0;32m-> 1553\u001b[0m     \u001b[38;5;28;01mreturn\u001b[39;00m \u001b[38;5;28;43mself\u001b[39;49m\u001b[38;5;241;43m.\u001b[39;49m\u001b[43m_call_impl\u001b[49m\u001b[43m(\u001b[49m\u001b[38;5;241;43m*\u001b[39;49m\u001b[43margs\u001b[49m\u001b[43m,\u001b[49m\u001b[43m \u001b[49m\u001b[38;5;241;43m*\u001b[39;49m\u001b[38;5;241;43m*\u001b[39;49m\u001b[43mkwargs\u001b[49m\u001b[43m)\u001b[49m\n",
      "File \u001b[0;32m~/anaconda3/envs/hf/lib/python3.12/site-packages/torch/nn/modules/module.py:1562\u001b[0m, in \u001b[0;36mModule._call_impl\u001b[0;34m(self, *args, **kwargs)\u001b[0m\n\u001b[1;32m   1557\u001b[0m \u001b[38;5;66;03m# If we don't have any hooks, we want to skip the rest of the logic in\u001b[39;00m\n\u001b[1;32m   1558\u001b[0m \u001b[38;5;66;03m# this function, and just call forward.\u001b[39;00m\n\u001b[1;32m   1559\u001b[0m \u001b[38;5;28;01mif\u001b[39;00m \u001b[38;5;129;01mnot\u001b[39;00m (\u001b[38;5;28mself\u001b[39m\u001b[38;5;241m.\u001b[39m_backward_hooks \u001b[38;5;129;01mor\u001b[39;00m \u001b[38;5;28mself\u001b[39m\u001b[38;5;241m.\u001b[39m_backward_pre_hooks \u001b[38;5;129;01mor\u001b[39;00m \u001b[38;5;28mself\u001b[39m\u001b[38;5;241m.\u001b[39m_forward_hooks \u001b[38;5;129;01mor\u001b[39;00m \u001b[38;5;28mself\u001b[39m\u001b[38;5;241m.\u001b[39m_forward_pre_hooks\n\u001b[1;32m   1560\u001b[0m         \u001b[38;5;129;01mor\u001b[39;00m _global_backward_pre_hooks \u001b[38;5;129;01mor\u001b[39;00m _global_backward_hooks\n\u001b[1;32m   1561\u001b[0m         \u001b[38;5;129;01mor\u001b[39;00m _global_forward_hooks \u001b[38;5;129;01mor\u001b[39;00m _global_forward_pre_hooks):\n\u001b[0;32m-> 1562\u001b[0m     \u001b[38;5;28;01mreturn\u001b[39;00m \u001b[43mforward_call\u001b[49m\u001b[43m(\u001b[49m\u001b[38;5;241;43m*\u001b[39;49m\u001b[43margs\u001b[49m\u001b[43m,\u001b[49m\u001b[43m \u001b[49m\u001b[38;5;241;43m*\u001b[39;49m\u001b[38;5;241;43m*\u001b[39;49m\u001b[43mkwargs\u001b[49m\u001b[43m)\u001b[49m\n\u001b[1;32m   1564\u001b[0m \u001b[38;5;28;01mtry\u001b[39;00m:\n\u001b[1;32m   1565\u001b[0m     result \u001b[38;5;241m=\u001b[39m \u001b[38;5;28;01mNone\u001b[39;00m\n",
      "File \u001b[0;32m~/anaconda3/envs/hf/lib/python3.12/site-packages/transformers/models/distilbert/modeling_distilbert.py:131\u001b[0m, in \u001b[0;36mEmbeddings.forward\u001b[0;34m(self, input_ids, input_embeds)\u001b[0m\n\u001b[1;32m    127\u001b[0m     position_ids \u001b[38;5;241m=\u001b[39m position_ids\u001b[38;5;241m.\u001b[39munsqueeze(\u001b[38;5;241m0\u001b[39m)\u001b[38;5;241m.\u001b[39mexpand_as(input_ids)  \u001b[38;5;66;03m# (bs, max_seq_length)\u001b[39;00m\n\u001b[1;32m    129\u001b[0m position_embeddings \u001b[38;5;241m=\u001b[39m \u001b[38;5;28mself\u001b[39m\u001b[38;5;241m.\u001b[39mposition_embeddings(position_ids)  \u001b[38;5;66;03m# (bs, max_seq_length, dim)\u001b[39;00m\n\u001b[0;32m--> 131\u001b[0m embeddings \u001b[38;5;241m=\u001b[39m \u001b[43minput_embeds\u001b[49m\u001b[43m \u001b[49m\u001b[38;5;241;43m+\u001b[39;49m\u001b[43m \u001b[49m\u001b[43mposition_embeddings\u001b[49m  \u001b[38;5;66;03m# (bs, max_seq_length, dim)\u001b[39;00m\n\u001b[1;32m    132\u001b[0m embeddings \u001b[38;5;241m=\u001b[39m \u001b[38;5;28mself\u001b[39m\u001b[38;5;241m.\u001b[39mLayerNorm(embeddings)  \u001b[38;5;66;03m# (bs, max_seq_length, dim)\u001b[39;00m\n\u001b[1;32m    133\u001b[0m embeddings \u001b[38;5;241m=\u001b[39m \u001b[38;5;28mself\u001b[39m\u001b[38;5;241m.\u001b[39mdropout(embeddings)  \u001b[38;5;66;03m# (bs, max_seq_length, dim)\u001b[39;00m\n",
      "\u001b[0;31mRuntimeError\u001b[0m: The size of tensor a (2102) must match the size of tensor b (512) at non-singleton dimension 1"
     ]
    }
   ],
   "source": [
    "model1(torch.tensor(tokenizer(d['posts'],padding=True)['input_ids']))"
   ]
  },
  {
   "cell_type": "markdown",
   "metadata": {},
   "source": [
    "*원인분석*"
   ]
  },
  {
   "cell_type": "code",
   "execution_count": 46,
   "metadata": {},
   "outputs": [
    {
     "name": "stdout",
     "output_type": "stream",
     "text": [
      "List Overview:\n",
      "Total items: 3\n",
      "\n",
      "1. list[0]\n",
      "   - Type: list\n",
      "   - Length: 2102\n",
      "   - Value: [101, 1005, 8299, 1024, 1013, 1013, 7479, 1012, 7858, 1012, 4012, 1013, 3422, 1029, 1058, 1027, 1053, 2015, 2595, 16257, 8545, 2509, 21638, 2860, 1064, 1064, 1064, 8299, 1024, 1013, 1013, 4601, 1012, 2865, 1012, 10722, 14905, 20974, 1012, 4012, 1013, 10722, 14905, 20974, 1035, 1048, 14876, 26230, 2692, 2509, 9737, 27717, 19062, 2487, 3217, 9541, 2487, 1035, 3156, 1012, 16545, 2290, 1064, 1064, 1064, 4372, 22540, 1998, 20014, 3501, 5312, 16770, 1024, 1013, 1013, 7479, 1012, 7858, 1012, 4012, 1013, 3422, 1029, 1058, 1027, 1045, 2480, 2581, 2571, 2487, 2290, 2549, 2595, 2213, 2549, 2998, 13013, 2121, 2025, 2327, 2702, 3248, 16770, 1024, 1013, 1013, 7479, 1012, 7858, 1012, 4012, 1013, 3422, 1029, 1058, 1027, 15384, 20952, 4371, 2487, 12870, 2278, 26418, 2015, 1064, 1064, 1064, 2054, 2038, 2042, 1996, 2087, 2166, 1011, 5278, 3325, 1999, 2115, 2166, 1029, 1064, 1064, 1064, 8299, 1024, 1013, 1013, 7479, 1012, 7858, 1012, 4012, 1013, 3422, 1029, 1058, 1027, 1058, 2595, 4371, 2100, 2860, 13088, 2094, 2860, 2620, 8299, 1024, 1013, 1013, 7479, 1012, 7858, 1012, 4012, 1013, 3422, 1029, 1058, 1027, 1057, 2620, 20518, 3286, 2629, 18927, 2509, 2063, 2006, 9377, 2005, 2087, 1997, 2651, 1012, 1064, 1064, 1064, 2089, 1996, 2566, 2278, 3325, 10047, 16862, 2063, 2017, 1012, 1064, 1064, 1064, 1996, 2197, 2518, 2026, 1999, 2546, 3501, 2767, 6866, 2006, 2010, 9130, 2077, 16873, 5920, 1996, 2279, 2154, 1012, 2717, 1999, 3521, 1066, 8299, 1024, 1013, 1013, 6819, 26247, 1012, 4012, 1013, 22238, 20958, 11387, 2575, 1064, 1064, 1064, 7592, 4372, 2546, 3501, 2581, 1012, 3374, 2000, 2963, 1997, 2115, 12893, 1012, 2009, 1005, 1055, 2069, 3019, 2005, 1037, 3276, 2000, 2025, 2022, 15401, 2035, 1996, 2051, 1999, 2296, 2617, 1997, 4598, 1012, 3046, 2000, 3275, 1996, 2524, 2335, 2004, 2335, 1997, 3930, 1010, 2004, 1012, 1012, 1012, 1064, 1064, 1064, 6391, 22025, 2683, 6391, 23499, 2692, 8299, 1024, 1013, 1013, 2813, 23298, 15194, 3258, 1012, 4012, 1013, 2039, 11066, 1013, 23297, 8889, 1013, 6860, 1011, 2879, 1011, 1998, 1011, 2611, 1011, 2813, 23298, 1012, 16545, 2290, 8299, 1024, 1013, 1013, 7045, 1012, 2079, 19139, 2497, 1012, 4012, 1013, 1059, 2361, 1011, 4180, 1013, 2039, 11066, 2015, 1013, 2230, 1013, 5840, 1013, 2461, 1011, 2188, 1011, 2640, 1012, 16545, 2290, 1012, 1012, 1012, 1064, 1064, 1064, 6160, 1998, 4933, 1012, 1064, 1064, 1064, 8299, 1024, 1013, 1013, 2447, 7971, 10127, 1012, 4012, 1013, 1059, 2361, 1011, 4180, 1013, 2039, 11066, 2015, 1013, 2286, 1013, 5511, 1013, 2417, 1011, 2417, 1011, 1996, 1011, 20421, 1011, 3040, 1011, 19652, 16086, 22610, 2549, 1011, 10332, 1011, 27908, 1012, 16545, 2290, 2208, 1012, 2275, 1012, 2674, 1012, 1064, 1064, 1064, 4013, 4143, 2278, 1010, 2092, 19892, 21823, 2078, 1010, 2012, 2560, 4228, 2781, 1997, 3048, 2115, 3456, 1006, 1998, 1045, 2123, 1005, 1056, 2812, 3048, 2068, 2096, 3564, 1999, 2115, 2168, 4624, 3242, 1007, 1010, 17901, 1999, 5549, 8156, 1006, 2672, 3046, 21006, 2015, 2004, 1037, 2740, 3771, 4522, 1012, 1012, 1012, 1064, 1064, 1064, 10468, 2272, 2039, 2007, 2093, 5167, 2017, 1005, 2310, 4340, 2008, 2169, 2828, 1006, 2030, 29221, 4127, 2017, 2215, 2000, 2079, 1007, 2052, 2062, 2084, 3497, 2224, 1010, 2445, 2169, 4127, 1005, 10699, 4972, 1998, 2054, 17048, 1010, 2043, 2187, 2011, 1012, 1012, 1012, 1064, 1064, 1064, 2035, 2477, 1999, 5549, 8156, 1012, 18135, 2003, 5262, 1037, 2678, 2208, 1010, 1998, 1037, 2204, 2028, 2012, 2008, 1012, 3602, 1024, 1037, 2204, 2028, 2012, 2008, 2003, 5399, 20714, 1999, 2008, 1045, 2572, 2025, 3294, 7694, 1996, 2331, 1997, 2151, 2445, 21934, 1012, 1012, 1012, 1064, 1064, 1064, 6203, 4372, 22540, 1024, 2054, 2020, 2115, 5440, 2678, 2399, 3652, 2039, 1998, 2054, 2024, 2115, 2085, 1010, 2783, 5440, 2678, 2399, 1029, 1024, 4658, 1024, 1064, 1064, 1064, 16770, 1024, 1013, 1013, 7479, 1012, 7858, 1012, 4012, 1013, 3422, 1029, 1058, 1027, 1053, 22571, 4160, 2102, 2620, 2819, 2480, 8029, 1064, 1064, 1064, 2009, 3544, 2000, 2022, 2205, 2397, 1012, 1024, 6517, 1024, 1064, 1064, 1064, 2045, 1005, 1055, 2619, 2041, 2045, 2005, 3071, 1012, 1064, 1064, 1064, 3524, 1012, 1012, 1012, 1045, 2245, 7023, 2001, 1037, 2204, 2518, 1012, 1064, 1064, 1064, 1045, 2074, 24188, 4509, 1996, 2051, 1997, 22560, 1038, 1013, 1039, 1045, 7065, 2884, 2306, 2026, 5110, 2088, 2062, 6168, 2087, 2060, 2051, 1045, 1005, 1040, 2022, 2147, 2378, 1012, 1012, 1012, 2074, 5959, 1996, 2033, 2051, 2096, 2017, 2064, 1012, 2123, 1005, 1056, 4737, 1010, 2111, 2097, 2467, 2022, 2105, 2000, 1012, 1012, 1012, 1064, 1064, 1064, 10930, 4372, 25856, 6456, 1012, 1012, 1012, 2065, 2017, 1005, 2128, 2046, 1037, 19394, 5649, 6180, 1010, 2092, 1010, 4931, 1012, 1064, 1064, 1064, 1012, 1012, 1012, 2043, 2115, 2364, 2591, 13307, 2003, 12202, 2444, 11450, 1998, 2130, 2059, 2017, 12064, 2135, 16342, 2855, 1012, 1064, 1064, 1064, 8299, 1024, 1013, 1013, 7479, 1012, 7858, 1012, 4012, 1013, 3422, 1029, 1058, 1027, 1043, 16425, 2100, 2581, 4103, 16715, 16932, 1045, 2428, 10667, 1996, 2112, 2013, 1015, 1024, 4805, 2000, 1016, 1024, 2753, 1064, 1064, 1064, 8299, 1024, 1013, 1013, 7479, 1012, 7858, 1012, 4012, 1013, 3422, 1029, 1058, 1027, 5796, 4160, 2595, 4246, 5603, 2581, 2497, 2620, 1064, 1064, 1064, 7917, 2138, 2023, 11689, 5942, 2009, 1997, 2033, 1012, 1064, 1064, 1064, 2131, 2152, 1999, 16125, 1010, 25043, 1998, 4521, 9409, 10199, 8261, 2015, 1999, 16125, 2096, 9530, 14028, 2075, 2058, 2242, 7789, 1010, 2628, 2011, 21881, 2015, 1998, 8537, 1012, 1064, 1064, 1064, 8299, 1024, 1013, 1013, 7479, 1012, 7858, 1012, 4012, 1013, 3422, 1029, 1058, 1027, 12464, 2581, 8780, 2226, 2509, 25526, 4783, 1064, 1064, 1064, 8299, 1024, 1013, 1013, 7479, 1012, 7858, 1012, 4012, 1013, 3422, 1029, 1058, 1027, 1018, 2615, 2475, 26230, 2953, 2232, 4160, 6559, 1064, 1064, 1064, 8299, 1024, 1013, 1013, 7479, 1012, 7858, 1012, 4012, 1013, 3422, 1029, 1058, 1027, 22889, 2615, 24798, 2546, 4160, 4160, 2692, 3775, 1064, 1064, 1064, 7917, 2005, 2205, 2116, 1038, 1005, 1055, 1999, 2008, 6251, 1012, 2129, 2071, 2017, 999, 2228, 1997, 1996, 1038, 999, 1064, 1064, 1064, 7917, 2005, 3666, 5691, 1999, 1996, 3420, 2007, 1996, 24654, 9623, 1012, 1064, 1064, 1064, 7917, 2138, 2740, 2465, 4415, 4036, 2017, 2498, 2055, 8152, 3778, 1012, 1064, 1064, 1064, 7917, 2005, 1037, 2878, 3677, 1997, 4436, 999, 1064, 1064, 1064, 8299, 1024, 1013, 1013, 7479, 1012, 7858, 1012, 4012, 1013, 3422, 1029, 1058, 1027, 20868, 26775, 2615, 23632, 25619, 2480, 2549, 1064, 1064, 1064, 1015, 1007, 2048, 3336, 8448, 2006, 2187, 1998, 2157, 14163, 12680, 2075, 2006, 1037, 7813, 1999, 1996, 2690, 1012, 1016, 1007, 2478, 2037, 2219, 2668, 1010, 2048, 5430, 3549, 9708, 2651, 1005, 1055, 6745, 6230, 2015, 2006, 2037, 4351, 5430, 9708, 2813, 1012, 1017, 1007, 1045, 2156, 2009, 2004, 1012, 1012, 1012, 1064, 1064, 1064, 1037, 20421, 2088, 2019, 1999, 2546, 3501, 2554, 3071, 4150, 2019, 23569, 27605, 3367, 1064, 1064, 1064, 4749, 16932, 2475, 1064, 1064, 1064, 8299, 1024, 1013, 1013, 7479, 1012, 7858, 1012, 4012, 1013, 3422, 1029, 1058, 1027, 1062, 19170, 4160, 1035, 1046, 7959, 16715, 1064, 1064, 1064, 8299, 1024, 1013, 1013, 7523, 2863, 3654, 21254, 1012, 4012, 1013, 2262, 1013, 21650, 1011, 15476, 1013, 2322, 1011, 2477, 1011, 2017, 1011, 2134, 2102, 1011, 2113, 1011, 2055, 1011, 28858, 1013, 5532, 1012, 16545, 2290, 1064, 1064, 1064, 8299, 1024, 1013, 1013, 21480, 1012, 16270, 5714, 5620, 1012, 4012, 1013, 2865, 9148, 3211, 1013, 17928, 2015, 1012, 16270, 1012, 4012, 1013, 20421, 1011, 3165, 1011, 2544, 1013, 1040, 1013, 20315, 1013, 4487, 9284, 1012, 21025, 2546, 1064, 1064, 1064, 8299, 1024, 1013, 1013, 7479, 1012, 14262, 15878, 6137, 1012, 5658, 1013, 8962, 2860, 1011, 1040, 2361, 1013, 16596, 6844, 2099, 1012, 16545, 2290, 1064, 1064, 1064, 2025, 2035, 3324, 2024, 3324, 2138, 2027, 4009, 1012, 2009, 1005, 1055, 1996, 2801, 2008, 9294, 1999, 5716, 2242, 1997, 2115, 2219, 1012, 1012, 1012, 2066, 1037, 8085, 1012, 1064, 1064, 1064, 6160, 2000, 1996, 8957, 6938, 1010, 2711, 2040, 20164, 2026, 2969, 1011, 19593, 12731, 2480, 1045, 1005, 1049, 2025, 2019, 18568, 8085, 3063, 2066, 2841, 1012, 1024, 7098, 1024, 1064, 1064, 1064, 7917, 2005, 2635, 2035, 1996, 2282, 2104, 2026, 2793, 1012, 8038, 10657, 4553, 2000, 3745, 2007, 1996, 20997, 2229, 1012, 1064, 1064, 1064, 8299, 1024, 1013, 1013, 7479, 1012, 7858, 1012, 4012, 1013, 3422, 1029, 1058, 1027, 1059, 2620, 8004, 5714, 2078, 28311, 20784, 1064, 1064, 1064, 7917, 2005, 2108, 2205, 2172, 1997, 1037, 8505, 2075, 1010, 24665, 25438, 2989, 2785, 1997, 4040, 1012, 1012, 1012, 15624, 1012, 1064, 1064, 1064, 6289, 2232, 1012, 1012, 1012, 2214, 2152, 2082, 2189, 1045, 4033, 1005, 1056, 2657, 1999, 5535, 1012, 8299, 1024, 1013, 1013, 7479, 1012, 7858, 1012, 4012, 1013, 3422, 1029, 1058, 1027, 5887, 26775, 6279, 19797, 2497, 2487, 2860, 1064, 1064, 1064, 1045, 3478, 1037, 2270, 4092, 2465, 1037, 2261, 2086, 3283, 1998, 1045, 1005, 2310, 4066, 1997, 4342, 2054, 1045, 2071, 2079, 2488, 2020, 1045, 2000, 2022, 1999, 2008, 2597, 2153, 1012, 1037, 2502, 2112, 1997, 2026, 4945, 2001, 2074, 2058, 18570, 2870, 2007, 2205, 1012, 1012, 1012, 1064, 1064, 1064, 1045, 2066, 2023, 2711, 1005, 1055, 5177, 3012, 1012, 2002, 1005, 1055, 1037, 4484, 20014, 3501, 2011, 1996, 2126, 1012, 8299, 1024, 1013, 1013, 7479, 1012, 7858, 1012, 4012, 1013, 3422, 1029, 1058, 1027, 1044, 2290, 2243, 3669, 1011, 16216, 2278, 2575, 2213, 1064, 1064, 1064, 2693, 2000, 1996, 7573, 2181, 1998, 2707, 1037, 2047, 2166, 2005, 2870, 1012, 1005, 102, 0, 0, 0, 0, 0, 0, 0, 0, 0, 0, 0, 0, 0, 0, 0, 0, 0, 0, 0, 0, 0, 0, 0, 0, 0, 0, 0, 0, 0, 0, 0, 0, 0, 0, 0, 0, 0, 0, 0, 0, 0, 0, 0, 0, 0, 0, 0, 0, 0, 0, 0, 0, 0, 0, 0, 0, 0, 0, 0, 0, 0, 0, 0, 0, 0, 0, 0, 0, 0, 0, 0, 0, 0, 0, 0, 0, 0, 0, 0, 0, 0, 0, 0, 0, 0, 0, 0, 0, 0, 0, 0, 0, 0, 0, 0, 0, 0, 0, 0, 0, 0, 0, 0, 0, 0, 0, 0, 0, 0, 0, 0, 0, 0, 0, 0, 0, 0, 0, 0, 0, 0, 0, 0, 0, 0, 0, 0, 0, 0, 0, 0, 0, 0, 0, 0, 0, 0, 0, 0, 0, 0, 0, 0, 0, 0, 0, 0, 0, 0, 0, 0, 0, 0, 0, 0, 0, 0, 0, 0, 0, 0, 0, 0, 0, 0, 0, 0, 0, 0, 0, 0, 0, 0, 0, 0, 0, 0, 0, 0, 0, 0, 0, 0, 0, 0, 0, 0, 0, 0, 0, 0, 0, 0, 0, 0, 0, 0, 0, 0, 0, 0, 0, 0, 0, 0, 0, 0, 0, 0, 0, 0, 0, 0, 0, 0, 0, 0, 0, 0, 0, 0, 0, 0, 0, 0, 0, 0, 0, 0, 0, 0, 0, 0, 0, 0, 0, 0, 0, 0, 0, 0, 0, 0, 0, 0, 0, 0, 0, 0, 0, 0, 0, 0, 0, 0, 0, 0, 0, 0, 0, 0, 0, 0, 0, 0, 0, 0, 0, 0, 0, 0, 0, 0, 0, 0, 0, 0, 0, 0, 0, 0, 0, 0, 0, 0, 0, 0, 0, 0, 0, 0, 0, 0, 0, 0, 0, 0, 0, 0, 0, 0, 0, 0, 0, 0, 0, 0, 0, 0, 0, 0, 0, 0, 0, 0, 0, 0, 0, 0, 0, 0, 0, 0, 0, 0, 0, 0, 0, 0, 0, 0, 0, 0, 0, 0, 0, 0, 0, 0, 0, 0, 0, 0, 0, 0, 0, 0, 0, 0, 0, 0, 0, 0, 0, 0, 0, 0, 0, 0, 0, 0, 0, 0, 0, 0, 0, 0, 0, 0, 0, 0, 0, 0, 0, 0, 0, 0, 0, 0, 0, 0, 0, 0, 0, 0, 0, 0, 0, 0, 0, 0, 0, 0, 0, 0, 0, 0, 0, 0, 0, 0, 0, 0, 0, 0, 0, 0, 0, 0, 0, 0, 0, 0, 0, 0, 0, 0, 0, 0, 0, 0, 0, 0, 0, 0, 0, 0, 0, 0, 0, 0, 0, 0, 0, 0, 0, 0, 0, 0, 0, 0, 0, 0, 0, 0, 0, 0, 0, 0, 0, 0, 0, 0, 0, 0, 0, 0, 0, 0, 0, 0, 0, 0, 0, 0, 0, 0, 0, 0, 0, 0, 0, 0, 0, 0, 0, 0, 0, 0, 0, 0, 0, 0, 0, 0, 0, 0, 0, 0, 0, 0, 0, 0, 0, 0, 0, 0, 0, 0, 0, 0, 0, 0, 0, 0, 0, 0, 0, 0, 0, 0, 0, 0, 0, 0, 0, 0, 0, 0, 0, 0, 0, 0, 0, 0, 0, 0, 0, 0, 0, 0, 0, 0, 0, 0, 0, 0, 0, 0, 0, 0, 0, 0, 0, 0, 0, 0, 0, 0, 0]\n",
      "\n",
      "2. list[1]\n",
      "   - Type: list\n",
      "   - Length: 2102\n",
      "   - Value: [101, 1005, 1045, 1005, 1049, 4531, 1996, 3768, 1997, 2033, 1999, 2122, 8466, 2200, 8598, 2075, 1012, 1064, 1064, 1064, 3348, 2064, 2022, 11771, 2065, 2009, 1005, 1055, 1999, 1996, 2168, 2597, 2411, 1012, 2005, 2742, 2033, 1998, 2026, 6513, 2024, 2747, 1999, 2019, 4044, 2073, 2057, 2031, 2000, 5541, 2135, 2224, 11190, 15239, 1998, 8696, 1012, 2045, 3475, 1005, 1056, 2438, 1012, 1012, 1012, 1064, 1064, 1064, 3228, 2047, 3574, 2000, 1005, 2208, 1005, 3399, 1012, 1064, 1064, 1064, 7592, 1008, 4372, 25856, 5861, 1008, 2008, 1005, 1055, 2035, 2009, 3138, 1012, 2084, 2057, 23705, 1998, 2027, 2079, 2087, 1997, 1996, 20661, 2096, 1045, 13399, 2037, 3739, 1998, 2709, 2037, 2616, 2007, 5744, 2773, 13068, 1998, 2062, 5048, 2100, 20237, 1012, 1064, 1064, 1064, 2023, 1009, 3768, 1997, 5703, 1998, 2192, 3239, 12016, 1012, 1064, 1064, 1064, 2613, 26264, 3231, 1045, 3556, 13029, 1012, 4274, 26264, 5852, 2024, 6057, 1012, 1045, 3556, 8574, 2015, 2030, 3020, 1012, 2085, 1010, 2066, 1996, 2280, 10960, 1997, 2023, 11689, 1045, 2097, 5254, 2008, 1045, 2123, 1005, 1056, 2903, 1999, 1996, 26264, 3231, 1012, 2077, 2017, 7221, 4509, 1012, 1012, 1012, 1064, 1064, 1064, 2017, 2113, 2017, 1005, 2128, 2019, 4372, 25856, 2043, 2017, 25887, 2013, 1037, 2609, 2005, 1037, 2095, 1998, 1037, 2431, 1010, 2709, 1010, 1998, 2424, 2111, 2024, 2145, 15591, 2006, 2115, 8466, 1998, 16663, 2115, 4784, 1013, 4301, 1012, 2017, 2113, 2017, 1005, 2128, 2019, 4372, 25856, 2043, 2017, 1012, 1012, 1012, 1064, 1064, 1064, 8299, 1024, 1013, 1013, 10047, 2290, 15136, 2620, 1012, 4871, 3270, 3600, 1012, 2149, 1013, 10047, 2290, 15136, 2620, 1013, 4185, 19317, 1013, 3438, 11387, 2094, 2487, 2546, 2683, 2850, 2575, 2683, 22932, 2050, 2575, 2497, 2581, 2487, 19473, 2575, 1012, 16545, 2290, 1064, 1064, 1064, 8299, 1024, 1013, 1013, 10047, 2290, 1012, 4639, 2094, 16872, 28014, 1012, 4012, 1013, 6282, 2509, 2050, 2692, 2278, 2575, 18827, 22025, 16932, 3540, 2497, 2620, 2549, 2278, 22203, 1064, 1064, 1064, 1045, 2058, 2228, 2477, 2823, 1012, 1045, 2175, 2011, 1996, 2214, 20052, 9106, 14686, 1012, 3383, 1010, 2043, 1037, 2158, 2038, 2569, 3716, 1998, 2569, 4204, 2066, 2026, 2219, 1010, 2009, 2738, 16171, 2032, 2000, 6148, 1037, 3375, 1012, 1012, 1012, 1064, 1064, 1064, 13789, 12155, 10270, 1012, 10722, 14905, 20974, 1012, 4012, 2061, 2003, 1045, 1024, 1040, 1064, 1064, 1064, 4278, 1010, 2199, 1009, 2695, 1064, 1064, 1064, 2025, 2428, 1025, 1045, 1005, 2310, 2196, 2245, 1997, 1041, 1013, 1045, 2030, 1046, 1013, 1052, 2004, 2613, 4972, 1012, 1045, 3648, 2870, 2006, 2054, 1045, 2224, 1012, 1045, 2224, 11265, 1998, 14841, 2004, 2026, 29532, 1012, 10768, 2005, 6699, 1998, 6524, 9033, 1012, 1045, 2036, 2224, 9152, 2349, 2000, 2033, 3997, 1012, 1012, 1012, 1064, 1064, 1064, 2017, 2113, 2295, 1012, 2008, 2001, 13749, 18595, 3560, 1012, 2044, 3038, 2009, 1045, 2428, 2215, 2000, 3046, 2009, 1998, 2156, 2054, 6433, 2007, 2033, 2652, 1037, 2034, 2711, 13108, 1999, 1996, 2067, 2096, 2057, 3298, 2105, 1012, 1045, 2215, 2000, 2156, 1996, 2298, 2006, 1012, 1012, 1012, 1064, 1064, 1064, 2041, 1997, 2035, 1997, 2068, 1996, 2600, 3259, 2028, 2003, 1996, 2190, 1012, 2009, 3084, 2033, 8840, 2140, 1012, 2017, 4364, 2024, 5341, 1024, 1040, 1045, 1005, 1049, 2428, 2152, 2039, 2006, 1996, 10722, 14905, 20974, 2291, 1012, 1064, 1064, 1064, 2061, 2106, 2017, 2963, 2055, 2008, 2047, 2034, 2711, 13108, 2208, 1029, 1045, 1005, 2310, 2042, 14934, 1996, 3109, 2041, 1997, 1996, 6050, 2006, 2026, 8285, 2614, 3941, 2008, 2097, 6073, 1996, 17223, 1012, 2057, 3266, 2000, 2404, 1037, 3232, 8827, 2509, 1005, 1055, 1999, 1012, 1012, 1012, 1064, 1064, 1064, 2053, 1025, 1996, 2126, 2002, 4198, 2477, 2001, 2200, 11265, 1012, 11265, 29532, 2024, 2074, 2004, 5204, 1997, 2037, 10058, 2004, 7367, 29532, 1012, 2742, 1024, 13218, 7084, 2030, 4754, 4869, 1025, 2119, 4372, 25856, 2015, 1012, 1064, 1064, 1064, 2092, 4918, 1045, 2097, 2022, 1996, 2034, 2000, 6449, 1045, 2079, 2131, 9981, 2066, 2017, 2079, 1012, 1045, 16833, 2009, 2039, 2000, 2026, 1018, 2860, 2509, 2540, 3816, 2007, 2026, 16083, 1021, 2860, 2620, 1012, 1021, 2015, 1998, 1022, 2015, 2119, 2066, 2000, 2022, 4384, 1012, 1018, 1005, 1055, 2066, 2000, 2022, 2124, 1006, 2025, 1996, 2168, 1012, 1012, 1012, 1064, 1064, 1064, 1025, 1040, 1045, 1005, 2222, 2039, 11066, 1996, 2168, 12528, 2007, 1996, 23025, 2185, 2013, 2026, 2677, 1012, 2084, 2017, 2180, 1005, 1056, 2963, 2505, 1012, 14104, 12025, 2806, 2021, 2007, 11867, 20051, 3334, 1012, 1064, 1064, 1064, 14841, 2243, 2000, 2243, 2003, 1037, 2428, 2307, 2299, 1012, 2004, 2146, 2004, 2017, 2064, 5177, 3796, 2041, 1996, 3220, 1012, 1045, 2293, 1996, 3786, 2009, 3084, 2033, 17523, 1012, 1064, 1064, 1064, 4530, 1012, 22834, 1058, 2487, 26760, 3600, 2692, 1024, 1040, 23025, 2428, 2485, 2000, 2026, 2677, 1998, 15488, 23212, 2078, 20232, 1024, 18364, 3608, 2652, 1999, 1996, 4281, 1012, 1064, 1064, 1064, 27084, 19210, 1027, 1013, 1027, 4654, 13181, 16874, 1025, 1045, 1005, 1049, 2019, 4654, 13181, 16874, 1998, 1045, 1005, 1049, 2025, 27084, 19210, 1012, 1024, 1007, 1064, 1064, 1064, 20052, 1999, 1996, 3185, 2001, 2019, 4372, 25856, 1012, 5373, 2002, 1005, 1055, 2209, 2004, 1037, 4654, 2102, 3501, 1012, 1999, 1996, 2808, 2002, 1005, 1055, 2019, 9765, 3501, 1012, 2004, 1045, 2056, 1012, 1996, 3185, 2246, 2204, 3272, 2005, 2009, 2108, 2170, 20052, 9106, 1012, 1064, 1064, 1064, 8299, 1024, 1013, 1013, 1045, 2620, 16576, 1012, 6302, 24204, 3388, 1012, 4012, 1013, 4042, 1013, 1062, 2480, 2683, 2575, 1013, 27829, 3695, 2080, 1013, 6530, 10105, 2818, 1012, 1052, 3070, 1064, 1064, 1064, 2821, 1010, 1045, 2196, 2018, 3571, 1997, 7618, 1037, 3124, 1012, 1045, 2097, 3610, 2019, 4111, 2205, 1012, 2061, 2045, 2001, 2498, 2000, 25887, 1012, 2074, 3167, 5510, 1998, 2033, 2025, 16663, 2009, 1012, 1996, 3124, 1045, 4782, 2134, 1005, 1056, 2113, 2033, 1012, 2009, 2001, 2028, 1997, 2216, 1012, 1012, 1012, 1064, 1064, 1064, 4165, 3492, 2172, 2066, 2026, 2181, 1998, 2054, 1045, 1005, 1049, 2183, 2083, 2157, 2085, 2667, 2000, 3275, 2041, 2029, 2126, 1045, 2215, 2000, 2202, 2026, 2166, 1012, 1045, 2215, 2000, 2079, 2061, 2116, 2477, 1012, 1996, 5221, 3291, 2003, 2008, 1045, 2113, 2065, 1045, 2123, 1005, 1056, 1012, 1012, 1012, 1064, 1064, 1064, 1025, 1040, 1045, 2001, 4082, 2104, 1996, 8605, 2008, 2017, 2020, 2931, 1012, 1045, 2196, 2246, 2012, 2115, 3482, 2100, 1012, 3100, 1010, 1045, 2393, 2041, 2026, 5637, 2814, 2035, 1996, 2051, 1998, 2028, 1997, 2068, 2038, 2764, 1037, 2210, 10188, 2006, 2033, 1012, 1045, 2131, 2417, 1012, 1012, 1012, 1064, 1064, 1064, 1056, 1035, 1056, 2017, 2074, 2649, 2033, 1998, 1045, 1005, 1049, 2542, 1996, 5409, 10103, 1012, 1045, 1005, 1049, 7567, 1999, 2028, 2173, 2007, 2028, 2028, 2105, 1012, 2069, 10634, 5249, 1012, 2065, 1045, 2001, 1037, 7642, 6359, 2023, 2052, 2022, 1996, 3819, 2173, 2021, 13718, 1045, 1005, 1049, 1012, 1012, 1012, 1064, 1064, 1064, 26419, 2232, 1010, 1998, 25352, 1010, 4165, 2066, 1037, 25843, 1999, 22540, 1012, 1045, 2228, 2672, 2002, 2001, 3480, 1998, 2357, 9765, 3501, 1012, 1045, 2064, 2425, 2138, 2002, 2038, 2070, 1997, 1996, 5171, 1999, 22540, 12955, 2187, 2058, 1012, 1064, 1064, 1064, 1008, 14148, 2862, 1008, 1045, 1005, 1049, 3374, 1012, 2009, 3849, 2008, 2017, 2031, 2234, 2012, 1037, 2919, 2051, 1012, 2057, 1005, 2310, 2525, 2584, 2256, 20563, 1997, 1999, 2546, 22578, 1012, 2174, 1010, 2108, 2017, 1005, 2128, 2931, 1998, 1045, 2066, 3801, 1045, 2097, 2191, 2017, 1037, 3066, 1012, 1045, 2097, 5926, 2028, 1012, 1012, 1012, 1064, 1064, 1064, 1045, 1005, 1049, 14405, 2361, 1006, 6729, 2646, 1041, 1007, 1012, 1045, 1005, 1049, 3733, 2005, 2119, 4372, 25856, 2015, 1998, 20014, 4523, 2000, 6709, 2007, 1012, 1024, 1007, 1064, 1064, 1064, 1045, 2036, 5674, 4372, 25856, 1005, 1055, 16871, 2015, 2052, 2175, 1037, 2210, 2978, 2066, 2990, 1005, 1055, 2013, 2484, 3272, 2062, 6228, 1012, 19838, 4726, 2039, 5213, 3949, 3941, 1999, 2019, 4704, 2311, 2041, 1997, 2019, 2214, 2482, 7151, 3723, 1010, 21097, 1012, 1012, 1012, 1064, 1064, 1064, 2009, 2001, 1037, 19394, 1024, 1007, 3404, 2033, 1012, 1045, 1005, 1049, 2074, 2004, 18224, 25940, 1024, 1040, 3272, 1045, 2031, 7861, 20214, 5644, 1012, 2027, 1005, 2128, 2074, 6881, 3924, 1012, 2066, 5870, 2043, 1045, 2131, 3480, 2030, 2012, 2111, 2770, 3209, 2058, 2007, 2037, 10168, 9587, 13777, 1012, 1012, 1012, 1064, 1064, 1064, 8299, 1024, 1013, 1013, 1045, 2620, 16576, 1012, 6302, 24204, 3388, 1012, 4012, 1013, 4042, 1013, 1062, 2480, 2683, 2575, 1013, 27829, 3695, 2080, 1013, 8505, 19718, 1012, 1052, 3070, 11039, 25856, 1024, 1013, 1013, 1045, 2620, 16576, 1012, 6302, 24204, 3388, 1012, 4012, 1013, 4042, 1013, 1062, 2480, 2683, 2575, 1013, 27829, 3695, 2080, 1013, 8505, 19718, 2497, 2860, 1012, 1052, 3070, 8299, 1024, 1013, 1013, 1045, 2620, 16576, 1012, 6302, 24204, 3388, 1012, 4012, 1013, 4042, 1013, 1062, 2480, 2683, 2575, 1013, 27829, 3695, 2080, 1013, 14448, 19718, 1012, 1052, 3070, 1064, 1064, 1064, 2053, 1012, 2009, 1005, 1055, 2066, 1037, 4323, 2005, 2073, 1045, 2444, 1998, 2008, 2003, 2339, 1045, 2113, 2009, 2011, 2540, 1012, 8299, 1024, 1013, 1013, 7479, 1012, 7858, 1012, 4012, 1013, 3422, 1029, 1058, 1027, 1046, 2629, 2860, 2581, 2509, 3270, 2615, 4160, 2497, 2290, 1064, 1064, 1064, 1998, 1045, 5156, 2123, 1005, 1056, 2681, 2127, 1996, 2518, 4515, 1012, 2021, 1999, 1996, 2812, 2051, 1012, 1999, 2090, 2335, 1012, 2017, 2147, 2115, 2518, 1012, 1045, 1005, 2222, 2147, 3067, 1024, 1040, 1025, 1040, 1045, 1005, 1049, 1996, 16914, 2361, 1025, 5165, 2000, 3113, 2017, 1012, 1064, 1064, 1064, 4365, 1010, 2342, 2000, 3404, 2026, 16160, 2062, 1045, 2052, 2031, 2042, 3553, 1045, 2001, 2183, 2000, 2360, 1999, 22540, 1012, 1064, 1064, 1064, 4654, 22540, 1029, 6729, 2646, 1055, 2007, 1996, 2126, 2016, 5838, 1012, 1024, 1040, 2026, 2814, 1010, 2130, 2026, 5637, 1998, 11690, 3924, 1010, 2467, 2272, 2000, 2033, 2005, 6040, 1012, 1064, 1064, 1064, 1045, 6812, 2000, 2026, 4372, 25856, 5972, 4372, 25856, 2015, 2024, 2061, 2307, 1012, 2065, 2009, 2347, 1005, 1056, 2005, 4372, 25856, 2015, 1045, 2876, 1005, 1056, 2031, 2042, 2583, 2000, 3857, 2054, 1045, 1005, 1049, 2311, 9457, 9457, 9457, 13305, 1064, 1064, 1064, 2054, 1029, 2033, 1029, 1045, 2196, 2079, 2008, 1028, 1012, 1028, 1026, 1012, 1026, 1064, 1064, 1064, 2138, 2049, 2524, 2000, 2022, 6517, 2055, 3974, 2619, 2017, 2066, 2043, 2017, 2354, 2017, 2020, 2157, 1998, 2507, 4426, 1037, 2502, 6986, 2006, 1996, 2067, 2138, 2017, 1005, 2128, 12476, 1998, 2467, 6149, 1012, 1064, 1064, 1064, 2821, 1010, 2017, 2123, 1005, 1056, 2031, 2000, 2425, 2033, 2008, 2087, 1997, 2068, 2024, 5236, 1012, 1045, 2113, 2023, 1012, 2008, 2003, 2339, 1045, 2377, 2007, 2068, 1998, 2009, 3084, 2033, 4756, 1012, 1024, 1040, 2004, 1045, 1005, 1049, 2183, 2000, 2202, 11265, 10976, 18075, 9905, 6483, 1998, 1045, 2031, 1037, 2261, 15034, 1012, 1012, 1012, 1064, 1064, 1064, 1024, 1040, 1045, 1005, 1049, 1037, 2305, 5004, 2140, 1012, 1045, 5256, 2039, 2090, 1020, 1011, 1021, 9737, 1998, 2994, 8300, 6229, 2184, 1011, 2340, 1024, 2382, 3286, 1012, 1064, 1064, 1064, 3167, 5448, 6153, 2011, 3399, 2052, 6592, 2008, 20014, 4523, 2024, 1996, 2087, 14286, 3697, 1012, 2096, 20014, 22578, 2064, 2022, 14286, 24436, 2021, 2027, 2097, 2036, 2224, 2591, 8146, 2065, 1996, 1996, 2342, 18653, 1012, 1012, 1012, 1012, 1064, 1064, 1064, 3167, 15768, 2008, 1045, 2031, 2006, 2026, 15363, 2008, 1045, 1005, 2310, 22817, 2013, 6721, 4518, 4573, 1998, 4518, 6302, 24204, 8454, 1012, 1064, 1064, 1064, 1045, 1005, 2222, 2425, 2017, 2043, 1045, 2330, 7760, 18471, 1012, 1024, 1007, 5580, 2017, 2066, 2009, 10763, 1012, 1064, 1064, 1064, 1024, 1040, 4283, 1012, 1064, 1064, 1064, 8299, 1024, 1013, 1013, 1045, 2620, 16576, 1012, 6302, 24204, 3388, 1012, 4012, 1013, 4042, 1013, 1062, 2480, 2683, 2575, 1013, 27829, 3695, 2080, 1013, 2331, 16523, 11514, 1012, 1052, 3070, 8299, 1024, 1013, 1013, 1045, 2620, 16576, 1012, 6302, 24204, 3388, 1012, 4012, 1013, 4042, 1013, 1062, 2480, 2683, 2575, 1013, 27829, 3695, 2080, 1013, 2331, 16523, 11514, 2497, 2860, 1012, 1052, 3070, 2081, 2005, 1037, 2767, 1012, 2195, 2847, 1997, 2147, 1012, 1045, 3833, 2296, 2240, 2011, 1012, 1012, 1012, 1064, 1064, 1064, 1024, 1007, 10763, 1024, 8299, 1024, 1013, 1013, 1045, 2620, 16576, 1012, 6302, 24204, 3388, 1012, 4012, 1013, 4042, 1013, 1062, 2480, 2683, 2575, 1013, 27829, 3695, 2080, 1013, 10763, 23615, 6528, 1012, 1052, 3070, 1045, 1005, 2222, 2031, 2000, 2131, 2000, 2115, 22128, 2101, 2065, 2028, 1997, 2026, 3507, 13220, 2987, 1005, 1056, 1012, 1064, 1064, 1064, 15034, 2123, 1005, 1056, 2562, 2033, 2105, 2146, 2438, 2000, 11616, 2033, 1012, 1045, 2066, 2000, 9121, 2007, 2068, 1012, 2054, 1045, 2031, 11616, 2870, 2007, 1998, 2018, 1037, 2261, 15034, 2814, 1006, 1009, 1037, 2261, 2060, 2814, 1007, 2425, 2033, 1045, 2031, 2003, 1012, 1012, 1012, 1005, 102]\n",
      "\n",
      "3. list[2]\n",
      "   - Type: list\n",
      "   - Length: 2102\n",
      "   - Value: [101, 1005, 2204, 2028, 1035, 1035, 1035, 1035, 1035, 16770, 1024, 1013, 1013, 7479, 1012, 7858, 1012, 4012, 1013, 3422, 1029, 1058, 1027, 1042, 4048, 18259, 28027, 2546, 2290, 2860, 1064, 1064, 1064, 1997, 2607, 1010, 2000, 2029, 1045, 2360, 1045, 2113, 1025, 2008, 1005, 1055, 2026, 13301, 1998, 2026, 8364, 1012, 1064, 1064, 1064, 2515, 2108, 7078, 3893, 2008, 2017, 1998, 2115, 2190, 2767, 2071, 2022, 2019, 6429, 3232, 4175, 1029, 2065, 2061, 1010, 2084, 2748, 1012, 2030, 2009, 1005, 1055, 2062, 1045, 2071, 2022, 29179, 1999, 2293, 1999, 2553, 1045, 28348, 2026, 5346, 1006, 2029, 2012, 1012, 1012, 1012, 1064, 1064, 1064, 2053, 1010, 1045, 2134, 1005, 1056, 1025, 4067, 2017, 2005, 1037, 4957, 999, 1064, 1064, 1064, 2061, 1011, 2170, 14841, 1011, 9033, 7077, 1006, 1998, 2009, 2064, 7872, 2013, 2151, 2783, 8476, 1013, 17418, 1007, 2064, 2022, 9252, 1012, 2009, 1005, 1055, 2066, 2043, 2017, 1005, 2128, 5881, 1999, 2115, 2219, 4301, 1010, 1998, 2115, 2568, 2074, 17677, 2015, 1999, 7925, 1012, 5683, 5621, 6659, 1012, 1012, 1012, 1012, 1064, 1064, 1064, 2031, 2017, 4384, 2129, 14099, 10072, 2064, 2022, 1029, 2035, 2017, 2031, 2000, 2079, 2003, 2298, 2091, 2012, 1996, 5568, 1024, 9877, 1997, 2367, 3269, 2427, 2045, 1012, 1998, 2085, 5674, 2008, 5606, 1997, 2086, 2101, 1006, 2043, 1013, 2065, 5800, 1012, 1012, 1012, 1064, 1064, 1064, 1996, 3044, 2015, 1516, 2196, 2018, 2053, 2028, 2412, 1064, 1064, 1064, 1045, 2411, 2424, 2870, 27963, 5344, 2006, 7720, 13262, 1013, 3536, 1012, 1064, 1064, 1064, 2023, 1019, 2095, 1011, 2214, 6251, 2003, 2019, 11757, 8321, 1998, 3376, 6412, 1012, 1064, 1064, 1064, 1045, 4033, 1005, 1056, 4716, 2023, 4037, 1999, 1996, 2197, 1017, 2086, 1012, 2061, 9444, 9631, 2023, 1006, 1998, 2672, 2130, 17749, 2033, 1010, 2029, 1045, 3811, 4797, 1007, 1024, 7632, 1012, 6352, 2692, 26224, 6352, 2692, 28311, 1064, 1064, 1064, 2043, 2017, 4133, 1999, 2115, 3871, 2127, 2184, 1024, 2382, 7610, 3015, 2774, 1010, 1998, 6170, 2068, 1006, 2362, 2007, 9877, 1997, 4533, 2015, 1007, 2096, 2652, 2115, 6490, 2858, 1012, 1064, 1064, 1064, 2023, 2003, 1996, 2087, 20014, 2361, 1011, 2003, 2232, 11689, 1045, 1005, 2310, 2412, 2464, 1012, 1064, 1064, 1064, 1045, 2876, 1005, 1056, 2022, 2583, 2000, 2298, 2012, 1996, 4169, 2005, 1996, 2972, 2166, 2065, 1045, 2354, 2008, 1045, 3856, 2009, 2058, 1996, 2529, 2108, 1012, 1064, 1064, 1064, 1045, 2001, 5059, 1037, 4281, 2005, 2026, 7284, 2006, 2029, 1045, 1005, 1049, 2551, 2157, 2085, 1011, 2009, 2323, 2031, 2042, 7733, 1012, 1012, 2021, 1045, 2371, 27885, 14715, 3064, 2000, 2191, 2928, 28194, 5420, 2595, 2683, 2475, 2015, 2695, 11522, 2013, 2009, 1024, 1040, 2065, 2017, 3191, 1996, 2338, 1012, 1012, 1012, 1064, 1064, 1064, 1045, 2318, 2000, 2191, 5888, 2055, 13170, 5146, 1998, 21830, 9610, 7834, 1011, 2182, 2017, 2064, 2156, 2048, 2034, 3441, 1024, 16770, 1024, 1013, 1013, 7479, 1012, 10722, 14905, 20974, 1012, 4012, 1013, 9927, 1013, 1011, 4074, 20348, 29159, 1011, 1064, 1064, 1064, 20014, 3501, 3728, 1045, 2318, 2000, 2695, 2026, 5888, 2055, 2048, 2814, 1011, 13170, 5146, 1998, 21830, 9610, 7834, 1012, 2077, 2008, 1010, 1045, 2074, 6866, 4933, 2008, 4699, 2033, 1010, 2021, 2013, 2085, 2006, 1045, 1005, 2222, 3046, 2000, 2421, 2069, 2026, 2573, 1012, 1012, 1012, 1064, 1064, 1064, 2763, 2057, 2071, 2147, 2362, 2006, 1037, 2047, 2944, 1011, 1045, 1005, 1049, 2019, 6739, 1999, 18772, 18217, 1997, 7239, 2588, 2536, 6881, 4933, 1012, 2008, 6433, 2138, 1997, 14099, 3168, 1997, 8562, 1011, 2061, 14099, 2008, 2025, 2172, 1012, 1012, 1012, 1064, 1064, 1064, 7592, 9541, 20976, 1010, 2017, 2064, 3543, 2009, 1012, 3071, 6732, 2008, 2009, 1005, 1055, 6015, 2030, 6517, 1010, 2021, 2008, 1005, 1055, 2025, 2995, 1011, 1999, 2755, 2009, 2038, 2019, 7078, 8699, 2227, 1012, 1998, 2023, 18401, 2941, 2428, 7777, 26085, 1998, 24459, 1006, 2069, 1012, 1012, 1012, 1064, 1064, 1064, 2092, 1012, 1012, 2785, 1997, 1025, 2004, 2009, 2001, 2525, 3855, 1010, 2823, 2138, 1997, 9152, 2009, 1005, 1055, 2524, 2000, 16636, 3375, 4933, 2029, 16949, 2039, 1999, 2115, 2132, 1999, 1059, 14341, 19570, 2389, 22754, 1997, 10466, 1998, 4620, 2069, 2007, 2616, 1012, 1012, 1012, 1012, 1064, 1064, 1064, 1045, 2228, 2023, 18401, 2052, 2022, 2200, 6413, 2182, 1012, 4261, 26187, 2575, 2475, 1064, 1064, 1064, 4029, 19841, 22022, 1064, 1064, 1064, 2204, 2305, 3071, 2041, 2045, 999, 2130, 2065, 2005, 2619, 2045, 2003, 2851, 2157, 2085, 1011, 6385, 2467, 3565, 6924, 2063, 16956, 1012, 1012, 1998, 2111, 2360, 2204, 2305, 1999, 2344, 2000, 3113, 2279, 2154, 1024, 1007, 1064, 1064, 1064, 2821, 1010, 2008, 3185, 1024, 1007, 2009, 1005, 1055, 12476, 4067, 2017, 999, 3246, 2017, 2018, 2204, 3637, 1999, 1996, 2250, 1025, 4312, 1010, 1045, 1005, 1049, 10261, 2017, 2204, 2305, 2005, 1996, 2279, 2305, 3805, 999, 1006, 11504, 2009, 2097, 2022, 2006, 2455, 1007, 2204, 2111, 10107, 2204, 1012, 1012, 1012, 1064, 1064, 1064, 3486, 2620, 2620, 2620, 2475, 3486, 2620, 2620, 21057, 1064, 1064, 1064, 2092, 1010, 2060, 2111, 2040, 2089, 2022, 6603, 2055, 2019, 3277, 2013, 1996, 2171, 1997, 1996, 8476, 2097, 2424, 2115, 3433, 14044, 4312, 1024, 1007, 1064, 1064, 1064, 2023, 1012, 2633, 2619, 3855, 2008, 1024, 1007, 1064, 1064, 1064, 1045, 2145, 2156, 7329, 1013, 5344, 1999, 1037, 15079, 1997, 2536, 6721, 7060, 1012, 2009, 2064, 2022, 19142, 2823, 1012, 2009, 1005, 1055, 1037, 2200, 18801, 8066, 2043, 2017, 1005, 2128, 11471, 1012, 1064, 1064, 1064, 2821, 1010, 1045, 2134, 1005, 1056, 2113, 2008, 1012, 1012, 2054, 1037, 12063, 1012, 2339, 2025, 8688, 2878, 17006, 1010, 2059, 1029, 2057, 2064, 5630, 2029, 24547, 22345, 2097, 2022, 1996, 2190, 1006, 1045, 2228, 1996, 5221, 2028, 2052, 2022, 2307, 1007, 1012, 1064, 1064, 1064, 12316, 27659, 2182, 2017, 2175, 26231, 8889, 2475, 2002, 6732, 2008, 1996, 2543, 2003, 12090, 1012, 2323, 1045, 8688, 2000, 11263, 1029, 1045, 2123, 1005, 1056, 2066, 2000, 5949, 2833, 1012, 1064, 1064, 1064, 1045, 2123, 1005, 1056, 2228, 2008, 1996, 8543, 1997, 2023, 11689, 14977, 2054, 1005, 1055, 2183, 2006, 2182, 2044, 1017, 2086, 1024, 1007, 1064, 1064, 1064, 2002, 2232, 1010, 1045, 3305, 2017, 1024, 1007, 2007, 2122, 2168, 2445, 4155, 1007, 1007, 1007, 1064, 1064, 1064, 2748, 4757, 2015, 1010, 6172, 2051, 1024, 1040, 1064, 1064, 1064, 1045, 2131, 4854, 3243, 6524, 1010, 2021, 2043, 1045, 2079, 1010, 2009, 1005, 1055, 13726, 2005, 4193, 2111, 2000, 2175, 4873, 2842, 1012, 2009, 1005, 1055, 5263, 2005, 2033, 2000, 5342, 2030, 16081, 4963, 1025, 1996, 2069, 2126, 2000, 2131, 9436, 1997, 2023, 3110, 2003, 2000, 6532, 1012, 1012, 1012, 1064, 1064, 1064, 1045, 1005, 2310, 2196, 4669, 2009, 2505, 8275, 2003, 2919, 1010, 2941, 1012, 1064, 1064, 1064, 24459, 2323, 2022, 2445, 2069, 2000, 4217, 3924, 1012, 4217, 1012, 2045, 2024, 3243, 2261, 1997, 2068, 1010, 2295, 1012, 1064, 1064, 1064, 4090, 2683, 2620, 21057, 1064, 1064, 1064, 9805, 2361, 1010, 2017, 1005, 2128, 2725, 2009, 2157, 1024, 1007, 1064, 1064, 1064, 8299, 1024, 1013, 1013, 1011, 4074, 20348, 29159, 1011, 1012, 10722, 14905, 20974, 1012, 4012, 1013, 1064, 1064, 1064, 17273, 2620, 15136, 1064, 1064, 1064, 1997, 2607, 2009, 1005, 1055, 2025, 2200, 6625, 1012, 2021, 1012, 2529, 2679, 5175, 16047, 2308, 1005, 1055, 3754, 2000, 2507, 4182, 2000, 2060, 2529, 9552, 1012, 2009, 2499, 2005, 5190, 1997, 2086, 1012, 2339, 2689, 2009, 1029, 4661, 1010, 2045, 2024, 1012, 1012, 1012, 1064, 1064, 1064, 2008, 6433, 1012, 1998, 2009, 5158, 2138, 2087, 2411, 2111, 2224, 3463, 1997, 5186, 10480, 1998, 9603, 3784, 5852, 2004, 1037, 3978, 1997, 12515, 2028, 1005, 1055, 2828, 1012, 2119, 5107, 1998, 2653, 2840, 1006, 2062, 1012, 1012, 1012, 1064, 1064, 1064, 22376, 22025, 2575, 1064, 1064, 1064, 1045, 2817, 8425, 2640, 2085, 1010, 2029, 1045, 2428, 5959, 1012, 2054, 2003, 5875, 2055, 2023, 2492, 1010, 2003, 2008, 1996, 3754, 2000, 9699, 4784, 1998, 9611, 3471, 2003, 2172, 2062, 2590, 2084, 6664, 1997, 1037, 3563, 1012, 1012, 1012, 1064, 1064, 1064, 4074, 20348, 29159, 2683, 2581, 1011, 14386, 26802, 5339, 1064, 1064, 1064, 23593, 2683, 2683, 2549, 1064, 1064, 1064, 8299, 1024, 1013, 1013, 7479, 1012, 7858, 1012, 4012, 1013, 3422, 1029, 1058, 1027, 1016, 8950, 2278, 2078, 2620, 2213, 2683, 2213, 2692, 2213, 1064, 1064, 1064, 1045, 2572, 2467, 3201, 2000, 9009, 1006, 2000, 20014, 27605, 13701, 1010, 2000, 2022, 10480, 1007, 2026, 22941, 1005, 1055, 25042, 1012, 1064, 1064, 1064, 2088, 17882, 1029, 5008, 2111, 1999, 1996, 2132, 1029, 2339, 1029, 2821, 1010, 2157, 1010, 20014, 22578, 2467, 2442, 2022, 17253, 2069, 2007, 2122, 2616, 1012, 1045, 2215, 2000, 2265, 2061, 6649, 2026, 4668, 2000, 2023, 1024, 19594, 19317, 2575, 1064, 1064, 1064, 20741, 10790, 2575, 1064, 1064, 1064, 21541, 2361, 1029, 8299, 1024, 1013, 1013, 7479, 1012, 7858, 1012, 4012, 1013, 3422, 1029, 1058, 1027, 1021, 5603, 4160, 6977, 2595, 2863, 5657, 1005, 102, 0, 0, 0, 0, 0, 0, 0, 0, 0, 0, 0, 0, 0, 0, 0, 0, 0, 0, 0, 0, 0, 0, 0, 0, 0, 0, 0, 0, 0, 0, 0, 0, 0, 0, 0, 0, 0, 0, 0, 0, 0, 0, 0, 0, 0, 0, 0, 0, 0, 0, 0, 0, 0, 0, 0, 0, 0, 0, 0, 0, 0, 0, 0, 0, 0, 0, 0, 0, 0, 0, 0, 0, 0, 0, 0, 0, 0, 0, 0, 0, 0, 0, 0, 0, 0, 0, 0, 0, 0, 0, 0, 0, 0, 0, 0, 0, 0, 0, 0, 0, 0, 0, 0, 0, 0, 0, 0, 0, 0, 0, 0, 0, 0, 0, 0, 0, 0, 0, 0, 0, 0, 0, 0, 0, 0, 0, 0, 0, 0, 0, 0, 0, 0, 0, 0, 0, 0, 0, 0, 0, 0, 0, 0, 0, 0, 0, 0, 0, 0, 0, 0, 0, 0, 0, 0, 0, 0, 0, 0, 0, 0, 0, 0, 0, 0, 0, 0, 0, 0, 0, 0, 0, 0, 0, 0, 0, 0, 0, 0, 0, 0, 0, 0, 0, 0, 0, 0, 0, 0, 0, 0, 0, 0, 0, 0, 0, 0, 0, 0, 0, 0, 0, 0, 0, 0, 0, 0, 0, 0, 0, 0, 0, 0, 0, 0, 0, 0, 0, 0, 0, 0, 0, 0, 0, 0, 0, 0, 0, 0, 0, 0, 0, 0, 0, 0, 0, 0, 0, 0, 0, 0, 0, 0, 0, 0, 0, 0, 0, 0, 0, 0, 0, 0, 0, 0, 0, 0, 0, 0, 0, 0, 0, 0, 0, 0, 0, 0, 0, 0, 0, 0, 0, 0, 0, 0, 0, 0, 0, 0, 0, 0, 0, 0, 0, 0, 0, 0, 0, 0, 0, 0, 0, 0, 0, 0, 0, 0, 0, 0, 0, 0, 0, 0, 0, 0, 0, 0, 0, 0, 0, 0, 0, 0, 0, 0, 0, 0, 0, 0, 0, 0, 0, 0, 0, 0, 0, 0, 0, 0, 0, 0, 0, 0, 0, 0, 0, 0, 0, 0, 0, 0, 0, 0, 0, 0, 0, 0, 0, 0, 0, 0, 0, 0, 0, 0, 0, 0, 0, 0, 0, 0, 0, 0, 0, 0, 0, 0, 0, 0, 0, 0, 0, 0, 0, 0, 0, 0, 0, 0, 0, 0, 0, 0, 0, 0, 0, 0, 0, 0, 0, 0, 0, 0, 0, 0, 0, 0, 0, 0, 0, 0, 0, 0, 0, 0, 0, 0, 0, 0, 0, 0, 0, 0, 0, 0, 0, 0, 0, 0, 0, 0, 0, 0, 0, 0, 0, 0, 0, 0, 0, 0, 0, 0, 0, 0, 0, 0, 0, 0, 0, 0, 0, 0, 0, 0, 0, 0, 0, 0, 0, 0, 0, 0, 0, 0, 0, 0, 0, 0, 0, 0, 0, 0, 0, 0, 0, 0, 0, 0, 0, 0, 0, 0, 0, 0, 0, 0, 0, 0, 0, 0, 0, 0, 0, 0, 0, 0, 0, 0, 0, 0, 0, 0, 0, 0, 0, 0, 0, 0, 0, 0, 0, 0, 0, 0, 0, 0, 0, 0, 0, 0, 0, 0, 0, 0, 0, 0, 0, 0, 0, 0, 0, 0, 0, 0, 0, 0, 0, 0, 0, 0, 0, 0, 0, 0, 0, 0, 0, 0, 0, 0, 0, 0, 0, 0, 0, 0, 0, 0, 0, 0, 0, 0, 0, 0, 0, 0, 0, 0, 0, 0, 0, 0, 0, 0, 0, 0, 0, 0, 0, 0, 0, 0, 0, 0, 0, 0, 0, 0, 0, 0, 0, 0, 0, 0, 0, 0, 0, 0, 0, 0, 0, 0, 0, 0, 0, 0, 0, 0, 0, 0, 0, 0, 0, 0, 0, 0, 0, 0, 0, 0, 0, 0, 0, 0, 0, 0, 0, 0, 0, 0, 0, 0, 0, 0, 0, 0, 0, 0, 0, 0, 0, 0, 0, 0, 0, 0, 0, 0, 0, 0, 0, 0, 0, 0, 0, 0, 0, 0, 0, 0]\n"
     ]
    }
   ],
   "source": [
    "mp.show_list(\n",
    "    tokenizer(d['posts'],padding=True)['input_ids']\n",
    ")"
   ]
  },
  {
   "cell_type": "code",
   "execution_count": 47,
   "metadata": {},
   "outputs": [
    {
     "name": "stdout",
     "output_type": "stream",
     "text": [
      "List Overview:\n",
      "Total items: 3\n",
      "\n",
      "1. list[0]\n",
      "   - Type: list\n",
      "   - Length: 512\n",
      "   - Value: [101, 1005, 8299, 1024, 1013, 1013, 7479, 1012, 7858, 1012, 4012, 1013, 3422, 1029, 1058, 1027, 1053, 2015, 2595, 16257, 8545, 2509, 21638, 2860, 1064, 1064, 1064, 8299, 1024, 1013, 1013, 4601, 1012, 2865, 1012, 10722, 14905, 20974, 1012, 4012, 1013, 10722, 14905, 20974, 1035, 1048, 14876, 26230, 2692, 2509, 9737, 27717, 19062, 2487, 3217, 9541, 2487, 1035, 3156, 1012, 16545, 2290, 1064, 1064, 1064, 4372, 22540, 1998, 20014, 3501, 5312, 16770, 1024, 1013, 1013, 7479, 1012, 7858, 1012, 4012, 1013, 3422, 1029, 1058, 1027, 1045, 2480, 2581, 2571, 2487, 2290, 2549, 2595, 2213, 2549, 2998, 13013, 2121, 2025, 2327, 2702, 3248, 16770, 1024, 1013, 1013, 7479, 1012, 7858, 1012, 4012, 1013, 3422, 1029, 1058, 1027, 15384, 20952, 4371, 2487, 12870, 2278, 26418, 2015, 1064, 1064, 1064, 2054, 2038, 2042, 1996, 2087, 2166, 1011, 5278, 3325, 1999, 2115, 2166, 1029, 1064, 1064, 1064, 8299, 1024, 1013, 1013, 7479, 1012, 7858, 1012, 4012, 1013, 3422, 1029, 1058, 1027, 1058, 2595, 4371, 2100, 2860, 13088, 2094, 2860, 2620, 8299, 1024, 1013, 1013, 7479, 1012, 7858, 1012, 4012, 1013, 3422, 1029, 1058, 1027, 1057, 2620, 20518, 3286, 2629, 18927, 2509, 2063, 2006, 9377, 2005, 2087, 1997, 2651, 1012, 1064, 1064, 1064, 2089, 1996, 2566, 2278, 3325, 10047, 16862, 2063, 2017, 1012, 1064, 1064, 1064, 1996, 2197, 2518, 2026, 1999, 2546, 3501, 2767, 6866, 2006, 2010, 9130, 2077, 16873, 5920, 1996, 2279, 2154, 1012, 2717, 1999, 3521, 1066, 8299, 1024, 1013, 1013, 6819, 26247, 1012, 4012, 1013, 22238, 20958, 11387, 2575, 1064, 1064, 1064, 7592, 4372, 2546, 3501, 2581, 1012, 3374, 2000, 2963, 1997, 2115, 12893, 1012, 2009, 1005, 1055, 2069, 3019, 2005, 1037, 3276, 2000, 2025, 2022, 15401, 2035, 1996, 2051, 1999, 2296, 2617, 1997, 4598, 1012, 3046, 2000, 3275, 1996, 2524, 2335, 2004, 2335, 1997, 3930, 1010, 2004, 1012, 1012, 1012, 1064, 1064, 1064, 6391, 22025, 2683, 6391, 23499, 2692, 8299, 1024, 1013, 1013, 2813, 23298, 15194, 3258, 1012, 4012, 1013, 2039, 11066, 1013, 23297, 8889, 1013, 6860, 1011, 2879, 1011, 1998, 1011, 2611, 1011, 2813, 23298, 1012, 16545, 2290, 8299, 1024, 1013, 1013, 7045, 1012, 2079, 19139, 2497, 1012, 4012, 1013, 1059, 2361, 1011, 4180, 1013, 2039, 11066, 2015, 1013, 2230, 1013, 5840, 1013, 2461, 1011, 2188, 1011, 2640, 1012, 16545, 2290, 1012, 1012, 1012, 1064, 1064, 1064, 6160, 1998, 4933, 1012, 1064, 1064, 1064, 8299, 1024, 1013, 1013, 2447, 7971, 10127, 1012, 4012, 1013, 1059, 2361, 1011, 4180, 1013, 2039, 11066, 2015, 1013, 2286, 1013, 5511, 1013, 2417, 1011, 2417, 1011, 1996, 1011, 20421, 1011, 3040, 1011, 19652, 16086, 22610, 2549, 1011, 10332, 1011, 27908, 1012, 16545, 2290, 2208, 1012, 2275, 1012, 2674, 1012, 1064, 1064, 1064, 4013, 4143, 2278, 1010, 2092, 19892, 21823, 2078, 1010, 2012, 2560, 4228, 2781, 1997, 3048, 2115, 3456, 1006, 1998, 1045, 2123, 1005, 1056, 2812, 3048, 2068, 2096, 3564, 1999, 2115, 2168, 4624, 3242, 1007, 1010, 17901, 1999, 5549, 8156, 1006, 2672, 3046, 21006, 2015, 2004, 1037, 2740, 3771, 4522, 1012, 1012, 1012, 1064, 1064, 1064, 10468, 2272, 2039, 2007, 2093, 5167, 2017, 1005, 2310, 4340, 2008, 2169, 2828, 1006, 2030, 29221, 4127, 2017, 2215, 102]\n",
      "\n",
      "2. list[1]\n",
      "   - Type: list\n",
      "   - Length: 512\n",
      "   - Value: [101, 1005, 1045, 1005, 1049, 4531, 1996, 3768, 1997, 2033, 1999, 2122, 8466, 2200, 8598, 2075, 1012, 1064, 1064, 1064, 3348, 2064, 2022, 11771, 2065, 2009, 1005, 1055, 1999, 1996, 2168, 2597, 2411, 1012, 2005, 2742, 2033, 1998, 2026, 6513, 2024, 2747, 1999, 2019, 4044, 2073, 2057, 2031, 2000, 5541, 2135, 2224, 11190, 15239, 1998, 8696, 1012, 2045, 3475, 1005, 1056, 2438, 1012, 1012, 1012, 1064, 1064, 1064, 3228, 2047, 3574, 2000, 1005, 2208, 1005, 3399, 1012, 1064, 1064, 1064, 7592, 1008, 4372, 25856, 5861, 1008, 2008, 1005, 1055, 2035, 2009, 3138, 1012, 2084, 2057, 23705, 1998, 2027, 2079, 2087, 1997, 1996, 20661, 2096, 1045, 13399, 2037, 3739, 1998, 2709, 2037, 2616, 2007, 5744, 2773, 13068, 1998, 2062, 5048, 2100, 20237, 1012, 1064, 1064, 1064, 2023, 1009, 3768, 1997, 5703, 1998, 2192, 3239, 12016, 1012, 1064, 1064, 1064, 2613, 26264, 3231, 1045, 3556, 13029, 1012, 4274, 26264, 5852, 2024, 6057, 1012, 1045, 3556, 8574, 2015, 2030, 3020, 1012, 2085, 1010, 2066, 1996, 2280, 10960, 1997, 2023, 11689, 1045, 2097, 5254, 2008, 1045, 2123, 1005, 1056, 2903, 1999, 1996, 26264, 3231, 1012, 2077, 2017, 7221, 4509, 1012, 1012, 1012, 1064, 1064, 1064, 2017, 2113, 2017, 1005, 2128, 2019, 4372, 25856, 2043, 2017, 25887, 2013, 1037, 2609, 2005, 1037, 2095, 1998, 1037, 2431, 1010, 2709, 1010, 1998, 2424, 2111, 2024, 2145, 15591, 2006, 2115, 8466, 1998, 16663, 2115, 4784, 1013, 4301, 1012, 2017, 2113, 2017, 1005, 2128, 2019, 4372, 25856, 2043, 2017, 1012, 1012, 1012, 1064, 1064, 1064, 8299, 1024, 1013, 1013, 10047, 2290, 15136, 2620, 1012, 4871, 3270, 3600, 1012, 2149, 1013, 10047, 2290, 15136, 2620, 1013, 4185, 19317, 1013, 3438, 11387, 2094, 2487, 2546, 2683, 2850, 2575, 2683, 22932, 2050, 2575, 2497, 2581, 2487, 19473, 2575, 1012, 16545, 2290, 1064, 1064, 1064, 8299, 1024, 1013, 1013, 10047, 2290, 1012, 4639, 2094, 16872, 28014, 1012, 4012, 1013, 6282, 2509, 2050, 2692, 2278, 2575, 18827, 22025, 16932, 3540, 2497, 2620, 2549, 2278, 22203, 1064, 1064, 1064, 1045, 2058, 2228, 2477, 2823, 1012, 1045, 2175, 2011, 1996, 2214, 20052, 9106, 14686, 1012, 3383, 1010, 2043, 1037, 2158, 2038, 2569, 3716, 1998, 2569, 4204, 2066, 2026, 2219, 1010, 2009, 2738, 16171, 2032, 2000, 6148, 1037, 3375, 1012, 1012, 1012, 1064, 1064, 1064, 13789, 12155, 10270, 1012, 10722, 14905, 20974, 1012, 4012, 2061, 2003, 1045, 1024, 1040, 1064, 1064, 1064, 4278, 1010, 2199, 1009, 2695, 1064, 1064, 1064, 2025, 2428, 1025, 1045, 1005, 2310, 2196, 2245, 1997, 1041, 1013, 1045, 2030, 1046, 1013, 1052, 2004, 2613, 4972, 1012, 1045, 3648, 2870, 2006, 2054, 1045, 2224, 1012, 1045, 2224, 11265, 1998, 14841, 2004, 2026, 29532, 1012, 10768, 2005, 6699, 1998, 6524, 9033, 1012, 1045, 2036, 2224, 9152, 2349, 2000, 2033, 3997, 1012, 1012, 1012, 1064, 1064, 1064, 2017, 2113, 2295, 1012, 2008, 2001, 13749, 18595, 3560, 1012, 2044, 3038, 2009, 1045, 2428, 2215, 2000, 3046, 2009, 1998, 2156, 2054, 6433, 2007, 2033, 2652, 1037, 2034, 2711, 13108, 1999, 1996, 2067, 2096, 2057, 3298, 2105, 1012, 1045, 2215, 2000, 2156, 1996, 2298, 2006, 1012, 1012, 1012, 1064, 1064, 1064, 2041, 1997, 2035, 1997, 2068, 1996, 2600, 3259, 2028, 102]\n",
      "\n",
      "3. list[2]\n",
      "   - Type: list\n",
      "   - Length: 512\n",
      "   - Value: [101, 1005, 2204, 2028, 1035, 1035, 1035, 1035, 1035, 16770, 1024, 1013, 1013, 7479, 1012, 7858, 1012, 4012, 1013, 3422, 1029, 1058, 1027, 1042, 4048, 18259, 28027, 2546, 2290, 2860, 1064, 1064, 1064, 1997, 2607, 1010, 2000, 2029, 1045, 2360, 1045, 2113, 1025, 2008, 1005, 1055, 2026, 13301, 1998, 2026, 8364, 1012, 1064, 1064, 1064, 2515, 2108, 7078, 3893, 2008, 2017, 1998, 2115, 2190, 2767, 2071, 2022, 2019, 6429, 3232, 4175, 1029, 2065, 2061, 1010, 2084, 2748, 1012, 2030, 2009, 1005, 1055, 2062, 1045, 2071, 2022, 29179, 1999, 2293, 1999, 2553, 1045, 28348, 2026, 5346, 1006, 2029, 2012, 1012, 1012, 1012, 1064, 1064, 1064, 2053, 1010, 1045, 2134, 1005, 1056, 1025, 4067, 2017, 2005, 1037, 4957, 999, 1064, 1064, 1064, 2061, 1011, 2170, 14841, 1011, 9033, 7077, 1006, 1998, 2009, 2064, 7872, 2013, 2151, 2783, 8476, 1013, 17418, 1007, 2064, 2022, 9252, 1012, 2009, 1005, 1055, 2066, 2043, 2017, 1005, 2128, 5881, 1999, 2115, 2219, 4301, 1010, 1998, 2115, 2568, 2074, 17677, 2015, 1999, 7925, 1012, 5683, 5621, 6659, 1012, 1012, 1012, 1012, 1064, 1064, 1064, 2031, 2017, 4384, 2129, 14099, 10072, 2064, 2022, 1029, 2035, 2017, 2031, 2000, 2079, 2003, 2298, 2091, 2012, 1996, 5568, 1024, 9877, 1997, 2367, 3269, 2427, 2045, 1012, 1998, 2085, 5674, 2008, 5606, 1997, 2086, 2101, 1006, 2043, 1013, 2065, 5800, 1012, 1012, 1012, 1064, 1064, 1064, 1996, 3044, 2015, 1516, 2196, 2018, 2053, 2028, 2412, 1064, 1064, 1064, 1045, 2411, 2424, 2870, 27963, 5344, 2006, 7720, 13262, 1013, 3536, 1012, 1064, 1064, 1064, 2023, 1019, 2095, 1011, 2214, 6251, 2003, 2019, 11757, 8321, 1998, 3376, 6412, 1012, 1064, 1064, 1064, 1045, 4033, 1005, 1056, 4716, 2023, 4037, 1999, 1996, 2197, 1017, 2086, 1012, 2061, 9444, 9631, 2023, 1006, 1998, 2672, 2130, 17749, 2033, 1010, 2029, 1045, 3811, 4797, 1007, 1024, 7632, 1012, 6352, 2692, 26224, 6352, 2692, 28311, 1064, 1064, 1064, 2043, 2017, 4133, 1999, 2115, 3871, 2127, 2184, 1024, 2382, 7610, 3015, 2774, 1010, 1998, 6170, 2068, 1006, 2362, 2007, 9877, 1997, 4533, 2015, 1007, 2096, 2652, 2115, 6490, 2858, 1012, 1064, 1064, 1064, 2023, 2003, 1996, 2087, 20014, 2361, 1011, 2003, 2232, 11689, 1045, 1005, 2310, 2412, 2464, 1012, 1064, 1064, 1064, 1045, 2876, 1005, 1056, 2022, 2583, 2000, 2298, 2012, 1996, 4169, 2005, 1996, 2972, 2166, 2065, 1045, 2354, 2008, 1045, 3856, 2009, 2058, 1996, 2529, 2108, 1012, 1064, 1064, 1064, 1045, 2001, 5059, 1037, 4281, 2005, 2026, 7284, 2006, 2029, 1045, 1005, 1049, 2551, 2157, 2085, 1011, 2009, 2323, 2031, 2042, 7733, 1012, 1012, 2021, 1045, 2371, 27885, 14715, 3064, 2000, 2191, 2928, 28194, 5420, 2595, 2683, 2475, 2015, 2695, 11522, 2013, 2009, 1024, 1040, 2065, 2017, 3191, 1996, 2338, 1012, 1012, 1012, 1064, 1064, 1064, 1045, 2318, 2000, 2191, 5888, 2055, 13170, 5146, 1998, 21830, 9610, 7834, 1011, 2182, 2017, 2064, 2156, 2048, 2034, 3441, 1024, 16770, 1024, 1013, 1013, 7479, 1012, 10722, 14905, 20974, 1012, 4012, 1013, 9927, 1013, 1011, 4074, 20348, 29159, 1011, 1064, 1064, 1064, 20014, 3501, 3728, 1045, 2318, 2000, 2695, 2026, 5888, 2055, 2048, 2814, 1011, 13170, 5146, 1998, 21830, 9610, 7834, 1012, 2077, 102]\n"
     ]
    }
   ],
   "source": [
    "mp.show_list(\n",
    "    tokenizer(d['posts'],truncation=True)['input_ids']\n",
    ")"
   ]
  },
  {
   "cell_type": "markdown",
   "metadata": {},
   "source": [
    "*성공*"
   ]
  },
  {
   "cell_type": "code",
   "execution_count": 48,
   "metadata": {},
   "outputs": [
    {
     "data": {
      "text/plain": [
       "SequenceClassifierOutput(loss=None, logits=tensor([[-0.0450,  0.1728],\n",
       "        [-0.0259,  0.1809],\n",
       "        [-0.0611,  0.1994]], grad_fn=<AddmmBackward0>), hidden_states=None, attentions=None)"
      ]
     },
     "execution_count": 48,
     "metadata": {},
     "output_type": "execute_result"
    }
   ],
   "source": [
    "model1(torch.tensor(tokenizer(d['posts'],truncation=True)['input_ids']))\n",
    "#model1(tokenizer(d['posts'],truncation=True,return_tensors=\"pt\")['input_ids'])"
   ]
  },
  {
   "cell_type": "markdown",
   "metadata": {},
   "source": [
    "`(풀이2)` *--모델설정변경 (퀴즈5, 모델의 프레임수를 4로 바꾸는 예제에서 사용한 테크닉)*"
   ]
  },
  {
   "cell_type": "markdown",
   "metadata": {},
   "source": [
    "*distilbert/distilbert-base-uncased 설정값 부르기*"
   ]
  },
  {
   "cell_type": "code",
   "execution_count": 49,
   "metadata": {},
   "outputs": [
    {
     "data": {
      "text/plain": [
       "DistilBertConfig {\n",
       "  \"_name_or_path\": \"distilbert/distilbert-base-uncased\",\n",
       "  \"activation\": \"gelu\",\n",
       "  \"architectures\": [\n",
       "    \"DistilBertForMaskedLM\"\n",
       "  ],\n",
       "  \"attention_dropout\": 0.1,\n",
       "  \"dim\": 768,\n",
       "  \"dropout\": 0.1,\n",
       "  \"hidden_dim\": 3072,\n",
       "  \"initializer_range\": 0.02,\n",
       "  \"max_position_embeddings\": 512,\n",
       "  \"model_type\": \"distilbert\",\n",
       "  \"n_heads\": 12,\n",
       "  \"n_layers\": 6,\n",
       "  \"pad_token_id\": 0,\n",
       "  \"qa_dropout\": 0.1,\n",
       "  \"seq_classif_dropout\": 0.2,\n",
       "  \"sinusoidal_pos_embds\": false,\n",
       "  \"tie_weights_\": true,\n",
       "  \"transformers_version\": \"4.46.2\",\n",
       "  \"vocab_size\": 30522\n",
       "}"
      ]
     },
     "execution_count": 49,
     "metadata": {},
     "output_type": "execute_result"
    }
   ],
   "source": [
    "config = transformers.AutoConfig.from_pretrained(\n",
    "    \"distilbert/distilbert-base-uncased\"\n",
    ")\n",
    "config"
   ]
  },
  {
   "cell_type": "markdown",
   "metadata": {},
   "source": [
    "*설정값변경*"
   ]
  },
  {
   "cell_type": "code",
   "execution_count": 50,
   "metadata": {},
   "outputs": [],
   "source": [
    "config.max_position_embeddings = 2200"
   ]
  },
  {
   "cell_type": "markdown",
   "metadata": {},
   "source": [
    "*설정값으로 모델불러오기*"
   ]
  },
  {
   "cell_type": "code",
   "execution_count": 51,
   "metadata": {},
   "outputs": [],
   "source": [
    "model1_large = transformers.AutoModelForSequenceClassification.from_config(\n",
    "    config=config\n",
    ")"
   ]
  },
  {
   "cell_type": "markdown",
   "metadata": {},
   "source": [
    "*모델사용*"
   ]
  },
  {
   "cell_type": "code",
   "execution_count": 52,
   "metadata": {},
   "outputs": [
    {
     "data": {
      "text/plain": [
       "SequenceClassifierOutput(loss=None, logits=tensor([[ 0.1023,  0.1124],\n",
       "        [ 0.1443, -0.0719],\n",
       "        [ 0.2653, -0.0368]], grad_fn=<AddmmBackward0>), hidden_states=None, attentions=None)"
      ]
     },
     "execution_count": 52,
     "metadata": {},
     "output_type": "execute_result"
    }
   ],
   "source": [
    "model1_large(torch.tensor(tokenizer(d['posts'],padding=True)['input_ids']))"
   ]
  },
  {
   "cell_type": "code",
   "execution_count": 53,
   "metadata": {},
   "outputs": [
    {
     "data": {
      "text/plain": [
       "SequenceClassifierOutput(loss=None, logits=tensor([[0.1730, 0.0042],\n",
       "        [0.2185, 0.0896],\n",
       "        [0.3406, 0.0155]], grad_fn=<AddmmBackward0>), hidden_states=None, attentions=None)"
      ]
     },
     "execution_count": 53,
     "metadata": {},
     "output_type": "execute_result"
    }
   ],
   "source": [
    "model1_large(**tokenizer(d['posts'],padding=True,return_tensors=\"pt\"))"
   ]
  },
  {
   "cell_type": "markdown",
   "metadata": {},
   "source": [
    "`#`"
   ]
  },
  {
   "cell_type": "markdown",
   "metadata": {},
   "source": [
    "`# 예제4` -- sms_spam"
   ]
  },
  {
   "cell_type": "code",
   "execution_count": 54,
   "metadata": {},
   "outputs": [
    {
     "data": {
      "text/plain": [
       "DatasetDict({\n",
       "    train: Dataset({\n",
       "        features: ['sms', 'label'],\n",
       "        num_rows: 4459\n",
       "    })\n",
       "    test: Dataset({\n",
       "        features: ['sms', 'label'],\n",
       "        num_rows: 1115\n",
       "    })\n",
       "})"
      ]
     },
     "execution_count": 54,
     "metadata": {},
     "output_type": "execute_result"
    }
   ],
   "source": [
    "sms_spam = datasets.load_dataset('sms_spam')['train'].train_test_split(test_size=0.2, seed=42)\n",
    "sms_spam"
   ]
  },
  {
   "cell_type": "code",
   "execution_count": 55,
   "metadata": {},
   "outputs": [
    {
     "data": {
      "text/plain": [
       "Dataset({\n",
       "    features: ['sms', 'label'],\n",
       "    num_rows: 3\n",
       "})"
      ]
     },
     "execution_count": 55,
     "metadata": {},
     "output_type": "execute_result"
    }
   ],
   "source": [
    "d = sms_spam['train'].select(range(3))\n",
    "d"
   ]
  },
  {
   "cell_type": "markdown",
   "metadata": {},
   "source": [
    "`(풀이)`"
   ]
  },
  {
   "cell_type": "code",
   "execution_count": 56,
   "metadata": {},
   "outputs": [
    {
     "data": {
      "text/plain": [
       "SequenceClassifierOutput(loss=None, logits=tensor([[-0.0118,  0.1699],\n",
       "        [ 0.0273,  0.1815],\n",
       "        [-0.0208,  0.2202]], grad_fn=<AddmmBackward0>), hidden_states=None, attentions=None)"
      ]
     },
     "execution_count": 56,
     "metadata": {},
     "output_type": "execute_result"
    }
   ],
   "source": [
    "model1(**tokenizer(d['sms'],padding=True,return_tensors=\"pt\"))"
   ]
  },
  {
   "cell_type": "markdown",
   "metadata": {},
   "source": [
    "`#`"
   ]
  },
  {
   "cell_type": "markdown",
   "metadata": {},
   "source": [
    "## B. 이미지"
   ]
  },
  {
   "cell_type": "code",
   "execution_count": 57,
   "metadata": {},
   "outputs": [
    {
     "name": "stderr",
     "output_type": "stream",
     "text": [
      "Some weights of ViTForImageClassification were not initialized from the model checkpoint at google/vit-base-patch16-224-in21k and are newly initialized: ['classifier.bias', 'classifier.weight']\n",
      "You should probably TRAIN this model on a down-stream task to be able to use it for predictions and inference.\n"
     ]
    }
   ],
   "source": [
    "model2 = transformers.AutoModelForImageClassification.from_pretrained(\n",
    "    \"google/vit-base-patch16-224-in21k\",\n",
    "    num_labels=3 # 그냥 대충 3이라고 했음.. 별 이유는 없음\n",
    ")"
   ]
  },
  {
   "cell_type": "markdown",
   "metadata": {},
   "source": [
    "`# 예제1` -- food101"
   ]
  },
  {
   "cell_type": "code",
   "execution_count": 58,
   "metadata": {},
   "outputs": [
    {
     "data": {
      "text/plain": [
       "Dataset({\n",
       "    features: ['image', 'label'],\n",
       "    num_rows: 4\n",
       "})"
      ]
     },
     "execution_count": 58,
     "metadata": {},
     "output_type": "execute_result"
    }
   ],
   "source": [
    "d = datasets.load_dataset(\"food101\", split=\"train[:4]\")\n",
    "d"
   ]
  },
  {
   "cell_type": "markdown",
   "metadata": {},
   "source": [
    "`(예비학습)` -- `torchvision.transforms` 에서 제공하는 기능들은 배치처리가 가능한가? "
   ]
  },
  {
   "cell_type": "code",
   "execution_count": 59,
   "metadata": {},
   "outputs": [],
   "source": [
    "to_tensor = torchvision.transforms.ToTensor()"
   ]
  },
  {
   "cell_type": "code",
   "execution_count": 60,
   "metadata": {},
   "outputs": [
    {
     "data": {
      "text/plain": [
       "tensor([[[0.1216, 0.1137, 0.1098,  ..., 0.0039, 0.0039, 0.0000],\n",
       "         [0.1255, 0.1216, 0.1176,  ..., 0.0039, 0.0039, 0.0000],\n",
       "         [0.1294, 0.1255, 0.1255,  ..., 0.0039, 0.0000, 0.0000],\n",
       "         ...,\n",
       "         [0.2588, 0.2745, 0.2863,  ..., 0.3765, 0.3882, 0.3922],\n",
       "         [0.2353, 0.2471, 0.2667,  ..., 0.3373, 0.3373, 0.3373],\n",
       "         [0.2235, 0.2275, 0.2471,  ..., 0.3333, 0.3176, 0.3059]],\n",
       "\n",
       "        [[0.1373, 0.1294, 0.1255,  ..., 0.1020, 0.1020, 0.0980],\n",
       "         [0.1412, 0.1373, 0.1333,  ..., 0.1020, 0.1020, 0.0980],\n",
       "         [0.1451, 0.1412, 0.1412,  ..., 0.1020, 0.0980, 0.0980],\n",
       "         ...,\n",
       "         [0.2471, 0.2627, 0.2745,  ..., 0.3647, 0.3765, 0.3882],\n",
       "         [0.2235, 0.2353, 0.2549,  ..., 0.3255, 0.3333, 0.3333],\n",
       "         [0.2118, 0.2157, 0.2353,  ..., 0.3216, 0.3137, 0.3020]],\n",
       "\n",
       "        [[0.1412, 0.1333, 0.1294,  ..., 0.0902, 0.0902, 0.0863],\n",
       "         [0.1451, 0.1412, 0.1451,  ..., 0.0902, 0.0902, 0.0863],\n",
       "         [0.1490, 0.1451, 0.1529,  ..., 0.0902, 0.0863, 0.0863],\n",
       "         ...,\n",
       "         [0.1725, 0.1882, 0.2000,  ..., 0.2431, 0.2549, 0.2667],\n",
       "         [0.1490, 0.1608, 0.1804,  ..., 0.2039, 0.2118, 0.2118],\n",
       "         [0.1373, 0.1412, 0.1608,  ..., 0.2000, 0.1922, 0.1804]]])"
      ]
     },
     "execution_count": 60,
     "metadata": {},
     "output_type": "execute_result"
    }
   ],
   "source": [
    "to_tensor(d['image'][0])"
   ]
  },
  {
   "cell_type": "code",
   "execution_count": 61,
   "metadata": {},
   "outputs": [
    {
     "ename": "TypeError",
     "evalue": "pic should be PIL Image or ndarray. Got <class 'list'>",
     "output_type": "error",
     "traceback": [
      "\u001b[0;31m---------------------------------------------------------------------------\u001b[0m",
      "\u001b[0;31mTypeError\u001b[0m                                 Traceback (most recent call last)",
      "Cell \u001b[0;32mIn[61], line 1\u001b[0m\n\u001b[0;32m----> 1\u001b[0m \u001b[43mto_tensor\u001b[49m\u001b[43m(\u001b[49m\u001b[43md\u001b[49m\u001b[43m[\u001b[49m\u001b[38;5;124;43m'\u001b[39;49m\u001b[38;5;124;43mimage\u001b[39;49m\u001b[38;5;124;43m'\u001b[39;49m\u001b[43m]\u001b[49m\u001b[43m)\u001b[49m\n",
      "File \u001b[0;32m~/anaconda3/envs/hf/lib/python3.12/site-packages/torchvision/transforms/transforms.py:137\u001b[0m, in \u001b[0;36mToTensor.__call__\u001b[0;34m(self, pic)\u001b[0m\n\u001b[1;32m    129\u001b[0m \u001b[38;5;28;01mdef\u001b[39;00m \u001b[38;5;21m__call__\u001b[39m(\u001b[38;5;28mself\u001b[39m, pic):\n\u001b[1;32m    130\u001b[0m \u001b[38;5;250m    \u001b[39m\u001b[38;5;124;03m\"\"\"\u001b[39;00m\n\u001b[1;32m    131\u001b[0m \u001b[38;5;124;03m    Args:\u001b[39;00m\n\u001b[1;32m    132\u001b[0m \u001b[38;5;124;03m        pic (PIL Image or numpy.ndarray): Image to be converted to tensor.\u001b[39;00m\n\u001b[0;32m   (...)\u001b[0m\n\u001b[1;32m    135\u001b[0m \u001b[38;5;124;03m        Tensor: Converted image.\u001b[39;00m\n\u001b[1;32m    136\u001b[0m \u001b[38;5;124;03m    \"\"\"\u001b[39;00m\n\u001b[0;32m--> 137\u001b[0m     \u001b[38;5;28;01mreturn\u001b[39;00m \u001b[43mF\u001b[49m\u001b[38;5;241;43m.\u001b[39;49m\u001b[43mto_tensor\u001b[49m\u001b[43m(\u001b[49m\u001b[43mpic\u001b[49m\u001b[43m)\u001b[49m\n",
      "File \u001b[0;32m~/anaconda3/envs/hf/lib/python3.12/site-packages/torchvision/transforms/functional.py:142\u001b[0m, in \u001b[0;36mto_tensor\u001b[0;34m(pic)\u001b[0m\n\u001b[1;32m    140\u001b[0m     _log_api_usage_once(to_tensor)\n\u001b[1;32m    141\u001b[0m \u001b[38;5;28;01mif\u001b[39;00m \u001b[38;5;129;01mnot\u001b[39;00m (F_pil\u001b[38;5;241m.\u001b[39m_is_pil_image(pic) \u001b[38;5;129;01mor\u001b[39;00m _is_numpy(pic)):\n\u001b[0;32m--> 142\u001b[0m     \u001b[38;5;28;01mraise\u001b[39;00m \u001b[38;5;167;01mTypeError\u001b[39;00m(\u001b[38;5;124mf\u001b[39m\u001b[38;5;124m\"\u001b[39m\u001b[38;5;124mpic should be PIL Image or ndarray. Got \u001b[39m\u001b[38;5;132;01m{\u001b[39;00m\u001b[38;5;28mtype\u001b[39m(pic)\u001b[38;5;132;01m}\u001b[39;00m\u001b[38;5;124m\"\u001b[39m)\n\u001b[1;32m    144\u001b[0m \u001b[38;5;28;01mif\u001b[39;00m _is_numpy(pic) \u001b[38;5;129;01mand\u001b[39;00m \u001b[38;5;129;01mnot\u001b[39;00m _is_numpy_image(pic):\n\u001b[1;32m    145\u001b[0m     \u001b[38;5;28;01mraise\u001b[39;00m \u001b[38;5;167;01mValueError\u001b[39;00m(\u001b[38;5;124mf\u001b[39m\u001b[38;5;124m\"\u001b[39m\u001b[38;5;124mpic should be 2/3 dimensional. Got \u001b[39m\u001b[38;5;132;01m{\u001b[39;00mpic\u001b[38;5;241m.\u001b[39mndim\u001b[38;5;132;01m}\u001b[39;00m\u001b[38;5;124m dimensions.\u001b[39m\u001b[38;5;124m\"\u001b[39m)\n",
      "\u001b[0;31mTypeError\u001b[0m: pic should be PIL Image or ndarray. Got <class 'list'>"
     ]
    }
   ],
   "source": [
    "to_tensor(d['image'])"
   ]
  },
  {
   "cell_type": "markdown",
   "metadata": {},
   "source": [
    "`(풀이)`"
   ]
  },
  {
   "cell_type": "code",
   "execution_count": 62,
   "metadata": {},
   "outputs": [],
   "source": [
    "compose = torchvision.transforms.Compose([\n",
    "    torchvision.transforms.ToTensor(),\n",
    "    torchvision.transforms.Resize((224,224))\n",
    "])"
   ]
  },
  {
   "cell_type": "code",
   "execution_count": 63,
   "metadata": {},
   "outputs": [
    {
     "data": {
      "text/plain": [
       "torch.Size([4, 3, 224, 224])"
      ]
     },
     "execution_count": 63,
     "metadata": {},
     "output_type": "execute_result"
    }
   ],
   "source": [
    "torch.stack(list(map(compose,d['image'])),axis=0).shape"
   ]
  },
  {
   "cell_type": "code",
   "execution_count": 64,
   "metadata": {},
   "outputs": [
    {
     "data": {
      "text/plain": [
       "ImageClassifierOutput(loss=None, logits=tensor([[ 0.0472,  0.0317, -0.1932],\n",
       "        [ 0.2093,  0.1209, -0.0129],\n",
       "        [ 0.0555,  0.0957, -0.0811],\n",
       "        [-0.0682,  0.0363,  0.0317]], grad_fn=<AddmmBackward0>), hidden_states=None, attentions=None)"
      ]
     },
     "execution_count": 64,
     "metadata": {},
     "output_type": "execute_result"
    }
   ],
   "source": [
    "model2.forward(\n",
    "    torch.stack(list(map(compose,d['image'])),axis=0)\n",
    ")"
   ]
  },
  {
   "cell_type": "markdown",
   "metadata": {},
   "source": [
    "`#`"
   ]
  },
  {
   "cell_type": "markdown",
   "metadata": {},
   "source": [
    "`# 예제2`"
   ]
  },
  {
   "cell_type": "code",
   "execution_count": 65,
   "metadata": {},
   "outputs": [
    {
     "data": {
      "text/plain": [
       "Dataset({\n",
       "    features: ['image_file_path', 'image', 'labels'],\n",
       "    num_rows: 4\n",
       "})"
      ]
     },
     "execution_count": 65,
     "metadata": {},
     "output_type": "execute_result"
    }
   ],
   "source": [
    "beans = datasets.load_dataset('beans')\n",
    "d = beans['train'].select(range(4))\n",
    "d"
   ]
  },
  {
   "cell_type": "markdown",
   "metadata": {},
   "source": [
    "`(풀이)`"
   ]
  },
  {
   "cell_type": "code",
   "execution_count": 66,
   "metadata": {},
   "outputs": [
    {
     "data": {
      "text/plain": [
       "ImageClassifierOutput(loss=None, logits=tensor([[ 0.0545, -0.0993, -0.0386],\n",
       "        [ 0.0576, -0.1576, -0.0019],\n",
       "        [ 0.0982, -0.1531, -0.1147],\n",
       "        [ 0.0570, -0.0575, -0.1455]], grad_fn=<AddmmBackward0>), hidden_states=None, attentions=None)"
      ]
     },
     "execution_count": 66,
     "metadata": {},
     "output_type": "execute_result"
    }
   ],
   "source": [
    "model2(torch.stack(list(map(compose,d['image'])),axis=0))"
   ]
  },
  {
   "cell_type": "markdown",
   "metadata": {},
   "source": [
    "`#`"
   ]
  },
  {
   "cell_type": "markdown",
   "metadata": {},
   "source": [
    "## C. 동영상 "
   ]
  },
  {
   "cell_type": "code",
   "execution_count": 67,
   "metadata": {},
   "outputs": [
    {
     "name": "stderr",
     "output_type": "stream",
     "text": [
      "Some weights of VideoMAEForVideoClassification were not initialized from the model checkpoint at MCG-NJU/videomae-base and are newly initialized: ['classifier.bias', 'classifier.weight']\n",
      "You should probably TRAIN this model on a down-stream task to be able to use it for predictions and inference.\n"
     ]
    }
   ],
   "source": [
    "model3 = transformers.VideoMAEForVideoClassification.from_pretrained(\n",
    "    \"MCG-NJU/videomae-base\",\n",
    ")"
   ]
  },
  {
   "cell_type": "markdown",
   "metadata": {},
   "source": [
    "`# 예제1` -- UCF101_subset"
   ]
  },
  {
   "cell_type": "code",
   "execution_count": 68,
   "metadata": {},
   "outputs": [],
   "source": [
    "file_path = huggingface_hub.hf_hub_download(\n",
    "    repo_id=\"sayakpaul/ucf101-subset\",\n",
    "    filename=\"UCF101_subset.tar.gz\",\n",
    "    repo_type=\"dataset\"\n",
    ")\n",
    "# file_path는 다운로드한 압축파일이 존재하는 경로와 파일명이 string으로 저장되어있음.\n",
    "with tarfile.open(file_path) as t:\n",
    "     t.extractall(\"./data\") # 여기에서 \".\"은 현재폴더라는 의미"
   ]
  },
  {
   "cell_type": "code",
   "execution_count": 69,
   "metadata": {},
   "outputs": [
    {
     "name": "stdout",
     "output_type": "stream",
     "text": [
      "└── UCF101_subset\n",
      "    ├── test\n",
      "    │   ├── ApplyEyeMakeup\n",
      "    │   │   ├── UCF101\n",
      "    │   │   ├── v_ApplyEyeMakeup_g03_c01.avi\n",
      "    │   │   └── ...\n",
      "    │   │   └── v_ApplyEyeMakeup_g23_c06.avi\n",
      "    │   ├── ApplyLipstick\n",
      "    │   │   ├── UCF101\n",
      "    │   │   ├── v_ApplyLipstick_g14_c01.avi\n",
      "    │   │   └── ...\n",
      "    │   │   └── v_ApplyLipstick_g16_c04.avi\n",
      "    │   └── ...\n",
      "    │   └── BenchPress\n",
      "    │       ├── UCF101\n",
      "    │       ├── v_BenchPress_g05_c02.avi\n",
      "    │       └── ...\n",
      "    │       └── v_BenchPress_g25_c06.avi\n",
      "    ├── train\n",
      "    │   ├── ApplyEyeMakeup\n",
      "    │   │   ├── UCF101\n",
      "    │   │   ├── v_ApplyEyeMakeup_g02_c03.avi\n",
      "    │   │   └── ...\n",
      "    │   │   └── v_ApplyEyeMakeup_g25_c07.avi\n",
      "    │   ├── ApplyLipstick\n",
      "    │   │   ├── UCF101\n",
      "    │   │   ├── v_ApplyLipstick_g01_c02.avi\n",
      "    │   │   └── ...\n",
      "    │   │   └── v_ApplyLipstick_g24_c05.avi\n",
      "    │   └── ...\n",
      "    │   └── BenchPress\n",
      "    │       ├── UCF101\n",
      "    │       ├── v_BenchPress_g01_c05.avi\n",
      "    │       └── ...\n",
      "    │       └── v_BenchPress_g24_c05.avi\n",
      "    └── val\n",
      "        ├── ApplyEyeMakeup\n",
      "        │   ├── UCF101\n",
      "        │   ├── v_ApplyEyeMakeup_g01_c01.avi\n",
      "        │   ├── v_ApplyEyeMakeup_g14_c05.avi\n",
      "        │   └── v_ApplyEyeMakeup_g20_c04.avi\n",
      "        ├── ApplyLipstick\n",
      "        │   ├── UCF101\n",
      "        │   ├── v_ApplyLipstick_g10_c04.avi\n",
      "        │   ├── v_ApplyLipstick_g20_c04.avi\n",
      "        │   └── v_ApplyLipstick_g25_c02.avi\n",
      "        └── ...\n",
      "        └── BenchPress\n",
      "            ├── UCF101\n",
      "            ├── v_BenchPress_g11_c05.avi\n",
      "            ├── v_BenchPress_g17_c02.avi\n",
      "            └── v_BenchPress_g17_c06.avi\n"
     ]
    }
   ],
   "source": [
    "mp.tree(\"./data\")"
   ]
  },
  {
   "cell_type": "code",
   "execution_count": 70,
   "metadata": {},
   "outputs": [
    {
     "data": {
      "text/plain": [
       "torch.Size([3, 67, 240, 320])"
      ]
     },
     "execution_count": 70,
     "metadata": {},
     "output_type": "execute_result"
    }
   ],
   "source": [
    "video_path = \"./data/UCF101_subset/test/BenchPress/v_BenchPress_g05_c02.avi\"\n",
    "video = pytorchvideo.data.encoded_video.EncodedVideo.from_path(video_path).get_clip(0, float('inf'))['video']\n",
    "video.shape"
   ]
  },
  {
   "cell_type": "markdown",
   "metadata": {},
   "source": [
    "`(풀이)`"
   ]
  },
  {
   "cell_type": "code",
   "execution_count": 71,
   "metadata": {},
   "outputs": [
    {
     "data": {
      "text/plain": [
       "ImageClassifierOutput(loss=None, logits=tensor([[-0.1375,  0.4270]], grad_fn=<AddmmBackward0>), hidden_states=None, attentions=None)"
      ]
     },
     "execution_count": 71,
     "metadata": {},
     "output_type": "execute_result"
    }
   ],
   "source": [
    "model3(\n",
    "    #video.permute(1,0,2,3)[:16,:,:224,:224].unsqueeze(0)\n",
    "    #video.permute(1,0,2,3)[:16,:,:224,:224].reshape(1,16,3,224,224)\n",
    "    torch.stack([video.permute(1,0,2,3)[:16,:,:224,:224]])\n",
    ")"
   ]
  }
 ],
 "metadata": {
  "kernelspec": {
   "display_name": "Python 3 (ipykernel)",
   "language": "python",
   "name": "python3"
  },
  "language_info": {
   "codemirror_mode": {
    "name": "ipython",
    "version": 3
   },
   "file_extension": ".py",
   "mimetype": "text/x-python",
   "name": "python",
   "nbconvert_exporter": "python",
   "pygments_lexer": "ipython3",
   "version": "3.12.2"
  }
 },
 "nbformat": 4,
 "nbformat_minor": 4
}
