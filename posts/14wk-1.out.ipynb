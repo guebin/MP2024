{
  "cells": [
    {
      "cell_type": "markdown",
      "metadata": {},
      "source": [
        "# 14wk-1: 타이타닉 데이터 분석\n",
        "\n",
        "최규빈  \n",
        "2024-12-06\n",
        "\n",
        "-   첫제출: <https://guebin.github.io/MP2023/posts/02wk-03.html>\n",
        "-   Alexis Cook의 코드:\n",
        "    <https://guebin.github.io/MP2023/posts/02wk-04.html>\n",
        "-   Autogluon: <https://guebin.github.io/MP2023/posts/02wk-05.html>\n",
        "-   Autogluon (Fsize):\n",
        "    <https://guebin.github.io/MP2023/posts/02wk-06.html>\n",
        "-   Autogluon (Fsize,Drop):\n",
        "    <https://guebin.github.io/MP2023/posts/02wk-07.html>\n",
        "-   Autogluon (best_quality):\n",
        "    <https://guebin.github.io/MP2023/posts/02wk-08.html>"
      ],
      "id": "1b41cdd3-8f8c-415a-8228-16bfd75dba95"
    }
  ],
  "nbformat": 4,
  "nbformat_minor": 5,
  "metadata": {
    "kernelspec": {
      "name": "python3",
      "display_name": "Python 3 (ipykernel)",
      "language": "python"
    },
    "language_info": {
      "name": "python",
      "codemirror_mode": {
        "name": "ipython",
        "version": "3"
      },
      "file_extension": ".py",
      "mimetype": "text/x-python",
      "nbconvert_exporter": "python",
      "pygments_lexer": "ipython3",
      "version": "3.12.2"
    }
  }
}