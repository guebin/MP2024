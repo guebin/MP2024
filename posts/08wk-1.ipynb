{
 "cells": [
  {
   "cell_type": "raw",
   "metadata": {
    "id": "VCuL6qkIPaug",
    "vscode": {
     "languageId": "raw"
    }
   },
   "source": [
    "---\n",
    "title: \"08wk-1: 모듈설치 및 변경\"\n",
    "author: \"최규빈\"\n",
    "date: \"10/30/2024\"\n",
    "draft: false\n",
    "---"
   ]
  },
  {
   "cell_type": "markdown",
   "metadata": {
    "id": "BsXFhC8dPaum"
   },
   "source": [
    "<a href=\"https://colab.research.google.com/github/guebin/MP2024/blob/main/posts/08wk-1.ipynb\"><img src=\"https://colab.research.google.com/assets/colab-badge.svg\" style=\"text-align: left\"></a>"
   ]
  },
  {
   "cell_type": "markdown",
   "metadata": {
    "id": "HVEZcgEwPaup",
    "vscode": {
     "languageId": "raw"
    }
   },
   "source": [
    "# 1. 강의영상"
   ]
  },
  {
   "cell_type": "markdown",
   "metadata": {},
   "source": [
    "{{<video https://youtu.be/playlist?list=PLQqh36zP38-wMSwEnrqdaQTsgmCkf2tA_&si=vMFG0C78I3pn7_AX >}}"
   ]
  },
  {
   "cell_type": "markdown",
   "metadata": {
    "id": "tmKtENtHPaur",
    "vscode": {
     "languageId": "raw"
    }
   },
   "source": [
    "# 2. 내가 만든 좋은 함수"
   ]
  },
  {
   "cell_type": "markdown",
   "metadata": {
    "id": "yhzmxiIdPaut",
    "vscode": {
     "languageId": "raw"
    }
   },
   "source": [
    "`# 예시1` -- `my_show_list()`"
   ]
  },
  {
   "cell_type": "code",
   "execution_count": 8,
   "metadata": {
    "id": "oLSlErVUPg7L"
   },
   "outputs": [],
   "source": [
    "lst = [\n",
    "    [1]*500,\n",
    "    dict(a=[2]*100,b='123'),\n",
    "    'python',\n",
    "    (1,2,[3,4])\n",
    "]\n",
    "#lst"
   ]
  },
  {
   "cell_type": "markdown",
   "metadata": {
    "id": "sqCUZ6DFPauu"
   },
   "source": [
    "`-` 리스트의구조를 잘 살펴볼 수 있는 함수를 만들어보자.."
   ]
  },
  {
   "cell_type": "code",
   "execution_count": 9,
   "metadata": {
    "id": "5w8eMzdNPauv"
   },
   "outputs": [],
   "source": [
    "from collections.abc import Iterable\n",
    "\n",
    "def my_show_list(item, max_depth=2, max_items=5):\n",
    "    \"\"\"Displays type, length, and content of nested items up to level 2.\"\"\"\n",
    "\n",
    "    # Level 1 information\n",
    "    item_type = type(item).__name__\n",
    "    try:\n",
    "        item_len = len(item)\n",
    "    except TypeError:\n",
    "        item_len = None  # If length cannot be determined\n",
    "\n",
    "    item_str = repr(item)\n",
    "    if len(item_str) > 50:\n",
    "        content = f\"{item_str[:25]} ... {item_str[-25:]}\"\n",
    "    else:\n",
    "        content = item_str\n",
    "\n",
    "    info = f\"Level 1 - Type: {item_type}\"\n",
    "    if item_len is not None:\n",
    "        info += f\", Length: {item_len}\"\n",
    "    info += f\", Content: {content}\"\n",
    "    print(info)\n",
    "\n",
    "    # Level 2 information (only if item is Iterable)\n",
    "    if isinstance(item, Iterable) and not isinstance(item, (str, bytes)):\n",
    "        if item_len is None:\n",
    "            return  # Skip if length cannot be determined\n",
    "        for idx, subitem in enumerate(item):\n",
    "            if idx == max_items // 2 and item_len > max_items:\n",
    "                print(f\"     ...\")\n",
    "            elif idx >= max_items and idx < item_len - max_items // 2:\n",
    "                continue\n",
    "\n",
    "            subitem_type = type(subitem).__name__\n",
    "            try:\n",
    "                subitem_len = len(subitem)\n",
    "            except TypeError:\n",
    "                subitem_len = None\n",
    "\n",
    "            subitem_str = repr(subitem)\n",
    "            if len(subitem_str) > 50:\n",
    "                sub_content = f\"{subitem_str[:25]} ... {subitem_str[-25:]}\"\n",
    "            else:\n",
    "                sub_content = subitem_str\n",
    "\n",
    "            sub_info = f\"     Level 2 - Type: {subitem_type}\"\n",
    "            if subitem_len is not None:\n",
    "                sub_info += f\", Length: {subitem_len}\"\n",
    "            sub_info += f\", Content: {sub_content}\"\n",
    "            print(sub_info)"
   ]
  },
  {
   "cell_type": "markdown",
   "metadata": {
    "id": "QaGmZmBLPauy"
   },
   "source": [
    "`-` 사용해보자."
   ]
  },
  {
   "cell_type": "code",
   "execution_count": 10,
   "metadata": {
    "colab": {
     "base_uri": "https://localhost:8080/"
    },
    "id": "jq2UV5oNQSCP",
    "outputId": "f2f2514a-0eeb-4708-b1c3-404c16950bac"
   },
   "outputs": [
    {
     "name": "stdout",
     "output_type": "stream",
     "text": [
      "Level 1 - Type: list, Length: 4, Content: [[1, 1, 1, 1, 1, 1, 1, 1, ... 'python', (1, 2, [3, 4])]\n",
      "     Level 2 - Type: list, Length: 500, Content: [1, 1, 1, 1, 1, 1, 1, 1,  ... , 1, 1, 1, 1, 1, 1, 1, 1]\n",
      "     Level 2 - Type: dict, Length: 2, Content: {'a': [2, 2, 2, 2, 2, 2,  ...  2, 2, 2, 2], 'b': '123'}\n",
      "     Level 2 - Type: str, Length: 6, Content: 'python'\n",
      "     Level 2 - Type: tuple, Length: 3, Content: (1, 2, [3, 4])\n"
     ]
    }
   ],
   "source": [
    "my_show_list(lst)"
   ]
  },
  {
   "cell_type": "code",
   "execution_count": 14,
   "metadata": {
    "colab": {
     "base_uri": "https://localhost:8080/"
    },
    "id": "9QHlQejGQsjS",
    "outputId": "5114f6b1-13ff-4999-af73-59d5fdfc5908"
   },
   "outputs": [
    {
     "name": "stdout",
     "output_type": "stream",
     "text": [
      "Level 1 - Type: tuple, Length: 3, Content: (1, 2, [3, 4])\n",
      "     Level 2 - Type: int, Content: 1\n",
      "     Level 2 - Type: int, Content: 2\n",
      "     Level 2 - Type: list, Length: 2, Content: [3, 4]\n"
     ]
    }
   ],
   "source": [
    "my_show_list(lst[-1])"
   ]
  },
  {
   "cell_type": "markdown",
   "metadata": {
    "id": "ORygR5sOPauy"
   },
   "source": [
    "`#`"
   ]
  },
  {
   "cell_type": "markdown",
   "metadata": {
    "id": "EuzjxV7sPauz"
   },
   "source": [
    "`# 예제2` -- `my_show_dict()`"
   ]
  },
  {
   "cell_type": "code",
   "execution_count": 16,
   "metadata": {
    "id": "EKIfHJDcQ8Ui"
   },
   "outputs": [],
   "source": [
    "import numpy as np\n",
    "import torch\n",
    "dct = dict(\n",
    "    lst = [1,2,3]*100,\n",
    "    tpl = (2,3,4),\n",
    "    np_array = np.random.randn(100),\n",
    "    torch = torch.tensor([1])\n",
    ")\n",
    "#dct"
   ]
  },
  {
   "cell_type": "code",
   "execution_count": 17,
   "metadata": {
    "id": "S_a8aYzhPauz"
   },
   "outputs": [],
   "source": [
    "def my_show_dict(dct):\n",
    "    print(\"Dictionary Overview:\")\n",
    "    print(f\"Total keys: {len(dct.keys())}\")\n",
    "    print(f\"Keys: {list(dct.keys())}\\n\")\n",
    "\n",
    "    for i, (k, v) in enumerate(dct.items()):\n",
    "        print(f\"{i+1}. Key: '{k}'\")\n",
    "        print(f\"   - Type: {type(v).__name__}\")\n",
    "\n",
    "        # 길이 확인이 가능한 타입인 경우 길이 정보 출력\n",
    "        if hasattr(v, \"__len__\"):\n",
    "            print(f\"   - Length: {len(v)}\")\n",
    "\n",
    "        # Iterable 값의 길이를 제한해 출력\n",
    "        if len(str(v)) > 100:\n",
    "            display_values = str(v)[:100] + \"...\"  # 문자열 길이 제한 후 생략 표시\n",
    "        else:\n",
    "            display_values = str(v)\n",
    "\n",
    "        # 값 출력\n",
    "        print(f\"   - Values: {display_values}\")\n",
    "        print()  # 공백 줄 추가"
   ]
  },
  {
   "cell_type": "code",
   "execution_count": 18,
   "metadata": {
    "colab": {
     "base_uri": "https://localhost:8080/"
    },
    "id": "MAezBmeoRTPJ",
    "outputId": "bd762599-6500-43e1-a605-c505fee213c2"
   },
   "outputs": [
    {
     "name": "stdout",
     "output_type": "stream",
     "text": [
      "Dictionary Overview:\n",
      "Total keys: 4\n",
      "Keys: ['lst', 'tpl', 'np_array', 'torch']\n",
      "\n",
      "1. Key: 'lst'\n",
      "   - Type: list\n",
      "   - Length: 300\n",
      "   - Values: [1, 2, 3, 1, 2, 3, 1, 2, 3, 1, 2, 3, 1, 2, 3, 1, 2, 3, 1, 2, 3, 1, 2, 3, 1, 2, 3, 1, 2, 3, 1, 2, 3, ...\n",
      "\n",
      "2. Key: 'tpl'\n",
      "   - Type: tuple\n",
      "   - Length: 3\n",
      "   - Values: (2, 3, 4)\n",
      "\n",
      "3. Key: 'np_array'\n",
      "   - Type: ndarray\n",
      "   - Length: 100\n",
      "   - Values: [-7.17493471e-01  6.35787670e-01 -8.11273743e-01  1.49924972e+00\n",
      " -5.57618169e-01  7.19155061e-01  2...\n",
      "\n",
      "4. Key: 'torch'\n",
      "   - Type: Tensor\n",
      "   - Length: 1\n",
      "   - Values: tensor([1])\n",
      "\n"
     ]
    }
   ],
   "source": [
    "my_show_dict(dct)"
   ]
  },
  {
   "cell_type": "markdown",
   "metadata": {
    "id": "4uDVRwPRPau0"
   },
   "source": [
    "`#`"
   ]
  },
  {
   "cell_type": "markdown",
   "metadata": {
    "id": "Nw3fyYa-Pau1"
   },
   "source": [
    "`# 예제3` -- imdb"
   ]
  },
  {
   "cell_type": "code",
   "execution_count": 21,
   "metadata": {
    "id": "pyAmqivbRnRQ"
   },
   "outputs": [],
   "source": [
    "import transformers\n",
    "import datasets"
   ]
  },
  {
   "cell_type": "code",
   "execution_count": 22,
   "metadata": {
    "colab": {
     "base_uri": "https://localhost:8080/",
     "height": 618,
     "referenced_widgets": [
      "6a0a4ff0ae594c03bccb53e885967d80",
      "ce9752cf69ab4f0eb315823d3101fa6f",
      "3164ca02b0f2479a8bd72fc675effff6",
      "a72eb84fe15148d9ad3cfda02c9c3914",
      "60a858747ba84f41af621f8557d23671",
      "ec4336b172f140cc8b25783aae56c802",
      "75b0af19759d4d3197c9439522ab7817",
      "fdb4470f239e4cad8fd9dc68b0b77c99",
      "c812eb36428d4ed5ae1adba77ef81d04",
      "7f62a2bf970c4670a33e4f8b637d4cb6",
      "b1474bd9a8e5486586ef6be60ff7f9f3",
      "e909534321554a53be49e6a7d3a2e0e4",
      "136ee3385da14d36a37596570b54a96b",
      "a4a3ae7346044b7d8a7a74f55533d159",
      "e6ec89cd4a8e427aa7130d2912e86c6e",
      "7cbb618bc05a41ce8b086ef04eece058",
      "f2a90ac48163423c996899515ef5846c",
      "bca2a2131bfc409290cba92a414d3331",
      "9919975c36ad438d9f778534c650ee92",
      "7bc273f0c2bb47328e758f3d5c5a7c65",
      "c86cec576ac8403bacff26b395116f51",
      "98e21b6125144202a915261fa052955b",
      "106a11cca9c249b483c1e6d0ab611de7",
      "d2a7fb18a54a4ef5a4c480d79879617a",
      "bb89a6ac43fd4337b64fbea290baa62a",
      "240b34e4c81a48dca8b9ac0ff7fc260d",
      "bb75aa4d957f49c4911e80cf359aa92b",
      "77032ee4582e48ee84f2208809ababb4",
      "9d266f361f0e44dfa9b8cd974969152b",
      "c26c739404f34284bda4524425d50789",
      "a8fa7eb32a3b41ffb3651322fe9c928f",
      "8655909e4af14462bc8df7a8f06160d0",
      "6c233719f75641b18c5a2ffa2edeb477",
      "3da7e7588bfa483c9a485eaaf7237daa",
      "cda00957443e46b3a07e9cd0cd6a24f3",
      "3fa139febcab4ca7963fd1165b26d2fd",
      "1457a1ca4e774f9bb0228ff3f6c475d6",
      "ea11d99dd30346c4b33682983faeba65",
      "3ee32b6e3acf413e95d22a422ef71701",
      "09eb25cdc16d47d4ba9f44e1e5a0c1fa",
      "10dce93270594aeab2abe5287a0a7fff",
      "c652ee93eafa4d2c8ac24e083d5f7cf0",
      "353b053c691c480fabdc6289f23de971",
      "a7881397adb5445380b8c5e61221bdfa",
      "0c75c35668604f3f937183814921bda4",
      "e0b69abf691847098e0e23682a8b934c",
      "0adfbe709c8f4387ba97a5b70f979aad",
      "132d44e1ae014352b200c6cb4d36e04f",
      "48b5faeeed274a47a40908252eb122c7",
      "ffd07a2973514afb93e2ffbbdbcd789c",
      "e9631b2a2b3d46d9904e514600b03135",
      "85e230e8943a46d4a5d81fa51879f894",
      "e1446e4805344697a3a50591b22c8e27",
      "94dbd7deebe04e5db80b6f025e5fdc0d",
      "41fe17be32b24826a7905c9e0b43ccb8",
      "8143e05955224b689df98173b2cf0d5c",
      "2d38ff9280b447dda9eb80fae8d725d5",
      "4f74c819bfe945359df85901f0868e5c",
      "0ce52981d2d54887be27611a1c438c8e",
      "aa48b4aa1c514fa89455d6df1551d96f",
      "44f3a12c74b24710b29d44fc8628ea62",
      "1b5a1a0c73dc4069aeaa92ff8e9181fb",
      "814b9d26dfee49ca8ff715cadf53e519",
      "375bd5f0c9494f9292ed67c08e523492",
      "d22a4d5fe2c54e709bb2a222808d071e",
      "fe2f7790349141ee95c2b0eeb9947842",
      "492c711b96834d28857dea0b0c055b5d",
      "f8f8710e06814bfb8948d6a00eb3b010",
      "3db9ca292d0f4012845296d950548e5b",
      "73904f29531340c18a8652bbcc573b1f",
      "b4886716e1d54de58299eb52a15ab024",
      "49a781fbf07e4fe69dcbafec9af4e78c",
      "f64bda422bcf41fc983265e7d7295540",
      "2cc8d7d3cb9446abbe4185c0789f5e28",
      "bbc982e952814c41abee1546ca7d2884",
      "78d0d2b8f67b4666aef227fc97e4d463",
      "796d39c5d9914f8ebe1027e7b141ae1f"
     ]
    },
    "id": "evzznFPURyuI",
    "outputId": "0708eab7-572a-4eb9-9df7-46533d6369b6"
   },
   "outputs": [
    {
     "name": "stderr",
     "output_type": "stream",
     "text": [
      "/usr/local/lib/python3.10/dist-packages/huggingface_hub/utils/_token.py:89: UserWarning: \n",
      "The secret `HF_TOKEN` does not exist in your Colab secrets.\n",
      "To authenticate with the Hugging Face Hub, create a token in your settings tab (https://huggingface.co/settings/tokens), set it as secret in your Google Colab and restart your session.\n",
      "You will be able to reuse this secret in all of your notebooks.\n",
      "Please note that authentication is recommended but still optional to access public models or datasets.\n",
      "  warnings.warn(\n"
     ]
    },
    {
     "data": {
      "application/vnd.jupyter.widget-view+json": {
       "model_id": "6a0a4ff0ae594c03bccb53e885967d80",
       "version_major": 2,
       "version_minor": 0
      },
      "text/plain": [
       "README.md:   0%|          | 0.00/7.81k [00:00<?, ?B/s]"
      ]
     },
     "metadata": {},
     "output_type": "display_data"
    },
    {
     "data": {
      "application/vnd.jupyter.widget-view+json": {
       "model_id": "e909534321554a53be49e6a7d3a2e0e4",
       "version_major": 2,
       "version_minor": 0
      },
      "text/plain": [
       "train-00000-of-00001.parquet:   0%|          | 0.00/21.0M [00:00<?, ?B/s]"
      ]
     },
     "metadata": {},
     "output_type": "display_data"
    },
    {
     "data": {
      "application/vnd.jupyter.widget-view+json": {
       "model_id": "106a11cca9c249b483c1e6d0ab611de7",
       "version_major": 2,
       "version_minor": 0
      },
      "text/plain": [
       "test-00000-of-00001.parquet:   0%|          | 0.00/20.5M [00:00<?, ?B/s]"
      ]
     },
     "metadata": {},
     "output_type": "display_data"
    },
    {
     "data": {
      "application/vnd.jupyter.widget-view+json": {
       "model_id": "3da7e7588bfa483c9a485eaaf7237daa",
       "version_major": 2,
       "version_minor": 0
      },
      "text/plain": [
       "unsupervised-00000-of-00001.parquet:   0%|          | 0.00/42.0M [00:00<?, ?B/s]"
      ]
     },
     "metadata": {},
     "output_type": "display_data"
    },
    {
     "data": {
      "application/vnd.jupyter.widget-view+json": {
       "model_id": "0c75c35668604f3f937183814921bda4",
       "version_major": 2,
       "version_minor": 0
      },
      "text/plain": [
       "Generating train split:   0%|          | 0/25000 [00:00<?, ? examples/s]"
      ]
     },
     "metadata": {},
     "output_type": "display_data"
    },
    {
     "data": {
      "application/vnd.jupyter.widget-view+json": {
       "model_id": "8143e05955224b689df98173b2cf0d5c",
       "version_major": 2,
       "version_minor": 0
      },
      "text/plain": [
       "Generating test split:   0%|          | 0/25000 [00:00<?, ? examples/s]"
      ]
     },
     "metadata": {},
     "output_type": "display_data"
    },
    {
     "data": {
      "application/vnd.jupyter.widget-view+json": {
       "model_id": "492c711b96834d28857dea0b0c055b5d",
       "version_major": 2,
       "version_minor": 0
      },
      "text/plain": [
       "Generating unsupervised split:   0%|          | 0/50000 [00:00<?, ? examples/s]"
      ]
     },
     "metadata": {},
     "output_type": "display_data"
    },
    {
     "data": {
      "text/plain": [
       "DatasetDict({\n",
       "    train: Dataset({\n",
       "        features: ['text', 'label'],\n",
       "        num_rows: 25000\n",
       "    })\n",
       "    test: Dataset({\n",
       "        features: ['text', 'label'],\n",
       "        num_rows: 25000\n",
       "    })\n",
       "    unsupervised: Dataset({\n",
       "        features: ['text', 'label'],\n",
       "        num_rows: 50000\n",
       "    })\n",
       "})"
      ]
     },
     "execution_count": 22,
     "metadata": {},
     "output_type": "execute_result"
    }
   ],
   "source": [
    "imdb = datasets.load_dataset('imdb')\n",
    "imdb"
   ]
  },
  {
   "cell_type": "code",
   "execution_count": 25,
   "metadata": {
    "colab": {
     "base_uri": "https://localhost:8080/"
    },
    "id": "yPA2LjWpR_DJ",
    "outputId": "429ccece-2843-446f-913a-e450f8c32987"
   },
   "outputs": [
    {
     "name": "stdout",
     "output_type": "stream",
     "text": [
      "Dictionary Overview:\n",
      "Total keys: 3\n",
      "Keys: ['train', 'test', 'unsupervised']\n",
      "\n",
      "1. Key: 'train'\n",
      "   - Type: Dataset\n",
      "   - Length: 25000\n",
      "   - Values: Dataset({\n",
      "    features: ['text', 'label'],\n",
      "    num_rows: 25000\n",
      "})\n",
      "\n",
      "2. Key: 'test'\n",
      "   - Type: Dataset\n",
      "   - Length: 25000\n",
      "   - Values: Dataset({\n",
      "    features: ['text', 'label'],\n",
      "    num_rows: 25000\n",
      "})\n",
      "\n",
      "3. Key: 'unsupervised'\n",
      "   - Type: Dataset\n",
      "   - Length: 50000\n",
      "   - Values: Dataset({\n",
      "    features: ['text', 'label'],\n",
      "    num_rows: 50000\n",
      "})\n",
      "\n"
     ]
    }
   ],
   "source": [
    "my_show_dict(imdb)"
   ]
  },
  {
   "cell_type": "code",
   "execution_count": 30,
   "metadata": {
    "colab": {
     "base_uri": "https://localhost:8080/"
    },
    "id": "w9nJbZinSQt2",
    "outputId": "550d68a8-4eca-45f1-a201-480876b0eae7"
   },
   "outputs": [
    {
     "name": "stdout",
     "output_type": "stream",
     "text": [
      "Level 1 - Type: Dataset, Length: 25000, Content: Dataset({\n",
      "    features: [ ... ],\n",
      "    num_rows: 25000\n",
      "})\n",
      "     Level 2 - Type: dict, Length: 2, Content: {'text': 'I rented I AM C ...  of a plot.', 'label': 0}\n",
      "     Level 2 - Type: dict, Length: 2, Content: {'text': '\"I Am Curious:  ... \\'s bodies.', 'label': 0}\n",
      "     ...\n",
      "     Level 2 - Type: dict, Length: 2, Content: {'text': \"If only to avoi ... br /><br />\", 'label': 0}\n",
      "     Level 2 - Type: dict, Length: 2, Content: {'text': \"This film was p ... lace. 2/10.\", 'label': 0}\n",
      "     Level 2 - Type: dict, Length: 2, Content: {'text': 'Oh, brother...a ... br /><br />', 'label': 0}\n",
      "     Level 2 - Type: dict, Length: 2, Content: {'text': '\\'The Adventure ... employed...', 'label': 1}\n",
      "     Level 2 - Type: dict, Length: 2, Content: {'text': 'The story cente ... highlights.', 'label': 1}\n"
     ]
    }
   ],
   "source": [
    "my_show_list(imdb['train'])"
   ]
  },
  {
   "cell_type": "code",
   "execution_count": 32,
   "metadata": {
    "colab": {
     "base_uri": "https://localhost:8080/"
    },
    "id": "nr08hXVRSngC",
    "outputId": "5c8e91fe-50e7-4530-ff72-a96acdc748df"
   },
   "outputs": [
    {
     "name": "stdout",
     "output_type": "stream",
     "text": [
      "Dictionary Overview:\n",
      "Total keys: 2\n",
      "Keys: ['text', 'label']\n",
      "\n",
      "1. Key: 'text'\n",
      "   - Type: str\n",
      "   - Length: 1640\n",
      "   - Values: I rented I AM CURIOUS-YELLOW from my video store because of all the controversy that surrounded it w...\n",
      "\n",
      "2. Key: 'label'\n",
      "   - Type: int\n",
      "   - Values: 0\n",
      "\n"
     ]
    }
   ],
   "source": [
    "my_show_dict(imdb['train'][0])"
   ]
  },
  {
   "cell_type": "markdown",
   "metadata": {
    "id": "dsCZqnaTPau2"
   },
   "source": [
    "`#`"
   ]
  },
  {
   "cell_type": "markdown",
   "metadata": {
    "id": "jwjjLu7aPau2"
   },
   "source": [
    "# 3. 모듈"
   ]
  },
  {
   "cell_type": "markdown",
   "metadata": {
    "id": "aYuoYBrLPau2"
   },
   "source": [
    "`-` 이거 생각보다 좋음 $\\to$ 다음에도 쓰고 싶음\n",
    "\n",
    "- 방법1: 코드를 어디에 잘 저장해둠.. 코랩킬때마다 불러서 읽어옴\n",
    "- 방법2: 패키지화 시킴"
   ]
  },
  {
   "cell_type": "markdown",
   "metadata": {
    "id": "uxBxjGpWPau2"
   },
   "source": [
    "`-` 방법2를 살펴보자."
   ]
  },
  {
   "cell_type": "markdown",
   "metadata": {
    "id": "JPyJluojPau2"
   },
   "source": [
    "## A. 위치"
   ]
  },
  {
   "cell_type": "code",
   "execution_count": null,
   "metadata": {
    "id": "WoJvR0doT6g8"
   },
   "outputs": [],
   "source": [
    "#!pip install git+https://github.com/guebin/mp2024pkg.git"
   ]
  },
  {
   "cell_type": "markdown",
   "metadata": {
    "id": "IJtYbNTxPau2"
   },
   "source": [
    "`-` numpy가 설치된 위치를 알아보자."
   ]
  },
  {
   "cell_type": "code",
   "execution_count": 35,
   "metadata": {
    "id": "adpDSG-wT-xC"
   },
   "outputs": [],
   "source": [
    "# '/usr/local/lib/python3.10/dist-packages/numpy'\n",
    "# 여기에 있음.."
   ]
  },
  {
   "cell_type": "markdown",
   "metadata": {
    "id": "1-TttDYNPau4"
   },
   "source": [
    "`-` numpy폴더는 있고 mp2024pkg 폴더는 없음.."
   ]
  },
  {
   "cell_type": "markdown",
   "metadata": {
    "id": "_KojCDlkPau4"
   },
   "source": [
    "`-` 그래서 numpy는 임포트되는데 mp2024pkg는 임포트되지 않음"
   ]
  },
  {
   "cell_type": "code",
   "execution_count": 36,
   "metadata": {
    "colab": {
     "base_uri": "https://localhost:8080/",
     "height": 322
    },
    "id": "ER3b8UqtU2iL",
    "outputId": "a29df70e-5cdc-482c-b53b-9d9b2f645ce5"
   },
   "outputs": [
    {
     "ename": "ModuleNotFoundError",
     "evalue": "No module named 'mp2024pkg'",
     "output_type": "error",
     "traceback": [
      "\u001b[0;31m---------------------------------------------------------------------------\u001b[0m",
      "\u001b[0;31mModuleNotFoundError\u001b[0m                       Traceback (most recent call last)",
      "\u001b[0;32m<ipython-input-36-3a31dc07ea5a>\u001b[0m in \u001b[0;36m<cell line: 1>\u001b[0;34m()\u001b[0m\n\u001b[0;32m----> 1\u001b[0;31m \u001b[0;32mimport\u001b[0m \u001b[0mmp2024pkg\u001b[0m\u001b[0;34m\u001b[0m\u001b[0;34m\u001b[0m\u001b[0m\n\u001b[0m",
      "\u001b[0;31mModuleNotFoundError\u001b[0m: No module named 'mp2024pkg'",
      "",
      "\u001b[0;31m---------------------------------------------------------------------------\u001b[0;32m\nNOTE: If your import is failing due to a missing package, you can\nmanually install dependencies using either !pip or !apt.\n\nTo view examples of installing some common dependencies, click the\n\"Open Examples\" button below.\n\u001b[0;31m---------------------------------------------------------------------------\u001b[0m\n"
     ]
    }
   ],
   "source": [
    "import mp2024pkg"
   ]
  },
  {
   "cell_type": "markdown",
   "metadata": {
    "id": "s8XNUeFyPau4"
   },
   "source": [
    "## B. 설치"
   ]
  },
  {
   "cell_type": "markdown",
   "metadata": {
    "id": "GImERi1kPau5"
   },
   "source": [
    "`-` `mp2024pkg` install (=download)"
   ]
  },
  {
   "cell_type": "code",
   "execution_count": 40,
   "metadata": {
    "colab": {
     "base_uri": "https://localhost:8080/"
    },
    "id": "mHNzS_urU8ss",
    "outputId": "f1b7a387-ce62-4fcb-85bf-17d2675339c6"
   },
   "outputs": [
    {
     "name": "stdout",
     "output_type": "stream",
     "text": [
      "Collecting git+https://github.com/guebin/mp2024pkg.git\n",
      "  Cloning https://github.com/guebin/mp2024pkg.git to /tmp/pip-req-build-ctyecrwe\n",
      "  Running command git clone --filter=blob:none --quiet https://github.com/guebin/mp2024pkg.git /tmp/pip-req-build-ctyecrwe\n",
      "  Resolved https://github.com/guebin/mp2024pkg.git to commit bd3e63bfe6a50d78c955b42236511e7c90786291\n",
      "  Preparing metadata (setup.py) ... \u001b[?25l\u001b[?25hdone\n"
     ]
    }
   ],
   "source": [
    "!pip install git+https://github.com/guebin/mp2024pkg.git\n",
    "# 이걸 실행하면\n",
    "# '/usr/local/lib/python3.10/dist-packages'\n",
    "# 여기에서 mp2024pkg라는 폴더가 생김"
   ]
  },
  {
   "cell_type": "code",
   "execution_count": 38,
   "metadata": {
    "colab": {
     "base_uri": "https://localhost:8080/"
    },
    "id": "J0NhBbOiVX3J",
    "outputId": "689ba4a1-a63d-407a-eb80-0e706f49ba61"
   },
   "outputs": [
    {
     "name": "stdout",
     "output_type": "stream",
     "text": [
      "Found existing installation: mp2024pkg 1.0\n",
      "Uninstalling mp2024pkg-1.0:\n",
      "  Successfully uninstalled mp2024pkg-1.0\n"
     ]
    }
   ],
   "source": [
    "#!pip uninstall mp2024pkg -y\n",
    "# 이걸 실행하면 위에서 생긴 폴더가 삭제"
   ]
  },
  {
   "cell_type": "markdown",
   "metadata": {
    "id": "TVDUrZFEPau5"
   },
   "source": [
    "`-` 생성된 `mp2024pkg` 폴더의 내용 -- 깃허브에 있는 폴더 그대로 다운로드됨.."
   ]
  },
  {
   "cell_type": "markdown",
   "metadata": {
    "id": "u3SYD6IWPau5"
   },
   "source": [
    "`-` import"
   ]
  },
  {
   "cell_type": "code",
   "execution_count": 41,
   "metadata": {
    "id": "RKduOS7DVxxX"
   },
   "outputs": [],
   "source": [
    "import mp2024pkg"
   ]
  },
  {
   "cell_type": "markdown",
   "metadata": {
    "id": "X5fg4DgHPau5"
   },
   "source": [
    "`-` 사용"
   ]
  },
  {
   "cell_type": "code",
   "execution_count": 42,
   "metadata": {
    "colab": {
     "base_uri": "https://localhost:8080/"
    },
    "id": "X5TOMkZeV0zd",
    "outputId": "9e2693bc-d755-48c3-b368-af3f8a35f32a"
   },
   "outputs": [
    {
     "name": "stdout",
     "output_type": "stream",
     "text": [
      "Level 1 - Type: list, Length: 4, Content: [[1, 1, 1, 1, 1, 1, 1, 1, ... 'python', (1, 2, [3, 4])]\n",
      "     Level 2 - Type: list, Length: 500, Content: [1, 1, 1, 1, 1, 1, 1, 1,  ... , 1, 1, 1, 1, 1, 1, 1, 1]\n",
      "     Level 2 - Type: dict, Length: 2, Content: {'a': [2, 2, 2, 2, 2, 2,  ...  2, 2, 2, 2], 'b': '123'}\n",
      "     Level 2 - Type: str, Length: 6, Content: 'python'\n",
      "     Level 2 - Type: tuple, Length: 3, Content: (1, 2, [3, 4])\n"
     ]
    }
   ],
   "source": [
    "mp2024pkg.show_list(lst)"
   ]
  },
  {
   "cell_type": "code",
   "execution_count": 44,
   "metadata": {
    "colab": {
     "base_uri": "https://localhost:8080/"
    },
    "id": "EeG6lNdrV7Hx",
    "outputId": "d6fbf2bc-5689-4ab5-c968-7fca9c870e22"
   },
   "outputs": [
    {
     "name": "stdout",
     "output_type": "stream",
     "text": [
      "Dictionary Overview:\n",
      "Total keys: 4\n",
      "Keys: ['lst', 'tpl', 'np_array', 'torch']\n",
      "\n",
      "1. Key: 'lst'\n",
      "   - Type: list\n",
      "   - Length: 300\n",
      "   - Values: [1, 2, 3, 1, 2, 3, 1, 2, 3, 1, 2, 3, 1, 2, 3, 1, 2, 3, 1, 2, 3, 1, 2, 3, 1, 2, 3, 1, 2, 3, 1, 2, 3, ...\n",
      "\n",
      "2. Key: 'tpl'\n",
      "   - Type: tuple\n",
      "   - Length: 3\n",
      "   - Values: (2, 3, 4)\n",
      "\n",
      "3. Key: 'np_array'\n",
      "   - Type: ndarray\n",
      "   - Length: 100\n",
      "   - Values: [-7.17493471e-01  6.35787670e-01 -8.11273743e-01  1.49924972e+00\n",
      " -5.57618169e-01  7.19155061e-01  2...\n",
      "\n",
      "4. Key: 'torch'\n",
      "   - Type: Tensor\n",
      "   - Length: 1\n",
      "   - Values: tensor([1])\n",
      "\n"
     ]
    }
   ],
   "source": [
    "mp2024pkg.show_dict(dct)"
   ]
  },
  {
   "cell_type": "markdown",
   "metadata": {
    "id": "ORrw_V1tPau5"
   },
   "source": [
    "## C. 변경"
   ]
  },
  {
   "cell_type": "markdown",
   "metadata": {
    "id": "tx6CvOFTPau6"
   },
   "source": [
    "`-` `mp2024pkg` 폴더로 `show_list` 함수가 정의된 부분 변경"
   ]
  },
  {
   "cell_type": "markdown",
   "metadata": {
    "id": "5sUKO_uKWjcU"
   },
   "source": [
    "![](https://github.com/guebin/MP2024/blob/main/posts/08wk1fig.png?raw=true)"
   ]
  },
  {
   "cell_type": "code",
   "execution_count": 3,
   "metadata": {
    "colab": {
     "base_uri": "https://localhost:8080/"
    },
    "id": "FlYh5mCEWev-",
    "outputId": "16a9222b-deba-4c2c-cdf3-af5fdb1ecfb6"
   },
   "outputs": [
    {
     "name": "stdout",
     "output_type": "stream",
     "text": [
      "이거 최규빈이 만들었음 2024.11.1\n",
      "Level 1 - Type: list, Length: 3, Content: [1, 2, [3, 4]]\n",
      "     Level 2 - Type: int, Content: 1\n",
      "     Level 2 - Type: int, Content: 2\n",
      "     Level 2 - Type: list, Length: 2, Content: [3, 4]\n"
     ]
    }
   ],
   "source": [
    "mp2024pkg.show_list([1,2,[3,4]])"
   ]
  },
  {
   "cell_type": "markdown",
   "metadata": {
    "id": "5FXwQO3-Pau6"
   },
   "source": [
    "`-` 커널재시작후 다시 import"
   ]
  },
  {
   "cell_type": "code",
   "execution_count": 4,
   "metadata": {
    "id": "x8hyhGBwWx4H"
   },
   "outputs": [],
   "source": [
    "import mp2024pkg"
   ]
  },
  {
   "cell_type": "markdown",
   "metadata": {
    "id": "UQMI-q--Pau6"
   },
   "source": [
    "`-` 변경된 내용 확인"
   ]
  },
  {
   "cell_type": "code",
   "execution_count": 5,
   "metadata": {
    "colab": {
     "base_uri": "https://localhost:8080/"
    },
    "id": "vn2rdYyEW0sm",
    "outputId": "71b6bf75-c0d3-4275-f67b-5f852742fdfb"
   },
   "outputs": [
    {
     "name": "stdout",
     "output_type": "stream",
     "text": [
      "이거 최규빈이 만들었음 2024.11.1\n",
      "Level 1 - Type: list, Length: 3, Content: [1, 2, [3, 4]]\n",
      "     Level 2 - Type: int, Content: 1\n",
      "     Level 2 - Type: int, Content: 2\n",
      "     Level 2 - Type: list, Length: 2, Content: [3, 4]\n"
     ]
    }
   ],
   "source": [
    "mp2024pkg.show_list([1,2,[3,4]])"
   ]
  },
  {
   "cell_type": "markdown",
   "metadata": {
    "id": "eTaofuutPau7"
   },
   "source": [
    "## D. 로드"
   ]
  },
  {
   "cell_type": "code",
   "execution_count": null,
   "metadata": {
    "id": "peXPGzx3YbAL"
   },
   "outputs": [],
   "source": [
    "# !rm -rf /usr/local/lib/python3.10/dist-packages/mp2024pkg\n",
    "# !rm -rf /usr/local/lib/python3.10/dist-packages/mp2024pkg-1.0.dist-info"
   ]
  },
  {
   "cell_type": "code",
   "execution_count": 6,
   "metadata": {
    "id": "EOuoYbIJYhVH"
   },
   "outputs": [],
   "source": [
    "#!pip install git+https://github.com/guebin/mp2024pkg.git"
   ]
  },
  {
   "cell_type": "markdown",
   "metadata": {
    "id": "FuxXL3sdPau7"
   },
   "source": [
    "`# 예시1`"
   ]
  },
  {
   "cell_type": "code",
   "execution_count": 3,
   "metadata": {
    "id": "PgquenRVPau7"
   },
   "outputs": [],
   "source": [
    "import mp2024pkg"
   ]
  },
  {
   "cell_type": "code",
   "execution_count": 4,
   "metadata": {
    "colab": {
     "base_uri": "https://localhost:8080/"
    },
    "id": "DlHus27UXjM_",
    "outputId": "54e5d5fd-3821-42ee-bc38-dea380639cde"
   },
   "outputs": [
    {
     "name": "stdout",
     "output_type": "stream",
     "text": [
      "Dictionary Overview:\n",
      "Total keys: 2\n",
      "Keys: ['a', 'b']\n",
      "\n",
      "1. Key: 'a'\n",
      "   - Type: list\n",
      "   - Length: 3\n",
      "   - Values: [1, 2, 3]\n",
      "\n",
      "2. Key: 'b'\n",
      "   - Type: list\n",
      "   - Length: 3\n",
      "   - Values: [2, 3, 4]\n",
      "\n"
     ]
    }
   ],
   "source": [
    "mp2024pkg.show_dict({'a':[1,2,3],'b':[2,3,4]})"
   ]
  },
  {
   "cell_type": "code",
   "execution_count": 5,
   "metadata": {
    "colab": {
     "base_uri": "https://localhost:8080/"
    },
    "id": "9RD7qc9nXro2",
    "outputId": "e87ef123-662a-4f7c-d3f7-05774fe95b67"
   },
   "outputs": [
    {
     "name": "stdout",
     "output_type": "stream",
     "text": [
      "Level 1 - Type: list, Length: 2, Content: [[1], [1, 2]]\n",
      "     Level 2 - Type: list, Length: 1, Content: [1]\n",
      "     Level 2 - Type: list, Length: 2, Content: [1, 2]\n"
     ]
    }
   ],
   "source": [
    "mp2024pkg.show_list([[1],[1,2]])"
   ]
  },
  {
   "cell_type": "code",
   "execution_count": 7,
   "metadata": {
    "colab": {
     "base_uri": "https://localhost:8080/",
     "height": 144
    },
    "id": "w4lHTvP6Y2Oa",
    "outputId": "12fbcede-6875-4ee5-a1e8-e11e68198929"
   },
   "outputs": [
    {
     "ename": "NameError",
     "evalue": "name 'show_list' is not defined",
     "output_type": "error",
     "traceback": [
      "\u001b[0;31m---------------------------------------------------------------------------\u001b[0m",
      "\u001b[0;31mNameError\u001b[0m                                 Traceback (most recent call last)",
      "\u001b[0;32m<ipython-input-7-2ed6a6ba99b5>\u001b[0m in \u001b[0;36m<cell line: 1>\u001b[0;34m()\u001b[0m\n\u001b[0;32m----> 1\u001b[0;31m \u001b[0mshow_list\u001b[0m\u001b[0;34m(\u001b[0m\u001b[0;34m[\u001b[0m\u001b[0;34m[\u001b[0m\u001b[0;36m1\u001b[0m\u001b[0;34m]\u001b[0m\u001b[0;34m,\u001b[0m\u001b[0;34m[\u001b[0m\u001b[0;36m1\u001b[0m\u001b[0;34m,\u001b[0m\u001b[0;36m2\u001b[0m\u001b[0;34m]\u001b[0m\u001b[0;34m]\u001b[0m\u001b[0;34m)\u001b[0m\u001b[0;34m\u001b[0m\u001b[0;34m\u001b[0m\u001b[0m\n\u001b[0m",
      "\u001b[0;31mNameError\u001b[0m: name 'show_list' is not defined"
     ]
    }
   ],
   "source": [
    "show_list([[1],[1,2]])"
   ]
  },
  {
   "cell_type": "markdown",
   "metadata": {
    "id": "sxT97pZWPau7"
   },
   "source": [
    "`#`"
   ]
  },
  {
   "cell_type": "markdown",
   "metadata": {
    "id": "8L2X8akQPau7"
   },
   "source": [
    "`# 예시2`"
   ]
  },
  {
   "cell_type": "code",
   "execution_count": 3,
   "metadata": {
    "id": "D_J-08MEPau8"
   },
   "outputs": [],
   "source": [
    "from mp2024pkg import show_list"
   ]
  },
  {
   "cell_type": "code",
   "execution_count": 4,
   "metadata": {
    "colab": {
     "base_uri": "https://localhost:8080/",
     "height": 144
    },
    "id": "sqUoU68TZN6-",
    "outputId": "35c67d67-7d30-4203-937d-91606443118c"
   },
   "outputs": [
    {
     "ename": "NameError",
     "evalue": "name 'mp2024pkg' is not defined",
     "output_type": "error",
     "traceback": [
      "\u001b[0;31m---------------------------------------------------------------------------\u001b[0m",
      "\u001b[0;31mNameError\u001b[0m                                 Traceback (most recent call last)",
      "\u001b[0;32m<ipython-input-4-3f1de8d730f9>\u001b[0m in \u001b[0;36m<cell line: 1>\u001b[0;34m()\u001b[0m\n\u001b[0;32m----> 1\u001b[0;31m \u001b[0mmp2024pkg\u001b[0m\u001b[0;34m.\u001b[0m\u001b[0mshow_list\u001b[0m\u001b[0;34m(\u001b[0m\u001b[0;34m[\u001b[0m\u001b[0;34m[\u001b[0m\u001b[0;36m1\u001b[0m\u001b[0;34m]\u001b[0m\u001b[0;34m,\u001b[0m\u001b[0;34m[\u001b[0m\u001b[0;36m1\u001b[0m\u001b[0;34m,\u001b[0m\u001b[0;36m2\u001b[0m\u001b[0;34m]\u001b[0m\u001b[0;34m]\u001b[0m\u001b[0;34m)\u001b[0m\u001b[0;34m\u001b[0m\u001b[0;34m\u001b[0m\u001b[0m\n\u001b[0m",
      "\u001b[0;31mNameError\u001b[0m: name 'mp2024pkg' is not defined"
     ]
    }
   ],
   "source": [
    "mp2024pkg.show_list([[1],[1,2]])"
   ]
  },
  {
   "cell_type": "code",
   "execution_count": 5,
   "metadata": {
    "colab": {
     "base_uri": "https://localhost:8080/"
    },
    "id": "QOXWqVtZZTKO",
    "outputId": "d4b3c093-574a-4a0b-cc07-e825c5d1b224"
   },
   "outputs": [
    {
     "name": "stdout",
     "output_type": "stream",
     "text": [
      "Level 1 - Type: list, Length: 2, Content: [[1], [1, 2]]\n",
      "     Level 2 - Type: list, Length: 1, Content: [1]\n",
      "     Level 2 - Type: list, Length: 2, Content: [1, 2]\n"
     ]
    }
   ],
   "source": [
    "show_list([[1],[1,2]])"
   ]
  },
  {
   "cell_type": "markdown",
   "metadata": {
    "id": "eR8-RqQVPau8"
   },
   "source": [
    "`#`"
   ]
  },
  {
   "cell_type": "markdown",
   "metadata": {
    "id": "FpwJEZxnPau8"
   },
   "source": [
    "`# 예시3`"
   ]
  },
  {
   "cell_type": "code",
   "execution_count": 4,
   "metadata": {
    "id": "eGnxLoTNPavC"
   },
   "outputs": [],
   "source": [
    "import mp2024pkg as mp"
   ]
  },
  {
   "cell_type": "code",
   "execution_count": 5,
   "metadata": {
    "colab": {
     "base_uri": "https://localhost:8080/",
     "height": 144
    },
    "id": "ZHYAdwjIZiSx",
    "outputId": "96419e4e-fd70-48b9-ed03-010e67079e72"
   },
   "outputs": [
    {
     "ename": "NameError",
     "evalue": "name 'mp2024pkg' is not defined",
     "output_type": "error",
     "traceback": [
      "\u001b[0;31m---------------------------------------------------------------------------\u001b[0m",
      "\u001b[0;31mNameError\u001b[0m                                 Traceback (most recent call last)",
      "\u001b[0;32m<ipython-input-5-3f1de8d730f9>\u001b[0m in \u001b[0;36m<cell line: 1>\u001b[0;34m()\u001b[0m\n\u001b[0;32m----> 1\u001b[0;31m \u001b[0mmp2024pkg\u001b[0m\u001b[0;34m.\u001b[0m\u001b[0mshow_list\u001b[0m\u001b[0;34m(\u001b[0m\u001b[0;34m[\u001b[0m\u001b[0;34m[\u001b[0m\u001b[0;36m1\u001b[0m\u001b[0;34m]\u001b[0m\u001b[0;34m,\u001b[0m\u001b[0;34m[\u001b[0m\u001b[0;36m1\u001b[0m\u001b[0;34m,\u001b[0m\u001b[0;36m2\u001b[0m\u001b[0;34m]\u001b[0m\u001b[0;34m]\u001b[0m\u001b[0;34m)\u001b[0m\u001b[0;34m\u001b[0m\u001b[0;34m\u001b[0m\u001b[0m\n\u001b[0m",
      "\u001b[0;31mNameError\u001b[0m: name 'mp2024pkg' is not defined"
     ]
    }
   ],
   "source": [
    "mp2024pkg.show_list([[1],[1,2]])"
   ]
  },
  {
   "cell_type": "code",
   "execution_count": 6,
   "metadata": {
    "colab": {
     "base_uri": "https://localhost:8080/",
     "height": 144
    },
    "id": "ZBAuYXVLZjnJ",
    "outputId": "94504c92-7238-4f83-c034-be763cfdb496"
   },
   "outputs": [
    {
     "ename": "NameError",
     "evalue": "name 'show_list' is not defined",
     "output_type": "error",
     "traceback": [
      "\u001b[0;31m---------------------------------------------------------------------------\u001b[0m",
      "\u001b[0;31mNameError\u001b[0m                                 Traceback (most recent call last)",
      "\u001b[0;32m<ipython-input-6-2ed6a6ba99b5>\u001b[0m in \u001b[0;36m<cell line: 1>\u001b[0;34m()\u001b[0m\n\u001b[0;32m----> 1\u001b[0;31m \u001b[0mshow_list\u001b[0m\u001b[0;34m(\u001b[0m\u001b[0;34m[\u001b[0m\u001b[0;34m[\u001b[0m\u001b[0;36m1\u001b[0m\u001b[0;34m]\u001b[0m\u001b[0;34m,\u001b[0m\u001b[0;34m[\u001b[0m\u001b[0;36m1\u001b[0m\u001b[0;34m,\u001b[0m\u001b[0;36m2\u001b[0m\u001b[0;34m]\u001b[0m\u001b[0;34m]\u001b[0m\u001b[0;34m)\u001b[0m\u001b[0;34m\u001b[0m\u001b[0;34m\u001b[0m\u001b[0m\n\u001b[0m",
      "\u001b[0;31mNameError\u001b[0m: name 'show_list' is not defined"
     ]
    }
   ],
   "source": [
    "show_list([[1],[1,2]])"
   ]
  },
  {
   "cell_type": "code",
   "execution_count": 7,
   "metadata": {
    "colab": {
     "base_uri": "https://localhost:8080/"
    },
    "id": "LR8n6ht0ZpHF",
    "outputId": "a8bed828-9479-4e0c-834d-8918941518d8"
   },
   "outputs": [
    {
     "name": "stdout",
     "output_type": "stream",
     "text": [
      "Dictionary Overview:\n",
      "Total keys: 2\n",
      "Keys: ['a', 'b']\n",
      "\n",
      "1. Key: 'a'\n",
      "   - Type: list\n",
      "   - Length: 3\n",
      "   - Values: [1, 2, 3]\n",
      "\n",
      "2. Key: 'b'\n",
      "   - Type: list\n",
      "   - Length: 3\n",
      "   - Values: [2, 3, 4]\n",
      "\n"
     ]
    }
   ],
   "source": [
    "mp.show_dict({'a':[1,2,3],'b':[2,3,4]})"
   ]
  },
  {
   "cell_type": "code",
   "execution_count": 8,
   "metadata": {
    "colab": {
     "base_uri": "https://localhost:8080/"
    },
    "id": "5mvZUvolZt7E",
    "outputId": "5f1aafc7-8be6-4c27-b779-4247219fd9d4"
   },
   "outputs": [
    {
     "name": "stdout",
     "output_type": "stream",
     "text": [
      "Level 1 - Type: list, Length: 2, Content: [[1], [1, 2]]\n",
      "     Level 2 - Type: list, Length: 1, Content: [1]\n",
      "     Level 2 - Type: list, Length: 2, Content: [1, 2]\n"
     ]
    }
   ],
   "source": [
    "mp.show_list([[1],[1,2]])"
   ]
  },
  {
   "cell_type": "markdown",
   "metadata": {
    "id": "sHrcVuYuPavD"
   },
   "source": [
    "`#`"
   ]
  },
  {
   "cell_type": "markdown",
   "metadata": {
    "id": "1Qz_LsmKPavD"
   },
   "source": [
    "`# 예시5`"
   ]
  },
  {
   "cell_type": "code",
   "execution_count": 1,
   "metadata": {
    "id": "Md12Ty3vPavD"
   },
   "outputs": [],
   "source": [
    "from mp2024pkg import *"
   ]
  },
  {
   "cell_type": "code",
   "execution_count": 2,
   "metadata": {
    "colab": {
     "base_uri": "https://localhost:8080/"
    },
    "id": "w0_pVyFhZ_S7",
    "outputId": "fd3a3e47-d4a7-4b98-ae56-47d2ab3ed7c5"
   },
   "outputs": [
    {
     "name": "stdout",
     "output_type": "stream",
     "text": [
      "Dictionary Overview:\n",
      "Total keys: 2\n",
      "Keys: ['a', 'b']\n",
      "\n",
      "1. Key: 'a'\n",
      "   - Type: list\n",
      "   - Length: 3\n",
      "   - Values: [1, 2, 3]\n",
      "\n",
      "2. Key: 'b'\n",
      "   - Type: list\n",
      "   - Length: 3\n",
      "   - Values: [2, 3, 4]\n",
      "\n"
     ]
    }
   ],
   "source": [
    "show_dict({'a':[1,2,3],'b':[2,3,4]})"
   ]
  },
  {
   "cell_type": "code",
   "execution_count": 3,
   "metadata": {
    "colab": {
     "base_uri": "https://localhost:8080/"
    },
    "id": "WkUgN6tiaDEh",
    "outputId": "0c3dbf09-8bba-4607-bf15-49cee8e3382a"
   },
   "outputs": [
    {
     "name": "stdout",
     "output_type": "stream",
     "text": [
      "Level 1 - Type: list, Length: 2, Content: [[1], [1, 2]]\n",
      "     Level 2 - Type: list, Length: 1, Content: [1]\n",
      "     Level 2 - Type: list, Length: 2, Content: [1, 2]\n"
     ]
    }
   ],
   "source": [
    "show_list([[1],[1,2]])"
   ]
  },
  {
   "cell_type": "markdown",
   "metadata": {
    "id": "X2r7nsb-PavH"
   },
   "source": [
    "`#`"
   ]
  },
  {
   "cell_type": "markdown",
   "metadata": {
    "id": "BP4IMMjxPavH"
   },
   "source": [
    "`# 예시6`"
   ]
  },
  {
   "cell_type": "code",
   "execution_count": 1,
   "metadata": {
    "id": "8TCAEYluPavH"
   },
   "outputs": [],
   "source": [
    "from mp2024pkg import show_dict as sd"
   ]
  },
  {
   "cell_type": "code",
   "execution_count": 3,
   "metadata": {
    "colab": {
     "base_uri": "https://localhost:8080/"
    },
    "id": "PpKHjE6saYnu",
    "outputId": "4bb0dd6f-7d4b-40ba-b4ee-baad26a6cf43"
   },
   "outputs": [
    {
     "name": "stdout",
     "output_type": "stream",
     "text": [
      "Dictionary Overview:\n",
      "Total keys: 2\n",
      "Keys: ['a', 'b']\n",
      "\n",
      "1. Key: 'a'\n",
      "   - Type: list\n",
      "   - Length: 3\n",
      "   - Values: [1, 2, 3]\n",
      "\n",
      "2. Key: 'b'\n",
      "   - Type: list\n",
      "   - Length: 3\n",
      "   - Values: [2, 3, 4]\n",
      "\n"
     ]
    }
   ],
   "source": [
    "sd({'a':[1,2,3],'b':[2,3,4]})"
   ]
  },
  {
   "cell_type": "markdown",
   "metadata": {
    "id": "8QqbWI_DPavI"
   },
   "source": [
    "`#`"
   ]
  },
  {
   "cell_type": "markdown",
   "metadata": {
    "id": "ihkDcifVPavI"
   },
   "source": [
    "`# 예시7`"
   ]
  },
  {
   "cell_type": "code",
   "execution_count": 1,
   "metadata": {
    "id": "sfV6_70UPavI"
   },
   "outputs": [],
   "source": [
    "from mp2024pkg import show_dict as sd\n",
    "import mp2024pkg"
   ]
  },
  {
   "cell_type": "code",
   "execution_count": 2,
   "metadata": {
    "colab": {
     "base_uri": "https://localhost:8080/"
    },
    "id": "i235wRKHao7c",
    "outputId": "bf20eb10-b1af-48a2-8aef-d0f87797280f"
   },
   "outputs": [
    {
     "name": "stdout",
     "output_type": "stream",
     "text": [
      "Dictionary Overview:\n",
      "Total keys: 2\n",
      "Keys: ['a', 'b']\n",
      "\n",
      "1. Key: 'a'\n",
      "   - Type: list\n",
      "   - Length: 3\n",
      "   - Values: [1, 2, 3]\n",
      "\n",
      "2. Key: 'b'\n",
      "   - Type: list\n",
      "   - Length: 3\n",
      "   - Values: [2, 3, 4]\n",
      "\n"
     ]
    }
   ],
   "source": [
    "sd({'a':[1,2,3],'b':[2,3,4]})"
   ]
  },
  {
   "cell_type": "code",
   "execution_count": 3,
   "metadata": {
    "colab": {
     "base_uri": "https://localhost:8080/"
    },
    "id": "a1rXMOvlaq92",
    "outputId": "14f05436-f5ee-4b9f-af85-fab644b57bc5"
   },
   "outputs": [
    {
     "name": "stdout",
     "output_type": "stream",
     "text": [
      "Dictionary Overview:\n",
      "Total keys: 2\n",
      "Keys: ['a', 'b']\n",
      "\n",
      "1. Key: 'a'\n",
      "   - Type: list\n",
      "   - Length: 3\n",
      "   - Values: [1, 2, 3]\n",
      "\n",
      "2. Key: 'b'\n",
      "   - Type: list\n",
      "   - Length: 3\n",
      "   - Values: [2, 3, 4]\n",
      "\n"
     ]
    }
   ],
   "source": [
    "mp2024pkg.show_dict({'a':[1,2,3],'b':[2,3,4]})"
   ]
  },
  {
   "cell_type": "code",
   "execution_count": 4,
   "metadata": {
    "colab": {
     "base_uri": "https://localhost:8080/"
    },
    "id": "vK-i6YV0ayoo",
    "outputId": "8f05c047-0fd4-44d7-8aad-31321f9b6c9c"
   },
   "outputs": [
    {
     "name": "stdout",
     "output_type": "stream",
     "text": [
      "Level 1 - Type: list, Length: 3, Content: [1, 2, [3]]\n",
      "     Level 2 - Type: int, Content: 1\n",
      "     Level 2 - Type: int, Content: 2\n",
      "     Level 2 - Type: list, Length: 1, Content: [3]\n"
     ]
    }
   ],
   "source": [
    "mp2024pkg.show_list([1,2,[3]])"
   ]
  },
  {
   "cell_type": "markdown",
   "metadata": {
    "id": "hFMSkbJrPavI"
   },
   "source": [
    "`#`"
   ]
  },
  {
   "cell_type": "markdown",
   "metadata": {
    "id": "23AD11f7PavI"
   },
   "source": [
    "# 4. 모듈, 패키지, 라이브러리??"
   ]
  },
  {
   "cell_type": "markdown",
   "metadata": {
    "id": "gPfr44UcPavI"
   },
   "source": [
    "`-` 모듈은 import를 하여 생기게 되는 오브젝트를 의미한다."
   ]
  },
  {
   "cell_type": "code",
   "execution_count": 5,
   "metadata": {
    "colab": {
     "base_uri": "https://localhost:8080/"
    },
    "id": "rlsxgH60PavJ",
    "outputId": "7cb67286-dd2d-4189-c73d-a9be33afc064"
   },
   "outputs": [
    {
     "data": {
      "text/plain": [
       "module"
      ]
     },
     "execution_count": 5,
     "metadata": {},
     "output_type": "execute_result"
    }
   ],
   "source": [
    "import numpy as np\n",
    "type(np)"
   ]
  },
  {
   "cell_type": "markdown",
   "metadata": {
    "id": "NcJBr9tbPavJ"
   },
   "source": [
    "`-` 컴퓨터공학과 교수님들: 모듈이 모이면 패키지라고 부른다. 그리고 라이브러리는 패키지보다 큰 개념이다."
   ]
  },
  {
   "cell_type": "markdown",
   "metadata": {
    "id": "PLcMWCzXPavJ"
   },
   "source": [
    "`-` 그런데 구분이 모호하다.\n",
    "\n",
    "- `np`의 type은 모듈이라고 나옴..\n",
    "- 그런데 numpy package 라고 검색하면 검색가능함.\n",
    "- 심지어 numpy library 라고 검색해도 검색가능하다."
   ]
  },
  {
   "cell_type": "markdown",
   "metadata": {
    "id": "a0CnD_zRPavJ"
   },
   "source": [
    "`-` 제 생각: 넘파이모듈, 넘파이패키지, 넘파이라이브러리 다 맞는 말임.."
   ]
  }
 ],
 "metadata": {
  "colab": {
   "provenance": []
  },
  "kernelspec": {
   "display_name": "hf",
   "language": "python",
   "name": "python3"
  },
  "language_info": {
   "codemirror_mode": {
    "name": "ipython",
    "version": 3
   },
   "file_extension": ".py",
   "mimetype": "text/x-python",
   "name": "python",
   "nbconvert_exporter": "python",
   "pygments_lexer": "ipython3",
   "version": "3.12.2"
  },
  "widgets": {
   "application/vnd.jupyter.widget-state+json": {
    "09eb25cdc16d47d4ba9f44e1e5a0c1fa": {
     "model_module": "@jupyter-widgets/controls",
     "model_module_version": "1.5.0",
     "model_name": "DescriptionStyleModel",
     "state": {
      "_model_module": "@jupyter-widgets/controls",
      "_model_module_version": "1.5.0",
      "_model_name": "DescriptionStyleModel",
      "_view_count": null,
      "_view_module": "@jupyter-widgets/base",
      "_view_module_version": "1.2.0",
      "_view_name": "StyleView",
      "description_width": ""
     }
    },
    "0adfbe709c8f4387ba97a5b70f979aad": {
     "model_module": "@jupyter-widgets/controls",
     "model_module_version": "1.5.0",
     "model_name": "FloatProgressModel",
     "state": {
      "_dom_classes": [],
      "_model_module": "@jupyter-widgets/controls",
      "_model_module_version": "1.5.0",
      "_model_name": "FloatProgressModel",
      "_view_count": null,
      "_view_module": "@jupyter-widgets/controls",
      "_view_module_version": "1.5.0",
      "_view_name": "ProgressView",
      "bar_style": "success",
      "description": "",
      "description_tooltip": null,
      "layout": "IPY_MODEL_85e230e8943a46d4a5d81fa51879f894",
      "max": 25000,
      "min": 0,
      "orientation": "horizontal",
      "style": "IPY_MODEL_e1446e4805344697a3a50591b22c8e27",
      "value": 25000
     }
    },
    "0c75c35668604f3f937183814921bda4": {
     "model_module": "@jupyter-widgets/controls",
     "model_module_version": "1.5.0",
     "model_name": "HBoxModel",
     "state": {
      "_dom_classes": [],
      "_model_module": "@jupyter-widgets/controls",
      "_model_module_version": "1.5.0",
      "_model_name": "HBoxModel",
      "_view_count": null,
      "_view_module": "@jupyter-widgets/controls",
      "_view_module_version": "1.5.0",
      "_view_name": "HBoxView",
      "box_style": "",
      "children": [
       "IPY_MODEL_e0b69abf691847098e0e23682a8b934c",
       "IPY_MODEL_0adfbe709c8f4387ba97a5b70f979aad",
       "IPY_MODEL_132d44e1ae014352b200c6cb4d36e04f"
      ],
      "layout": "IPY_MODEL_48b5faeeed274a47a40908252eb122c7"
     }
    },
    "0ce52981d2d54887be27611a1c438c8e": {
     "model_module": "@jupyter-widgets/controls",
     "model_module_version": "1.5.0",
     "model_name": "HTMLModel",
     "state": {
      "_dom_classes": [],
      "_model_module": "@jupyter-widgets/controls",
      "_model_module_version": "1.5.0",
      "_model_name": "HTMLModel",
      "_view_count": null,
      "_view_module": "@jupyter-widgets/controls",
      "_view_module_version": "1.5.0",
      "_view_name": "HTMLView",
      "description": "",
      "description_tooltip": null,
      "layout": "IPY_MODEL_d22a4d5fe2c54e709bb2a222808d071e",
      "placeholder": "​",
      "style": "IPY_MODEL_fe2f7790349141ee95c2b0eeb9947842",
      "value": " 25000/25000 [00:00&lt;00:00, 64944.74 examples/s]"
     }
    },
    "106a11cca9c249b483c1e6d0ab611de7": {
     "model_module": "@jupyter-widgets/controls",
     "model_module_version": "1.5.0",
     "model_name": "HBoxModel",
     "state": {
      "_dom_classes": [],
      "_model_module": "@jupyter-widgets/controls",
      "_model_module_version": "1.5.0",
      "_model_name": "HBoxModel",
      "_view_count": null,
      "_view_module": "@jupyter-widgets/controls",
      "_view_module_version": "1.5.0",
      "_view_name": "HBoxView",
      "box_style": "",
      "children": [
       "IPY_MODEL_d2a7fb18a54a4ef5a4c480d79879617a",
       "IPY_MODEL_bb89a6ac43fd4337b64fbea290baa62a",
       "IPY_MODEL_240b34e4c81a48dca8b9ac0ff7fc260d"
      ],
      "layout": "IPY_MODEL_bb75aa4d957f49c4911e80cf359aa92b"
     }
    },
    "10dce93270594aeab2abe5287a0a7fff": {
     "model_module": "@jupyter-widgets/base",
     "model_module_version": "1.2.0",
     "model_name": "LayoutModel",
     "state": {
      "_model_module": "@jupyter-widgets/base",
      "_model_module_version": "1.2.0",
      "_model_name": "LayoutModel",
      "_view_count": null,
      "_view_module": "@jupyter-widgets/base",
      "_view_module_version": "1.2.0",
      "_view_name": "LayoutView",
      "align_content": null,
      "align_items": null,
      "align_self": null,
      "border": null,
      "bottom": null,
      "display": null,
      "flex": null,
      "flex_flow": null,
      "grid_area": null,
      "grid_auto_columns": null,
      "grid_auto_flow": null,
      "grid_auto_rows": null,
      "grid_column": null,
      "grid_gap": null,
      "grid_row": null,
      "grid_template_areas": null,
      "grid_template_columns": null,
      "grid_template_rows": null,
      "height": null,
      "justify_content": null,
      "justify_items": null,
      "left": null,
      "margin": null,
      "max_height": null,
      "max_width": null,
      "min_height": null,
      "min_width": null,
      "object_fit": null,
      "object_position": null,
      "order": null,
      "overflow": null,
      "overflow_x": null,
      "overflow_y": null,
      "padding": null,
      "right": null,
      "top": null,
      "visibility": null,
      "width": null
     }
    },
    "132d44e1ae014352b200c6cb4d36e04f": {
     "model_module": "@jupyter-widgets/controls",
     "model_module_version": "1.5.0",
     "model_name": "HTMLModel",
     "state": {
      "_dom_classes": [],
      "_model_module": "@jupyter-widgets/controls",
      "_model_module_version": "1.5.0",
      "_model_name": "HTMLModel",
      "_view_count": null,
      "_view_module": "@jupyter-widgets/controls",
      "_view_module_version": "1.5.0",
      "_view_name": "HTMLView",
      "description": "",
      "description_tooltip": null,
      "layout": "IPY_MODEL_94dbd7deebe04e5db80b6f025e5fdc0d",
      "placeholder": "​",
      "style": "IPY_MODEL_41fe17be32b24826a7905c9e0b43ccb8",
      "value": " 25000/25000 [00:00&lt;00:00, 50886.17 examples/s]"
     }
    },
    "136ee3385da14d36a37596570b54a96b": {
     "model_module": "@jupyter-widgets/controls",
     "model_module_version": "1.5.0",
     "model_name": "HTMLModel",
     "state": {
      "_dom_classes": [],
      "_model_module": "@jupyter-widgets/controls",
      "_model_module_version": "1.5.0",
      "_model_name": "HTMLModel",
      "_view_count": null,
      "_view_module": "@jupyter-widgets/controls",
      "_view_module_version": "1.5.0",
      "_view_name": "HTMLView",
      "description": "",
      "description_tooltip": null,
      "layout": "IPY_MODEL_f2a90ac48163423c996899515ef5846c",
      "placeholder": "​",
      "style": "IPY_MODEL_bca2a2131bfc409290cba92a414d3331",
      "value": "train-00000-of-00001.parquet: 100%"
     }
    },
    "1457a1ca4e774f9bb0228ff3f6c475d6": {
     "model_module": "@jupyter-widgets/controls",
     "model_module_version": "1.5.0",
     "model_name": "HTMLModel",
     "state": {
      "_dom_classes": [],
      "_model_module": "@jupyter-widgets/controls",
      "_model_module_version": "1.5.0",
      "_model_name": "HTMLModel",
      "_view_count": null,
      "_view_module": "@jupyter-widgets/controls",
      "_view_module_version": "1.5.0",
      "_view_name": "HTMLView",
      "description": "",
      "description_tooltip": null,
      "layout": "IPY_MODEL_353b053c691c480fabdc6289f23de971",
      "placeholder": "​",
      "style": "IPY_MODEL_a7881397adb5445380b8c5e61221bdfa",
      "value": " 42.0M/42.0M [00:00&lt;00:00, 144MB/s]"
     }
    },
    "1b5a1a0c73dc4069aeaa92ff8e9181fb": {
     "model_module": "@jupyter-widgets/controls",
     "model_module_version": "1.5.0",
     "model_name": "DescriptionStyleModel",
     "state": {
      "_model_module": "@jupyter-widgets/controls",
      "_model_module_version": "1.5.0",
      "_model_name": "DescriptionStyleModel",
      "_view_count": null,
      "_view_module": "@jupyter-widgets/base",
      "_view_module_version": "1.2.0",
      "_view_name": "StyleView",
      "description_width": ""
     }
    },
    "240b34e4c81a48dca8b9ac0ff7fc260d": {
     "model_module": "@jupyter-widgets/controls",
     "model_module_version": "1.5.0",
     "model_name": "HTMLModel",
     "state": {
      "_dom_classes": [],
      "_model_module": "@jupyter-widgets/controls",
      "_model_module_version": "1.5.0",
      "_model_name": "HTMLModel",
      "_view_count": null,
      "_view_module": "@jupyter-widgets/controls",
      "_view_module_version": "1.5.0",
      "_view_name": "HTMLView",
      "description": "",
      "description_tooltip": null,
      "layout": "IPY_MODEL_8655909e4af14462bc8df7a8f06160d0",
      "placeholder": "​",
      "style": "IPY_MODEL_6c233719f75641b18c5a2ffa2edeb477",
      "value": " 20.5M/20.5M [00:00&lt;00:00, 155MB/s]"
     }
    },
    "2cc8d7d3cb9446abbe4185c0789f5e28": {
     "model_module": "@jupyter-widgets/base",
     "model_module_version": "1.2.0",
     "model_name": "LayoutModel",
     "state": {
      "_model_module": "@jupyter-widgets/base",
      "_model_module_version": "1.2.0",
      "_model_name": "LayoutModel",
      "_view_count": null,
      "_view_module": "@jupyter-widgets/base",
      "_view_module_version": "1.2.0",
      "_view_name": "LayoutView",
      "align_content": null,
      "align_items": null,
      "align_self": null,
      "border": null,
      "bottom": null,
      "display": null,
      "flex": null,
      "flex_flow": null,
      "grid_area": null,
      "grid_auto_columns": null,
      "grid_auto_flow": null,
      "grid_auto_rows": null,
      "grid_column": null,
      "grid_gap": null,
      "grid_row": null,
      "grid_template_areas": null,
      "grid_template_columns": null,
      "grid_template_rows": null,
      "height": null,
      "justify_content": null,
      "justify_items": null,
      "left": null,
      "margin": null,
      "max_height": null,
      "max_width": null,
      "min_height": null,
      "min_width": null,
      "object_fit": null,
      "object_position": null,
      "order": null,
      "overflow": null,
      "overflow_x": null,
      "overflow_y": null,
      "padding": null,
      "right": null,
      "top": null,
      "visibility": null,
      "width": null
     }
    },
    "2d38ff9280b447dda9eb80fae8d725d5": {
     "model_module": "@jupyter-widgets/controls",
     "model_module_version": "1.5.0",
     "model_name": "HTMLModel",
     "state": {
      "_dom_classes": [],
      "_model_module": "@jupyter-widgets/controls",
      "_model_module_version": "1.5.0",
      "_model_name": "HTMLModel",
      "_view_count": null,
      "_view_module": "@jupyter-widgets/controls",
      "_view_module_version": "1.5.0",
      "_view_name": "HTMLView",
      "description": "",
      "description_tooltip": null,
      "layout": "IPY_MODEL_44f3a12c74b24710b29d44fc8628ea62",
      "placeholder": "​",
      "style": "IPY_MODEL_1b5a1a0c73dc4069aeaa92ff8e9181fb",
      "value": "Generating test split: 100%"
     }
    },
    "3164ca02b0f2479a8bd72fc675effff6": {
     "model_module": "@jupyter-widgets/controls",
     "model_module_version": "1.5.0",
     "model_name": "FloatProgressModel",
     "state": {
      "_dom_classes": [],
      "_model_module": "@jupyter-widgets/controls",
      "_model_module_version": "1.5.0",
      "_model_name": "FloatProgressModel",
      "_view_count": null,
      "_view_module": "@jupyter-widgets/controls",
      "_view_module_version": "1.5.0",
      "_view_name": "ProgressView",
      "bar_style": "success",
      "description": "",
      "description_tooltip": null,
      "layout": "IPY_MODEL_fdb4470f239e4cad8fd9dc68b0b77c99",
      "max": 7809,
      "min": 0,
      "orientation": "horizontal",
      "style": "IPY_MODEL_c812eb36428d4ed5ae1adba77ef81d04",
      "value": 7809
     }
    },
    "353b053c691c480fabdc6289f23de971": {
     "model_module": "@jupyter-widgets/base",
     "model_module_version": "1.2.0",
     "model_name": "LayoutModel",
     "state": {
      "_model_module": "@jupyter-widgets/base",
      "_model_module_version": "1.2.0",
      "_model_name": "LayoutModel",
      "_view_count": null,
      "_view_module": "@jupyter-widgets/base",
      "_view_module_version": "1.2.0",
      "_view_name": "LayoutView",
      "align_content": null,
      "align_items": null,
      "align_self": null,
      "border": null,
      "bottom": null,
      "display": null,
      "flex": null,
      "flex_flow": null,
      "grid_area": null,
      "grid_auto_columns": null,
      "grid_auto_flow": null,
      "grid_auto_rows": null,
      "grid_column": null,
      "grid_gap": null,
      "grid_row": null,
      "grid_template_areas": null,
      "grid_template_columns": null,
      "grid_template_rows": null,
      "height": null,
      "justify_content": null,
      "justify_items": null,
      "left": null,
      "margin": null,
      "max_height": null,
      "max_width": null,
      "min_height": null,
      "min_width": null,
      "object_fit": null,
      "object_position": null,
      "order": null,
      "overflow": null,
      "overflow_x": null,
      "overflow_y": null,
      "padding": null,
      "right": null,
      "top": null,
      "visibility": null,
      "width": null
     }
    },
    "375bd5f0c9494f9292ed67c08e523492": {
     "model_module": "@jupyter-widgets/controls",
     "model_module_version": "1.5.0",
     "model_name": "ProgressStyleModel",
     "state": {
      "_model_module": "@jupyter-widgets/controls",
      "_model_module_version": "1.5.0",
      "_model_name": "ProgressStyleModel",
      "_view_count": null,
      "_view_module": "@jupyter-widgets/base",
      "_view_module_version": "1.2.0",
      "_view_name": "StyleView",
      "bar_color": null,
      "description_width": ""
     }
    },
    "3da7e7588bfa483c9a485eaaf7237daa": {
     "model_module": "@jupyter-widgets/controls",
     "model_module_version": "1.5.0",
     "model_name": "HBoxModel",
     "state": {
      "_dom_classes": [],
      "_model_module": "@jupyter-widgets/controls",
      "_model_module_version": "1.5.0",
      "_model_name": "HBoxModel",
      "_view_count": null,
      "_view_module": "@jupyter-widgets/controls",
      "_view_module_version": "1.5.0",
      "_view_name": "HBoxView",
      "box_style": "",
      "children": [
       "IPY_MODEL_cda00957443e46b3a07e9cd0cd6a24f3",
       "IPY_MODEL_3fa139febcab4ca7963fd1165b26d2fd",
       "IPY_MODEL_1457a1ca4e774f9bb0228ff3f6c475d6"
      ],
      "layout": "IPY_MODEL_ea11d99dd30346c4b33682983faeba65"
     }
    },
    "3db9ca292d0f4012845296d950548e5b": {
     "model_module": "@jupyter-widgets/controls",
     "model_module_version": "1.5.0",
     "model_name": "FloatProgressModel",
     "state": {
      "_dom_classes": [],
      "_model_module": "@jupyter-widgets/controls",
      "_model_module_version": "1.5.0",
      "_model_name": "FloatProgressModel",
      "_view_count": null,
      "_view_module": "@jupyter-widgets/controls",
      "_view_module_version": "1.5.0",
      "_view_name": "ProgressView",
      "bar_style": "success",
      "description": "",
      "description_tooltip": null,
      "layout": "IPY_MODEL_2cc8d7d3cb9446abbe4185c0789f5e28",
      "max": 50000,
      "min": 0,
      "orientation": "horizontal",
      "style": "IPY_MODEL_bbc982e952814c41abee1546ca7d2884",
      "value": 50000
     }
    },
    "3ee32b6e3acf413e95d22a422ef71701": {
     "model_module": "@jupyter-widgets/base",
     "model_module_version": "1.2.0",
     "model_name": "LayoutModel",
     "state": {
      "_model_module": "@jupyter-widgets/base",
      "_model_module_version": "1.2.0",
      "_model_name": "LayoutModel",
      "_view_count": null,
      "_view_module": "@jupyter-widgets/base",
      "_view_module_version": "1.2.0",
      "_view_name": "LayoutView",
      "align_content": null,
      "align_items": null,
      "align_self": null,
      "border": null,
      "bottom": null,
      "display": null,
      "flex": null,
      "flex_flow": null,
      "grid_area": null,
      "grid_auto_columns": null,
      "grid_auto_flow": null,
      "grid_auto_rows": null,
      "grid_column": null,
      "grid_gap": null,
      "grid_row": null,
      "grid_template_areas": null,
      "grid_template_columns": null,
      "grid_template_rows": null,
      "height": null,
      "justify_content": null,
      "justify_items": null,
      "left": null,
      "margin": null,
      "max_height": null,
      "max_width": null,
      "min_height": null,
      "min_width": null,
      "object_fit": null,
      "object_position": null,
      "order": null,
      "overflow": null,
      "overflow_x": null,
      "overflow_y": null,
      "padding": null,
      "right": null,
      "top": null,
      "visibility": null,
      "width": null
     }
    },
    "3fa139febcab4ca7963fd1165b26d2fd": {
     "model_module": "@jupyter-widgets/controls",
     "model_module_version": "1.5.0",
     "model_name": "FloatProgressModel",
     "state": {
      "_dom_classes": [],
      "_model_module": "@jupyter-widgets/controls",
      "_model_module_version": "1.5.0",
      "_model_name": "FloatProgressModel",
      "_view_count": null,
      "_view_module": "@jupyter-widgets/controls",
      "_view_module_version": "1.5.0",
      "_view_name": "ProgressView",
      "bar_style": "success",
      "description": "",
      "description_tooltip": null,
      "layout": "IPY_MODEL_10dce93270594aeab2abe5287a0a7fff",
      "max": 41996509,
      "min": 0,
      "orientation": "horizontal",
      "style": "IPY_MODEL_c652ee93eafa4d2c8ac24e083d5f7cf0",
      "value": 41996509
     }
    },
    "41fe17be32b24826a7905c9e0b43ccb8": {
     "model_module": "@jupyter-widgets/controls",
     "model_module_version": "1.5.0",
     "model_name": "DescriptionStyleModel",
     "state": {
      "_model_module": "@jupyter-widgets/controls",
      "_model_module_version": "1.5.0",
      "_model_name": "DescriptionStyleModel",
      "_view_count": null,
      "_view_module": "@jupyter-widgets/base",
      "_view_module_version": "1.2.0",
      "_view_name": "StyleView",
      "description_width": ""
     }
    },
    "44f3a12c74b24710b29d44fc8628ea62": {
     "model_module": "@jupyter-widgets/base",
     "model_module_version": "1.2.0",
     "model_name": "LayoutModel",
     "state": {
      "_model_module": "@jupyter-widgets/base",
      "_model_module_version": "1.2.0",
      "_model_name": "LayoutModel",
      "_view_count": null,
      "_view_module": "@jupyter-widgets/base",
      "_view_module_version": "1.2.0",
      "_view_name": "LayoutView",
      "align_content": null,
      "align_items": null,
      "align_self": null,
      "border": null,
      "bottom": null,
      "display": null,
      "flex": null,
      "flex_flow": null,
      "grid_area": null,
      "grid_auto_columns": null,
      "grid_auto_flow": null,
      "grid_auto_rows": null,
      "grid_column": null,
      "grid_gap": null,
      "grid_row": null,
      "grid_template_areas": null,
      "grid_template_columns": null,
      "grid_template_rows": null,
      "height": null,
      "justify_content": null,
      "justify_items": null,
      "left": null,
      "margin": null,
      "max_height": null,
      "max_width": null,
      "min_height": null,
      "min_width": null,
      "object_fit": null,
      "object_position": null,
      "order": null,
      "overflow": null,
      "overflow_x": null,
      "overflow_y": null,
      "padding": null,
      "right": null,
      "top": null,
      "visibility": null,
      "width": null
     }
    },
    "48b5faeeed274a47a40908252eb122c7": {
     "model_module": "@jupyter-widgets/base",
     "model_module_version": "1.2.0",
     "model_name": "LayoutModel",
     "state": {
      "_model_module": "@jupyter-widgets/base",
      "_model_module_version": "1.2.0",
      "_model_name": "LayoutModel",
      "_view_count": null,
      "_view_module": "@jupyter-widgets/base",
      "_view_module_version": "1.2.0",
      "_view_name": "LayoutView",
      "align_content": null,
      "align_items": null,
      "align_self": null,
      "border": null,
      "bottom": null,
      "display": null,
      "flex": null,
      "flex_flow": null,
      "grid_area": null,
      "grid_auto_columns": null,
      "grid_auto_flow": null,
      "grid_auto_rows": null,
      "grid_column": null,
      "grid_gap": null,
      "grid_row": null,
      "grid_template_areas": null,
      "grid_template_columns": null,
      "grid_template_rows": null,
      "height": null,
      "justify_content": null,
      "justify_items": null,
      "left": null,
      "margin": null,
      "max_height": null,
      "max_width": null,
      "min_height": null,
      "min_width": null,
      "object_fit": null,
      "object_position": null,
      "order": null,
      "overflow": null,
      "overflow_x": null,
      "overflow_y": null,
      "padding": null,
      "right": null,
      "top": null,
      "visibility": null,
      "width": null
     }
    },
    "492c711b96834d28857dea0b0c055b5d": {
     "model_module": "@jupyter-widgets/controls",
     "model_module_version": "1.5.0",
     "model_name": "HBoxModel",
     "state": {
      "_dom_classes": [],
      "_model_module": "@jupyter-widgets/controls",
      "_model_module_version": "1.5.0",
      "_model_name": "HBoxModel",
      "_view_count": null,
      "_view_module": "@jupyter-widgets/controls",
      "_view_module_version": "1.5.0",
      "_view_name": "HBoxView",
      "box_style": "",
      "children": [
       "IPY_MODEL_f8f8710e06814bfb8948d6a00eb3b010",
       "IPY_MODEL_3db9ca292d0f4012845296d950548e5b",
       "IPY_MODEL_73904f29531340c18a8652bbcc573b1f"
      ],
      "layout": "IPY_MODEL_b4886716e1d54de58299eb52a15ab024"
     }
    },
    "49a781fbf07e4fe69dcbafec9af4e78c": {
     "model_module": "@jupyter-widgets/base",
     "model_module_version": "1.2.0",
     "model_name": "LayoutModel",
     "state": {
      "_model_module": "@jupyter-widgets/base",
      "_model_module_version": "1.2.0",
      "_model_name": "LayoutModel",
      "_view_count": null,
      "_view_module": "@jupyter-widgets/base",
      "_view_module_version": "1.2.0",
      "_view_name": "LayoutView",
      "align_content": null,
      "align_items": null,
      "align_self": null,
      "border": null,
      "bottom": null,
      "display": null,
      "flex": null,
      "flex_flow": null,
      "grid_area": null,
      "grid_auto_columns": null,
      "grid_auto_flow": null,
      "grid_auto_rows": null,
      "grid_column": null,
      "grid_gap": null,
      "grid_row": null,
      "grid_template_areas": null,
      "grid_template_columns": null,
      "grid_template_rows": null,
      "height": null,
      "justify_content": null,
      "justify_items": null,
      "left": null,
      "margin": null,
      "max_height": null,
      "max_width": null,
      "min_height": null,
      "min_width": null,
      "object_fit": null,
      "object_position": null,
      "order": null,
      "overflow": null,
      "overflow_x": null,
      "overflow_y": null,
      "padding": null,
      "right": null,
      "top": null,
      "visibility": null,
      "width": null
     }
    },
    "4f74c819bfe945359df85901f0868e5c": {
     "model_module": "@jupyter-widgets/controls",
     "model_module_version": "1.5.0",
     "model_name": "FloatProgressModel",
     "state": {
      "_dom_classes": [],
      "_model_module": "@jupyter-widgets/controls",
      "_model_module_version": "1.5.0",
      "_model_name": "FloatProgressModel",
      "_view_count": null,
      "_view_module": "@jupyter-widgets/controls",
      "_view_module_version": "1.5.0",
      "_view_name": "ProgressView",
      "bar_style": "success",
      "description": "",
      "description_tooltip": null,
      "layout": "IPY_MODEL_814b9d26dfee49ca8ff715cadf53e519",
      "max": 25000,
      "min": 0,
      "orientation": "horizontal",
      "style": "IPY_MODEL_375bd5f0c9494f9292ed67c08e523492",
      "value": 25000
     }
    },
    "60a858747ba84f41af621f8557d23671": {
     "model_module": "@jupyter-widgets/base",
     "model_module_version": "1.2.0",
     "model_name": "LayoutModel",
     "state": {
      "_model_module": "@jupyter-widgets/base",
      "_model_module_version": "1.2.0",
      "_model_name": "LayoutModel",
      "_view_count": null,
      "_view_module": "@jupyter-widgets/base",
      "_view_module_version": "1.2.0",
      "_view_name": "LayoutView",
      "align_content": null,
      "align_items": null,
      "align_self": null,
      "border": null,
      "bottom": null,
      "display": null,
      "flex": null,
      "flex_flow": null,
      "grid_area": null,
      "grid_auto_columns": null,
      "grid_auto_flow": null,
      "grid_auto_rows": null,
      "grid_column": null,
      "grid_gap": null,
      "grid_row": null,
      "grid_template_areas": null,
      "grid_template_columns": null,
      "grid_template_rows": null,
      "height": null,
      "justify_content": null,
      "justify_items": null,
      "left": null,
      "margin": null,
      "max_height": null,
      "max_width": null,
      "min_height": null,
      "min_width": null,
      "object_fit": null,
      "object_position": null,
      "order": null,
      "overflow": null,
      "overflow_x": null,
      "overflow_y": null,
      "padding": null,
      "right": null,
      "top": null,
      "visibility": null,
      "width": null
     }
    },
    "6a0a4ff0ae594c03bccb53e885967d80": {
     "model_module": "@jupyter-widgets/controls",
     "model_module_version": "1.5.0",
     "model_name": "HBoxModel",
     "state": {
      "_dom_classes": [],
      "_model_module": "@jupyter-widgets/controls",
      "_model_module_version": "1.5.0",
      "_model_name": "HBoxModel",
      "_view_count": null,
      "_view_module": "@jupyter-widgets/controls",
      "_view_module_version": "1.5.0",
      "_view_name": "HBoxView",
      "box_style": "",
      "children": [
       "IPY_MODEL_ce9752cf69ab4f0eb315823d3101fa6f",
       "IPY_MODEL_3164ca02b0f2479a8bd72fc675effff6",
       "IPY_MODEL_a72eb84fe15148d9ad3cfda02c9c3914"
      ],
      "layout": "IPY_MODEL_60a858747ba84f41af621f8557d23671"
     }
    },
    "6c233719f75641b18c5a2ffa2edeb477": {
     "model_module": "@jupyter-widgets/controls",
     "model_module_version": "1.5.0",
     "model_name": "DescriptionStyleModel",
     "state": {
      "_model_module": "@jupyter-widgets/controls",
      "_model_module_version": "1.5.0",
      "_model_name": "DescriptionStyleModel",
      "_view_count": null,
      "_view_module": "@jupyter-widgets/base",
      "_view_module_version": "1.2.0",
      "_view_name": "StyleView",
      "description_width": ""
     }
    },
    "73904f29531340c18a8652bbcc573b1f": {
     "model_module": "@jupyter-widgets/controls",
     "model_module_version": "1.5.0",
     "model_name": "HTMLModel",
     "state": {
      "_dom_classes": [],
      "_model_module": "@jupyter-widgets/controls",
      "_model_module_version": "1.5.0",
      "_model_name": "HTMLModel",
      "_view_count": null,
      "_view_module": "@jupyter-widgets/controls",
      "_view_module_version": "1.5.0",
      "_view_name": "HTMLView",
      "description": "",
      "description_tooltip": null,
      "layout": "IPY_MODEL_78d0d2b8f67b4666aef227fc97e4d463",
      "placeholder": "​",
      "style": "IPY_MODEL_796d39c5d9914f8ebe1027e7b141ae1f",
      "value": " 50000/50000 [00:00&lt;00:00, 76962.76 examples/s]"
     }
    },
    "75b0af19759d4d3197c9439522ab7817": {
     "model_module": "@jupyter-widgets/controls",
     "model_module_version": "1.5.0",
     "model_name": "DescriptionStyleModel",
     "state": {
      "_model_module": "@jupyter-widgets/controls",
      "_model_module_version": "1.5.0",
      "_model_name": "DescriptionStyleModel",
      "_view_count": null,
      "_view_module": "@jupyter-widgets/base",
      "_view_module_version": "1.2.0",
      "_view_name": "StyleView",
      "description_width": ""
     }
    },
    "77032ee4582e48ee84f2208809ababb4": {
     "model_module": "@jupyter-widgets/base",
     "model_module_version": "1.2.0",
     "model_name": "LayoutModel",
     "state": {
      "_model_module": "@jupyter-widgets/base",
      "_model_module_version": "1.2.0",
      "_model_name": "LayoutModel",
      "_view_count": null,
      "_view_module": "@jupyter-widgets/base",
      "_view_module_version": "1.2.0",
      "_view_name": "LayoutView",
      "align_content": null,
      "align_items": null,
      "align_self": null,
      "border": null,
      "bottom": null,
      "display": null,
      "flex": null,
      "flex_flow": null,
      "grid_area": null,
      "grid_auto_columns": null,
      "grid_auto_flow": null,
      "grid_auto_rows": null,
      "grid_column": null,
      "grid_gap": null,
      "grid_row": null,
      "grid_template_areas": null,
      "grid_template_columns": null,
      "grid_template_rows": null,
      "height": null,
      "justify_content": null,
      "justify_items": null,
      "left": null,
      "margin": null,
      "max_height": null,
      "max_width": null,
      "min_height": null,
      "min_width": null,
      "object_fit": null,
      "object_position": null,
      "order": null,
      "overflow": null,
      "overflow_x": null,
      "overflow_y": null,
      "padding": null,
      "right": null,
      "top": null,
      "visibility": null,
      "width": null
     }
    },
    "78d0d2b8f67b4666aef227fc97e4d463": {
     "model_module": "@jupyter-widgets/base",
     "model_module_version": "1.2.0",
     "model_name": "LayoutModel",
     "state": {
      "_model_module": "@jupyter-widgets/base",
      "_model_module_version": "1.2.0",
      "_model_name": "LayoutModel",
      "_view_count": null,
      "_view_module": "@jupyter-widgets/base",
      "_view_module_version": "1.2.0",
      "_view_name": "LayoutView",
      "align_content": null,
      "align_items": null,
      "align_self": null,
      "border": null,
      "bottom": null,
      "display": null,
      "flex": null,
      "flex_flow": null,
      "grid_area": null,
      "grid_auto_columns": null,
      "grid_auto_flow": null,
      "grid_auto_rows": null,
      "grid_column": null,
      "grid_gap": null,
      "grid_row": null,
      "grid_template_areas": null,
      "grid_template_columns": null,
      "grid_template_rows": null,
      "height": null,
      "justify_content": null,
      "justify_items": null,
      "left": null,
      "margin": null,
      "max_height": null,
      "max_width": null,
      "min_height": null,
      "min_width": null,
      "object_fit": null,
      "object_position": null,
      "order": null,
      "overflow": null,
      "overflow_x": null,
      "overflow_y": null,
      "padding": null,
      "right": null,
      "top": null,
      "visibility": null,
      "width": null
     }
    },
    "796d39c5d9914f8ebe1027e7b141ae1f": {
     "model_module": "@jupyter-widgets/controls",
     "model_module_version": "1.5.0",
     "model_name": "DescriptionStyleModel",
     "state": {
      "_model_module": "@jupyter-widgets/controls",
      "_model_module_version": "1.5.0",
      "_model_name": "DescriptionStyleModel",
      "_view_count": null,
      "_view_module": "@jupyter-widgets/base",
      "_view_module_version": "1.2.0",
      "_view_name": "StyleView",
      "description_width": ""
     }
    },
    "7bc273f0c2bb47328e758f3d5c5a7c65": {
     "model_module": "@jupyter-widgets/controls",
     "model_module_version": "1.5.0",
     "model_name": "ProgressStyleModel",
     "state": {
      "_model_module": "@jupyter-widgets/controls",
      "_model_module_version": "1.5.0",
      "_model_name": "ProgressStyleModel",
      "_view_count": null,
      "_view_module": "@jupyter-widgets/base",
      "_view_module_version": "1.2.0",
      "_view_name": "StyleView",
      "bar_color": null,
      "description_width": ""
     }
    },
    "7cbb618bc05a41ce8b086ef04eece058": {
     "model_module": "@jupyter-widgets/base",
     "model_module_version": "1.2.0",
     "model_name": "LayoutModel",
     "state": {
      "_model_module": "@jupyter-widgets/base",
      "_model_module_version": "1.2.0",
      "_model_name": "LayoutModel",
      "_view_count": null,
      "_view_module": "@jupyter-widgets/base",
      "_view_module_version": "1.2.0",
      "_view_name": "LayoutView",
      "align_content": null,
      "align_items": null,
      "align_self": null,
      "border": null,
      "bottom": null,
      "display": null,
      "flex": null,
      "flex_flow": null,
      "grid_area": null,
      "grid_auto_columns": null,
      "grid_auto_flow": null,
      "grid_auto_rows": null,
      "grid_column": null,
      "grid_gap": null,
      "grid_row": null,
      "grid_template_areas": null,
      "grid_template_columns": null,
      "grid_template_rows": null,
      "height": null,
      "justify_content": null,
      "justify_items": null,
      "left": null,
      "margin": null,
      "max_height": null,
      "max_width": null,
      "min_height": null,
      "min_width": null,
      "object_fit": null,
      "object_position": null,
      "order": null,
      "overflow": null,
      "overflow_x": null,
      "overflow_y": null,
      "padding": null,
      "right": null,
      "top": null,
      "visibility": null,
      "width": null
     }
    },
    "7f62a2bf970c4670a33e4f8b637d4cb6": {
     "model_module": "@jupyter-widgets/base",
     "model_module_version": "1.2.0",
     "model_name": "LayoutModel",
     "state": {
      "_model_module": "@jupyter-widgets/base",
      "_model_module_version": "1.2.0",
      "_model_name": "LayoutModel",
      "_view_count": null,
      "_view_module": "@jupyter-widgets/base",
      "_view_module_version": "1.2.0",
      "_view_name": "LayoutView",
      "align_content": null,
      "align_items": null,
      "align_self": null,
      "border": null,
      "bottom": null,
      "display": null,
      "flex": null,
      "flex_flow": null,
      "grid_area": null,
      "grid_auto_columns": null,
      "grid_auto_flow": null,
      "grid_auto_rows": null,
      "grid_column": null,
      "grid_gap": null,
      "grid_row": null,
      "grid_template_areas": null,
      "grid_template_columns": null,
      "grid_template_rows": null,
      "height": null,
      "justify_content": null,
      "justify_items": null,
      "left": null,
      "margin": null,
      "max_height": null,
      "max_width": null,
      "min_height": null,
      "min_width": null,
      "object_fit": null,
      "object_position": null,
      "order": null,
      "overflow": null,
      "overflow_x": null,
      "overflow_y": null,
      "padding": null,
      "right": null,
      "top": null,
      "visibility": null,
      "width": null
     }
    },
    "8143e05955224b689df98173b2cf0d5c": {
     "model_module": "@jupyter-widgets/controls",
     "model_module_version": "1.5.0",
     "model_name": "HBoxModel",
     "state": {
      "_dom_classes": [],
      "_model_module": "@jupyter-widgets/controls",
      "_model_module_version": "1.5.0",
      "_model_name": "HBoxModel",
      "_view_count": null,
      "_view_module": "@jupyter-widgets/controls",
      "_view_module_version": "1.5.0",
      "_view_name": "HBoxView",
      "box_style": "",
      "children": [
       "IPY_MODEL_2d38ff9280b447dda9eb80fae8d725d5",
       "IPY_MODEL_4f74c819bfe945359df85901f0868e5c",
       "IPY_MODEL_0ce52981d2d54887be27611a1c438c8e"
      ],
      "layout": "IPY_MODEL_aa48b4aa1c514fa89455d6df1551d96f"
     }
    },
    "814b9d26dfee49ca8ff715cadf53e519": {
     "model_module": "@jupyter-widgets/base",
     "model_module_version": "1.2.0",
     "model_name": "LayoutModel",
     "state": {
      "_model_module": "@jupyter-widgets/base",
      "_model_module_version": "1.2.0",
      "_model_name": "LayoutModel",
      "_view_count": null,
      "_view_module": "@jupyter-widgets/base",
      "_view_module_version": "1.2.0",
      "_view_name": "LayoutView",
      "align_content": null,
      "align_items": null,
      "align_self": null,
      "border": null,
      "bottom": null,
      "display": null,
      "flex": null,
      "flex_flow": null,
      "grid_area": null,
      "grid_auto_columns": null,
      "grid_auto_flow": null,
      "grid_auto_rows": null,
      "grid_column": null,
      "grid_gap": null,
      "grid_row": null,
      "grid_template_areas": null,
      "grid_template_columns": null,
      "grid_template_rows": null,
      "height": null,
      "justify_content": null,
      "justify_items": null,
      "left": null,
      "margin": null,
      "max_height": null,
      "max_width": null,
      "min_height": null,
      "min_width": null,
      "object_fit": null,
      "object_position": null,
      "order": null,
      "overflow": null,
      "overflow_x": null,
      "overflow_y": null,
      "padding": null,
      "right": null,
      "top": null,
      "visibility": null,
      "width": null
     }
    },
    "85e230e8943a46d4a5d81fa51879f894": {
     "model_module": "@jupyter-widgets/base",
     "model_module_version": "1.2.0",
     "model_name": "LayoutModel",
     "state": {
      "_model_module": "@jupyter-widgets/base",
      "_model_module_version": "1.2.0",
      "_model_name": "LayoutModel",
      "_view_count": null,
      "_view_module": "@jupyter-widgets/base",
      "_view_module_version": "1.2.0",
      "_view_name": "LayoutView",
      "align_content": null,
      "align_items": null,
      "align_self": null,
      "border": null,
      "bottom": null,
      "display": null,
      "flex": null,
      "flex_flow": null,
      "grid_area": null,
      "grid_auto_columns": null,
      "grid_auto_flow": null,
      "grid_auto_rows": null,
      "grid_column": null,
      "grid_gap": null,
      "grid_row": null,
      "grid_template_areas": null,
      "grid_template_columns": null,
      "grid_template_rows": null,
      "height": null,
      "justify_content": null,
      "justify_items": null,
      "left": null,
      "margin": null,
      "max_height": null,
      "max_width": null,
      "min_height": null,
      "min_width": null,
      "object_fit": null,
      "object_position": null,
      "order": null,
      "overflow": null,
      "overflow_x": null,
      "overflow_y": null,
      "padding": null,
      "right": null,
      "top": null,
      "visibility": null,
      "width": null
     }
    },
    "8655909e4af14462bc8df7a8f06160d0": {
     "model_module": "@jupyter-widgets/base",
     "model_module_version": "1.2.0",
     "model_name": "LayoutModel",
     "state": {
      "_model_module": "@jupyter-widgets/base",
      "_model_module_version": "1.2.0",
      "_model_name": "LayoutModel",
      "_view_count": null,
      "_view_module": "@jupyter-widgets/base",
      "_view_module_version": "1.2.0",
      "_view_name": "LayoutView",
      "align_content": null,
      "align_items": null,
      "align_self": null,
      "border": null,
      "bottom": null,
      "display": null,
      "flex": null,
      "flex_flow": null,
      "grid_area": null,
      "grid_auto_columns": null,
      "grid_auto_flow": null,
      "grid_auto_rows": null,
      "grid_column": null,
      "grid_gap": null,
      "grid_row": null,
      "grid_template_areas": null,
      "grid_template_columns": null,
      "grid_template_rows": null,
      "height": null,
      "justify_content": null,
      "justify_items": null,
      "left": null,
      "margin": null,
      "max_height": null,
      "max_width": null,
      "min_height": null,
      "min_width": null,
      "object_fit": null,
      "object_position": null,
      "order": null,
      "overflow": null,
      "overflow_x": null,
      "overflow_y": null,
      "padding": null,
      "right": null,
      "top": null,
      "visibility": null,
      "width": null
     }
    },
    "94dbd7deebe04e5db80b6f025e5fdc0d": {
     "model_module": "@jupyter-widgets/base",
     "model_module_version": "1.2.0",
     "model_name": "LayoutModel",
     "state": {
      "_model_module": "@jupyter-widgets/base",
      "_model_module_version": "1.2.0",
      "_model_name": "LayoutModel",
      "_view_count": null,
      "_view_module": "@jupyter-widgets/base",
      "_view_module_version": "1.2.0",
      "_view_name": "LayoutView",
      "align_content": null,
      "align_items": null,
      "align_self": null,
      "border": null,
      "bottom": null,
      "display": null,
      "flex": null,
      "flex_flow": null,
      "grid_area": null,
      "grid_auto_columns": null,
      "grid_auto_flow": null,
      "grid_auto_rows": null,
      "grid_column": null,
      "grid_gap": null,
      "grid_row": null,
      "grid_template_areas": null,
      "grid_template_columns": null,
      "grid_template_rows": null,
      "height": null,
      "justify_content": null,
      "justify_items": null,
      "left": null,
      "margin": null,
      "max_height": null,
      "max_width": null,
      "min_height": null,
      "min_width": null,
      "object_fit": null,
      "object_position": null,
      "order": null,
      "overflow": null,
      "overflow_x": null,
      "overflow_y": null,
      "padding": null,
      "right": null,
      "top": null,
      "visibility": null,
      "width": null
     }
    },
    "98e21b6125144202a915261fa052955b": {
     "model_module": "@jupyter-widgets/controls",
     "model_module_version": "1.5.0",
     "model_name": "DescriptionStyleModel",
     "state": {
      "_model_module": "@jupyter-widgets/controls",
      "_model_module_version": "1.5.0",
      "_model_name": "DescriptionStyleModel",
      "_view_count": null,
      "_view_module": "@jupyter-widgets/base",
      "_view_module_version": "1.2.0",
      "_view_name": "StyleView",
      "description_width": ""
     }
    },
    "9919975c36ad438d9f778534c650ee92": {
     "model_module": "@jupyter-widgets/base",
     "model_module_version": "1.2.0",
     "model_name": "LayoutModel",
     "state": {
      "_model_module": "@jupyter-widgets/base",
      "_model_module_version": "1.2.0",
      "_model_name": "LayoutModel",
      "_view_count": null,
      "_view_module": "@jupyter-widgets/base",
      "_view_module_version": "1.2.0",
      "_view_name": "LayoutView",
      "align_content": null,
      "align_items": null,
      "align_self": null,
      "border": null,
      "bottom": null,
      "display": null,
      "flex": null,
      "flex_flow": null,
      "grid_area": null,
      "grid_auto_columns": null,
      "grid_auto_flow": null,
      "grid_auto_rows": null,
      "grid_column": null,
      "grid_gap": null,
      "grid_row": null,
      "grid_template_areas": null,
      "grid_template_columns": null,
      "grid_template_rows": null,
      "height": null,
      "justify_content": null,
      "justify_items": null,
      "left": null,
      "margin": null,
      "max_height": null,
      "max_width": null,
      "min_height": null,
      "min_width": null,
      "object_fit": null,
      "object_position": null,
      "order": null,
      "overflow": null,
      "overflow_x": null,
      "overflow_y": null,
      "padding": null,
      "right": null,
      "top": null,
      "visibility": null,
      "width": null
     }
    },
    "9d266f361f0e44dfa9b8cd974969152b": {
     "model_module": "@jupyter-widgets/controls",
     "model_module_version": "1.5.0",
     "model_name": "DescriptionStyleModel",
     "state": {
      "_model_module": "@jupyter-widgets/controls",
      "_model_module_version": "1.5.0",
      "_model_name": "DescriptionStyleModel",
      "_view_count": null,
      "_view_module": "@jupyter-widgets/base",
      "_view_module_version": "1.2.0",
      "_view_name": "StyleView",
      "description_width": ""
     }
    },
    "a4a3ae7346044b7d8a7a74f55533d159": {
     "model_module": "@jupyter-widgets/controls",
     "model_module_version": "1.5.0",
     "model_name": "FloatProgressModel",
     "state": {
      "_dom_classes": [],
      "_model_module": "@jupyter-widgets/controls",
      "_model_module_version": "1.5.0",
      "_model_name": "FloatProgressModel",
      "_view_count": null,
      "_view_module": "@jupyter-widgets/controls",
      "_view_module_version": "1.5.0",
      "_view_name": "ProgressView",
      "bar_style": "success",
      "description": "",
      "description_tooltip": null,
      "layout": "IPY_MODEL_9919975c36ad438d9f778534c650ee92",
      "max": 20979968,
      "min": 0,
      "orientation": "horizontal",
      "style": "IPY_MODEL_7bc273f0c2bb47328e758f3d5c5a7c65",
      "value": 20979968
     }
    },
    "a72eb84fe15148d9ad3cfda02c9c3914": {
     "model_module": "@jupyter-widgets/controls",
     "model_module_version": "1.5.0",
     "model_name": "HTMLModel",
     "state": {
      "_dom_classes": [],
      "_model_module": "@jupyter-widgets/controls",
      "_model_module_version": "1.5.0",
      "_model_name": "HTMLModel",
      "_view_count": null,
      "_view_module": "@jupyter-widgets/controls",
      "_view_module_version": "1.5.0",
      "_view_name": "HTMLView",
      "description": "",
      "description_tooltip": null,
      "layout": "IPY_MODEL_7f62a2bf970c4670a33e4f8b637d4cb6",
      "placeholder": "​",
      "style": "IPY_MODEL_b1474bd9a8e5486586ef6be60ff7f9f3",
      "value": " 7.81k/7.81k [00:00&lt;00:00, 237kB/s]"
     }
    },
    "a7881397adb5445380b8c5e61221bdfa": {
     "model_module": "@jupyter-widgets/controls",
     "model_module_version": "1.5.0",
     "model_name": "DescriptionStyleModel",
     "state": {
      "_model_module": "@jupyter-widgets/controls",
      "_model_module_version": "1.5.0",
      "_model_name": "DescriptionStyleModel",
      "_view_count": null,
      "_view_module": "@jupyter-widgets/base",
      "_view_module_version": "1.2.0",
      "_view_name": "StyleView",
      "description_width": ""
     }
    },
    "a8fa7eb32a3b41ffb3651322fe9c928f": {
     "model_module": "@jupyter-widgets/controls",
     "model_module_version": "1.5.0",
     "model_name": "ProgressStyleModel",
     "state": {
      "_model_module": "@jupyter-widgets/controls",
      "_model_module_version": "1.5.0",
      "_model_name": "ProgressStyleModel",
      "_view_count": null,
      "_view_module": "@jupyter-widgets/base",
      "_view_module_version": "1.2.0",
      "_view_name": "StyleView",
      "bar_color": null,
      "description_width": ""
     }
    },
    "aa48b4aa1c514fa89455d6df1551d96f": {
     "model_module": "@jupyter-widgets/base",
     "model_module_version": "1.2.0",
     "model_name": "LayoutModel",
     "state": {
      "_model_module": "@jupyter-widgets/base",
      "_model_module_version": "1.2.0",
      "_model_name": "LayoutModel",
      "_view_count": null,
      "_view_module": "@jupyter-widgets/base",
      "_view_module_version": "1.2.0",
      "_view_name": "LayoutView",
      "align_content": null,
      "align_items": null,
      "align_self": null,
      "border": null,
      "bottom": null,
      "display": null,
      "flex": null,
      "flex_flow": null,
      "grid_area": null,
      "grid_auto_columns": null,
      "grid_auto_flow": null,
      "grid_auto_rows": null,
      "grid_column": null,
      "grid_gap": null,
      "grid_row": null,
      "grid_template_areas": null,
      "grid_template_columns": null,
      "grid_template_rows": null,
      "height": null,
      "justify_content": null,
      "justify_items": null,
      "left": null,
      "margin": null,
      "max_height": null,
      "max_width": null,
      "min_height": null,
      "min_width": null,
      "object_fit": null,
      "object_position": null,
      "order": null,
      "overflow": null,
      "overflow_x": null,
      "overflow_y": null,
      "padding": null,
      "right": null,
      "top": null,
      "visibility": null,
      "width": null
     }
    },
    "b1474bd9a8e5486586ef6be60ff7f9f3": {
     "model_module": "@jupyter-widgets/controls",
     "model_module_version": "1.5.0",
     "model_name": "DescriptionStyleModel",
     "state": {
      "_model_module": "@jupyter-widgets/controls",
      "_model_module_version": "1.5.0",
      "_model_name": "DescriptionStyleModel",
      "_view_count": null,
      "_view_module": "@jupyter-widgets/base",
      "_view_module_version": "1.2.0",
      "_view_name": "StyleView",
      "description_width": ""
     }
    },
    "b4886716e1d54de58299eb52a15ab024": {
     "model_module": "@jupyter-widgets/base",
     "model_module_version": "1.2.0",
     "model_name": "LayoutModel",
     "state": {
      "_model_module": "@jupyter-widgets/base",
      "_model_module_version": "1.2.0",
      "_model_name": "LayoutModel",
      "_view_count": null,
      "_view_module": "@jupyter-widgets/base",
      "_view_module_version": "1.2.0",
      "_view_name": "LayoutView",
      "align_content": null,
      "align_items": null,
      "align_self": null,
      "border": null,
      "bottom": null,
      "display": null,
      "flex": null,
      "flex_flow": null,
      "grid_area": null,
      "grid_auto_columns": null,
      "grid_auto_flow": null,
      "grid_auto_rows": null,
      "grid_column": null,
      "grid_gap": null,
      "grid_row": null,
      "grid_template_areas": null,
      "grid_template_columns": null,
      "grid_template_rows": null,
      "height": null,
      "justify_content": null,
      "justify_items": null,
      "left": null,
      "margin": null,
      "max_height": null,
      "max_width": null,
      "min_height": null,
      "min_width": null,
      "object_fit": null,
      "object_position": null,
      "order": null,
      "overflow": null,
      "overflow_x": null,
      "overflow_y": null,
      "padding": null,
      "right": null,
      "top": null,
      "visibility": null,
      "width": null
     }
    },
    "bb75aa4d957f49c4911e80cf359aa92b": {
     "model_module": "@jupyter-widgets/base",
     "model_module_version": "1.2.0",
     "model_name": "LayoutModel",
     "state": {
      "_model_module": "@jupyter-widgets/base",
      "_model_module_version": "1.2.0",
      "_model_name": "LayoutModel",
      "_view_count": null,
      "_view_module": "@jupyter-widgets/base",
      "_view_module_version": "1.2.0",
      "_view_name": "LayoutView",
      "align_content": null,
      "align_items": null,
      "align_self": null,
      "border": null,
      "bottom": null,
      "display": null,
      "flex": null,
      "flex_flow": null,
      "grid_area": null,
      "grid_auto_columns": null,
      "grid_auto_flow": null,
      "grid_auto_rows": null,
      "grid_column": null,
      "grid_gap": null,
      "grid_row": null,
      "grid_template_areas": null,
      "grid_template_columns": null,
      "grid_template_rows": null,
      "height": null,
      "justify_content": null,
      "justify_items": null,
      "left": null,
      "margin": null,
      "max_height": null,
      "max_width": null,
      "min_height": null,
      "min_width": null,
      "object_fit": null,
      "object_position": null,
      "order": null,
      "overflow": null,
      "overflow_x": null,
      "overflow_y": null,
      "padding": null,
      "right": null,
      "top": null,
      "visibility": null,
      "width": null
     }
    },
    "bb89a6ac43fd4337b64fbea290baa62a": {
     "model_module": "@jupyter-widgets/controls",
     "model_module_version": "1.5.0",
     "model_name": "FloatProgressModel",
     "state": {
      "_dom_classes": [],
      "_model_module": "@jupyter-widgets/controls",
      "_model_module_version": "1.5.0",
      "_model_name": "FloatProgressModel",
      "_view_count": null,
      "_view_module": "@jupyter-widgets/controls",
      "_view_module_version": "1.5.0",
      "_view_name": "ProgressView",
      "bar_style": "success",
      "description": "",
      "description_tooltip": null,
      "layout": "IPY_MODEL_c26c739404f34284bda4524425d50789",
      "max": 20470363,
      "min": 0,
      "orientation": "horizontal",
      "style": "IPY_MODEL_a8fa7eb32a3b41ffb3651322fe9c928f",
      "value": 20470363
     }
    },
    "bbc982e952814c41abee1546ca7d2884": {
     "model_module": "@jupyter-widgets/controls",
     "model_module_version": "1.5.0",
     "model_name": "ProgressStyleModel",
     "state": {
      "_model_module": "@jupyter-widgets/controls",
      "_model_module_version": "1.5.0",
      "_model_name": "ProgressStyleModel",
      "_view_count": null,
      "_view_module": "@jupyter-widgets/base",
      "_view_module_version": "1.2.0",
      "_view_name": "StyleView",
      "bar_color": null,
      "description_width": ""
     }
    },
    "bca2a2131bfc409290cba92a414d3331": {
     "model_module": "@jupyter-widgets/controls",
     "model_module_version": "1.5.0",
     "model_name": "DescriptionStyleModel",
     "state": {
      "_model_module": "@jupyter-widgets/controls",
      "_model_module_version": "1.5.0",
      "_model_name": "DescriptionStyleModel",
      "_view_count": null,
      "_view_module": "@jupyter-widgets/base",
      "_view_module_version": "1.2.0",
      "_view_name": "StyleView",
      "description_width": ""
     }
    },
    "c26c739404f34284bda4524425d50789": {
     "model_module": "@jupyter-widgets/base",
     "model_module_version": "1.2.0",
     "model_name": "LayoutModel",
     "state": {
      "_model_module": "@jupyter-widgets/base",
      "_model_module_version": "1.2.0",
      "_model_name": "LayoutModel",
      "_view_count": null,
      "_view_module": "@jupyter-widgets/base",
      "_view_module_version": "1.2.0",
      "_view_name": "LayoutView",
      "align_content": null,
      "align_items": null,
      "align_self": null,
      "border": null,
      "bottom": null,
      "display": null,
      "flex": null,
      "flex_flow": null,
      "grid_area": null,
      "grid_auto_columns": null,
      "grid_auto_flow": null,
      "grid_auto_rows": null,
      "grid_column": null,
      "grid_gap": null,
      "grid_row": null,
      "grid_template_areas": null,
      "grid_template_columns": null,
      "grid_template_rows": null,
      "height": null,
      "justify_content": null,
      "justify_items": null,
      "left": null,
      "margin": null,
      "max_height": null,
      "max_width": null,
      "min_height": null,
      "min_width": null,
      "object_fit": null,
      "object_position": null,
      "order": null,
      "overflow": null,
      "overflow_x": null,
      "overflow_y": null,
      "padding": null,
      "right": null,
      "top": null,
      "visibility": null,
      "width": null
     }
    },
    "c652ee93eafa4d2c8ac24e083d5f7cf0": {
     "model_module": "@jupyter-widgets/controls",
     "model_module_version": "1.5.0",
     "model_name": "ProgressStyleModel",
     "state": {
      "_model_module": "@jupyter-widgets/controls",
      "_model_module_version": "1.5.0",
      "_model_name": "ProgressStyleModel",
      "_view_count": null,
      "_view_module": "@jupyter-widgets/base",
      "_view_module_version": "1.2.0",
      "_view_name": "StyleView",
      "bar_color": null,
      "description_width": ""
     }
    },
    "c812eb36428d4ed5ae1adba77ef81d04": {
     "model_module": "@jupyter-widgets/controls",
     "model_module_version": "1.5.0",
     "model_name": "ProgressStyleModel",
     "state": {
      "_model_module": "@jupyter-widgets/controls",
      "_model_module_version": "1.5.0",
      "_model_name": "ProgressStyleModel",
      "_view_count": null,
      "_view_module": "@jupyter-widgets/base",
      "_view_module_version": "1.2.0",
      "_view_name": "StyleView",
      "bar_color": null,
      "description_width": ""
     }
    },
    "c86cec576ac8403bacff26b395116f51": {
     "model_module": "@jupyter-widgets/base",
     "model_module_version": "1.2.0",
     "model_name": "LayoutModel",
     "state": {
      "_model_module": "@jupyter-widgets/base",
      "_model_module_version": "1.2.0",
      "_model_name": "LayoutModel",
      "_view_count": null,
      "_view_module": "@jupyter-widgets/base",
      "_view_module_version": "1.2.0",
      "_view_name": "LayoutView",
      "align_content": null,
      "align_items": null,
      "align_self": null,
      "border": null,
      "bottom": null,
      "display": null,
      "flex": null,
      "flex_flow": null,
      "grid_area": null,
      "grid_auto_columns": null,
      "grid_auto_flow": null,
      "grid_auto_rows": null,
      "grid_column": null,
      "grid_gap": null,
      "grid_row": null,
      "grid_template_areas": null,
      "grid_template_columns": null,
      "grid_template_rows": null,
      "height": null,
      "justify_content": null,
      "justify_items": null,
      "left": null,
      "margin": null,
      "max_height": null,
      "max_width": null,
      "min_height": null,
      "min_width": null,
      "object_fit": null,
      "object_position": null,
      "order": null,
      "overflow": null,
      "overflow_x": null,
      "overflow_y": null,
      "padding": null,
      "right": null,
      "top": null,
      "visibility": null,
      "width": null
     }
    },
    "cda00957443e46b3a07e9cd0cd6a24f3": {
     "model_module": "@jupyter-widgets/controls",
     "model_module_version": "1.5.0",
     "model_name": "HTMLModel",
     "state": {
      "_dom_classes": [],
      "_model_module": "@jupyter-widgets/controls",
      "_model_module_version": "1.5.0",
      "_model_name": "HTMLModel",
      "_view_count": null,
      "_view_module": "@jupyter-widgets/controls",
      "_view_module_version": "1.5.0",
      "_view_name": "HTMLView",
      "description": "",
      "description_tooltip": null,
      "layout": "IPY_MODEL_3ee32b6e3acf413e95d22a422ef71701",
      "placeholder": "​",
      "style": "IPY_MODEL_09eb25cdc16d47d4ba9f44e1e5a0c1fa",
      "value": "unsupervised-00000-of-00001.parquet: 100%"
     }
    },
    "ce9752cf69ab4f0eb315823d3101fa6f": {
     "model_module": "@jupyter-widgets/controls",
     "model_module_version": "1.5.0",
     "model_name": "HTMLModel",
     "state": {
      "_dom_classes": [],
      "_model_module": "@jupyter-widgets/controls",
      "_model_module_version": "1.5.0",
      "_model_name": "HTMLModel",
      "_view_count": null,
      "_view_module": "@jupyter-widgets/controls",
      "_view_module_version": "1.5.0",
      "_view_name": "HTMLView",
      "description": "",
      "description_tooltip": null,
      "layout": "IPY_MODEL_ec4336b172f140cc8b25783aae56c802",
      "placeholder": "​",
      "style": "IPY_MODEL_75b0af19759d4d3197c9439522ab7817",
      "value": "README.md: 100%"
     }
    },
    "d22a4d5fe2c54e709bb2a222808d071e": {
     "model_module": "@jupyter-widgets/base",
     "model_module_version": "1.2.0",
     "model_name": "LayoutModel",
     "state": {
      "_model_module": "@jupyter-widgets/base",
      "_model_module_version": "1.2.0",
      "_model_name": "LayoutModel",
      "_view_count": null,
      "_view_module": "@jupyter-widgets/base",
      "_view_module_version": "1.2.0",
      "_view_name": "LayoutView",
      "align_content": null,
      "align_items": null,
      "align_self": null,
      "border": null,
      "bottom": null,
      "display": null,
      "flex": null,
      "flex_flow": null,
      "grid_area": null,
      "grid_auto_columns": null,
      "grid_auto_flow": null,
      "grid_auto_rows": null,
      "grid_column": null,
      "grid_gap": null,
      "grid_row": null,
      "grid_template_areas": null,
      "grid_template_columns": null,
      "grid_template_rows": null,
      "height": null,
      "justify_content": null,
      "justify_items": null,
      "left": null,
      "margin": null,
      "max_height": null,
      "max_width": null,
      "min_height": null,
      "min_width": null,
      "object_fit": null,
      "object_position": null,
      "order": null,
      "overflow": null,
      "overflow_x": null,
      "overflow_y": null,
      "padding": null,
      "right": null,
      "top": null,
      "visibility": null,
      "width": null
     }
    },
    "d2a7fb18a54a4ef5a4c480d79879617a": {
     "model_module": "@jupyter-widgets/controls",
     "model_module_version": "1.5.0",
     "model_name": "HTMLModel",
     "state": {
      "_dom_classes": [],
      "_model_module": "@jupyter-widgets/controls",
      "_model_module_version": "1.5.0",
      "_model_name": "HTMLModel",
      "_view_count": null,
      "_view_module": "@jupyter-widgets/controls",
      "_view_module_version": "1.5.0",
      "_view_name": "HTMLView",
      "description": "",
      "description_tooltip": null,
      "layout": "IPY_MODEL_77032ee4582e48ee84f2208809ababb4",
      "placeholder": "​",
      "style": "IPY_MODEL_9d266f361f0e44dfa9b8cd974969152b",
      "value": "test-00000-of-00001.parquet: 100%"
     }
    },
    "e0b69abf691847098e0e23682a8b934c": {
     "model_module": "@jupyter-widgets/controls",
     "model_module_version": "1.5.0",
     "model_name": "HTMLModel",
     "state": {
      "_dom_classes": [],
      "_model_module": "@jupyter-widgets/controls",
      "_model_module_version": "1.5.0",
      "_model_name": "HTMLModel",
      "_view_count": null,
      "_view_module": "@jupyter-widgets/controls",
      "_view_module_version": "1.5.0",
      "_view_name": "HTMLView",
      "description": "",
      "description_tooltip": null,
      "layout": "IPY_MODEL_ffd07a2973514afb93e2ffbbdbcd789c",
      "placeholder": "​",
      "style": "IPY_MODEL_e9631b2a2b3d46d9904e514600b03135",
      "value": "Generating train split: 100%"
     }
    },
    "e1446e4805344697a3a50591b22c8e27": {
     "model_module": "@jupyter-widgets/controls",
     "model_module_version": "1.5.0",
     "model_name": "ProgressStyleModel",
     "state": {
      "_model_module": "@jupyter-widgets/controls",
      "_model_module_version": "1.5.0",
      "_model_name": "ProgressStyleModel",
      "_view_count": null,
      "_view_module": "@jupyter-widgets/base",
      "_view_module_version": "1.2.0",
      "_view_name": "StyleView",
      "bar_color": null,
      "description_width": ""
     }
    },
    "e6ec89cd4a8e427aa7130d2912e86c6e": {
     "model_module": "@jupyter-widgets/controls",
     "model_module_version": "1.5.0",
     "model_name": "HTMLModel",
     "state": {
      "_dom_classes": [],
      "_model_module": "@jupyter-widgets/controls",
      "_model_module_version": "1.5.0",
      "_model_name": "HTMLModel",
      "_view_count": null,
      "_view_module": "@jupyter-widgets/controls",
      "_view_module_version": "1.5.0",
      "_view_name": "HTMLView",
      "description": "",
      "description_tooltip": null,
      "layout": "IPY_MODEL_c86cec576ac8403bacff26b395116f51",
      "placeholder": "​",
      "style": "IPY_MODEL_98e21b6125144202a915261fa052955b",
      "value": " 21.0M/21.0M [00:00&lt;00:00, 70.1MB/s]"
     }
    },
    "e909534321554a53be49e6a7d3a2e0e4": {
     "model_module": "@jupyter-widgets/controls",
     "model_module_version": "1.5.0",
     "model_name": "HBoxModel",
     "state": {
      "_dom_classes": [],
      "_model_module": "@jupyter-widgets/controls",
      "_model_module_version": "1.5.0",
      "_model_name": "HBoxModel",
      "_view_count": null,
      "_view_module": "@jupyter-widgets/controls",
      "_view_module_version": "1.5.0",
      "_view_name": "HBoxView",
      "box_style": "",
      "children": [
       "IPY_MODEL_136ee3385da14d36a37596570b54a96b",
       "IPY_MODEL_a4a3ae7346044b7d8a7a74f55533d159",
       "IPY_MODEL_e6ec89cd4a8e427aa7130d2912e86c6e"
      ],
      "layout": "IPY_MODEL_7cbb618bc05a41ce8b086ef04eece058"
     }
    },
    "e9631b2a2b3d46d9904e514600b03135": {
     "model_module": "@jupyter-widgets/controls",
     "model_module_version": "1.5.0",
     "model_name": "DescriptionStyleModel",
     "state": {
      "_model_module": "@jupyter-widgets/controls",
      "_model_module_version": "1.5.0",
      "_model_name": "DescriptionStyleModel",
      "_view_count": null,
      "_view_module": "@jupyter-widgets/base",
      "_view_module_version": "1.2.0",
      "_view_name": "StyleView",
      "description_width": ""
     }
    },
    "ea11d99dd30346c4b33682983faeba65": {
     "model_module": "@jupyter-widgets/base",
     "model_module_version": "1.2.0",
     "model_name": "LayoutModel",
     "state": {
      "_model_module": "@jupyter-widgets/base",
      "_model_module_version": "1.2.0",
      "_model_name": "LayoutModel",
      "_view_count": null,
      "_view_module": "@jupyter-widgets/base",
      "_view_module_version": "1.2.0",
      "_view_name": "LayoutView",
      "align_content": null,
      "align_items": null,
      "align_self": null,
      "border": null,
      "bottom": null,
      "display": null,
      "flex": null,
      "flex_flow": null,
      "grid_area": null,
      "grid_auto_columns": null,
      "grid_auto_flow": null,
      "grid_auto_rows": null,
      "grid_column": null,
      "grid_gap": null,
      "grid_row": null,
      "grid_template_areas": null,
      "grid_template_columns": null,
      "grid_template_rows": null,
      "height": null,
      "justify_content": null,
      "justify_items": null,
      "left": null,
      "margin": null,
      "max_height": null,
      "max_width": null,
      "min_height": null,
      "min_width": null,
      "object_fit": null,
      "object_position": null,
      "order": null,
      "overflow": null,
      "overflow_x": null,
      "overflow_y": null,
      "padding": null,
      "right": null,
      "top": null,
      "visibility": null,
      "width": null
     }
    },
    "ec4336b172f140cc8b25783aae56c802": {
     "model_module": "@jupyter-widgets/base",
     "model_module_version": "1.2.0",
     "model_name": "LayoutModel",
     "state": {
      "_model_module": "@jupyter-widgets/base",
      "_model_module_version": "1.2.0",
      "_model_name": "LayoutModel",
      "_view_count": null,
      "_view_module": "@jupyter-widgets/base",
      "_view_module_version": "1.2.0",
      "_view_name": "LayoutView",
      "align_content": null,
      "align_items": null,
      "align_self": null,
      "border": null,
      "bottom": null,
      "display": null,
      "flex": null,
      "flex_flow": null,
      "grid_area": null,
      "grid_auto_columns": null,
      "grid_auto_flow": null,
      "grid_auto_rows": null,
      "grid_column": null,
      "grid_gap": null,
      "grid_row": null,
      "grid_template_areas": null,
      "grid_template_columns": null,
      "grid_template_rows": null,
      "height": null,
      "justify_content": null,
      "justify_items": null,
      "left": null,
      "margin": null,
      "max_height": null,
      "max_width": null,
      "min_height": null,
      "min_width": null,
      "object_fit": null,
      "object_position": null,
      "order": null,
      "overflow": null,
      "overflow_x": null,
      "overflow_y": null,
      "padding": null,
      "right": null,
      "top": null,
      "visibility": null,
      "width": null
     }
    },
    "f2a90ac48163423c996899515ef5846c": {
     "model_module": "@jupyter-widgets/base",
     "model_module_version": "1.2.0",
     "model_name": "LayoutModel",
     "state": {
      "_model_module": "@jupyter-widgets/base",
      "_model_module_version": "1.2.0",
      "_model_name": "LayoutModel",
      "_view_count": null,
      "_view_module": "@jupyter-widgets/base",
      "_view_module_version": "1.2.0",
      "_view_name": "LayoutView",
      "align_content": null,
      "align_items": null,
      "align_self": null,
      "border": null,
      "bottom": null,
      "display": null,
      "flex": null,
      "flex_flow": null,
      "grid_area": null,
      "grid_auto_columns": null,
      "grid_auto_flow": null,
      "grid_auto_rows": null,
      "grid_column": null,
      "grid_gap": null,
      "grid_row": null,
      "grid_template_areas": null,
      "grid_template_columns": null,
      "grid_template_rows": null,
      "height": null,
      "justify_content": null,
      "justify_items": null,
      "left": null,
      "margin": null,
      "max_height": null,
      "max_width": null,
      "min_height": null,
      "min_width": null,
      "object_fit": null,
      "object_position": null,
      "order": null,
      "overflow": null,
      "overflow_x": null,
      "overflow_y": null,
      "padding": null,
      "right": null,
      "top": null,
      "visibility": null,
      "width": null
     }
    },
    "f64bda422bcf41fc983265e7d7295540": {
     "model_module": "@jupyter-widgets/controls",
     "model_module_version": "1.5.0",
     "model_name": "DescriptionStyleModel",
     "state": {
      "_model_module": "@jupyter-widgets/controls",
      "_model_module_version": "1.5.0",
      "_model_name": "DescriptionStyleModel",
      "_view_count": null,
      "_view_module": "@jupyter-widgets/base",
      "_view_module_version": "1.2.0",
      "_view_name": "StyleView",
      "description_width": ""
     }
    },
    "f8f8710e06814bfb8948d6a00eb3b010": {
     "model_module": "@jupyter-widgets/controls",
     "model_module_version": "1.5.0",
     "model_name": "HTMLModel",
     "state": {
      "_dom_classes": [],
      "_model_module": "@jupyter-widgets/controls",
      "_model_module_version": "1.5.0",
      "_model_name": "HTMLModel",
      "_view_count": null,
      "_view_module": "@jupyter-widgets/controls",
      "_view_module_version": "1.5.0",
      "_view_name": "HTMLView",
      "description": "",
      "description_tooltip": null,
      "layout": "IPY_MODEL_49a781fbf07e4fe69dcbafec9af4e78c",
      "placeholder": "​",
      "style": "IPY_MODEL_f64bda422bcf41fc983265e7d7295540",
      "value": "Generating unsupervised split: 100%"
     }
    },
    "fdb4470f239e4cad8fd9dc68b0b77c99": {
     "model_module": "@jupyter-widgets/base",
     "model_module_version": "1.2.0",
     "model_name": "LayoutModel",
     "state": {
      "_model_module": "@jupyter-widgets/base",
      "_model_module_version": "1.2.0",
      "_model_name": "LayoutModel",
      "_view_count": null,
      "_view_module": "@jupyter-widgets/base",
      "_view_module_version": "1.2.0",
      "_view_name": "LayoutView",
      "align_content": null,
      "align_items": null,
      "align_self": null,
      "border": null,
      "bottom": null,
      "display": null,
      "flex": null,
      "flex_flow": null,
      "grid_area": null,
      "grid_auto_columns": null,
      "grid_auto_flow": null,
      "grid_auto_rows": null,
      "grid_column": null,
      "grid_gap": null,
      "grid_row": null,
      "grid_template_areas": null,
      "grid_template_columns": null,
      "grid_template_rows": null,
      "height": null,
      "justify_content": null,
      "justify_items": null,
      "left": null,
      "margin": null,
      "max_height": null,
      "max_width": null,
      "min_height": null,
      "min_width": null,
      "object_fit": null,
      "object_position": null,
      "order": null,
      "overflow": null,
      "overflow_x": null,
      "overflow_y": null,
      "padding": null,
      "right": null,
      "top": null,
      "visibility": null,
      "width": null
     }
    },
    "fe2f7790349141ee95c2b0eeb9947842": {
     "model_module": "@jupyter-widgets/controls",
     "model_module_version": "1.5.0",
     "model_name": "DescriptionStyleModel",
     "state": {
      "_model_module": "@jupyter-widgets/controls",
      "_model_module_version": "1.5.0",
      "_model_name": "DescriptionStyleModel",
      "_view_count": null,
      "_view_module": "@jupyter-widgets/base",
      "_view_module_version": "1.2.0",
      "_view_name": "StyleView",
      "description_width": ""
     }
    },
    "ffd07a2973514afb93e2ffbbdbcd789c": {
     "model_module": "@jupyter-widgets/base",
     "model_module_version": "1.2.0",
     "model_name": "LayoutModel",
     "state": {
      "_model_module": "@jupyter-widgets/base",
      "_model_module_version": "1.2.0",
      "_model_name": "LayoutModel",
      "_view_count": null,
      "_view_module": "@jupyter-widgets/base",
      "_view_module_version": "1.2.0",
      "_view_name": "LayoutView",
      "align_content": null,
      "align_items": null,
      "align_self": null,
      "border": null,
      "bottom": null,
      "display": null,
      "flex": null,
      "flex_flow": null,
      "grid_area": null,
      "grid_auto_columns": null,
      "grid_auto_flow": null,
      "grid_auto_rows": null,
      "grid_column": null,
      "grid_gap": null,
      "grid_row": null,
      "grid_template_areas": null,
      "grid_template_columns": null,
      "grid_template_rows": null,
      "height": null,
      "justify_content": null,
      "justify_items": null,
      "left": null,
      "margin": null,
      "max_height": null,
      "max_width": null,
      "min_height": null,
      "min_width": null,
      "object_fit": null,
      "object_position": null,
      "order": null,
      "overflow": null,
      "overflow_x": null,
      "overflow_y": null,
      "padding": null,
      "right": null,
      "top": null,
      "visibility": null,
      "width": null
     }
    }
   }
  }
 },
 "nbformat": 4,
 "nbformat_minor": 0
}
