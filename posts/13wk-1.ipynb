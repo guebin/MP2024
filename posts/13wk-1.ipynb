{
 "cells": [
  {
   "cell_type": "raw",
   "id": "54c4e2ba-7995-4cb0-8a79-9ecac46fca22",
   "metadata": {
    "vscode": {
     "languageId": "raw"
    }
   },
   "source": [
    "---\n",
    "title: \"13wk-1: 캐글소개, 타이타닉 데이터의 이해\"\n",
    "author: \"최규빈\"\n",
    "date: \"12/04/2024\"\n",
    "---"
   ]
  },
  {
   "attachments": {},
   "cell_type": "markdown",
   "id": "25d15514-2b14-4191-b884-c366784352f6",
   "metadata": {},
   "source": [
    "- 캐글소개: <https://guebin.github.io/MP2023/posts/01wk-01.html>\n",
    "\n",
    "- 타이타닉 데이터의 이해: <https://guebin.github.io/MP2023/posts/01wk-02.html>"
   ]
  }
 ],
 "metadata": {
  "kernelspec": {
   "display_name": "Python 3 (ipykernel)",
   "language": "python",
   "name": "python3"
  },
  "language_info": {
   "codemirror_mode": {
    "name": "ipython",
    "version": 3
   },
   "file_extension": ".py",
   "mimetype": "text/x-python",
   "name": "python",
   "nbconvert_exporter": "python",
   "pygments_lexer": "ipython3",
   "version": "3.12.2"
  }
 },
 "nbformat": 4,
 "nbformat_minor": 5
}
