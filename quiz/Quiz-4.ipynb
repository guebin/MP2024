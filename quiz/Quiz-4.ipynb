{
 "cells": [
  {
   "cell_type": "raw",
   "id": "27fb6fc6-70b6-4895-b924-292dca1e601b",
   "metadata": {
    "vscode": {
     "languageId": "raw"
    }
   },
   "source": [
    "---\n",
    "title: \"**Quiz-4 (2024.10.22)**  // 범위: 05wk-1 까지\"\n",
    "author: \"최규빈\"\n",
    "date: \"10/22/2024\"\n",
    "comments: false\n",
    "---"
   ]
  },
  {
   "cell_type": "markdown",
   "id": "20e4d040-d119-4aa2-9c88-4a39a2a61ce2",
   "metadata": {},
   "source": [
    "<a href=\"https://colab.research.google.com/github/guebin/MP2024/blob/main/quiz/Quiz-4.ipynb\"><img src=\"https://colab.research.google.com/assets/colab-badge.svg\" style=\"text-align: left\"></a>"
   ]
  },
  {
   "cell_type": "markdown",
   "id": "dad5ebe9-c129-4b48-900f-4bc355ed95be",
   "metadata": {},
   "source": [
    "| **항목**               | **허용 여부**        | **비고**                                          |\n",
    "|------------------------|----------------------|---------------------------------------------------|\n",
    "| **강의노트 참고**      | 허용                 | 수업 중 제공된 강의노트나 본인이 정리한 자료를 참고 가능       |\n",
    "| **구글 검색**          | 허용                 | 인터넷을 통한 자료 검색 및 정보 확인 가능        |\n",
    "| **생성 모형 사용**           | 허용 안함            | 인공지능 기반 도구(GPT 등) 사용 불가            |"
   ]
  },
  {
   "cell_type": "code",
   "execution_count": 1,
   "id": "5a2a7249",
   "metadata": {},
   "outputs": [
    {
     "name": "stderr",
     "output_type": "stream",
     "text": [
      "/home/cgb3/anaconda3/envs/hf/lib/python3.12/site-packages/tqdm/auto.py:21: TqdmWarning: IProgress not found. Please update jupyter and ipywidgets. See https://ipywidgets.readthedocs.io/en/stable/user_install.html\n",
      "  from .autonotebook import tqdm as notebook_tqdm\n"
     ]
    }
   ],
   "source": [
    "import datasets\n",
    "import transformers\n",
    "import torchvision.transforms\n",
    "import evaluate\n",
    "import numpy as np"
   ]
  },
  {
   "cell_type": "markdown",
   "id": "76eaddd9-16f0-4ff2-be4f-99a6440ea393",
   "metadata": {},
   "source": [
    "아래는 `datasets` 라이브러리의 `load_dataset` 함수를 사용하여 `beans`라는 데이터셋을 불러오는 코드이다. "
   ]
  },
  {
   "cell_type": "code",
   "execution_count": 6,
   "id": "0be76a63",
   "metadata": {},
   "outputs": [
    {
     "data": {
      "text/plain": [
       "DatasetDict({\n",
       "    train: Dataset({\n",
       "        features: ['image_file_path', 'image', 'labels'],\n",
       "        num_rows: 1034\n",
       "    })\n",
       "    validation: Dataset({\n",
       "        features: ['image_file_path', 'image', 'labels'],\n",
       "        num_rows: 133\n",
       "    })\n",
       "    test: Dataset({\n",
       "        features: ['image_file_path', 'image', 'labels'],\n",
       "        num_rows: 128\n",
       "    })\n",
       "})"
      ]
     },
     "execution_count": 6,
     "metadata": {},
     "output_type": "execute_result"
    }
   ],
   "source": [
    "beans = datasets.load_dataset('beans')\n",
    "beans"
   ]
  },
  {
   "attachments": {},
   "cell_type": "markdown",
   "id": "bd6e87d0-ad7d-465e-9a08-a05a817af1d9",
   "metadata": {},
   "source": [
    "`beans` 데이터셋은 **train**(1034개), **validation**(133개), **test**(128개)로 나뉘며, 각각 모델 학습, 검증, 성능 평가에 사용된다. 각 데이터셋은 이미지 파일 경로(`image_file_path`), 실제 이미지 데이터(`image`), 그리고 이미지에 대한 질병 라벨(`labels`)로 구성되어 있다. 이 라벨은 각 이미지가 어떤 질병을 나타내는지에 대한 정보를 제공한다.\n",
    "\n",
    "라벨 0은 \"각진 잎 반점(angular_leaf_spot)\"이라는 질병으로, 이는 콩 잎에 특정 형태의 반점이 생기는 현상을 의미한다. 라벨 1은 \"콩 녹병(bean_rust)\"으로, 콩 잎에 붉은 녹병이 나타나는 질병이다. 마지막으로 라벨 2는 \"healthy(건강한 잎)\"을 나타내며, 이 라벨이 붙은 이미지는 질병 없이 건강한 콩 잎을 뜻한다. 이러한 라벨을 통해 데이터셋의 각 이미지가 어떤 질병을 가지고 있는지 쉽게 파악할 수 있다."
   ]
  },
  {
   "cell_type": "code",
   "execution_count": 7,
   "id": "b3452dd5-dcc8-4ca7-b6f2-377fe8eda705",
   "metadata": {},
   "outputs": [],
   "source": [
    "id2label = {0: 'angular_leaf_spot', 1: 'bean_rust', 2: 'healthy'}\n",
    "label2id = {'angular_leaf_spot': 0, 'bean_rust': 1, 'healthy': 2}"
   ]
  },
  {
   "cell_type": "markdown",
   "id": "d2e4381f-6bdd-4696-b768-8c432b9d405e",
   "metadata": {},
   "source": [
    "# 1. `beans` 자료분석 -- 100점"
   ]
  },
  {
   "cell_type": "markdown",
   "id": "c1b2d2c4-d3c6-43ea-9b8f-a680bf417de3",
   "metadata": {},
   "source": [
    "> 배점: (1),(2),(3),(4) -- 5점, (5),(6) -- 30점 (7),(8) -- 10점"
   ]
  }
 ],
 "metadata": {
  "kernelspec": {
   "display_name": "Python 3 (ipykernel)",
   "language": "python",
   "name": "python3"
  },
  "language_info": {
   "codemirror_mode": {
    "name": "ipython",
    "version": 3
   },
   "file_extension": ".py",
   "mimetype": "text/x-python",
   "name": "python",
   "nbconvert_exporter": "python",
   "pygments_lexer": "ipython3",
   "version": "3.12.2"
  }
 },
 "nbformat": 4,
 "nbformat_minor": 5
}
