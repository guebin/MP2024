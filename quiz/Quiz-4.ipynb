{
 "cells": [
  {
   "cell_type": "raw",
   "id": "27fb6fc6-70b6-4895-b924-292dca1e601b",
   "metadata": {
    "vscode": {
     "languageId": "raw"
    }
   },
   "source": [
    "---\n",
    "title: \"**Quiz-4 (2024.10.22)**  // 범위: 05wk-1 까지\"\n",
    "author: \"최규빈\"\n",
    "date: \"10/22/2024\"\n",
    "comments: false\n",
    "---"
   ]
  },
  {
   "cell_type": "markdown",
   "id": "20e4d040-d119-4aa2-9c88-4a39a2a61ce2",
   "metadata": {},
   "source": [
    "<a href=\"https://colab.research.google.com/github/guebin/MP2024/blob/main/quiz/Quiz-4.ipynb\"><img src=\"https://colab.research.google.com/assets/colab-badge.svg\" style=\"text-align: left\"></a>"
   ]
  },
  {
   "cell_type": "markdown",
   "id": "dad5ebe9-c129-4b48-900f-4bc355ed95be",
   "metadata": {},
   "source": [
    "| **항목**               | **허용 여부**        | **비고**                                          |\n",
    "|------------------------|----------------------|---------------------------------------------------|\n",
    "| **강의노트 참고**      | 허용                 | 수업 중 제공된 강의노트나 본인이 정리한 자료를 참고 가능       |\n",
    "| **구글 검색**          | 허용                 | 인터넷을 통한 자료 검색 및 정보 확인 가능        |\n",
    "| **생성 모형 사용**           | 허용 안함            | 인공지능 기반 도구(GPT 등) 사용 불가            |"
   ]
  },
  {
   "cell_type": "code",
   "execution_count": 1,
   "id": "5a2a7249",
   "metadata": {},
   "outputs": [
    {
     "name": "stderr",
     "output_type": "stream",
     "text": [
      "/home/cgb3/anaconda3/envs/hf/lib/python3.12/site-packages/tqdm/auto.py:21: TqdmWarning: IProgress not found. Please update jupyter and ipywidgets. See https://ipywidgets.readthedocs.io/en/stable/user_install.html\n",
      "  from .autonotebook import tqdm as notebook_tqdm\n"
     ]
    }
   ],
   "source": [
    "import datasets\n",
    "import transformers\n",
    "import torchvision.transforms\n",
    "import evaluate\n",
    "import numpy as np"
   ]
  },
  {
   "cell_type": "markdown",
   "id": "76eaddd9-16f0-4ff2-be4f-99a6440ea393",
   "metadata": {},
   "source": [
    "아래는 `datasets` 라이브러리의 `load_dataset` 함수를 사용하여 `beans`라는 데이터셋을 불러오는 코드이다. "
   ]
  },
  {
   "cell_type": "code",
   "execution_count": 6,
   "id": "0be76a63",
   "metadata": {},
   "outputs": [
    {
     "data": {
      "text/plain": [
       "DatasetDict({\n",
       "    train: Dataset({\n",
       "        features: ['image_file_path', 'image', 'labels'],\n",
       "        num_rows: 1034\n",
       "    })\n",
       "    validation: Dataset({\n",
       "        features: ['image_file_path', 'image', 'labels'],\n",
       "        num_rows: 133\n",
       "    })\n",
       "    test: Dataset({\n",
       "        features: ['image_file_path', 'image', 'labels'],\n",
       "        num_rows: 128\n",
       "    })\n",
       "})"
      ]
     },
     "execution_count": 6,
     "metadata": {},
     "output_type": "execute_result"
    }
   ],
   "source": [
    "beans = datasets.load_dataset('beans')\n",
    "beans"
   ]
  },
  {
   "attachments": {},
   "cell_type": "markdown",
   "id": "bd6e87d0-ad7d-465e-9a08-a05a817af1d9",
   "metadata": {},
   "source": [
    "`beans` 데이터셋은 **train**(1034개), **validation**(133개), **test**(128개)로 나뉘며, 각각 모델 학습, 검증, 성능 평가에 사용된다. 각 데이터셋은 이미지 파일 경로(`image_file_path`), 실제 이미지 데이터(`image`), 그리고 이미지에 대한 질병 라벨(`labels`)로 구성되어 있다. 이 라벨은 각 이미지가 어떤 질병을 나타내는지에 대한 정보를 제공한다.\n",
    "\n",
    "라벨 0은 \"각진 잎 반점(angular_leaf_spot)\"이라는 질병으로, 이는 콩 잎에 특정 형태의 반점이 생기는 현상을 의미한다. 라벨 1은 \"콩 녹병(bean_rust)\"으로, 콩 잎에 붉은 녹병이 나타나는 질병이다. 마지막으로 라벨 2는 \"healthy(건강한 잎)\"을 나타내며, 이 라벨이 붙은 이미지는 질병 없이 건강한 콩 잎을 뜻한다. 이러한 라벨을 통해 데이터셋의 각 이미지가 어떤 질병을 가지고 있는지 쉽게 파악할 수 있다."
   ]
  },
  {
   "cell_type": "code",
   "execution_count": 7,
   "id": "b3452dd5-dcc8-4ca7-b6f2-377fe8eda705",
   "metadata": {},
   "outputs": [],
   "source": [
    "id2label = {0: 'angular_leaf_spot', 1: 'bean_rust', 2: 'healthy'}\n",
    "label2id = {'angular_leaf_spot': 0, 'bean_rust': 1, 'healthy': 2}"
   ]
  },
  {
   "cell_type": "markdown",
   "id": "06823050-f0fa-4c5a-9d63-cec6ac9ca618",
   "metadata": {},
   "source": [
    "# 1. `beans` 자료분석 -- 100점"
   ]
  },
  {
   "cell_type": "markdown",
   "id": "8c8a0354-98a8-41d0-a16a-0e2b3386a3bb",
   "metadata": {},
   "source": [
    "> 배점: (1),(2),(3),(4) -- 5점, (5),(6) -- 30점 (7),(8) -- 10점"
   ]
  },
  {
   "cell_type": "markdown",
   "id": "64d62582-e89c-41df-b7e5-d5d79a8f47d4",
   "metadata": {},
   "source": [
    "`(1)` `beans['train'][10]` 에 포함된 이미지의 크기와 라벨을 확인하라."
   ]
  },
  {
   "cell_type": "markdown",
   "id": "7107ee5a-a692-40d4-b2d6-b21088bbddfc",
   "metadata": {},
   "source": [
    "`(2)` `torchvision.transforms.RandomResizedCrop`을 사용하여 `beans['train'][10]`에 있는 이미지를 (224, 224) 크기로 변환하는 코드를 작성하라."
   ]
  },
  {
   "cell_type": "markdown",
   "id": "dd287c72-7a81-486a-bb0e-64a57fa9046b",
   "metadata": {},
   "source": [
    "`(3)` `torchvision.transforms.ToTensor`를 사용하여 `beans['train'][10]`에 포함된 이미지를 텐서(Tensor)로 변환하는 코드를 작성하라."
   ]
  },
  {
   "cell_type": "markdown",
   "id": "ec01d8ba-d533-4bac-8863-e08957580a63",
   "metadata": {},
   "source": [
    "`(4)` `torchvision.transforms.Normalize`를 사용하여 이미지의 각 채널에 아래와 같은 정규화를 수행하는 변환을 선언하라:\n",
    "\n",
    "   - 빨강 채널: $r \\to \\frac{r - 0.5}{0.5}$\n",
    "   - 초록 채널: $g \\to \\frac{g - 0.5}{0.5}$\n",
    "   - 파랑 채널: $b \\to \\frac{b - 0.5}{0.5}$\n",
    "\n",
    "그리고 `torchvision.transforms.Compose`를 활용하여 아래 순서대로 변환을 수행하는 코드를 작성하라. \n",
    "\n",
    "   - 첫 번째: 이미지를 (224, 224) 크기로 무작위로 자르기 (`RandomResizedCrop`)\n",
    "   - 두 번째: 이미지를 텐서로 변환 (`ToTensor`)\n",
    "   - 세 번째: 각 채널별로 주어진 방식대로 정규화 (`Normalize`)"
   ]
  },
  {
   "cell_type": "markdown",
   "id": "c28a6b5d-5a42-424e-96c1-8b4e9a0ee4cd",
   "metadata": {},
   "source": [
    "이를 이용하여 `beans['train'][10]` 에 포함된 이미지를 변환하라. "
   ]
  },
  {
   "cell_type": "markdown",
   "id": "71090039-34f5-4791-80b3-c33ca74b238c",
   "metadata": {},
   "source": [
    "`(5)` 아래의 코드를 이용하여 모델을 선언하라. "
   ]
  },
  {
   "cell_type": "markdown",
   "id": "3c645a41-1746-4183-a853-15e4ffa4caaf",
   "metadata": {},
   "source": [
    "```Python\n",
    "model = transformers.AutoModelForImageClassification.from_pretrained(\n",
    "    \"google/vit-base-patch16-224-in21k\",\n",
    "    num_labels=3,\n",
    "    id2label=id2label,\n",
    "    label2id=label2id,\n",
    ")\n",
    "```"
   ]
  },
  {
   "cell_type": "markdown",
   "id": "79e36260-d1b6-4ba4-8839-a2add11e8570",
   "metadata": {},
   "source": [
    "위의 모델을 이용하여 `beans['train'][10]`의 이미지에 대한 `loss`를 구하라. "
   ]
  },
  {
   "cell_type": "markdown",
   "id": "eb388ab0-b051-4f1b-ad6e-5e35058c1bcd",
   "metadata": {},
   "source": [
    "`(6)` `beans` 데이터를 학습하는 코드를 작성하고 모델을 훈련하라. \n",
    "\n",
    "**주의** \n",
    "\n",
    "1. `train` 데이터를 훈련용으로, `validation` 데이터를 검증용으로 사용하라.\n",
    "2. 검증자료에 대한 정확도가 90%이상일 경우만 정답으로 인정한다. "
   ]
  },
  {
   "cell_type": "markdown",
   "id": "e79e5cfb-c99c-4c75-8a28-500b02741aeb",
   "metadata": {},
   "source": [
    "`(7)` 학습된 모델을 사용하여 train, validation, test 데이터셋 각각에 대한 정확도를 계산하라."
   ]
  },
  {
   "cell_type": "markdown",
   "id": "967ab0c3-0e53-44df-a95a-3c369fe2ea60",
   "metadata": {},
   "source": [
    "`(8)` `beans['train'][10]`의 이미지에 대한 `loss`를 구하라. `(5)` 과 비교하여 개선점이 있는가? "
   ]
  },
  {
   "cell_type": "markdown",
   "id": "82558e81-0a3b-4ec3-871f-611fe9c410cc",
   "metadata": {},
   "source": [
    ":::{.callout-note} \n",
    "\n",
    "### (5)번 코드 그대로 돌렸는데 에러가 났다면? 구글 검색하지 말고 이걸 읽어주세요!\n",
    "\n",
    "`(5)`번에서 작성한 코드를 그대로 사용해도 당연히 동작하지 않겠죠? 그 이유는, 학습을 시작하기 전에는 데이터와 모델의 파라미터가 모두 `cpu`에 있지만, 학습이 끝난 후에는 **모델의 파라미터가** `cuda`(GPU)로 올라가 있기 때문입니다. (하지만 **데이터는** 여전히 `cpu`에 남아 있습니다.) \n",
    "  \n",
    "이 상태에서 코드를 실행하려면 두 가지 방법이 있습니다:\n",
    "\n",
    "1. 데이터를 `cuda`로 옮기기\n",
    "2. 모델을 `cpu`로 다시 내리기\n",
    "  \n",
    "이 문제에서는 **2. 모델을 `cpu`로 내리는 방법**이 더 간편합니다. 이를 위해 `model.to(\"cpu\")` 코드를 사용하면, 모델의 모든 파라미터를 `cpu`로 옮길 수 있습니다. 즉, 학습이 끝난 후에는 모델을 `cpu`로 이동시켜야만, 데이터와 모델이 동일한 장치에서 계산되기 때문에 코드가 문제없이 작동합니다.\n",
    "\n",
    "> **힌트 요약:** **(5)번을 해결하셨다면**, (5)번의 코드에서 `model.to(\"cpu\")`를 적당한 위치에 추가하세요!\n",
    "\n",
    ":::"
   ]
  }
 ],
 "metadata": {
  "kernelspec": {
   "display_name": "Python 3 (ipykernel)",
   "language": "python",
   "name": "python3"
  },
  "language_info": {
   "codemirror_mode": {
    "name": "ipython",
    "version": 3
   },
   "file_extension": ".py",
   "mimetype": "text/x-python",
   "name": "python",
   "nbconvert_exporter": "python",
   "pygments_lexer": "ipython3",
   "version": "3.12.2"
  }
 },
 "nbformat": 4,
 "nbformat_minor": 5
}
