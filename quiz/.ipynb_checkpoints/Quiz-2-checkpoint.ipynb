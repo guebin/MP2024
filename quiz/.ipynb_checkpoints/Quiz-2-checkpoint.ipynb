{
 "cells": [
  {
   "cell_type": "raw",
   "id": "c4e2c429-1a4d-4bc8-ad5e-4ddc941c6113",
   "metadata": {
    "vscode": {
     "languageId": "raw"
    }
   },
   "source": [
    "---\n",
    "title: \"**Quiz-2 (2024.09.24)**  // 범위: 02wk-1 까지\"\n",
    "author: \"최규빈\"\n",
    "date: \"09/24/2024\"\n",
    "comments: false\n",
    "---"
   ]
  },
  {
   "cell_type": "markdown",
   "id": "8f3a5fc8-5764-4e87-8f49-9b97cdad04cc",
   "metadata": {},
   "source": [
    "<a href=\"https://colab.research.google.com/github/guebin/MP2024/blob/main/quiz/Quiz-2.ipynb\"><img src=\"https://colab.research.google.com/assets/colab-badge.svg\" style=\"text-align: left\"></a>"
   ]
  },
  {
   "cell_type": "markdown",
   "id": "b275c0fe-5504-4ae5-aff4-1442dc72c68c",
   "metadata": {},
   "source": [
    "| **항목**               | **허용 여부**        | **비고**                                          |\n",
    "|------------------------|----------------------|---------------------------------------------------|\n",
    "| **강의노트 참고**      | 허용                 | 수업 중 제공된 강의노트나 본인이 정리한 자료를 참고 가능       |\n",
    "| **구글 검색**          | 허용                 | 인터넷을 통한 자료 검색 및 정보 확인 가능        |\n",
    "| **생성 모형 사용**           | 허용 안함            | 인공지능 기반 도구(GPT 등) 사용 불가            |"
   ]
  },
  {
   "cell_type": "markdown",
   "id": "1565f526-3725-40eb-8c6b-087ab5ff00ad",
   "metadata": {
    "vscode": {
     "languageId": "raw"
    }
   },
   "source": [
    "{{<video https://youtu.be/playlist?list=PLQqh36zP38-zC5AHlxLrDjjYJRbFt7SoJ&si=vVf4ikZJSLGVsNvB >}}"
   ]
  },
  {
   "cell_type": "code",
   "execution_count": 1,
   "id": "afc188c7",
   "metadata": {},
   "outputs": [],
   "source": [
    "# pip install datasets evaluate accelerate"
   ]
  },
  {
   "cell_type": "markdown",
   "id": "603a6b3e-4561-4777-ab34-945585dc1eec",
   "metadata": {},
   "source": [
    "# `1`. `emotion` 자료 탐색 -- 10점"
   ]
  },
  {
   "cell_type": "markdown",
   "id": "baf16e8b-8209-420e-b1eb-5343f2098871",
   "metadata": {},
   "source": [
    "> (1)-(2) 모두 부분점수 없음."
   ]
  },
  {
   "cell_type": "markdown",
   "id": "d0b51c94-934c-4dd0-ba70-700fab728921",
   "metadata": {},
   "source": [
    "아래는 Hugging Face의 `emotion` 데이터셋을 로드하는 코드이다: "
   ]
  },
  {
   "cell_type": "code",
   "execution_count": 1,
   "id": "1b9d2926-1bab-4922-8cce-dbac3f8ddcc0",
   "metadata": {},
   "outputs": [
    {
     "name": "stderr",
     "output_type": "stream",
     "text": [
      "/home/cgb3/anaconda3/envs/hf/lib/python3.12/site-packages/tqdm/auto.py:21: TqdmWarning: IProgress not found. Please update jupyter and ipywidgets. See https://ipywidgets.readthedocs.io/en/stable/user_install.html\n",
      "  from .autonotebook import tqdm as notebook_tqdm\n"
     ]
    }
   ],
   "source": [
    "from datasets import load_dataset\n",
    "emotion = load_dataset('emotion')"
   ]
  },
  {
   "cell_type": "markdown",
   "id": "02590311-4078-4395-bf86-38623d924ad0",
   "metadata": {},
   "source": [
    "`emotion['train'][-2]`는 훈련 데이터의 두 번째 마지막 항목을 출력한다. 출력된 샘플은 다음과 같다."
   ]
  },
  {
   "cell_type": "code",
   "execution_count": 2,
   "id": "cebb76be-9552-4d9f-bc2d-896fa052a877",
   "metadata": {},
   "outputs": [
    {
     "data": {
      "text/plain": [
       "{'text': 'i feel like this was such a rude comment and im glad that t',\n",
       " 'label': 3}"
      ]
     },
     "execution_count": 2,
     "metadata": {},
     "output_type": "execute_result"
    }
   ],
   "source": [
    "emotion['train'][-2]"
   ]
  },
  {
   "cell_type": "markdown",
   "id": "4af7daf2-cdcc-40c9-b86e-2944264d7f89",
   "metadata": {},
   "source": [
    "출력된 샘플은 딕셔너리 형식으로, text에는 문장 \"i feel like this was such a rude comment and im glad that t\"이 담겨 있다. 이 문장의 감정은 label 항목에 저장되어 있으며, 값은 3으로 나타난다. label 값은 해당 텍스트가 표현하는 감정을 숫자로 표현한 것이다.\n",
    "\n",
    "감정 레이블은 총 6가지로 나뉘며, 각각의 감정은 다음과 같이 정의된다:"
   ]
  },
  {
   "cell_type": "code",
   "execution_count": 3,
   "id": "e39e7b5d-8bde-4bc3-b536-cfd606cb278e",
   "metadata": {},
   "outputs": [
    {
     "data": {
      "text/plain": [
       "['sadness', 'joy', 'love', 'anger', 'fear', 'surprise']"
      ]
     },
     "execution_count": 3,
     "metadata": {},
     "output_type": "execute_result"
    }
   ],
   "source": [
    "emotion['train'].features['label'].names"
   ]
  },
  {
   "cell_type": "code",
   "execution_count": 4,
   "id": "ee94057f-7696-4525-8933-9dde24abea19",
   "metadata": {},
   "outputs": [
    {
     "data": {
      "text/plain": [
       "{0: 'sadness', 1: 'joy', 2: 'love', 3: 'anger', 4: 'fear', 5: 'surprise'}"
      ]
     },
     "execution_count": 4,
     "metadata": {},
     "output_type": "execute_result"
    }
   ],
   "source": [
    "{\n",
    "  0: 'sadness',\n",
    "  1: 'joy',\n",
    "  2: 'love',\n",
    "  3: 'anger',\n",
    "  4: 'fear',\n",
    "  5: 'surprise'\n",
    "}"
   ]
  },
  {
   "cell_type": "markdown",
   "id": "4d9e8a47-1f87-4e15-ba4e-7bc881d52ab4",
   "metadata": {},
   "source": [
    "따라서, 문장 \"i feel like this was such a rude comment and im glad that t\" 의 감정은 `label`이 3이므로, \"anger\"에 해당한다."
   ]
  },
  {
   "cell_type": "markdown",
   "id": "5331d104-02b4-4537-aadc-0f36e3baf3e8",
   "metadata": {},
   "source": [
    "`(1)` `emotion` 데이터셋의 각 분할(train, validation, test)에서 감정별로 몇 개의 데이터가 있는지를 조사하라. 즉 아래의 표에서 빈칸에 해당하는 숫자를 계산할 수 있는 코드를 제시하라. -- 5점"
   ]
  },
  {
   "cell_type": "markdown",
   "id": "dc2f2e77-7a8f-443f-97cc-39ead5fb67a8",
   "metadata": {},
   "source": [
    "| Dataset    | 0:Sadness | 1:Joy   | 2:Love  | 3:Anger | 4:Fear  | 5:Surprise | Total  |\n",
    "|------------|-----------|---------|---------|---------|---------|------------|--------|\n",
    "| Train      | ??      | ??    | ??    | ??    | ??    | ??       | 16000  |\n",
    "| Validation | ??      | ??    | ??    | ??    | ??    | ??       | 2000   |\n",
    "| Test       | ??      | ??    | ??    | ??    | ??    | ??       | 2000   |"
   ]
  },
  {
   "attachments": {},
   "cell_type": "markdown",
   "id": "fcb8d532-4736-4e5d-8d39-75da738be046",
   "metadata": {},
   "source": [
    "**note:** 정답예시: 아래와 같은 형식으로 출력하는 코드를 작성하면 정답으로 인정\n",
    "\n",
    "```\n",
    "train\n",
    "{0: 4666, 1: 5362, 2: 1304, 3: 2159, 4: 1937, 5: 572}\n",
    "--\n",
    "validation\n",
    "{0: 550, 1: 704, 2: 178, 3: 275, 4: 212, 5: 81}\n",
    "--\n",
    "test\n",
    "{0: 581, 1: 695, 2: 159, 3: 275, 4: 224, 5: 66}\n",
    "--\n",
    "```"
   ]
  },
  {
   "cell_type": "markdown",
   "id": "b5e553e0-aaaf-4d85-8ea5-99077c0f7f95",
   "metadata": {},
   "source": [
    "**hint**: 아래중 원하는 형태를 이용하여 풀이하면 편리하다. \n",
    "\n",
    "- `emotion['train']['label']`\n",
    "- `emotion['train'].to_dict()`\n",
    "- `emotion['train'].to_pandas()`"
   ]
  },
  {
   "cell_type": "markdown",
   "id": "c8dc779a-8471-4c33-8cb9-5798d0aefc31",
   "metadata": {},
   "source": [
    "(풀이)"
   ]
  },
  {
   "cell_type": "code",
   "execution_count": 5,
   "id": "45a0dd75-1741-43ea-9766-6e0884cb048f",
   "metadata": {},
   "outputs": [
    {
     "data": {
      "text/plain": [
       "{'train': {0: 4666, 1: 5362, 2: 1304, 3: 2159, 4: 1937, 5: 572},\n",
       " 'validation': {0: 550, 1: 704, 2: 178, 3: 275, 4: 212, 5: 81},\n",
       " 'test': {0: 581, 1: 695, 2: 159, 3: 275, 4: 224, 5: 66}}"
      ]
     },
     "execution_count": 5,
     "metadata": {},
     "output_type": "execute_result"
    }
   ],
   "source": [
    "{key: {i:emotion[key]['label'].count(i) for i in set(emotion[key]['label'])} for key in emotion}"
   ]
  },
  {
   "attachments": {},
   "cell_type": "markdown",
   "id": "c3afe59f-eb85-4d05-95da-6b12e41ebb20",
   "metadata": {},
   "source": [
    "`(2)` `emotion` 데이터셋의 `test`셋에서 각 감정(label)별로 가장 짧은 길이를 가진 텍스트를 출력하는 코드를 작성하라. -- 5점"
   ]
  },
  {
   "cell_type": "markdown",
   "id": "7af7ff35-b998-491f-b8d6-acac79950e85",
   "metadata": {},
   "source": [
    "**note**: 정답예시는 아래와 같다. \n",
    "\n",
    "```\n",
    "['i feels so lame',\n",
    " 'i feel any better',\n",
    " 'i just feel tender',\n",
    " 'i feel so damn agitated',\n",
    " 'i feel alarmed',\n",
    " 'i feel all funny sometimes']\n",
    "```"
   ]
  },
  {
   "cell_type": "markdown",
   "id": "bc5dfc60-f1f2-4616-85ce-d637c0b6854a",
   "metadata": {},
   "source": [
    "(풀이1)"
   ]
  },
  {
   "cell_type": "code",
   "execution_count": 6,
   "id": "8f511432-af55-4afe-8443-5c7406389321",
   "metadata": {},
   "outputs": [
    {
     "data": {
      "text/plain": [
       "['i feels so lame']"
      ]
     },
     "execution_count": 6,
     "metadata": {},
     "output_type": "execute_result"
    }
   ],
   "source": [
    "_라벨0만 = [dct['text'] for dct in emotion['test'] if dct['label']==0]\n",
    "min(map(len,_라벨0만))\n",
    "[txt for txt in _라벨0만 if len(txt)==min(map(len,_라벨0만))]"
   ]
  },
  {
   "cell_type": "code",
   "execution_count": 7,
   "id": "05aaea9b-0ec0-47fd-a5e6-4ffee4f65ce0",
   "metadata": {},
   "outputs": [],
   "source": [
    "def func(_라벨0만):\n",
    "    min(map(len,_라벨0만))\n",
    "    return [txt for txt in _라벨0만 if len(txt)==min(map(len,_라벨0만))]"
   ]
  },
  {
   "cell_type": "code",
   "execution_count": 8,
   "id": "e267862f-78f8-4f0d-b320-244bf2e25ca3",
   "metadata": {},
   "outputs": [
    {
     "data": {
      "text/plain": [
       "[['i feels so lame'],\n",
       " ['i feel any better'],\n",
       " ['i just feel tender'],\n",
       " ['i feel so damn agitated'],\n",
       " ['i feel alarmed'],\n",
       " ['i feel all funny sometimes']]"
      ]
     },
     "execution_count": 8,
     "metadata": {},
     "output_type": "execute_result"
    }
   ],
   "source": [
    "list(map(func,[[dct['text'] for dct in emotion['test'] if dct['label']==lbl] for lbl in range(6)]))"
   ]
  },
  {
   "cell_type": "markdown",
   "id": "905a5fc2-5baa-4de7-8b15-f8677cd7b2d5",
   "metadata": {},
   "source": [
    "(풀이2)"
   ]
  },
  {
   "cell_type": "code",
   "execution_count": 9,
   "id": "26450a52-9102-4811-be58-792dc1acf00a",
   "metadata": {},
   "outputs": [
    {
     "data": {
      "text/html": [
       "<div>\n",
       "<style scoped>\n",
       "    .dataframe tbody tr th:only-of-type {\n",
       "        vertical-align: middle;\n",
       "    }\n",
       "\n",
       "    .dataframe tbody tr th {\n",
       "        vertical-align: top;\n",
       "    }\n",
       "\n",
       "    .dataframe thead th {\n",
       "        text-align: right;\n",
       "    }\n",
       "</style>\n",
       "<table border=\"1\" class=\"dataframe\">\n",
       "  <thead>\n",
       "    <tr style=\"text-align: right;\">\n",
       "      <th></th>\n",
       "      <th>text</th>\n",
       "      <th>label</th>\n",
       "      <th>length</th>\n",
       "    </tr>\n",
       "  </thead>\n",
       "  <tbody>\n",
       "    <tr>\n",
       "      <th>221</th>\n",
       "      <td>i feel alarmed</td>\n",
       "      <td>4</td>\n",
       "      <td>14</td>\n",
       "    </tr>\n",
       "    <tr>\n",
       "      <th>1632</th>\n",
       "      <td>id feel frantic</td>\n",
       "      <td>4</td>\n",
       "      <td>15</td>\n",
       "    </tr>\n",
       "    <tr>\n",
       "      <th>634</th>\n",
       "      <td>i feels so lame</td>\n",
       "      <td>0</td>\n",
       "      <td>15</td>\n",
       "    </tr>\n",
       "    <tr>\n",
       "      <th>873</th>\n",
       "      <td>i feel soo lonely</td>\n",
       "      <td>0</td>\n",
       "      <td>17</td>\n",
       "    </tr>\n",
       "    <tr>\n",
       "      <th>1389</th>\n",
       "      <td>i feel any better</td>\n",
       "      <td>1</td>\n",
       "      <td>17</td>\n",
       "    </tr>\n",
       "    <tr>\n",
       "      <th>...</th>\n",
       "      <td>...</td>\n",
       "      <td>...</td>\n",
       "      <td>...</td>\n",
       "    </tr>\n",
       "    <tr>\n",
       "      <th>611</th>\n",
       "      <td>i couldnt help feeling for him and this awful ...</td>\n",
       "      <td>0</td>\n",
       "      <td>284</td>\n",
       "    </tr>\n",
       "    <tr>\n",
       "      <th>119</th>\n",
       "      <td>i feel like i know who most of them are by now...</td>\n",
       "      <td>1</td>\n",
       "      <td>287</td>\n",
       "    </tr>\n",
       "    <tr>\n",
       "      <th>966</th>\n",
       "      <td>i have the joy of allowing kids to feel like t...</td>\n",
       "      <td>1</td>\n",
       "      <td>289</td>\n",
       "    </tr>\n",
       "    <tr>\n",
       "      <th>475</th>\n",
       "      <td>i feel very honored to have been shortlisted w...</td>\n",
       "      <td>1</td>\n",
       "      <td>294</td>\n",
       "    </tr>\n",
       "    <tr>\n",
       "      <th>618</th>\n",
       "      <td>i am feeling a little more relaxed i am certai...</td>\n",
       "      <td>1</td>\n",
       "      <td>296</td>\n",
       "    </tr>\n",
       "  </tbody>\n",
       "</table>\n",
       "<p>2000 rows × 3 columns</p>\n",
       "</div>"
      ],
      "text/plain": [
       "                                                   text  label  length\n",
       "221                                      i feel alarmed      4      14\n",
       "1632                                    id feel frantic      4      15\n",
       "634                                     i feels so lame      0      15\n",
       "873                                   i feel soo lonely      0      17\n",
       "1389                                  i feel any better      1      17\n",
       "...                                                 ...    ...     ...\n",
       "611   i couldnt help feeling for him and this awful ...      0     284\n",
       "119   i feel like i know who most of them are by now...      1     287\n",
       "966   i have the joy of allowing kids to feel like t...      1     289\n",
       "475   i feel very honored to have been shortlisted w...      1     294\n",
       "618   i am feeling a little more relaxed i am certai...      1     296\n",
       "\n",
       "[2000 rows x 3 columns]"
      ]
     },
     "execution_count": 9,
     "metadata": {},
     "output_type": "execute_result"
    }
   ],
   "source": [
    "df = emotion['test'].to_pandas()\n",
    "df['length'] = list(map(len,df['text']))\n",
    "df = df.sort_values('length')\n",
    "df "
   ]
  },
  {
   "cell_type": "code",
   "execution_count": 10,
   "id": "4eaa6ae7-f345-406c-b472-daed49369756",
   "metadata": {},
   "outputs": [
    {
     "data": {
      "text/plain": [
       "'i feels so lame'"
      ]
     },
     "metadata": {},
     "output_type": "display_data"
    },
    {
     "data": {
      "text/plain": [
       "'i feel any better'"
      ]
     },
     "metadata": {},
     "output_type": "display_data"
    },
    {
     "data": {
      "text/plain": [
       "'i just feel tender'"
      ]
     },
     "metadata": {},
     "output_type": "display_data"
    },
    {
     "data": {
      "text/plain": [
       "'i feel so damn agitated'"
      ]
     },
     "metadata": {},
     "output_type": "display_data"
    },
    {
     "data": {
      "text/plain": [
       "'i feel alarmed'"
      ]
     },
     "metadata": {},
     "output_type": "display_data"
    },
    {
     "data": {
      "text/plain": [
       "'i feel all funny sometimes'"
      ]
     },
     "metadata": {},
     "output_type": "display_data"
    }
   ],
   "source": [
    "for _,subdf in df.groupby('label'):\n",
    "    display(subdf.text.iloc[0])"
   ]
  },
  {
   "cell_type": "markdown",
   "id": "4c1602e1-91ab-4600-86f3-10c69b00da7e",
   "metadata": {},
   "source": [
    "# `2`. `emotion` 자료 감성분석 -- 80점"
   ]
  },
  {
   "cell_type": "markdown",
   "id": "3103ceb8-b232-4306-b6ea-da945f02d5f3",
   "metadata": {},
   "source": [
    "> (1)은 부분점수 있음, (2)는 부분점수 없음. "
   ]
  },
  {
   "cell_type": "markdown",
   "id": "fef7274f-3298-4556-bcf1-c577b6797ec5",
   "metadata": {},
   "source": [
    "`(1)` 아래의 reference 를 참고하여 `emotion`에 대한 감성분석모델을 학습하는 코드를 작성하라. -- 60점\n",
    "\n",
    "ref: \n",
    "\n",
    "- <https://guebin.github.io/MP2024/posts/02wk-1.html>\n",
    "- <https://huggingface.co/docs/transformers/tasks/sequence_classification>\n"
   ]
  },
  {
   "cell_type": "markdown",
   "id": "9b17adb4-31d5-423a-b540-ebb8887950a7",
   "metadata": {},
   "source": [
    "**세부지침** -- 세부지침을 따르지 않을시 감점이 있음 (지침1은 30점감점 지침2는 5점감점)"
   ]
  },
  {
   "cell_type": "markdown",
   "id": "007bd23f-3891-47ea-8f82-de24034fe705",
   "metadata": {},
   "source": [
    "`지침1`. `Trainer`생성시 `eval_dataset`에는 `emotion['validation']`를 전처리한 데이터를 이용하라. (`emotion['test']` 가 아니라)"
   ]
  },
  {
   "cell_type": "markdown",
   "id": "c57ef1cd-2d52-4e15-8546-e29b44f5bca8",
   "metadata": {},
   "source": [
    "`지침2`. `TrainingArguments`에서 `num_train_epochs`은 1로 설정하라. "
   ]
  },
  {
   "cell_type": "markdown",
   "id": "9cb1a06a",
   "metadata": {},
   "source": [
    "**hint**: `imdb` 자료의 경우 `num_labels = 2` 이지만, `emotion` 자료의 경우 그렇지 않음을 유의하라. "
   ]
  },
  {
   "cell_type": "markdown",
   "id": "64cab2fe-113e-407a-9683-bbdccac78cc0",
   "metadata": {},
   "source": [
    "(풀이)"
   ]
  },
  {
   "cell_type": "code",
   "execution_count": 11,
   "id": "0ea09636-0329-4af1-befb-5c8d4dc5de38",
   "metadata": {},
   "outputs": [],
   "source": [
    "import datasets\n",
    "import transformers\n",
    "import evaluate\n",
    "import numpy as np"
   ]
  },
  {
   "cell_type": "code",
   "execution_count": 12,
   "id": "fec9754d-0cd1-4a71-9925-f63179725bd8",
   "metadata": {},
   "outputs": [
    {
     "name": "stderr",
     "output_type": "stream",
     "text": [
      "/home/cgb3/anaconda3/envs/hf/lib/python3.12/site-packages/transformers/tokenization_utils_base.py:1601: FutureWarning: `clean_up_tokenization_spaces` was not set. It will be set to `True` by default. This behavior will be depracted in transformers v4.45, and will be then set to `False` by default. For more details check this issue: https://github.com/huggingface/transformers/issues/31884\n",
      "  warnings.warn(\n"
     ]
    }
   ],
   "source": [
    "## Step1 \n",
    "데이터불러오기 = datasets.load_dataset\n",
    "데이터전처리하기1 = 토크나이저 = transformers.AutoTokenizer.from_pretrained(\"distilbert/distilbert-base-uncased\") \n",
    "def 데이터전처리하기2(examples):\n",
    "    return 데이터전처리하기1(examples[\"text\"], truncation=True)\n",
    "## Step2 \n",
    "인공지능생성하기 = transformers.AutoModelForSequenceClassification.from_pretrained\n",
    "## Step3 \n",
    "데이터콜렉터 = transformers.DataCollatorWithPadding(tokenizer=토크나이저)\n",
    "def 평가하기(eval_pred):\n",
    "    predictions, labels = eval_pred\n",
    "    predictions = np.argmax(predictions, axis=1)\n",
    "    accuracy = evaluate.load(\"accuracy\")\n",
    "    return accuracy.compute(predictions=predictions, references=labels)\n",
    "트레이너세부지침생성기 = transformers.TrainingArguments\n",
    "트레이너생성기 = transformers.Trainer\n",
    "## Step4 \n",
    "강인공지능생성하기 = transformers.pipeline"
   ]
  },
  {
   "cell_type": "code",
   "execution_count": 13,
   "id": "ba58f54c-8117-421a-bef0-a37b1bcafd63",
   "metadata": {},
   "outputs": [
    {
     "name": "stderr",
     "output_type": "stream",
     "text": [
      "Some weights of DistilBertForSequenceClassification were not initialized from the model checkpoint at distilbert/distilbert-base-uncased and are newly initialized: ['classifier.bias', 'classifier.weight', 'pre_classifier.bias', 'pre_classifier.weight']\n",
      "You should probably TRAIN this model on a down-stream task to be able to use it for predictions and inference.\n"
     ]
    },
    {
     "data": {
      "text/html": [
       "\n",
       "    <div>\n",
       "      \n",
       "      <progress value='1000' max='1000' style='width:300px; height:20px; vertical-align: middle;'></progress>\n",
       "      [1000/1000 00:26, Epoch 1/1]\n",
       "    </div>\n",
       "    <table border=\"1\" class=\"dataframe\">\n",
       "  <thead>\n",
       " <tr style=\"text-align: left;\">\n",
       "      <th>Epoch</th>\n",
       "      <th>Training Loss</th>\n",
       "      <th>Validation Loss</th>\n",
       "      <th>Accuracy</th>\n",
       "    </tr>\n",
       "  </thead>\n",
       "  <tbody>\n",
       "    <tr>\n",
       "      <td>1</td>\n",
       "      <td>0.264700</td>\n",
       "      <td>0.203025</td>\n",
       "      <td>0.932500</td>\n",
       "    </tr>\n",
       "  </tbody>\n",
       "</table><p>"
      ],
      "text/plain": [
       "<IPython.core.display.HTML object>"
      ]
     },
     "metadata": {},
     "output_type": "display_data"
    },
    {
     "data": {
      "text/plain": [
       "TrainOutput(global_step=1000, training_loss=0.5039049835205078, metrics={'train_runtime': 27.0307, 'train_samples_per_second': 591.921, 'train_steps_per_second': 36.995, 'total_flos': 194625049506048.0, 'train_loss': 0.5039049835205078, 'epoch': 1.0})"
      ]
     },
     "execution_count": 13,
     "metadata": {},
     "output_type": "execute_result"
    }
   ],
   "source": [
    "## Step1 \n",
    "데이터 = 데이터불러오기('emotion')\n",
    "전처리된데이터 = 데이터.map(데이터전처리하기2,batched=True)\n",
    "전처리된훈련자료, 전처리된검증자료 = 전처리된데이터['train'], 전처리된데이터['validation']\n",
    "## Step2 \n",
    "인공지능 = 인공지능생성하기(\"distilbert/distilbert-base-uncased\", num_labels=6)\n",
    "## Step3 \n",
    "트레이너세부지침 = 트레이너세부지침생성기(\n",
    "    output_dir=\"my_awesome_model\",\n",
    "    learning_rate=2e-5,\n",
    "    per_device_train_batch_size=16,\n",
    "    per_device_eval_batch_size=16,\n",
    "    num_train_epochs=1, # 전체문제세트를 2번 공부하라..\n",
    "    weight_decay=0.01,\n",
    "    eval_strategy=\"epoch\",\n",
    "    save_strategy=\"epoch\",\n",
    "    load_best_model_at_end=True,\n",
    "    push_to_hub=False,\n",
    ")\n",
    "트레이너 = 트레이너생성기(\n",
    "    model=인공지능,\n",
    "    args=트레이너세부지침,\n",
    "    train_dataset=전처리된훈련자료,\n",
    "    eval_dataset=전처리된검증자료,\n",
    "    tokenizer=토크나이저,\n",
    "    data_collator=데이터콜렉터,\n",
    "    compute_metrics=평가하기,\n",
    ")\n",
    "트레이너.train()"
   ]
  },
  {
   "cell_type": "markdown",
   "id": "6b12fb41-1b6c-4797-ac0b-2ad1ab09a0a5",
   "metadata": {},
   "source": [
    "`(2)` `1-(2)`에서 구해진 text에 대하여 감성분석을 수행하라. -- 20점"
   ]
  },
  {
   "attachments": {},
   "cell_type": "markdown",
   "id": "5f28c6f7-b3ef-4fc2-9cde-ed1691772b0f",
   "metadata": {},
   "source": [
    "**힌트** `1-(2)`를 풀지못하였다면 아래의 코드를 이용하여 강제설정할 것 \n",
    "\n",
    "```Python\n",
    "['i feels so lame',\n",
    " 'i feel any better',\n",
    " 'i just feel tender',\n",
    " 'i feel so damn agitated',\n",
    " 'i feel alarmed',\n",
    " 'i feel all funny sometimes']\n",
    "```"
   ]
  },
  {
   "cell_type": "code",
   "execution_count": 15,
   "id": "986e9146-0dcf-4bf7-972f-23929eb6fb1a",
   "metadata": {},
   "outputs": [
    {
     "name": "stderr",
     "output_type": "stream",
     "text": [
      "Hardware accelerator e.g. GPU is available in the environment, but no `device` argument is passed to the `Pipeline` object. Model will be on CPU.\n"
     ]
    },
    {
     "data": {
      "text/plain": [
       "[{'label': 'LABEL_0', 'score': 0.9876920580863953},\n",
       " {'label': 'LABEL_1', 'score': 0.9838089942932129},\n",
       " {'label': 'LABEL_2', 'score': 0.9324933886528015},\n",
       " {'label': 'LABEL_3', 'score': 0.7004759907722473},\n",
       " {'label': 'LABEL_4', 'score': 0.9285796880722046},\n",
       " {'label': 'LABEL_5', 'score': 0.8900141716003418}]"
      ]
     },
     "execution_count": 15,
     "metadata": {},
     "output_type": "execute_result"
    }
   ],
   "source": [
    "## Step4 \n",
    "강인공지능 = 강인공지능생성하기(\"sentiment-analysis\", model=\"my_awesome_model/checkpoint-1000\")\n",
    "강인공지능([\n",
    "    'i feels so lame',\n",
    "    'i feel any better',\n",
    "    'i just feel tender',\n",
    "    'i feel so damn agitated',\n",
    "    'i feel alarmed',\n",
    "    'i feel all funny sometimes'\n",
    "])"
   ]
  },
  {
   "cell_type": "markdown",
   "id": "52f9acc9-122b-4735-82bf-8bde76e22360",
   "metadata": {},
   "source": [
    "# `3`. O/X. -- 10점"
   ]
  },
  {
   "cell_type": "markdown",
   "id": "46534071-28c6-4b7c-8c55-59c64ddb86d6",
   "metadata": {},
   "source": [
    "> 모두 맞출경우만 정답으로 인정 "
   ]
  },
  {
   "attachments": {},
   "cell_type": "markdown",
   "id": "9dfbc44c-eb7a-45b8-b286-f2354d74cafb",
   "metadata": {},
   "source": [
    "아래의 제시문을 읽고 올바르게 해석한 사람을 모두 고르라.\n",
    "\n",
    ":::{.callout-note}\n",
    "\n",
    "나는 50,000개의 \"텍스트-라벨\" 데이터를 인공지능에게 학습시켰다. 학습이 끝난 후, 50,000개의 데이터 중 20개의 샘플을 무작위로 뽑아 테스트한 결과, 인공지능은 20개의 텍스트에 대한 라벨을 모두 정확히 맞췄다. 이 결과만으로 인공지능이 영화 리뷰에 대한 감성 분석(긍정/부정)을 성공적으로 학습했다고 결론을 내려도 될까?\n",
    ":::\n",
    "\n",
    "`민지`: 제시문에 따르면 50,000개의 훈련 데이터를 사용하여 인공지능을 학습시켰으니, `train_data`의 크기는 50,000이라고 볼 수 있어.\n",
    "\n",
    "`하니`: 50,000개의 데이터 중 일부를 무작위로 샘플링하여 평가하는 것은 올바른 방법이 아니야. 학습에 사용되지 않은 별도의 테스트 데이터를 사용해 성능을 평가해야 인공지능이 제대로 학습했는지 알 수 있어.\n",
    "\n",
    "`다니엘`: 하니의 말이 맞아. 50,000개의 데이터 중 20개를 샘플링한 게 아니라, 50,000개의 데이터를 모두 올바르게 맞췄다고 하더라도, 새로운 데이터에 대해 성능이 좋다고 단정할 수는 없어. 중요한 건 새로운 데이터에 대한 예측 성능이지.\n",
    "\n",
    "`해린`: 맞아, 훈련 데이터 (=학습 데이터) 를 너무 반복해서 학습하다 보면, 인공지능이 그 데이터에만 지나치게 맞춰져서 새로운 데이터를 잘 처리하지 못할 수 있어. 결국 모델이 학습 데이터에서는 좋은 성능을 내지만, 학습하지 않은 데이터나 실제 환경에서는 성능이 떨어질 위험이 생기는 거야.\"\n",
    "\n",
    "`혜인`: 그렇구나! 그래서 50,000개의 데이터가 있더라도, 그 중 일부만 학습에 사용하고, 나머지는 평가용으로 따로 남겨두기도 하는 거네. 이렇게 하면 인공지능이 새로운 데이터에서도 잘 작동하는지, 성능을 확인할 수 있는 거잖아?"
   ]
  },
  {
   "cell_type": "markdown",
   "id": "a746ed5f-aa4f-4be3-9aad-2a7e5f09d221",
   "metadata": {},
   "source": [
    "> 모두 정답"
   ]
  }
 ],
 "metadata": {
  "kernelspec": {
   "display_name": "Python 3 (ipykernel)",
   "language": "python",
   "name": "python3"
  },
  "language_info": {
   "codemirror_mode": {
    "name": "ipython",
    "version": 3
   },
   "file_extension": ".py",
   "mimetype": "text/x-python",
   "name": "python",
   "nbconvert_exporter": "python",
   "pygments_lexer": "ipython3",
   "version": "3.12.2"
  }
 },
 "nbformat": 4,
 "nbformat_minor": 5
}
