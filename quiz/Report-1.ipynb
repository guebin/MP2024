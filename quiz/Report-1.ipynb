{
 "cells": [
  {
   "cell_type": "raw",
   "id": "73439912-ca55-49c7-9079-fe827b525649",
   "metadata": {
    "vscode": {
     "languageId": "raw"
    }
   },
   "source": [
    "---\n",
    "title: \"**Report-1 (2024.12.19)** \"\n",
    "author: \"최규빈\"\n",
    "date: \"12/03/2024\"\n",
    "comments: false\n",
    "---"
   ]
  },
  {
   "cell_type": "markdown",
   "id": "9f9d181d-a987-498b-b971-9dfc960d5089",
   "metadata": {},
   "source": [
    "<a href=\"https://colab.research.google.com/github/guebin/MP2024/blob/main/quiz/Report-1.ipynb\"><img src=\"https://colab.research.google.com/assets/colab-badge.svg\" style=\"text-align: left\"></a>"
   ]
  },
  {
   "cell_type": "markdown",
   "id": "f73e3810-d07f-40f7-8ad5-77fdd8130907",
   "metadata": {},
   "source": [
    "# 1. -- 75점"
   ]
  },
  {
   "attachments": {},
   "cell_type": "markdown",
   "id": "145e05d5-3fa0-4c98-b125-50812bd18ac6",
   "metadata": {},
   "source": [
    "`trainer.predict()`을 원활하게 수행하기 위해서는 `data_collator`를 잘 설계하는 것이 중요하다. `data_collator`를 잘 설계하기 위해서는 아래의 코드가 동작하도록 하면된다.\n",
    "\n",
    "```Python\n",
    "# 1. 주어진상황\n",
    "trainer_input = ~~~\n",
    "model = ~~~~ \n",
    "# 2. data_collator 검증코드\n",
    "batch_maker = transformers.Trainer(\n",
    "    model = model,\n",
    "    data_collator = lambda x: x\n",
    ")\n",
    "_batched_data = batch_maker.get_test_dataloader(trainer_input)\n",
    "batched_data = list(_batched_data)\n",
    "single_batch = batched_data[-1]\n",
    "model.to(\"cpu\")\n",
    "model(**data_collator(single_batch))\n",
    "````\n",
    "\n",
    "왜 그런지 `trainer.predict??`의 소스코드를 살펴보고 설명하라. (특히 `batch_maker`의 `data_collator`를 설정할때 항등함수, 즉 `lambda x: x`를 설정하는 아이디어가 무엇인지에 대한 근거도 함께 설명하라)"
   ]
  },
  {
   "cell_type": "markdown",
   "id": "7688265d-bb57-435b-8930-bd78bfc2108a",
   "metadata": {},
   "source": [
    "> 배점: `trainer.predict??`의 소스코드를 살펴보고 `data_collator` 검증코드의 전체적 흐름만 대략적으로 설명하면 50점, `batch_maker`의 `data_collator`에 항등함수를 넣는 이유까지 명확히 설명하면 75점. "
   ]
  },
  {
   "cell_type": "markdown",
   "id": "98427440-babb-4744-af6d-c281d3dfd686",
   "metadata": {},
   "source": [
    "# 2. -- 25점"
   ]
  },
  {
   "cell_type": "markdown",
   "id": "b80222e2-4109-4a73-89bc-4b54b1d0b1dc",
   "metadata": {},
   "source": [
    "`trainer.predict()` 를 수행하는 과정에서 `model` 의 입력으로 사용되지 않는 column은 제거된다. 왜 그런지 `trainer.predict??`의 소스코드를 살펴보고 설명하라."
   ]
  }
 ],
 "metadata": {
  "kernelspec": {
   "display_name": "Python 3 (ipykernel)",
   "language": "python",
   "name": "python3"
  },
  "language_info": {
   "codemirror_mode": {
    "name": "ipython",
    "version": 3
   },
   "file_extension": ".py",
   "mimetype": "text/x-python",
   "name": "python",
   "nbconvert_exporter": "python",
   "pygments_lexer": "ipython3",
   "version": "3.12.2"
  }
 },
 "nbformat": 4,
 "nbformat_minor": 5
}
