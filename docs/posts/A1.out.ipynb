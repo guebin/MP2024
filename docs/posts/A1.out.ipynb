{
  "cells": [
    {
      "cell_type": "markdown",
      "metadata": {},
      "source": [
        "# A1: 산업계가 원하는 데이터 과학 인재상\n",
        "\n",
        "최규빈  \n",
        "2024-12-12\n",
        "\n",
        "ref: 데이터사이언스 시대 미래인재 양성을 위한 학부 교육과정 재설계\n",
        "가이드라인 (통계교육혁신위원회)\n",
        "\n",
        "-   <https://github.com/guebin/MP2024/blob/main/posts/MP2024-A1.pdf>"
      ],
      "id": "87948247-b924-4ac9-85dc-98daddd5ddd1"
    }
  ],
  "nbformat": 4,
  "nbformat_minor": 5,
  "metadata": {
    "kernelspec": {
      "name": "python3",
      "display_name": "Python 3 (ipykernel)",
      "language": "python"
    },
    "language_info": {
      "name": "python",
      "codemirror_mode": {
        "name": "ipython",
        "version": "3"
      },
      "file_extension": ".py",
      "mimetype": "text/x-python",
      "nbconvert_exporter": "python",
      "pygments_lexer": "ipython3",
      "version": "3.13.0"
    }
  }
}