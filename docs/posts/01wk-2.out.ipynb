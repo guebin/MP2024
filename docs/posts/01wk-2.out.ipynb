{
  "cells": [
    {
      "cell_type": "markdown",
      "metadata": {},
      "source": [
        "# 01wk-2: IMDB 자료 살펴보기, 지도학습의 개념\n",
        "\n",
        "최규빈  \n",
        "2024-09-06\n",
        "\n",
        "<a href=\"https://colab.research.google.com/github/guebin/MP2024/blob/main/posts/01wk-2.ipynb\"><img src=\"https://colab.research.google.com/assets/colab-badge.svg\" style=\"text-align: left\"></a>\n",
        "\n",
        "# 1. 강의영상\n",
        "\n",
        "<https://youtu.be/playlist?list=PLQqh36zP38-wy1vTgfZfvKlHsxk3WmqKd&si=s6A2z0idIx48cRdD>\n",
        "\n",
        "# 2. 상상 혹은 경험\n",
        "\n",
        "`-` 데이터 분석을 하고 싶음.\n",
        "\n",
        "-   할 줄 아는 것이 별로 없음.\n",
        "-   이론적으로 처음부터 익히려고 했는데, 도저히 각이 안나옴. (엄두가\n",
        "    나지 않음)\n",
        "-   블로그등을 보면서 데이터를 분석하는 코드를 독학하기로 함.\n",
        "-   전략: (1) 블로그의 코드를 돌려본다. (2) 블로그의 코드를 이해한다.\n",
        "    (이론을 이해하는게 아님. 코드의 흐름을 이해하는 것임) (3) 블로그의\n",
        "    코드에서 데이터를 읽는 부분만 내가 사용할 데이터로 바꿔침 (4) 돌려서\n",
        "    결과를 제출.\n",
        "\n",
        "`-` 어려울 것이라 예상되는 점.\n",
        "\n",
        "-   `(1)` 안 돌아감. `import` 부터 잘 안될 것임.\n",
        "-   `(2)` 이해가 안될걸??\n",
        "-   `(3)` 이게 진짜 어려움. 이걸 잘하기 위해서는 파이썬의 기본 문법이\n",
        "    강해야함.\n",
        "-   `(4)` 돌아는 가지만 결과가 좋지 않을 것임.\n",
        "\n",
        "`-` 소망: 아래가 되었으면..\n",
        "\n",
        "-   (1)-(4)의 과정이 매끄럽게 진행되면 좋겠다..\n",
        "-   이 과정이 빠르게 반복되면서 여러코드를 최대한 빨리/많이 정리될 수\n",
        "    있다면..\n",
        "-   그래서 비슷한 분석을 나중에 해야 할 일이 있을때 참고할 거리가\n",
        "    많으면…\n",
        "-   나중에는 코드가 동작하는 공통적인 원리를 깨우쳐 스스로 데이터를\n",
        "    보면서 얼개를 잡아나갈수 있고, 어느정도 분석도 할 수 있는 수준이\n",
        "    되었으면..\n",
        "\n",
        "`-` 마음가짐: 컨셉을 잘 잡아야함..\n",
        "\n",
        "-   나는 어떠한 코드도 짤 수 있는 사람이다. X\n",
        "-   나는 어떠한 코드도 이해할 수 있는 사람이다. X\n",
        "-   나는 어떠한 코드도 베낄 수 있는 (활용할 수 있는) 사람이다. O\n",
        "\n",
        "> 느리지만 정확하게 해결하는것은 옳지 않다. 모든 분석은 시간싸움임.\n",
        "> 느려지는 순간 이미 뒤쳐진다. (마라톤을 하는게 아님. 100m 달리기임)\n",
        "\n",
        "`-` 저는 컴공과 교수가 아니에요.. (그럴만한 실력도 없어요) 그냥 먹고살기\n",
        "위해서 눈치껏 코딩을 할 뿐입니다..\n",
        "\n",
        "-   그래서 강의노트도 무식하게 만들예정..\n",
        "-   이전에는 예쁘게 만든 편임.. (빅데이터 혁신공유대학 사업.. 서해안권\n",
        "    어쩌고.. 충남대학생들이 들었음)\n",
        "\n",
        "# 3. 감성분석 공부재료\n",
        "\n",
        "`-` 좋은 공부재료 (데이터+분석방법) 를 잘 선정해야함. 이게 사실\n",
        "어려워요..\n",
        "\n",
        "-   수업시간에 하는 예제는 좋은 예제에요. 고르고 고른 자료들입니다.\n",
        "    분석방법도 선별한 중요한 방법들임 (성능이 좋거나, 최신 유행이거나,\n",
        "    고전적인 상식수준의 알고리즘)\n",
        "-   그 외에는 몇개의 유명한 사이트를 즐겨찾기 해놓고 시간날때마다\n",
        "    공부하는 것이 좋음.\n",
        "-   일단 이번시간에 추천하는 사이트는..\n",
        "    <https://huggingface.co/docs/transformers/index> 입니다.\n",
        "\n",
        "`-` ref:\n",
        "<https://huggingface.co/docs/transformers/tasks/sequence_classification>\n",
        "\n",
        "-   ref는 reference의 약자.\n",
        "-   해당 사이트를 참고했다는 의미.\n",
        "-   원 작가에 대한 예의 + 나중에 공부할때도 좋음. –\\> 대학생활하면서\n",
        "    숙제하실때도 참고하세요..\n",
        "-   없어보이는 행동이 아님. 더 빛나게 만들어주는 행동이라 생각함..\n",
        "\n",
        "`-` 허깅페이스\n",
        "\n",
        "-   대부분의 경진대회 분석은 (1) tabular 를 분석하는 경우 (2) tabular\n",
        "    데이터가 아닌 자료를 분석하는 경우로 나눌 수 있음.\n",
        "-   Tabular 데이터를 분석하는 여러가지 전통적인 방법이 있으나 우승하려면\n",
        "    거의 무조건 XGBoost, LightGBM, CatBoost 중 하나를 써야함.\n",
        "    의사결정나무 기반의 알고리즘을 사용해야합니다. (의사결정나무가 거의\n",
        "    크랙임. 회귀분석, 로지스틱, SVM 등등.. 다 필요없음)\n",
        "-   Tabular 데이터가 아닌 자료를 분석하는 경우는 딥러닝 모형을\n",
        "    사용해야함. 여러가지 모형이 있지만 transformer 기반의 모형이 크랙임.\n",
        "-   허깅페이스는 transformer 기반의 다양한 모델(=분석방법)을 다운로드\n",
        "    하고 사용하기 용이하게 도와주는 사이트(hub)임.\n",
        "\n",
        "# 4. Install\n",
        "\n",
        "`-` Before you begin, make sure you have all the necessary libraries\n",
        "installed:\n",
        "\n",
        "-   아래가 깔려있는지 확인하라는 의미.\n",
        "\n",
        "``` python\n",
        "pip install transformers datasets evaluate accelerate\n",
        "```\n",
        "\n",
        "`-` 저게 뭐하는 코드냐??\n",
        "\n",
        "-   GPT에게 물어보세요 (분이 풀릴때까지)\n",
        "\n",
        "> 질문: `pip install transformers datasets evaluate accelerate` 는\n",
        "> 뭐하는 코드야??\n",
        "\n",
        "> 질문: 코랩에서 저 명령어를 실행하면 어디엣 설치되는거야? 내 윈도우\n",
        "> 노트북에 설치되어 있는거야??\n",
        "\n",
        "> 질문: 그러면 코랩 끄면 다시 설치해야해?\n",
        "\n",
        "# 5. Imports"
      ],
      "id": "e48170d4-7f4f-4759-872d-cabf2f6554a7"
    },
    {
      "cell_type": "code",
      "execution_count": 1,
      "metadata": {},
      "outputs": [
        {
          "output_type": "stream",
          "name": "stderr",
          "text": [
            "/home/cgb3/anaconda3/envs/hf/lib/python3.12/site-packages/tqdm/auto.py:21: TqdmWarning: IProgress not found. Please update jupyter and ipywidgets. See https://ipywidgets.readthedocs.io/en/stable/user_install.html\n",
            "  from .autonotebook import tqdm as notebook_tqdm"
          ]
        }
      ],
      "source": [
        "from datasets import load_dataset"
      ],
      "id": "cell-23"
    },
    {
      "cell_type": "markdown",
      "metadata": {},
      "source": [
        "-   `from datasets import load_dataset` 의 의미는 `dataset` 모듈안에\n",
        "    있는 여러함수들 중에서 `load_dataset` 이라는 함수만 불러온다는\n",
        "    의미이다.\n",
        "-   `import dataset` 을 한뒤 `dataset.load_dataset` 와 같은 형식으로\n",
        "    사용해도 무방하지만, 메모리 관리면에서 필요한 함수만 콕 찝어서\n",
        "    불러오는 `from datasets import load_dataset` 이 더 유리하다.\n",
        "\n",
        "# 6. `load_dataset` 함수의 사용방법\n",
        "\n",
        "*복습*: <https://guebin.github.io/PP2024/posts/14wk-2.html>\n",
        "\n",
        "`-` `load_dataset` 이 뭐지?"
      ],
      "id": "ef398ad8-5b18-40d4-921b-64f681248bc1"
    },
    {
      "cell_type": "code",
      "execution_count": 4,
      "metadata": {},
      "outputs": [],
      "source": [
        "type(load_dataset)"
      ],
      "id": "cell-28"
    },
    {
      "cell_type": "code",
      "execution_count": 7,
      "metadata": {},
      "outputs": [],
      "source": [
        "set(dir(load_dataset)) & {'__call__'}"
      ],
      "id": "cell-29"
    },
    {
      "cell_type": "markdown",
      "metadata": {},
      "source": [
        "-   함수네.. 그렇다면 대충 `load_dataset(???)` 와 같은 방식으로 쓰면\n",
        "    되겠군..\n",
        "\n",
        "`-` `load_dataset`은 어떻게 쓰지??\n",
        "\n",
        "``` python\n",
        "load_dataset?\n",
        "```\n",
        "\n",
        "``` python\n",
        "Signature:\n",
        "load_dataset(\n",
        "    path: str,\n",
        "    name: Optional[str] = None,\n",
        "    data_dir: Optional[str] = None,\n",
        "    data_files: Union[str, Sequence[str], Mapping[str, Union[str, Sequence[str]]], NoneType] = None,\n",
        "    split: Union[str, datasets.splits.Split, NoneType] = None,\n",
        "    cache_dir: Optional[str] = None,\n",
        "    features: Optional[datasets.features.features.Features] = None,\n",
        "    download_config: Optional[datasets.download.download_config.DownloadConfig] = None,\n",
        "    download_mode: Union[datasets.download.download_manager.DownloadMode, str, NoneType] = None,\n",
        "    verification_mode: Union[datasets.utils.info_utils.VerificationMode, str, NoneType] = None,\n",
        "    ignore_verifications='deprecated',\n",
        "    keep_in_memory: Optional[bool] = None,\n",
        "    save_infos: bool = False,\n",
        "    revision: Union[str, datasets.utils.version.Version, NoneType] = None,\n",
        "    token: Union[bool, str, NoneType] = None,\n",
        "    use_auth_token='deprecated',\n",
        "    task='deprecated',\n",
        "    streaming: bool = False,\n",
        "    num_proc: Optional[int] = None,\n",
        "    storage_options: Optional[Dict] = None,\n",
        "    trust_remote_code: bool = None,\n",
        "    **config_kwargs,\n",
        ") -> Union[datasets.dataset_dict.DatasetDict, datasets.arrow_dataset.Dataset, datasets.dataset_dict.IterableDatasetDict, datasets.iterable_dataset.IterableDataset]\n",
        "...\n",
        "```\n",
        "\n",
        "-   하나의 위치인자를 가지고 있음. 따라서 `load_dataset()` 와 같은\n",
        "    형식으로는 쓸 수 없겠음. –\\> 확인해보니까 진짜 쓸 수 없음.\n",
        "-   타입힌트를 보니까 `load_dataset('asdf')` 와 같은 방식으로 하나의\n",
        "    위치인자를 문자열로 전달해야 겠네.. (나머지는 알아서 디폴트값으로\n",
        "    전달되겠지..)\n",
        "-   전달한 문자열은 `path`라는 변수에 저장되겠지??\n",
        "-   난 `path`에 뭘 써야하지?? –\\> 생각1: `load_dataset`은 아마 데이터를\n",
        "    불러오는 함수일텐데, 이 데이터가 저장되는 경로를 `path`에\n",
        "    명시하라는거 아닌가? // 생각2: 아니면 불러올 데이터가 저장된\n",
        "    `path`인가? –\\> GPT문의"
      ],
      "id": "035fc8bd-bf7e-4bd1-80b7-ebc8b6cb54ef"
    },
    {
      "cell_type": "code",
      "execution_count": 18,
      "metadata": {},
      "outputs": [],
      "source": [
        "imdb = load_dataset(\"imdb\")"
      ],
      "id": "cell-35"
    },
    {
      "cell_type": "markdown",
      "metadata": {},
      "source": [
        "# 7. `IMDB` 탐색\n",
        "\n",
        "## A. `imdb`\n",
        "\n",
        "`-` 이제 `imdb`가 뭔지 살펴보자..\n",
        "\n",
        "-   아마 데이터가 있겠죠?\n",
        "-   그런데 이걸 어떻게 보죠??\n",
        "\n",
        "`-` 뜯어보자.."
      ],
      "id": "ca5ac660-bc7f-4c0f-a8d4-e0aa4d328809"
    },
    {
      "cell_type": "code",
      "execution_count": 19,
      "metadata": {},
      "outputs": [],
      "source": [
        "imdb # 데이터인듯"
      ],
      "id": "cell-40"
    },
    {
      "cell_type": "markdown",
      "metadata": {},
      "source": [
        "-   딕셔너리 아니야?\n",
        "\n",
        "`-` 딕셔너리는 아님"
      ],
      "id": "005a64a8-19c2-4f64-8ec4-c52bb3a0249e"
    },
    {
      "cell_type": "code",
      "execution_count": 21,
      "metadata": {},
      "outputs": [],
      "source": [
        "type(imdb)"
      ],
      "id": "cell-43"
    },
    {
      "cell_type": "markdown",
      "metadata": {},
      "source": [
        "`-` 그런데 거의 딕셔너리 비슷한 느낌으로 일단 사용되는것 같음."
      ],
      "id": "c022ee67-7b00-4df0-a26b-51239e51c129"
    },
    {
      "cell_type": "code",
      "execution_count": 24,
      "metadata": {},
      "outputs": [],
      "source": [
        "imdb.keys()"
      ],
      "id": "cell-45"
    },
    {
      "cell_type": "code",
      "execution_count": 23,
      "metadata": {},
      "outputs": [],
      "source": [
        "imdb['train']"
      ],
      "id": "cell-46"
    },
    {
      "cell_type": "code",
      "execution_count": 65,
      "metadata": {},
      "outputs": [],
      "source": [
        "imdb['test']"
      ],
      "id": "cell-47"
    },
    {
      "cell_type": "code",
      "execution_count": 66,
      "metadata": {},
      "outputs": [],
      "source": [
        "imdb['unsupervised']"
      ],
      "id": "cell-48"
    },
    {
      "cell_type": "markdown",
      "metadata": {},
      "source": [
        "`-` imdb는 딕셔너리 같은 것이고, `imdb['train']`와 같은 명령어로\n",
        "세부항목에 접근가능함. 즉 아래의 구조임.\n",
        "\n",
        "-   `imdb['train']` $\\subset$ `imdb`\n",
        "-   `imdb['test']` $\\subset$ `imdb`\n",
        "-   `imdb['unsupervised']` $\\subset$ `imdb`\n",
        "\n",
        "## B. `imdb['train']`\n",
        "\n",
        "`-` `imdb['train']`을 살펴보자.."
      ],
      "id": "192c0a71-1655-484f-a4bb-3796c2c7037f"
    },
    {
      "cell_type": "code",
      "execution_count": null,
      "metadata": {},
      "outputs": [],
      "source": [
        "imdb['train']"
      ],
      "id": "cell-52"
    },
    {
      "cell_type": "markdown",
      "metadata": {},
      "source": [
        "`-` 이건 딕셔너리 처럼 안되는 것 같네.."
      ],
      "id": "12bb949f-59d7-4b08-97e0-0659e3bf4ec2"
    },
    {
      "cell_type": "code",
      "execution_count": 26,
      "metadata": {},
      "outputs": [],
      "source": [
        "imdb['train'].keys()"
      ],
      "id": "cell-54"
    },
    {
      "cell_type": "code",
      "execution_count": 29,
      "metadata": {},
      "outputs": [],
      "source": [
        "imdb['train']['features']"
      ],
      "id": "cell-55"
    },
    {
      "cell_type": "markdown",
      "metadata": {},
      "source": [
        "`-` 그럼 `imdb['train']`는 어떻게 쓰라는 것이냐?? $\\to$ 쓸만한 기능이\n",
        "있을지 dir로 체크 $\\to$ `__getitem__`이 있음.. $\\to$ `imdb['train'][0]`\n",
        "를 써볼 용기가 생김.."
      ],
      "id": "717db082-ce74-4fae-ab83-5aa9d1c15516"
    },
    {
      "cell_type": "code",
      "execution_count": 31,
      "metadata": {},
      "outputs": [],
      "source": [
        "set(dir(imdb['train'])) & {'__getitem__'}"
      ],
      "id": "cell-57"
    },
    {
      "cell_type": "code",
      "execution_count": 36,
      "metadata": {},
      "outputs": [],
      "source": [
        "imdb['train'][0]"
      ],
      "id": "cell-58"
    },
    {
      "cell_type": "markdown",
      "metadata": {},
      "source": [
        "-   실행이 되었음.\n",
        "-   기쁨.\n",
        "\n",
        "`-` `imdb['train'][1]`, `imdb['train'][-1]`, `imdb['train'][:2]` 등을\n",
        "실행해보자.."
      ],
      "id": "852d4e12-8a93-44f7-aee6-5fd647ff6e21"
    },
    {
      "cell_type": "code",
      "execution_count": 64,
      "metadata": {},
      "outputs": [],
      "source": [
        "imdb['train'][:5]"
      ],
      "id": "cell-61"
    },
    {
      "cell_type": "code",
      "execution_count": 54,
      "metadata": {},
      "outputs": [],
      "source": [
        "imdb['train'][-1]"
      ],
      "id": "cell-62"
    },
    {
      "cell_type": "markdown",
      "metadata": {},
      "source": [
        "`-` `imdb['train'][0]` 을 구체적으로 살펴보자."
      ],
      "id": "a1ef9fb3-3611-47fc-bbed-c689d8407593"
    },
    {
      "cell_type": "code",
      "execution_count": 40,
      "metadata": {},
      "outputs": [
        {
          "output_type": "stream",
          "name": "stdout",
          "text": [
            "I rented I AM CURIOUS-YELLOW from my video store because of all the controversy that surrounded it when it was first released in 1967. I also heard that at first it was seized by U.S. customs if it ever tried to enter this country, therefore being a fan of films considered \"controversial\" I really had to see this for myself.<br /><br />The plot is centered around a young Swedish drama student named Lena who wants to learn everything she can about life. In particular she wants to focus her attentions to making some sort of documentary on what the average Swede thought about certain political issues such as the Vietnam War and race issues in the United States. In between asking politicians and ordinary denizens of Stockholm about their opinions on politics, she has sex with her drama teacher, classmates, and married men.<br /><br />What kills me about I AM CURIOUS-YELLOW is that 40 years ago, this was considered pornographic. Really, the sex and nudity scenes are few and far between, even then it's not shot like some cheaply made porno. While my countrymen mind find it shocking, in reality sex and nudity are a major staple in Swedish cinema. Even Ingmar Bergman, arguably their answer to good old boy John Ford, had sex scenes in his films.<br /><br />I do commend the filmmakers for the fact that any sex shown in the film is shown for artistic purposes rather than just to shock people and make money to be shown in pornographic theaters in America. I AM CURIOUS-YELLOW is a good film for anyone wanting to study the meat and potatoes (no pun intended) of Swedish cinema. But really, this film doesn't have much of a plot.\n",
            "0"
          ]
        }
      ],
      "source": [
        "print(imdb['train'][0]['text'])\n",
        "print(imdb['train'][0]['label'])"
      ],
      "id": "cell-64"
    },
    {
      "cell_type": "markdown",
      "metadata": {},
      "source": [
        "`-` `imdb['train'][1]` 을 구체적으로 살펴보자."
      ],
      "id": "9f3154c0-29e5-4700-bba2-8d28e91c7866"
    },
    {
      "cell_type": "code",
      "execution_count": 41,
      "metadata": {},
      "outputs": [
        {
          "output_type": "stream",
          "name": "stdout",
          "text": [
            "\"I Am Curious: Yellow\" is a risible and pretentious steaming pile. It doesn't matter what one's political views are because this film can hardly be taken seriously on any level. As for the claim that frontal male nudity is an automatic NC-17, that isn't true. I've seen R-rated films with male nudity. Granted, they only offer some fleeting views, but where are the R-rated films with gaping vulvas and flapping labia? Nowhere, because they don't exist. The same goes for those crappy cable shows: schlongs swinging in the breeze but not a clitoris in sight. And those pretentious indie movies like The Brown Bunny, in which we're treated to the site of Vincent Gallo's throbbing johnson, but not a trace of pink visible on Chloe Sevigny. Before crying (or implying) \"double-standard\" in matters of nudity, the mentally obtuse should take into account one unavoidably obvious anatomical difference between men and women: there are no genitals on display when actresses appears nude, and the same cannot be said for a man. In fact, you generally won't see female genitals in an American film in anything short of porn or explicit erotica. This alleged double-standard is less a double standard than an admittedly depressing ability to come to terms culturally with the insides of women's bodies.\n",
            "0"
          ]
        }
      ],
      "source": [
        "print(imdb['train'][1]['text'])\n",
        "print(imdb['train'][1]['label'])"
      ],
      "id": "cell-66"
    },
    {
      "cell_type": "markdown",
      "metadata": {},
      "source": [
        "`-` `imdb['train'][100]` 을 구체적으로 살펴보자."
      ],
      "id": "21958652-ea4a-400d-bc29-82fb08ff3fc0"
    },
    {
      "cell_type": "code",
      "execution_count": 42,
      "metadata": {},
      "outputs": [
        {
          "output_type": "stream",
          "name": "stdout",
          "text": [
            "Terrible movie. Nuff Said.<br /><br />These Lines are Just Filler. The movie was bad. Why I have to expand on that I don't know. This is already a waste of my time. I just wanted to warn others. Avoid this movie. The acting sucks and the writing is just moronic. Bad in every way. The only nice thing about the movie are Deniz Akkaya's breasts. Even that was ruined though by a terrible and unneeded rape scene. The movie is a poorly contrived and totally unbelievable piece of garbage.<br /><br />OK now I am just going to rag on IMDb for this stupid rule of 10 lines of text minimum. First I waste my time watching this offal. Then feeling compelled to warn others I create an account with IMDb only to discover that I have to write a friggen essay on the film just to express how bad I think it is. Totally unnecessary.\n",
            "0"
          ]
        }
      ],
      "source": [
        "print(imdb['train'][100]['text'])\n",
        "print(imdb['train'][100]['label'])"
      ],
      "id": "cell-68"
    },
    {
      "cell_type": "markdown",
      "metadata": {},
      "source": [
        "> 영어: Terrible movie. Nuff Said.<br /><br />These Lines are Just\n",
        "> Filler. The movie was bad. Why I have to expand on that I don’t know.\n",
        "> This is already a waste of my time. I just wanted to warn others.\n",
        "> Avoid this movie. The acting sucks and the writing is just moronic.\n",
        "> Bad in every way. The only nice thing about the movie are Deniz\n",
        "> Akkaya’s breasts. Even that was ruined though by a terrible and\n",
        "> unneeded rape scene. The movie is a poorly contrived and totally\n",
        "> unbelievable piece of garbage.<br /><br />OK now I am just going to\n",
        "> rag on IMDb for this stupid rule of 10 lines of text minimum. First I\n",
        "> waste my time watching this offal. Then feeling compelled to warn\n",
        "> others I create an account with IMDb only to discover that I have to\n",
        "> write a friggen essay on the film just to express how bad I think it\n",
        "> is. Totally unnecessary.\n",
        "\n",
        "> 한글: 끔찍한 영화. 더 할 말 없음. 이 줄들은 그냥 채우기일 뿐이다.\n",
        "> 영화가 나빴다. 내가 왜 이걸 더 길게 써야 하는지 모르겠다. 이건 이미 내\n",
        "> 시간 낭비다. 나는 그저 다른 사람들에게 경고하고 싶었을 뿐이다. 이\n",
        "> 영화를 피하라. 연기도 형편없고, 대본도 완전히 멍청하다. 모든 면에서\n",
        "> 나쁜 영화다. 영화에서 유일하게 좋은 것은 데니즈 아카야의 가슴뿐이었다.\n",
        "> 하지만 그것조차도 끔찍하고 불필요한 강간 장면 때문에 망쳤다. 이 영화는\n",
        "> 조잡하게 만들어졌고, 전혀 믿을 수 없는 쓰레기다. 이제 IMDb에 대한\n",
        "> 불만을 좀 말하겠다. 10줄 이상 써야 한다는 이 어리석은 규칙 때문에\n",
        "> 말이다. 먼저 이 쓰레기를 보면서 내 시간을 낭비했다. 그리고 다른\n",
        "> 사람들에게 경고하려고 IMDb 계정을 만들었더니, 영화에 대해 내가 얼마나\n",
        "> 나쁘게 생각하는지를 표현하려면 이 따위 에세이를 써야 한다는 걸 알게\n",
        "> 되었다. 완전히 불필요하다.\n",
        "\n",
        "-   영화평인듯..\n",
        "-   겁나 뭐라고함.. 부정적임..\n",
        "-   이 text에 대한 label은 0\n",
        "\n",
        "`-` `imdb['train'][-1]` 을 구체적으로 살펴보자."
      ],
      "id": "6dad7115-7547-49ab-b56f-3f208b45da45"
    },
    {
      "cell_type": "code",
      "execution_count": 43,
      "metadata": {},
      "outputs": [
        {
          "output_type": "stream",
          "name": "stdout",
          "text": [
            "The story centers around Barry McKenzie who must go to England if he wishes to claim his inheritance. Being about the grossest Aussie shearer ever to set foot outside this great Nation of ours there is something of a culture clash and much fun and games ensue. The songs of Barry McKenzie(Barry Crocker) are highlights.\n",
            "1"
          ]
        }
      ],
      "source": [
        "print(imdb['train'][-1]['text'])\n",
        "print(imdb['train'][-1]['label'])"
      ],
      "id": "cell-73"
    },
    {
      "cell_type": "markdown",
      "metadata": {},
      "source": [
        "> 영어: The story centers around Barry McKenzie who must go to England\n",
        "> if he wishes to claim his inheritance. Being about the grossest Aussie\n",
        "> shearer ever to set foot outside this great Nation of ours there is\n",
        "> something of a culture clash and much fun and games ensue. The songs\n",
        "> of Barry McKenzie(Barry Crocker) are highlights.\n",
        "\n",
        "> 한글: 이 이야기는 유산을 상속받기 위해 영국으로 가야 하는 배리\n",
        "> 맥켄지에 초점을 맞추고 있습니다. 배리 맥켄지는 이 위대한 호주를 떠난\n",
        "> 사람 중 가장 거친 호주 농부로, 문화적 충돌이 일어나고 다양한 재미와\n",
        "> 사건들이 이어집니다. 배리 맥켄지(배리 크로커)가 부르는 노래들이 이\n",
        "> 영화의 하이라이트입니다.\n",
        "\n",
        "`-` 요약: `imdb['train']` 에는 여러개의 영화평이 있고, 각각 긍정평가와\n",
        "부정평가를 담고 있음.\n",
        "\n",
        "-   몇개의 영화평이 있냐? 25000\n",
        "-   부정평가는 0, 긍정평가는 1로 라벨링"
      ],
      "id": "9e39af4d-875a-4ad4-b378-d92f9fcc8530"
    },
    {
      "cell_type": "code",
      "execution_count": 49,
      "metadata": {},
      "outputs": [],
      "source": [
        "len(imdb['train'])"
      ],
      "id": "cell-77"
    },
    {
      "cell_type": "code",
      "execution_count": 50,
      "metadata": {},
      "outputs": [],
      "source": [
        "imdb['train'][24999]"
      ],
      "id": "cell-78"
    },
    {
      "cell_type": "code",
      "execution_count": 51,
      "metadata": {},
      "outputs": [],
      "source": [
        "imdb['train'][-1]"
      ],
      "id": "cell-79"
    },
    {
      "cell_type": "markdown",
      "metadata": {},
      "source": [
        "## C. `imdb['test']`\n",
        "\n",
        "`-` `imdb['train']` 과 비슷함.."
      ],
      "id": "73da82a5-667f-4d30-9fb4-1638adec7d61"
    },
    {
      "cell_type": "code",
      "execution_count": 72,
      "metadata": {},
      "outputs": [],
      "source": [
        "imdb['test'][0]"
      ],
      "id": "cell-82"
    },
    {
      "cell_type": "code",
      "execution_count": 73,
      "metadata": {},
      "outputs": [],
      "source": [
        "len(imdb['test'])"
      ],
      "id": "cell-83"
    },
    {
      "cell_type": "markdown",
      "metadata": {},
      "source": [
        "## D. `imdb['unsupervised']`\n",
        "\n",
        "`-` `imdb['unsupervised']` 를 살펴보자."
      ],
      "id": "6828de65-c5e6-4a45-9a47-719e5d4e9951"
    },
    {
      "cell_type": "code",
      "execution_count": 78,
      "metadata": {},
      "outputs": [],
      "source": [
        "imdb['unsupervised'][3]"
      ],
      "id": "cell-86"
    },
    {
      "cell_type": "markdown",
      "metadata": {},
      "source": [
        "-   `imdb['train']`, `imdb['test']` 와 비슷해 보이지만 살짝 다름.\n",
        "-   label 값이 특이하게 -1\n",
        "\n",
        "`-` 혹시 `imdb['unsupervised'][??]` 의 모든 라벨값이 모두 `-1`인가?"
      ],
      "id": "4bbb8bec-3b61-4a60-b67f-ca7bd82dac9a"
    },
    {
      "cell_type": "code",
      "execution_count": 85,
      "metadata": {},
      "outputs": [],
      "source": [
        "set([l['label'] for l in imdb['unsupervised']])"
      ],
      "id": "cell-89"
    },
    {
      "cell_type": "markdown",
      "metadata": {},
      "source": [
        "-   일단 라벨은 -1 밖에 없음."
      ],
      "id": "25701447-2aff-4be2-9fb4-825ba25f203c"
    },
    {
      "cell_type": "code",
      "execution_count": 86,
      "metadata": {},
      "outputs": [],
      "source": [
        "set([l['label'] for l in imdb['train']])"
      ],
      "id": "cell-91"
    },
    {
      "cell_type": "code",
      "execution_count": 87,
      "metadata": {},
      "outputs": [],
      "source": [
        "set([l['label'] for l in imdb['test']])"
      ],
      "id": "cell-92"
    },
    {
      "cell_type": "code",
      "execution_count": 88,
      "metadata": {},
      "outputs": [],
      "source": [
        "imdb['train'],"
      ],
      "id": "cell-93"
    },
    {
      "cell_type": "code",
      "execution_count": 93,
      "metadata": {},
      "outputs": [],
      "source": [
        "imdb['test']"
      ],
      "id": "cell-94"
    },
    {
      "cell_type": "markdown",
      "metadata": {},
      "source": [
        "`-` 느낌상 `imdb['unsupervised']`는 `imdb['train']` 와 `imdb['test']`\n",
        "에서 text를 합치고, label은 모두 `-1` 로 바꾼 자료가 아닐까? 하는 의심이\n",
        "들었음. —\\> 아니었음.."
      ],
      "id": "0fb61c50-e764-4d1e-ae83-4891b6b01320"
    },
    {
      "cell_type": "code",
      "execution_count": 106,
      "metadata": {},
      "outputs": [],
      "source": [
        "txt0 = imdb['unsupervised'][0]['text']\n",
        "txt0"
      ],
      "id": "cell-96"
    },
    {
      "cell_type": "code",
      "execution_count": 105,
      "metadata": {},
      "outputs": [],
      "source": [
        "[l for l in imdb['train'] if l['text'] == txt0]"
      ],
      "id": "cell-97"
    },
    {
      "cell_type": "code",
      "execution_count": 107,
      "metadata": {},
      "outputs": [],
      "source": [
        "[l for l in imdb['test'] if l['text'] == txt0]"
      ],
      "id": "cell-98"
    },
    {
      "cell_type": "code",
      "execution_count": 108,
      "metadata": {},
      "outputs": [],
      "source": [
        "[l for l in imdb['unsupervised'] if l['text'] == txt0]"
      ],
      "id": "cell-99"
    },
    {
      "cell_type": "markdown",
      "metadata": {},
      "source": [
        "## F. 정리\n",
        "\n",
        "`-` 요약:\n",
        "\n",
        "-   `imdb`는 `imdb['train']`, `imdb['test']`, `imdb['unsupervised']` 로\n",
        "    나누어져 있음.\n",
        "-   `imdb['train']`, `imdb['test']` 에는 각각 (text,label)와 같은\n",
        "    형식으로 정보가 저장되어 있음. 여기에서 label은 0 혹은 1의 값을\n",
        "    가지는데 0은 부정, 1은 긍정을 의미함.\n",
        "-   `imdb['unsupervised']` 에도 조사해보니 각각 (text,label)와 같은\n",
        "    형식으로 정보가 저장되어 있었지만, 여기에서 label값은 모두 -1의 값만\n",
        "    있었음. 따라서 사살상 `imdb['unsupervised']`는 text에 대한 정보만\n",
        "    있다고 생각해도 무방. 그 text가 영화에 대한 긍정평가인지\n",
        "    부정평가인지 분류가 되어있지 않은 상태.\n",
        "\n",
        "`-` 외우세요: `train`, `test`, `unsupervised` 와 같은 단어는 매우 중요한\n",
        "단어니까 일단 눈여겨보세요\n",
        "\n",
        "# 8. 지도학습 흐름\n",
        "\n",
        "## A. 기계학습/딥러닝 과업\n",
        "\n",
        "`-` 왜 데이터가 `imdb['train']`, `imdb['test']`, `imdb['unsupervised']`\n",
        "와 같이 나누어져 있는가?\n",
        "\n",
        "-   개념: 기계학습/딥러닝은 과업은 크게 지도학습과 비지도학습이 있음.\n",
        "-   데이터에서 `imdb['train']`, `imdb['test']` 는 지도학습 모델을 배우기\n",
        "    위한 예제데이터이고, `imdb['unsupervised']`는 비지도학습모델을\n",
        "    배우기 위한 예제데이터임.\n",
        "-   아무튼 우리가 하는 “감성분석”은 지도학습이고, 따라서 우리는\n",
        "    `imdb['train']`, `imdb['test']` 에만 관심을 가질 예정임.\n",
        "\n",
        "## B. 지도학습\n",
        "\n",
        "`-` 지도학습이란? (이 예제에 한정하여 설명)\n",
        "\n",
        "-   자료가 “(텍스트, 라벨)” 의 형태로 정리가 되어 있을때, “텍스트”를\n",
        "    입력으로 주면 “라벨”을 출력해주는 함수 `f`를 찾는 일\n",
        "-   코드로 예를들어 설명하면 적당히 `f`라는 함수가 존재하여 아래와 같은\n",
        "    동작이 가능하도록 해야함.\n",
        "\n",
        "``` python\n",
        "f(\"영화가 너무 재미없어요\")\n",
        "> \"부정평가입니다\"\n",
        "\n",
        "f(\"영화, 괜찮은데요??\")\n",
        "> \"긍정평가입니다\"\n",
        "\n",
        "f(\"배우들 연기 진짜 잘함. 영상미도 있음. 그런데 스토리 때문에 망했네.\")\n",
        "> \"부정평가입니다\"\n",
        "```\n",
        "\n",
        "`-` 이러한 함수 `f`를 우리가 잘 정의한다면 좋겠음. (가능한가??)\n",
        "\n",
        "`-` 대충 아래와 같은 과정을 거친다고 생각하면 편리함.\n",
        "\n",
        "> 정보(숫자,텍스트,이미지,…) $\\to$ 숫자 $\\to$ 계산 $\\to$ 계산된숫자\n",
        "> $\\to$ 정보\n",
        "\n",
        "`-` 예를들면 아래와 같은 방식이 가능"
      ],
      "id": "9eb590ea-f46c-46b8-b4c9-1f1e8ff2b824"
    },
    {
      "cell_type": "code",
      "execution_count": 110,
      "metadata": {},
      "outputs": [],
      "source": [
        "긍정단어 = {'좋아', '재미있었음', '잘생김', '예뻐', '연기훌륭함'}\n",
        "부정단어 = {'지루해', '재미없었음', '비추천'}"
      ],
      "id": "cell-112"
    },
    {
      "cell_type": "code",
      "execution_count": 111,
      "metadata": {},
      "outputs": [],
      "source": [
        "txt0 = \"남주가 너무 잘생김 여주도 예뻐 영화가 중간에 조금 지루해 그래도 아무튼 재미있었음\""
      ],
      "id": "cell-113"
    },
    {
      "cell_type": "code",
      "execution_count": 126,
      "metadata": {},
      "outputs": [],
      "source": [
        "긍정단어수 = sum([l in 긍정단어 for l in txt0.split(' ')])\n",
        "부정단어수 = sum([l in 부정단어 for l in txt0.split(' ')])\n",
        "긍정평가일확률 = 긍정단어수/(긍정단어수+부정단어수)\n",
        "부정평가일확률 = 부정단어수/(긍정단어수+부정단어수)\n",
        "긍정평가일확률,부정평가일확률"
      ],
      "id": "cell-114"
    },
    {
      "cell_type": "markdown",
      "metadata": {},
      "source": [
        "-   긍정평가군!"
      ],
      "id": "5e250ab4-50fd-48c1-aa22-5f07f4d3209e"
    },
    {
      "cell_type": "code",
      "execution_count": 149,
      "metadata": {},
      "outputs": [],
      "source": [
        "def f(text):\n",
        "    긍정단어수 = sum([l in 긍정단어 for l in text.split(' ')])\n",
        "    부정단어수 = sum([l in 부정단어 for l in text.split(' ')])\n",
        "    긍정평가일확률 = 긍정단어수/(긍정단어수+부정단어수)\n",
        "    부정평가일확률 = 부정단어수/(긍정단어수+부정단어수)\n",
        "    if 긍정평가일확률 > 0.5:\n",
        "        return 긍정평가일확률,\"긍정평가\"\n",
        "    else:\n",
        "        return 부정평가일확률,\"부정평가\""
      ],
      "id": "cell-116"
    },
    {
      "cell_type": "code",
      "execution_count": 140,
      "metadata": {},
      "outputs": [],
      "source": [
        "f(\"남주가 너무 잘생김 여주도 예뻐 영화가 중간에 조금 지루해 그래도 아무튼 재미있었음\")"
      ],
      "id": "cell-117"
    },
    {
      "cell_type": "markdown",
      "metadata": {},
      "source": [
        "`-` 당연히 현재는 많은 문제점이 있음."
      ],
      "id": "e41555e9-9e6f-4131-ab57-21d54a3ce0d4"
    },
    {
      "cell_type": "code",
      "execution_count": 145,
      "metadata": {},
      "outputs": [],
      "source": [
        "f(\"남주가 너무 잘생김. 여주도 예뻐. 영화가 중간에 조금 지루해 그래도 아무튼 재미있었음.\")"
      ],
      "id": "cell-119"
    },
    {
      "cell_type": "code",
      "execution_count": 148,
      "metadata": {},
      "outputs": [],
      "source": [
        "f(\"캐스팅 좋아 여주인공 특히 예뻐 배우들 연기훌륭함 그렇지만 스토리때문에 나는 개인적으로 비추천\")"
      ],
      "id": "cell-120"
    },
    {
      "cell_type": "markdown",
      "metadata": {},
      "source": [
        "`-` 다행인점: 좋은 `f`를 만들기 위해서 우리가 고민할 필요 없음. (똑똑한\n",
        "사람들이 다 만들어 놓음. 그리고 만들고 있음.)\n",
        "\n",
        "-   옛날방식: `f` 를 한땀한땀 설계. 초고수가 밤새 코딩해서 진짜 잘\n",
        "    맞추는 `f`를 한번에 제시.\n",
        "-   최근방식: `f` 를 대충 설계. 거의 멍청이 수준의 `f`임. 그런데\n",
        "    데이터를 줄수록 `f`가 점점 똑똑해짐. 나중에는 다 맞춤. –\\>\n",
        "    인공지능???\n",
        "\n",
        "## C. train/test 자료의 의미\n",
        "\n",
        "`-` 초고수가 `f`를 직접 설계하던 시대에는 별로 문제가 없었음. 그런데\n",
        "최근 컴퓨터가 데이터를 보고 `f`를 스스로 수정하기 시작하면서 이상한\n",
        "방식으로 `f`가 수정되는 경우가 보고되고 있음. `f`가 똑똑해 보이는데,\n",
        "사실 멍청한 상태..\n",
        "\n",
        "-   어떻게 이런일이 가능하지??\n",
        "\n",
        "`-` 최규빈 교수의 착각\n",
        "\n",
        "-   상상: 나는 학생들에게 파이썬프로그래밍을 잘 강의하고 싶었다. 나는\n",
        "    학생들에게 다양한 문제를 풀어줬으며, 문제를 풀면서 학생들이 스스로\n",
        "    개념을 깨우치길 원했다. 나는 다양한 예시를 통해서 이해하는 것이\n",
        "    좋다고 생각했기 때문이다. 예시는 많을수록 좋으니까 한 학기동안 총\n",
        "    1000개의 문제를 풀어줬다. 기말고사는 풀어준 문제중에서 약 20문항을\n",
        "    샘플링하여 출제했다. 놀랍게도 학생들이 모두 만점을 받았으며 나는\n",
        "    아주 만족스러웠다. 한 학기 동안 고생한 보람이 있어보였다. 눈물이\n",
        "    흘렀다.\n",
        "-   질문: 최규빈 교수는 잘 평가한 걸까요? 학생들이 진짜\n",
        "    파이썬프로그래밍을 잘 이해했을까요?? (학과교수님들께 자랑해도\n",
        "    될까요?)\n",
        "-   이렇게 질문하고 싶지 않아요?: 1000개의 문제에서 샘플링하여 출제하지\n",
        "    않고, 새로운 문항을 개발하여 학생들에게 제시했다면??\n",
        "-   요령이 있는 교수라면 이렇게 했을거에요: 50000개의 문제세트가 있다고\n",
        "    하자. 수업시간에는 학생들에게 예시로 25000개 정도의 문항을 풀이하며\n",
        "    설명. 기말고사는 수업시간에 풀이하지 않은 25000개의 문항을 출제함.\n",
        "-   만약에 학생들이 수업시간에 풀어준 25000개의 문제를 올바르게\n",
        "    이해했다면, 수업시간에 풀이하지 않은 문항 25000개 역시 잘 풀었을\n",
        "    것임.\n",
        "\n",
        "`-` 이 상황을 살짝 말만 바꿔볼게요.\n",
        "\n",
        "-   상상: 나는 인공지능에게 “영화평가 텍스트를 주면 그것이 긍정평가인지\n",
        "    부정평가인지 판단하는 능력”을 잘 학습시키고 싶었다. 나는\n",
        "    인공지능에게 다양한 데이터를 제공했으며, 데이터를 보고 인공지능이\n",
        "    스스로 원리를 깨우치길 원했다. 데이터는 많을수록 좋으니까 약\n",
        "    50000개의 “(텍스트,라벨)” 쌍을 제공했다. 그리고 50000개의\n",
        "    “(텍스트.라벨)” 쌍에서 약 20문항을 샘플링하여 테스트했다. 놀랍게도\n",
        "    인공지능은 20문항을 모두 맞추었다. 나는 아주 만족스러웠다. 눈물이\n",
        "    흘렀다.\n",
        "-   질문: 저는 인공지능을 잘 학습시켰을까요?\n",
        "-   이렇게 하고 싶지 않아요?: 50000개의 데이터중, 25000개의\n",
        "    “(텍스트,라벨)”만 인공지능에게 제공하여 학습시킴. 그리고 나머지\n",
        "    25000개는 평가용으로 테스트해봄.\n",
        "-   만약에 인공지능이 진짜 영화평가 텍스트를 바탕으로 그것이\n",
        "    긍정평가인지 부정평가인지 판단하는 능력을 길렀다면?? 내가\n",
        "    인공지능에게 제공하지 않은 25000개의 데이터에 대해서도 함수 `f` 가\n",
        "    올바르게 동작해야함.\n",
        "\n",
        "`-` train data / test data\n",
        "\n",
        "-   train data 는 인공지능에게 학습용으로 제공하는 데이터\n",
        "-   test data 는 인공지능이 진짜 잘 학습했는지 평가하기 위해 학습시\n",
        "    제공하지 않는 자료"
      ],
      "id": "7f02060b-daa2-42b7-aadc-a9639dd650a4"
    },
    {
      "cell_type": "code",
      "execution_count": 150,
      "metadata": {},
      "outputs": [],
      "source": [
        "imdb"
      ],
      "id": "cell-127"
    },
    {
      "cell_type": "markdown",
      "metadata": {},
      "source": [
        "## D. train/val/test 자료의 의미\n",
        "\n",
        "`-` 학생들 입장에서 생각해본다면??\n",
        "\n",
        "-   소망: 내가 외우려고 한게 아니고, 하도 공부를 많이 하다보니 문제가\n",
        "    외워졌음. 나도 그러기 싫음. 나도 내가 올바르게 공부했는지 체크하고\n",
        "    싶어.\n",
        "-   아이디어: 교수님이 풀어준 25000개의 문항중, 15000개만 전략적으로\n",
        "    공부함. 그리고 나머지 10000개는 나 스스로 올바르게 공부했는지\n",
        "    체크하는 용도로 삼음.\n",
        "-   진행사항:\n",
        "    -   1일차: `{15000문항: 50%맞음, 10000문항: 45%맞음}`  \n",
        "    -   2일차: `{15000문항: 90%맞음, 10000문항: 85%맞음}`\n",
        "    -   3일차: `{15000문항: 100%맞음, 10000문항: 70%맞음}` \\<— 이런 경험\n",
        "        있어요??\n",
        "-   판단: 이게 한 3일차쯤 공부하다보니까 문제를 내가 너무 외운것 같네?\n",
        "    오히려 2일차일때의 느낌이 더 좋음. 그냥 2일차의 느낌으로 시험보러\n",
        "    가자!!\n",
        "\n",
        "`-` 이럴경우 아래와 같이 상황이 정리된다.\n",
        "\n",
        "-   원래: 교수가 수업시간에 풀어준 25000문제 = 학생이 공부할 25000문제 =\n",
        "    train // 교수가 기말시험으로 제출할 25000문제 = test\n",
        "-   바뀐상황: 학생이 공부할 15000문제 = train / 학생이 자가진단용으로\n",
        "    으로 뺀 10000문제 = test // 교수가 기말시험으로 제출할 25000문제 =\n",
        "    찐test\n",
        "\n",
        "`-` 학생이 자가진단용으로 빼둔 10000개의 문항을 보통 validation set\n",
        "이라고 부른다. 따라서 아래와 같이 정리 가능하다.\n",
        "\n",
        "-   train = 15000문제 = 학생이 스스로 공부\n",
        "-   validation = 10000문제 = 학생이 공부할때 사용하지 않음. 자가진단용.\n",
        "-   test = 25000문제 = 교수가 출제하는 시험\n",
        "\n",
        "`-` train / validation / test 에 대한 용어는 엄밀하지 않게 사용되는\n",
        "경우가 많아 그때그때 상황에 맞게 알아서 해석해야 한다.\n",
        "\n",
        "-   억지상황1: 교수가 시험보지 않음. 그런데 내가 스스로 공부하면서 잘\n",
        "    공부하고 있는지 체크하고 싶어서 1000개의 문제를 구하고 그중 매일\n",
        "    800개만 학습하고 200개는 검증용으로 사용함. 이 경우 200개의 문항을\n",
        "    validation 이라고 부르기도 하고 test 라고 부르기도 함. (엄밀하게는\n",
        "    validation이 맞다고 생각하지만, 외부데이터가 없는 상황이므로\n",
        "    validation과 test의 경계가 흐릿해짐)\n",
        "-   억지상황2: 나 혼자 1000개의 문항을 800/200으로 나누어 매일 공부하고\n",
        "    있었음. 이때 나는 200개의 문항을 test라고 부르기도 하고,\n",
        "    validation이라고 부르기도 했음. 그런데 갑자기 교수가 나보고 외부\n",
        "    코딩대회에 나가라고 함. 이 경우 200개의 문항은 validation 이 되고\n",
        "    외부코딩대회에서 출제된 문항이 test가 됨.\n",
        "\n",
        "`-` 느낌: 아래가 가장 정확한 설명임\n",
        "\n",
        "-   train: 학습에 사용하는 자료\n",
        "-   validation: 학습에 사용하지 않는 자료. 왜 안써? 더 좋은 훈련을 위한\n",
        "    목적.\n",
        "-   test: 학습에 사용하지 않는 자료. 왜 안써? 올바르게 학습됨을 평가하기\n",
        "    위한 목적.\n",
        "\n",
        "> 헷갈리는 이유는 더 좋은 훈련을 위한 목적과 올바르게 학습됨을 평가하기\n",
        "> 위한 목적이 무 자르듯이 구분되지 않기 때문.\n",
        "\n",
        "`-` 이상한 분류법\n",
        "\n",
        "-   데이터를 보통 2개의 셋으로 나누면 train/test 로 3개로 나누면\n",
        "    train/test/validation 으로 많이 표현.\n",
        "-   딱 맞는 정의는 아님. 의미상 구분해야함."
      ],
      "id": "108f4036-eea5-44d1-93ef-e1d1f11fcb14"
    }
  ],
  "nbformat": 4,
  "nbformat_minor": 5,
  "metadata": {
    "kernelspec": {
      "name": "python3",
      "display_name": "Python 3 (ipykernel)",
      "language": "python"
    },
    "language_info": {
      "name": "python",
      "codemirror_mode": {
        "name": "ipython",
        "version": "3"
      },
      "file_extension": ".py",
      "mimetype": "text/x-python",
      "nbconvert_exporter": "python",
      "pygments_lexer": "ipython3",
      "version": "3.13.0"
    }
  }
}