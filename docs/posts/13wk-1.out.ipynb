{
  "cells": [
    {
      "cell_type": "markdown",
      "metadata": {},
      "source": [
        "# 13wk-1: 캐글소개, 타이타닉 데이터의 이해\n",
        "\n",
        "최규빈  \n",
        "2024-12-04\n",
        "\n",
        "-   캐글소개: <https://guebin.github.io/MP2023/posts/01wk-01.html>\n",
        "-   타이타닉 데이터의 이해:\n",
        "    <https://guebin.github.io/MP2023/posts/01wk-02.html>"
      ],
      "id": "d2e48844-ef7f-4c10-a73d-4fb3ba97681a"
    }
  ],
  "nbformat": 4,
  "nbformat_minor": 5,
  "metadata": {
    "kernelspec": {
      "name": "python3",
      "display_name": "Python 3 (ipykernel)",
      "language": "python"
    },
    "language_info": {
      "name": "python",
      "codemirror_mode": {
        "name": "ipython",
        "version": "3"
      },
      "file_extension": ".py",
      "mimetype": "text/x-python",
      "nbconvert_exporter": "python",
      "pygments_lexer": "ipython3",
      "version": "3.12.2"
    }
  }
}