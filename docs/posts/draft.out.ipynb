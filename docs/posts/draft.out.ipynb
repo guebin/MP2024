{
  "cells": [
    {
      "cell_type": "markdown",
      "metadata": {},
      "source": [
        "# 04wk-2: 감성분석 파고들기 (2)\n",
        "\n",
        "최규빈  \n",
        "2024-09-19\n",
        "\n",
        "<a href=\"https://colab.research.google.com/github/guebin/MP2024/blob/main/posts/02wk-1.ipynb\"><img src=\"https://colab.research.google.com/assets/colab-badge.svg\" style=\"text-align: left\"></a>\n",
        "\n",
        "# 1. 강의영상\n",
        "\n",
        "<https://youtu.be/playlist?list=PLQqh36zP38-xZ2p62reZCCgZsyMQLsOqY&si=bHkFTktvJIGoD0ni>\n",
        "\n",
        "# 7. 데이터전처리2"
      ],
      "id": "d53f4ed2-09d8-4ddf-8407-70b492630cf3"
    },
    {
      "cell_type": "code",
      "execution_count": 401,
      "metadata": {},
      "outputs": [],
      "source": [
        "def 데이터전처리하기2(examples):\n",
        "    return 데이터전처리하기1(examples[\"text\"], truncation=True)"
      ],
      "id": "cell-5"
    },
    {
      "cell_type": "code",
      "execution_count": 402,
      "metadata": {},
      "outputs": [
        {
          "output_type": "stream",
          "name": "stderr",
          "text": [
            "Map: 100%|█████████████████████████████████████████████████████████████████████████| 25000/25000 [00:03<00:00, 8260.93 examples/s]"
          ]
        }
      ],
      "source": [
        "데이터 = datasets.load_dataset('imdb')\n",
        "전처리된데이터 = 데이터.map(데이터전처리하기2,batched=True)"
      ],
      "id": "cell-6"
    },
    {
      "cell_type": "markdown",
      "metadata": {},
      "source": [
        "# 8. 데이터콜렉터\n",
        "\n",
        "`-` 데이터콜렉터 사용방법"
      ],
      "id": "784363eb-2f82-4407-90e9-4b6fa0e17174"
    },
    {
      "cell_type": "code",
      "execution_count": 407,
      "metadata": {},
      "outputs": [],
      "source": [
        "데이터콜렉터 = 동적패딩처리하기 = transformers.DataCollatorWithPadding(tokenizer=토크나이저,return_tensors='pt')\n",
        "데이터콜렉터"
      ],
      "id": "cell-9"
    },
    {
      "cell_type": "code",
      "execution_count": 408,
      "metadata": {},
      "outputs": [],
      "source": [
        "작은덩어리_딕셔너리 = 전처리된데이터['train'][:4]\n",
        "작은덩어리_딕셔너리.keys()"
      ],
      "id": "cell-10"
    },
    {
      "cell_type": "code",
      "execution_count": 409,
      "metadata": {},
      "outputs": [],
      "source": [
        "작은덩어리_리스트 = [{\n",
        "    'label': 작은덩어리_딕셔너리['label'][i],\n",
        "    'input_ids': 작은덩어리_딕셔너리['input_ids'][i],\n",
        "    'attention_mask': 작은덩어리_딕셔너리['attention_mask'][i]\n",
        "} for i in range(4)]"
      ],
      "id": "cell-11"
    },
    {
      "cell_type": "code",
      "execution_count": 410,
      "metadata": {},
      "outputs": [],
      "source": [
        "데이터콜렉터(작은덩어리_리스트)"
      ],
      "id": "cell-12"
    },
    {
      "cell_type": "code",
      "execution_count": 411,
      "metadata": {},
      "outputs": [],
      "source": [
        "인공지능(**데이터콜렉터(작은덩어리_리스트))"
      ],
      "id": "cell-13"
    },
    {
      "cell_type": "markdown",
      "metadata": {},
      "source": [
        "`-` 데이터콜렉터의 기능: batch_size 에 따라서 패딩시켜줌\n",
        "\n",
        "# 9. 평가하기\n",
        "\n",
        "`-` `accuracy.compute`의 기능"
      ],
      "id": "a846aed2-c881-48a2-887b-9859e2c7b4c6"
    },
    {
      "cell_type": "code",
      "execution_count": 348,
      "metadata": {},
      "outputs": [],
      "source": [
        "accuracy = evaluate.load(\"accuracy\")"
      ],
      "id": "cell-17"
    },
    {
      "cell_type": "code",
      "execution_count": 356,
      "metadata": {},
      "outputs": [],
      "source": [
        "accuracy.compute(references=[0, 0, 0], predictions=[0, 1, 1])"
      ],
      "id": "cell-18"
    },
    {
      "cell_type": "markdown",
      "metadata": {},
      "source": [
        "`-` 함수내용"
      ],
      "id": "ef7d2ea2-0c69-4abb-94df-214461c267d6"
    },
    {
      "cell_type": "code",
      "execution_count": 358,
      "metadata": {},
      "outputs": [],
      "source": [
        "# def 평가하기(eval_pred):\n",
        "#     predictions, labels = eval_pred\n",
        "#     predictions = np.argmax(predictions, axis=1)\n",
        "#     accuracy = evaluate.load(\"accuracy\")\n",
        "#     return accuracy.compute(predictions=predictions, references=labels)"
      ],
      "id": "cell-20"
    },
    {
      "cell_type": "code",
      "execution_count": 417,
      "metadata": {},
      "outputs": [],
      "source": [
        "def 평가하기(eval_pred):\n",
        "    계산된숫자들_로짓, 실제정답 = eval_pred\n",
        "    인공지능의예측 = np.argmax(계산된숫자들_로짓, axis=1)\n",
        "    accuracy = evaluate.load(\"accuracy\")\n",
        "    return accuracy.compute(predictions=인공지능의예측, references=실제정답)"
      ],
      "id": "cell-21"
    },
    {
      "cell_type": "markdown",
      "metadata": {},
      "source": [
        "> `평가하기` 함수는 `eval_dataset`에 적용됨\n",
        "\n",
        "# 10. 트레이너 세부지침"
      ],
      "id": "6d658c7f-39d4-4efd-bfa3-23f2ba63cc6f"
    },
    {
      "cell_type": "code",
      "execution_count": 418,
      "metadata": {},
      "outputs": [],
      "source": [
        "트레이너세부지침 = transformers.TrainingArguments(\n",
        "    output_dir=\"my_awesome_model\",\n",
        "    learning_rate=2e-5,\n",
        "    per_device_train_batch_size=16,\n",
        "    per_device_eval_batch_size=16,\n",
        "    num_train_epochs=2, # 전체문제세트를 2번 공부하라..\n",
        "    weight_decay=0.01,\n",
        "    eval_strategy=\"epoch\", \n",
        "    save_strategy=\"epoch\", \n",
        "    load_best_model_at_end=True,\n",
        "    push_to_hub=False,\n",
        ")"
      ],
      "id": "cell-24"
    },
    {
      "cell_type": "markdown",
      "metadata": {},
      "source": [
        "> **옵션 설명:**\n",
        ">\n",
        "> 1.  **`output_dir=\"my_awesome_model\"`**:\n",
        ">     -   학습된 모델과 관련 파일(예: 체크포인트, 로그 등)이 저장될\n",
        ">         디렉토리 경로를 지정합니다.\n",
        "> 2.  **`learning_rate=2e-5`**:\n",
        ">     -   학습률(learning rate)을 설정합니다. 모델이 가중치를 업데이트할\n",
        ">         때 사용하는 스텝 크기로, 작은 값일수록 학습 속도가 느려지지만\n",
        ">         안정성이 높습니다.\n",
        "> 3.  **`per_device_train_batch_size=16`**:\n",
        ">     -   **훈련** 시, 각 GPU 또는 CPU 디바이스에서 사용할 배치 크기를\n",
        ">         설정합니다. 이 경우 각 디바이스에서 16개의 샘플을 한 번에\n",
        ">         처리합니다.\n",
        "> 4.  **`per_device_eval_batch_size=16`**:\n",
        ">     -   **평가** 시, 각 GPU 또는 CPU 디바이스에서 사용할 배치 크기를\n",
        ">         설정합니다. 평가 시에는 훈련과 같은 배치 크기를 사용하는 것이\n",
        ">         일반적입니다.\n",
        "> 5.  **`num_train_epochs=2`**:\n",
        ">     -   전체 훈련 데이터셋을 몇 번 반복(에포크)할지 설정합니다.\n",
        ">         여기서는 데이터셋 전체를 2번 학습하게 됩니다.\n",
        "> 6.  **`weight_decay=0.01`**:\n",
        ">     -   가중치 감쇠(weight decay)를 적용하여 모델의 가중치가 지나치게\n",
        ">         커지지 않도록 제어합니다. 0.01의 값은 가중치가 조금씩 감소하게\n",
        ">         하여 모델의 일반화 성능을 높이는 데 도움을 줄 수 있습니다.\n",
        "> 7.  **`eval_strategy=\"epoch\"`**:\n",
        ">     -   평가 전략을 설정합니다. 여기서는 `epoch`으로 설정되어, 매\n",
        ">         에포크가 끝날 때마다 평가가 진행됩니다.\n",
        ">     -   다른 값으로는 `steps` (일정한 스텝마다 평가) 등이 있습니다.\n",
        "> 8.  **`save_strategy=\"epoch\"`**:\n",
        ">     -   모델을 언제 저장할지 설정합니다. `epoch`으로 설정되면, 매\n",
        ">         에포크가 끝날 때마다 체크포인트를 저장합니다.\n",
        ">     -   다른 값으로는 `steps` (일정한 스텝마다 저장) 등이 있습니다.\n",
        "> 9.  **`load_best_model_at_end=True`**:\n",
        ">     -   학습이 끝난 후, 가장 성능이 좋았던 체크포인트를 불러옵니다.\n",
        ">         평가 지표에 따라 가장 성능이 좋았던 모델을 자동으로 불러와\n",
        ">         최종 모델로 사용하게 됩니다.\n",
        "> 10. **`push_to_hub=False`**:\n",
        ">     -   모델 학습이 끝난 후 Hugging Face Hub에 모델을 업로드할지\n",
        ">         여부를 설정합니다. `False`로 설정하면 업로드하지 않습니다.\n",
        ">     -   `True`로 설정하면 모델과 관련된 파일들이 Hugging Face Hub에\n",
        ">         업로드되어 다른 사람들과 공유할 수 있습니다.\n",
        "\n",
        "`-` lr = 학습률 = 답이 틀렸을 경우 혼내는 정도\n",
        "\n",
        "-   정확한 느낌은 경사하강법을 이해해야함.\n",
        "\n",
        "# 11. 트레이너\n",
        "\n",
        "`-` 트레이너를 이용한 학습"
      ],
      "id": "a2bc4e27-7d4b-4c6f-8de8-8d04dd30f4b4"
    },
    {
      "cell_type": "code",
      "execution_count": 421,
      "metadata": {},
      "outputs": [],
      "source": [
        "트레이너 = transformers.Trainer(\n",
        "    model=인공지능,\n",
        "    args=트레이너세부지침,\n",
        "    train_dataset=전처리된데이터['train'],\n",
        "    eval_dataset=전처리된데이터['test'],\n",
        "    tokenizer=토크나이저, # 왜 필요하지??\n",
        "    data_collator=데이터콜렉터,\n",
        "    compute_metrics=평가하기,\n",
        ")\n",
        "트레이너.train()"
      ],
      "id": "cell-29"
    },
    {
      "cell_type": "code",
      "execution_count": 423,
      "metadata": {},
      "outputs": [],
      "source": [
        "25000 / 16 "
      ],
      "id": "cell-30"
    },
    {
      "cell_type": "code",
      "execution_count": 424,
      "metadata": {},
      "outputs": [],
      "source": [
        "1563 * 2 "
      ],
      "id": "cell-31"
    },
    {
      "cell_type": "markdown",
      "metadata": {},
      "source": [
        "`-` 인공지능이 똑똑해졌을까?"
      ],
      "id": "4f8a7032-a6f6-4d62-a70f-a1333add80fb"
    },
    {
      "cell_type": "code",
      "execution_count": 425,
      "metadata": {},
      "outputs": [],
      "source": [
        "인공지능.classifier.weight # 숫자들은 바뀌어 있음.. "
      ],
      "id": "cell-33"
    },
    {
      "cell_type": "code",
      "execution_count": 426,
      "metadata": {},
      "outputs": [],
      "source": [
        "인공지능.pre_classifier.weight # 숫자들이 바뀌어 있음.. "
      ],
      "id": "cell-34"
    },
    {
      "cell_type": "code",
      "execution_count": 443,
      "metadata": {},
      "outputs": [],
      "source": [
        "인공지능.to(\"cpu\") # 인공지능이 지금 GPU에서 학습했거든요.. 다시 CPU로 내려주는 작업이 필요합니다"
      ],
      "id": "cell-35"
    },
    {
      "cell_type": "markdown",
      "metadata": {},
      "source": [
        "`-` 입력정보에 영화에 대한 부정적 평가를 넣는다면?"
      ],
      "id": "147e455a-e42b-4c55-bcbc-a61bd3842dc5"
    },
    {
      "cell_type": "code",
      "execution_count": 427,
      "metadata": {},
      "outputs": [],
      "source": [
        "입력정보_원시텍스트 = \"This movie was a huge disappointment.\"\n",
        "정리된숫자_토큰화된자료 = 토크나이저(입력정보_원시텍스트,truncation=True,return_tensors='pt')\n",
        "정리된숫자_토큰화된자료"
      ],
      "id": "cell-37"
    },
    {
      "cell_type": "code",
      "execution_count": 431,
      "metadata": {},
      "outputs": [],
      "source": [
        "인공지능(**정리된숫자_토큰화된자료)"
      ],
      "id": "cell-38"
    },
    {
      "cell_type": "code",
      "execution_count": 432,
      "metadata": {},
      "outputs": [],
      "source": [
        "계산된숫자_로짓 = 인공지능(**정리된숫자_토큰화된자료).logits.detach().numpy()\n",
        "계산된숫자_로짓"
      ],
      "id": "cell-39"
    },
    {
      "cell_type": "code",
      "execution_count": 433,
      "metadata": {},
      "outputs": [],
      "source": [
        "출력정보_확률 = np.exp(계산된숫자_로짓) / np.exp(계산된숫자_로짓).sum()\n",
        "출력정보_확률 # 0일확률, 1일확률"
      ],
      "id": "cell-40"
    },
    {
      "cell_type": "code",
      "execution_count": 434,
      "metadata": {},
      "outputs": [],
      "source": [
        "출력정보_확률.argmax() # 부정적 영화평가에 대한 인공지능의 예측"
      ],
      "id": "cell-41"
    },
    {
      "cell_type": "markdown",
      "metadata": {},
      "source": [
        "`-` 입력정보에 영화에 대한 긍정적 평가를 넣는다면?"
      ],
      "id": "1d887575-1c11-4bef-a374-ec1448f866f7"
    },
    {
      "cell_type": "code",
      "execution_count": 436,
      "metadata": {},
      "outputs": [],
      "source": [
        "입력정보_원시텍스트 = \"This was a masterpiece.\"\n",
        "정리된숫자_토큰화된자료 = 토크나이저(입력정보_원시텍스트,truncation=True,return_tensors='pt')\n",
        "정리된숫자_토큰화된자료"
      ],
      "id": "cell-43"
    },
    {
      "cell_type": "code",
      "execution_count": 437,
      "metadata": {},
      "outputs": [],
      "source": [
        "인공지능(**정리된숫자_토큰화된자료)"
      ],
      "id": "cell-44"
    },
    {
      "cell_type": "code",
      "execution_count": 438,
      "metadata": {},
      "outputs": [],
      "source": [
        "계산된숫자_로짓 = 인공지능(**정리된숫자_토큰화된자료).logits.detach().numpy()\n",
        "계산된숫자_로짓"
      ],
      "id": "cell-45"
    },
    {
      "cell_type": "code",
      "execution_count": 439,
      "metadata": {},
      "outputs": [],
      "source": [
        "출력정보_확률 = np.exp(계산된숫자_로짓) / np.exp(계산된숫자_로짓).sum()\n",
        "출력정보_확률 # 0일확률, 1일확률"
      ],
      "id": "cell-46"
    },
    {
      "cell_type": "code",
      "execution_count": 440,
      "metadata": {},
      "outputs": [],
      "source": [
        "출력정보_확률.argmax()\n",
        "계산된숫자_로짓.argmax() # 부정적 영화평가에 대한 인공지능의 예측"
      ],
      "id": "cell-47"
    },
    {
      "cell_type": "markdown",
      "metadata": {},
      "source": [
        "`-` 우리가 가져야할 생각: 신기하다 X // 노가다 많이 했구나.. O\n",
        "\n",
        "# 12. 파이프라인\n",
        "\n",
        "`-` 강인공지능?\n",
        "\n",
        "> ref: <https://zdnet.co.kr/view/?no=20160622145838>"
      ],
      "id": "41fd19d7-90c5-4f32-a1e3-9d363789d430"
    },
    {
      "cell_type": "code",
      "execution_count": 444,
      "metadata": {},
      "outputs": [
        {
          "output_type": "stream",
          "name": "stderr",
          "text": [
            "Hardware accelerator e.g. GPU is available in the environment, but no `device` argument is passed to the `Pipeline` object. Model will be on CPU."
          ]
        },
        {
          "output_type": "stream",
          "name": "stdout",
          "text": [
            "[{'label': 'LABEL_0', 'score': 0.9885253310203552}]\n",
            "[{'label': 'LABEL_1', 'score': 0.978060781955719}]"
          ]
        }
      ],
      "source": [
        "강인공지능 = transformers.pipeline(\"sentiment-analysis\", model=\"my_awesome_model/checkpoint-1563\")\n",
        "print(강인공지능(\"This movie was a huge disappointment.\"))\n",
        "print(강인공지능(\"This was a masterpiece.\"))"
      ],
      "id": "cell-52"
    }
  ],
  "nbformat": 4,
  "nbformat_minor": 5,
  "metadata": {
    "kernelspec": {
      "name": "python3",
      "display_name": "Python 3 (ipykernel)",
      "language": "python"
    },
    "language_info": {
      "name": "python",
      "codemirror_mode": {
        "name": "ipython",
        "version": "3"
      },
      "file_extension": ".py",
      "mimetype": "text/x-python",
      "nbconvert_exporter": "python",
      "pygments_lexer": "ipython3",
      "version": "3.12.4"
    }
  }
}