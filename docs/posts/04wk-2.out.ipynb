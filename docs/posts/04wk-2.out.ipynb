{
  "cells": [
    {
      "cell_type": "markdown",
      "metadata": {},
      "source": [
        "# 04wk-2: 감성분석 파고들기 (2)\n",
        "\n",
        "최규빈  \n",
        "2024-09-27\n",
        "\n",
        "<a href=\"https://colab.research.google.com/github/guebin/MP2024/blob/main/posts/02wk-1.ipynb\"><img src=\"https://colab.research.google.com/assets/colab-badge.svg\" style=\"text-align: left\"></a>\n",
        "\n",
        "# 1. 강의영상\n",
        "\n",
        "\\#<https://youtu.be/playlist?list=PLQqh36zP38-xZ2p62reZCCgZsyMQLsOqY&si=bHkFTktvJIGoD0ni>\n",
        "\n",
        "# 2. Imports"
      ],
      "id": "1bce41bc-a46a-4339-94e3-bbfca0559797"
    },
    {
      "cell_type": "code",
      "execution_count": 2,
      "metadata": {},
      "outputs": [
        {
          "output_type": "stream",
          "name": "stderr",
          "text": [
            "/home/cgb3/anaconda3/envs/hf/lib/python3.12/site-packages/tqdm/auto.py:21: TqdmWarning: IProgress not found. Please update jupyter and ipywidgets. See https://ipywidgets.readthedocs.io/en/stable/user_install.html\n",
            "  from .autonotebook import tqdm as notebook_tqdm"
          ]
        }
      ],
      "source": [
        "import datasets\n",
        "import transformers\n",
        "import evaluate\n",
        "import numpy as np\n",
        "import torch # 파이토치"
      ],
      "id": "cell-5"
    },
    {
      "cell_type": "markdown",
      "metadata": {},
      "source": [
        "# 3. 이전시간 요약\n",
        "\n",
        "`-` 이전시간의 내용중 이번시간에 기억할것들을 요약\n",
        "\n",
        "`-` `DatasetDict`: 임의의 자료에 대한 `DatasetDict` 오브젝트 만들기"
      ],
      "id": "b05f5168-759b-44b1-8bc9-408b82e01b15"
    },
    {
      "cell_type": "code",
      "execution_count": 90,
      "metadata": {},
      "outputs": [],
      "source": [
        "train_dict = {\n",
        "    'text': [\n",
        "        \"I prefer making decisions based on logic and objective facts.\",\n",
        "        \"I always consider how others might feel when making a decision.\",\n",
        "        \"Data and analysis drive most of my decisions.\",\n",
        "        \"I rely on my empathy and personal values to guide my choices.\"\n",
        "    ],\n",
        "    'label': [0, 1, 0, 1]  # 0은 T(사고형), 1은 F(감정형)\n",
        "}\n",
        "\n",
        "test_dict = {\n",
        "    'text': [\n",
        "        \"I find it important to weigh all the pros and cons logically.\",\n",
        "        \"When making decisions, I prioritize harmony and people's emotions.\"\n",
        "    ],\n",
        "    'label': [0, 1]  # 0은 T(사고형), 1은 F(감정형)\n",
        "}\n",
        "train_data = datasets.Dataset.from_dict(train_dict)\n",
        "test_data = datasets.Dataset.from_dict(test_dict)\n",
        "나의데이터 = datasets.dataset_dict.DatasetDict({'train':train_data, 'test':test_data})"
      ],
      "id": "cell-9"
    },
    {
      "cell_type": "markdown",
      "metadata": {},
      "source": [
        "`-` `DatasetDict`: 아래의 코드도 가능"
      ],
      "id": "e837cd99-ad72-47c0-a609-fa35fffb177d"
    },
    {
      "cell_type": "code",
      "execution_count": 92,
      "metadata": {},
      "outputs": [],
      "source": [
        "나의데이터['train']['text']"
      ],
      "id": "cell-11"
    },
    {
      "cell_type": "markdown",
      "metadata": {},
      "source": [
        "`-` `토크나이저`: 토크나이저는 “`Str` $\\to$ `Dict`” 인 함수이다."
      ],
      "id": "92933ab5-56fd-4d53-ab03-8da003dd4bd9"
    },
    {
      "cell_type": "code",
      "execution_count": 98,
      "metadata": {},
      "outputs": [],
      "source": [
        "토크나이저 = transformers.AutoTokenizer.from_pretrained(\"distilbert/distilbert-base-uncased\") "
      ],
      "id": "cell-13"
    },
    {
      "cell_type": "code",
      "execution_count": 101,
      "metadata": {},
      "outputs": [],
      "source": [
        "토크나이저(나의데이터['train']['text'][0])"
      ],
      "id": "cell-14"
    },
    {
      "cell_type": "markdown",
      "metadata": {},
      "source": [
        "`-` `토크나이저`: 토크나이저의 “Str $\\to$ Dict” 인 함수는 배치처리가\n",
        "가능하다."
      ],
      "id": "636e5c6c-beab-4dff-93e5-61ab19767b82"
    },
    {
      "cell_type": "code",
      "execution_count": 102,
      "metadata": {},
      "outputs": [],
      "source": [
        "토크나이저(나의데이터['train']['text'])"
      ],
      "id": "cell-16"
    },
    {
      "cell_type": "markdown",
      "metadata": {},
      "source": [
        "`-` `인공지능`: 인공지능은 많은 파라메터를 포함하고 있는 어떠한\n",
        "물체이다.\n",
        "\n",
        "`-` `인공지능`: 인공지능의 파라메터는 변화할 수 있으며, loss가 더\n",
        "작은쪽으로 파라메터를 변화시키는 과정을 “학습”이라고 부른다.\n",
        "\n",
        "`-` `인공지능`: 인공지능은 “`**Dict` $\\to$\n",
        "`transformers.modeling_outputs.SequenceClassifierOutput`”인 함수이다.\n",
        "그런데 쓰기 까다롭다.\n",
        "\n",
        "-   `1`. `Dict`에는 특정한 key를 포함하고 있어야한다. (`input_ids`,\n",
        "    `attention_mask`)\n",
        "-   `2`. key에 대응하는 숫자는 파이토치 텐서형태이어야 한다. (`3`.\n",
        "    따라서 (m,n)꼴의 차원을 **반드시** 가져야 한다)\n",
        "-   `4`. `Dict`에 `labels`이 (텐서형으로) 포함된 경우 loss가 계산된다.\n",
        "    (그리고 이걸 계산해야지 학습을 할 수 있음)"
      ],
      "id": "d2891db1-1bcc-4466-8cfa-1d9b7a9c46e3"
    },
    {
      "cell_type": "code",
      "execution_count": 133,
      "metadata": {},
      "outputs": [
        {
          "output_type": "stream",
          "name": "stderr",
          "text": [
            "Some weights of DistilBertForSequenceClassification were not initialized from the model checkpoint at distilbert/distilbert-base-uncased and are newly initialized: ['classifier.bias', 'classifier.weight', 'pre_classifier.bias', 'pre_classifier.weight']\n",
            "You should probably TRAIN this model on a down-stream task to be able to use it for predictions and inference."
          ]
        }
      ],
      "source": [
        "인공지능 = model = transformers.AutoModelForSequenceClassification.from_pretrained(\n",
        "    \"distilbert/distilbert-base-uncased\", num_labels=2\n",
        ")"
      ],
      "id": "cell-20"
    },
    {
      "cell_type": "markdown",
      "metadata": {},
      "source": [
        "`#` 입력예시1"
      ],
      "id": "e2c98895-800a-4f4d-89e4-23783da90c6c"
    },
    {
      "cell_type": "code",
      "execution_count": 184,
      "metadata": {},
      "outputs": [],
      "source": [
        "인공지능(\n",
        "    **{\n",
        "        'input_ids': torch.tensor([[ 101, 1045, 9544, 2437, 6567, 2241, 2006, 7961, 1998, 7863, 8866, 1012, 102]]), \n",
        "        'attention_mask': torch.tensor([[1, 1, 1, 1, 1, 1, 1, 1, 1, 1, 1, 1, 1]]) # 생략가능\n",
        "    }\n",
        ")"
      ],
      "id": "cell-22"
    },
    {
      "cell_type": "markdown",
      "metadata": {},
      "source": [
        "`#` 입력예시2"
      ],
      "id": "d119695e-0305-44b8-88d1-ae8989e05fbf"
    },
    {
      "cell_type": "code",
      "execution_count": 217,
      "metadata": {},
      "outputs": [],
      "source": [
        "인공지능(\n",
        "    **{\n",
        "        'input_ids': torch.tensor([[ 101, 1045, 9544, 2437, 6567, 2241, 2006, 7961, 1998, 7863, 8866, 1012, 102]]), \n",
        "        'attention_mask': torch.tensor([[1, 1, 1, 1, 1, 1, 1, 1, 1, 1, 1, 1, 1]]), # 생략가능\n",
        "        'labels': torch.tensor([1]) # 생략가능\n",
        "    }\n",
        ")"
      ],
      "id": "cell-24"
    },
    {
      "cell_type": "markdown",
      "metadata": {},
      "source": [
        "`-` `인공지능`: 인공지능의 출력결과\n",
        "“`transformers.modeling_outputs.SequenceClassifierOutput`” 에서 유의미한\n",
        "정보를 추출하는 방법\n",
        "\n",
        "-   `1`. `Dict`에는 특정한 key를 포함하고 있어야한다. (`input_ids`,\n",
        "    `attention_mask`)\n",
        "-   `2`. key에 대응하는 숫자는 파이토치 텐서형태이어야 한다. (`3`.\n",
        "    따라서 (m,n)꼴의 차원을 **반드시** 가져야 한다)\n",
        "-   `4`. `Dict`에 `labels`이 (텐서형으로) 포함된 경우 loss가 계산된다.\n",
        "    (그리고 이걸 계산해야지 학습을 할 수 있음)\n",
        "\n",
        "# 4. 데이터전처리하기2\n",
        "\n",
        "`-` 아래코드를 파고들어보자.\n",
        "\n",
        "``` python\n",
        "def 데이터전처리하기2(examples):\n",
        "    return 데이터전처리하기1(examples[\"text\"], truncation=True)\n",
        "전처리된나의데이터 = 나의데이터.map(lambda x: {'dummy': '메롱'})\n",
        "```\n",
        "\n",
        "`-` `examples['text']`의 쓰임으로 유추해본결과 examples에 가정된 입력의\n",
        "형태??"
      ],
      "id": "3e53a610-344d-4ed1-8028-52f19497c90f"
    },
    {
      "cell_type": "code",
      "execution_count": 189,
      "metadata": {},
      "outputs": [],
      "source": [
        "train_data['text']"
      ],
      "id": "cell-29"
    },
    {
      "cell_type": "code",
      "execution_count": 190,
      "metadata": {},
      "outputs": [],
      "source": [
        "train_data[0]['text']"
      ],
      "id": "cell-30"
    },
    {
      "cell_type": "markdown",
      "metadata": {},
      "source": [
        "`-` 개념1: Hugging Face의 `datasets` 라이브러리에서 제공하는\n",
        "`datasets.dataset_dict.DatasetDict`은, 요소들의 변환에 특화된\n",
        "`map`이라는 메소드가(=함수가) 내장되어있다.\n",
        "\n",
        "`# 예시1`"
      ],
      "id": "572eef8e-c7a1-464a-b104-7deb89b46686"
    },
    {
      "cell_type": "code",
      "execution_count": 14,
      "metadata": {},
      "outputs": [],
      "source": [
        "train_dict = {\n",
        "    'text': [\n",
        "        \"I prefer making decisions based on logic and objective facts.\",\n",
        "        \"I always consider how others might feel when making a decision.\",\n",
        "        \"Data and analysis drive most of my decisions.\",\n",
        "        \"I rely on my empathy and personal values to guide my choices.\"\n",
        "    ],\n",
        "    'label': [0, 1, 0, 1]  # 0은 T(사고형), 1은 F(감정형)\n",
        "}\n",
        "\n",
        "test_dict = {\n",
        "    'text': [\n",
        "        \"I find it important to weigh all the pros and cons logically.\",\n",
        "        \"When making decisions, I prioritize harmony and people's emotions.\"\n",
        "    ],\n",
        "    'label': [0, 1]  # 0은 T(사고형), 1은 F(감정형)\n",
        "}\n",
        "train_data = datasets.Dataset.from_dict(train_dict)\n",
        "test_data = datasets.Dataset.from_dict(test_dict)\n",
        "나의데이터 = datasets.dataset_dict.DatasetDict({'train':train_data, 'test':test_data})"
      ],
      "id": "cell-33"
    },
    {
      "cell_type": "code",
      "execution_count": 64,
      "metadata": {},
      "outputs": [],
      "source": [
        "datasets.dataset_dict.DatasetDict"
      ],
      "id": "cell-34"
    },
    {
      "cell_type": "code",
      "execution_count": null,
      "metadata": {},
      "outputs": [],
      "source": [
        "datasets.dataset_dict.DatasetDict"
      ],
      "id": "cell-35"
    },
    {
      "cell_type": "markdown",
      "metadata": {},
      "source": [
        "::: {#cell-36 .cell execution_count=63}\n",
        "\n",
        "``` python\n",
        "나의데이터.map?\n",
        "```\n",
        "\n",
        "::: {.cell-output .cell-output-display}\n",
        "\n",
        "<pre><span class=\"ansi-red-fg\">Signature:</span>\n",
        "나의데이터<span class=\"ansi-blue-fg\">.</span>map<span class=\"ansi-blue-fg\">(</span>\n",
        "    function<span class=\"ansi-blue-fg\">:</span> Optional<span class=\"ansi-blue-fg\">[</span>Callable<span class=\"ansi-blue-fg\">]</span> <span class=\"ansi-blue-fg\">=</span> <span class=\"ansi-green-fg\">None</span><span class=\"ansi-blue-fg\">,</span>\n",
        "    with_indices<span class=\"ansi-blue-fg\">:</span> bool <span class=\"ansi-blue-fg\">=</span> <span class=\"ansi-green-fg\">False</span><span class=\"ansi-blue-fg\">,</span>\n",
        "    with_rank<span class=\"ansi-blue-fg\">:</span> bool <span class=\"ansi-blue-fg\">=</span> <span class=\"ansi-green-fg\">False</span><span class=\"ansi-blue-fg\">,</span>\n",
        "    input_columns<span class=\"ansi-blue-fg\">:</span> Union<span class=\"ansi-blue-fg\">[</span>str<span class=\"ansi-blue-fg\">,</span> List<span class=\"ansi-blue-fg\">[</span>str<span class=\"ansi-blue-fg\">]</span><span class=\"ansi-blue-fg\">,</span> NoneType<span class=\"ansi-blue-fg\">]</span> <span class=\"ansi-blue-fg\">=</span> <span class=\"ansi-green-fg\">None</span><span class=\"ansi-blue-fg\">,</span>\n",
        "    batched<span class=\"ansi-blue-fg\">:</span> bool <span class=\"ansi-blue-fg\">=</span> <span class=\"ansi-green-fg\">False</span><span class=\"ansi-blue-fg\">,</span>\n",
        "    batch_size<span class=\"ansi-blue-fg\">:</span> Optional<span class=\"ansi-blue-fg\">[</span>int<span class=\"ansi-blue-fg\">]</span> <span class=\"ansi-blue-fg\">=</span> <span class=\"ansi-cyan-fg\">1000</span><span class=\"ansi-blue-fg\">,</span>\n",
        "    drop_last_batch<span class=\"ansi-blue-fg\">:</span> bool <span class=\"ansi-blue-fg\">=</span> <span class=\"ansi-green-fg\">False</span><span class=\"ansi-blue-fg\">,</span>\n",
        "    remove_columns<span class=\"ansi-blue-fg\">:</span> Union<span class=\"ansi-blue-fg\">[</span>str<span class=\"ansi-blue-fg\">,</span> List<span class=\"ansi-blue-fg\">[</span>str<span class=\"ansi-blue-fg\">]</span><span class=\"ansi-blue-fg\">,</span> NoneType<span class=\"ansi-blue-fg\">]</span> <span class=\"ansi-blue-fg\">=</span> <span class=\"ansi-green-fg\">None</span><span class=\"ansi-blue-fg\">,</span>\n",
        "    keep_in_memory<span class=\"ansi-blue-fg\">:</span> bool <span class=\"ansi-blue-fg\">=</span> <span class=\"ansi-green-fg\">False</span><span class=\"ansi-blue-fg\">,</span>\n",
        "    load_from_cache_file<span class=\"ansi-blue-fg\">:</span> Optional<span class=\"ansi-blue-fg\">[</span>bool<span class=\"ansi-blue-fg\">]</span> <span class=\"ansi-blue-fg\">=</span> <span class=\"ansi-green-fg\">None</span><span class=\"ansi-blue-fg\">,</span>\n",
        "    cache_file_names<span class=\"ansi-blue-fg\">:</span> Optional<span class=\"ansi-blue-fg\">[</span>Dict<span class=\"ansi-blue-fg\">[</span>str<span class=\"ansi-blue-fg\">,</span> Optional<span class=\"ansi-blue-fg\">[</span>str<span class=\"ansi-blue-fg\">]</span><span class=\"ansi-blue-fg\">]</span><span class=\"ansi-blue-fg\">]</span> <span class=\"ansi-blue-fg\">=</span> <span class=\"ansi-green-fg\">None</span><span class=\"ansi-blue-fg\">,</span>\n",
        "    writer_batch_size<span class=\"ansi-blue-fg\">:</span> Optional<span class=\"ansi-blue-fg\">[</span>int<span class=\"ansi-blue-fg\">]</span> <span class=\"ansi-blue-fg\">=</span> <span class=\"ansi-cyan-fg\">1000</span><span class=\"ansi-blue-fg\">,</span>\n",
        "    features<span class=\"ansi-blue-fg\">:</span> Optional<span class=\"ansi-blue-fg\">[</span>datasets<span class=\"ansi-blue-fg\">.</span>features<span class=\"ansi-blue-fg\">.</span>features<span class=\"ansi-blue-fg\">.</span>Features<span class=\"ansi-blue-fg\">]</span> <span class=\"ansi-blue-fg\">=</span> <span class=\"ansi-green-fg\">None</span><span class=\"ansi-blue-fg\">,</span>\n",
        "    disable_nullable<span class=\"ansi-blue-fg\">:</span> bool <span class=\"ansi-blue-fg\">=</span> <span class=\"ansi-green-fg\">False</span><span class=\"ansi-blue-fg\">,</span>\n",
        "    fn_kwargs<span class=\"ansi-blue-fg\">:</span> Optional<span class=\"ansi-blue-fg\">[</span>dict<span class=\"ansi-blue-fg\">]</span> <span class=\"ansi-blue-fg\">=</span> <span class=\"ansi-green-fg\">None</span><span class=\"ansi-blue-fg\">,</span>\n",
        "    num_proc<span class=\"ansi-blue-fg\">:</span> Optional<span class=\"ansi-blue-fg\">[</span>int<span class=\"ansi-blue-fg\">]</span> <span class=\"ansi-blue-fg\">=</span> <span class=\"ansi-green-fg\">None</span><span class=\"ansi-blue-fg\">,</span>\n",
        "    desc<span class=\"ansi-blue-fg\">:</span> Optional<span class=\"ansi-blue-fg\">[</span>str<span class=\"ansi-blue-fg\">]</span> <span class=\"ansi-blue-fg\">=</span> <span class=\"ansi-green-fg\">None</span><span class=\"ansi-blue-fg\">,</span>\n",
        "<span class=\"ansi-blue-fg\">)</span> <span class=\"ansi-blue-fg\">-&gt;</span> <span class=\"ansi-blue-fg\">'DatasetDict'</span>\n",
        "<span class=\"ansi-red-fg\">Docstring:</span>\n",
        "Apply a function to all the elements in the table (individually or in batches)\n",
        "and update the table (if function does updated examples).\n",
        "The transformation is applied to all the datasets of the dataset dictionary.\n",
        "Args:\n",
        "    function (`callable`): with one of the following signature:\n",
        "        - `function(example: Dict[str, Any]) -&gt; Dict[str, Any]` if `batched=False` and `with_indices=False`\n",
        "        - `function(example: Dict[str, Any], indices: int) -&gt; Dict[str, Any]` if `batched=False` and `with_indices=True`\n",
        "        - `function(batch: Dict[str, List]) -&gt; Dict[str, List]` if `batched=True` and `with_indices=False`\n",
        "        - `function(batch: Dict[str, List], indices: List[int]) -&gt; Dict[str, List]` if `batched=True` and `with_indices=True`\n",
        "        For advanced usage, the function can also return a `pyarrow.Table`.\n",
        "        Moreover if your function returns nothing (`None`), then `map` will run your function and return the dataset unchanged.\n",
        "    with_indices (`bool`, defaults to `False`):\n",
        "        Provide example indices to `function`. Note that in this case the signature of `function` should be `def function(example, idx): ...`.\n",
        "    with_rank (`bool`, defaults to `False`):\n",
        "        Provide process rank to `function`. Note that in this case the\n",
        "        signature of `function` should be `def function(example[, idx], rank): ...`.\n",
        "    input_columns (`[Union[str, List[str]]]`, *optional*, defaults to `None`):\n",
        "        The columns to be passed into `function` as\n",
        "        positional arguments. If `None`, a dict mapping to all formatted columns is passed as one argument.\n",
        "    batched (`bool`, defaults to `False`):\n",
        "        Provide batch of examples to `function`.\n",
        "    batch_size (`int`, *optional*, defaults to `1000`):\n",
        "        Number of examples per batch provided to `function` if `batched=True`,\n",
        "        `batch_size &lt;= 0` or `batch_size == None` then provide the full dataset as a single batch to `function`.\n",
        "    drop_last_batch (`bool`, defaults to `False`):\n",
        "        Whether a last batch smaller than the batch_size should be\n",
        "        dropped instead of being processed by the function.\n",
        "    remove_columns (`[Union[str, List[str]]]`, *optional*, defaults to `None`):\n",
        "        Remove a selection of columns while doing the mapping.\n",
        "        Columns will be removed before updating the examples with the output of `function`, i.e. if `function` is adding\n",
        "        columns with names in `remove_columns`, these columns will be kept.\n",
        "    keep_in_memory (`bool`, defaults to `False`):\n",
        "        Keep the dataset in memory instead of writing it to a cache file.\n",
        "    load_from_cache_file (`Optional[bool]`, defaults to `True` if caching is enabled):\n",
        "        If a cache file storing the current computation from `function`\n",
        "        can be identified, use it instead of recomputing.\n",
        "    cache_file_names (`[Dict[str, str]]`, *optional*, defaults to `None`):\n",
        "        Provide the name of a path for the cache file. It is used to store the\n",
        "        results of the computation instead of the automatically generated cache file name.\n",
        "        You have to provide one `cache_file_name` per dataset in the dataset dictionary.\n",
        "    writer_batch_size (`int`, default `1000`):\n",
        "        Number of rows per write operation for the cache file writer.\n",
        "        This value is a good trade-off between memory usage during the processing, and processing speed.\n",
        "        Higher value makes the processing do fewer lookups, lower value consume less temporary memory while running `map`.\n",
        "    features (`[datasets.Features]`, *optional*, defaults to `None`):\n",
        "        Use a specific [`Features`] to store the cache file\n",
        "        instead of the automatically generated one.\n",
        "    disable_nullable (`bool`, defaults to `False`):\n",
        "        Disallow null values in the table.\n",
        "    fn_kwargs (`Dict`, *optional*, defaults to `None`):\n",
        "        Keyword arguments to be passed to `function`\n",
        "    num_proc (`int`, *optional*, defaults to `None`):\n",
        "        Number of processes for multiprocessing. By default it doesn't\n",
        "        use multiprocessing.\n",
        "    desc (`str`, *optional*, defaults to `None`):\n",
        "        Meaningful description to be displayed alongside with the progress bar while mapping examples.\n",
        "Example:\n",
        "```py\n",
        "&gt;&gt;&gt; from datasets import load_dataset\n",
        "&gt;&gt;&gt; ds = load_dataset(\"rotten_tomatoes\")\n",
        "&gt;&gt;&gt; def add_prefix(example):\n",
        "...     example[\"text\"] = \"Review: \" + example[\"text\"]\n",
        "...     return example\n",
        "&gt;&gt;&gt; ds = ds.map(add_prefix)\n",
        "&gt;&gt;&gt; ds[\"train\"][0:3][\"text\"]\n",
        "['Review: the rock is destined to be the 21st century's new \" conan \" and that he's going to make a splash even greater than arnold schwarzenegger , jean-claud van damme or steven segal .',\n",
        " 'Review: the gorgeously elaborate continuation of \" the lord of the rings \" trilogy is so huge that a column of words cannot adequately describe co-writer/director peter jackson's expanded vision of j . r . r . tolkien's middle-earth .',\n",
        " 'Review: effective but too-tepid biopic']\n",
        "# process a batch of examples\n",
        "&gt;&gt;&gt; ds = ds.map(lambda example: tokenizer(example[\"text\"]), batched=True)\n",
        "# set number of processors\n",
        "&gt;&gt;&gt; ds = ds.map(add_prefix, num_proc=4)\n",
        "\n",
        "<span class=\"ansi-red-fg\">File:</span>\n",
        "~/anaconda3/envs/hf/lib/python3.12/site-packages/datasets/dataset_dict.py\n",
        "<span class=\"ansi-red-fg\">Type:</span> method\n",
        "\n",
        "</pre>\n",
        "\n",
        "    :::\n",
        "\n",
        "    :::\n",
        "    :::\n",
        "\n",
        "\n",
        "    - 당장필요한내용: `datasets.dataset_dict.DatasetDict.map()`은 (1) `function`을 입력으로 받는데, (2) `function`은 Dict를 입력으로 받고 Dict를 출력하는 함수이어야 한다. \n",
        "\n",
        "    ::: {#cell-38 .cell execution_count=60}\n",
        "    ``` {.python .cell-code}\n",
        "    전처리된나의데이터 = 나의데이터.map(lambda x: {'dummy': '메롱'})\n",
        "\n",
        "    Map: 100%|█████████████████████████████████████████████████████████████████████████████████| 4/4 [00:00<00:00, 1730.14 examples/s]\n",
        "    Map: 100%|█████████████████████████████████████████████████████████████████████████████████| 2/2 [00:00<00:00, 1012.51 examples/s]"
      ],
      "id": "4eb1b95b-3d5e-4b14-861b-81da87fdbde5"
    },
    {
      "cell_type": "code",
      "execution_count": 52,
      "metadata": {},
      "outputs": [],
      "source": [
        "나의데이터['train'][0], 전처리된나의데이터['train'][0]"
      ],
      "id": "cell-39"
    },
    {
      "cell_type": "code",
      "execution_count": 57,
      "metadata": {},
      "outputs": [
        {
          "output_type": "stream",
          "name": "stdout",
          "text": [
            "{'text': 'I prefer making decisions based on logic and objective facts.', 'label': 0, 'dummy': '메롱', 'label2': '사고형(T)'}\n",
            "{'text': 'I always consider how others might feel when making a decision.', 'label': 1, 'dummy': '메롱', 'label2': '감정형(F)'}\n",
            "{'text': 'Data and analysis drive most of my decisions.', 'label': 0, 'dummy': '메롱', 'label2': '사고형(T)'}\n",
            "{'text': 'I rely on my empathy and personal values to guide my choices.', 'label': 1, 'dummy': '메롱', 'label2': '감정형(F)'}"
          ]
        }
      ],
      "source": [
        "for d in 전처리된나의데이터['train']:\n",
        "    print(d)"
      ],
      "id": "cell-40"
    },
    {
      "cell_type": "code",
      "execution_count": 58,
      "metadata": {},
      "outputs": [
        {
          "output_type": "stream",
          "name": "stdout",
          "text": [
            "{'text': 'I find it important to weigh all the pros and cons logically.', 'label': 0, 'dummy': '메롱', 'label2': '사고형(T)'}\n",
            "{'text': \"When making decisions, I prioritize harmony and people's emotions.\", 'label': 1, 'dummy': '메롱', 'label2': '감정형(F)'}"
          ]
        }
      ],
      "source": [
        "for d in 전처리된나의데이터['test']:\n",
        "    print(d)"
      ],
      "id": "cell-41"
    },
    {
      "cell_type": "markdown",
      "metadata": {},
      "source": [
        "`#`\n",
        "\n",
        "`# 예시2`"
      ],
      "id": "c0f09038-09f4-41ab-b31f-43365bd92ba1"
    },
    {
      "cell_type": "code",
      "execution_count": 53,
      "metadata": {},
      "outputs": [
        {
          "output_type": "stream",
          "name": "stderr",
          "text": [
            "Map: 100%|█████████████████████████████████████████████████████████████████████████████████| 4/4 [00:00<00:00, 1071.82 examples/s]\n",
            "Map: 100%|██████████████████████████████████████████████████████████████████████████████████| 2/2 [00:00<00:00, 665.02 examples/s]"
          ]
        }
      ],
      "source": [
        "전처리된나의데이터 = 나의데이터.map(lambda x: {'dummy':'메롱', 'label2': '사고형(T)'} if x['label'] == 0 else {'dummy':'메롱','label2': '감정형(F)'})"
      ],
      "id": "cell-44"
    },
    {
      "cell_type": "code",
      "execution_count": 54,
      "metadata": {},
      "outputs": [
        {
          "output_type": "stream",
          "name": "stdout",
          "text": [
            "{'text': 'I prefer making decisions based on logic and objective facts.', 'label': 0, 'dummy': '메롱', 'label2': '사고형(T)'}\n",
            "{'text': 'I always consider how others might feel when making a decision.', 'label': 1, 'dummy': '메롱', 'label2': '감정형(F)'}\n",
            "{'text': 'Data and analysis drive most of my decisions.', 'label': 0, 'dummy': '메롱', 'label2': '사고형(T)'}\n",
            "{'text': 'I rely on my empathy and personal values to guide my choices.', 'label': 1, 'dummy': '메롱', 'label2': '감정형(F)'}"
          ]
        }
      ],
      "source": [
        "for d in 전처리된나의데이터['train']:\n",
        "    print(d)"
      ],
      "id": "cell-45"
    },
    {
      "cell_type": "code",
      "execution_count": 55,
      "metadata": {},
      "outputs": [
        {
          "output_type": "stream",
          "name": "stdout",
          "text": [
            "{'text': 'I find it important to weigh all the pros and cons logically.', 'label': 0, 'dummy': '메롱', 'label2': '사고형(T)'}\n",
            "{'text': \"When making decisions, I prioritize harmony and people's emotions.\", 'label': 1, 'dummy': '메롱', 'label2': '감정형(F)'}"
          ]
        }
      ],
      "source": [
        "for d in 전처리된나의데이터['test']:\n",
        "    print(d)"
      ],
      "id": "cell-46"
    },
    {
      "cell_type": "markdown",
      "metadata": {},
      "source": [
        "`#`\n",
        "\n",
        "`# 예시3`"
      ],
      "id": "3e6ea247-0734-4be3-a491-405cb8e3ff5a"
    },
    {
      "cell_type": "code",
      "execution_count": 7,
      "metadata": {},
      "outputs": [],
      "source": [
        "def 데이터전처리하기2(examples):\n",
        "    return 데이터전처리하기1(examples[\"text\"], truncation=True)"
      ],
      "id": "cell-49"
    },
    {
      "cell_type": "code",
      "execution_count": 200,
      "metadata": {},
      "outputs": [
        {
          "output_type": "stream",
          "name": "stderr",
          "text": [
            "Map: 100%|██████████████████████████████████████████████████████████████████████████████████| 4/4 [00:00<00:00, 893.02 examples/s]\n",
            "Map: 100%|██████████████████████████████████████████████████████████████████████████████████| 2/2 [00:00<00:00, 569.96 examples/s]"
          ]
        }
      ],
      "source": [
        "전처리된나의데이터 = 나의데이터.map(데이터전처리하기2,batched=True)"
      ],
      "id": "cell-50"
    },
    {
      "cell_type": "code",
      "execution_count": 209,
      "metadata": {},
      "outputs": [],
      "source": [
        "전처리된나의데이터['train'][0]"
      ],
      "id": "cell-51"
    },
    {
      "cell_type": "markdown",
      "metadata": {},
      "source": [
        "`#`\n",
        "\n",
        "# 5. 데이터콜렉터\n",
        "\n",
        "|                |   주어진자료   | $\\overset{tokenizer,map}{\\Longrightarrow}$ 전처리된자료 | $\\overset{datacollector}{\\Longrightarrow}$더전처리된자료 |\n",
        "|:----------------:|:----------------:|:----------------:|:----------------:|\n",
        "|  Dict의 Keys   | `text`,`label` |         `input_ids`, `attention_mask`, `label`          |         `input_ids`, `attention_mask`, `labels`          |\n",
        "|   자료의형태   |  텍스트,라벨   |                   숫자화 O, 행렬화 X                    |                    숫자화 O, 행렬화 O                    |\n",
        "| `torch.tensor` |       \\-       |                            X                            |                            O                             |\n",
        "|    미니배치    |       \\-       |                            X                            |                            O                             |\n",
        "| 패딩/동적패딩  |       \\-       |                            X                            |                            O                             |\n",
        "\n",
        "`-` 데이터콜렉터 사용방법"
      ],
      "id": "ada73c1c-620b-46dd-9578-78afb6f0585c"
    },
    {
      "cell_type": "code",
      "execution_count": 195,
      "metadata": {},
      "outputs": [],
      "source": [
        "데이터콜렉터 = transformers.DataCollatorWithPadding(tokenizer=토크나이저,return_tensors='pt')\n",
        "데이터콜렉터?"
      ],
      "id": "cell-56"
    },
    {
      "cell_type": "markdown",
      "metadata": {},
      "source": [
        "-   당장필요한것: 입력은 `[딕셔너리, 딕셔너리, 딕셔너리, ...]` 의 형태"
      ],
      "id": "b7528ac5-779d-4e54-8f39-05b74d68be35"
    },
    {
      "cell_type": "code",
      "execution_count": 213,
      "metadata": {},
      "outputs": [],
      "source": [
        "데이터콜렉터(\n",
        "    [\n",
        "        dict(label=0,input_ids=[101,1045,102],attention_mask=[1,1,1]),\n",
        "        dict(label=0,input_ids=[101,1045,9544,102],attention_mask=[1,1,1,1]),\n",
        "    ]\n",
        ")"
      ],
      "id": "cell-58"
    },
    {
      "cell_type": "code",
      "execution_count": 214,
      "metadata": {},
      "outputs": [],
      "source": [
        "인공지능(**데이터콜렉터(\n",
        "    [\n",
        "        dict(label=0,input_ids=[101,1045,102],attention_mask=[1,1,1]),\n",
        "        dict(label=0,input_ids=[101,1045,9544,102],attention_mask=[1,1,1,1]),\n",
        "    ]\n",
        "))"
      ],
      "id": "cell-59"
    },
    {
      "cell_type": "markdown",
      "metadata": {},
      "source": [
        "# 6. 평가하기\n",
        "\n",
        "`-` `accuracy.compute`의 기능"
      ],
      "id": "3d3b2b09-fc5b-44be-a2c7-c7df28be755b"
    },
    {
      "cell_type": "code",
      "execution_count": 348,
      "metadata": {},
      "outputs": [],
      "source": [
        "accuracy = evaluate.load(\"accuracy\")"
      ],
      "id": "cell-62"
    },
    {
      "cell_type": "code",
      "execution_count": 356,
      "metadata": {},
      "outputs": [],
      "source": [
        "accuracy.compute(references=[0, 0, 0], predictions=[0, 1, 1])"
      ],
      "id": "cell-63"
    },
    {
      "cell_type": "markdown",
      "metadata": {},
      "source": [
        "`-` 함수내용"
      ],
      "id": "7535dbed-80de-40a8-b675-367eed46f6ae"
    },
    {
      "cell_type": "code",
      "execution_count": 358,
      "metadata": {},
      "outputs": [],
      "source": [
        "# def 평가하기(eval_pred):\n",
        "#     predictions, labels = eval_pred\n",
        "#     predictions = np.argmax(predictions, axis=1)\n",
        "#     accuracy = evaluate.load(\"accuracy\")\n",
        "#     return accuracy.compute(predictions=predictions, references=labels)"
      ],
      "id": "cell-65"
    },
    {
      "cell_type": "code",
      "execution_count": 417,
      "metadata": {},
      "outputs": [],
      "source": [
        "def 평가하기(eval_pred):\n",
        "    계산된숫자들_로짓, 실제정답 = eval_pred\n",
        "    인공지능의예측 = np.argmax(계산된숫자들_로짓, axis=1)\n",
        "    accuracy = evaluate.load(\"accuracy\")\n",
        "    return accuracy.compute(predictions=인공지능의예측, references=실제정답)"
      ],
      "id": "cell-66"
    },
    {
      "cell_type": "markdown",
      "metadata": {},
      "source": [
        "> `평가하기` 함수는 `eval_dataset`에 적용됨\n",
        "\n",
        "# 10. 트레이너 세부지침"
      ],
      "id": "a8b483a3-70b6-4b67-9eb9-7c6b781a4f46"
    },
    {
      "cell_type": "code",
      "execution_count": 418,
      "metadata": {},
      "outputs": [],
      "source": [
        "트레이너세부지침 = transformers.TrainingArguments(\n",
        "    output_dir=\"my_awesome_model\",\n",
        "    learning_rate=2e-5,\n",
        "    per_device_train_batch_size=16,\n",
        "    per_device_eval_batch_size=16,\n",
        "    num_train_epochs=2, # 전체문제세트를 2번 공부하라..\n",
        "    weight_decay=0.01,\n",
        "    eval_strategy=\"epoch\", \n",
        "    save_strategy=\"epoch\", \n",
        "    load_best_model_at_end=True,\n",
        "    push_to_hub=False,\n",
        ")"
      ],
      "id": "cell-69"
    },
    {
      "cell_type": "markdown",
      "metadata": {},
      "source": [
        "> **옵션 설명:**\n",
        ">\n",
        "> 1.  **`output_dir=\"my_awesome_model\"`**:\n",
        ">     -   학습된 모델과 관련 파일(예: 체크포인트, 로그 등)이 저장될\n",
        ">         디렉토리 경로를 지정합니다.\n",
        "> 2.  **`learning_rate=2e-5`**:\n",
        ">     -   학습률(learning rate)을 설정합니다. 모델이 가중치를 업데이트할\n",
        ">         때 사용하는 스텝 크기로, 작은 값일수록 학습 속도가 느려지지만\n",
        ">         안정성이 높습니다.\n",
        "> 3.  **`per_device_train_batch_size=16`**:\n",
        ">     -   **훈련** 시, 각 GPU 또는 CPU 디바이스에서 사용할 배치 크기를\n",
        ">         설정합니다. 이 경우 각 디바이스에서 16개의 샘플을 한 번에\n",
        ">         처리합니다.\n",
        "> 4.  **`per_device_eval_batch_size=16`**:\n",
        ">     -   **평가** 시, 각 GPU 또는 CPU 디바이스에서 사용할 배치 크기를\n",
        ">         설정합니다. 평가 시에는 훈련과 같은 배치 크기를 사용하는 것이\n",
        ">         일반적입니다.\n",
        "> 5.  **`num_train_epochs=2`**:\n",
        ">     -   전체 훈련 데이터셋을 몇 번 반복(에포크)할지 설정합니다.\n",
        ">         여기서는 데이터셋 전체를 2번 학습하게 됩니다.\n",
        "> 6.  **`weight_decay=0.01`**:\n",
        ">     -   가중치 감쇠(weight decay)를 적용하여 모델의 가중치가 지나치게\n",
        ">         커지지 않도록 제어합니다. 0.01의 값은 가중치가 조금씩 감소하게\n",
        ">         하여 모델의 일반화 성능을 높이는 데 도움을 줄 수 있습니다.\n",
        "> 7.  **`eval_strategy=\"epoch\"`**:\n",
        ">     -   평가 전략을 설정합니다. 여기서는 `epoch`으로 설정되어, 매\n",
        ">         에포크가 끝날 때마다 평가가 진행됩니다.\n",
        ">     -   다른 값으로는 `steps` (일정한 스텝마다 평가) 등이 있습니다.\n",
        "> 8.  **`save_strategy=\"epoch\"`**:\n",
        ">     -   모델을 언제 저장할지 설정합니다. `epoch`으로 설정되면, 매\n",
        ">         에포크가 끝날 때마다 체크포인트를 저장합니다.\n",
        ">     -   다른 값으로는 `steps` (일정한 스텝마다 저장) 등이 있습니다.\n",
        "> 9.  **`load_best_model_at_end=True`**:\n",
        ">     -   학습이 끝난 후, 가장 성능이 좋았던 체크포인트를 불러옵니다.\n",
        ">         평가 지표에 따라 가장 성능이 좋았던 모델을 자동으로 불러와\n",
        ">         최종 모델로 사용하게 됩니다.\n",
        "> 10. **`push_to_hub=False`**:\n",
        ">     -   모델 학습이 끝난 후 Hugging Face Hub에 모델을 업로드할지\n",
        ">         여부를 설정합니다. `False`로 설정하면 업로드하지 않습니다.\n",
        ">     -   `True`로 설정하면 모델과 관련된 파일들이 Hugging Face Hub에\n",
        ">         업로드되어 다른 사람들과 공유할 수 있습니다.\n",
        "\n",
        "`-` lr = 학습률 = 답이 틀렸을 경우 혼내는 정도\n",
        "\n",
        "-   정확한 느낌은 경사하강법을 이해해야함.\n",
        "\n",
        "# 11. 트레이너\n",
        "\n",
        "`-` 트레이너를 이용한 학습"
      ],
      "id": "2bea2a9d-d3cc-4686-8659-d661d811cb98"
    },
    {
      "cell_type": "code",
      "execution_count": 421,
      "metadata": {},
      "outputs": [],
      "source": [
        "트레이너 = transformers.Trainer(\n",
        "    model=인공지능,\n",
        "    args=트레이너세부지침,\n",
        "    train_dataset=전처리된데이터['train'],\n",
        "    eval_dataset=전처리된데이터['test'],\n",
        "    tokenizer=토크나이저, # 왜 필요하지??\n",
        "    data_collator=데이터콜렉터,\n",
        "    compute_metrics=평가하기,\n",
        ")\n",
        "트레이너.train()"
      ],
      "id": "cell-74"
    },
    {
      "cell_type": "code",
      "execution_count": 423,
      "metadata": {},
      "outputs": [],
      "source": [
        "25000 / 16 "
      ],
      "id": "cell-75"
    },
    {
      "cell_type": "code",
      "execution_count": 424,
      "metadata": {},
      "outputs": [],
      "source": [
        "1563 * 2 "
      ],
      "id": "cell-76"
    },
    {
      "cell_type": "markdown",
      "metadata": {},
      "source": [
        "`-` 인공지능이 똑똑해졌을까?"
      ],
      "id": "73dd0fae-6cdb-43a8-a734-a29a7ca9925c"
    },
    {
      "cell_type": "code",
      "execution_count": 425,
      "metadata": {},
      "outputs": [],
      "source": [
        "인공지능.classifier.weight # 숫자들은 바뀌어 있음.. "
      ],
      "id": "cell-78"
    },
    {
      "cell_type": "code",
      "execution_count": 426,
      "metadata": {},
      "outputs": [],
      "source": [
        "인공지능.pre_classifier.weight # 숫자들이 바뀌어 있음.. "
      ],
      "id": "cell-79"
    },
    {
      "cell_type": "code",
      "execution_count": 443,
      "metadata": {},
      "outputs": [],
      "source": [
        "인공지능.to(\"cpu\") # 인공지능이 지금 GPU에서 학습했거든요.. 다시 CPU로 내려주는 작업이 필요합니다"
      ],
      "id": "cell-80"
    },
    {
      "cell_type": "markdown",
      "metadata": {},
      "source": [
        "`-` 입력정보에 영화에 대한 부정적 평가를 넣는다면?"
      ],
      "id": "8d61a71f-5f26-4280-9e75-42b96c3b308b"
    },
    {
      "cell_type": "code",
      "execution_count": 427,
      "metadata": {},
      "outputs": [],
      "source": [
        "입력정보_원시텍스트 = \"This movie was a huge disappointment.\"\n",
        "정리된숫자_토큰화된자료 = 토크나이저(입력정보_원시텍스트,truncation=True,return_tensors='pt')\n",
        "정리된숫자_토큰화된자료"
      ],
      "id": "cell-82"
    },
    {
      "cell_type": "code",
      "execution_count": 431,
      "metadata": {},
      "outputs": [],
      "source": [
        "인공지능(**정리된숫자_토큰화된자료)"
      ],
      "id": "cell-83"
    },
    {
      "cell_type": "code",
      "execution_count": 432,
      "metadata": {},
      "outputs": [],
      "source": [
        "계산된숫자_로짓 = 인공지능(**정리된숫자_토큰화된자료).logits.detach().numpy()\n",
        "계산된숫자_로짓"
      ],
      "id": "cell-84"
    },
    {
      "cell_type": "code",
      "execution_count": 433,
      "metadata": {},
      "outputs": [],
      "source": [
        "출력정보_확률 = np.exp(계산된숫자_로짓) / np.exp(계산된숫자_로짓).sum()\n",
        "출력정보_확률 # 0일확률, 1일확률"
      ],
      "id": "cell-85"
    },
    {
      "cell_type": "code",
      "execution_count": 434,
      "metadata": {},
      "outputs": [],
      "source": [
        "출력정보_확률.argmax() # 부정적 영화평가에 대한 인공지능의 예측"
      ],
      "id": "cell-86"
    },
    {
      "cell_type": "markdown",
      "metadata": {},
      "source": [
        "`-` 입력정보에 영화에 대한 긍정적 평가를 넣는다면?"
      ],
      "id": "b2935953-8e39-4a7c-b57b-71e8bde8a9c5"
    },
    {
      "cell_type": "code",
      "execution_count": 436,
      "metadata": {},
      "outputs": [],
      "source": [
        "입력정보_원시텍스트 = \"This was a masterpiece.\"\n",
        "정리된숫자_토큰화된자료 = 토크나이저(입력정보_원시텍스트,truncation=True,return_tensors='pt')\n",
        "정리된숫자_토큰화된자료"
      ],
      "id": "cell-88"
    },
    {
      "cell_type": "code",
      "execution_count": 437,
      "metadata": {},
      "outputs": [],
      "source": [
        "인공지능(**정리된숫자_토큰화된자료)"
      ],
      "id": "cell-89"
    },
    {
      "cell_type": "code",
      "execution_count": 438,
      "metadata": {},
      "outputs": [],
      "source": [
        "계산된숫자_로짓 = 인공지능(**정리된숫자_토큰화된자료).logits.detach().numpy()\n",
        "계산된숫자_로짓"
      ],
      "id": "cell-90"
    },
    {
      "cell_type": "code",
      "execution_count": 439,
      "metadata": {},
      "outputs": [],
      "source": [
        "출력정보_확률 = np.exp(계산된숫자_로짓) / np.exp(계산된숫자_로짓).sum()\n",
        "출력정보_확률 # 0일확률, 1일확률"
      ],
      "id": "cell-91"
    },
    {
      "cell_type": "code",
      "execution_count": 440,
      "metadata": {},
      "outputs": [],
      "source": [
        "출력정보_확률.argmax()\n",
        "계산된숫자_로짓.argmax() # 부정적 영화평가에 대한 인공지능의 예측"
      ],
      "id": "cell-92"
    },
    {
      "cell_type": "markdown",
      "metadata": {},
      "source": [
        "`-` 우리가 가져야할 생각: 신기하다 X // 노가다 많이 했구나.. O\n",
        "\n",
        "# 12. 파이프라인\n",
        "\n",
        "`-` 강인공지능?\n",
        "\n",
        "> ref: <https://zdnet.co.kr/view/?no=20160622145838>"
      ],
      "id": "17d7e8a4-578b-47fc-a65a-fb793fab43e5"
    },
    {
      "cell_type": "code",
      "execution_count": 444,
      "metadata": {},
      "outputs": [
        {
          "output_type": "stream",
          "name": "stderr",
          "text": [
            "Hardware accelerator e.g. GPU is available in the environment, but no `device` argument is passed to the `Pipeline` object. Model will be on CPU."
          ]
        },
        {
          "output_type": "stream",
          "name": "stdout",
          "text": [
            "[{'label': 'LABEL_0', 'score': 0.9885253310203552}]\n",
            "[{'label': 'LABEL_1', 'score': 0.978060781955719}]"
          ]
        }
      ],
      "source": [
        "강인공지능 = transformers.pipeline(\"sentiment-analysis\", model=\"my_awesome_model/checkpoint-1563\")\n",
        "print(강인공지능(\"This movie was a huge disappointment.\"))\n",
        "print(강인공지능(\"This was a masterpiece.\"))"
      ],
      "id": "cell-97"
    }
  ],
  "nbformat": 4,
  "nbformat_minor": 5,
  "metadata": {
    "kernelspec": {
      "name": "python3",
      "display_name": "Python 3 (ipykernel)",
      "language": "python"
    },
    "language_info": {
      "name": "python",
      "codemirror_mode": {
        "name": "ipython",
        "version": "3"
      },
      "file_extension": ".py",
      "mimetype": "text/x-python",
      "nbconvert_exporter": "python",
      "pygments_lexer": "ipython3",
      "version": "3.12.4"
    }
  }
}