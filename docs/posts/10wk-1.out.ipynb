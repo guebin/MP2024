{
  "cells": [
    {
      "cell_type": "markdown",
      "metadata": {},
      "source": [
        "# 10wk-1: `Dataset` 클래스\n",
        "\n",
        "최규빈  \n",
        "2024-11-12\n",
        "\n",
        "<a href=\"https://colab.research.google.com/github/guebin/MP2024/blob/main/posts/10wk-1.ipynb\"><img src=\"https://colab.research.google.com/assets/colab-badge.svg\" style=\"text-align: left\"></a>\n",
        "\n",
        "# 1. 강의영상\n",
        "\n",
        "<https://youtu.be/playlist?list=PLQqh36zP38-ykYDGqzZhVu08gNRipqhaf&si=fb8GRsvDxQY70mGh>\n",
        "\n",
        "# 2. Imports"
      ],
      "id": "2ae1e312-f816-48e9-99a4-cb399c840e67"
    },
    {
      "cell_type": "code",
      "execution_count": 1,
      "metadata": {},
      "outputs": [],
      "source": [
        "#!pip uninstall mp2024pkg -y\n",
        "#!pip install git+https://github.com/guebin/mp2024pkg.git"
      ],
      "id": "47d347ad-b4e1-4db2-a109-bcdbed72065b"
    },
    {
      "cell_type": "code",
      "execution_count": 2,
      "metadata": {},
      "outputs": [
        {
          "output_type": "stream",
          "name": "stderr",
          "text": [
            "/home/cgb3/anaconda3/envs/hf/lib/python3.12/site-packages/tqdm/auto.py:21: TqdmWarning: IProgress not found. Please update jupyter and ipywidgets. See https://ipywidgets.readthedocs.io/en/stable/user_install.html\n",
            "  from .autonotebook import tqdm as notebook_tqdm"
          ]
        }
      ],
      "source": [
        "import pandas as pd\n",
        "import numpy as np\n",
        "import datasets \n",
        "import transformers\n",
        "import torch\n",
        "from mp2024pkg import signature, show\n",
        "from rich import print as rprint"
      ],
      "id": "f7ada738"
    },
    {
      "cell_type": "code",
      "execution_count": 119,
      "metadata": {},
      "outputs": [],
      "source": [
        "emotion = datasets.load_dataset('emotion')\n",
        "tokenizer = transformers.AutoTokenizer.from_pretrained(\"distilbert/distilbert-base-uncased\")"
      ],
      "id": "ee6eed48"
    },
    {
      "cell_type": "markdown",
      "metadata": {},
      "source": [
        "# 3. Dataset 형식이해\n",
        "\n",
        "`-` `emotion` 데이터셋 일부를 `d`로 선언"
      ],
      "id": "a355f490-6c3f-40e3-8cb4-0ec4a1c65472"
    },
    {
      "cell_type": "code",
      "execution_count": null,
      "metadata": {},
      "outputs": [],
      "source": [
        "d = emotion['train'].select(range(4))\n",
        "d"
      ],
      "id": "54703cf1"
    },
    {
      "cell_type": "markdown",
      "metadata": {},
      "source": [
        "`-` `d` 는 아래와 같이 length-$n$ 인 list로 이해하는것이 편리하다.\n",
        "\n",
        "-   dataset = \\[example_1, example_2, example_3 , example_4\\]\n",
        "-   example_i = {‘text’: xxx, ‘label’: yyy}"
      ],
      "id": "988a3274-26af-47b7-b737-753021b76a1b"
    },
    {
      "cell_type": "code",
      "execution_count": 17,
      "metadata": {},
      "outputs": [],
      "source": [
        "d"
      ],
      "id": "ed6ab62e"
    },
    {
      "cell_type": "code",
      "execution_count": 18,
      "metadata": {},
      "outputs": [],
      "source": [
        "[d[0],d[1],d[2],d[3]]"
      ],
      "id": "600293bd"
    },
    {
      "cell_type": "code",
      "execution_count": 38,
      "metadata": {},
      "outputs": [],
      "source": [
        "d.to_list()"
      ],
      "id": "ccfd6146"
    },
    {
      "cell_type": "markdown",
      "metadata": {},
      "source": [
        "`-` 그런데 `Dataset`은 특이하게도 아래의 문법이 동작했었다."
      ],
      "id": "d47c7d8d-2c69-4225-a303-8ac4ffc22651"
    },
    {
      "cell_type": "code",
      "execution_count": 28,
      "metadata": {},
      "outputs": [],
      "source": [
        "d['text']"
      ],
      "id": "402c49be"
    },
    {
      "cell_type": "code",
      "execution_count": 29,
      "metadata": {},
      "outputs": [],
      "source": [
        "d['label']"
      ],
      "id": "89de636e"
    },
    {
      "cell_type": "markdown",
      "metadata": {},
      "source": [
        "`-` 위의 결과를 관찰하면 `Dataset` 는 마치 dictionary 처럼 느껴진다.\n",
        "실제로 경우에 따라서 `Dataset`을 dictionary 처럼 생각해도 된다. 이때\n",
        "`Dataset`은 아래와 같은 구조로 이해하는게 편리하다.\n",
        "\n",
        "-   d = examples = {‘text’:\\[xxx,xxxx,xxxxx,xxxxxx\\],\n",
        "    ‘label’:\\[yyy,yyyy,yyyyy,yyyyyy\\]}"
      ],
      "id": "394601ee-f844-4f0d-b82b-2dcf2cb05aa4"
    },
    {
      "cell_type": "code",
      "execution_count": null,
      "metadata": {},
      "outputs": [],
      "source": [
        "dct = {'text': d['text'], 'label':d['label']}\n",
        "dct"
      ],
      "id": "b4a66d69"
    },
    {
      "cell_type": "code",
      "execution_count": null,
      "metadata": {},
      "outputs": [],
      "source": [
        "d.to_dict()"
      ],
      "id": "4fadcce5"
    },
    {
      "cell_type": "markdown",
      "metadata": {},
      "source": [
        "`-` 복습: 딕셔너리를 데이터프레임과 비슷하게 생각할 수 있었음."
      ],
      "id": "cfff3695-ec33-4e08-8366-f9f2fb5fc1c1"
    },
    {
      "cell_type": "code",
      "execution_count": 39,
      "metadata": {},
      "outputs": [],
      "source": [
        "pd.DataFrame({'a':[1,2,3], 'b':[2,3,4]})"
      ],
      "id": "ca83e128"
    },
    {
      "cell_type": "markdown",
      "metadata": {},
      "source": [
        "`-` 이 개념을 확장하면 `d`역시 데이터프레임과 비슷하게 이해할 수도 있다."
      ],
      "id": "b8d85184-5184-4723-b201-1728e8b530f6"
    },
    {
      "cell_type": "code",
      "execution_count": 41,
      "metadata": {},
      "outputs": [],
      "source": [
        "pd.DataFrame(d.to_dict())"
      ],
      "id": "d9236e33"
    },
    {
      "cell_type": "code",
      "execution_count": 42,
      "metadata": {},
      "outputs": [],
      "source": [
        "d.to_pandas()"
      ],
      "id": "f63ce13d"
    },
    {
      "cell_type": "markdown",
      "metadata": {},
      "source": [
        "# 4. 쉬운 함수들\n",
        "\n",
        "## A. `.select()`\n",
        "\n",
        "`# 예시1`"
      ],
      "id": "8757978b-f2b8-4c34-ac83-de41bda6b0ea"
    },
    {
      "cell_type": "code",
      "execution_count": 59,
      "metadata": {},
      "outputs": [],
      "source": [
        "#d = datasets.Dataset.from_list([emotion['train'][0],emotion['train'][1],emotion['train'][2],emotion['train'][3]])\n",
        "d = emotion['train'].select(range(4))\n",
        "d"
      ],
      "id": "a9c7318d"
    },
    {
      "cell_type": "markdown",
      "metadata": {},
      "source": [
        "`#`\n",
        "\n",
        "## B. `.shuffle()`\n",
        "\n",
        "`# 예시1`"
      ],
      "id": "3faa16c9-82e0-4c1d-9038-c053ea03c4d6"
    },
    {
      "cell_type": "code",
      "execution_count": 63,
      "metadata": {},
      "outputs": [],
      "source": [
        "d = emotion['train'].select(range(4))\n",
        "d"
      ],
      "id": "ff4c2352"
    },
    {
      "cell_type": "code",
      "execution_count": 76,
      "metadata": {},
      "outputs": [
        {
          "output_type": "stream",
          "name": "stdout",
          "text": [
            "List Overview:\n",
            "Total items: 4\n",
            "\n",
            "1. list[0]\n",
            "   - Type: dict\n",
            "   - Length: 2\n",
            "   - Values: {'text': 'i am ever feeling nostalgic about the fireplace i will know that it is still on the property', 'label': 2}\n",
            "\n",
            "2. list[1]\n",
            "   - Type: dict\n",
            "   - Length: 2\n",
            "   - Values: {'text': 'im grabbing a minute to post i feel greedy wrong', 'label': 3}\n",
            "\n",
            "3. list[2]\n",
            "   - Type: dict\n",
            "   - Length: 2\n",
            "   - Values: {'text': 'i didnt feel humiliated', 'label': 0}\n",
            "\n",
            "4. list[3]\n",
            "   - Type: dict\n",
            "   - Length: 2\n",
            "   - Values: {'text': 'i can go from feeling so hopeless to so damned hopeful just from being around someone who cares and is awake', 'label': 0}"
          ]
        }
      ],
      "source": [
        "show(d.shuffle())"
      ],
      "id": "e6481cdb"
    },
    {
      "cell_type": "markdown",
      "metadata": {},
      "source": [
        "`#`\n",
        "\n",
        "`# 예시2`"
      ],
      "id": "bf4f176d-4ab8-4c85-a2b3-f4de04313da3"
    },
    {
      "cell_type": "code",
      "execution_count": null,
      "metadata": {},
      "outputs": [],
      "source": [
        "# emotion['train']에서 처음 4개의 observation/example 을 뽑는 코드\n",
        "d = emotion['train'].select(range(4))\n",
        "d "
      ],
      "id": "9f1f152a"
    },
    {
      "cell_type": "code",
      "execution_count": 78,
      "metadata": {},
      "outputs": [],
      "source": [
        "# emotion['train']에서 랜덤으로 4개의 observation/example 을 뽑는 코드\n",
        "d = emotion['train'].shuffle().select(range(4))\n",
        "d "
      ],
      "id": "e2546c0d"
    },
    {
      "cell_type": "markdown",
      "metadata": {},
      "source": [
        "`#`\n",
        "\n",
        "## C. `.select_columns()`\n",
        "\n",
        "`# 예시1`"
      ],
      "id": "b9a75868-3af7-40b2-b296-73f04a43f4ee"
    },
    {
      "cell_type": "code",
      "execution_count": 82,
      "metadata": {},
      "outputs": [],
      "source": [
        "d = emotion['train'].select(range(4))\n",
        "d"
      ],
      "id": "1d5059b5"
    },
    {
      "cell_type": "code",
      "execution_count": 84,
      "metadata": {},
      "outputs": [],
      "source": [
        "d.select_columns(['text'])"
      ],
      "id": "fe36b7c4"
    },
    {
      "cell_type": "code",
      "execution_count": 85,
      "metadata": {},
      "outputs": [],
      "source": [
        "d.select_columns(['label'])"
      ],
      "id": "17c0f85b"
    },
    {
      "cell_type": "code",
      "execution_count": 86,
      "metadata": {},
      "outputs": [],
      "source": [
        "d.select_columns(['text','label'])"
      ],
      "id": "04fac007"
    },
    {
      "cell_type": "markdown",
      "metadata": {},
      "source": [
        "`#`\n",
        "\n",
        "## D. `.set_format()`\n",
        "\n",
        "`# 예시1`"
      ],
      "id": "abe1f88b-3bf0-4a0a-bbaf-6b111fe9bb26"
    },
    {
      "cell_type": "code",
      "execution_count": 93,
      "metadata": {},
      "outputs": [],
      "source": [
        "d = emotion['train'].select(range(4))\n",
        "d"
      ],
      "id": "56e33c36"
    },
    {
      "cell_type": "code",
      "execution_count": 95,
      "metadata": {},
      "outputs": [],
      "source": [
        "d.set_format(type=\"pandas\")"
      ],
      "id": "163e4de1"
    },
    {
      "cell_type": "code",
      "execution_count": 99,
      "metadata": {},
      "outputs": [],
      "source": [
        "d['text']"
      ],
      "id": "bf9f8c75"
    },
    {
      "cell_type": "code",
      "execution_count": 100,
      "metadata": {},
      "outputs": [],
      "source": [
        "d['label']"
      ],
      "id": "588e713b"
    },
    {
      "cell_type": "markdown",
      "metadata": {},
      "source": [
        "`#`\n",
        "\n",
        "`# 예시2`"
      ],
      "id": "43636bd8-0938-432d-9302-e94169893396"
    },
    {
      "cell_type": "code",
      "execution_count": 102,
      "metadata": {},
      "outputs": [],
      "source": [
        "d = emotion['train'].select(range(4))\n",
        "d"
      ],
      "id": "a4abdbf9"
    },
    {
      "cell_type": "code",
      "execution_count": 103,
      "metadata": {},
      "outputs": [],
      "source": [
        "d.set_format(type=\"pandas\",columns=['label'])"
      ],
      "id": "d54adce0"
    },
    {
      "cell_type": "code",
      "execution_count": 104,
      "metadata": {},
      "outputs": [],
      "source": [
        "d['text']"
      ],
      "id": "42e04d32"
    },
    {
      "cell_type": "code",
      "execution_count": 105,
      "metadata": {},
      "outputs": [],
      "source": [
        "d['label']"
      ],
      "id": "8a447bf7"
    },
    {
      "cell_type": "markdown",
      "metadata": {},
      "source": [
        "`#`\n",
        "\n",
        "`# 예시3`"
      ],
      "id": "1a8246b9-d169-4d5b-9bfb-77ad695ff2b7"
    },
    {
      "cell_type": "code",
      "execution_count": 106,
      "metadata": {},
      "outputs": [],
      "source": [
        "d = emotion['train'].select(range(4))\n",
        "d"
      ],
      "id": "ee352db6"
    },
    {
      "cell_type": "code",
      "execution_count": 107,
      "metadata": {},
      "outputs": [],
      "source": [
        "d.set_format(type=\"pt\",columns=['label'])"
      ],
      "id": "f3a65a56"
    },
    {
      "cell_type": "code",
      "execution_count": 108,
      "metadata": {},
      "outputs": [],
      "source": [
        "d['text']"
      ],
      "id": "2688cdd5"
    },
    {
      "cell_type": "code",
      "execution_count": 109,
      "metadata": {},
      "outputs": [],
      "source": [
        "d['label']"
      ],
      "id": "ff11514b"
    },
    {
      "cell_type": "markdown",
      "metadata": {},
      "source": [
        "`#`\n",
        "\n",
        "## E. `.reset_format()`\n",
        "\n",
        "`# 예시1`"
      ],
      "id": "40aa0a53-4439-48dd-8a82-d9071dbfbd55"
    },
    {
      "cell_type": "code",
      "execution_count": 111,
      "metadata": {},
      "outputs": [],
      "source": [
        "d = emotion['train'].select(range(4))\n",
        "d"
      ],
      "id": "1318008d"
    },
    {
      "cell_type": "code",
      "execution_count": 113,
      "metadata": {},
      "outputs": [],
      "source": [
        "d.set_format(type=\"pt\",columns=['label'])"
      ],
      "id": "b8cc229a"
    },
    {
      "cell_type": "code",
      "execution_count": 114,
      "metadata": {},
      "outputs": [],
      "source": [
        "d['text']"
      ],
      "id": "2fa9950f"
    },
    {
      "cell_type": "code",
      "execution_count": 115,
      "metadata": {},
      "outputs": [],
      "source": [
        "d['label']"
      ],
      "id": "d08b94ac"
    },
    {
      "cell_type": "code",
      "execution_count": 116,
      "metadata": {},
      "outputs": [],
      "source": [
        "d.reset_format()"
      ],
      "id": "aed2a425"
    },
    {
      "cell_type": "code",
      "execution_count": 117,
      "metadata": {},
      "outputs": [],
      "source": [
        "d['text']"
      ],
      "id": "8729de49"
    },
    {
      "cell_type": "code",
      "execution_count": 118,
      "metadata": {},
      "outputs": [],
      "source": [
        "d['label']"
      ],
      "id": "3f0ddd1c"
    },
    {
      "cell_type": "markdown",
      "metadata": {},
      "source": [
        "`#`\n",
        "\n",
        "# 5. `.map()`\n",
        "\n",
        "## A. `d.map()`\n",
        "\n",
        "`# 예제1` – `.map()`에 대한 이해\n",
        "\n",
        "아래와 같은 Dataset이 있다고 하자."
      ],
      "id": "b5d6ad4b-ceb6-4ad4-9fd6-99b150454324"
    },
    {
      "cell_type": "code",
      "execution_count": null,
      "metadata": {},
      "outputs": [],
      "source": [
        "d = emotion['train'].select(range(4))\n",
        "d"
      ],
      "id": "7b32ca91"
    },
    {
      "cell_type": "markdown",
      "metadata": {},
      "source": [
        "`d.map()`을 이용하여 아래와 같이 변환하라.\n",
        "\n",
        "| 데이터  | 변환전                           | 변환후                                                                                                  |\n",
        "|:-----------------------|:-----------------------|:-----------------------|\n",
        "| d\\[0\\]  | text: str<br/>label: int         | text: str<br/>label: int<br/>input_ids: \\[int,…,int\\]<br/>attention_mask: \\[int,…,int\\]                 |\n",
        "| d\\[:1\\] | text: \\[str\\]<br/>label: \\[int\\] | text: \\[str\\]<br/>label: \\[int\\]<br/>input_ids: \\[\\[int,…,int\\]\\]<br/>attention_mask: \\[\\[int,…,int\\]\\] |\n",
        "\n",
        "`(풀이1)` – `d.map()`을 사용하지 않은 풀이..\n",
        "\n",
        "*`d`는 아래와 같은 구조로 이해할 수 있음*\n",
        "\n",
        "-   d = \\[example_1, example_2, example_3, example_4\\]\n",
        "-   example_i = {‘text’: xxx, ‘label’ = yyy}\n",
        "\n",
        "*리스트화*"
      ],
      "id": "2b5924fc-1807-4d62-a82f-34afc5509918"
    },
    {
      "cell_type": "code",
      "execution_count": null,
      "metadata": {},
      "outputs": [],
      "source": [
        "lst = d.to_list()\n",
        "lst"
      ],
      "id": "541e0b2a"
    },
    {
      "cell_type": "markdown",
      "metadata": {},
      "source": [
        "*리스트의 첫 요소에 변환적용*"
      ],
      "id": "31a8d0f5-34a5-48a3-8ef1-6000cbafcc19"
    },
    {
      "cell_type": "code",
      "execution_count": null,
      "metadata": {},
      "outputs": [],
      "source": [
        "l = lst[0]\n",
        "l"
      ],
      "id": "fd1e4df1"
    },
    {
      "cell_type": "code",
      "execution_count": null,
      "metadata": {},
      "outputs": [],
      "source": [
        "r = tokenizer(l['text'])\n",
        "r"
      ],
      "id": "728ec7a6"
    },
    {
      "cell_type": "markdown",
      "metadata": {},
      "source": [
        "*`l`와 `tokenizer(l['text'])`을 합침*"
      ],
      "id": "ed6f3943-e12e-4728-98d7-6e55cb8d2e57"
    },
    {
      "cell_type": "code",
      "execution_count": null,
      "metadata": {},
      "outputs": [],
      "source": [
        "l"
      ],
      "id": "c52adb1e"
    },
    {
      "cell_type": "code",
      "execution_count": null,
      "metadata": {},
      "outputs": [],
      "source": [
        "r"
      ],
      "id": "6ddc3ad6"
    },
    {
      "cell_type": "code",
      "execution_count": null,
      "metadata": {},
      "outputs": [],
      "source": [
        "l|r "
      ],
      "id": "2b473825"
    },
    {
      "cell_type": "markdown",
      "metadata": {},
      "source": [
        "*반복*"
      ],
      "id": "b46beade-2f87-4681-a4d9-d47a04ec0d42"
    },
    {
      "cell_type": "code",
      "execution_count": null,
      "metadata": {},
      "outputs": [],
      "source": [
        "lst2 = [l | tokenizer(l['text']) for l in lst]\n",
        "lst2"
      ],
      "id": "39dbe193"
    },
    {
      "cell_type": "markdown",
      "metadata": {},
      "source": [
        "*`lst2`를 `d2`로..*"
      ],
      "id": "a4626dc8-121f-4524-9ff6-2cb187d21793"
    },
    {
      "cell_type": "code",
      "execution_count": null,
      "metadata": {},
      "outputs": [],
      "source": [
        "d2 = datasets.Dataset.from_list(lst2)\n",
        "d2"
      ],
      "id": "3b8474e0"
    },
    {
      "cell_type": "code",
      "execution_count": null,
      "metadata": {},
      "outputs": [],
      "source": [
        "d2[0]"
      ],
      "id": "5508891d"
    },
    {
      "cell_type": "code",
      "execution_count": null,
      "metadata": {},
      "outputs": [],
      "source": [
        "d2[:1]"
      ],
      "id": "89165027"
    },
    {
      "cell_type": "markdown",
      "metadata": {},
      "source": [
        "`(풀이2)`"
      ],
      "id": "51c8abbb-a449-47cd-a9fd-d84865dfcbad"
    },
    {
      "cell_type": "code",
      "execution_count": null,
      "metadata": {},
      "outputs": [],
      "source": [
        "def m_transform(example):\n",
        "    # example = l = {'text': 'i didnt feel humiliated', 'label': 0} \n",
        "    result = tokenizer(example['text'])\n",
        "    return result "
      ],
      "id": "85998db4"
    },
    {
      "cell_type": "code",
      "execution_count": null,
      "metadata": {},
      "outputs": [],
      "source": [
        "d2 = d.map(m_transform)\n",
        "d2[0]"
      ],
      "id": "2bcec82a"
    },
    {
      "cell_type": "code",
      "execution_count": null,
      "metadata": {},
      "outputs": [],
      "source": [
        "d2[:1]"
      ],
      "id": "80e0161e"
    },
    {
      "cell_type": "markdown",
      "metadata": {},
      "source": [
        "`#`\n",
        "\n",
        "> **Note**\n",
        ">\n",
        "> **`.map()`의 특징**\n",
        ">\n",
        "> -   특징1: `m_transform()`은 입력으로\n",
        ">     `example = {'text':xxx, 'label':yyy}` 꼴을 가정한다.\n",
        "> -   특징2: `.map()`은 변환전 dict와 변환후 dict를 합친다.\n",
        "\n",
        "## B. `dd.map()`\n",
        "\n",
        "`# 예제1` – `dd`에도 `.map`을 적용할 수 있음\n",
        "\n",
        "아래와 같은 DatasetDict가 있다고 하자."
      ],
      "id": "df6078ff-9c52-4fd5-ae23-001ba94c80f4"
    },
    {
      "cell_type": "code",
      "execution_count": null,
      "metadata": {},
      "outputs": [],
      "source": [
        "dd = datasets.DatasetDict({\n",
        "    'train':emotion['train'].select(range(4)),\n",
        "    'test':emotion['test'].select(range(4)),\n",
        "})\n",
        "dd"
      ],
      "id": "93b02b21"
    },
    {
      "cell_type": "markdown",
      "metadata": {},
      "source": [
        "`dd.map()`을 이용하여 아래와 같이 변환하라.\n",
        "\n",
        "| tr/test | 데이터  | 변환전                           | 변환후                                                                                                  |\n",
        "|:-----------------|:-----------------|:-----------------|:-----------------|\n",
        "| train   | d\\[0\\]  | text: str<br/>label: int         | text: str<br/>label: int<br/>input_ids: \\[int,…,int\\]<br/>attention_mask: \\[int,…,int\\]                 |\n",
        "| train   | d\\[:1\\] | text: \\[str\\]<br/>label: \\[int\\] | text: \\[str\\]<br/>label: \\[int\\]<br/>input_ids: \\[\\[int,…,int\\]\\]<br/>attention_mask: \\[\\[int,…,int\\]\\] |\n",
        "| test    | d\\[0\\]  | text: str<br/>label: int         | text: str<br/>label: int<br/>input_ids: \\[int,…,int\\]<br/>attention_mask: \\[int,…,int\\]                 |\n",
        "| test    | d\\[:1\\] | text: \\[str\\]<br/>label: \\[int\\] | text: \\[str\\]<br/>label: \\[int\\]<br/>input_ids: \\[\\[int,…,int\\]\\]<br/>attention_mask: \\[\\[int,…,int\\]\\] |\n",
        "\n",
        "`(풀이)`"
      ],
      "id": "fd1d7616-2446-4151-b045-95eed216e69e"
    },
    {
      "cell_type": "code",
      "execution_count": null,
      "metadata": {},
      "outputs": [],
      "source": [
        "def m_transform(example):\n",
        "    # example = l = {'text': 'i didnt feel humiliated', 'label': 0} \n",
        "    result = tokenizer(example['text'])\n",
        "    return result "
      ],
      "id": "9ce0b008"
    },
    {
      "cell_type": "code",
      "execution_count": null,
      "metadata": {},
      "outputs": [],
      "source": [
        "dd2 = dd.map(m_transform)"
      ],
      "id": "4df41089"
    },
    {
      "cell_type": "code",
      "execution_count": null,
      "metadata": {},
      "outputs": [],
      "source": [
        "dd2['train'][0]"
      ],
      "id": "ab8aaf5e"
    },
    {
      "cell_type": "code",
      "execution_count": null,
      "metadata": {},
      "outputs": [],
      "source": [
        "dd2['train'][:1]"
      ],
      "id": "21025349"
    },
    {
      "cell_type": "code",
      "execution_count": null,
      "metadata": {},
      "outputs": [],
      "source": [
        "dd2['test'][0]"
      ],
      "id": "6eb25361"
    },
    {
      "cell_type": "code",
      "execution_count": null,
      "metadata": {},
      "outputs": [],
      "source": [
        "dd2['test'][:1]"
      ],
      "id": "e2179b31"
    },
    {
      "cell_type": "markdown",
      "metadata": {},
      "source": [
        "`#`\n",
        "\n",
        "## C. `d.map(batch=True)`\n",
        "\n",
        "`# 예제1` – `d.map(batch=True)`의 이해\n",
        "\n",
        "아래와 같은 Dataset이 있다고 하자."
      ],
      "id": "54d3f124-5884-473c-8d83-d699096a441f"
    },
    {
      "cell_type": "code",
      "execution_count": null,
      "metadata": {},
      "outputs": [],
      "source": [
        "d = emotion['train'].select(range(8))\n",
        "d"
      ],
      "id": "e2e1efd1"
    },
    {
      "cell_type": "markdown",
      "metadata": {},
      "source": [
        "`d.map(batch=True)`을 이용하여 아래와 같이 변환하라.\n",
        "\n",
        "| 데이터  | 변환전                           | 변환후                                                                                                  | 특이사항                           |\n",
        "|:-----------------|:-----------------|:-----------------|:-----------------|\n",
        "| d\\[0\\]  | text: str<br/>label: int         | text: str<br/>label: int<br/>input_ids: \\[int,…,int\\]<br/>attention_mask: \\[int,…,int\\]                 | 변환시 2개의 example씩 묶어서 패딩 |\n",
        "| d\\[:1\\] | text: \\[str\\]<br/>label: \\[int\\] | text: \\[str\\]<br/>label: \\[int\\]<br/>input_ids: \\[\\[int,…,int\\]\\]<br/>attention_mask: \\[\\[int,…,int\\]\\] | 변환시 2개의 example씩 묶어서 패딩 |\n",
        "\n",
        "`(풀이1)` – 실패"
      ],
      "id": "140a3974-d67c-49fb-b439-d78d0f645abf"
    },
    {
      "cell_type": "code",
      "execution_count": null,
      "metadata": {},
      "outputs": [],
      "source": [
        "def m_transform(example):\n",
        "    # example = {'text':xxx, 'label':yyy}\n",
        "    result = tokenizer(example['text'],padding=True)\n",
        "    return result "
      ],
      "id": "e785c9f4"
    },
    {
      "cell_type": "code",
      "execution_count": null,
      "metadata": {},
      "outputs": [],
      "source": [
        "d2 = d.map(m_transform)\n",
        "d2"
      ],
      "id": "45ef22c5"
    },
    {
      "cell_type": "code",
      "execution_count": null,
      "metadata": {},
      "outputs": [
        {
          "output_type": "stream",
          "name": "stdout",
          "text": [
            "List Overview:\n",
            "Total items: 4\n",
            "\n",
            "1. list[0]\n",
            "   - Type: list\n",
            "   - Length: 7\n",
            "   - Values: [101, 1045, 2134, 2102, 2514, 26608, 102]\n",
            "\n",
            "2. list[1]\n",
            "   - Type: list\n",
            "   - Length: 23\n",
            "   - Values: [101, 1045, 2064, 2175, 2013, 3110, 2061, 20625, 2000, 2061, 9636, 17772, 2074, 2013, 2108, 2105, 2619, 2040, 14977, 1998, 2003, 8300, 102]\n",
            "\n",
            "3. list[2]\n",
            "   - Type: list\n",
            "   - Length: 12\n",
            "   - Values: [101, 10047, 9775, 1037, 3371, 2000, 2695, 1045, 2514, 20505, 3308, 102]\n",
            "\n",
            "4. list[3]\n",
            "   - Type: list\n",
            "   - Length: 22\n",
            "   - Values: [101, 1045, 2572, 2412, 3110, 16839, 9080, 12863, 2055, 1996, 13788, 1045, 2097, 2113, 2008, 2009, 2003, 2145, 2006, 1996, 3200, 102]"
          ]
        }
      ],
      "source": [
        "rprint(\"d2[:4]['input_ids']\")\n",
        "show(d2[:4]['input_ids'])"
      ],
      "id": "18f79700"
    },
    {
      "cell_type": "markdown",
      "metadata": {},
      "source": [
        "`(풀이2)` – 성공"
      ],
      "id": "d4b664a2-65f7-4f21-84b8-61c251b4d7f4"
    },
    {
      "cell_type": "code",
      "execution_count": null,
      "metadata": {},
      "outputs": [],
      "source": [
        "# def m_transform(example):\n",
        "#     # example = {'text':xxx, 'label':yyy}\n",
        "#     result = tokenizer(example['text'], padding=True)\n",
        "#     return result \n",
        "def m_transform_batch(example_batch):\n",
        "    # example_batch = {'text':[xxx,xxxx], 'label':[yyy,yyyy]}\n",
        "    result = tokenizer(example_batch['text'], padding=True)\n",
        "    return result "
      ],
      "id": "661b3130"
    },
    {
      "cell_type": "code",
      "execution_count": null,
      "metadata": {},
      "outputs": [],
      "source": [
        "d2 = d.map(m_transform_batch,batched=True,batch_size=2)\n",
        "d2"
      ],
      "id": "8e504040"
    },
    {
      "cell_type": "code",
      "execution_count": null,
      "metadata": {},
      "outputs": [
        {
          "output_type": "stream",
          "name": "stdout",
          "text": [
            "List Overview:\n",
            "Total items: 4\n",
            "\n",
            "1. list[0]\n",
            "   - Type: list\n",
            "   - Length: 23\n",
            "   - Values: [101, 1045, 2134, 2102, 2514, 26608, 102, 0, 0, 0, 0, 0, 0, 0, 0, 0, 0, 0, 0, 0, 0, 0, 0]\n",
            "\n",
            "2. list[1]\n",
            "   - Type: list\n",
            "   - Length: 23\n",
            "   - Values: [101, 1045, 2064, 2175, 2013, 3110, 2061, 20625, 2000, 2061, 9636, 17772, 2074, 2013, 2108, 2105, 2619, 2040, 14977, 1998, 2003, 8300, 102]\n",
            "\n",
            "3. list[2]\n",
            "   - Type: list\n",
            "   - Length: 22\n",
            "   - Values: [101, 10047, 9775, 1037, 3371, 2000, 2695, 1045, 2514, 20505, 3308, 102, 0, 0, 0, 0, 0, 0, 0, 0, 0, 0]\n",
            "\n",
            "4. list[3]\n",
            "   - Type: list\n",
            "   - Length: 22\n",
            "   - Values: [101, 1045, 2572, 2412, 3110, 16839, 9080, 12863, 2055, 1996, 13788, 1045, 2097, 2113, 2008, 2009, 2003, 2145, 2006, 1996, 3200, 102]"
          ]
        }
      ],
      "source": [
        "rprint(\"d2[:4]['input_ids']\")\n",
        "show(d2[:4]['input_ids'])"
      ],
      "id": "3e605320"
    },
    {
      "cell_type": "markdown",
      "metadata": {},
      "source": [
        "`#`\n",
        "\n",
        "> **Note**\n",
        ">\n",
        "> **`.map(batch=True)`의 특징**\n",
        ">\n",
        "> -   특징1: `m_transform_batch()`은 입력으로\n",
        ">     `example_batch = {'text':[xxx,xxxx,...], 'label':[yyy,yyyy,...]}`\n",
        ">     꼴을 가정한다.\n",
        "> -   특징2: `example_batch`는 `batch_size`만큼 데이터가 있다고\n",
        ">     생각한다.\n",
        "\n",
        "## D. `d.map()` + 칼럼선택\n",
        "\n",
        "`# 예제1` – attention_mask 제외\n",
        "\n",
        "아래와 같은 Dataset이 있다고 하자."
      ],
      "id": "1b427f23-55da-451a-9836-fa2bc13c983a"
    },
    {
      "cell_type": "code",
      "execution_count": null,
      "metadata": {},
      "outputs": [],
      "source": [
        "d = emotion['train'].select(range(4))\n",
        "d"
      ],
      "id": "6d789c7e"
    },
    {
      "cell_type": "markdown",
      "metadata": {},
      "source": [
        "`d.map()`을 이용하여 아래와 같이 변환하라.\n",
        "\n",
        "| 데이터  | 변환전                           | 변환후                                                                 |\n",
        "|:-----------------------|:-----------------------|:-----------------------|\n",
        "| d\\[0\\]  | text: str<br/>label: int         | text: str<br/>label: int<br/>input_ids: \\[int,…,int\\]<br/>             |\n",
        "| d\\[:1\\] | text: \\[str\\]<br/>label: \\[int\\] | text: \\[str\\]<br/>label: \\[int\\]<br/>input_ids: \\[\\[int,…,int\\]\\]<br/> |\n",
        "\n",
        "`(풀이1)`"
      ],
      "id": "caeda430-2e7e-494f-bef9-5718852fae21"
    },
    {
      "cell_type": "code",
      "execution_count": null,
      "metadata": {},
      "outputs": [],
      "source": [
        "def m_transform(example):\n",
        "    # example = {'text':xxx, 'label':yyy}\n",
        "    result = tokenizer(example['text'])\n",
        "    return result"
      ],
      "id": "2381b140"
    },
    {
      "cell_type": "code",
      "execution_count": null,
      "metadata": {},
      "outputs": [],
      "source": [
        "d2 = d.map(m_transform)\n",
        "d2 = d2.select_columns(['text', 'label', 'input_ids'])\n",
        "d2"
      ],
      "id": "dd730120"
    },
    {
      "cell_type": "code",
      "execution_count": null,
      "metadata": {},
      "outputs": [],
      "source": [
        "d2[0]"
      ],
      "id": "8432b3f8"
    },
    {
      "cell_type": "code",
      "execution_count": null,
      "metadata": {},
      "outputs": [],
      "source": [
        "d2[:1]"
      ],
      "id": "12f07969"
    },
    {
      "cell_type": "markdown",
      "metadata": {},
      "source": [
        "`(풀이2)`"
      ],
      "id": "7d78b8d8-67e2-4d2d-bcaf-e68fe17147c7"
    },
    {
      "cell_type": "code",
      "execution_count": null,
      "metadata": {},
      "outputs": [],
      "source": [
        "def m_transform(example):\n",
        "    # example = {'text':xxx, 'label':yyy}\n",
        "    result = tokenizer(example['text'])\n",
        "    del result['attention_mask']\n",
        "    return result"
      ],
      "id": "667dc13a"
    },
    {
      "cell_type": "code",
      "execution_count": null,
      "metadata": {},
      "outputs": [],
      "source": [
        "d2 = d.map(m_transform)\n",
        "d2"
      ],
      "id": "62252da0"
    },
    {
      "cell_type": "code",
      "execution_count": null,
      "metadata": {},
      "outputs": [],
      "source": [
        "d2[0]"
      ],
      "id": "29dccd09"
    },
    {
      "cell_type": "code",
      "execution_count": null,
      "metadata": {},
      "outputs": [],
      "source": [
        "d2[:1]"
      ],
      "id": "f74f1256"
    },
    {
      "cell_type": "markdown",
      "metadata": {},
      "source": [
        "`#`\n",
        "\n",
        "`# 예제2` – text 제외\n",
        "\n",
        "아래와 같은 Dataset이 있다고 하자."
      ],
      "id": "014201e3-6659-418e-9f65-e4de57451ead"
    },
    {
      "cell_type": "code",
      "execution_count": null,
      "metadata": {},
      "outputs": [],
      "source": [
        "d = emotion['train'].select(range(4))\n",
        "d"
      ],
      "id": "4666f161"
    },
    {
      "cell_type": "markdown",
      "metadata": {},
      "source": [
        "`d.map()`을 이용하여 아래와 같이 변환하라.\n",
        "\n",
        "| 데이터  | 변환전                           | 변환후                                                                                |\n",
        "|:-----------------------|:-----------------------|:-----------------------|\n",
        "| d\\[0\\]  | text: str<br/>label: int         | label: int<br/>input_ids: \\[int,…,int\\]<br/>attention_mask: \\[int,…,int\\]             |\n",
        "| d\\[:1\\] | text: \\[str\\]<br/>label: \\[int\\] | label: \\[int\\]<br/>input_ids: \\[\\[int,…,int\\]\\]<br/>attention_mask: \\[\\[int,…,int\\]\\] |\n",
        "\n",
        "`(풀이1)`"
      ],
      "id": "e959ddf1-b1c6-442d-a045-755b8519a241"
    },
    {
      "cell_type": "code",
      "execution_count": null,
      "metadata": {},
      "outputs": [],
      "source": [
        "def m_transform(example):\n",
        "    # example = {'text': xxx, 'label':yyy}\n",
        "    result = tokenizer(example['text'])\n",
        "    del example['text']\n",
        "    return result"
      ],
      "id": "55531b6b"
    },
    {
      "cell_type": "code",
      "execution_count": null,
      "metadata": {},
      "outputs": [],
      "source": [
        "d2 = d.map(m_transform)\n",
        "d2"
      ],
      "id": "d4004c68"
    },
    {
      "cell_type": "code",
      "execution_count": null,
      "metadata": {},
      "outputs": [],
      "source": [
        "d2[0]"
      ],
      "id": "720ccdaa"
    },
    {
      "cell_type": "code",
      "execution_count": null,
      "metadata": {},
      "outputs": [],
      "source": [
        "d2[:1]"
      ],
      "id": "23ebd348"
    },
    {
      "cell_type": "markdown",
      "metadata": {},
      "source": [
        "`(풀이2)`"
      ],
      "id": "9bce670b-aa89-4b44-a1dd-626f52370822"
    },
    {
      "cell_type": "code",
      "execution_count": null,
      "metadata": {},
      "outputs": [],
      "source": [
        "def m_transform(example):\n",
        "    # example = {'text': xxx, 'label':yyy}\n",
        "    result = tokenizer(example['text'])\n",
        "    return result"
      ],
      "id": "283ba1c5"
    },
    {
      "cell_type": "code",
      "execution_count": null,
      "metadata": {},
      "outputs": [],
      "source": [
        "d2 = d.map(m_transform)\n",
        "d2 = d2.select_columns(['label', 'input_ids', 'attention_mask'])\n",
        "d2 "
      ],
      "id": "00f6ab9b"
    },
    {
      "cell_type": "code",
      "execution_count": null,
      "metadata": {},
      "outputs": [],
      "source": [
        "d2[0]"
      ],
      "id": "4855aa81"
    },
    {
      "cell_type": "code",
      "execution_count": null,
      "metadata": {},
      "outputs": [],
      "source": [
        "d2[:1]"
      ],
      "id": "e5dc2a45"
    },
    {
      "cell_type": "markdown",
      "metadata": {},
      "source": [
        "`#`\n",
        "\n",
        "> **Note**\n",
        ">\n",
        "> **`.map()`에서 컬럼을 제외하려면?**\n",
        ">\n",
        "> -   `del`을 이용한 풀이: 제외하고자 하는 column이 `example`에 있을\n",
        ">     경우, `result`에 있을 경우 미묘하게 다름.\n",
        "> -   `select`를 이용한 풀이: 제외하고자 하는 column이 `example`에\n",
        ">     있든지 `result`에 있든지 상관없음.\n",
        "\n",
        "## E. `d.map()` + 타입변환 ($\\star$)\n",
        "\n",
        "`# 예제1` – `.map()`을 이용한 타입변환은 불가능\n",
        "\n",
        "아래와 같은 Dataset이 있다고 하자."
      ],
      "id": "73912786-5cf4-4783-a050-cc3da23402eb"
    },
    {
      "cell_type": "code",
      "execution_count": null,
      "metadata": {},
      "outputs": [],
      "source": [
        "d = emotion['train'].select(range(4))\n",
        "d"
      ],
      "id": "afff5fb7"
    },
    {
      "cell_type": "markdown",
      "metadata": {},
      "source": [
        "`d.map()`을 이용하여 아래와 같이 변환하라.\n",
        "\n",
        "| 데이터  | 변환전                                   | 변환후                                                                                                                               |\n",
        "|:-----------------------|:-----------------------|:-----------------------|\n",
        "| d\\[0\\]  | text: str<br/>label: int                 | label: int<br/>input_ids: tensor(\\[int,…,int\\])<br/>attention_mask: tensor(\\[int,…,int\\])                                            |\n",
        "| d\\[:1\\] | text: \\[str\\]<br/>label: \\[int\\]         | label:\\[int\\]<br/>input_ids: tensor(\\[\\[int,…,int\\]\\])<br/>attention_mask: tensor(\\[\\[int,…,int\\]\\])                                 |\n",
        "| d\\[:2\\] | text: \\[str,str\\]<br/>label: \\[int,int\\] | label:\\[int,int\\]<br/>input_ids: tensor(\\[\\[int,…,int\\],\\[int,…,int\\]\\])<br/>attention_mask: tensor(\\[\\[int,…,int\\],\\[int,…,int\\]\\]) |\n",
        "\n",
        "`(풀이1)` – 실패"
      ],
      "id": "03ba2922-53a5-48c8-bf63-94f3165580f6"
    },
    {
      "cell_type": "code",
      "execution_count": null,
      "metadata": {},
      "outputs": [],
      "source": [
        "def m_transform(example):\n",
        "    # example = {'text': xxx, 'label':yyy}\n",
        "    result = tokenizer(example['text'])\n",
        "    del example['text']\n",
        "    result['input_ids'] = torch.tensor(result['input_ids'])\n",
        "    result['attention_mask'] = torch.tensor(result['attention_mask'])\n",
        "    return result"
      ],
      "id": "aca58a64"
    },
    {
      "cell_type": "code",
      "execution_count": null,
      "metadata": {},
      "outputs": [],
      "source": [
        "d2 = d.map(m_transform)"
      ],
      "id": "c5342054"
    },
    {
      "cell_type": "code",
      "execution_count": null,
      "metadata": {},
      "outputs": [],
      "source": [
        "d2[0]"
      ],
      "id": "bd2be005"
    },
    {
      "cell_type": "code",
      "execution_count": null,
      "metadata": {},
      "outputs": [],
      "source": [
        "d2[:1]"
      ],
      "id": "da7f8090"
    },
    {
      "cell_type": "markdown",
      "metadata": {},
      "source": [
        "`(풀이2)` – 실패"
      ],
      "id": "66f6eae3-84df-4f10-8a82-75820c8247ab"
    },
    {
      "cell_type": "code",
      "execution_count": null,
      "metadata": {},
      "outputs": [],
      "source": [
        "def m_transform(example):\n",
        "    # example = {'text': xxx, 'label':yyy}\n",
        "    result = tokenizer(example['text'],return_tensors='pt')\n",
        "    del example['text']\n",
        "    return result"
      ],
      "id": "e5c25608"
    },
    {
      "cell_type": "code",
      "execution_count": null,
      "metadata": {},
      "outputs": [],
      "source": [
        "d2 = d.map(m_transform)\n",
        "d2"
      ],
      "id": "7ef90fa4"
    },
    {
      "cell_type": "code",
      "execution_count": null,
      "metadata": {},
      "outputs": [],
      "source": [
        "d2[0]"
      ],
      "id": "1c4a673a"
    },
    {
      "cell_type": "code",
      "execution_count": null,
      "metadata": {},
      "outputs": [],
      "source": [
        "d2[:1]"
      ],
      "id": "0e424a56"
    },
    {
      "cell_type": "markdown",
      "metadata": {},
      "source": [
        "> 도데체 왜 자료형을 안바꿔주는거야??\n",
        "\n",
        "`(풀이3)` – 이것도 실패한다고?"
      ],
      "id": "317251de-6426-4ccd-8f01-28e2dbc45c29"
    },
    {
      "cell_type": "code",
      "execution_count": null,
      "metadata": {},
      "outputs": [],
      "source": [
        "lst = d.to_list()\n",
        "lst"
      ],
      "id": "88dbac21"
    },
    {
      "cell_type": "code",
      "execution_count": null,
      "metadata": {},
      "outputs": [],
      "source": [
        "lst2 = [] \n",
        "for l in lst:\n",
        "    result = tokenizer(l['text'])\n",
        "    result['input_ids'] = torch.tensor(result['input_ids'])\n",
        "    result['attention_mask'] = torch.tensor(result['attention_mask'])\n",
        "    del l['text']\n",
        "    lst2.append(l|result)\n",
        "lst2"
      ],
      "id": "10f109b2"
    },
    {
      "cell_type": "code",
      "execution_count": null,
      "metadata": {},
      "outputs": [],
      "source": [
        "d2 = datasets.Dataset.from_list(lst2)\n",
        "d2"
      ],
      "id": "55816b8a"
    },
    {
      "cell_type": "code",
      "execution_count": null,
      "metadata": {},
      "outputs": [],
      "source": [
        "d2[0]"
      ],
      "id": "90086c0b"
    },
    {
      "cell_type": "code",
      "execution_count": null,
      "metadata": {},
      "outputs": [],
      "source": [
        "d2[:1]"
      ],
      "id": "0706911f"
    },
    {
      "cell_type": "markdown",
      "metadata": {},
      "source": [
        "`(풀이4)` – 성공??"
      ],
      "id": "fc715276-5135-4ce7-9332-49da99fefa2b"
    },
    {
      "cell_type": "code",
      "execution_count": null,
      "metadata": {},
      "outputs": [],
      "source": [
        "def m_transform(example):\n",
        "    # example = {'text': xxx, 'label': yyy}\n",
        "    result = tokenizer(example['text'])\n",
        "    del example['text']\n",
        "    return result"
      ],
      "id": "c4b297aa"
    },
    {
      "cell_type": "code",
      "execution_count": null,
      "metadata": {},
      "outputs": [],
      "source": [
        "d2 = d.map(m_transform)\n",
        "d2.set_format(type=\"pt\",columns=['input_ids','attention_mask'],output_all_columns=True)"
      ],
      "id": "77f18d7b"
    },
    {
      "cell_type": "code",
      "execution_count": null,
      "metadata": {},
      "outputs": [],
      "source": [
        "d2[0]"
      ],
      "id": "7c149121"
    },
    {
      "cell_type": "code",
      "execution_count": null,
      "metadata": {},
      "outputs": [],
      "source": [
        "d2[:1]"
      ],
      "id": "d42f1ad7"
    },
    {
      "cell_type": "code",
      "execution_count": null,
      "metadata": {},
      "outputs": [],
      "source": [
        "d2[:2]['input_ids'] "
      ],
      "id": "8d237205"
    },
    {
      "cell_type": "markdown",
      "metadata": {},
      "source": [
        "`#`\n",
        "\n",
        "# 6. `.with_transform()`\n",
        "\n",
        "## A. `d.with_transform()`\n",
        "\n",
        "`# 예제1`\n",
        "\n",
        "아래와 같은 Dataset이 있다고 하자."
      ],
      "id": "1431fd6a-c6cd-472a-87b5-0bc96dd27c79"
    },
    {
      "cell_type": "code",
      "execution_count": null,
      "metadata": {},
      "outputs": [],
      "source": [
        "d = emotion['train'].select(range(4))\n",
        "d"
      ],
      "id": "047e9f61"
    },
    {
      "cell_type": "markdown",
      "metadata": {},
      "source": [
        "`d.with_transform()`을 이용하여 아래와 같이 변환하라.\n",
        "\n",
        "| 데이터  | 변환전                           | 변환후                                                                                                  |\n",
        "|:-----------------------|:-----------------------|:-----------------------|\n",
        "| d\\[0\\]  | text: str<br/>label: int         | text: str<br/>label: int<br/>input_ids: \\[int,…,int\\]<br/>attention_mask: \\[int,…,int\\]                 |\n",
        "| d\\[:1\\] | text: \\[str\\]<br/>label: \\[int\\] | text: \\[str\\]<br/>label: \\[int\\]<br/>input_ids: \\[\\[int,…,int\\]\\]<br/>attention_mask: \\[\\[int,…,int\\]\\] |\n",
        "\n",
        "`(풀이1)`"
      ],
      "id": "5ca3572b-1dc7-479b-b7f6-56c40896dd0d"
    },
    {
      "cell_type": "code",
      "execution_count": null,
      "metadata": {},
      "outputs": [],
      "source": [
        "dct = d.to_dict()\n",
        "dct"
      ],
      "id": "cded78ef"
    },
    {
      "cell_type": "code",
      "execution_count": null,
      "metadata": {},
      "outputs": [],
      "source": [
        "result = tokenizer(d['text'])\n",
        "dct2 = dct | result\n",
        "d2 = datasets.Dataset.from_dict(dct2)"
      ],
      "id": "13e55963"
    },
    {
      "cell_type": "code",
      "execution_count": null,
      "metadata": {},
      "outputs": [],
      "source": [
        "d2[0]"
      ],
      "id": "8c3550ed"
    },
    {
      "cell_type": "code",
      "execution_count": null,
      "metadata": {},
      "outputs": [],
      "source": [
        "d2[:1]"
      ],
      "id": "3fbba728"
    },
    {
      "cell_type": "markdown",
      "metadata": {},
      "source": [
        "`(풀이2)`"
      ],
      "id": "dd3f8be9-efab-463a-8e30-0e31af580131"
    },
    {
      "cell_type": "code",
      "execution_count": null,
      "metadata": {},
      "outputs": [],
      "source": [
        "def w_transform(examples): \n",
        "    #examples = {'text':[xxx,xxxx,...], 'label':[yyy,yyyy,...]}\n",
        "    result = tokenizer(examples['text'])\n",
        "    result = examples | result\n",
        "    return result"
      ],
      "id": "01befa3b"
    },
    {
      "cell_type": "code",
      "execution_count": null,
      "metadata": {},
      "outputs": [],
      "source": [
        "d2 = d.with_transform(w_transform)\n",
        "d2"
      ],
      "id": "e1b94b4f"
    },
    {
      "cell_type": "code",
      "execution_count": null,
      "metadata": {},
      "outputs": [],
      "source": [
        "d2[0]"
      ],
      "id": "45349311"
    },
    {
      "cell_type": "code",
      "execution_count": null,
      "metadata": {},
      "outputs": [],
      "source": [
        "d2[0:1]"
      ],
      "id": "b7791bc2"
    },
    {
      "cell_type": "markdown",
      "metadata": {},
      "source": [
        "`#`\n",
        "\n",
        "> **Note**\n",
        ">\n",
        "> **`.with_transform()`와 `.map()`의 차이점**\n",
        ">\n",
        "> 1.  `.map()`은 입력으로 example꼴을, `.with_transform()`은 입력으로\n",
        ">     examples를 기대한다.\n",
        "> 2.  `.map()`은 변환전과 변환후 데이터가 자동으로 합쳐진다.\n",
        ">     `.with_transform()`은 변환후 데이터만 살아남는다.\n",
        "> 3.  `.map()`은 변환이 실제로 이루어진다. `.with_transform()`은 변환이\n",
        ">     실제로 이루어지지 않다가 `d[0]`,`d[:1]` 등이 실행하는 순간\n",
        ">     이루어진다.\n",
        "\n",
        "`# 예제2`\n",
        "\n",
        "아래와 같은 Dataset이 있다고 하자."
      ],
      "id": "6d5376b2-87e0-46a7-bb77-b481d4704a0e"
    },
    {
      "cell_type": "code",
      "execution_count": null,
      "metadata": {},
      "outputs": [],
      "source": [
        "d = emotion['train'].select(range(4))\n",
        "d"
      ],
      "id": "a856d34c"
    },
    {
      "cell_type": "markdown",
      "metadata": {},
      "source": [
        "`d.with_transform()`을 이용하여 아래와 같이 변환하라.\n",
        "\n",
        "| 데이터  | 변환전                           | 변환후                                                                 |\n",
        "|:-----------------------|:-----------------------|:-----------------------|\n",
        "| d\\[0\\]  | text: str<br/>label: int         | text: str<br/>label: int<br/>input_ids: \\[int,…,int\\]<br/>             |\n",
        "| d\\[:1\\] | text: \\[str\\]<br/>label: \\[int\\] | text: \\[str\\]<br/>label: \\[int\\]<br/>input_ids: \\[\\[int,…,int\\]\\]<br/> |\n",
        "\n",
        "`(풀이)`"
      ],
      "id": "7d6fa5a4-1acd-47b8-a1a3-eb3f3285ea02"
    },
    {
      "cell_type": "code",
      "execution_count": null,
      "metadata": {},
      "outputs": [],
      "source": [
        "def w_transform(examples):\n",
        "    # examples = {'text':[xxx,xxxx,....], 'label':[yyy,yyyy,...]}\n",
        "    result = tokenizer(examples['text'])\n",
        "    del result['attention_mask']\n",
        "    result['text'] = examples['text']\n",
        "    result['label'] = examples['label']\n",
        "    return result"
      ],
      "id": "93a960db"
    },
    {
      "cell_type": "code",
      "execution_count": null,
      "metadata": {},
      "outputs": [],
      "source": [
        "d2 = d.with_transform(w_transform)\n",
        "d2"
      ],
      "id": "eddb0f01"
    },
    {
      "cell_type": "code",
      "execution_count": null,
      "metadata": {},
      "outputs": [],
      "source": [
        "d2[0]"
      ],
      "id": "f33a8878"
    },
    {
      "cell_type": "code",
      "execution_count": null,
      "metadata": {},
      "outputs": [],
      "source": [
        "d2[:1]"
      ],
      "id": "3e7575a3"
    },
    {
      "cell_type": "markdown",
      "metadata": {},
      "source": [
        "`#`\n",
        "\n",
        "`# 예제3`\n",
        "\n",
        "아래와 같은 Dataset이 있다고 하자."
      ],
      "id": "4020a620-e4e6-4001-8bc8-f525ed6248d2"
    },
    {
      "cell_type": "code",
      "execution_count": null,
      "metadata": {},
      "outputs": [],
      "source": [
        "d = emotion['train'].select(range(4))\n",
        "d"
      ],
      "id": "c8bac87e"
    },
    {
      "cell_type": "markdown",
      "metadata": {},
      "source": [
        "`d.with_transform()`을 이용하여 아래와 같이 변환하라.\n",
        "\n",
        "| 데이터  | 변환전                           | 변환후                                                                                |\n",
        "|:-----------------------|:-----------------------|:-----------------------|\n",
        "| d\\[0\\]  | text: str<br/>label: int         | label: int<br/>input_ids: \\[int,…,int\\]<br/>attention_mask: \\[int,…,int\\]             |\n",
        "| d\\[:1\\] | text: \\[str\\]<br/>label: \\[int\\] | label: \\[int\\]<br/>input_ids: \\[\\[int,…,int\\]\\]<br/>attention_mask: \\[\\[int,…,int\\]\\] |\n",
        "\n",
        "`(풀이)`"
      ],
      "id": "409f80c2-754b-4972-9e6a-47e62122105b"
    },
    {
      "cell_type": "code",
      "execution_count": null,
      "metadata": {},
      "outputs": [],
      "source": [
        "def w_transform(examples):\n",
        "    # examples = {'text':[xxx,xxxx,....], 'label':[yyy,yyyy,...]}\n",
        "    result = tokenizer(examples['text'])\n",
        "    result['label'] = examples['label']\n",
        "    return result"
      ],
      "id": "fa146e87"
    },
    {
      "cell_type": "code",
      "execution_count": null,
      "metadata": {},
      "outputs": [],
      "source": [
        "d2 = d.with_transform(w_transform)\n",
        "d2"
      ],
      "id": "87ce4efd"
    },
    {
      "cell_type": "code",
      "execution_count": null,
      "metadata": {},
      "outputs": [],
      "source": [
        "d2[0]"
      ],
      "id": "ad984071"
    },
    {
      "cell_type": "code",
      "execution_count": null,
      "metadata": {},
      "outputs": [],
      "source": [
        "d2[:1]"
      ],
      "id": "91764c17"
    },
    {
      "cell_type": "markdown",
      "metadata": {},
      "source": [
        "`#`\n",
        "\n",
        "`# 예제4`\n",
        "\n",
        "아래와 같은 Dataset이 있다고 하자."
      ],
      "id": "a6d7c454-3dfe-465e-a1a0-73430d39bbc5"
    },
    {
      "cell_type": "code",
      "execution_count": null,
      "metadata": {},
      "outputs": [],
      "source": [
        "d = emotion['train'].select(range(4))\n",
        "d"
      ],
      "id": "943a4eb2"
    },
    {
      "cell_type": "markdown",
      "metadata": {},
      "source": [
        "`d.with_transform()`을 이용하여 아래와 같이 변환하라.\n",
        "\n",
        "| 데이터  | 변환전                           | 변환후                                                                                                        |\n",
        "|:-----------------------|:-----------------------|:-----------------------|\n",
        "| d\\[0\\]  | text: str<br/>label: int         | label: tensor(int)<br/>input_ids: tensor(\\[int,…,int\\])<br/>attention_mask: tensor(\\[int,…,int\\])             |\n",
        "| d\\[:1\\] | text: \\[str\\]<br/>label: \\[int\\] | label: tensor(\\[int\\])<br/>input_ids: tensor(\\[\\[int,…,int\\]\\])<br/>attention_mask: tensor(\\[\\[int,…,int\\]\\]) |\n",
        "\n",
        "`(풀이)` – 실패"
      ],
      "id": "9024bee8-6ef0-4b3c-b0fe-50144dd92e22"
    },
    {
      "cell_type": "code",
      "execution_count": null,
      "metadata": {},
      "outputs": [],
      "source": [
        "def w_transform(examples):\n",
        "    # examples = {'text':[xxx,xxxx,...],'label':[yyy,yyyy,...]}\n",
        "    result = tokenizer(examples['text'])\n",
        "    result['label'] = torch.tensor(examples['label'])\n",
        "    result['input_ids'] = torch.tensor(result['input_ids'])\n",
        "    result['attention_mask'] = torch.tensor(result['attention_mask'])\n",
        "    return result "
      ],
      "id": "a3490fac"
    },
    {
      "cell_type": "code",
      "execution_count": null,
      "metadata": {},
      "outputs": [],
      "source": [
        "d2 = d.with_transform(w_transform)\n",
        "d2"
      ],
      "id": "5961255e"
    },
    {
      "cell_type": "code",
      "execution_count": null,
      "metadata": {},
      "outputs": [],
      "source": [
        "d2[0]"
      ],
      "id": "dc425a3c"
    },
    {
      "cell_type": "code",
      "execution_count": null,
      "metadata": {},
      "outputs": [],
      "source": [
        "d2[:1]"
      ],
      "id": "3ebdcbda"
    },
    {
      "cell_type": "code",
      "execution_count": null,
      "metadata": {},
      "outputs": [],
      "source": [
        "d2[:2]"
      ],
      "id": "ad1a8ce1"
    },
    {
      "cell_type": "markdown",
      "metadata": {},
      "source": [
        "*에러나는 이유*"
      ],
      "id": "751387ff-2289-4429-9752-47009ef64d93"
    },
    {
      "cell_type": "code",
      "execution_count": null,
      "metadata": {},
      "outputs": [],
      "source": [
        "examples = d[:2]\n",
        "examples"
      ],
      "id": "6b4ded93"
    },
    {
      "cell_type": "code",
      "execution_count": null,
      "metadata": {},
      "outputs": [],
      "source": [
        "result = tokenizer(examples['text'])\n",
        "result"
      ],
      "id": "aeeea232"
    },
    {
      "cell_type": "code",
      "execution_count": null,
      "metadata": {},
      "outputs": [],
      "source": [
        "torch.tensor(examples['label'])"
      ],
      "id": "4710582d"
    },
    {
      "cell_type": "code",
      "execution_count": null,
      "metadata": {},
      "outputs": [],
      "source": [
        "result['label'] = torch.tensor(examples['label'])\n",
        "result"
      ],
      "id": "f24581d1"
    },
    {
      "cell_type": "code",
      "execution_count": null,
      "metadata": {},
      "outputs": [],
      "source": [
        "torch.tensor(result['input_ids'])"
      ],
      "id": "d01251c5"
    },
    {
      "cell_type": "markdown",
      "metadata": {},
      "source": [
        "-   패딩….\n",
        "\n",
        "`(풀이2)` – 성공"
      ],
      "id": "44f6bdba-9439-480f-b770-6bfa7951891d"
    },
    {
      "cell_type": "code",
      "execution_count": null,
      "metadata": {},
      "outputs": [],
      "source": [
        "def w_transform(examples):\n",
        "    # examples = {'text':[xxx,xxxx,...],'label':[yyy,yyyy,...]}\n",
        "    result = tokenizer(examples['text'],padding=True)\n",
        "    result['label'] = torch.tensor(examples['label'])\n",
        "    result['input_ids'] = torch.tensor(result['input_ids'])\n",
        "    result['attention_mask'] = torch.tensor(result['attention_mask'])\n",
        "    return result "
      ],
      "id": "12e7c0f9"
    },
    {
      "cell_type": "code",
      "execution_count": null,
      "metadata": {},
      "outputs": [],
      "source": [
        "d2 = d.with_transform(w_transform)\n",
        "d2"
      ],
      "id": "f0ac6775"
    },
    {
      "cell_type": "code",
      "execution_count": null,
      "metadata": {},
      "outputs": [],
      "source": [
        "d2[0]"
      ],
      "id": "31fde507"
    },
    {
      "cell_type": "code",
      "execution_count": null,
      "metadata": {},
      "outputs": [],
      "source": [
        "d2[:1]"
      ],
      "id": "1281b499"
    },
    {
      "cell_type": "code",
      "execution_count": null,
      "metadata": {},
      "outputs": [],
      "source": [
        "d2[:2]"
      ],
      "id": "efd42bab"
    },
    {
      "cell_type": "markdown",
      "metadata": {},
      "source": [
        "`(풀이3)` – 이것도 성공.."
      ],
      "id": "fa4e1068-a250-43f5-b6e9-a133edef16a0"
    },
    {
      "cell_type": "code",
      "execution_count": null,
      "metadata": {},
      "outputs": [],
      "source": [
        "def w_transform(examples):\n",
        "    # examples = {'text':[xxx,xxxx,...],'label':[yyy,yyyy,...]}\n",
        "    result = tokenizer(examples['text'],padding=True,return_tensors=\"pt\")\n",
        "    result['label'] = torch.tensor(examples['label'])\n",
        "    return result "
      ],
      "id": "14ff9ea7"
    },
    {
      "cell_type": "code",
      "execution_count": null,
      "metadata": {},
      "outputs": [],
      "source": [
        "d2 = d.with_transform(w_transform)\n",
        "d2"
      ],
      "id": "49f5bdc9"
    },
    {
      "cell_type": "code",
      "execution_count": null,
      "metadata": {},
      "outputs": [],
      "source": [
        "d2[0]"
      ],
      "id": "4b0c2b8b"
    },
    {
      "cell_type": "code",
      "execution_count": null,
      "metadata": {},
      "outputs": [],
      "source": [
        "d2[:1]"
      ],
      "id": "12d2cebd"
    },
    {
      "cell_type": "code",
      "execution_count": null,
      "metadata": {},
      "outputs": [],
      "source": [
        "d2[:2]"
      ],
      "id": "3aca876c"
    },
    {
      "cell_type": "markdown",
      "metadata": {},
      "source": [
        "`#`\n",
        "\n",
        "## B. `dd.with_transform()`\n",
        "\n",
        "`# 예제1`\n",
        "\n",
        "아래와 같은 DatasetDict가 있다고 하자."
      ],
      "id": "0bb7ac77-4422-4804-8e76-3da1e0178455"
    },
    {
      "cell_type": "code",
      "execution_count": null,
      "metadata": {},
      "outputs": [],
      "source": [
        "dd = datasets.DatasetDict({\n",
        "    'train':emotion['train'].select(range(4)),\n",
        "    'test':emotion['test'].select(range(4)),\n",
        "})\n",
        "dd"
      ],
      "id": "f070d0ab"
    },
    {
      "cell_type": "markdown",
      "metadata": {},
      "source": [
        "`dd.map()`을 이용하여 아래와 같이 변환하라.\n",
        "\n",
        "| tr/test | 데이터  | 변환전                           | 변환후                                                                                                  |\n",
        "|:-----------------|:-----------------|:-----------------|:-----------------|\n",
        "| train   | d\\[0\\]  | text: str<br/>label: int         | text: str<br/>label: int<br/>input_ids: \\[int,…,int\\]<br/>attention_mask: \\[int,…,int\\]                 |\n",
        "| train   | d\\[:1\\] | text: \\[str\\]<br/>label: \\[int\\] | text: \\[str\\]<br/>label: \\[int\\]<br/>input_ids: \\[\\[int,…,int\\]\\]<br/>attention_mask: \\[\\[int,…,int\\]\\] |\n",
        "| test    | d\\[0\\]  | text: str<br/>label: int         | text: str<br/>label: int<br/>input_ids: \\[int,…,int\\]<br/>attention_mask: \\[int,…,int\\]                 |\n",
        "| test    | d\\[:1\\] | text: \\[str\\]<br/>label: \\[int\\] | text: \\[str\\]<br/>label: \\[int\\]<br/>input_ids: \\[\\[int,…,int\\]\\]<br/>attention_mask: \\[\\[int,…,int\\]\\] |\n",
        "\n",
        "`(풀이)`"
      ],
      "id": "9e53f712-6d34-490f-914e-d6ccc2611c9a"
    },
    {
      "cell_type": "code",
      "execution_count": null,
      "metadata": {},
      "outputs": [],
      "source": [
        "def w_transform(examples):\n",
        "    # examples = {'text':[xxx,xxxx,...], 'label':[yyy,yyyy,....]}\n",
        "    result = tokenizer(examples['text'])\n",
        "    result = examples | result \n",
        "    return result "
      ],
      "id": "35c990c0"
    },
    {
      "cell_type": "code",
      "execution_count": null,
      "metadata": {},
      "outputs": [],
      "source": [
        "dd2 = dd.with_transform(w_transform)\n",
        "dd2"
      ],
      "id": "05d9d1e8"
    },
    {
      "cell_type": "code",
      "execution_count": null,
      "metadata": {},
      "outputs": [],
      "source": [
        "dd2['train'][0]"
      ],
      "id": "91d0ae36"
    },
    {
      "cell_type": "code",
      "execution_count": null,
      "metadata": {},
      "outputs": [],
      "source": [
        "dd2['train'][:1]"
      ],
      "id": "bec87a09"
    },
    {
      "cell_type": "code",
      "execution_count": null,
      "metadata": {},
      "outputs": [],
      "source": [
        "dd2['test'][0]"
      ],
      "id": "10f12f25"
    },
    {
      "cell_type": "code",
      "execution_count": null,
      "metadata": {},
      "outputs": [],
      "source": [
        "dd2['test'][:1]"
      ],
      "id": "ce20e219"
    },
    {
      "cell_type": "markdown",
      "metadata": {},
      "source": [
        "`#`\n",
        "\n",
        "## C. `d.reset_format()`\n",
        "\n",
        "`# 예시1`"
      ],
      "id": "2f4be7e0-ca50-428e-a81d-09619ec880d3"
    },
    {
      "cell_type": "code",
      "execution_count": null,
      "metadata": {},
      "outputs": [],
      "source": [
        "d = emotion['train'].select(range(4))\n",
        "d"
      ],
      "id": "750a9285"
    },
    {
      "cell_type": "code",
      "execution_count": null,
      "metadata": {},
      "outputs": [],
      "source": [
        "def w_transform(examples):\n",
        "    # examples = {'text':[xxx,xxxx,...], 'label':[yyy,yyyy,...]}\n",
        "    result = tokenizer(examples['text'])\n",
        "    return result "
      ],
      "id": "23af280d"
    },
    {
      "cell_type": "code",
      "execution_count": null,
      "metadata": {},
      "outputs": [],
      "source": [
        "d2 = d.with_transform(w_transform)\n",
        "d2"
      ],
      "id": "fd141777"
    },
    {
      "cell_type": "code",
      "execution_count": null,
      "metadata": {},
      "outputs": [],
      "source": [
        "d2[0]"
      ],
      "id": "810e59e6"
    },
    {
      "cell_type": "code",
      "execution_count": null,
      "metadata": {},
      "outputs": [],
      "source": [
        "d2[:1]"
      ],
      "id": "1941d033"
    },
    {
      "cell_type": "code",
      "execution_count": null,
      "metadata": {},
      "outputs": [],
      "source": [
        "d2.reset_format()"
      ],
      "id": "316085ff"
    },
    {
      "cell_type": "code",
      "execution_count": null,
      "metadata": {},
      "outputs": [],
      "source": [
        "d2[0]"
      ],
      "id": "5516c634"
    },
    {
      "cell_type": "code",
      "execution_count": null,
      "metadata": {},
      "outputs": [],
      "source": [
        "d2[0:1]"
      ],
      "id": "0670667b"
    },
    {
      "cell_type": "markdown",
      "metadata": {},
      "source": [
        "`#`\n",
        "\n",
        "`# 예시2`"
      ],
      "id": "a070d29f-76ad-44d3-bdc9-c325ae1985f4"
    },
    {
      "cell_type": "code",
      "execution_count": null,
      "metadata": {},
      "outputs": [],
      "source": [
        "d = emotion['train'].select(range(4))\n",
        "d"
      ],
      "id": "7ebab77e"
    },
    {
      "cell_type": "code",
      "execution_count": null,
      "metadata": {},
      "outputs": [],
      "source": [
        "def w_transform(examples):\n",
        "    # examples = {'text':[xxx,xxxx,...], 'label':[yyy,yyyy,...]}\n",
        "    result = tokenizer(examples['text'],padding=True)\n",
        "    result['label'] = examples['label']\n",
        "    return result "
      ],
      "id": "f0c58ee5"
    },
    {
      "cell_type": "code",
      "execution_count": null,
      "metadata": {},
      "outputs": [],
      "source": [
        "d2 = d.with_transform(w_transform)\n",
        "d2"
      ],
      "id": "f36bd89c"
    },
    {
      "cell_type": "code",
      "execution_count": null,
      "metadata": {},
      "outputs": [],
      "source": [
        "d2[0]"
      ],
      "id": "2eefa6c2"
    },
    {
      "cell_type": "code",
      "execution_count": null,
      "metadata": {},
      "outputs": [],
      "source": [
        "d2[:1]"
      ],
      "id": "f9103728"
    },
    {
      "cell_type": "code",
      "execution_count": null,
      "metadata": {},
      "outputs": [],
      "source": [
        "d2[:2]"
      ],
      "id": "539cfd16"
    },
    {
      "cell_type": "code",
      "execution_count": null,
      "metadata": {},
      "outputs": [],
      "source": [
        "d2.set_format(type=\"pt\")"
      ],
      "id": "609ed0ee"
    },
    {
      "cell_type": "code",
      "execution_count": null,
      "metadata": {},
      "outputs": [],
      "source": [
        "d2[0]"
      ],
      "id": "320f6f3f"
    },
    {
      "cell_type": "code",
      "execution_count": null,
      "metadata": {},
      "outputs": [],
      "source": [
        "d2[:1]"
      ],
      "id": "a801961b"
    },
    {
      "cell_type": "code",
      "execution_count": null,
      "metadata": {},
      "outputs": [],
      "source": [
        "d2[:2]"
      ],
      "id": "a3b2baf5"
    },
    {
      "cell_type": "markdown",
      "metadata": {},
      "source": [
        "`#`\n",
        "\n",
        "> **Note**\n",
        ">\n",
        "> `.with_transform` 은 `.set_format` 궁합이 안맞음\n",
        "\n",
        "# 7. 미묘한 차이\n",
        "\n",
        "`# 예시1`"
      ],
      "id": "9bd867ad-beaa-4329-aca0-1b62de25087f"
    },
    {
      "cell_type": "code",
      "execution_count": null,
      "metadata": {},
      "outputs": [],
      "source": [
        "d = emotion['train'].select(range(4))\n",
        "d"
      ],
      "id": "7646a092"
    },
    {
      "cell_type": "code",
      "execution_count": null,
      "metadata": {},
      "outputs": [],
      "source": [
        "def m_transform(example):\n",
        "    # example = {'text':xxx, 'label':yyy}\n",
        "    result = tokenizer(example['text'])\n",
        "    return result "
      ],
      "id": "45cd1d3b"
    },
    {
      "cell_type": "code",
      "execution_count": null,
      "metadata": {},
      "outputs": [],
      "source": [
        "def w_transform(examples):\n",
        "    # examples = {'text':[xxx,xxxx,...] 'label':[yyy,yyyy,...]}\n",
        "    result = tokenizer(examples['text'])\n",
        "    result = examples | result\n",
        "    return result "
      ],
      "id": "b8ffda8b"
    },
    {
      "cell_type": "code",
      "execution_count": null,
      "metadata": {},
      "outputs": [],
      "source": [
        "d2 = d.map(m_transform)\n",
        "d2.set_format(type='pt')\n",
        "d2[:1]"
      ],
      "id": "2d74f9a9"
    },
    {
      "cell_type": "code",
      "execution_count": null,
      "metadata": {},
      "outputs": [],
      "source": [
        "d3 = d.with_transform(w_transform)\n",
        "d3.set_format(type='pt')\n",
        "d3[:1]"
      ],
      "id": "35701795"
    },
    {
      "cell_type": "markdown",
      "metadata": {},
      "source": [
        "`#`\n",
        "\n",
        "`# 예시2`"
      ],
      "id": "2209a639-07fb-4df8-ac32-3fc3a0fcedbd"
    },
    {
      "cell_type": "code",
      "execution_count": null,
      "metadata": {},
      "outputs": [],
      "source": [
        "d = emotion['train'].select(range(4))\n",
        "d"
      ],
      "id": "3bd1c454"
    },
    {
      "cell_type": "code",
      "execution_count": null,
      "metadata": {},
      "outputs": [],
      "source": [
        "def m_transform(example):\n",
        "    # example = {'text':xxx, 'label':yyy}\n",
        "    result = tokenizer(example['text'])\n",
        "    return result "
      ],
      "id": "f9cc3d90"
    },
    {
      "cell_type": "code",
      "execution_count": null,
      "metadata": {},
      "outputs": [],
      "source": [
        "def w_transform(examples):\n",
        "    # examples = {'text':[xxx,xxxx,...] 'label':[yyy,yyyy,...]}\n",
        "    result = tokenizer(examples['text'],return_tensors=\"pt\")\n",
        "    result = examples | result\n",
        "    result['label'] = torch.tensor(result['label'])\n",
        "    return result "
      ],
      "id": "4ac7621a"
    },
    {
      "cell_type": "markdown",
      "metadata": {},
      "source": [
        "*여기까지는 두 코드 같아보이는데*"
      ],
      "id": "f28f8f38-f1b9-493e-b272-b3b38acbee02"
    },
    {
      "cell_type": "code",
      "execution_count": null,
      "metadata": {},
      "outputs": [],
      "source": [
        "d2 = d.map(m_transform)\n",
        "d2.set_format(type='pt')\n",
        "d2[:1]"
      ],
      "id": "ab6a33e2"
    },
    {
      "cell_type": "code",
      "execution_count": null,
      "metadata": {},
      "outputs": [],
      "source": [
        "d3 = d.with_transform(w_transform)\n",
        "d3[:1]"
      ],
      "id": "3caf82c3"
    },
    {
      "cell_type": "markdown",
      "metadata": {},
      "source": [
        "*아래는 미묘하게 다름*"
      ],
      "id": "3221eace-fce1-44de-94e8-1c50a41d2b5c"
    },
    {
      "cell_type": "code",
      "execution_count": null,
      "metadata": {},
      "outputs": [],
      "source": [
        "d2 = d.map(m_transform)\n",
        "d2.set_format(type='pt')\n",
        "d2[:2]"
      ],
      "id": "fd2a3175"
    },
    {
      "cell_type": "code",
      "execution_count": null,
      "metadata": {},
      "outputs": [],
      "source": [
        "d3 = d.with_transform(w_transform)\n",
        "d3[:2]"
      ],
      "id": "bb059a3e"
    },
    {
      "cell_type": "markdown",
      "metadata": {},
      "source": [
        "`#`"
      ],
      "id": "a3317a1d-da05-4898-9c80-49e1f8fd1fd7"
    }
  ],
  "nbformat": 4,
  "nbformat_minor": 5,
  "metadata": {
    "kernelspec": {
      "name": "python3",
      "display_name": "Python 3 (ipykernel)",
      "language": "python"
    },
    "language_info": {
      "name": "python",
      "codemirror_mode": {
        "name": "ipython",
        "version": "3"
      },
      "file_extension": ".py",
      "mimetype": "text/x-python",
      "nbconvert_exporter": "python",
      "pygments_lexer": "ipython3",
      "version": "3.12.2"
    }
  }
}