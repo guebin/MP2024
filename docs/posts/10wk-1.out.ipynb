{
  "cells": [
    {
      "cell_type": "markdown",
      "metadata": {},
      "source": [
        "# 10wk-1: `Datasets` 클래스\n",
        "\n",
        "최규빈  \n",
        "2024-11-12\n",
        "\n",
        "<a href=\"https://colab.research.google.com/github/guebin/MP2024/blob/main/posts/10wk-1.ipynb\"><img src=\"https://colab.research.google.com/assets/colab-badge.svg\" style=\"text-align: left\"></a>\n",
        "\n",
        "# 1. 강의영상\n",
        "\n",
        "<https://youtu.be/playlist?list=PLQqh36zP38-ykYDGqzZhVu08gNRipqhaf&si=fb8GRsvDxQY70mGh>\n",
        "\n",
        "# 2. Imports"
      ],
      "id": "a121af0c-8239-4884-bad5-87a388f67b9a"
    },
    {
      "cell_type": "code",
      "execution_count": 1,
      "metadata": {},
      "outputs": [],
      "source": [
        "#!pip uninstall mp2024pkg -y\n",
        "#!pip install git+https://github.com/guebin/mp2024pkg.git"
      ],
      "id": "47d347ad-b4e1-4db2-a109-bcdbed72065b"
    },
    {
      "cell_type": "code",
      "execution_count": 2,
      "metadata": {},
      "outputs": [
        {
          "output_type": "stream",
          "name": "stderr",
          "text": [
            "/home/cgb3/anaconda3/envs/hf/lib/python3.12/site-packages/tqdm/auto.py:21: TqdmWarning: IProgress not found. Please update jupyter and ipywidgets. See https://ipywidgets.readthedocs.io/en/stable/user_install.html\n",
            "  from .autonotebook import tqdm as notebook_tqdm"
          ]
        }
      ],
      "source": [
        "import pandas as pd\n",
        "import numpy as np\n",
        "import datasets \n",
        "import transformers\n",
        "import torch\n",
        "from mp2024pkg import signature, show\n",
        "from rich import print as rprint"
      ],
      "id": "f7ada738"
    },
    {
      "cell_type": "code",
      "execution_count": 119,
      "metadata": {},
      "outputs": [],
      "source": [
        "emotion = datasets.load_dataset('emotion')\n",
        "tokenizer = transformers.AutoTokenizer.from_pretrained(\"distilbert/distilbert-base-uncased\")"
      ],
      "id": "ee6eed48"
    },
    {
      "cell_type": "markdown",
      "metadata": {},
      "source": [
        "# 3. Dataset 형식이해\n",
        "\n",
        "`-` `emotion` 데이터셋 일부를 `d`로 선언"
      ],
      "id": "6d27a8c7-af69-4676-91d0-bf62414bcc41"
    },
    {
      "cell_type": "code",
      "execution_count": null,
      "metadata": {},
      "outputs": [],
      "source": [
        "d = emotion['train'].select(range(4))\n",
        "d"
      ],
      "id": "54703cf1"
    },
    {
      "cell_type": "markdown",
      "metadata": {},
      "source": [
        "`-` `d` 는 아래와 같이 length-$n$ 인 list로 이해하는것이 편리하다.\n",
        "\n",
        "-   dataset = \\[example_1, example_2, example_3 , example_4\\]\n",
        "-   example_i = {‘text’: xxx, ‘label’: yyy}"
      ],
      "id": "70e24ad5-2642-4d80-8c3b-4a012bf53870"
    },
    {
      "cell_type": "code",
      "execution_count": 17,
      "metadata": {},
      "outputs": [],
      "source": [
        "d"
      ],
      "id": "ed6ab62e"
    },
    {
      "cell_type": "code",
      "execution_count": 18,
      "metadata": {},
      "outputs": [],
      "source": [
        "[d[0],d[1],d[2],d[3]]"
      ],
      "id": "600293bd"
    },
    {
      "cell_type": "code",
      "execution_count": 38,
      "metadata": {},
      "outputs": [],
      "source": [
        "d.to_list()"
      ],
      "id": "ccfd6146"
    },
    {
      "cell_type": "markdown",
      "metadata": {},
      "source": [
        "`-` 그런데 `Dataset`은 특이하게도 아래의 문법이 동작했었다."
      ],
      "id": "4e5f2b38-b37d-4dd0-8cde-6040fac1a838"
    },
    {
      "cell_type": "code",
      "execution_count": 28,
      "metadata": {},
      "outputs": [],
      "source": [
        "d['text']"
      ],
      "id": "402c49be"
    },
    {
      "cell_type": "code",
      "execution_count": 29,
      "metadata": {},
      "outputs": [],
      "source": [
        "d['label']"
      ],
      "id": "89de636e"
    },
    {
      "cell_type": "markdown",
      "metadata": {},
      "source": [
        "`-` 위의 결과를 관찰하면 `Dataset` 는 마치 dictionary 처럼 느껴진다.\n",
        "실제로 경우에 따라서 `Dataset`을 dictionary 처럼 생각해도 된다. 이때\n",
        "`Dataset`은 아래와 같은 구조로 이해하는게 편리하다.\n",
        "\n",
        "-   d = examples = {‘text’:\\[xxx,xxxx,xxxxx,xxxxxx\\],\n",
        "    ‘label’:\\[yyy,yyyy,yyyyy,yyyyyy\\]}"
      ],
      "id": "4f7ddef7-5fe5-451d-ac14-7276ffcddd33"
    },
    {
      "cell_type": "code",
      "execution_count": null,
      "metadata": {},
      "outputs": [],
      "source": [
        "dct = {'text': d['text'], 'label':d['label']}\n",
        "dct"
      ],
      "id": "b4a66d69"
    },
    {
      "cell_type": "code",
      "execution_count": null,
      "metadata": {},
      "outputs": [],
      "source": [
        "d.to_dict()"
      ],
      "id": "4fadcce5"
    },
    {
      "cell_type": "markdown",
      "metadata": {},
      "source": [
        "`-` 복습: 딕셔너리를 데이터프레임과 비슷하게 생각할 수 있었음."
      ],
      "id": "6e79b4b7-8907-41b3-974b-929ab0f34143"
    },
    {
      "cell_type": "code",
      "execution_count": 39,
      "metadata": {},
      "outputs": [],
      "source": [
        "pd.DataFrame({'a':[1,2,3], 'b':[2,3,4]})"
      ],
      "id": "ca83e128"
    },
    {
      "cell_type": "markdown",
      "metadata": {},
      "source": [
        "`-` 이 개념을 확장하면 `d`역시 데이터프레임과 비슷하게 이해할 수도 있다."
      ],
      "id": "a625f275-17b0-45dd-a6d1-29227f796512"
    },
    {
      "cell_type": "code",
      "execution_count": 41,
      "metadata": {},
      "outputs": [],
      "source": [
        "pd.DataFrame(d.to_dict())"
      ],
      "id": "d9236e33"
    },
    {
      "cell_type": "code",
      "execution_count": 42,
      "metadata": {},
      "outputs": [],
      "source": [
        "d.to_pandas()"
      ],
      "id": "f63ce13d"
    },
    {
      "cell_type": "markdown",
      "metadata": {},
      "source": [
        "# 4. 쉬운 함수들\n",
        "\n",
        "## A. `.select()`\n",
        "\n",
        "`# 예시1`"
      ],
      "id": "6e51afd2-a8a9-4941-8cbb-1986aabdd139"
    },
    {
      "cell_type": "code",
      "execution_count": 59,
      "metadata": {},
      "outputs": [],
      "source": [
        "#d = datasets.Dataset.from_list([emotion['train'][0],emotion['train'][1],emotion['train'][2],emotion['train'][3]])\n",
        "d = emotion['train'].select(range(4))\n",
        "d"
      ],
      "id": "a9c7318d"
    },
    {
      "cell_type": "markdown",
      "metadata": {},
      "source": [
        "`#`\n",
        "\n",
        "## B. `.shuffle()`\n",
        "\n",
        "`# 예시1`"
      ],
      "id": "f05d97bd-8e9d-4ef1-b28f-964a28a1a00f"
    },
    {
      "cell_type": "code",
      "execution_count": 63,
      "metadata": {},
      "outputs": [],
      "source": [
        "d = emotion['train'].select(range(4))\n",
        "d"
      ],
      "id": "ff4c2352"
    },
    {
      "cell_type": "code",
      "execution_count": 76,
      "metadata": {},
      "outputs": [
        {
          "output_type": "stream",
          "name": "stdout",
          "text": [
            "List Overview:\n",
            "Total items: 4\n",
            "\n",
            "1. list[0]\n",
            "   - Type: dict\n",
            "   - Length: 2\n",
            "   - Values: {'text': 'i am ever feeling nostalgic about the fireplace i will know that it is still on the property', 'label': 2}\n",
            "\n",
            "2. list[1]\n",
            "   - Type: dict\n",
            "   - Length: 2\n",
            "   - Values: {'text': 'im grabbing a minute to post i feel greedy wrong', 'label': 3}\n",
            "\n",
            "3. list[2]\n",
            "   - Type: dict\n",
            "   - Length: 2\n",
            "   - Values: {'text': 'i didnt feel humiliated', 'label': 0}\n",
            "\n",
            "4. list[3]\n",
            "   - Type: dict\n",
            "   - Length: 2\n",
            "   - Values: {'text': 'i can go from feeling so hopeless to so damned hopeful just from being around someone who cares and is awake', 'label': 0}"
          ]
        }
      ],
      "source": [
        "show(d.shuffle())"
      ],
      "id": "e6481cdb"
    },
    {
      "cell_type": "markdown",
      "metadata": {},
      "source": [
        "`#`\n",
        "\n",
        "`# 예시2`"
      ],
      "id": "41ebcde8-8be0-48d2-a1fc-176d6ccb7702"
    },
    {
      "cell_type": "code",
      "execution_count": null,
      "metadata": {},
      "outputs": [],
      "source": [
        "# emotion['train']에서 처음 4개의 observation/example 을 뽑는 코드\n",
        "d = emotion['train'].select(range(4))\n",
        "d "
      ],
      "id": "9f1f152a"
    },
    {
      "cell_type": "code",
      "execution_count": 78,
      "metadata": {},
      "outputs": [],
      "source": [
        "# emotion['train']에서 랜덤으로 4개의 observation/example 을 뽑는 코드\n",
        "d = emotion['train'].shuffle().select(range(4))\n",
        "d "
      ],
      "id": "e2546c0d"
    },
    {
      "cell_type": "markdown",
      "metadata": {},
      "source": [
        "`#`\n",
        "\n",
        "## C. `.select_columns()`\n",
        "\n",
        "`# 예시1`"
      ],
      "id": "69b924c8-157d-4052-ad31-b852a9e0adbf"
    },
    {
      "cell_type": "code",
      "execution_count": 82,
      "metadata": {},
      "outputs": [],
      "source": [
        "d = emotion['train'].select(range(4))\n",
        "d"
      ],
      "id": "1d5059b5"
    },
    {
      "cell_type": "code",
      "execution_count": 84,
      "metadata": {},
      "outputs": [],
      "source": [
        "d.select_columns(['text'])"
      ],
      "id": "fe36b7c4"
    },
    {
      "cell_type": "code",
      "execution_count": 85,
      "metadata": {},
      "outputs": [],
      "source": [
        "d.select_columns(['label'])"
      ],
      "id": "17c0f85b"
    },
    {
      "cell_type": "code",
      "execution_count": 86,
      "metadata": {},
      "outputs": [],
      "source": [
        "d.select_columns(['text','label'])"
      ],
      "id": "04fac007"
    },
    {
      "cell_type": "markdown",
      "metadata": {},
      "source": [
        "`#`\n",
        "\n",
        "## D. `.set_format()`\n",
        "\n",
        "`# 예시1`"
      ],
      "id": "18a49f4e-ae1c-4279-be61-bc9706e372fd"
    },
    {
      "cell_type": "code",
      "execution_count": 93,
      "metadata": {},
      "outputs": [],
      "source": [
        "d = emotion['train'].select(range(4))\n",
        "d"
      ],
      "id": "56e33c36"
    },
    {
      "cell_type": "code",
      "execution_count": 95,
      "metadata": {},
      "outputs": [],
      "source": [
        "d.set_format(type=\"pandas\")"
      ],
      "id": "163e4de1"
    },
    {
      "cell_type": "code",
      "execution_count": 99,
      "metadata": {},
      "outputs": [],
      "source": [
        "d['text']"
      ],
      "id": "bf9f8c75"
    },
    {
      "cell_type": "code",
      "execution_count": 100,
      "metadata": {},
      "outputs": [],
      "source": [
        "d['label']"
      ],
      "id": "588e713b"
    },
    {
      "cell_type": "markdown",
      "metadata": {},
      "source": [
        "`#`\n",
        "\n",
        "`# 예시2`"
      ],
      "id": "20374781-e380-4148-b04d-221c15842efb"
    },
    {
      "cell_type": "code",
      "execution_count": 102,
      "metadata": {},
      "outputs": [],
      "source": [
        "d = emotion['train'].select(range(4))\n",
        "d"
      ],
      "id": "a4abdbf9"
    },
    {
      "cell_type": "code",
      "execution_count": 103,
      "metadata": {},
      "outputs": [],
      "source": [
        "d.set_format(type=\"pandas\",columns=['label'])"
      ],
      "id": "d54adce0"
    },
    {
      "cell_type": "code",
      "execution_count": 104,
      "metadata": {},
      "outputs": [],
      "source": [
        "d['text']"
      ],
      "id": "42e04d32"
    },
    {
      "cell_type": "code",
      "execution_count": 105,
      "metadata": {},
      "outputs": [],
      "source": [
        "d['label']"
      ],
      "id": "8a447bf7"
    },
    {
      "cell_type": "markdown",
      "metadata": {},
      "source": [
        "`#`\n",
        "\n",
        "`# 예시3`"
      ],
      "id": "6db60129-7027-4ed5-b290-901d07cfbf57"
    },
    {
      "cell_type": "code",
      "execution_count": 106,
      "metadata": {},
      "outputs": [],
      "source": [
        "d = emotion['train'].select(range(4))\n",
        "d"
      ],
      "id": "ee352db6"
    },
    {
      "cell_type": "code",
      "execution_count": 107,
      "metadata": {},
      "outputs": [],
      "source": [
        "d.set_format(type=\"pt\",columns=['label'])"
      ],
      "id": "f3a65a56"
    },
    {
      "cell_type": "code",
      "execution_count": 108,
      "metadata": {},
      "outputs": [],
      "source": [
        "d['text']"
      ],
      "id": "2688cdd5"
    },
    {
      "cell_type": "code",
      "execution_count": 109,
      "metadata": {},
      "outputs": [],
      "source": [
        "d['label']"
      ],
      "id": "ff11514b"
    },
    {
      "cell_type": "markdown",
      "metadata": {},
      "source": [
        "`#`\n",
        "\n",
        "## E. `.reset_format()`\n",
        "\n",
        "`# 예시1`"
      ],
      "id": "482c901c-99dc-4b3b-9263-2fe4c4e4ed32"
    },
    {
      "cell_type": "code",
      "execution_count": 111,
      "metadata": {},
      "outputs": [],
      "source": [
        "d = emotion['train'].select(range(4))\n",
        "d"
      ],
      "id": "1318008d"
    },
    {
      "cell_type": "code",
      "execution_count": 113,
      "metadata": {},
      "outputs": [],
      "source": [
        "d.set_format(type=\"pt\",columns=['label'])"
      ],
      "id": "b8cc229a"
    },
    {
      "cell_type": "code",
      "execution_count": 114,
      "metadata": {},
      "outputs": [],
      "source": [
        "d['text']"
      ],
      "id": "2fa9950f"
    },
    {
      "cell_type": "code",
      "execution_count": 115,
      "metadata": {},
      "outputs": [],
      "source": [
        "d['label']"
      ],
      "id": "d08b94ac"
    },
    {
      "cell_type": "code",
      "execution_count": 116,
      "metadata": {},
      "outputs": [],
      "source": [
        "d.reset_format()"
      ],
      "id": "aed2a425"
    },
    {
      "cell_type": "code",
      "execution_count": 117,
      "metadata": {},
      "outputs": [],
      "source": [
        "d['text']"
      ],
      "id": "8729de49"
    },
    {
      "cell_type": "code",
      "execution_count": 118,
      "metadata": {},
      "outputs": [],
      "source": [
        "d['label']"
      ],
      "id": "3f0ddd1c"
    },
    {
      "cell_type": "markdown",
      "metadata": {},
      "source": [
        "`#`\n",
        "\n",
        "# 5. `.map()`\n",
        "\n",
        "## A. `d.map()`\n",
        "\n",
        "`# 예제1` – `.map()`에 대한 이해\n",
        "\n",
        "아래와 같은 Dataset이 있다고 하자."
      ],
      "id": "1f333577-f105-4438-8b42-43c13e7b9f9c"
    },
    {
      "cell_type": "code",
      "execution_count": null,
      "metadata": {},
      "outputs": [],
      "source": [
        "d = emotion['train'].select(range(4))\n",
        "d"
      ],
      "id": "7b32ca91"
    },
    {
      "cell_type": "markdown",
      "metadata": {},
      "source": [
        "`d.map()`을 이용하여 아래와 같이 변환하라.\n",
        "\n",
        "| 데이터  | 변환전                           | 변환후                                                                                                  |\n",
        "|:-----------------------|:-----------------------|:-----------------------|\n",
        "| d\\[0\\]  | text: str<br/>label: int         | text: str<br/>label: int<br/>input_ids: \\[int,…,int\\]<br/>attention_mask: \\[int,…,int\\]                 |\n",
        "| d\\[:1\\] | text: \\[str\\]<br/>label: \\[int\\] | text: \\[str\\]<br/>label: \\[int\\]<br/>input_ids: \\[\\[int,…,int\\]\\]<br/>attention_mask: \\[\\[int,…,int\\]\\] |\n",
        "\n",
        "`(풀이1)` – `d.map()`을 사용하지 않은 풀이..\n",
        "\n",
        "*`d`는 아래와 같은 구조로 이해할 수 있음*\n",
        "\n",
        "-   d = \\[example_1, example_2, example_3, example_4\\]\n",
        "-   example_i = {‘text’: xxx, ‘label’ = yyy}\n",
        "\n",
        "*리스트화*"
      ],
      "id": "bf866026-a6fa-413e-8374-fa011ded37da"
    },
    {
      "cell_type": "code",
      "execution_count": null,
      "metadata": {},
      "outputs": [],
      "source": [
        "lst = d.to_list()\n",
        "lst"
      ],
      "id": "541e0b2a"
    },
    {
      "cell_type": "markdown",
      "metadata": {},
      "source": [
        "*리스트의 첫 요소에 변환적용*"
      ],
      "id": "67d10b9b-654e-48cc-90e6-17d2d6ddfbb3"
    },
    {
      "cell_type": "code",
      "execution_count": null,
      "metadata": {},
      "outputs": [],
      "source": [
        "l = lst[0]\n",
        "l"
      ],
      "id": "fd1e4df1"
    },
    {
      "cell_type": "code",
      "execution_count": null,
      "metadata": {},
      "outputs": [],
      "source": [
        "r = tokenizer(l['text'])\n",
        "r"
      ],
      "id": "728ec7a6"
    },
    {
      "cell_type": "markdown",
      "metadata": {},
      "source": [
        "*`l`와 `tokenizer(l['text'])`을 합침*"
      ],
      "id": "f8c51aee-78dc-4507-b8f9-5d0850022615"
    },
    {
      "cell_type": "code",
      "execution_count": null,
      "metadata": {},
      "outputs": [],
      "source": [
        "l"
      ],
      "id": "c52adb1e"
    },
    {
      "cell_type": "code",
      "execution_count": null,
      "metadata": {},
      "outputs": [],
      "source": [
        "r"
      ],
      "id": "6ddc3ad6"
    },
    {
      "cell_type": "code",
      "execution_count": null,
      "metadata": {},
      "outputs": [],
      "source": [
        "l|r "
      ],
      "id": "2b473825"
    },
    {
      "cell_type": "markdown",
      "metadata": {},
      "source": [
        "*반복*"
      ],
      "id": "aa6a264d-34a2-4ee7-9afb-f251be8d0a70"
    },
    {
      "cell_type": "code",
      "execution_count": null,
      "metadata": {},
      "outputs": [],
      "source": [
        "lst2 = [l | tokenizer(l['text']) for l in lst]\n",
        "lst2"
      ],
      "id": "39dbe193"
    },
    {
      "cell_type": "markdown",
      "metadata": {},
      "source": [
        "*`lst2`를 `d2`로..*"
      ],
      "id": "47f2b746-bdc7-4ef2-87e5-e95a54749763"
    },
    {
      "cell_type": "code",
      "execution_count": null,
      "metadata": {},
      "outputs": [],
      "source": [
        "d2 = datasets.Dataset.from_list(lst2)\n",
        "d2"
      ],
      "id": "3b8474e0"
    },
    {
      "cell_type": "code",
      "execution_count": null,
      "metadata": {},
      "outputs": [],
      "source": [
        "d2[0]"
      ],
      "id": "5508891d"
    },
    {
      "cell_type": "code",
      "execution_count": null,
      "metadata": {},
      "outputs": [],
      "source": [
        "d2[:1]"
      ],
      "id": "89165027"
    },
    {
      "cell_type": "markdown",
      "metadata": {},
      "source": [
        "`(풀이2)`"
      ],
      "id": "0745901c-d837-427e-9c21-08edb1e9efd8"
    },
    {
      "cell_type": "code",
      "execution_count": null,
      "metadata": {},
      "outputs": [],
      "source": [
        "def m_transform(example):\n",
        "    # example = l = {'text': 'i didnt feel humiliated', 'label': 0} \n",
        "    result = tokenizer(example['text'])\n",
        "    return result "
      ],
      "id": "85998db4"
    },
    {
      "cell_type": "code",
      "execution_count": null,
      "metadata": {},
      "outputs": [],
      "source": [
        "d2 = d.map(m_transform)\n",
        "d2[0]"
      ],
      "id": "2bcec82a"
    },
    {
      "cell_type": "code",
      "execution_count": null,
      "metadata": {},
      "outputs": [],
      "source": [
        "d2[:1]"
      ],
      "id": "80e0161e"
    },
    {
      "cell_type": "markdown",
      "metadata": {},
      "source": [
        "`#`\n",
        "\n",
        "> **Note**\n",
        ">\n",
        "> **`.map()`의 특징**\n",
        ">\n",
        "> -   특징1: `m_transform()`은 입력으로\n",
        ">     `example = {'text':xxx, 'label':yyy}` 꼴을 가정한다.\n",
        "> -   특징2: `.map()`은 변환전 dict와 변환후 dict를 합친다.\n",
        "\n",
        "## B. `dd.map()`\n",
        "\n",
        "`# 예제1` – `dd`에도 `.map`을 적용할 수 있음\n",
        "\n",
        "아래와 같은 DatasetDict가 있다고 하자."
      ],
      "id": "5e04878e-7ce4-419c-8f61-7248a7826a10"
    },
    {
      "cell_type": "code",
      "execution_count": null,
      "metadata": {},
      "outputs": [],
      "source": [
        "dd = datasets.DatasetDict({\n",
        "    'train':emotion['train'].select(range(4)),\n",
        "    'test':emotion['test'].select(range(4)),\n",
        "})\n",
        "dd"
      ],
      "id": "93b02b21"
    },
    {
      "cell_type": "markdown",
      "metadata": {},
      "source": [
        "`dd.map()`을 이용하여 아래와 같이 변환하라.\n",
        "\n",
        "| tr/test | 데이터  | 변환전                           | 변환후                                                                                                  |\n",
        "|:-----------------|:-----------------|:-----------------|:-----------------|\n",
        "| train   | d\\[0\\]  | text: str<br/>label: int         | text: str<br/>label: int<br/>input_ids: \\[int,…,int\\]<br/>attention_mask: \\[int,…,int\\]                 |\n",
        "| train   | d\\[:1\\] | text: \\[str\\]<br/>label: \\[int\\] | text: \\[str\\]<br/>label: \\[int\\]<br/>input_ids: \\[\\[int,…,int\\]\\]<br/>attention_mask: \\[\\[int,…,int\\]\\] |\n",
        "| test    | d\\[0\\]  | text: str<br/>label: int         | text: str<br/>label: int<br/>input_ids: \\[int,…,int\\]<br/>attention_mask: \\[int,…,int\\]                 |\n",
        "| test    | d\\[:1\\] | text: \\[str\\]<br/>label: \\[int\\] | text: \\[str\\]<br/>label: \\[int\\]<br/>input_ids: \\[\\[int,…,int\\]\\]<br/>attention_mask: \\[\\[int,…,int\\]\\] |\n",
        "\n",
        "`(풀이)`"
      ],
      "id": "7fa2cf29-42ab-4a23-b43c-c7bebecc9df2"
    },
    {
      "cell_type": "code",
      "execution_count": null,
      "metadata": {},
      "outputs": [],
      "source": [
        "def m_transform(example):\n",
        "    # example = l = {'text': 'i didnt feel humiliated', 'label': 0} \n",
        "    result = tokenizer(example['text'])\n",
        "    return result "
      ],
      "id": "9ce0b008"
    },
    {
      "cell_type": "code",
      "execution_count": null,
      "metadata": {},
      "outputs": [],
      "source": [
        "dd2 = dd.map(m_transform)"
      ],
      "id": "4df41089"
    },
    {
      "cell_type": "code",
      "execution_count": null,
      "metadata": {},
      "outputs": [],
      "source": [
        "dd2['train'][0]"
      ],
      "id": "ab8aaf5e"
    },
    {
      "cell_type": "code",
      "execution_count": null,
      "metadata": {},
      "outputs": [],
      "source": [
        "dd2['train'][:1]"
      ],
      "id": "21025349"
    },
    {
      "cell_type": "code",
      "execution_count": null,
      "metadata": {},
      "outputs": [],
      "source": [
        "dd2['test'][0]"
      ],
      "id": "6eb25361"
    },
    {
      "cell_type": "code",
      "execution_count": null,
      "metadata": {},
      "outputs": [],
      "source": [
        "dd2['test'][:1]"
      ],
      "id": "e2179b31"
    },
    {
      "cell_type": "markdown",
      "metadata": {},
      "source": [
        "`#`\n",
        "\n",
        "## C. `d.map(batch=True)`\n",
        "\n",
        "`# 예제1` – `d.map(batch=True)`의 이해\n",
        "\n",
        "아래와 같은 Dataset이 있다고 하자."
      ],
      "id": "6dabc606-55db-4f97-b110-97521d463ea7"
    },
    {
      "cell_type": "code",
      "execution_count": null,
      "metadata": {},
      "outputs": [],
      "source": [
        "d = emotion['train'].select(range(8))\n",
        "d"
      ],
      "id": "e2e1efd1"
    },
    {
      "cell_type": "markdown",
      "metadata": {},
      "source": [
        "`d.map(batch=True)`을 이용하여 아래와 같이 변환하라.\n",
        "\n",
        "| 데이터  | 변환전                           | 변환후                                                                                                  | 특이사항                           |\n",
        "|:-----------------|:-----------------|:-----------------|:-----------------|\n",
        "| d\\[0\\]  | text: str<br/>label: int         | text: str<br/>label: int<br/>input_ids: \\[int,…,int\\]<br/>attention_mask: \\[int,…,int\\]                 | 변환시 2개의 example씩 묶어서 패딩 |\n",
        "| d\\[:1\\] | text: \\[str\\]<br/>label: \\[int\\] | text: \\[str\\]<br/>label: \\[int\\]<br/>input_ids: \\[\\[int,…,int\\]\\]<br/>attention_mask: \\[\\[int,…,int\\]\\] | 변환시 2개의 example씩 묶어서 패딩 |\n",
        "\n",
        "`(풀이1)` – 실패"
      ],
      "id": "86505d09-d9e2-49cb-9de1-d4235df801a7"
    },
    {
      "cell_type": "code",
      "execution_count": null,
      "metadata": {},
      "outputs": [],
      "source": [
        "def m_transform(example):\n",
        "    # example = {'text':xxx, 'label':yyy}\n",
        "    result = tokenizer(example['text'],padding=True)\n",
        "    return result "
      ],
      "id": "e785c9f4"
    },
    {
      "cell_type": "code",
      "execution_count": null,
      "metadata": {},
      "outputs": [],
      "source": [
        "d2 = d.map(m_transform)\n",
        "d2"
      ],
      "id": "45ef22c5"
    },
    {
      "cell_type": "code",
      "execution_count": null,
      "metadata": {},
      "outputs": [
        {
          "output_type": "stream",
          "name": "stdout",
          "text": [
            "List Overview:\n",
            "Total items: 4\n",
            "\n",
            "1. list[0]\n",
            "   - Type: list\n",
            "   - Length: 7\n",
            "   - Values: [101, 1045, 2134, 2102, 2514, 26608, 102]\n",
            "\n",
            "2. list[1]\n",
            "   - Type: list\n",
            "   - Length: 23\n",
            "   - Values: [101, 1045, 2064, 2175, 2013, 3110, 2061, 20625, 2000, 2061, 9636, 17772, 2074, 2013, 2108, 2105, 2619, 2040, 14977, 1998, 2003, 8300, 102]\n",
            "\n",
            "3. list[2]\n",
            "   - Type: list\n",
            "   - Length: 12\n",
            "   - Values: [101, 10047, 9775, 1037, 3371, 2000, 2695, 1045, 2514, 20505, 3308, 102]\n",
            "\n",
            "4. list[3]\n",
            "   - Type: list\n",
            "   - Length: 22\n",
            "   - Values: [101, 1045, 2572, 2412, 3110, 16839, 9080, 12863, 2055, 1996, 13788, 1045, 2097, 2113, 2008, 2009, 2003, 2145, 2006, 1996, 3200, 102]"
          ]
        }
      ],
      "source": [
        "rprint(\"d2[:4]['input_ids']\")\n",
        "show(d2[:4]['input_ids'])"
      ],
      "id": "18f79700"
    },
    {
      "cell_type": "markdown",
      "metadata": {},
      "source": [
        "`(풀이2)` – 성공"
      ],
      "id": "3aa7ec93-07d0-4e53-873d-3a2cc5791501"
    },
    {
      "cell_type": "code",
      "execution_count": null,
      "metadata": {},
      "outputs": [],
      "source": [
        "# def m_transform(example):\n",
        "#     # example = {'text':xxx, 'label':yyy}\n",
        "#     result = tokenizer(example['text'], padding=True)\n",
        "#     return result \n",
        "def m_transform_batch(example_batch):\n",
        "    # example_batch = {'text':[xxx,xxxx], 'label':[yyy,yyyy]}\n",
        "    result = tokenizer(example_batch['text'], padding=True)\n",
        "    return result "
      ],
      "id": "661b3130"
    },
    {
      "cell_type": "code",
      "execution_count": null,
      "metadata": {},
      "outputs": [],
      "source": [
        "d2 = d.map(m_transform_batch,batched=True,batch_size=2)\n",
        "d2"
      ],
      "id": "8e504040"
    },
    {
      "cell_type": "code",
      "execution_count": null,
      "metadata": {},
      "outputs": [
        {
          "output_type": "stream",
          "name": "stdout",
          "text": [
            "List Overview:\n",
            "Total items: 4\n",
            "\n",
            "1. list[0]\n",
            "   - Type: list\n",
            "   - Length: 23\n",
            "   - Values: [101, 1045, 2134, 2102, 2514, 26608, 102, 0, 0, 0, 0, 0, 0, 0, 0, 0, 0, 0, 0, 0, 0, 0, 0]\n",
            "\n",
            "2. list[1]\n",
            "   - Type: list\n",
            "   - Length: 23\n",
            "   - Values: [101, 1045, 2064, 2175, 2013, 3110, 2061, 20625, 2000, 2061, 9636, 17772, 2074, 2013, 2108, 2105, 2619, 2040, 14977, 1998, 2003, 8300, 102]\n",
            "\n",
            "3. list[2]\n",
            "   - Type: list\n",
            "   - Length: 22\n",
            "   - Values: [101, 10047, 9775, 1037, 3371, 2000, 2695, 1045, 2514, 20505, 3308, 102, 0, 0, 0, 0, 0, 0, 0, 0, 0, 0]\n",
            "\n",
            "4. list[3]\n",
            "   - Type: list\n",
            "   - Length: 22\n",
            "   - Values: [101, 1045, 2572, 2412, 3110, 16839, 9080, 12863, 2055, 1996, 13788, 1045, 2097, 2113, 2008, 2009, 2003, 2145, 2006, 1996, 3200, 102]"
          ]
        }
      ],
      "source": [
        "rprint(\"d2[:4]['input_ids']\")\n",
        "show(d2[:4]['input_ids'])"
      ],
      "id": "3e605320"
    },
    {
      "cell_type": "markdown",
      "metadata": {},
      "source": [
        "`#`\n",
        "\n",
        "> **Note**\n",
        ">\n",
        "> **`.map(batch=True)`의 특징**\n",
        ">\n",
        "> -   특징1: `m_transform_batch()`은 입력으로\n",
        ">     `example_batch = {'text':[xxx,xxxx,...], 'label':[yyy,yyyy,...]}`\n",
        ">     꼴을 가정한다.\n",
        "> -   특징2: `example_batch`는 `batch_size`만큼 데이터가 있다고\n",
        ">     생각한다.\n",
        "\n",
        "## D. `d.map()` + 칼럼선택\n",
        "\n",
        "`# 예제1` – attention_mask 제외\n",
        "\n",
        "아래와 같은 Dataset이 있다고 하자."
      ],
      "id": "0611d5c5-7f5c-4ea4-be9d-61083470a488"
    },
    {
      "cell_type": "code",
      "execution_count": null,
      "metadata": {},
      "outputs": [],
      "source": [
        "d = emotion['train'].select(range(4))\n",
        "d"
      ],
      "id": "6d789c7e"
    },
    {
      "cell_type": "markdown",
      "metadata": {},
      "source": [
        "`d.map()`을 이용하여 아래와 같이 변환하라.\n",
        "\n",
        "| 데이터  | 변환전                           | 변환후                                                                 |\n",
        "|:-----------------------|:-----------------------|:-----------------------|\n",
        "| d\\[0\\]  | text: str<br/>label: int         | text: str<br/>label: int<br/>input_ids: \\[int,…,int\\]<br/>             |\n",
        "| d\\[:1\\] | text: \\[str\\]<br/>label: \\[int\\] | text: \\[str\\]<br/>label: \\[int\\]<br/>input_ids: \\[\\[int,…,int\\]\\]<br/> |\n",
        "\n",
        "`(풀이1)`"
      ],
      "id": "f1983908-cab7-4dbf-81ea-23261b1b7ef3"
    },
    {
      "cell_type": "code",
      "execution_count": null,
      "metadata": {},
      "outputs": [],
      "source": [
        "def m_transform(example):\n",
        "    # example = {'text':xxx, 'label':yyy}\n",
        "    result = tokenizer(example['text'])\n",
        "    return result"
      ],
      "id": "2381b140"
    },
    {
      "cell_type": "code",
      "execution_count": null,
      "metadata": {},
      "outputs": [],
      "source": [
        "d2 = d.map(m_transform)\n",
        "d2 = d2.select_columns(['text', 'label', 'input_ids'])\n",
        "d2"
      ],
      "id": "dd730120"
    },
    {
      "cell_type": "code",
      "execution_count": null,
      "metadata": {},
      "outputs": [],
      "source": [
        "d2[0]"
      ],
      "id": "8432b3f8"
    },
    {
      "cell_type": "code",
      "execution_count": null,
      "metadata": {},
      "outputs": [],
      "source": [
        "d2[:1]"
      ],
      "id": "12f07969"
    },
    {
      "cell_type": "markdown",
      "metadata": {},
      "source": [
        "`(풀이2)`"
      ],
      "id": "0af0efc3-f07a-45a9-a02d-bc9379f44a39"
    },
    {
      "cell_type": "code",
      "execution_count": null,
      "metadata": {},
      "outputs": [],
      "source": [
        "def m_transform(example):\n",
        "    # example = {'text':xxx, 'label':yyy}\n",
        "    result = tokenizer(example['text'])\n",
        "    del result['attention_mask']\n",
        "    return result"
      ],
      "id": "667dc13a"
    },
    {
      "cell_type": "code",
      "execution_count": null,
      "metadata": {},
      "outputs": [],
      "source": [
        "d2 = d.map(m_transform)\n",
        "d2"
      ],
      "id": "62252da0"
    },
    {
      "cell_type": "code",
      "execution_count": null,
      "metadata": {},
      "outputs": [],
      "source": [
        "d2[0]"
      ],
      "id": "29dccd09"
    },
    {
      "cell_type": "code",
      "execution_count": null,
      "metadata": {},
      "outputs": [],
      "source": [
        "d2[:1]"
      ],
      "id": "f74f1256"
    },
    {
      "cell_type": "markdown",
      "metadata": {},
      "source": [
        "`#`\n",
        "\n",
        "`# 예제2` – text 제외\n",
        "\n",
        "아래와 같은 Dataset이 있다고 하자."
      ],
      "id": "a1ff3e3f-e112-4a71-9787-de81288fa26d"
    },
    {
      "cell_type": "code",
      "execution_count": null,
      "metadata": {},
      "outputs": [],
      "source": [
        "d = emotion['train'].select(range(4))\n",
        "d"
      ],
      "id": "4666f161"
    },
    {
      "cell_type": "markdown",
      "metadata": {},
      "source": [
        "`d.map()`을 이용하여 아래와 같이 변환하라.\n",
        "\n",
        "| 데이터  | 변환전                           | 변환후                                                                                |\n",
        "|:-----------------------|:-----------------------|:-----------------------|\n",
        "| d\\[0\\]  | text: str<br/>label: int         | label: int<br/>input_ids: \\[int,…,int\\]<br/>attention_mask: \\[int,…,int\\]             |\n",
        "| d\\[:1\\] | text: \\[str\\]<br/>label: \\[int\\] | label: \\[int\\]<br/>input_ids: \\[\\[int,…,int\\]\\]<br/>attention_mask: \\[\\[int,…,int\\]\\] |\n",
        "\n",
        "`(풀이1)`"
      ],
      "id": "6cd75cb7-a3be-4e26-86a1-fde49be2dc34"
    },
    {
      "cell_type": "code",
      "execution_count": null,
      "metadata": {},
      "outputs": [],
      "source": [
        "def m_transform(example):\n",
        "    # example = {'text': xxx, 'label':yyy}\n",
        "    result = tokenizer(example['text'])\n",
        "    del example['text']\n",
        "    return result"
      ],
      "id": "55531b6b"
    },
    {
      "cell_type": "code",
      "execution_count": null,
      "metadata": {},
      "outputs": [],
      "source": [
        "d2 = d.map(m_transform)\n",
        "d2"
      ],
      "id": "d4004c68"
    },
    {
      "cell_type": "code",
      "execution_count": null,
      "metadata": {},
      "outputs": [],
      "source": [
        "d2[0]"
      ],
      "id": "720ccdaa"
    },
    {
      "cell_type": "code",
      "execution_count": null,
      "metadata": {},
      "outputs": [],
      "source": [
        "d2[:1]"
      ],
      "id": "23ebd348"
    },
    {
      "cell_type": "markdown",
      "metadata": {},
      "source": [
        "`(풀이2)`"
      ],
      "id": "204050a1-e2da-4301-8dfb-83d49573c72c"
    },
    {
      "cell_type": "code",
      "execution_count": null,
      "metadata": {},
      "outputs": [],
      "source": [
        "def m_transform(example):\n",
        "    # example = {'text': xxx, 'label':yyy}\n",
        "    result = tokenizer(example['text'])\n",
        "    return result"
      ],
      "id": "283ba1c5"
    },
    {
      "cell_type": "code",
      "execution_count": null,
      "metadata": {},
      "outputs": [],
      "source": [
        "d2 = d.map(m_transform)\n",
        "d2 = d2.select_columns(['label', 'input_ids', 'attention_mask'])\n",
        "d2 "
      ],
      "id": "00f6ab9b"
    },
    {
      "cell_type": "code",
      "execution_count": null,
      "metadata": {},
      "outputs": [],
      "source": [
        "d2[0]"
      ],
      "id": "4855aa81"
    },
    {
      "cell_type": "code",
      "execution_count": null,
      "metadata": {},
      "outputs": [],
      "source": [
        "d2[:1]"
      ],
      "id": "e5dc2a45"
    },
    {
      "cell_type": "markdown",
      "metadata": {},
      "source": [
        "`#`\n",
        "\n",
        "> **Note**\n",
        ">\n",
        "> **`.map()`에서 컬럼을 제외하려면?**\n",
        ">\n",
        "> -   `del`을 이용한 풀이: 제외하고자 하는 column이 `example`에 있을\n",
        ">     경우, `result`에 있을 경우 미묘하게 다름.\n",
        "> -   `select`를 이용한 풀이: 제외하고자 하는 column이 `example`에\n",
        ">     있든지 `result`에 있든지 상관없음.\n",
        "\n",
        "## E. `d.map()` + 타입변환 ($\\star$)\n",
        "\n",
        "`# 예제1` – `.map()`을 이용한 타입변환은 불가능\n",
        "\n",
        "아래와 같은 Dataset이 있다고 하자."
      ],
      "id": "9add1123-c513-4e69-8620-7e5e3e355031"
    },
    {
      "cell_type": "code",
      "execution_count": null,
      "metadata": {},
      "outputs": [],
      "source": [
        "d = emotion['train'].select(range(4))\n",
        "d"
      ],
      "id": "afff5fb7"
    },
    {
      "cell_type": "markdown",
      "metadata": {},
      "source": [
        "`d.map()`을 이용하여 아래와 같이 변환하라.\n",
        "\n",
        "| 데이터  | 변환전                                   | 변환후                                                                                                                               |\n",
        "|:-----------------------|:-----------------------|:-----------------------|\n",
        "| d\\[0\\]  | text: str<br/>label: int                 | label: int<br/>input_ids: tensor(\\[int,…,int\\])<br/>attention_mask: tensor(\\[int,…,int\\])                                            |\n",
        "| d\\[:1\\] | text: \\[str\\]<br/>label: \\[int\\]         | label:\\[int\\]<br/>input_ids: tensor(\\[\\[int,…,int\\]\\])<br/>attention_mask: tensor(\\[\\[int,…,int\\]\\])                                 |\n",
        "| d\\[:2\\] | text: \\[str,str\\]<br/>label: \\[int,int\\] | label:\\[int,int\\]<br/>input_ids: tensor(\\[\\[int,…,int\\],\\[int,…,int\\]\\])<br/>attention_mask: tensor(\\[\\[int,…,int\\],\\[int,…,int\\]\\]) |\n",
        "\n",
        "`(풀이1)` – 실패"
      ],
      "id": "b1862294-b47d-4464-9ce2-5650630561ce"
    },
    {
      "cell_type": "code",
      "execution_count": null,
      "metadata": {},
      "outputs": [],
      "source": [
        "def m_transform(example):\n",
        "    # example = {'text': xxx, 'label':yyy}\n",
        "    result = tokenizer(example['text'])\n",
        "    del example['text']\n",
        "    result['input_ids'] = torch.tensor(result['input_ids'])\n",
        "    result['attention_mask'] = torch.tensor(result['attention_mask'])\n",
        "    return result"
      ],
      "id": "aca58a64"
    },
    {
      "cell_type": "code",
      "execution_count": null,
      "metadata": {},
      "outputs": [],
      "source": [
        "d2 = d.map(m_transform)"
      ],
      "id": "c5342054"
    },
    {
      "cell_type": "code",
      "execution_count": null,
      "metadata": {},
      "outputs": [],
      "source": [
        "d2[0]"
      ],
      "id": "bd2be005"
    },
    {
      "cell_type": "code",
      "execution_count": null,
      "metadata": {},
      "outputs": [],
      "source": [
        "d2[:1]"
      ],
      "id": "da7f8090"
    },
    {
      "cell_type": "markdown",
      "metadata": {},
      "source": [
        "`(풀이2)` – 실패"
      ],
      "id": "dbe812d8-fc11-4cf0-92e6-60822a7fc212"
    },
    {
      "cell_type": "code",
      "execution_count": null,
      "metadata": {},
      "outputs": [],
      "source": [
        "def m_transform(example):\n",
        "    # example = {'text': xxx, 'label':yyy}\n",
        "    result = tokenizer(example['text'],return_tensors='pt')\n",
        "    del example['text']\n",
        "    return result"
      ],
      "id": "e5c25608"
    },
    {
      "cell_type": "code",
      "execution_count": null,
      "metadata": {},
      "outputs": [],
      "source": [
        "d2 = d.map(m_transform)\n",
        "d2"
      ],
      "id": "7ef90fa4"
    },
    {
      "cell_type": "code",
      "execution_count": null,
      "metadata": {},
      "outputs": [],
      "source": [
        "d2[0]"
      ],
      "id": "1c4a673a"
    },
    {
      "cell_type": "code",
      "execution_count": null,
      "metadata": {},
      "outputs": [],
      "source": [
        "d2[:1]"
      ],
      "id": "0e424a56"
    },
    {
      "cell_type": "markdown",
      "metadata": {},
      "source": [
        "> 도데체 왜 자료형을 안바꿔주는거야??\n",
        "\n",
        "`(풀이3)` – 이것도 실패한다고?"
      ],
      "id": "386a795a-28ca-4b8e-ac65-3d33e55a4c65"
    },
    {
      "cell_type": "code",
      "execution_count": null,
      "metadata": {},
      "outputs": [],
      "source": [
        "lst = d.to_list()\n",
        "lst"
      ],
      "id": "88dbac21"
    },
    {
      "cell_type": "code",
      "execution_count": null,
      "metadata": {},
      "outputs": [],
      "source": [
        "lst2 = [] \n",
        "for l in lst:\n",
        "    result = tokenizer(l['text'])\n",
        "    result['input_ids'] = torch.tensor(result['input_ids'])\n",
        "    result['attention_mask'] = torch.tensor(result['attention_mask'])\n",
        "    del l['text']\n",
        "    lst2.append(l|result)\n",
        "lst2"
      ],
      "id": "10f109b2"
    },
    {
      "cell_type": "code",
      "execution_count": null,
      "metadata": {},
      "outputs": [],
      "source": [
        "d2 = datasets.Dataset.from_list(lst2)\n",
        "d2"
      ],
      "id": "55816b8a"
    },
    {
      "cell_type": "code",
      "execution_count": null,
      "metadata": {},
      "outputs": [],
      "source": [
        "d2[0]"
      ],
      "id": "90086c0b"
    },
    {
      "cell_type": "code",
      "execution_count": null,
      "metadata": {},
      "outputs": [],
      "source": [
        "d2[:1]"
      ],
      "id": "0706911f"
    },
    {
      "cell_type": "markdown",
      "metadata": {},
      "source": [
        "`(풀이4)` – 성공??"
      ],
      "id": "b88d5d62-c409-42aa-9b1c-3870ef0d5c4d"
    },
    {
      "cell_type": "code",
      "execution_count": null,
      "metadata": {},
      "outputs": [],
      "source": [
        "def m_transform(example):\n",
        "    # example = {'text': xxx, 'label': yyy}\n",
        "    result = tokenizer(example['text'])\n",
        "    del example['text']\n",
        "    return result"
      ],
      "id": "c4b297aa"
    },
    {
      "cell_type": "code",
      "execution_count": null,
      "metadata": {},
      "outputs": [],
      "source": [
        "d2 = d.map(m_transform)\n",
        "d2.set_format(type=\"pt\",columns=['input_ids','attention_mask'],output_all_columns=True)"
      ],
      "id": "77f18d7b"
    },
    {
      "cell_type": "code",
      "execution_count": null,
      "metadata": {},
      "outputs": [],
      "source": [
        "d2[0]"
      ],
      "id": "7c149121"
    },
    {
      "cell_type": "code",
      "execution_count": null,
      "metadata": {},
      "outputs": [],
      "source": [
        "d2[:1]"
      ],
      "id": "d42f1ad7"
    },
    {
      "cell_type": "code",
      "execution_count": null,
      "metadata": {},
      "outputs": [],
      "source": [
        "d2[:2]['input_ids'] "
      ],
      "id": "8d237205"
    },
    {
      "cell_type": "markdown",
      "metadata": {},
      "source": [
        "`#`\n",
        "\n",
        "# 6. `.with_transform()`\n",
        "\n",
        "## A. `d.with_transform()`\n",
        "\n",
        "`# 예제1`\n",
        "\n",
        "아래와 같은 Dataset이 있다고 하자."
      ],
      "id": "7b0b59f1-eddb-4d0a-a0e7-4d97926ab8e3"
    },
    {
      "cell_type": "code",
      "execution_count": null,
      "metadata": {},
      "outputs": [],
      "source": [
        "d = emotion['train'].select(range(4))\n",
        "d"
      ],
      "id": "047e9f61"
    },
    {
      "cell_type": "markdown",
      "metadata": {},
      "source": [
        "`d.with_transform()`을 이용하여 아래와 같이 변환하라.\n",
        "\n",
        "| 데이터  | 변환전                           | 변환후                                                                                                  |\n",
        "|:-----------------------|:-----------------------|:-----------------------|\n",
        "| d\\[0\\]  | text: str<br/>label: int         | text: str<br/>label: int<br/>input_ids: \\[int,…,int\\]<br/>attention_mask: \\[int,…,int\\]                 |\n",
        "| d\\[:1\\] | text: \\[str\\]<br/>label: \\[int\\] | text: \\[str\\]<br/>label: \\[int\\]<br/>input_ids: \\[\\[int,…,int\\]\\]<br/>attention_mask: \\[\\[int,…,int\\]\\] |\n",
        "\n",
        "`(풀이1)`"
      ],
      "id": "0268cc96-a748-4e22-a107-2e04b19f7cf4"
    },
    {
      "cell_type": "code",
      "execution_count": null,
      "metadata": {},
      "outputs": [],
      "source": [
        "dct = d.to_dict()\n",
        "dct"
      ],
      "id": "cded78ef"
    },
    {
      "cell_type": "code",
      "execution_count": null,
      "metadata": {},
      "outputs": [],
      "source": [
        "result = tokenizer(d['text'])\n",
        "dct2 = dct | result\n",
        "d2 = datasets.Dataset.from_dict(dct2)"
      ],
      "id": "13e55963"
    },
    {
      "cell_type": "code",
      "execution_count": null,
      "metadata": {},
      "outputs": [],
      "source": [
        "d2[0]"
      ],
      "id": "8c3550ed"
    },
    {
      "cell_type": "code",
      "execution_count": null,
      "metadata": {},
      "outputs": [],
      "source": [
        "d2[:1]"
      ],
      "id": "3fbba728"
    },
    {
      "cell_type": "markdown",
      "metadata": {},
      "source": [
        "`(풀이2)`"
      ],
      "id": "9516675b-c1eb-4a19-8ba3-99143cd2b314"
    },
    {
      "cell_type": "code",
      "execution_count": null,
      "metadata": {},
      "outputs": [],
      "source": [
        "def w_transform(examples): \n",
        "    #examples = {'text':[xxx,xxxx,...], 'label':[yyy,yyyy,...]}\n",
        "    result = tokenizer(examples['text'])\n",
        "    result = examples | result\n",
        "    return result"
      ],
      "id": "01befa3b"
    },
    {
      "cell_type": "code",
      "execution_count": null,
      "metadata": {},
      "outputs": [],
      "source": [
        "d2 = d.with_transform(w_transform)\n",
        "d2"
      ],
      "id": "e1b94b4f"
    },
    {
      "cell_type": "code",
      "execution_count": null,
      "metadata": {},
      "outputs": [],
      "source": [
        "d2[0]"
      ],
      "id": "45349311"
    },
    {
      "cell_type": "code",
      "execution_count": null,
      "metadata": {},
      "outputs": [],
      "source": [
        "d2[0:1]"
      ],
      "id": "b7791bc2"
    },
    {
      "cell_type": "markdown",
      "metadata": {},
      "source": [
        "`#`\n",
        "\n",
        "> **Note**\n",
        ">\n",
        "> **`.with_transform()`와 `.map()`의 차이점**\n",
        ">\n",
        "> 1.  `.map()`은 입력으로 example꼴을, `.with_transform()`은 입력으로\n",
        ">     examples를 기대한다.\n",
        "> 2.  `.map()`은 변환전과 변환후 데이터가 자동으로 합쳐진다.\n",
        ">     `.with_transform()`은 변환후 데이터만 살아남는다.\n",
        "> 3.  `.map()`은 변환이 실제로 이루어진다. `.with_transform()`은 변환이\n",
        ">     실제로 이루어지지 않다가 `d[0]`,`d[:1]` 등이 실행하는 순간\n",
        ">     이루어진다.\n",
        "\n",
        "`# 예제2`\n",
        "\n",
        "아래와 같은 Dataset이 있다고 하자."
      ],
      "id": "bc1aee8e-1c32-4c49-97a8-63cc71ef74da"
    },
    {
      "cell_type": "code",
      "execution_count": null,
      "metadata": {},
      "outputs": [],
      "source": [
        "d = emotion['train'].select(range(4))\n",
        "d"
      ],
      "id": "a856d34c"
    },
    {
      "cell_type": "markdown",
      "metadata": {},
      "source": [
        "`d.with_transform()`을 이용하여 아래와 같이 변환하라.\n",
        "\n",
        "| 데이터  | 변환전                           | 변환후                                                                 |\n",
        "|:-----------------------|:-----------------------|:-----------------------|\n",
        "| d\\[0\\]  | text: str<br/>label: int         | text: str<br/>label: int<br/>input_ids: \\[int,…,int\\]<br/>             |\n",
        "| d\\[:1\\] | text: \\[str\\]<br/>label: \\[int\\] | text: \\[str\\]<br/>label: \\[int\\]<br/>input_ids: \\[\\[int,…,int\\]\\]<br/> |\n",
        "\n",
        "`(풀이)`"
      ],
      "id": "d114f020-07d4-48f1-be1f-84116f3c3b81"
    },
    {
      "cell_type": "code",
      "execution_count": null,
      "metadata": {},
      "outputs": [],
      "source": [
        "def w_transform(examples):\n",
        "    # examples = {'text':[xxx,xxxx,....], 'label':[yyy,yyyy,...]}\n",
        "    result = tokenizer(examples['text'])\n",
        "    del result['attention_mask']\n",
        "    result['text'] = examples['text']\n",
        "    result['label'] = examples['label']\n",
        "    return result"
      ],
      "id": "93a960db"
    },
    {
      "cell_type": "code",
      "execution_count": null,
      "metadata": {},
      "outputs": [],
      "source": [
        "d2 = d.with_transform(w_transform)\n",
        "d2"
      ],
      "id": "eddb0f01"
    },
    {
      "cell_type": "code",
      "execution_count": null,
      "metadata": {},
      "outputs": [],
      "source": [
        "d2[0]"
      ],
      "id": "f33a8878"
    },
    {
      "cell_type": "code",
      "execution_count": null,
      "metadata": {},
      "outputs": [],
      "source": [
        "d2[:1]"
      ],
      "id": "3e7575a3"
    },
    {
      "cell_type": "markdown",
      "metadata": {},
      "source": [
        "`#`\n",
        "\n",
        "`# 예제3`\n",
        "\n",
        "아래와 같은 Dataset이 있다고 하자."
      ],
      "id": "1f477a7b-7f3b-4f1f-88e2-1b857ff75163"
    },
    {
      "cell_type": "code",
      "execution_count": null,
      "metadata": {},
      "outputs": [],
      "source": [
        "d = emotion['train'].select(range(4))\n",
        "d"
      ],
      "id": "c8bac87e"
    },
    {
      "cell_type": "markdown",
      "metadata": {},
      "source": [
        "`d.with_transform()`을 이용하여 아래와 같이 변환하라.\n",
        "\n",
        "| 데이터  | 변환전                           | 변환후                                                                                |\n",
        "|:-----------------------|:-----------------------|:-----------------------|\n",
        "| d\\[0\\]  | text: str<br/>label: int         | label: int<br/>input_ids: \\[int,…,int\\]<br/>attention_mask: \\[int,…,int\\]             |\n",
        "| d\\[:1\\] | text: \\[str\\]<br/>label: \\[int\\] | label: \\[int\\]<br/>input_ids: \\[\\[int,…,int\\]\\]<br/>attention_mask: \\[\\[int,…,int\\]\\] |\n",
        "\n",
        "`(풀이)`"
      ],
      "id": "9b5a69fa-cbc1-4585-ba7a-43a6d0b44aae"
    },
    {
      "cell_type": "code",
      "execution_count": null,
      "metadata": {},
      "outputs": [],
      "source": [
        "def w_transform(examples):\n",
        "    # examples = {'text':[xxx,xxxx,....], 'label':[yyy,yyyy,...]}\n",
        "    result = tokenizer(examples['text'])\n",
        "    result['label'] = examples['label']\n",
        "    return result"
      ],
      "id": "fa146e87"
    },
    {
      "cell_type": "code",
      "execution_count": null,
      "metadata": {},
      "outputs": [],
      "source": [
        "d2 = d.with_transform(w_transform)\n",
        "d2"
      ],
      "id": "87ce4efd"
    },
    {
      "cell_type": "code",
      "execution_count": null,
      "metadata": {},
      "outputs": [],
      "source": [
        "d2[0]"
      ],
      "id": "ad984071"
    },
    {
      "cell_type": "code",
      "execution_count": null,
      "metadata": {},
      "outputs": [],
      "source": [
        "d2[:1]"
      ],
      "id": "91764c17"
    },
    {
      "cell_type": "markdown",
      "metadata": {},
      "source": [
        "`#`\n",
        "\n",
        "`# 예제4`\n",
        "\n",
        "아래와 같은 Dataset이 있다고 하자."
      ],
      "id": "378c471b-9e42-408e-acd6-6ada5d8fb1ac"
    },
    {
      "cell_type": "code",
      "execution_count": null,
      "metadata": {},
      "outputs": [],
      "source": [
        "d = emotion['train'].select(range(4))\n",
        "d"
      ],
      "id": "943a4eb2"
    },
    {
      "cell_type": "markdown",
      "metadata": {},
      "source": [
        "`d.with_transform()`을 이용하여 아래와 같이 변환하라.\n",
        "\n",
        "| 데이터  | 변환전                           | 변환후                                                                                                        |\n",
        "|:-----------------------|:-----------------------|:-----------------------|\n",
        "| d\\[0\\]  | text: str<br/>label: int         | label: tensor(int)<br/>input_ids: tensor(\\[int,…,int\\])<br/>attention_mask: tensor(\\[int,…,int\\])             |\n",
        "| d\\[:1\\] | text: \\[str\\]<br/>label: \\[int\\] | label: tensor(\\[int\\])<br/>input_ids: tensor(\\[\\[int,…,int\\]\\])<br/>attention_mask: tensor(\\[\\[int,…,int\\]\\]) |\n",
        "\n",
        "`(풀이)` – 실패"
      ],
      "id": "24ce90ee-9969-404f-80c1-2e5d11bbab15"
    },
    {
      "cell_type": "code",
      "execution_count": null,
      "metadata": {},
      "outputs": [],
      "source": [
        "def w_transform(examples):\n",
        "    # examples = {'text':[xxx,xxxx,...],'label':[yyy,yyyy,...]}\n",
        "    result = tokenizer(examples['text'])\n",
        "    result['label'] = torch.tensor(examples['label'])\n",
        "    result['input_ids'] = torch.tensor(result['input_ids'])\n",
        "    result['attention_mask'] = torch.tensor(result['attention_mask'])\n",
        "    return result "
      ],
      "id": "a3490fac"
    },
    {
      "cell_type": "code",
      "execution_count": null,
      "metadata": {},
      "outputs": [],
      "source": [
        "d2 = d.with_transform(w_transform)\n",
        "d2"
      ],
      "id": "5961255e"
    },
    {
      "cell_type": "code",
      "execution_count": null,
      "metadata": {},
      "outputs": [],
      "source": [
        "d2[0]"
      ],
      "id": "dc425a3c"
    },
    {
      "cell_type": "code",
      "execution_count": null,
      "metadata": {},
      "outputs": [],
      "source": [
        "d2[:1]"
      ],
      "id": "3ebdcbda"
    },
    {
      "cell_type": "code",
      "execution_count": null,
      "metadata": {},
      "outputs": [],
      "source": [
        "d2[:2]"
      ],
      "id": "ad1a8ce1"
    },
    {
      "cell_type": "markdown",
      "metadata": {},
      "source": [
        "*에러나는 이유*"
      ],
      "id": "92668a45-912c-46d7-b354-6f874373e61c"
    },
    {
      "cell_type": "code",
      "execution_count": null,
      "metadata": {},
      "outputs": [],
      "source": [
        "examples = d[:2]\n",
        "examples"
      ],
      "id": "6b4ded93"
    },
    {
      "cell_type": "code",
      "execution_count": null,
      "metadata": {},
      "outputs": [],
      "source": [
        "result = tokenizer(examples['text'])\n",
        "result"
      ],
      "id": "aeeea232"
    },
    {
      "cell_type": "code",
      "execution_count": null,
      "metadata": {},
      "outputs": [],
      "source": [
        "torch.tensor(examples['label'])"
      ],
      "id": "4710582d"
    },
    {
      "cell_type": "code",
      "execution_count": null,
      "metadata": {},
      "outputs": [],
      "source": [
        "result['label'] = torch.tensor(examples['label'])\n",
        "result"
      ],
      "id": "f24581d1"
    },
    {
      "cell_type": "code",
      "execution_count": null,
      "metadata": {},
      "outputs": [],
      "source": [
        "torch.tensor(result['input_ids'])"
      ],
      "id": "d01251c5"
    },
    {
      "cell_type": "markdown",
      "metadata": {},
      "source": [
        "-   패딩….\n",
        "\n",
        "`(풀이2)` – 성공"
      ],
      "id": "7ea03188-0aca-405c-8452-82c3e80569fe"
    },
    {
      "cell_type": "code",
      "execution_count": null,
      "metadata": {},
      "outputs": [],
      "source": [
        "def w_transform(examples):\n",
        "    # examples = {'text':[xxx,xxxx,...],'label':[yyy,yyyy,...]}\n",
        "    result = tokenizer(examples['text'],padding=True)\n",
        "    result['label'] = torch.tensor(examples['label'])\n",
        "    result['input_ids'] = torch.tensor(result['input_ids'])\n",
        "    result['attention_mask'] = torch.tensor(result['attention_mask'])\n",
        "    return result "
      ],
      "id": "12e7c0f9"
    },
    {
      "cell_type": "code",
      "execution_count": null,
      "metadata": {},
      "outputs": [],
      "source": [
        "d2 = d.with_transform(w_transform)\n",
        "d2"
      ],
      "id": "f0ac6775"
    },
    {
      "cell_type": "code",
      "execution_count": null,
      "metadata": {},
      "outputs": [],
      "source": [
        "d2[0]"
      ],
      "id": "31fde507"
    },
    {
      "cell_type": "code",
      "execution_count": null,
      "metadata": {},
      "outputs": [],
      "source": [
        "d2[:1]"
      ],
      "id": "1281b499"
    },
    {
      "cell_type": "code",
      "execution_count": null,
      "metadata": {},
      "outputs": [],
      "source": [
        "d2[:2]"
      ],
      "id": "efd42bab"
    },
    {
      "cell_type": "markdown",
      "metadata": {},
      "source": [
        "`(풀이3)` – 이것도 성공.."
      ],
      "id": "1d7f76d7-ae48-4295-96c4-861132fe8887"
    },
    {
      "cell_type": "code",
      "execution_count": null,
      "metadata": {},
      "outputs": [],
      "source": [
        "def w_transform(examples):\n",
        "    # examples = {'text':[xxx,xxxx,...],'label':[yyy,yyyy,...]}\n",
        "    result = tokenizer(examples['text'],padding=True,return_tensors=\"pt\")\n",
        "    result['label'] = torch.tensor(examples['label'])\n",
        "    return result "
      ],
      "id": "14ff9ea7"
    },
    {
      "cell_type": "code",
      "execution_count": null,
      "metadata": {},
      "outputs": [],
      "source": [
        "d2 = d.with_transform(w_transform)\n",
        "d2"
      ],
      "id": "49f5bdc9"
    },
    {
      "cell_type": "code",
      "execution_count": null,
      "metadata": {},
      "outputs": [],
      "source": [
        "d2[0]"
      ],
      "id": "4b0c2b8b"
    },
    {
      "cell_type": "code",
      "execution_count": null,
      "metadata": {},
      "outputs": [],
      "source": [
        "d2[:1]"
      ],
      "id": "12d2cebd"
    },
    {
      "cell_type": "code",
      "execution_count": null,
      "metadata": {},
      "outputs": [],
      "source": [
        "d2[:2]"
      ],
      "id": "3aca876c"
    },
    {
      "cell_type": "markdown",
      "metadata": {},
      "source": [
        "`#`\n",
        "\n",
        "## B. `dd.with_transform()`\n",
        "\n",
        "`# 예제1`\n",
        "\n",
        "아래와 같은 DatasetDict가 있다고 하자."
      ],
      "id": "39bbf244-2741-4f6d-b31f-53c49fdfae56"
    },
    {
      "cell_type": "code",
      "execution_count": null,
      "metadata": {},
      "outputs": [],
      "source": [
        "dd = datasets.DatasetDict({\n",
        "    'train':emotion['train'].select(range(4)),\n",
        "    'test':emotion['test'].select(range(4)),\n",
        "})\n",
        "dd"
      ],
      "id": "f070d0ab"
    },
    {
      "cell_type": "markdown",
      "metadata": {},
      "source": [
        "`dd.map()`을 이용하여 아래와 같이 변환하라.\n",
        "\n",
        "| tr/test | 데이터  | 변환전                           | 변환후                                                                                                  |\n",
        "|:-----------------|:-----------------|:-----------------|:-----------------|\n",
        "| train   | d\\[0\\]  | text: str<br/>label: int         | text: str<br/>label: int<br/>input_ids: \\[int,…,int\\]<br/>attention_mask: \\[int,…,int\\]                 |\n",
        "| train   | d\\[:1\\] | text: \\[str\\]<br/>label: \\[int\\] | text: \\[str\\]<br/>label: \\[int\\]<br/>input_ids: \\[\\[int,…,int\\]\\]<br/>attention_mask: \\[\\[int,…,int\\]\\] |\n",
        "| test    | d\\[0\\]  | text: str<br/>label: int         | text: str<br/>label: int<br/>input_ids: \\[int,…,int\\]<br/>attention_mask: \\[int,…,int\\]                 |\n",
        "| test    | d\\[:1\\] | text: \\[str\\]<br/>label: \\[int\\] | text: \\[str\\]<br/>label: \\[int\\]<br/>input_ids: \\[\\[int,…,int\\]\\]<br/>attention_mask: \\[\\[int,…,int\\]\\] |\n",
        "\n",
        "`(풀이)`"
      ],
      "id": "c95b3058-2fe9-48a0-99d1-9d67af668337"
    },
    {
      "cell_type": "code",
      "execution_count": null,
      "metadata": {},
      "outputs": [],
      "source": [
        "def w_transform(examples):\n",
        "    # examples = {'text':[xxx,xxxx,...], 'label':[yyy,yyyy,....]}\n",
        "    result = tokenizer(examples['text'])\n",
        "    result = examples | result \n",
        "    return result "
      ],
      "id": "35c990c0"
    },
    {
      "cell_type": "code",
      "execution_count": null,
      "metadata": {},
      "outputs": [],
      "source": [
        "dd2 = dd.with_transform(w_transform)\n",
        "dd2"
      ],
      "id": "05d9d1e8"
    },
    {
      "cell_type": "code",
      "execution_count": null,
      "metadata": {},
      "outputs": [],
      "source": [
        "dd2['train'][0]"
      ],
      "id": "91d0ae36"
    },
    {
      "cell_type": "code",
      "execution_count": null,
      "metadata": {},
      "outputs": [],
      "source": [
        "dd2['train'][:1]"
      ],
      "id": "bec87a09"
    },
    {
      "cell_type": "code",
      "execution_count": null,
      "metadata": {},
      "outputs": [],
      "source": [
        "dd2['test'][0]"
      ],
      "id": "10f12f25"
    },
    {
      "cell_type": "code",
      "execution_count": null,
      "metadata": {},
      "outputs": [],
      "source": [
        "dd2['test'][:1]"
      ],
      "id": "ce20e219"
    },
    {
      "cell_type": "markdown",
      "metadata": {},
      "source": [
        "`#`\n",
        "\n",
        "## C. `d.reset_format()`\n",
        "\n",
        "`# 예시1`"
      ],
      "id": "10f52979-755f-402a-acc8-f90b8ef39557"
    },
    {
      "cell_type": "code",
      "execution_count": null,
      "metadata": {},
      "outputs": [],
      "source": [
        "d = emotion['train'].select(range(4))\n",
        "d"
      ],
      "id": "750a9285"
    },
    {
      "cell_type": "code",
      "execution_count": null,
      "metadata": {},
      "outputs": [],
      "source": [
        "def w_transform(examples):\n",
        "    # examples = {'text':[xxx,xxxx,...], 'label':[yyy,yyyy,...]}\n",
        "    result = tokenizer(examples['text'])\n",
        "    return result "
      ],
      "id": "23af280d"
    },
    {
      "cell_type": "code",
      "execution_count": null,
      "metadata": {},
      "outputs": [],
      "source": [
        "d2 = d.with_transform(w_transform)\n",
        "d2"
      ],
      "id": "fd141777"
    },
    {
      "cell_type": "code",
      "execution_count": null,
      "metadata": {},
      "outputs": [],
      "source": [
        "d2[0]"
      ],
      "id": "810e59e6"
    },
    {
      "cell_type": "code",
      "execution_count": null,
      "metadata": {},
      "outputs": [],
      "source": [
        "d2[:1]"
      ],
      "id": "1941d033"
    },
    {
      "cell_type": "code",
      "execution_count": null,
      "metadata": {},
      "outputs": [],
      "source": [
        "d2.reset_format()"
      ],
      "id": "316085ff"
    },
    {
      "cell_type": "code",
      "execution_count": null,
      "metadata": {},
      "outputs": [],
      "source": [
        "d2[0]"
      ],
      "id": "5516c634"
    },
    {
      "cell_type": "code",
      "execution_count": null,
      "metadata": {},
      "outputs": [],
      "source": [
        "d2[0:1]"
      ],
      "id": "0670667b"
    },
    {
      "cell_type": "markdown",
      "metadata": {},
      "source": [
        "`#`\n",
        "\n",
        "`# 예시2`"
      ],
      "id": "1125f3a7-25db-431f-bfd7-ecb2b487ebb3"
    },
    {
      "cell_type": "code",
      "execution_count": null,
      "metadata": {},
      "outputs": [],
      "source": [
        "d = emotion['train'].select(range(4))\n",
        "d"
      ],
      "id": "7ebab77e"
    },
    {
      "cell_type": "code",
      "execution_count": null,
      "metadata": {},
      "outputs": [],
      "source": [
        "def w_transform(examples):\n",
        "    # examples = {'text':[xxx,xxxx,...], 'label':[yyy,yyyy,...]}\n",
        "    result = tokenizer(examples['text'],padding=True)\n",
        "    result['label'] = examples['label']\n",
        "    return result "
      ],
      "id": "f0c58ee5"
    },
    {
      "cell_type": "code",
      "execution_count": null,
      "metadata": {},
      "outputs": [],
      "source": [
        "d2 = d.with_transform(w_transform)\n",
        "d2"
      ],
      "id": "f36bd89c"
    },
    {
      "cell_type": "code",
      "execution_count": null,
      "metadata": {},
      "outputs": [],
      "source": [
        "d2[0]"
      ],
      "id": "2eefa6c2"
    },
    {
      "cell_type": "code",
      "execution_count": null,
      "metadata": {},
      "outputs": [],
      "source": [
        "d2[:1]"
      ],
      "id": "f9103728"
    },
    {
      "cell_type": "code",
      "execution_count": null,
      "metadata": {},
      "outputs": [],
      "source": [
        "d2[:2]"
      ],
      "id": "539cfd16"
    },
    {
      "cell_type": "code",
      "execution_count": null,
      "metadata": {},
      "outputs": [],
      "source": [
        "d2.set_format(type=\"pt\")"
      ],
      "id": "609ed0ee"
    },
    {
      "cell_type": "code",
      "execution_count": null,
      "metadata": {},
      "outputs": [],
      "source": [
        "d2[0]"
      ],
      "id": "320f6f3f"
    },
    {
      "cell_type": "code",
      "execution_count": null,
      "metadata": {},
      "outputs": [],
      "source": [
        "d2[:1]"
      ],
      "id": "a801961b"
    },
    {
      "cell_type": "code",
      "execution_count": null,
      "metadata": {},
      "outputs": [],
      "source": [
        "d2[:2]"
      ],
      "id": "a3b2baf5"
    },
    {
      "cell_type": "markdown",
      "metadata": {},
      "source": [
        "`#`\n",
        "\n",
        "> **Note**\n",
        ">\n",
        "> `.with_transform` 은 `.set_format` 궁합이 안맞음\n",
        "\n",
        "# 7. 미묘한 차이\n",
        "\n",
        "`# 예시1`"
      ],
      "id": "c4168f7d-e954-4e56-9073-a389b61fa521"
    },
    {
      "cell_type": "code",
      "execution_count": null,
      "metadata": {},
      "outputs": [],
      "source": [
        "d = emotion['train'].select(range(4))\n",
        "d"
      ],
      "id": "7646a092"
    },
    {
      "cell_type": "code",
      "execution_count": null,
      "metadata": {},
      "outputs": [],
      "source": [
        "def m_transform(example):\n",
        "    # example = {'text':xxx, 'label':yyy}\n",
        "    result = tokenizer(example['text'])\n",
        "    return result "
      ],
      "id": "45cd1d3b"
    },
    {
      "cell_type": "code",
      "execution_count": null,
      "metadata": {},
      "outputs": [],
      "source": [
        "def w_transform(examples):\n",
        "    # examples = {'text':[xxx,xxxx,...] 'label':[yyy,yyyy,...]}\n",
        "    result = tokenizer(examples['text'])\n",
        "    result = examples | result\n",
        "    return result "
      ],
      "id": "b8ffda8b"
    },
    {
      "cell_type": "code",
      "execution_count": null,
      "metadata": {},
      "outputs": [],
      "source": [
        "d2 = d.map(m_transform)\n",
        "d2.set_format(type='pt')\n",
        "d2[:1]"
      ],
      "id": "2d74f9a9"
    },
    {
      "cell_type": "code",
      "execution_count": null,
      "metadata": {},
      "outputs": [],
      "source": [
        "d3 = d.with_transform(w_transform)\n",
        "d3.set_format(type='pt')\n",
        "d3[:1]"
      ],
      "id": "35701795"
    },
    {
      "cell_type": "markdown",
      "metadata": {},
      "source": [
        "`#`\n",
        "\n",
        "`# 예시2`"
      ],
      "id": "1bda1f4f-dbf0-4e5f-a6f7-d2f8e60665ee"
    },
    {
      "cell_type": "code",
      "execution_count": null,
      "metadata": {},
      "outputs": [],
      "source": [
        "d = emotion['train'].select(range(4))\n",
        "d"
      ],
      "id": "3bd1c454"
    },
    {
      "cell_type": "code",
      "execution_count": null,
      "metadata": {},
      "outputs": [],
      "source": [
        "def m_transform(example):\n",
        "    # example = {'text':xxx, 'label':yyy}\n",
        "    result = tokenizer(example['text'])\n",
        "    return result "
      ],
      "id": "f9cc3d90"
    },
    {
      "cell_type": "code",
      "execution_count": null,
      "metadata": {},
      "outputs": [],
      "source": [
        "def w_transform(examples):\n",
        "    # examples = {'text':[xxx,xxxx,...] 'label':[yyy,yyyy,...]}\n",
        "    result = tokenizer(examples['text'],return_tensors=\"pt\")\n",
        "    result = examples | result\n",
        "    result['label'] = torch.tensor(result['label'])\n",
        "    return result "
      ],
      "id": "4ac7621a"
    },
    {
      "cell_type": "markdown",
      "metadata": {},
      "source": [
        "*여기까지는 두 코드 같아보이는데*"
      ],
      "id": "76f16c79-8005-4d73-9c7e-17ca722fc72b"
    },
    {
      "cell_type": "code",
      "execution_count": null,
      "metadata": {},
      "outputs": [],
      "source": [
        "d2 = d.map(m_transform)\n",
        "d2.set_format(type='pt')\n",
        "d2[:1]"
      ],
      "id": "ab6a33e2"
    },
    {
      "cell_type": "code",
      "execution_count": null,
      "metadata": {},
      "outputs": [],
      "source": [
        "d3 = d.with_transform(w_transform)\n",
        "d3[:1]"
      ],
      "id": "3caf82c3"
    },
    {
      "cell_type": "markdown",
      "metadata": {},
      "source": [
        "*아래는 미묘하게 다름*"
      ],
      "id": "e41d8032-03e4-4d10-9d8d-24e10e2573c7"
    },
    {
      "cell_type": "code",
      "execution_count": null,
      "metadata": {},
      "outputs": [],
      "source": [
        "d2 = d.map(m_transform)\n",
        "d2.set_format(type='pt')\n",
        "d2[:2]"
      ],
      "id": "fd2a3175"
    },
    {
      "cell_type": "code",
      "execution_count": null,
      "metadata": {},
      "outputs": [],
      "source": [
        "d3 = d.with_transform(w_transform)\n",
        "d3[:2]"
      ],
      "id": "bb059a3e"
    },
    {
      "cell_type": "markdown",
      "metadata": {},
      "source": [
        "`#`"
      ],
      "id": "a47a9697-b251-408b-abdf-da9f2a0fd5f4"
    }
  ],
  "nbformat": 4,
  "nbformat_minor": 5,
  "metadata": {
    "kernelspec": {
      "name": "python3",
      "display_name": "hf",
      "language": "python"
    },
    "language_info": {
      "name": "python",
      "codemirror_mode": {
        "name": "ipython",
        "version": "3"
      },
      "file_extension": ".py",
      "mimetype": "text/x-python",
      "nbconvert_exporter": "python",
      "pygments_lexer": "ipython3",
      "version": "3.12.2"
    }
  }
}