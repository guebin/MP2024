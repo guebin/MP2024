{
  "cells": [
    {
      "cell_type": "markdown",
      "metadata": {},
      "source": [
        "# 09wk-1: `with`의 사용\n",
        "\n",
        "최규빈  \n",
        "2024-11-01\n",
        "\n",
        "<a href=\"https://colab.research.google.com/github/guebin/MP2024/blob/main/posts/09wk-1.ipynb\"><img src=\"https://colab.research.google.com/assets/colab-badge.svg\" style=\"text-align: left\"></a>\n",
        "\n",
        "# 1. 강의영상\n",
        "\n",
        "<https://youtu.be/playlist?list=PLQqh36zP38-ygh1QxRxgUXAxHCj33OPfP&si=8rIS7XDy6_f8vXkK>\n",
        "\n",
        "# 2. Imports"
      ],
      "id": "52aed9b1-9d13-4f5c-b383-587f7a3822f6"
    },
    {
      "cell_type": "code",
      "execution_count": 1,
      "metadata": {},
      "outputs": [
        {
          "output_type": "stream",
          "name": "stderr",
          "text": [
            "/home/cgb3/anaconda3/envs/hf/lib/python3.12/site-packages/tqdm/auto.py:21: TqdmWarning: IProgress not found. Please update jupyter and ipywidgets. See https://ipywidgets.readthedocs.io/en/stable/user_install.html\n",
            "  from .autonotebook import tqdm as notebook_tqdm"
          ]
        }
      ],
      "source": [
        "import numpy as np\n",
        "import pandas as pd\n",
        "import matplotlib.pyplot as plt\n",
        "import time\n",
        "#---#\n",
        "import torch\n",
        "import transformers\n",
        "import tarfile"
      ],
      "id": "cell-5"
    },
    {
      "cell_type": "markdown",
      "metadata": {},
      "source": [
        "# 3. `with`\n",
        "\n",
        "## A. 기본사용\n",
        "\n",
        "`-` 아래와 같이 with를 사용한다. 여기에서 `????` 자리에 올 수 있는\n",
        "오브젝트는 `__enter__` 와 `__exit__`을 포함하는 어떠한 오브젝트이다.\n",
        "(그리고 이러한 오브젝트를 “컨텍스트 매니저”라고 부른다)\n",
        "\n",
        "``` python\n",
        "with ????:\n",
        "    블라블라~\n",
        "    야디야디~\n",
        "```\n",
        "\n",
        "`# 예제1` – 기본예제\n",
        "\n",
        "`-` context manager 를 찍어내는 Dummy 클래스"
      ],
      "id": "7798b84f-b543-40a3-930f-ddbdeb8daf67"
    },
    {
      "cell_type": "code",
      "execution_count": 2,
      "metadata": {},
      "outputs": [],
      "source": [
        "class Dummy: \n",
        "    def __enter__(self):\n",
        "        print(\"enter\")\n",
        "    def __exit__(self,*args): # *args는 에러처리 관련된 __exit__의 입력변수들 \n",
        "        print(\"exit\") "
      ],
      "id": "cell-12"
    },
    {
      "cell_type": "code",
      "execution_count": 3,
      "metadata": {},
      "outputs": [
        {
          "output_type": "stream",
          "name": "stdout",
          "text": [
            "enter\n",
            "context\n",
            "exit"
          ]
        }
      ],
      "source": [
        "d = Dummy()\n",
        "d.__enter__()\n",
        "print(\"context\")\n",
        "d.__exit__()"
      ],
      "id": "cell-13"
    },
    {
      "cell_type": "code",
      "execution_count": 4,
      "metadata": {},
      "outputs": [
        {
          "output_type": "stream",
          "name": "stdout",
          "text": [
            "enter\n",
            "context\n",
            "exit"
          ]
        }
      ],
      "source": [
        "d = Dummy()\n",
        "with d:\n",
        "    print(\"context\")"
      ],
      "id": "cell-14"
    },
    {
      "cell_type": "markdown",
      "metadata": {},
      "source": [
        "`-` `with` 뒤에 올 수 있는 오브젝트는 `__enter__` 와 `__exit__` 을\n",
        "포함해야한다."
      ],
      "id": "3466e678-46ba-4a52-94e3-394c9ce10c04"
    },
    {
      "cell_type": "code",
      "execution_count": 5,
      "metadata": {},
      "outputs": [],
      "source": [
        "lst = [1,2,3]\n",
        "with lst:\n",
        "    pass "
      ],
      "id": "cell-16"
    },
    {
      "cell_type": "code",
      "execution_count": 6,
      "metadata": {},
      "outputs": [],
      "source": [
        "with 33:\n",
        "    pass "
      ],
      "id": "cell-17"
    },
    {
      "cell_type": "markdown",
      "metadata": {},
      "source": [
        "`# 예제2` – 타이머\n",
        "\n",
        "*원래 사용패턴*"
      ],
      "id": "c0296b4e-f67a-45e6-9f85-502beb3dadd1"
    },
    {
      "cell_type": "code",
      "execution_count": 8,
      "metadata": {},
      "outputs": [],
      "source": [
        "t1 = time.time()\n",
        "np.random.randn(100,100) + 30\n",
        "t2 = time.time()\n",
        "t2-t1"
      ],
      "id": "cell-20"
    },
    {
      "cell_type": "code",
      "execution_count": 9,
      "metadata": {},
      "outputs": [],
      "source": [
        "t1 = time.time()\n",
        "np.random.randn(10000,10000) + 30\n",
        "t2 = time.time()\n",
        "t2-t1"
      ],
      "id": "cell-21"
    },
    {
      "cell_type": "code",
      "execution_count": 24,
      "metadata": {},
      "outputs": [],
      "source": [
        "class Timer:\n",
        "    def __enter__(self):\n",
        "        self.t1 = time.time()\n",
        "    def __exit__(self,*args):\n",
        "        self.t2 = time.time()\n",
        "        print(f\"{self.t2 - self.t1:.4f} 초 걸림\")"
      ],
      "id": "cell-22"
    },
    {
      "cell_type": "code",
      "execution_count": 26,
      "metadata": {},
      "outputs": [
        {
          "output_type": "stream",
          "name": "stdout",
          "text": [
            "1.4989 초 걸림"
          ]
        }
      ],
      "source": [
        "with Timer():\n",
        "    np.random.randn(10000,10000) + 30"
      ],
      "id": "cell-23"
    },
    {
      "cell_type": "markdown",
      "metadata": {},
      "source": [
        "`#`\n",
        "\n",
        "`# 예제3`"
      ],
      "id": "2758f2d1-ce67-4937-83cb-5d4a3bbd61f4"
    },
    {
      "cell_type": "code",
      "execution_count": 43,
      "metadata": {},
      "outputs": [],
      "source": [
        "class 미분꼬리표추적금지:\n",
        "    def __enter__(self):\n",
        "        torch.set_grad_enabled(False)\n",
        "    def __exit__(self,*args):\n",
        "        torch.set_grad_enabled(True)"
      ],
      "id": "cell-26"
    },
    {
      "cell_type": "code",
      "execution_count": 44,
      "metadata": {},
      "outputs": [],
      "source": [
        "a = torch.tensor(1.0,requires_grad = True)\n",
        "a"
      ],
      "id": "cell-27"
    },
    {
      "cell_type": "code",
      "execution_count": 51,
      "metadata": {},
      "outputs": [],
      "source": [
        "b = a+1 \n",
        "c = 2*b \n",
        "d = c/3\n",
        "b,c,d"
      ],
      "id": "cell-28"
    },
    {
      "cell_type": "code",
      "execution_count": 52,
      "metadata": {},
      "outputs": [],
      "source": [
        "with 미분꼬리표추적금지():\n",
        "    b = a+1 \n",
        "    c = 2*b \n",
        "    d = c/3\n",
        "b,c,d"
      ],
      "id": "cell-29"
    },
    {
      "cell_type": "markdown",
      "metadata": {},
      "source": [
        "`#`\n",
        "\n",
        "`# 예제4`\n",
        "\n",
        "아래의 코드를 모델을 활용하여 로짓을 계산하라."
      ],
      "id": "4d6ddd4b-fe64-4e24-a3cf-ac669004f56d"
    },
    {
      "cell_type": "code",
      "execution_count": 53,
      "metadata": {},
      "outputs": [
        {
          "output_type": "stream",
          "name": "stderr",
          "text": [
            "Some weights of DistilBertForSequenceClassification were not initialized from the model checkpoint at distilbert/distilbert-base-uncased and are newly initialized: ['classifier.bias', 'classifier.weight', 'pre_classifier.bias', 'pre_classifier.weight']\n",
            "You should probably TRAIN this model on a down-stream task to be able to use it for predictions and inference."
          ]
        }
      ],
      "source": [
        "model = transformers.AutoModelForSequenceClassification.from_pretrained(\n",
        "    \"distilbert/distilbert-base-uncased\", num_labels=2\n",
        ")\n",
        "model_input = {\n",
        "    'input_ids': torch.tensor([[101, 2023, 3185, 2003, 6659, 2021, 2009, 2038, 2070, 2204, 3896, 1012, 102]]),\n",
        "    'attention_mask': torch.tensor([[1, 1, 1, 1, 1, 1, 1, 1, 1, 1, 1, 1, 1]]),\n",
        "    'labels': torch.tensor([0])\n",
        "}"
      ],
      "id": "cell-33"
    },
    {
      "cell_type": "code",
      "execution_count": 60,
      "metadata": {},
      "outputs": [],
      "source": [
        "logits = model(**model_input).logits\n",
        "logits"
      ],
      "id": "cell-34"
    },
    {
      "cell_type": "markdown",
      "metadata": {},
      "source": [
        "`(풀이)`"
      ],
      "id": "0d739622-52c3-439f-84f7-ca4b5de886a2"
    },
    {
      "cell_type": "code",
      "execution_count": 61,
      "metadata": {},
      "outputs": [
        {
          "output_type": "stream",
          "name": "stdout",
          "text": [
            "tensor([[0.0505, 0.1006]])"
          ]
        }
      ],
      "source": [
        "with 미분꼬리표추적금지():\n",
        "    logits = model(**model_input).logits\n",
        "    print(logits)"
      ],
      "id": "cell-36"
    },
    {
      "cell_type": "markdown",
      "metadata": {},
      "source": [
        "`(풀이2)`"
      ],
      "id": "1775ebe8-d6de-40b9-a2ac-135b1b6674aa"
    },
    {
      "cell_type": "code",
      "execution_count": 62,
      "metadata": {},
      "outputs": [
        {
          "output_type": "stream",
          "name": "stdout",
          "text": [
            "tensor([[0.0505, 0.1006]])"
          ]
        }
      ],
      "source": [
        "with torch.no_grad():\n",
        "    logits = model(**model_input).logits\n",
        "    print(logits)"
      ],
      "id": "cell-38"
    },
    {
      "cell_type": "markdown",
      "metadata": {},
      "source": [
        "ref:\n",
        "<https://huggingface.co/docs/transformers/tasks/sequence_classification>\n",
        "\n",
        "`#`\n",
        "\n",
        "## B. 약간고급사용\n",
        "\n",
        "`# 예비학습`\n",
        "\n",
        "`-` 기본플랏"
      ],
      "id": "4dcf802d-762d-4843-8b21-21c09b1bd6fe"
    },
    {
      "cell_type": "code",
      "execution_count": 72,
      "metadata": {},
      "outputs": [
        {
          "output_type": "display_data",
          "metadata": {},
          "data": {
            "image/png": "[encoded data removed]"
          }
        }
      ],
      "source": [
        "plt.plot([1,2,4,3],'--o')"
      ],
      "id": "cell-44"
    },
    {
      "cell_type": "markdown",
      "metadata": {},
      "source": [
        "`-` 크기를 (10,3)으로 조정"
      ],
      "id": "f7bc83f5-98bb-487f-85b4-59ff4c5ea55f"
    },
    {
      "cell_type": "code",
      "execution_count": 76,
      "metadata": {},
      "outputs": [
        {
          "output_type": "display_data",
          "metadata": {},
          "data": {
            "image/png": "[encoded data removed]"
          }
        }
      ],
      "source": [
        "plt.rcParams['figure.figsize'] = [10, 3] \n",
        "plt.plot([1,2,4,3],'--o')"
      ],
      "id": "cell-46"
    },
    {
      "cell_type": "markdown",
      "metadata": {},
      "source": [
        "`-` 한번 뒤틀린 설정이 그대로 있음"
      ],
      "id": "4dd29a09-ae7e-4b9e-8a0c-b35e52bda1d9"
    },
    {
      "cell_type": "code",
      "execution_count": 77,
      "metadata": {},
      "outputs": [
        {
          "output_type": "display_data",
          "metadata": {},
          "data": {
            "image/png": "[encoded data removed]"
          }
        }
      ],
      "source": [
        "plt.plot([4,3,2,1],'--o')"
      ],
      "id": "cell-48"
    },
    {
      "cell_type": "markdown",
      "metadata": {},
      "source": [
        "`-` 설정을 원래대로"
      ],
      "id": "c2c982f5-0fe5-4133-a8d7-4fe8a92a0238"
    },
    {
      "cell_type": "code",
      "execution_count": 78,
      "metadata": {},
      "outputs": [],
      "source": [
        "plt.rcdefaults()"
      ],
      "id": "cell-50"
    },
    {
      "cell_type": "code",
      "execution_count": 79,
      "metadata": {},
      "outputs": [
        {
          "output_type": "display_data",
          "metadata": {},
          "data": {
            "image/png": "[encoded data removed]"
          }
        }
      ],
      "source": [
        "plt.plot([4,3,2,1],'--o')"
      ],
      "id": "cell-51"
    },
    {
      "cell_type": "markdown",
      "metadata": {},
      "source": [
        "`#`\n",
        "\n",
        "`# 예제4` – 크기조정"
      ],
      "id": "a8f38a96-e7f8-437b-9620-715074d3267f"
    },
    {
      "cell_type": "code",
      "execution_count": 88,
      "metadata": {},
      "outputs": [],
      "source": [
        "class FigureSizeContext:\n",
        "    def __enter__(self):\n",
        "        def resize(w,h):\n",
        "            plt.rcParams['figure.figsize'] = [w, h] \n",
        "        return resize\n",
        "    def __exit__(self,*args):\n",
        "        plt.rcdefaults()"
      ],
      "id": "cell-54"
    },
    {
      "cell_type": "markdown",
      "metadata": {},
      "source": [
        "`-` 사용예시1"
      ],
      "id": "e920d26c-e260-4ac9-bc14-49a95e7f4bc6"
    },
    {
      "cell_type": "code",
      "execution_count": 92,
      "metadata": {},
      "outputs": [
        {
          "output_type": "display_data",
          "metadata": {},
          "data": {
            "image/png": "[encoded data removed]"
          }
        }
      ],
      "source": [
        "context_manager = FigureSizeContext()\n",
        "xxxx = context_manager.__enter__()\n",
        "xxxx(3,3)\n",
        "plt.plot([1,2,4,3],'--o')\n",
        "context_manager.__exit__()"
      ],
      "id": "cell-56"
    },
    {
      "cell_type": "code",
      "execution_count": 93,
      "metadata": {},
      "outputs": [
        {
          "output_type": "display_data",
          "metadata": {},
          "data": {
            "image/png": "[encoded data removed]"
          }
        }
      ],
      "source": [
        "plt.plot([1,2,4,3],'--o')"
      ],
      "id": "cell-57"
    },
    {
      "cell_type": "markdown",
      "metadata": {},
      "source": [
        "`-` 사용예시2"
      ],
      "id": "c0242d1a-525b-43d3-b2db-aa65f57f04d1"
    },
    {
      "cell_type": "code",
      "execution_count": 94,
      "metadata": {},
      "outputs": [
        {
          "output_type": "display_data",
          "metadata": {},
          "data": {
            "image/png": "[encoded data removed]"
          }
        }
      ],
      "source": [
        "with FigureSizeContext() as xxxx:\n",
        "    xxxx(3,3)\n",
        "    plt.plot([1,2,4,3],'--o')"
      ],
      "id": "cell-59"
    },
    {
      "cell_type": "code",
      "execution_count": 95,
      "metadata": {},
      "outputs": [
        {
          "output_type": "display_data",
          "metadata": {},
          "data": {
            "image/png": "[encoded data removed]"
          }
        }
      ],
      "source": [
        "plt.plot([1,2,4,3],'--o')"
      ],
      "id": "cell-60"
    },
    {
      "cell_type": "markdown",
      "metadata": {},
      "source": [
        "`-` 정리하면.. `with`는 아래와 같이 `as`와 함께 사용가능한데,\n",
        "\n",
        "``` python\n",
        "with context_manager as xxxx: \n",
        "    블라블라~\n",
        "    야디야디~\n",
        "```\n",
        "\n",
        "여기에서 `as`뒤의 xxxx 자리는 `context_manager.__enter__`의 리턴값이\n",
        "차지하게 된다.\n",
        "\n",
        "`#`\n",
        "\n",
        "`# 예제5` – 샌드위치생성기"
      ],
      "id": "58c15958-127a-4ed1-9823-d59e7ab10b77"
    },
    {
      "cell_type": "code",
      "execution_count": 128,
      "metadata": {},
      "outputs": [],
      "source": [
        "class 샌드위치생성기:\n",
        "    def __init__(self,빵=\"기본빵\"):\n",
        "        self.빵 = 빵\n",
        "        self.재료들 = []\n",
        "    def __enter__(self):\n",
        "        print(f\"---{self.빵}---\")\n",
        "        return self\n",
        "    def __exit__(self,*args):\n",
        "        print(f\"---{self.빵}---\")\n",
        "    def 재료추가하기(self,재료):\n",
        "        print(재료)\n",
        "        self.재료들.append(재료)"
      ],
      "id": "cell-64"
    },
    {
      "cell_type": "markdown",
      "metadata": {},
      "source": [
        "`-` 사용예시1"
      ],
      "id": "a7eee0dd-ddd1-4781-8443-b1e565062fe8"
    },
    {
      "cell_type": "code",
      "execution_count": 125,
      "metadata": {
        "scrolled": true
      },
      "outputs": [
        {
          "output_type": "stream",
          "name": "stdout",
          "text": [
            "---허니오트---\n",
            "양상추\n",
            "치즈\n",
            "베이컨\n",
            "오이\n",
            "---허니오트---"
          ]
        }
      ],
      "source": [
        "with 샌드위치생성기(빵=\"허니오트\") as 샌드위치:\n",
        "    샌드위치.재료추가하기(\"양상추\")\n",
        "    샌드위치.재료추가하기(\"치즈\")\n",
        "    샌드위치.재료추가하기(\"베이컨\")\n",
        "    샌드위치.재료추가하기(\"오이\")"
      ],
      "id": "cell-66"
    },
    {
      "cell_type": "code",
      "execution_count": 127,
      "metadata": {
        "scrolled": true
      },
      "outputs": [],
      "source": [
        "샌드위치.빵, 샌드위치.재료들"
      ],
      "id": "cell-67"
    },
    {
      "cell_type": "markdown",
      "metadata": {},
      "source": [
        "`-` 사용예시2"
      ],
      "id": "033d7a31-059c-4171-9d2b-31e782bbfd03"
    },
    {
      "cell_type": "code",
      "execution_count": 129,
      "metadata": {
        "scrolled": true
      },
      "outputs": [
        {
          "output_type": "stream",
          "name": "stdout",
          "text": [
            "---허니오트---\n",
            "토마토\n",
            "치즈\n",
            "베이컨\n",
            "에그마요\n",
            "---허니오트---"
          ]
        }
      ],
      "source": [
        "with 샌드위치생성기(빵=\"허니오트\") as 샌드위치:\n",
        "    샌드위치.재료추가하기(\"토마토\")\n",
        "    샌드위치.재료추가하기(\"치즈\")\n",
        "    샌드위치.재료추가하기(\"베이컨\")\n",
        "    샌드위치.재료추가하기(\"에그마요\")"
      ],
      "id": "cell-69"
    },
    {
      "cell_type": "code",
      "execution_count": 130,
      "metadata": {
        "scrolled": true
      },
      "outputs": [],
      "source": [
        "샌드위치.빵, 샌드위치.재료들"
      ],
      "id": "cell-70"
    },
    {
      "cell_type": "markdown",
      "metadata": {},
      "source": [
        "`-` 아래의 두 코드가 같은 효과를 가진다.\n",
        "\n",
        "``` python\n",
        "with 샌드위치생성기(빵=\"허니오트\") as 샌드위치:\n",
        "    샌드위치.재료추가하기(\"토마토\")\n",
        "    샌드위치.재료추가하기(\"치즈\")\n",
        "    샌드위치.재료추가하기(\"베이컨\")\n",
        "    샌드위치.재료추가하기(\"에그마요\")\n",
        "```\n",
        "\n",
        "``` python\n",
        "샌드위치 = 샌드위치생성기(빵=\"허니오트\")\n",
        "샌드위치 = 샌드위치.__enter__()\n",
        "샌드위치.재료추가하기(\"토마토\")\n",
        "샌드위치.재료추가하기(\"치즈\")\n",
        "샌드위치.재료추가하기(\"베이컨\")\n",
        "샌드위치.재료추가하기(\"에그마요\")\n",
        "샌드위치.__exit__()\n",
        "```\n",
        "\n",
        "`-` 따라서 `__enter__` 가 `self`를 리턴하는 경우에는\n",
        "`with 샌드위치생성기(빵=\"허니오트\") as 샌드위치` 이 부분을 해석할때\n",
        "“`샌드위치생성기(빵=\"허니오트\")` 코드의 실행결과 만들어지는 오브젝트를\n",
        "`샌드위치`로 저장”한다고 해석해도 무리가 없다.\n",
        "\n",
        "`#`\n",
        "\n",
        "`# 예제6`\n",
        "\n",
        "`-` `example.txt` 를 만들고 “asdf” 라는 글자를 넣는 파이썬코드"
      ],
      "id": "1bbc7d10-259e-4aa3-979d-1caa97a4eb85"
    },
    {
      "cell_type": "code",
      "execution_count": 136,
      "metadata": {},
      "outputs": [],
      "source": [
        "with open(\"example.txt\",\"w\") as file: \n",
        "    # 대충해석: open(\"example.txt\",\"w\") 을 실행하여 나오는 오브젝트를 file로 받음 \n",
        "    # 더 엄밀한 해석: \n",
        "    # open(\"example.txt\",\"w\") 을 실행하여 나오는 오브젝트를 ???라고 하자. \n",
        "    # 그런데 ??? 에는 `__enter__`가 있을텐데, 그 `__enter__`를 실행하여 나오는 오브젝트를 \n",
        "    # file로 받음.\n",
        "    file.write(\"asdf\")    "
      ],
      "id": "cell-78"
    },
    {
      "cell_type": "markdown",
      "metadata": {},
      "source": [
        "`-` 분석하기: “대충해석”으로 해석해도 되는지 체크"
      ],
      "id": "653b9940-449f-4199-a175-52eabbd9cc9e"
    },
    {
      "cell_type": "code",
      "execution_count": 137,
      "metadata": {},
      "outputs": [],
      "source": [
        "file"
      ],
      "id": "cell-80"
    },
    {
      "cell_type": "code",
      "execution_count": 138,
      "metadata": {},
      "outputs": [],
      "source": [
        "context_manager = open(\"example.txt\",\"w\")\n",
        "file = context_manager.__enter__()"
      ],
      "id": "cell-81"
    },
    {
      "cell_type": "code",
      "execution_count": 139,
      "metadata": {},
      "outputs": [],
      "source": [
        "type(context_manager), type(file)"
      ],
      "id": "cell-82"
    },
    {
      "cell_type": "markdown",
      "metadata": {},
      "source": [
        "`-` 분석하기2: `__enter__` 가 `self`를 리턴하는지 보자"
      ],
      "id": "be2fbbc6-c739-44c9-b601-02bc21577e10"
    },
    {
      "cell_type": "code",
      "execution_count": 142,
      "metadata": {},
      "outputs": [],
      "source": [
        "context_manager.__enter__??\n",
        "# 코드를 볼 수 없음... -- 아쉬움.."
      ],
      "id": "cell-84"
    },
    {
      "cell_type": "markdown",
      "metadata": {},
      "source": [
        "`#`\n",
        "\n",
        "`# 예제7`\n",
        "\n",
        "`-` `example.txt` 파일을 `example.tar.gz`로 압축하는 코드"
      ],
      "id": "10012002-53e4-4ffc-b77d-fbf0a3268d96"
    },
    {
      "cell_type": "code",
      "execution_count": 145,
      "metadata": {},
      "outputs": [],
      "source": [
        "with tarfile.open(\"example.tar.gz\",\"w:gz\") as tar:\n",
        "    tar.add(\"example.txt\", arcname=\"example.txt\")"
      ],
      "id": "cell-88"
    },
    {
      "cell_type": "markdown",
      "metadata": {},
      "source": [
        "`-` 분석하기"
      ],
      "id": "b3f2ddc1-32b9-4e98-987b-b4132c561786"
    },
    {
      "cell_type": "code",
      "execution_count": 147,
      "metadata": {},
      "outputs": [],
      "source": [
        "context_manager = tarfile.open(\"example.tar.gz\",\"w:gz\")\n",
        "tar = context_manager.__enter__()\n",
        "type(context_manager), type(tar)"
      ],
      "id": "cell-90"
    },
    {
      "cell_type": "markdown",
      "metadata": {},
      "source": [
        "-   `context_manager.__enter__()` 는 `self`를 리턴하는듯함\n",
        "\n",
        "`-` 분석하기2: `__enter__` 가 `self`를 리턴하는지 보자"
      ],
      "id": "7a6a2ae4-4489-482c-b509-eecd79569a25"
    },
    {
      "cell_type": "code",
      "execution_count": 148,
      "metadata": {},
      "outputs": [],
      "source": [
        "tar.__enter__??"
      ],
      "id": "cell-93"
    },
    {
      "cell_type": "markdown",
      "metadata": {},
      "source": [
        "`#`"
      ],
      "id": "b63d8e5d-e653-4838-a44d-3a087dc7e2d8"
    }
  ],
  "nbformat": 4,
  "nbformat_minor": 5,
  "metadata": {
    "kernelspec": {
      "name": "python3",
      "display_name": "Python 3 (ipykernel)",
      "language": "python"
    },
    "language_info": {
      "name": "python",
      "codemirror_mode": {
        "name": "ipython",
        "version": "3"
      },
      "file_extension": ".py",
      "mimetype": "text/x-python",
      "nbconvert_exporter": "python",
      "pygments_lexer": "ipython3",
      "version": "3.12.2"
    }
  }
}