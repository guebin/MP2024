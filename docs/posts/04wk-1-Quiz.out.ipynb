{
  "cells": [
    {
      "cell_type": "markdown",
      "metadata": {},
      "source": [
        "# 04wk-1: Quiz\n",
        "\n",
        "최규빈  \n",
        "2024-09-24\n",
        "\n",
        "<a href=\"https://colab.research.google.com/github/guebin/MP2024/blob/main/posts/04wk-1-Quiz.ipynb\"><img src=\"https://colab.research.google.com/assets/colab-badge.svg\" style=\"text-align: left\"></a>\n",
        "\n",
        "| **항목**           | **허용 여부** | **비고**                                                 |\n",
        "|------------------|-----------------|-------------------------------------|\n",
        "| **강의노트 참고**  | 허용          | 수업 중 제공된 강의노트나 본인이 정리한 자료를 참고 가능 |\n",
        "| **구글 검색**      | 허용          | 인터넷을 통한 자료 검색 및 정보 확인 가능                |\n",
        "| **생성 모형 사용** | 허용 안함     | 인공지능 기반 도구(GPT 등) 사용 불가                     |"
      ],
      "id": "856b9f7e-d6aa-494f-8d41-80fd19859f77"
    },
    {
      "cell_type": "code",
      "execution_count": 1,
      "metadata": {},
      "outputs": [],
      "source": [
        "# pip install datasets evaluate accelerate"
      ],
      "id": "afc188c7"
    },
    {
      "cell_type": "markdown",
      "metadata": {},
      "source": [
        "# `1`. `emotion` 자료 탐색 – 10점\n",
        "\n",
        "> (1)-(2) 모두 부분점수 없음.\n",
        "\n",
        "아래는 Hugging Face의 `emotion` 데이터셋을 로드하는 코드이다:"
      ],
      "id": "ef15a0f3-e1bd-416c-a8de-0f31cbd32353"
    },
    {
      "cell_type": "code",
      "execution_count": 59,
      "metadata": {},
      "outputs": [],
      "source": [
        "from datasets import load_dataset\n",
        "emotion = load_dataset('emotion')"
      ],
      "id": "1b9d2926-1bab-4922-8cce-dbac3f8ddcc0"
    },
    {
      "cell_type": "markdown",
      "metadata": {},
      "source": [
        "`emotion['train'][-2]`는 훈련 데이터의 두 번째 마지막 항목을 출력한다.\n",
        "출력된 샘플은 다음과 같다."
      ],
      "id": "6cea7bd2-15e4-49e9-8f25-4bb2d83645d0"
    },
    {
      "cell_type": "code",
      "execution_count": 227,
      "metadata": {},
      "outputs": [],
      "source": [
        "emotion['train'][-2]"
      ],
      "id": "cebb76be-9552-4d9f-bc2d-896fa052a877"
    },
    {
      "cell_type": "markdown",
      "metadata": {},
      "source": [
        "출력된 샘플은 딕셔너리 형식으로, text에는 문장 “i feel like this was\n",
        "such a rude comment and im glad that t”이 담겨 있다. 이 문장의 감정은\n",
        "label 항목에 저장되어 있으며, 값은 3으로 나타난다. label 값은 해당\n",
        "텍스트가 표현하는 감정을 숫자로 표현한 것이다.\n",
        "\n",
        "감정 레이블은 총 6가지로 나뉘며, 각각의 감정은 다음과 같이 정의된다:"
      ],
      "id": "07e1c187-f54a-4a1c-8838-faf8b75abd18"
    },
    {
      "cell_type": "code",
      "execution_count": 235,
      "metadata": {},
      "outputs": [],
      "source": [
        "emotion['train'].features['label'].names"
      ],
      "id": "e39e7b5d-8bde-4bc3-b536-cfd606cb278e"
    },
    {
      "cell_type": "code",
      "execution_count": 236,
      "metadata": {},
      "outputs": [],
      "source": [
        "{\n",
        "  0: 'sadness',\n",
        "  1: 'joy',\n",
        "  2: 'love',\n",
        "  3: 'anger',\n",
        "  4: 'fear',\n",
        "  5: 'surprise'\n",
        "}"
      ],
      "id": "ee94057f-7696-4525-8933-9dde24abea19"
    },
    {
      "cell_type": "markdown",
      "metadata": {},
      "source": [
        "따라서, 문장 “i feel like this was such a rude comment and im glad that\n",
        "t” 의 감정은 `label`이 3이므로, “anger”에 해당한다.\n",
        "\n",
        "`(1)` `emotion` 데이터셋의 각 분할(train, validation, test)에서 감정별로\n",
        "몇 개의 데이터가 있는지를 조사하라. 즉 아래의 표에서 빈칸에 해당하는\n",
        "숫자를 계산할 수 있는 코드를 제시하라. – 5점\n",
        "\n",
        "| Dataset    | 0:Sadness | 1:Joy | 2:Love | 3:Anger | 4:Fear | 5:Surprise | Total |\n",
        "|------------|-----------|-------|--------|---------|--------|------------|-------|\n",
        "| Train      | ??        | ??    | ??     | ??      | ??     | ??         | 16000 |\n",
        "| Validation | ??        | ??    | ??     | ??      | ??     | ??         | 2000  |\n",
        "| Test       | ??        | ??    | ??     | ??      | ??     | ??         | 2000  |\n",
        "\n",
        "**note:** 정답예시: 아래와 같은 형식으로 출력하는 코드를 작성하면\n",
        "정답으로 인정\n",
        "\n",
        "    train\n",
        "    {0: 4666, 1: 5362, 2: 1304, 3: 2159, 4: 1937, 5: 572}\n",
        "    --\n",
        "    validation\n",
        "    {0: 550, 1: 704, 2: 178, 3: 275, 4: 212, 5: 81}\n",
        "    --\n",
        "    test\n",
        "    {0: 581, 1: 695, 2: 159, 3: 275, 4: 224, 5: 66}\n",
        "    --\n",
        "\n",
        "**hint**: 아래중 원하는 형태를 이용하여 풀이하면 편리하다.\n",
        "\n",
        "-   `emotion['train']['label']`\n",
        "-   `emotion['train'].to_dict()`\n",
        "-   `emotion['train'].to_pandas()`\n",
        "\n",
        "`(2)` `emotion` 데이터셋의 `test`셋에서 각 감정(label)별로 가장 짧은\n",
        "길이를 가진 텍스트를 출력하는 코드를 작성하라. – 5점\n",
        "\n",
        "**note**: 정답예시는 아래와 같다.\n",
        "\n",
        "    ['i feels so lame',\n",
        "     'i feel any better',\n",
        "     'i just feel tender',\n",
        "     'i feel so damn agitated',\n",
        "     'i feel alarmed',\n",
        "     'i feel all funny sometimes']\n",
        "\n",
        "# `2`. `emotion` 자료 감성분석 – 80점\n",
        "\n",
        "> (1)은 부분점수 있음, (2)는 부분점수 없음.\n",
        "\n",
        "`(1)` 아래의 reference 를 참고하여 `emotion`에 대한 감성분석모델을\n",
        "학습하는 코드를 작성하라. – 60점\n",
        "\n",
        "ref:\n",
        "\n",
        "-   <https://guebin.github.io/MP2024/posts/02wk-1.html>\n",
        "-   <https://huggingface.co/docs/transformers/tasks/sequence_classification>\n",
        "\n",
        "**세부지침** – 세부지침을 따르지 않을시 감점이 있음 (지침1은 30점감점\n",
        "지침2는 5점감점)\n",
        "\n",
        "`지침1`. `Trainer`생성시 `eval_dataset`에는 `emotion['validation']`를\n",
        "전처리한 데이터를 이용하라. (`emotion['test']` 가 아니라)\n",
        "\n",
        "`지침2`. `TrainingArguments`에서 `num_train_epochs`은 1로 설정하라.\n",
        "\n",
        "**hint**: `imdb` 자료의 경우 `num_labels = 2` 이지만, `emotion` 자료의\n",
        "경우 그렇지 않음을 유의하라.\n",
        "\n",
        "`(2)` `1-(2)`에서 구해진 text에 대하여 감성분석을 수행하라. – 20점\n",
        "\n",
        "**힌트** `1-(2)`를 풀지못하였다면 아래의 코드를 이용하여 강제설정할 것\n",
        "\n",
        "``` python\n",
        "['i feels so lame',\n",
        " 'i feel any better',\n",
        " 'i just feel tender',\n",
        " 'i feel so damn agitated',\n",
        " 'i feel alarmed',\n",
        " 'i feel all funny sometimes']\n",
        "```\n",
        "\n",
        "# `3`. O/X. – 10점\n",
        "\n",
        "> 모두 맞출경우만 정답으로 인정\n",
        "\n",
        "아래의 제시문을 읽고 올바르게 해석한 사람을 모두 고르라.\n",
        "\n",
        "> **Note**\n",
        ">\n",
        "> 나는 50,000개의 “텍스트-라벨” 데이터를 인공지능에게 학습시켰다. 학습이\n",
        "> 끝난 후, 50,000개의 데이터 중 20개의 샘플을 무작위로 뽑아 테스트한\n",
        "> 결과, 인공지능은 20개의 텍스트에 대한 라벨을 모두 정확히 맞췄다. 이\n",
        "> 결과만으로 인공지능이 영화 리뷰에 대한 감성 분석(긍정/부정)을\n",
        "> 성공적으로 학습했다고 결론을 내려도 될까?\n",
        "\n",
        "`민지`: 제시문에 따르면 50,000개의 훈련 데이터를 사용하여 인공지능을\n",
        "학습시켰으니, `train_data`의 크기는 50,000이라고 볼 수 있어.\n",
        "\n",
        "`하니`: 50,000개의 데이터 중 일부를 무작위로 샘플링하여 평가하는 것은\n",
        "올바른 방법이 아니야. 학습에 사용되지 않은 별도의 테스트 데이터를 사용해\n",
        "성능을 평가해야 인공지능이 제대로 학습했는지 알 수 있어.\n",
        "\n",
        "`다니엘`: 하니의 말이 맞아. 50,000개의 데이터 중 20개를 샘플링한 게\n",
        "아니라, 50,000개의 데이터를 모두 올바르게 맞췄다고 하더라도, 새로운\n",
        "데이터에 대해 성능이 좋다고 단정할 수는 없어. 중요한 건 새로운 데이터에\n",
        "대한 예측 성능이지.\n",
        "\n",
        "`해린`: 맞아, 훈련 데이터 (=학습 데이터) 를 너무 반복해서 학습하다 보면,\n",
        "인공지능이 그 데이터에만 지나치게 맞춰져서 새로운 데이터를 잘 처리하지\n",
        "못할 수 있어. 결국 모델이 학습 데이터에서는 좋은 성능을 내지만, 학습하지\n",
        "않은 데이터나 실제 환경에서는 성능이 떨어질 위험이 생기는 거야.”\n",
        "\n",
        "`혜인`: 그렇구나! 그래서 50,000개의 데이터가 있더라도, 그 중 일부만\n",
        "학습에 사용하고, 나머지는 평가용으로 따로 남겨두기도 하는 거네. 이렇게\n",
        "하면 인공지능이 새로운 데이터에서도 잘 작동하는지, 성능을 확인할 수 있는\n",
        "거잖아?"
      ],
      "id": "92b33640-aea1-42ba-82d2-61aa83ef1332"
    }
  ],
  "nbformat": 4,
  "nbformat_minor": 5,
  "metadata": {
    "kernelspec": {
      "name": "python3",
      "display_name": "hf",
      "language": "python"
    },
    "language_info": {
      "name": "python",
      "codemirror_mode": {
        "name": "ipython",
        "version": "3"
      },
      "file_extension": ".py",
      "mimetype": "text/x-python",
      "nbconvert_exporter": "python",
      "pygments_lexer": "ipython3",
      "version": "3.12.4"
    }
  }
}