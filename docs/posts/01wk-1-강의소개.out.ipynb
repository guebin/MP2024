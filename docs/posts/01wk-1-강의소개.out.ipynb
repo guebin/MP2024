{
  "cells": [
    {
      "cell_type": "markdown",
      "metadata": {},
      "source": [
        "# 01wk-1: 강의소개\n",
        "\n",
        "최규빈  \n",
        "2024-09-03\n",
        "\n",
        "# 1. 강의영상\n",
        "\n",
        "<https://youtu.be/playlist?list=PLQqh36zP38-y_Wv9ErIPPdZwrxdTrerUM&si=lJFCcFxkqf2tKh_c>\n",
        "\n",
        "# 2. 이 수업을 들어야 하는 이유"
      ],
      "id": "4ef079ff-8c55-467e-924d-91c3adac087d"
    },
    {
      "cell_type": "code",
      "execution_count": 1,
      "metadata": {},
      "outputs": [],
      "source": [
        "pass"
      ],
      "id": "cell-4"
    },
    {
      "cell_type": "markdown",
      "metadata": {},
      "source": [
        "# 3. 이 수업을 듣지 말아야 하는 이유\n",
        "\n",
        "`1`. F학점을 줄 수 있음.\n",
        "\n",
        "-   모든 퀴즈를 보더라도 성적미달시 F학점 부여\n",
        "-   졸업이 임박한 경우 수강을 권장하지 않음\n",
        "\n",
        "`2`. 플립러닝\n",
        "\n",
        "-   수업은 비대면수업으로 진행하며, 수업 시간에는 퀴즈를 봄.\n",
        "-   대면 수업에 익숙하고 비대면 수업에 익숙하지 않은 학생들의 경우\n",
        "    수강을 권장하지 않음.\n",
        "-   매주 진행되는 퀴즈가 부담스러운 학생은 수강을 권장하지 않음.\n",
        "\n",
        "`3`. 기계학습, 기계학습활용\n",
        "\n",
        "-   기계학습활용: 이론적인 설명을 최소화하고, 실습 및 활용에 중점을 둔\n",
        "    수업\n",
        "-   기계학습: 이론과 실습을 같이 배우는 수업\n",
        "-   기계학습활용과 기계학습은 선수과목관계가 아니며, 기계학습활용을 듣지\n",
        "    않고도 기계학습을 이해하는데 문제가 없음.\n",
        "\n",
        "`4`. 잘하는 사람들이 많다.\n",
        "\n",
        "-   통계학과 고학년, 타학과 고수들\n",
        "\n",
        "`5`. 학점이 짜다.\n",
        "\n",
        "-   짜게 느껴진다가 더 정확한 표현같아요\n",
        "\n",
        "`6`. 파이썬문법이 선행되어야 함.\n",
        "\n",
        "-   리스트를 만드는 방법, numpy array가 무엇인지, colab 사용방법 등을\n",
        "    설명하지 않음.\n",
        "\n",
        "`7`. cost-effective 하지 않다.\n",
        "\n",
        "-   여러가지 이유로..\n",
        "-   이 교과목을 위해서 너무 많은 노력을 해야한다면 드랍하는 것이 좋다고\n",
        "    생각함.\n",
        "\n",
        "# 4. 학점산정방식\n",
        "\n",
        "`-` 강의계획서: 중간40, 기말40, 출석10, 과제10\n",
        "\n",
        "`-` 실제운영: 퀴즈90, 과제10\n",
        "\n",
        "-   매주 퀴즈를 보므로 출석은 퀴즈에 포함\n",
        "-   중간/기말 대신 매주 퀴즈로 평가하므로 중간/기말 점수도 퀴즈에\n",
        "    포함된다고 볼 수 있음."
      ],
      "id": "1b8e2ea5-42e7-4b76-b895-e7afbf4cbe67"
    }
  ],
  "nbformat": 4,
  "nbformat_minor": 5,
  "metadata": {
    "kernelspec": {
      "name": "python3",
      "display_name": "hf",
      "language": "python"
    },
    "language_info": {
      "name": "python",
      "codemirror_mode": {
        "name": "ipython",
        "version": "3"
      },
      "file_extension": ".py",
      "mimetype": "text/x-python",
      "nbconvert_exporter": "python",
      "pygments_lexer": "ipython3",
      "version": "3.12.4"
    }
  }
}