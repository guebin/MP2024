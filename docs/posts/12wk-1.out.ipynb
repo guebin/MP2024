{
  "cells": [
    {
      "cell_type": "markdown",
      "metadata": {},
      "source": [
        "# 12wk-1: 선인장 이미지 분류\n",
        "\n",
        "최규빈  \n",
        "2024-12-03\n",
        "\n",
        "<a href=\"https://colab.research.google.com/github/guebin/MP2024/blob/main/posts/12wk-1.ipynb\"><img src=\"https://colab.research.google.com/assets/colab-badge.svg\" style=\"text-align: left\"></a>\n",
        "\n",
        "# 1. 강의영상\n",
        "\n",
        "<https://youtu.be/playlist?list=PLQqh36zP38-z5Wh8S9Whc_lGehzJvMSit&si=BcmhgMK95Gadjbfl>\n",
        "\n",
        "# 2. imports"
      ],
      "id": "f37da149-0418-4a07-ba12-9dd62cf813eb"
    },
    {
      "cell_type": "code",
      "execution_count": 1,
      "metadata": {},
      "outputs": [
        {
          "output_type": "stream",
          "name": "stderr",
          "text": [
            "/home/cgb3/anaconda3/envs/hf/lib/python3.12/site-packages/tqdm/auto.py:21: TqdmWarning: IProgress not found. Please update jupyter and ipywidgets. See https://ipywidgets.readthedocs.io/en/stable/user_install.html\n",
            "  from .autonotebook import tqdm as notebook_tqdm"
          ]
        }
      ],
      "source": [
        "import numpy as np\n",
        "import pandas as pd \n",
        "import zipfile\n",
        "import os\n",
        "import PIL.Image\n",
        "import matplotlib.pyplot as plt\n",
        "#---#\n",
        "import datasets\n",
        "import transformers\n",
        "import torchvision.transforms\n",
        "import evaluate\n",
        "import torch"
      ],
      "id": "cell-5"
    },
    {
      "cell_type": "markdown",
      "metadata": {},
      "source": [
        "# 3. Kaggle\n",
        "\n",
        "## A. ref\n",
        "\n",
        "ref: <https://www.kaggle.com/c/aerial-cactus-identification>\n",
        "\n",
        "## B. 압축해제"
      ],
      "id": "291ddfaf-a284-425f-88a1-7767a245d8c2"
    },
    {
      "cell_type": "code",
      "execution_count": 2,
      "metadata": {},
      "outputs": [],
      "source": [
        "with zipfile.ZipFile('aerial-cactus-identification.zip', 'r') as z:\n",
        "    z.extractall('./data')"
      ],
      "id": "cell-10"
    },
    {
      "cell_type": "code",
      "execution_count": 3,
      "metadata": {},
      "outputs": [],
      "source": [
        "with zipfile.ZipFile('./data/test.zip', 'r') as z_test:\n",
        "    z_test.extractall('./data')    \n",
        "with zipfile.ZipFile('./data/train.zip', 'r') as z_train:\n",
        "    z_train.extractall('./data')"
      ],
      "id": "cell-11"
    },
    {
      "cell_type": "markdown",
      "metadata": {},
      "source": [
        "## C. 데이터 살펴보기"
      ],
      "id": "80a1c8ea-d50c-40f5-9c33-bbb42d5bd68b"
    },
    {
      "cell_type": "code",
      "execution_count": 4,
      "metadata": {},
      "outputs": [],
      "source": [
        "train_csv = pd.read_csv(\"./data/train.csv\")\n",
        "train_csv"
      ],
      "id": "cell-13"
    },
    {
      "cell_type": "markdown",
      "metadata": {},
      "source": [
        "-   train에는 이미지에 해당하는 라벨이 존재"
      ],
      "id": "fd76e43c-6154-4639-a979-1184e072c0a5"
    },
    {
      "cell_type": "code",
      "execution_count": 5,
      "metadata": {},
      "outputs": [],
      "source": [
        "test_csv = pd.read_csv(\"./data/sample_submission.csv\")\n",
        "test_csv"
      ],
      "id": "cell-15"
    },
    {
      "cell_type": "markdown",
      "metadata": {},
      "source": [
        "-   test에는 이미지에 해당하는 라벨이 존재하지 않음.\n",
        "-   우리의 목표: 확률값을 잘 추정해서 `sample_submission`의\n",
        "    `has_cactus`열에 대입하고 그 결과를 캐글에 제출\n",
        "\n",
        "# 4. Logits의 이해\n",
        "\n",
        "## A. 로짓의 의미\n",
        "\n",
        "`-` 로짓의 이해: 클래스가 2개인 자료에 대한 분류문제를 푼다고 하자.\n",
        "8개의 observation/examples 에 대한 로짓값이 아래와 같다고 하자."
      ],
      "id": "319dbf9a-fe63-4b07-bc11-1de80afeba1f"
    },
    {
      "cell_type": "code",
      "execution_count": 6,
      "metadata": {},
      "outputs": [],
      "source": [
        "logits = np.array(\n",
        "    [[ 2.7346244, -3.1177292],\n",
        "     [ 2.7103324, -3.1362345],\n",
        "     [ 2.7464483, -3.0521457],\n",
        "     [ 2.7195318, -3.122628 ],\n",
        "     [ 2.7138977, -3.1041346],\n",
        "     [ 2.7398622, -3.1098123],\n",
        "     [ 0.0657177, -0.0930362],\n",
        "     [-2.7668718,  3.0918367]]\n",
        ")\n",
        "logits"
      ],
      "id": "cell-20"
    },
    {
      "cell_type": "markdown",
      "metadata": {},
      "source": [
        "로짓값은 일반적으로 $(n,k)$의 차원을 가지며 여기에서 $n$은 observation의\n",
        "숫자, $k$는 클래스의 숫자를 의미한다. 이 예제의 경우는 $n=8$, $k=2$인\n",
        "경우이다.\n",
        "\n",
        "여기에서 각 observation에 대한 로짓값이 의미하는 바를 살펴보면 아래와\n",
        "같다.\n",
        "\n",
        "1.  첫 번째 관측값 (`[2.7346244, -3.1177292]`):\n",
        "\n",
        "-   첫 번째 클래스에 대한 확신 정도: `2.7346244`\n",
        "-   두 번째 클래스에 대한 확신 정도: `-3.1177292`\n",
        "\n",
        "1.  두 번째 관측값 (`[2.7103324,  -3.1362345]`):\n",
        "\n",
        "-   첫 번째 클래스에 대한 확신 정도: `2.7103324`\n",
        "-   두 번째 클래스에 대한 확신 정도: `-3.1362345`\n",
        "\n",
        "…\n",
        "\n",
        "1.  마지막에서 두번째 관측값 (\\[`0.0657177`, `-0.0930362`\\]):\n",
        "\n",
        "-   첫 번째 클래스에 대한 확신 정도: `0.0657177`\n",
        "-   두 번째 클래스에 대한 확신 정도: `-0.0930362`\n",
        "\n",
        "1.  마지막 관측값 (\\[`-2.7668718`, `3.0918367`\\]):\n",
        "\n",
        "-   첫 번째 클래스에 대한 확신 정도: `-2.7668718`\n",
        "-   두 번째 클래스에 대한 확신 정도: `3.0918367`\n",
        "\n",
        "## B. 로짓 $\\to$ 예측클래스\n",
        "\n",
        "`-` 로짓 $\\to$ 예측클래스의 과정을 살펴보자.\n",
        "\n",
        "1.  첫 번째 관측값: $2.7346244 > -3.1177292$ $\\Rightarrow$ 첫 번째\n",
        "    클래스로 예측\n",
        "\n",
        "2.  두 번째 관측값: $2.7103324 > -3.1362345$ $\\Rightarrow$ 첫 번째\n",
        "    클래스로 예측\n",
        "\n",
        "…\n",
        "\n",
        "1.  마지막에서 두번째 관측값: $0.0657177 > -0.0930362$ $\\Rightarrow$ 첫\n",
        "    번째 클래스로 예측\n",
        "\n",
        "2.  마지막 관측값: $-2.7668718 < 3.0918367$ $\\Rightarrow$ 두 번째\n",
        "    클래스로 예측"
      ],
      "id": "d76c628b-a39e-4c15-bdce-4160dca7a42e"
    },
    {
      "cell_type": "code",
      "execution_count": 7,
      "metadata": {},
      "outputs": [],
      "source": [
        "logits"
      ],
      "id": "cell-26"
    },
    {
      "cell_type": "code",
      "execution_count": 8,
      "metadata": {},
      "outputs": [
        {
          "output_type": "stream",
          "name": "stdout",
          "text": [
            "0\n",
            "0\n",
            "0\n",
            "0\n",
            "0\n",
            "0\n",
            "0\n",
            "1"
          ]
        }
      ],
      "source": [
        "for u in logits:\n",
        "    u1, u2 = u \n",
        "    if u1 > u2: \n",
        "        prediction = 0 \n",
        "    else: \n",
        "        prediction = 1 \n",
        "    print(prediction)"
      ],
      "id": "cell-27"
    },
    {
      "cell_type": "markdown",
      "metadata": {},
      "source": [
        "`-` 이것은 아래를 이용하여 구할수도 있다."
      ],
      "id": "0892ba24-6649-4fc3-9d8d-16ec76ce5f94"
    },
    {
      "cell_type": "code",
      "execution_count": 9,
      "metadata": {},
      "outputs": [],
      "source": [
        "logits.argmax(axis=1)"
      ],
      "id": "cell-29"
    },
    {
      "cell_type": "markdown",
      "metadata": {},
      "source": [
        "## C. 로짓 $\\to$ 예측확률\n",
        "\n",
        "`-` 로짓 $\\to$ 예측확률의 과정을 살펴보자.\n",
        "\n",
        "${\\boldsymbol u}=\\begin{bmatrix} u_1 & \\dots & u_k\\end{bmatrix}$를\n",
        "고정된 observation에 대한 logits값 이라고 하자. 이때 각 클래스에 속할\n",
        "확률값은 아래와 같이 구한다.\n",
        "\n",
        "$$\\text{prob} =\\left[\\frac{\\exp(u_1)}{\\exp(u_1)+\\dots+\\exp(u_k)}, \\cdots,  \\frac{\\exp(u_k)}{\\exp(u_1)+\\dots+\\exp(u_k)}\\right]$$"
      ],
      "id": "3d24147d-e3f9-44ef-9f41-cc6c2f48577d"
    },
    {
      "cell_type": "code",
      "execution_count": 10,
      "metadata": {},
      "outputs": [],
      "source": [
        "logits"
      ],
      "id": "cell-33"
    },
    {
      "cell_type": "code",
      "execution_count": 11,
      "metadata": {},
      "outputs": [
        {
          "output_type": "stream",
          "name": "stdout",
          "text": [
            "[0.9971351022231982, 0.0028648977768018545]\n",
            "[0.9971185237682113, 0.0028814762317887605]\n",
            "[0.9969773496339113, 0.0030226503660887583]\n",
            "[0.9971058336243687, 0.0028941663756314024]\n",
            "[0.997035364944602, 0.0029646350553980375]\n",
            "[0.9971274386623321, 0.002872561337667959]\n",
            "[0.5396053294830294, 0.4603946705169706]\n",
            "[0.0028468010295870897, 0.997153198970413]"
          ]
        }
      ],
      "source": [
        "for u in logits:\n",
        "    u1,u2 = u\n",
        "    p1 = np.exp(u1) / (np.exp(u1)+np.exp(u2))\n",
        "    p2 = np.exp(u2) / (np.exp(u1)+np.exp(u2))\n",
        "    prediction_scores = [p1,p2]\n",
        "    print(prediction_scores)"
      ],
      "id": "cell-34"
    },
    {
      "cell_type": "markdown",
      "metadata": {},
      "source": [
        "`-` 이 확률은 아래를 통하여 구할수도 있다."
      ],
      "id": "735b2417-d64d-40e6-b234-0f79f74fd21a"
    },
    {
      "cell_type": "code",
      "execution_count": 12,
      "metadata": {},
      "outputs": [],
      "source": [
        "torch.tensor(logits).softmax(dim=1)"
      ],
      "id": "cell-36"
    },
    {
      "cell_type": "markdown",
      "metadata": {},
      "source": [
        "# 5. 평가지표\n",
        "\n",
        "## A. accuracy 계산\n",
        "\n",
        "`-` accuracy의 계산: `logits`와 `labels`가 아래와 같이 주어졌다고 하자."
      ],
      "id": "aa119c92-51d7-4f7a-a10d-b917fd48daeb"
    },
    {
      "cell_type": "code",
      "execution_count": 13,
      "metadata": {},
      "outputs": [],
      "source": [
        "logits = np.array(\n",
        "    [[ 2.7346244, -3.1177292],\n",
        "     [ 2.7103324, -3.1362345],\n",
        "     [ 2.7464483, -3.0521457],\n",
        "     [ 2.7195318, -3.122628 ],\n",
        "     [ 2.7138977, -3.1041346],\n",
        "     [ 2.7398622, -3.1098123],\n",
        "     [ 0.0657177, -0.0930362],\n",
        "     [-2.7668718,  3.0918367]]\n",
        ")\n",
        "references = labels = np.array([0,0,0,0,0,0,1,1])"
      ],
      "id": "cell-40"
    },
    {
      "cell_type": "code",
      "execution_count": 14,
      "metadata": {},
      "outputs": [],
      "source": [
        "predictions = logits.argmax(axis=1)\n",
        "predictions"
      ],
      "id": "cell-41"
    },
    {
      "cell_type": "code",
      "execution_count": 15,
      "metadata": {},
      "outputs": [],
      "source": [
        "references"
      ],
      "id": "cell-42"
    },
    {
      "cell_type": "markdown",
      "metadata": {},
      "source": [
        "accuracy는 아래와 같이 계산할 수 있다."
      ],
      "id": "46bbdfd9-527b-474b-8ba3-aba0266b9186"
    },
    {
      "cell_type": "code",
      "execution_count": 16,
      "metadata": {},
      "outputs": [],
      "source": [
        "7/8"
      ],
      "id": "cell-44"
    },
    {
      "cell_type": "code",
      "execution_count": 17,
      "metadata": {},
      "outputs": [],
      "source": [
        "(predictions == references).sum() / 8"
      ],
      "id": "cell-45"
    },
    {
      "cell_type": "code",
      "execution_count": 18,
      "metadata": {},
      "outputs": [],
      "source": [
        "(predictions == references).mean()"
      ],
      "id": "cell-46"
    },
    {
      "cell_type": "markdown",
      "metadata": {},
      "source": [
        "이걸 아래와 같이 계산할 수도 있다."
      ],
      "id": "821b7738-e02a-4c13-8b4a-c55c5470463b"
    },
    {
      "cell_type": "code",
      "execution_count": 19,
      "metadata": {},
      "outputs": [],
      "source": [
        "acc = evaluate.load(\"accuracy\")\n",
        "acc.compute(predictions = predictions, references= references)"
      ],
      "id": "cell-48"
    },
    {
      "cell_type": "markdown",
      "metadata": {},
      "source": [
        "## B. recall 계산\n",
        "\n",
        "`-` 경우에 따라서 1을 얼마나 더 잘맞추는지 알고 싶은 경우도 있다.\n",
        "\n",
        "$$\\text{recall}= \\frac{\\text{실제 라벨이 1인 관측치 중 올바르게 예측된 관측치수}}{\\text{실제 라벨이 1인 관측치 수}}$$"
      ],
      "id": "e456a92b-2768-47b6-bc09-d1c9853b4225"
    },
    {
      "cell_type": "code",
      "execution_count": 20,
      "metadata": {},
      "outputs": [],
      "source": [
        "logits = np.array(\n",
        "    [[ 2.7346244, -3.1177292],\n",
        "     [ 2.7103324, -3.1362345],\n",
        "     [ 2.7464483, -3.0521457],\n",
        "     [ 2.7195318, -3.122628 ],\n",
        "     [ 2.7138977, -3.1041346],\n",
        "     [ 2.7398622, -3.1098123],\n",
        "     [ 0.0657177, -0.0930362],\n",
        "     [-2.7668718,  3.0918367]]\n",
        ")\n",
        "references = labels = np.array([0,0,0,0,0,0,1,1])"
      ],
      "id": "cell-51"
    },
    {
      "cell_type": "code",
      "execution_count": 21,
      "metadata": {},
      "outputs": [],
      "source": [
        "predictions = logits.argmax(axis=1)\n",
        "predictions"
      ],
      "id": "cell-52"
    },
    {
      "cell_type": "code",
      "execution_count": 22,
      "metadata": {},
      "outputs": [],
      "source": [
        "(predictions[references == 1]==1).mean() # recall "
      ],
      "id": "cell-53"
    },
    {
      "cell_type": "markdown",
      "metadata": {},
      "source": [
        "이것을 아래와 같이 구할수도 있다."
      ],
      "id": "2e374988-8746-479a-afde-f4707ced065c"
    },
    {
      "cell_type": "code",
      "execution_count": 23,
      "metadata": {},
      "outputs": [],
      "source": [
        "rec = evaluate.load(\"recall\")\n",
        "rec.compute(predictions = predictions, references = references)"
      ],
      "id": "cell-55"
    },
    {
      "cell_type": "markdown",
      "metadata": {},
      "source": [
        "## C. auc 계산\n",
        "\n",
        "`-` accuracy 이외의 평가지표들\n",
        "\n",
        "-   <https://guebin.github.io/MP2023/posts/12wk-46.html> // 시험에는 X\n",
        "\n",
        "`-` AUC: 클래스간의 불균형이 있을때 유의미한 평가지표"
      ],
      "id": "520bcb9e-14ff-49d7-9c10-c6c608834fea"
    },
    {
      "cell_type": "code",
      "execution_count": 24,
      "metadata": {},
      "outputs": [],
      "source": [
        "logits = np.array(\n",
        "    [[ 2.7346244, -3.1177292],\n",
        "     [ 2.7103324, -3.1362345],\n",
        "     [ 2.7464483, -3.0521457],\n",
        "     [ 2.7195318, -3.122628 ],\n",
        "     [ 2.7138977, -3.1041346],\n",
        "     [ 2.7398622, -3.1098123],\n",
        "     [ 0.0657177, -0.0930362],\n",
        "     [-2.7668718,  3.0918367]]\n",
        ")\n",
        "references = labels = np.array([0,0,0,0,0,0,1,1])"
      ],
      "id": "cell-59"
    },
    {
      "cell_type": "code",
      "execution_count": 25,
      "metadata": {},
      "outputs": [],
      "source": [
        "probabilities = torch.tensor(logits).softmax(dim=1).numpy()\n",
        "prediction_scores = probabilities[:,1]\n",
        "prediction_scores"
      ],
      "id": "cell-60"
    },
    {
      "cell_type": "markdown",
      "metadata": {},
      "source": [
        "-   확률 0.4 이상부터는 1로 판단한다면? $\\to$ 다 맞춘거아니야?"
      ],
      "id": "b5a4b916-412c-41bd-becf-da2edf55d69d"
    },
    {
      "cell_type": "code",
      "execution_count": 26,
      "metadata": {},
      "outputs": [],
      "source": [
        "roc_auc = evaluate.load(\"roc_auc\")\n",
        "roc_auc.compute(prediction_scores=prediction_scores, references=references)"
      ],
      "id": "cell-62"
    },
    {
      "cell_type": "markdown",
      "metadata": {},
      "source": [
        "`# 예제1` – 시각화"
      ],
      "id": "ee785879-a664-4c7f-a6b1-48fb523e325e"
    },
    {
      "cell_type": "code",
      "execution_count": 27,
      "metadata": {},
      "outputs": [
        {
          "output_type": "stream",
          "name": "stdout",
          "text": [
            "{'accuracy': 0.875}\n",
            "{'recall': 0.5}\n",
            "{'roc_auc': 1.0}"
          ]
        },
        {
          "output_type": "display_data",
          "metadata": {},
          "data": {
            "image/png": "[encoded data removed]"
          }
        }
      ],
      "source": [
        "logits = np.array(\n",
        "    [[ 2.7346244, -3.1177292],\n",
        "     [ 2.7103324, -3.1362345],\n",
        "     [ 2.7464483, -3.0521457],\n",
        "     [ 2.7195318, -3.122628 ],\n",
        "     [ 2.7138977, -3.1041346],\n",
        "     [ 2.7398622, -3.1098123],\n",
        "     [ 0.0657177, -0.0930362],\n",
        "     [-2.7668718,  3.0918367]]\n",
        ")\n",
        "references = labels = np.array([0,0,0,0,0,0,1,1])\n",
        "probabilities = torch.tensor(logits).softmax(dim=1).numpy()\n",
        "prediction_scores = probabilities[:,1]\n",
        "plt.plot(prediction_scores,'--o')\n",
        "plt.plot(labels,'x')\n",
        "plt.axhline(y=0.5,color='red',linestyle='--')\n",
        "acc = evaluate.load(\"accuracy\")\n",
        "rec = evaluate.load(\"recall\")\n",
        "roc_auc = evaluate.load(\"roc_auc\")\n",
        "print(acc.compute(predictions=predictions,references=references))\n",
        "print(rec.compute(predictions=predictions,references=references))\n",
        "print(roc_auc.compute(prediction_scores=prediction_scores,references=references))"
      ],
      "id": "cell-64"
    },
    {
      "cell_type": "markdown",
      "metadata": {},
      "source": [
        "`# 예제2` – 시각화"
      ],
      "id": "27c9d12b-d858-406e-b0a4-89a5c5c00db4"
    },
    {
      "cell_type": "code",
      "execution_count": 28,
      "metadata": {},
      "outputs": [
        {
          "output_type": "stream",
          "name": "stdout",
          "text": [
            "{'accuracy': 0.875}\n",
            "{'recall': 0.5}\n",
            "{'roc_auc': 0.5833333333333333}"
          ]
        },
        {
          "output_type": "display_data",
          "metadata": {},
          "data": {
            "image/png": "[encoded data removed]"
          }
        }
      ],
      "source": [
        "logits = np.array(\n",
        "    [[ 2.7346244, -3.1177292],\n",
        "     [ 2.7103324, -3.1362345],\n",
        "     [ 2.7464483, -3.0521457],\n",
        "     [ 2.7195318, -3.122628 ],\n",
        "     [ 2.7138977, -3.1041346],\n",
        "     [ 0.0657177, -0.0930362],\n",
        "     [ 2.7398622, -3.1098123],\n",
        "     [-2.7668718,  3.0918367]]\n",
        ")\n",
        "references = labels = np.array([0,0,0,0,0,0,1,1])\n",
        "probabilities = torch.tensor(logits).softmax(dim=1).numpy()\n",
        "prediction_scores = probabilities[:,1]\n",
        "plt.plot(prediction_scores,'--o')\n",
        "plt.plot(labels,'x')\n",
        "plt.axhline(y=0.5,color='red',linestyle='--')\n",
        "acc = evaluate.load(\"accuracy\")\n",
        "rec = evaluate.load(\"recall\")\n",
        "roc_auc = evaluate.load(\"roc_auc\")\n",
        "print(acc.compute(predictions=predictions,references=references))\n",
        "print(rec.compute(predictions=predictions,references=references))\n",
        "print(roc_auc.compute(prediction_scores=prediction_scores,references=references))"
      ],
      "id": "cell-66"
    },
    {
      "cell_type": "markdown",
      "metadata": {},
      "source": [
        "# 6. 분석\n",
        "\n",
        "`-` `train.csv`를 pandas로"
      ],
      "id": "8717c5a0-55cc-47f2-a108-ffbcac40e9c7"
    },
    {
      "cell_type": "code",
      "execution_count": 29,
      "metadata": {},
      "outputs": [],
      "source": [
        "train_csv = pd.read_csv(\"./data/train.csv\")\n",
        "train_csv"
      ],
      "id": "cell-69"
    },
    {
      "cell_type": "code",
      "execution_count": 30,
      "metadata": {},
      "outputs": [],
      "source": [
        "test_csv = pd.read_csv(\"./data/sample_submission.csv\")\n",
        "test_csv"
      ],
      "id": "cell-70"
    },
    {
      "cell_type": "markdown",
      "metadata": {},
      "source": [
        "## A. 예쁜(?) 정석 코드\n",
        "\n",
        "*Step1: Data*"
      ],
      "id": "4f665a2f-fa4a-4afa-a082-af5efc986629"
    },
    {
      "cell_type": "code",
      "execution_count": 31,
      "metadata": {},
      "outputs": [],
      "source": [
        "ctx_train = datasets.Dataset.from_pandas(train_csv)\n",
        "ctx_test = datasets.Dataset.from_pandas(test_csv).remove_columns(['has_cactus'])"
      ],
      "id": "cell-73"
    },
    {
      "cell_type": "code",
      "execution_count": 32,
      "metadata": {},
      "outputs": [
        {
          "output_type": "stream",
          "name": "stderr",
          "text": [
            "Map: 100%|██████████| 17500/17500 [00:00<00:00, 59071.71 examples/s]\n",
            "Map: 100%|██████████| 4000/4000 [00:00<00:00, 86647.98 examples/s]"
          ]
        }
      ],
      "source": [
        "ctx_train = ctx_train.map(lambda example: {'path': \"./data/train/\" + example['id']})\n",
        "ctx_test = ctx_test.map(lambda example: {'path': \"./data/test/\" + example['id']})"
      ],
      "id": "cell-74"
    },
    {
      "cell_type": "code",
      "execution_count": 33,
      "metadata": {},
      "outputs": [],
      "source": [
        "ctx = datasets.DatasetDict({\n",
        "    'train':ctx_train,\n",
        "    'test':ctx_test\n",
        "})\n",
        "ctx"
      ],
      "id": "cell-75"
    },
    {
      "cell_type": "code",
      "execution_count": 34,
      "metadata": {},
      "outputs": [],
      "source": [
        "compose = torchvision.transforms.Compose([\n",
        "    lambda path: PIL.Image.open(path),\n",
        "    torchvision.transforms.ToTensor(),\n",
        "    torchvision.transforms.Resize((224,224))\n",
        "])\n",
        "def w_trans(examples):\n",
        "    # train: examples = {'id':[xx,xxx,....], 'has_cactus':[yy,yyy,...], 'path':[zz,zzz,...]}\n",
        "    # train: examples = {'id':[xx,xxx,....], 'path':[zz,zzz,...]}\n",
        "    dct = dict()\n",
        "    dct['pixel_values'] = torch.stack(list(map(compose, examples['path'])))\n",
        "    try: \n",
        "        dct['labels']= torch.tensor(examples['has_cactus'])\n",
        "    except:\n",
        "        pass\n",
        "    return dct "
      ],
      "id": "cell-76"
    },
    {
      "cell_type": "code",
      "execution_count": 35,
      "metadata": {},
      "outputs": [],
      "source": [
        "ctx = ctx.with_transform(w_trans)\n",
        "ctx "
      ],
      "id": "cell-77"
    },
    {
      "cell_type": "code",
      "execution_count": 36,
      "metadata": {},
      "outputs": [],
      "source": [
        "ctx['train'][:2]\n",
        "#ctx['test'][:2]"
      ],
      "id": "cell-78"
    },
    {
      "cell_type": "markdown",
      "metadata": {},
      "source": [
        "*Step2: Model*"
      ],
      "id": "fa7614ae-f000-40a0-96ac-8ff93a91c703"
    },
    {
      "cell_type": "code",
      "execution_count": 37,
      "metadata": {},
      "outputs": [
        {
          "output_type": "stream",
          "name": "stderr",
          "text": [
            "Some weights of ResNetForImageClassification were not initialized from the model checkpoint at microsoft/resnet-50 and are newly initialized because the shapes did not match:\n",
            "- classifier.1.bias: found shape torch.Size([1000]) in the checkpoint and torch.Size([2]) in the model instantiated\n",
            "- classifier.1.weight: found shape torch.Size([1000, 2048]) in the checkpoint and torch.Size([2, 2048]) in the model instantiated\n",
            "You should probably TRAIN this model on a down-stream task to be able to use it for predictions and inference."
          ]
        }
      ],
      "source": [
        "model = transformers.AutoModelForImageClassification.from_pretrained(\n",
        "    \"microsoft/resnet-50\",\n",
        "    num_labels=2,\n",
        "    ignore_mismatched_sizes=True,\n",
        ")"
      ],
      "id": "cell-80"
    },
    {
      "cell_type": "markdown",
      "metadata": {},
      "source": [
        "*Step3: Train*"
      ],
      "id": "cb775ca6-96b5-4fea-ace8-7bdc20cdb538"
    },
    {
      "cell_type": "code",
      "execution_count": 44,
      "metadata": {},
      "outputs": [],
      "source": [
        "# single_batch = [ctx['train'][0],ctx['train'][1]]\n",
        "# single_batch # [{'pixel_values':xx, 'labels':yy},{'pixel_values':xxx, 'labels':yyy}]\n",
        "# data_collator = transformers.DefaultDataCollator()\n",
        "# data_collator(single_batch) # [{'pixel_values':xx, 'labels':yy},{'pixel_values':xxx, 'labels':yyy}] --> {'pixel_values':[xx,xxx], 'labels':[yy,yyy]}\n",
        "# model.to(\"cpu\")\n",
        "# model(**data_collator(single_batch))"
      ],
      "id": "cell-82"
    },
    {
      "cell_type": "code",
      "execution_count": 45,
      "metadata": {},
      "outputs": [],
      "source": [
        "data_collator = transformers.DefaultDataCollator()\n",
        "data_collator"
      ],
      "id": "cell-83"
    },
    {
      "cell_type": "code",
      "execution_count": 47,
      "metadata": {},
      "outputs": [],
      "source": [
        "def compute_metrics(eval_pred):\n",
        "    logits, labels = eval_pred\n",
        "    predictions = np.argmax(logits,axis=1)\n",
        "    predictions_scores = torch.tensor(logits).softmax(dim=1).numpy()[:,1]\n",
        "    acc = evaluate.load(\"accuracy\")\n",
        "    rec = evaluate.load(\"recall\")\n",
        "    roc_auc = evaluate.load(\"roc_auc\")\n",
        "    dct1 = acc.compute(predictions = predictions, references = labels) # {'accuracy':???}\n",
        "    dct2 = rec.compute(predictions = predictions, references = labels) # {'recall':???}\n",
        "    dct3 = roc_auc.compute(prediction_scores = predictions_scores, references = labels) # {'roc_auc':???}\n",
        "    return dct1|dct2|dct3# {'accuracy':???, 'recall':???, 'roc_auc':???}"
      ],
      "id": "cell-84"
    },
    {
      "cell_type": "code",
      "execution_count": 50,
      "metadata": {},
      "outputs": [],
      "source": [
        "training_args = transformers.TrainingArguments(\n",
        "    output_dir=\"asdf\",\n",
        "    remove_unused_columns=False,\n",
        "    eval_strategy=\"epoch\",\n",
        "    save_strategy=\"epoch\",\n",
        "    learning_rate=5e-5,\n",
        "    per_device_train_batch_size=16,\n",
        "    gradient_accumulation_steps=4,\n",
        "    per_device_eval_batch_size=16,\n",
        "    num_train_epochs=4,\n",
        "    warmup_ratio=0.1,\n",
        "    logging_steps=10,\n",
        "    load_best_model_at_end=True,\n",
        "    metric_for_best_model=\"accuracy\",\n",
        "    push_to_hub=False,\n",
        "    report_to=\"none\"\n",
        ")\n",
        "trainer = transformers.Trainer(\n",
        "    model=model,\n",
        "    args=training_args,\n",
        "    data_collator=data_collator,\n",
        "    train_dataset=ctx[\"train\"].select(range(1000)),\n",
        "    eval_dataset=ctx[\"train\"].select(range(1000,1500)),\n",
        "    compute_metrics=compute_metrics,\n",
        ")\n",
        "trainer.train()"
      ],
      "id": "cell-85"
    },
    {
      "cell_type": "markdown",
      "metadata": {},
      "source": [
        "*Step4: Prediction*"
      ],
      "id": "b1ad0b6b-38ed-4c0f-8851-ba7d185541c7"
    },
    {
      "cell_type": "code",
      "execution_count": 54,
      "metadata": {},
      "outputs": [],
      "source": [
        "out = trainer.predict(ctx['test'])\n",
        "out"
      ],
      "id": "cell-87"
    },
    {
      "cell_type": "code",
      "execution_count": 60,
      "metadata": {},
      "outputs": [],
      "source": [
        "logits = out.predictions\n",
        "has_cactus = torch.tensor(logits).softmax(dim=1).numpy()[:,1]\n",
        "has_cactus"
      ],
      "id": "cell-88"
    },
    {
      "cell_type": "code",
      "execution_count": 61,
      "metadata": {},
      "outputs": [],
      "source": [
        "test_csv['has_cactus']= has_cactus\n",
        "test_csv"
      ],
      "id": "cell-89"
    },
    {
      "cell_type": "markdown",
      "metadata": {},
      "source": [
        "*Step1 ~ Step4*"
      ],
      "id": "e3303ba5-743a-4738-8859-365c3ac07622"
    },
    {
      "cell_type": "code",
      "execution_count": 134,
      "metadata": {},
      "outputs": [
        {
          "output_type": "stream",
          "name": "stderr",
          "text": [
            "Map:   0%|          | 0/17500 [00:00<?, ? examples/s]Map: 100%|██████████| 17500/17500 [00:00<00:00, 63327.18 examples/s]\n",
            "Map: 100%|██████████| 4000/4000 [00:00<00:00, 87028.23 examples/s]\n",
            "Some weights of ResNetForImageClassification were not initialized from the model checkpoint at microsoft/resnet-50 and are newly initialized because the shapes did not match:\n",
            "- classifier.1.bias: found shape torch.Size([1000]) in the checkpoint and torch.Size([2]) in the model instantiated\n",
            "- classifier.1.weight: found shape torch.Size([1000, 2048]) in the checkpoint and torch.Size([2, 2048]) in the model instantiated\n",
            "You should probably TRAIN this model on a down-stream task to be able to use it for predictions and inference."
          ]
        }
      ],
      "source": [
        "train_csv = pd.read_csv(\"./data/train.csv\")\n",
        "test_csv = pd.read_csv(\"./data/sample_submission.csv\")\n",
        "#---#\n",
        "# Step1: Data\n",
        "ctx_train = datasets.Dataset.from_pandas(train_csv)\n",
        "ctx_test = datasets.Dataset.from_pandas(test_csv).remove_columns(['has_cactus'])\n",
        "ctx_train = ctx_train.map(lambda example: {'path': \"./data/train/\" + example['id']})\n",
        "ctx_test = ctx_test.map(lambda example: {'path': \"./data/test/\" + example['id']})\n",
        "ctx = datasets.DatasetDict({\n",
        "    'train':ctx_train,\n",
        "    'test':ctx_test\n",
        "})\n",
        "compose = torchvision.transforms.Compose([\n",
        "    lambda path: PIL.Image.open(path),\n",
        "    torchvision.transforms.ToTensor(),\n",
        "    torchvision.transforms.Resize((224,224))\n",
        "])\n",
        "def w_trans(examples):\n",
        "    # train: examples = {'id':[xx,xxx,....], 'has_cactus':[yy,yyy,...], 'path':[zz,zzz,...]}\n",
        "    # train: examples = {'id':[xx,xxx,....], 'path':[zz,zzz,...]}\n",
        "    dct = dict()\n",
        "    dct['pixel_values'] = torch.stack(list(map(compose, examples['path'])))\n",
        "    try: \n",
        "        dct['labels']= torch.tensor(examples['has_cactus'])\n",
        "    except:\n",
        "        pass\n",
        "    return dct \n",
        "ctx = ctx.with_transform(w_trans)\n",
        "# Step2: Model\n",
        "model = transformers.AutoModelForImageClassification.from_pretrained(\n",
        "    \"microsoft/resnet-50\",\n",
        "    num_labels=2,\n",
        "    ignore_mismatched_sizes=True,\n",
        ")\n",
        "# Step3: Train\n",
        "data_collator = transformers.DefaultDataCollator()\n",
        "def compute_metrics(eval_pred):\n",
        "    logits, labels = eval_pred\n",
        "    predictions = np.argmax(logits,axis=1)\n",
        "    predictions_scores = torch.tensor(logits).softmax(dim=1).numpy()[:,1]\n",
        "    acc = evaluate.load(\"accuracy\")\n",
        "    rec = evaluate.load(\"recall\")\n",
        "    roc_auc = evaluate.load(\"roc_auc\")\n",
        "    dct1 = acc.compute(predictions = predictions, references = labels) # {'accuracy':???}\n",
        "    dct2 = rec.compute(predictions = predictions, references = labels) # {'recall':???}\n",
        "    dct3 = roc_auc.compute(prediction_scores = predictions_scores, references = labels) # {'roc_auc':???}\n",
        "    return dct1|dct2|dct3# {'accuracy':???, 'recall':???, 'roc_auc':???}\n",
        "training_args = transformers.TrainingArguments(\n",
        "    output_dir=\"asdf\",\n",
        "    remove_unused_columns=False,\n",
        "    eval_strategy=\"epoch\",\n",
        "    save_strategy=\"epoch\",\n",
        "    learning_rate=5e-5,\n",
        "    per_device_train_batch_size=16,\n",
        "    gradient_accumulation_steps=4,\n",
        "    per_device_eval_batch_size=16,\n",
        "    num_train_epochs=4,\n",
        "    warmup_ratio=0.1,\n",
        "    logging_steps=10,\n",
        "    load_best_model_at_end=True,\n",
        "    metric_for_best_model=\"roc_auc\",\n",
        "    push_to_hub=False,\n",
        "    report_to=\"none\"\n",
        ")\n",
        "trainer = transformers.Trainer(\n",
        "    model=model,\n",
        "    args=training_args,\n",
        "    data_collator=data_collator,\n",
        "    train_dataset=ctx[\"train\"].select(range(1000)),\n",
        "    eval_dataset=ctx[\"train\"].select(range(1000,1500)),\n",
        "    compute_metrics=compute_metrics,\n",
        ")\n",
        "trainer.train()\n",
        "# Step4: Prediction\n",
        "out = trainer.predict(ctx['test'])\n",
        "logits = out.predictions\n",
        "has_cactus = torch.tensor(logits).softmax(dim=1).numpy()[:,1]\n",
        "test_csv['has_cactus']= has_cactus"
      ],
      "id": "cell-91"
    },
    {
      "cell_type": "markdown",
      "metadata": {},
      "source": [
        "## B. \b자유로운 코드\n",
        "\n",
        "*Step1: Datasets*"
      ],
      "id": "04d635d7-a54a-4029-a90a-55304bbe42df"
    },
    {
      "cell_type": "code",
      "execution_count": 94,
      "metadata": {},
      "outputs": [],
      "source": [
        "train_csv = pd.read_csv(\"./data/train.csv\")\n",
        "test_csv = pd.read_csv(\"./data/sample_submission.csv\")\n",
        "train_csv2 = pd.read_csv(\"./data/train.csv\")\n",
        "test_csv2 = pd.read_csv(\"./data/sample_submission.csv\")"
      ],
      "id": "cell-94"
    },
    {
      "cell_type": "code",
      "execution_count": 95,
      "metadata": {},
      "outputs": [],
      "source": [
        "train_csv2['path'] = ['./data/train/'+l for l in train_csv.id]\n",
        "test_csv2['path'] = ['./data/test/'+l for l in test_csv.id]\n",
        "train_csv2 = train_csv2.loc[:,['has_cactus','path']]\n",
        "test_csv2 = test_csv2.loc[:,['path']]"
      ],
      "id": "cell-95"
    },
    {
      "cell_type": "code",
      "execution_count": 98,
      "metadata": {},
      "outputs": [],
      "source": [
        "ctx = datasets.DatasetDict(\n",
        "    {\n",
        "        'train': datasets.Dataset.from_pandas(train_csv2),\n",
        "        'test':datasets.Dataset.from_pandas(test_csv2)\n",
        "    }\n",
        ")\n",
        "ctx"
      ],
      "id": "cell-96"
    },
    {
      "cell_type": "markdown",
      "metadata": {},
      "source": [
        "*Step2~3 과정의 간보기*"
      ],
      "id": "b603fff1-0600-4674-900c-bb6446a41b1f"
    },
    {
      "cell_type": "code",
      "execution_count": 108,
      "metadata": {},
      "outputs": [
        {
          "output_type": "stream",
          "name": "stderr",
          "text": [
            "Some weights of ResNetForImageClassification were not initialized from the model checkpoint at microsoft/resnet-50 and are newly initialized because the shapes did not match:\n",
            "- classifier.1.bias: found shape torch.Size([1000]) in the checkpoint and torch.Size([2]) in the model instantiated\n",
            "- classifier.1.weight: found shape torch.Size([1000, 2048]) in the checkpoint and torch.Size([2, 2048]) in the model instantiated\n",
            "You should probably TRAIN this model on a down-stream task to be able to use it for predictions and inference."
          ]
        }
      ],
      "source": [
        "model = transformers.AutoModelForImageClassification.from_pretrained(\n",
        "    \"microsoft/resnet-50\",\n",
        "    num_labels=2,\n",
        "    ignore_mismatched_sizes=True,\n",
        ")"
      ],
      "id": "cell-98"
    },
    {
      "cell_type": "code",
      "execution_count": 125,
      "metadata": {},
      "outputs": [],
      "source": [
        "single_batch =  [ctx['train'][0], ctx['train'][1]]\n",
        "single_batch"
      ],
      "id": "cell-99"
    },
    {
      "cell_type": "code",
      "execution_count": 110,
      "metadata": {},
      "outputs": [],
      "source": [
        "compose = torchvision.transforms.Compose([\n",
        "    lambda path: PIL.Image.open(path),\n",
        "    torchvision.transforms.ToTensor(),\n",
        "    torchvision.transforms.Resize((224,224))\n",
        "])"
      ],
      "id": "cell-100"
    },
    {
      "cell_type": "code",
      "execution_count": 128,
      "metadata": {},
      "outputs": [],
      "source": [
        "def collate_fn(single_batch):\n",
        "    dct = dict()\n",
        "    dct['pixel_values'] = torch.stack([compose(o['path']) for o in single_batch])\n",
        "    try: \n",
        "        dct['labels'] = torch.tensor([o['has_cactus'] for o in single_batch])\n",
        "    except:\n",
        "        pass\n",
        "    return dct "
      ],
      "id": "cell-101"
    },
    {
      "cell_type": "code",
      "execution_count": 130,
      "metadata": {},
      "outputs": [],
      "source": [
        "model(**collate_fn(single_batch))"
      ],
      "id": "cell-102"
    },
    {
      "cell_type": "markdown",
      "metadata": {},
      "source": [
        "*Step1~4*"
      ],
      "id": "af5ca25b-2df8-4998-9b66-6f86f57007ec"
    },
    {
      "cell_type": "code",
      "execution_count": 132,
      "metadata": {},
      "outputs": [
        {
          "output_type": "stream",
          "name": "stderr",
          "text": [
            "Some weights of ResNetForImageClassification were not initialized from the model checkpoint at microsoft/resnet-50 and are newly initialized because the shapes did not match:\n",
            "- classifier.1.bias: found shape torch.Size([1000]) in the checkpoint and torch.Size([2]) in the model instantiated\n",
            "- classifier.1.weight: found shape torch.Size([1000, 2048]) in the checkpoint and torch.Size([2, 2048]) in the model instantiated\n",
            "You should probably TRAIN this model on a down-stream task to be able to use it for predictions and inference."
          ]
        }
      ],
      "source": [
        "train_csv = pd.read_csv(\"./data/train.csv\")\n",
        "test_csv = pd.read_csv(\"./data/sample_submission.csv\")\n",
        "train_csv2 = pd.read_csv(\"./data/train.csv\")\n",
        "test_csv2 = pd.read_csv(\"./data/sample_submission.csv\")\n",
        "#---#\n",
        "# Step1: Data\n",
        "train_csv2['path'] = ['./data/train/'+l for l in train_csv.id]\n",
        "test_csv2['path'] = ['./data/test/'+l for l in test_csv.id]\n",
        "train_csv2 = train_csv2.loc[:,['has_cactus','path']]\n",
        "test_csv2 = test_csv2.loc[:,['path']]\n",
        "ctx = datasets.DatasetDict(\n",
        "    {\n",
        "        'train': datasets.Dataset.from_pandas(train_csv2),\n",
        "        'test':datasets.Dataset.from_pandas(test_csv2)\n",
        "    }\n",
        ")\n",
        "# Step2: Model\n",
        "model = transformers.AutoModelForImageClassification.from_pretrained(\n",
        "    \"microsoft/resnet-50\",\n",
        "    num_labels=2,\n",
        "    ignore_mismatched_sizes=True,\n",
        ")\n",
        "# Step3: Train\n",
        "def collate_fn(single_batch):\n",
        "    dct = dict()\n",
        "    dct['pixel_values'] = torch.stack([compose(o['path']) for o in single_batch])\n",
        "    try: \n",
        "        dct['labels'] = torch.tensor([o['has_cactus'] for o in single_batch])\n",
        "    except:\n",
        "        pass\n",
        "    return dct \n",
        "def compute_metrics(eval_pred):\n",
        "    logits, labels = eval_pred\n",
        "    predictions = np.argmax(logits,axis=1)\n",
        "    predictions_scores = torch.tensor(logits).softmax(dim=1).numpy()[:,1]\n",
        "    acc = evaluate.load(\"accuracy\")\n",
        "    rec = evaluate.load(\"recall\")\n",
        "    roc_auc = evaluate.load(\"roc_auc\")\n",
        "    dct1 = acc.compute(predictions = predictions, references = labels) # {'accuracy':???}\n",
        "    dct2 = rec.compute(predictions = predictions, references = labels) # {'recall':???}\n",
        "    dct3 = roc_auc.compute(prediction_scores = predictions_scores, references = labels) # {'roc_auc':???}\n",
        "    return dct1|dct2|dct3# {'accuracy':???, 'recall':???, 'roc_auc':???}\n",
        "training_args = transformers.TrainingArguments(\n",
        "    output_dir=\"asdf\",\n",
        "    remove_unused_columns=False,\n",
        "    eval_strategy=\"epoch\",\n",
        "    save_strategy=\"epoch\",\n",
        "    learning_rate=5e-5,\n",
        "    per_device_train_batch_size=16,\n",
        "    gradient_accumulation_steps=4,\n",
        "    per_device_eval_batch_size=16,\n",
        "    num_train_epochs=4,\n",
        "    warmup_ratio=0.1,\n",
        "    logging_steps=10,\n",
        "    load_best_model_at_end=True,\n",
        "    metric_for_best_model=\"roc_auc\",\n",
        "    push_to_hub=False,\n",
        "    report_to=\"none\"\n",
        ")\n",
        "trainer = transformers.Trainer(\n",
        "    model=model,\n",
        "    args=training_args,\n",
        "    data_collator=collate_fn,\n",
        "    train_dataset=ctx[\"train\"].select(range(1000)),\n",
        "    eval_dataset=ctx[\"train\"].select(range(1000,1500)),\n",
        "    compute_metrics=compute_metrics,\n",
        ")\n",
        "trainer.train()\n",
        "# Step4: Prediction\n",
        "out = trainer.predict(ctx['test'])\n",
        "logits = out.predictions\n",
        "has_cactus = torch.tensor(logits).softmax(dim=1).numpy()[:,1]\n",
        "test_csv['has_cactus']= has_cactus"
      ],
      "id": "cell-104"
    },
    {
      "cell_type": "markdown",
      "metadata": {},
      "source": [
        "# A1. 작년강의노트\n",
        "\n",
        "<https://guebin.github.io/MP2023/> – tabular data 분석 위주의 수업"
      ],
      "id": "02575ff4-28f8-407f-a729-bbc488f19a0d"
    }
  ],
  "nbformat": 4,
  "nbformat_minor": 5,
  "metadata": {
    "kernelspec": {
      "name": "python3",
      "display_name": "hf",
      "language": "python"
    },
    "language_info": {
      "name": "python",
      "codemirror_mode": {
        "name": "ipython",
        "version": "3"
      },
      "file_extension": ".py",
      "mimetype": "text/x-python",
      "nbconvert_exporter": "python",
      "pygments_lexer": "ipython3",
      "version": "3.12.2"
    }
  }
}