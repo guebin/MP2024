{
  "cells": [
    {
      "cell_type": "markdown",
      "metadata": {},
      "source": [
        "# 12wk-1: 선인장 이미지 분류\n",
        "\n",
        "최규빈  \n",
        "2024-12-03\n",
        "\n",
        "<a href=\"https://colab.research.google.com/github/guebin/MP2024/blob/main/posts/12wk-1.ipynb\"><img src=\"https://colab.research.google.com/assets/colab-badge.svg\" style=\"text-align: left\"></a>\n",
        "\n",
        "# 1. 강의영상\n",
        "\n",
        "# 2. imports"
      ],
      "id": "032eef52-6129-4a15-9edb-eddd48c8872f"
    },
    {
      "cell_type": "code",
      "execution_count": 300,
      "metadata": {},
      "outputs": [],
      "source": [
        "import numpy as np\n",
        "import pandas as pd \n",
        "import zipfile\n",
        "import os\n",
        "import PIL.Image\n",
        "import matplotlib.pyplot as plt\n",
        "#---#\n",
        "import datasets\n",
        "import transformers\n",
        "import torchvision.transforms\n",
        "import evaluate\n",
        "import torch"
      ],
      "id": "cell-4"
    },
    {
      "cell_type": "markdown",
      "metadata": {},
      "source": [
        "# 3. Kaggle\n",
        "\n",
        "## A. ref\n",
        "\n",
        "ref: <https://www.kaggle.com/c/aerial-cactus-identification>\n",
        "\n",
        "## B. 압축해제\n",
        "\n",
        "## C. 데이터 살펴보기\n",
        "\n",
        "# 4. Logits의 이해\n",
        "\n",
        "## A. 로짓의 의미\n",
        "\n",
        "`-` 로짓의 이해: 클래스가 2개인 자료에 대한 분류문제를 푼다고 하자.\n",
        "3개의 observation/examples 에 대한 로짓값이 아래와 같다고 하자."
      ],
      "id": "b7ea1580-7209-41f9-8b4f-fe9623f5343e"
    },
    {
      "cell_type": "code",
      "execution_count": 129,
      "metadata": {},
      "outputs": [],
      "source": [
        "logits = np.array(\n",
        "    [[ 2.7346244, -3.1177292],\n",
        "     [ 2.7103324, -3.1362345],\n",
        "     [ 2.7464483, -3.0521457],\n",
        "     [ 2.7195318, -3.122628 ],\n",
        "     [ 2.7138977, -3.1041346],\n",
        "     [ 2.7398622, -3.1098123],\n",
        "     [ 0.0657177, -0.0930362],\n",
        "     [-2.7668718,  3.0918367]]\n",
        ")\n",
        "logits"
      ],
      "id": "cell-15"
    },
    {
      "cell_type": "markdown",
      "metadata": {},
      "source": [
        "로짓값은 일반적으로 $(n,k)$의 차원을 가지며 여기에서 $n$은 observation의\n",
        "숫자, $k$는 클래스의 숫자를 의미한다. 이 예제의 경우는 $n=8$, $k=2$인\n",
        "경우이다.\n",
        "\n",
        "여기에서 각 observation에 대한 로짓값이 의미하는 바를 살펴보면 아래와\n",
        "같다.\n",
        "\n",
        "1.  첫 번째 관측값 (`[2.7346244, -3.1177292]`):\n",
        "\n",
        "-   첫 번째 클래스에 대한 확신 정도: `2.7346244`\n",
        "-   두 번째 클래스에 대한 확신 정도: `-3.1177292`\n",
        "\n",
        "1.  두 번째 관측값 (`[2.7103324,  -3.1362345]`):\n",
        "\n",
        "-   첫 번째 클래스에 대한 확신 정도: `2.7103324`\n",
        "-   두 번째 클래스에 대한 확신 정도: `-3.1362345`\n",
        "\n",
        "…\n",
        "\n",
        "1.  마지막 관측값 (\\[`-2.7668718`, `3.0918367`\\]):\n",
        "\n",
        "-   첫 번째 클래스에 대한 확신 정도: `-2.7668718`\n",
        "-   두 번째 클래스에 대한 확신 정도: `3.0918367`\n",
        "\n",
        "## B. 로짓 $\\to$ 예측클래스\n",
        "\n",
        "`-` 로짓 $\\to$ 예측클래스의 과정을 살펴보자.\n",
        "\n",
        "1.  첫 번째 관측값: $2.7346244 > -3.1177292$ $\\Rightarrow$ 첫 번째\n",
        "    클래스로 예측\n",
        "\n",
        "2.  두 번째 관측값: $2.7103324 > -3.1362345$ $\\Rightarrow$ 첫 번째\n",
        "    클래스로 예측\n",
        "\n",
        "…\n",
        "\n",
        "1.  마지막 관측값: $-2.7668718 < 3.0918367$ $\\Rightarrow$ 두 번째\n",
        "    클래스로 예측\n",
        "\n",
        "`-` 이것은 아래를 이용하여 구할수도 있다.\n",
        "\n",
        "## C. 로짓 $\\to$ 예측확률\n",
        "\n",
        "`-` 로짓 $\\to$ 예측확률의 과정을 살펴보자.\n",
        "\n",
        "${\\boldsymbol u}=\\begin{bmatrix} u_1 & \\dots & u_k\\end{bmatrix}$를\n",
        "고정된 observation에 대한 logits값 이라고 하자. 이때 각 클래스에 속할\n",
        "확률값은 아래와 같이 구한다.\n",
        "\n",
        "$$\\text{prob} =\\left[\\frac{\\exp(u_1)}{\\exp(u_1)+\\dots+\\exp(u_k)}, \\cdots,  \\frac{\\exp(u_k)}{\\exp(u_1)+\\dots+\\exp(u_k)}\\right]$$\n",
        "\n",
        "`-` 이 확률은 아래를 통하여 구할수도 있다.\n",
        "\n",
        "# 5. 평가지표\n",
        "\n",
        "## A. accuracy 계산\n",
        "\n",
        "`-` accuracy의 계산: `logits`와 `labels`가 아래와 같이 주어졌다고 하자."
      ],
      "id": "21982f80-64ec-41ce-b31b-9264c35fbe3a"
    },
    {
      "cell_type": "code",
      "execution_count": 343,
      "metadata": {},
      "outputs": [],
      "source": [
        "logits = np.array(\n",
        "    [[ 2.7346244, -3.1177292],\n",
        "     [ 2.7103324, -3.1362345],\n",
        "     [ 2.7464483, -3.0521457],\n",
        "     [ 2.7195318, -3.122628 ],\n",
        "     [ 2.7138977, -3.1041346],\n",
        "     [ 2.7398622, -3.1098123],\n",
        "     [ 0.0657177, -0.0930362],\n",
        "     [-2.7668718,  3.0918367]]\n",
        ")\n",
        "references = labels = np.array([0,0,0,0,0,0,1,1])"
      ],
      "id": "cell-35"
    },
    {
      "cell_type": "code",
      "execution_count": 327,
      "metadata": {},
      "outputs": [],
      "source": [
        "predictions = logits.argmax(axis=1)\n",
        "predictions"
      ],
      "id": "cell-36"
    },
    {
      "cell_type": "markdown",
      "metadata": {},
      "source": [
        "accuracy는 아래와 같이 계산할 수 있다."
      ],
      "id": "842265cc-fa92-4ae7-afed-49ef49440199"
    },
    {
      "cell_type": "code",
      "execution_count": 328,
      "metadata": {},
      "outputs": [],
      "source": [
        "(predictions == references).sum()/8"
      ],
      "id": "cell-38"
    },
    {
      "cell_type": "code",
      "execution_count": 329,
      "metadata": {},
      "outputs": [],
      "source": [
        "(predictions == references).mean()"
      ],
      "id": "cell-39"
    },
    {
      "cell_type": "markdown",
      "metadata": {},
      "source": [
        "이걸 아래와 같이 계산할 수도 있다."
      ],
      "id": "2e429c27-8447-4421-ad74-63bd43aa6b2f"
    },
    {
      "cell_type": "code",
      "execution_count": 330,
      "metadata": {},
      "outputs": [],
      "source": [
        "acc = evaluate.load(\"accuracy\")\n",
        "acc.compute(predictions=predictions, references=references)"
      ],
      "id": "cell-41"
    },
    {
      "cell_type": "markdown",
      "metadata": {},
      "source": [
        "## B. recall 계산\n",
        "\n",
        "`-` 경우에 따라서 1을 얼마나 더 잘맞추는지 알고 싶은 경우도 있다.\n",
        "\n",
        "$$\\frac{\\text{실제 라벨이 1인 관측치 중 올바르게 예측된 관측치수}}{\\text{실제 라벨이 1인 관측치 수}}$$"
      ],
      "id": "cc0d7b36-558a-4a3f-9fc2-71999c279b6e"
    },
    {
      "cell_type": "code",
      "execution_count": 313,
      "metadata": {},
      "outputs": [],
      "source": [
        "logits = np.array(\n",
        "    [[ 2.7346244, -3.1177292],\n",
        "     [ 2.7103324, -3.1362345],\n",
        "     [ 2.7464483, -3.0521457],\n",
        "     [ 2.7195318, -3.122628 ],\n",
        "     [ 2.7138977, -3.1041346],\n",
        "     [ 2.7398622, -3.1098123],\n",
        "     [ 0.0657177, -0.0930362],\n",
        "     [-2.7668718,  3.0918367]]\n",
        ")\n",
        "references = labels = np.array([0,0,0,0,0,0,1,1])"
      ],
      "id": "cell-44"
    },
    {
      "cell_type": "code",
      "execution_count": 322,
      "metadata": {},
      "outputs": [],
      "source": [
        "predictions = logits.argmax(axis=1)\n",
        "predictions"
      ],
      "id": "cell-45"
    },
    {
      "cell_type": "code",
      "execution_count": 323,
      "metadata": {},
      "outputs": [],
      "source": [
        "(predictions[labels==1] == 1).mean()"
      ],
      "id": "cell-46"
    },
    {
      "cell_type": "markdown",
      "metadata": {},
      "source": [
        "이것을 아래와 같이 구할수도 있다."
      ],
      "id": "ef7a1788-b554-422f-8758-3e37695f2f37"
    },
    {
      "cell_type": "code",
      "execution_count": 325,
      "metadata": {},
      "outputs": [],
      "source": [
        "rec = evaluate.load(\"recall\")\n",
        "rec.compute(predictions=predictions, references=references)"
      ],
      "id": "cell-48"
    },
    {
      "cell_type": "markdown",
      "metadata": {},
      "source": [
        "## C. auc 계산\n",
        "\n",
        "`-` accuracy 이외의 평가지표들\n",
        "\n",
        "-   <https://guebin.github.io/MP2023/posts/12wk-46.html> // 시험에는 X\n",
        "\n",
        "`-` AUC: 클래스간의 불균형이 있을때 유의미한 평가지표"
      ],
      "id": "61a2d892-43d2-4410-84ce-c4118b42b009"
    },
    {
      "cell_type": "code",
      "execution_count": 316,
      "metadata": {},
      "outputs": [],
      "source": [
        "logits = np.array(\n",
        "    [[ 2.7346244, -3.1177292],\n",
        "     [ 2.7103324, -3.1362345],\n",
        "     [ 2.7464483, -3.0521457],\n",
        "     [ 2.7195318, -3.122628 ],\n",
        "     [ 2.7138977, -3.1041346],\n",
        "     [ 2.7398622, -3.1098123],\n",
        "     [ 0.0657177, -0.0930362],\n",
        "     [-2.7668718,  3.0918367]]\n",
        ")\n",
        "references = labels = np.array([0,0,0,0,0,0,1,1])"
      ],
      "id": "cell-52"
    },
    {
      "cell_type": "code",
      "execution_count": 318,
      "metadata": {},
      "outputs": [],
      "source": [
        "probabilities = torch.tensor(logits).softmax(dim=1).numpy()\n",
        "prediction_scores = probabilities[:,1]\n",
        "prediction_scores"
      ],
      "id": "cell-53"
    },
    {
      "cell_type": "markdown",
      "metadata": {},
      "source": [
        "-   0.4 이상부터는 1로 판단한다면? $\\to$ 다 맞춘거아니야?"
      ],
      "id": "abb89440-d90a-453f-b2fb-12beb644796e"
    },
    {
      "cell_type": "code",
      "execution_count": 320,
      "metadata": {},
      "outputs": [],
      "source": [
        "roc_auc = evaluate.load(\"roc_auc\")\n",
        "roc_auc.compute(references= references, prediction_scores= prediction_scores)"
      ],
      "id": "cell-55"
    },
    {
      "cell_type": "markdown",
      "metadata": {},
      "source": [
        "`# 예제1` – 시각화"
      ],
      "id": "19570dd6-fbe3-436f-b478-b2c0e8ea36f8"
    },
    {
      "cell_type": "code",
      "execution_count": 299,
      "metadata": {},
      "outputs": [
        {
          "output_type": "display_data",
          "metadata": {},
          "data": {
            "image/png": "[encoded data removed]"
          }
        }
      ],
      "source": [
        "logits = np.array(\n",
        "    [[ 2.7346244, -3.1177292],\n",
        "     [ 2.7103324, -3.1362345],\n",
        "     [ 2.7464483, -3.0521457],\n",
        "     [ 2.7195318, -3.122628 ],\n",
        "     [ 2.7138977, -3.1041346],\n",
        "     [ 2.7398622, -3.1098123],\n",
        "     [ 0.0657177, -0.0930362],\n",
        "     [-2.7668718,  3.0918367]]\n",
        ")\n",
        "labels = np.array([0,0,0,0,0,0,1,1])\n",
        "probabilities = torch.tensor(logits).softmax(dim=1).numpy()\n",
        "plt.plot(probabilities[:,1],'--o')\n",
        "plt.plot(labels,'x')\n",
        "plt.axhline(y=0.5, color='red', linestyle='--')\n",
        "roc_auc = evaluate.load(\"roc_auc\")\n",
        "acc = evaluate.load(\"accuracy\")\n",
        "rec = evaluate.load(\"recall\")\n",
        "results = {\n",
        "    'accuracy': acc.compute(predictions= logits.argmax(axis=1), references=labels)['accuracy'],\n",
        "    'recall': rec.compute(predictions= logits.argmax(axis=1), references=labels)['recall'],\n",
        "    'roc_auc': roc_auc.compute(references= labels, prediction_scores= probabilities[:,1])['roc_auc']\n",
        "}\n",
        "plt.title(f\"ACC={results['accuracy']}, REC={results['recall']}, ROC_AUC={results['roc_auc']}\")"
      ],
      "id": "cell-57"
    },
    {
      "cell_type": "code",
      "execution_count": 301,
      "metadata": {},
      "outputs": [
        {
          "output_type": "display_data",
          "metadata": {},
          "data": {
            "image/png": "[encoded data removed]"
          }
        }
      ],
      "source": [
        "logits = np.array(\n",
        "    [[ 2.7346244, -3.1177292],\n",
        "     [ 2.7103324, -3.1362345],\n",
        "     [ 2.7464483, -3.0521457],\n",
        "     [ 2.7195318, -3.122628 ],\n",
        "     [ 2.7138977, -3.1041346],\n",
        "     [ 0.0657177, -0.0930362],     \n",
        "     [ 2.7398622, -3.1098123],\n",
        "     [-2.7668718,  3.0918367]]\n",
        ")\n",
        "labels = np.array([0,0,0,0,0,0,1,1])\n",
        "probabilities = torch.tensor(logits).softmax(dim=1).numpy()\n",
        "plt.plot(probabilities[:,1],'--o')\n",
        "plt.plot(labels,'x')\n",
        "plt.axhline(y=0.5, color='red', linestyle='--')\n",
        "roc_auc = evaluate.load(\"roc_auc\")\n",
        "acc = evaluate.load(\"accuracy\")\n",
        "rec = evaluate.load(\"recall\")\n",
        "results = {\n",
        "    'accuracy': acc.compute(predictions= logits.argmax(axis=1), references=labels)['accuracy'],\n",
        "    'recall': rec.compute(predictions= logits.argmax(axis=1), references=labels)['recall'],\n",
        "    'roc_auc': roc_auc.compute(references= labels, prediction_scores= probabilities[:,1])['roc_auc']\n",
        "}\n",
        "plt.title(f\"ACC={results['accuracy']}, REC={results['recall']}, ROC_AUC={results['roc_auc']}\")"
      ],
      "id": "cell-58"
    },
    {
      "cell_type": "markdown",
      "metadata": {},
      "source": [
        "# 6. 분석\n",
        "\n",
        "`-` `train.csv`를 pandas로"
      ],
      "id": "a266e85b-e23e-4752-9cde-4698785fa0e7"
    },
    {
      "cell_type": "code",
      "execution_count": 10,
      "metadata": {},
      "outputs": [],
      "source": [
        "train_csv = pd.read_csv(\"./data/train.csv\")\n",
        "train_csv"
      ],
      "id": "cell-61"
    },
    {
      "cell_type": "code",
      "execution_count": 11,
      "metadata": {},
      "outputs": [],
      "source": [
        "test_csv = pd.read_csv(\"./data/sample_submission.csv\")\n",
        "test_csv"
      ],
      "id": "cell-62"
    },
    {
      "cell_type": "markdown",
      "metadata": {},
      "source": [
        "## A. 예쁜(?) 정석 코드\n",
        "\n",
        "*Step1: Data*"
      ],
      "id": "b72d904c-261d-4046-84c8-5a26b2149f24"
    },
    {
      "cell_type": "code",
      "execution_count": 418,
      "metadata": {},
      "outputs": [],
      "source": [
        "ctx_train = datasets.Dataset.from_pandas(train_csv)\n",
        "ctx_test = datasets.Dataset.from_pandas(test_csv).remove_columns(['has_cactus'])"
      ],
      "id": "cell-65"
    },
    {
      "cell_type": "code",
      "execution_count": 419,
      "metadata": {},
      "outputs": [
        {
          "output_type": "stream",
          "name": "stderr",
          "text": [
            "Map: 100%|██████████████████████| 17500/17500 [00:00<00:00, 65880.11 examples/s]\n",
            "Map: 100%|████████████████████████| 4000/4000 [00:00<00:00, 92217.97 examples/s]"
          ]
        }
      ],
      "source": [
        "ctx_train = ctx_train.map(lambda example: {'path': f'./data/train/{example['id']}'})\n",
        "ctx_test = ctx_test.map(lambda example: {'path': f'./data/test/{example['id']}'})"
      ],
      "id": "cell-66"
    },
    {
      "cell_type": "code",
      "execution_count": 420,
      "metadata": {},
      "outputs": [],
      "source": [
        "ctx = datasets.DatasetDict({'train':ctx_train,'test':ctx_test})\n",
        "ctx"
      ],
      "id": "cell-67"
    },
    {
      "cell_type": "code",
      "execution_count": 421,
      "metadata": {},
      "outputs": [],
      "source": [
        "compose('./data/train/0004be2cfeaba1c0361d39e2b000257b.jpg')"
      ],
      "id": "cell-68"
    },
    {
      "cell_type": "code",
      "execution_count": 422,
      "metadata": {},
      "outputs": [],
      "source": [
        "compose = torchvision.transforms.Compose([\n",
        "    lambda path: PIL.Image.open(path),\n",
        "    torchvision.transforms.ToTensor(),\n",
        "    torchvision.transforms.Resize(224),\n",
        "])\n",
        "def w_trans(examples):\n",
        "    dct = dict()\n",
        "    try: \n",
        "        dct['labels'] = torch.tensor(examples['has_cactus']).long()\n",
        "    except: \n",
        "        pass \n",
        "    dct['pixel_values'] = torch.stack(list(map(compose,examples['path']))).float() # 명확하게\n",
        "    return dct "
      ],
      "id": "cell-69"
    },
    {
      "cell_type": "code",
      "execution_count": 423,
      "metadata": {},
      "outputs": [],
      "source": [
        "ctx = ctx.with_transform(w_trans)\n",
        "ctx"
      ],
      "id": "cell-70"
    },
    {
      "cell_type": "code",
      "execution_count": 424,
      "metadata": {},
      "outputs": [],
      "source": [
        "ctx['train'][:2]"
      ],
      "id": "cell-71"
    },
    {
      "cell_type": "markdown",
      "metadata": {},
      "source": [
        "*Step2: Model*"
      ],
      "id": "bd373c2a-aa47-4bfa-b99c-dd28349bd9d5"
    },
    {
      "cell_type": "code",
      "execution_count": 425,
      "metadata": {},
      "outputs": [
        {
          "output_type": "stream",
          "name": "stderr",
          "text": [
            "Some weights of ViTForImageClassification were not initialized from the model checkpoint at google/vit-base-patch16-224-in21k and are newly initialized: ['classifier.bias', 'classifier.weight']\n",
            "You should probably TRAIN this model on a down-stream task to be able to use it for predictions and inference."
          ]
        }
      ],
      "source": [
        "model = transformers.AutoModelForImageClassification.from_pretrained(\n",
        "    \"google/vit-base-patch16-224-in21k\",\n",
        "    num_labels=2,\n",
        ")"
      ],
      "id": "cell-73"
    },
    {
      "cell_type": "markdown",
      "metadata": {},
      "source": [
        "*Step3: Train*"
      ],
      "id": "0645c33f-55c1-4794-b9a2-e1e69916e601"
    },
    {
      "cell_type": "code",
      "execution_count": 426,
      "metadata": {},
      "outputs": [],
      "source": [
        "data_collator = transformers.DefaultDataCollator()\n",
        "data_collator"
      ],
      "id": "cell-75"
    },
    {
      "cell_type": "code",
      "execution_count": 427,
      "metadata": {},
      "outputs": [],
      "source": [
        "# single_batch = [ctx['train'][0],ctx['train'][1]]\n",
        "# single_batch = [ctx['test'][0],ctx['test'][1]]\n",
        "# model(**data_collator(single_batch))"
      ],
      "id": "cell-76"
    },
    {
      "cell_type": "code",
      "execution_count": 428,
      "metadata": {},
      "outputs": [],
      "source": [
        "ctx"
      ],
      "id": "cell-77"
    },
    {
      "cell_type": "code",
      "execution_count": 429,
      "metadata": {},
      "outputs": [],
      "source": [
        "def compute_metrics(eval_pred):\n",
        "    logits, labels = eval_pred\n",
        "    predictions = np.argmax(logits, axis=1)\n",
        "    prediction_scores = torch.tensor(logits).softmax(dim=1).numpy()[:,1]\n",
        "    #---#\n",
        "    accuracy = evaluate.load(\"accuracy\")\n",
        "    recall = evaluate.load(\"recall\")\n",
        "    roc_auc = evaluate.load(\"roc_auc\")\n",
        "    dct1 = accuracy.compute(predictions=predictions, references=labels)\n",
        "    dct2 = recall.compute(predictions=predictions, references=labels)\n",
        "    dct3 = roc_auc.compute(prediction_scores=prediction_scores, references=labels)\n",
        "    return dct1|dct2|dct3\n",
        "args = transformers.TrainingArguments(\n",
        "    output_dir=\"./model/ctx\",\n",
        "    remove_unused_columns=False,\n",
        "    #---#\n",
        "    eval_strategy=\"epoch\",\n",
        "    save_strategy=\"epoch\",\n",
        "    learning_rate=5e-5,\n",
        "    per_device_train_batch_size=16,\n",
        "    gradient_accumulation_steps=4,\n",
        "    per_device_eval_batch_size=16,\n",
        "    num_train_epochs=1,\n",
        "    warmup_ratio=0.1,\n",
        "    logging_steps=10,\n",
        "    load_best_model_at_end=True,\n",
        "    #metric_for_best_model=\"accuracy\",\n",
        "    push_to_hub=False,\n",
        "    report_to=\"none\"\n",
        ")\n",
        "trainer = transformers.Trainer(\n",
        "    model=model,\n",
        "    args=args,\n",
        "    data_collator=data_collator,\n",
        "    train_dataset=ctx['train'].select(range(1000)),\n",
        "    eval_dataset=ctx['train'].select(range(1000,1500)),\n",
        "    compute_metrics=compute_metrics,\n",
        ")"
      ],
      "id": "cell-78"
    },
    {
      "cell_type": "code",
      "execution_count": 430,
      "metadata": {},
      "outputs": [],
      "source": [
        "ctx"
      ],
      "id": "cell-79"
    },
    {
      "cell_type": "code",
      "execution_count": 431,
      "metadata": {},
      "outputs": [],
      "source": [
        "trainer.train()"
      ],
      "id": "cell-80"
    },
    {
      "cell_type": "markdown",
      "metadata": {},
      "source": [
        "*Step4: Prediction*"
      ],
      "id": "a0d48a79-a327-41aa-b128-bf5bc2fdea23"
    },
    {
      "cell_type": "code",
      "execution_count": 432,
      "metadata": {},
      "outputs": [],
      "source": [
        "out = trainer.predict(ctx['test'])\n",
        "out "
      ],
      "id": "cell-82"
    },
    {
      "cell_type": "code",
      "execution_count": 433,
      "metadata": {},
      "outputs": [],
      "source": [
        "logits = out.predictions\n",
        "prob = torch.tensor(logits).softmax(dim=1).numpy()[:,1]\n",
        "prob"
      ],
      "id": "cell-83"
    },
    {
      "cell_type": "code",
      "execution_count": 434,
      "metadata": {},
      "outputs": [],
      "source": [
        "test_csv['has_cactus'] = prob \n",
        "test_csv"
      ],
      "id": "cell-84"
    },
    {
      "cell_type": "markdown",
      "metadata": {},
      "source": [
        "*Step1 ~ Step4*"
      ],
      "id": "eff285f3-a3de-4297-82e8-78138e074fe9"
    },
    {
      "cell_type": "code",
      "execution_count": 436,
      "metadata": {},
      "outputs": [
        {
          "output_type": "stream",
          "name": "stderr",
          "text": [
            "Map: 100%|██████████████████████| 17500/17500 [00:00<00:00, 63956.34 examples/s]\n",
            "Map: 100%|████████████████████████| 4000/4000 [00:00<00:00, 91609.69 examples/s]\n",
            "Some weights of ViTForImageClassification were not initialized from the model checkpoint at google/vit-base-patch16-224-in21k and are newly initialized: ['classifier.bias', 'classifier.weight']\n",
            "You should probably TRAIN this model on a down-stream task to be able to use it for predictions and inference."
          ]
        }
      ],
      "source": [
        "train_csv = pd.read_csv(\"./data/train.csv\")\n",
        "test_csv = pd.read_csv(\"./data/sample_submission.csv\")\n",
        "#--#\n",
        "# Step1: Data\n",
        "ctx_train = datasets.Dataset.from_pandas(train_csv)\n",
        "ctx_test = datasets.Dataset.from_pandas(test_csv).remove_columns(['has_cactus'])\n",
        "ctx_train = ctx_train.map(lambda example: {'path': f'./data/train/{example['id']}'})\n",
        "ctx_test = ctx_test.map(lambda example: {'path': f'./data/test/{example['id']}'})\n",
        "ctx = datasets.DatasetDict({'train':ctx_train,'test':ctx_test})\n",
        "compose = torchvision.transforms.Compose([\n",
        "    lambda path: PIL.Image.open(path),\n",
        "    torchvision.transforms.ToTensor(),\n",
        "    torchvision.transforms.Resize(224),\n",
        "])\n",
        "def w_trans(examples):\n",
        "    dct = dict()\n",
        "    try: \n",
        "        dct['labels'] = torch.tensor(examples['has_cactus']).long()\n",
        "    except: \n",
        "        pass \n",
        "    dct['pixel_values'] = torch.stack(list(map(compose,examples['path']))).float() # 명확하게\n",
        "    return dct \n",
        "ctx = ctx.with_transform(w_trans)\n",
        "# Step2: Model \n",
        "model = transformers.AutoModelForImageClassification.from_pretrained(\n",
        "    \"google/vit-base-patch16-224-in21k\",\n",
        "    num_labels=2,\n",
        ")\n",
        "# Step3: Train \n",
        "data_collator = transformers.DefaultDataCollator()\n",
        "def compute_metrics(eval_pred):\n",
        "    logits, labels = eval_pred\n",
        "    predictions = np.argmax(logits, axis=1)\n",
        "    prediction_scores = torch.tensor(logits).softmax(dim=1).numpy()[:,1]\n",
        "    #---#\n",
        "    accuracy = evaluate.load(\"accuracy\")\n",
        "    recall = evaluate.load(\"recall\")\n",
        "    roc_auc = evaluate.load(\"roc_auc\")\n",
        "    dct1 = accuracy.compute(predictions=predictions, references=labels)\n",
        "    dct2 = recall.compute(predictions=predictions, references=labels)\n",
        "    dct3 = roc_auc.compute(prediction_scores=prediction_scores, references=labels)\n",
        "    return dct1|dct2|dct3\n",
        "trainer = transformers.Trainer(\n",
        "    model=model,\n",
        "    args=transformers.TrainingArguments(\n",
        "        output_dir=\"./model/ctx\",\n",
        "        remove_unused_columns=False,\n",
        "        #---#\n",
        "        eval_strategy=\"epoch\",\n",
        "        save_strategy=\"epoch\",\n",
        "        learning_rate=5e-5,\n",
        "        per_device_train_batch_size=16,\n",
        "        gradient_accumulation_steps=4,\n",
        "        per_device_eval_batch_size=16,\n",
        "        num_train_epochs=2,\n",
        "        warmup_ratio=0.1,\n",
        "        logging_steps=10,\n",
        "        load_best_model_at_end=True,\n",
        "        #metric_for_best_model=\"accuracy\",\n",
        "        push_to_hub=False,\n",
        "        report_to=\"none\"),\n",
        "    data_collator=data_collator,\n",
        "    train_dataset=ctx['train'].select(range(1000)),\n",
        "    eval_dataset=ctx['train'].select(range(1000,1500)),\n",
        "    compute_metrics=compute_metrics,\n",
        ")\n",
        "trainer.train()\n",
        "# Step4: Prediction\n",
        "out = trainer.predict(ctx['test'])\n",
        "def update(out,test_csv):\n",
        "    logits = out.predictions\n",
        "    prob = torch.tensor(logits).softmax(dim=1).numpy()[:,1]\n",
        "    test_csv['has_cactus'] = prob\n",
        "    return test_csv\n",
        "test_csv = update(out,test_csv)"
      ],
      "id": "cell-86"
    },
    {
      "cell_type": "markdown",
      "metadata": {},
      "source": [
        "## B. \b자유로운 코드\n",
        "\n",
        "*Step1: Datasets*"
      ],
      "id": "213b794d-7652-4fd0-b7c2-19d080884fef"
    },
    {
      "cell_type": "code",
      "execution_count": 408,
      "metadata": {},
      "outputs": [],
      "source": [
        "train_csv = pd.read_csv(\"./data/train.csv\")\n",
        "test_csv = pd.read_csv(\"./data/sample_submission.csv\")\n",
        "ctx_train = datasets.Dataset.from_pandas(train_csv.assign(path = train_csv.id.map(lambda x: f'./data/train/{x}')))\n",
        "ctx_test = datasets.Dataset.from_pandas(test_csv.assign(path = test_csv.id.map(lambda x: f'./data/test/{x}'))).remove_columns(['has_cactus'])\n",
        "ctx = datasets.DatasetDict({'train':ctx_train, 'test':ctx_test})\n",
        "ctx"
      ],
      "id": "cell-89"
    },
    {
      "cell_type": "markdown",
      "metadata": {},
      "source": [
        "*Step2~3 과정의 간보기*"
      ],
      "id": "5144f128-ae18-4724-bde6-8e6aa67887f0"
    },
    {
      "cell_type": "code",
      "execution_count": 416,
      "metadata": {},
      "outputs": [
        {
          "output_type": "stream",
          "name": "stderr",
          "text": [
            "Some weights of ViTForImageClassification were not initialized from the model checkpoint at google/vit-base-patch16-224-in21k and are newly initialized: ['classifier.bias', 'classifier.weight']\n",
            "You should probably TRAIN this model on a down-stream task to be able to use it for predictions and inference."
          ]
        }
      ],
      "source": [
        "## 간보기코드\n",
        "single_batch = [ctx['train'][0],ctx['train'][1]]\n",
        "single_batch\n",
        "compose = torchvision.transforms.Compose([\n",
        "    lambda path: PIL.Image.open(path),\n",
        "    torchvision.transforms.ToTensor(),\n",
        "    torchvision.transforms.Resize(224),\n",
        "])\n",
        "def collate_fn(single_batch):\n",
        "    dct = dict()\n",
        "    dct['pixel_values'] = torch.stack(list(map(compose,[o['path'] for o in single_batch]))).float()\n",
        "    try: \n",
        "        dct['labels'] = torch.tensor([o.get('has_cactus') for o in single_batch]).long() # 이거안하면 에러남\n",
        "    except: \n",
        "        pass \n",
        "    return dct \n",
        "model = transformers.AutoModelForImageClassification.from_pretrained(\n",
        "    \"google/vit-base-patch16-224-in21k\",\n",
        "    num_labels=2,\n",
        ")\n",
        "model(**collate_fn(single_batch))"
      ],
      "id": "cell-91"
    },
    {
      "cell_type": "markdown",
      "metadata": {},
      "source": [
        "*Step1~4*"
      ],
      "id": "69c1eb1b-ec05-442e-8b0b-5a3c1c7f0a90"
    },
    {
      "cell_type": "code",
      "execution_count": 438,
      "metadata": {},
      "outputs": [
        {
          "output_type": "stream",
          "name": "stderr",
          "text": [
            "Some weights of ViTForImageClassification were not initialized from the model checkpoint at google/vit-base-patch16-224-in21k and are newly initialized: ['classifier.bias', 'classifier.weight']\n",
            "You should probably TRAIN this model on a down-stream task to be able to use it for predictions and inference."
          ]
        }
      ],
      "source": [
        "train_csv = pd.read_csv(\"./data/train.csv\")\n",
        "test_csv = pd.read_csv(\"./data/sample_submission.csv\")\n",
        "#--#\n",
        "# Step1: Data \n",
        "ctx_train = datasets.Dataset.from_pandas(train_csv.assign(path = train_csv.id.map(lambda x: f'./data/train/{x}')))\n",
        "ctx_test = datasets.Dataset.from_pandas(test_csv.assign(path = test_csv.id.map(lambda x: f'./data/test/{x}'))).remove_columns(['has_cactus'])\n",
        "ctx = datasets.DatasetDict({'train':ctx_train, 'test':ctx_test})\n",
        "compose = torchvision.transforms.Compose([\n",
        "    lambda path: PIL.Image.open(path),\n",
        "    torchvision.transforms.ToTensor(),\n",
        "    torchvision.transforms.Resize(224),\n",
        "])\n",
        "# Step2: Model\n",
        "model = transformers.AutoModelForImageClassification.from_pretrained(\n",
        "    \"google/vit-base-patch16-224-in21k\",\n",
        "    num_labels=2,\n",
        ")\n",
        "# Step3: Trainer -> train \n",
        "def collate_fn(single_batch):\n",
        "    dct = dict()\n",
        "    dct['pixel_values'] = torch.stack(list(map(compose,[o['path'] for o in single_batch]))).float()\n",
        "    try: \n",
        "        dct['labels'] = torch.tensor([o.get('has_cactus') for o in single_batch]).long() # 이거안하면 에러남\n",
        "    except: \n",
        "        pass \n",
        "    return dct \n",
        "def compute_metrics(eval_pred):\n",
        "    logits, labels = eval_pred\n",
        "    predictions = np.argmax(logits, axis=1)\n",
        "    prediction_scores = torch.tensor(logits).softmax(dim=1).numpy()[:,1]\n",
        "    #---#\n",
        "    accuracy = evaluate.load(\"accuracy\")\n",
        "    recall = evaluate.load(\"recall\")\n",
        "    roc_auc = evaluate.load(\"roc_auc\")\n",
        "    dct1 = accuracy.compute(predictions=predictions, references=labels)\n",
        "    dct2 = recall.compute(predictions=predictions, references=labels)\n",
        "    dct3 = roc_auc.compute(prediction_scores=prediction_scores, references=labels)\n",
        "    return dct1|dct2|dct3\n",
        "trainer = transformers.Trainer(\n",
        "    model=model,\n",
        "    args=transformers.TrainingArguments(\n",
        "        output_dir=\"./model/ctx\",\n",
        "        remove_unused_columns=False,\n",
        "        #---#\n",
        "        eval_strategy=\"epoch\",\n",
        "        save_strategy=\"epoch\",\n",
        "        learning_rate=5e-5,\n",
        "        per_device_train_batch_size=16,\n",
        "        gradient_accumulation_steps=4,\n",
        "        per_device_eval_batch_size=16,\n",
        "        num_train_epochs=1,\n",
        "        warmup_ratio=0.1,\n",
        "        logging_steps=10,\n",
        "        load_best_model_at_end=True,\n",
        "        #metric_for_best_model=\"accuracy\",\n",
        "        push_to_hub=False,\n",
        "        report_to=\"none\"),\n",
        "    data_collator=collate_fn,\n",
        "    train_dataset=ctx['train'].select(range(1000)),\n",
        "    eval_dataset=ctx['train'].select(range(1000,1500)),\n",
        "    compute_metrics=compute_metrics,\n",
        ")\n",
        "trainer.train()\n",
        "# Step4: Prediction\n",
        "out = trainer.predict(ctx['test'])\n",
        "def update(out,test_csv):\n",
        "    logits = out.predictions\n",
        "    prob = torch.tensor(logits).softmax(dim=1).numpy()[:,1]\n",
        "    test_csv['has_cactus'] = prob\n",
        "    return test_csv\n",
        "test_csv = update(out,test_csv)"
      ],
      "id": "cell-93"
    }
  ],
  "nbformat": 4,
  "nbformat_minor": 5,
  "metadata": {
    "kernelspec": {
      "name": "python3",
      "display_name": "Python 3 (ipykernel)",
      "language": "python"
    },
    "language_info": {
      "name": "python",
      "codemirror_mode": {
        "name": "ipython",
        "version": "3"
      },
      "file_extension": ".py",
      "mimetype": "text/x-python",
      "nbconvert_exporter": "python",
      "pygments_lexer": "ipython3",
      "version": "3.12.2"
    }
  }
}