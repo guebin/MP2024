{
  "cells": [
    {
      "cell_type": "markdown",
      "metadata": {},
      "source": [
        "# 08wk-2: numpy와 torch의 차이\n",
        "\n",
        "최규빈  \n",
        "2024-10-31\n",
        "\n",
        "<a href=\"https://colab.research.google.com/github/guebin/MP2024/blob/main/posts/08wk-2.ipynb\"><img src=\"https://colab.research.google.com/assets/colab-badge.svg\" style=\"text-align: left\"></a>\n",
        "\n",
        "# 1. 강의영상"
      ],
      "id": "b0d517b4-611a-44af-a892-7a0e555ee5de"
    },
    {
      "cell_type": "code",
      "execution_count": 1,
      "metadata": {},
      "outputs": [],
      "source": [
        "#{{<video https://youtu.be/playlist?list=PLQqh36zP38-zBs464epBRfxPpNBAKqBMS&si=It99ZTYMQHJkCk6z >}}"
      ],
      "id": "cell-3"
    },
    {
      "cell_type": "markdown",
      "metadata": {},
      "source": [
        "# 2. Imports"
      ],
      "id": "f3c544d2-6921-4d96-b7a3-3399bb754592"
    },
    {
      "cell_type": "code",
      "execution_count": 2,
      "metadata": {},
      "outputs": [],
      "source": [
        "#!pip install git+https://github.com/guebin/mp2024pkg.git"
      ],
      "id": "cell-5"
    },
    {
      "cell_type": "code",
      "execution_count": 1,
      "metadata": {},
      "outputs": [
        {
          "output_type": "stream",
          "name": "stderr",
          "text": [
            "/home/cgb3/anaconda3/envs/hf/lib/python3.12/site-packages/tqdm/auto.py:21: TqdmWarning: IProgress not found. Please update jupyter and ipywidgets. See https://ipywidgets.readthedocs.io/en/stable/user_install.html\n",
            "  from .autonotebook import tqdm as notebook_tqdm"
          ]
        }
      ],
      "source": [
        "import numpy as np\n",
        "import torch\n",
        "import mp2024pkg\n",
        "import transformers\n",
        "import datasets\n",
        "import matplotlib.pyplot as plt"
      ],
      "id": "cell-6"
    },
    {
      "cell_type": "markdown",
      "metadata": {},
      "source": [
        "# 3. `numpy`와 `torch`의 비교\n",
        "\n",
        "`-` 파이썬입문수준의 질문: numpy랑 list의 차이가 뭔가..?\n",
        "\n",
        "`-` 기계학습활용수준의 질문: numpy랑 torch의 차이가 뭔가..?\n",
        "\n",
        "## A. 공통점\n",
        "\n",
        "`-` 기본마인드: numpy에서 가능한건 torch에서도 가능하다고 생각하면 된다.\n",
        "\n",
        "`-` 벡터선언 후 브로드캐스팅\n",
        "\n",
        "`-` 형태변환\n",
        "\n",
        "`-` 기타함수들도 비슷하게 운용됨\n",
        "\n",
        "## B. 차이점1 – 기본자료형\n",
        "\n",
        "`-` `1/3`와 같은 숫자를 저장할때 넘파이의 경우 기본 data type은\n",
        "float64임.\n",
        "\n",
        "`-` 그런데 텐서는 기본 data type이 float32임. (그래서 정확하게 저장되지\n",
        "않음)\n",
        "\n",
        "`-` 억지로 저장할 수는 있음 (그런데 이럴 경우 `dtype` 꼬리표가 붙음)\n",
        "\n",
        "`-` 자료형 변환시 이러한 기분나쁜 꼬리표가 붙을 수 있음\n",
        "\n",
        "`# 예시1`\n",
        "\n",
        "`#`\n",
        "\n",
        "`# 예시2`\n",
        "\n",
        "`#`\n",
        "\n",
        "`-` torch의 경우 float64로 저장되면 모델이 안돌아갈 수 있으니 (메모리를\n",
        "많이 차지해서) 반드시 dtype을 float32로 바꾸는 습관을 가지면 좋음\n",
        "\n",
        "`-` numpy는 할줄알죠?\n",
        "\n",
        "`-` torch에서 data type을 바꿔주는 메소드는 상당히 유용합니다. (아까\n",
        "말했듯이 형식을 잘 못 맞추면 코드가 안돌아가요)\n",
        "\n",
        "`-` torch에서 data type 이 중요한이유?\n",
        "\n",
        "-   의미상 맞는 코드인데, `dtype`이 안맞으면 실행이 안될 수 있다.\n",
        "\n",
        "## C. 차이점2 – 메소드차이\n",
        "\n",
        "`-` `torch` 와 `numpy`의 메소드(=자료에 내장된 특수함수)들이 완전히\n",
        "같지는 않음.\n",
        "\n",
        "## D. 차이점3 – 미분연산지원 ($\\star$)\n",
        "\n",
        "`# 예제1` – 파이썬을 기본문법을 이용한 미분\n",
        "\n",
        "`#`\n",
        "\n",
        "`# 예제2` – `torch`를 이용한 미분\n",
        "\n",
        "`#`\n",
        "\n",
        "`# 예제3`\n",
        "\n",
        "`#`\n",
        "\n",
        "`# 예제4`\n",
        "\n",
        "`#`\n",
        "\n",
        "`# 예제5`\n",
        "\n",
        "`#`\n",
        "\n",
        "## E. 차이점4 – `cuda` 차이 ($\\star$)\n",
        "\n",
        "`-` `torch`는 `cuda`을 지원해서 좋다.. (그런데 쓰는 입장에선 불편하다)\n",
        "\n",
        "`-` 구분을 위해서 변수이름을 `*_cpu`, `*_cuda`와 같이정의하자.\n",
        "\n",
        "`-` cuda는 cuda끼리, cpu는 cpu끼리 연산가능\n",
        "\n",
        "# 3. 자료형,차원\n",
        "\n",
        "`# 예제1` – 자료형이 안맞으면 **맞는 코드 같은데** 에러가 나는 경우가\n",
        "많다.\n",
        "\n",
        "> 코드잘짜는 사람은 이런 형식을 잘 맞추는 듯 합니다..\n",
        "\n",
        "`#`\n",
        "\n",
        "`# 예제2` – IMDB자료에서의 모델을 다시 살펴보자..\n",
        "\n",
        "`-` 전처리\n",
        "\n",
        "`-` 모델인풋1 – 차원이 맞지 않음.. (모델은 배치형태 입력을 기대해요)\n",
        "\n",
        "`-` 모델인풋2 – 이걸 기대함\n",
        "\n",
        "`-` 모델인풋3 – 틀린듯한데 그냥 해주는듯\n",
        "\n",
        "`-` 모델인풋4 – 라벨은 int형이어야 한다는 강제가 있었음\n",
        "\n",
        "`-` 모델인풋5 – `input_ids`도 마찬가지로 제약이 있음\n",
        "\n",
        "`#`\n",
        "\n",
        "# 4. `cuda` 관리\n",
        "\n",
        "`# 예제1`"
      ],
      "id": "066a1cbb-2cd9-4039-91fd-23262449abe2"
    },
    {
      "cell_type": "code",
      "execution_count": 84,
      "metadata": {},
      "outputs": [
        {
          "output_type": "stream",
          "name": "stderr",
          "text": [
            "Some weights of DistilBertForSequenceClassification were not initialized from the model checkpoint at distilbert/distilbert-base-uncased and are newly initialized: ['classifier.bias', 'classifier.weight', 'pre_classifier.bias', 'pre_classifier.weight']\n",
            "You should probably TRAIN this model on a down-stream task to be able to use it for predictions and inference."
          ]
        }
      ],
      "source": [
        "imdb = datasets.load_dataset(\"imdb\")\n",
        "model_path = \"distilbert/distilbert-base-uncased\"\n",
        "tokenizer = transformers.AutoTokenizer.from_pretrained(model_path)\n",
        "model = transformers.AutoModelForSequenceClassification.from_pretrained(\n",
        "    \"distilbert/distilbert-base-uncased\", num_labels=2\n",
        ")\n",
        "model_input = {\n",
        "    'input_ids': torch.tensor([[101, 2023, 3185, 2003, 6659, 2021, 2009, 2038, 2070, 2204, 3896, 1012, 102]]),\n",
        "    'attention_mask': torch.tensor([[1, 1, 1, 1, 1, 1, 1, 1, 1, 1, 1, 1, 1]]),\n",
        "    'labels': torch.tensor([0]) \n",
        "}"
      ],
      "id": "cell-99"
    },
    {
      "cell_type": "markdown",
      "metadata": {},
      "source": [
        "------------------------------------------------------------------------\n",
        "\n",
        "`-` 원래사용방식\n",
        "\n",
        "`-` 모델의 파라메터는 어디에?\n",
        "\n",
        "`-` 모델의 파라메터를 cuda로..\n",
        "\n",
        "`-` 아까 계산되던 코드가 거짓말처럼 동작하지 않음\n",
        "\n",
        "`-` 다시 모델의 파라메터를 cpu로..\n",
        "\n",
        "`-` 이제 또 계산가능함..\n",
        "\n",
        "`-` 정리해보자..\n",
        "\n",
        "`#`\n",
        "\n",
        "# 5. `grad` 관리\n",
        "\n",
        "`# 예제1` – 미분꼬리표 제거하고 싶음..\n",
        "\n",
        "`-` `a`에는 꼬리표O, `b`에는 꼬리표X, `a*b`는 `a`로 인한 꼬리표가 유지"
      ],
      "id": "bc786c92-77a6-4008-975f-b5935f4d51b5"
    },
    {
      "cell_type": "code",
      "execution_count": 95,
      "metadata": {},
      "outputs": [],
      "source": [
        "a = torch.tensor(3.0,requires_grad=True)\n",
        "b = torch.tensor([1.0]*10)\n",
        "a*b"
      ],
      "id": "cell-118"
    },
    {
      "cell_type": "markdown",
      "metadata": {},
      "source": [
        "`-` 꼬리표가 없는 `b`는 `plt.plot`이 동작하지만 꼬리표가 있는 `a*b`는\n",
        "`plt.plot`이 동작하지 않음\n",
        "\n",
        "`-` `a`의 꼬리표를 제거하고 돌리자…\n",
        "\n",
        "`#`\n",
        "\n",
        "`# 예제2` – 미분꼬리표를 제거하는 또다른 기능\n",
        "\n",
        "`-` 예제1을 아래처럼 실수로 풀었다."
      ],
      "id": "9720c983-e9ad-4b05-b785-a934d608e781"
    },
    {
      "cell_type": "code",
      "execution_count": 99,
      "metadata": {},
      "outputs": [],
      "source": [
        "a = torch.tensor(3.0,requires_grad=True)\n",
        "b = torch.tensor([1.0]*10)"
      ],
      "id": "cell-126"
    },
    {
      "cell_type": "code",
      "execution_count": 100,
      "metadata": {},
      "outputs": [
        {
          "output_type": "display_data",
          "metadata": {},
          "data": {
            "image/png": "[encoded data removed]"
          }
        }
      ],
      "source": [
        "plt.plot(a*b.detach(),'--o')"
      ],
      "id": "cell-127"
    },
    {
      "cell_type": "markdown",
      "metadata": {},
      "source": [
        "`-` 아래와 같이 했어야 했는데, 섬세함이 부족했다.."
      ],
      "id": "95a3002c-b5cb-45ca-aaa8-33ecc7813b1e"
    },
    {
      "cell_type": "code",
      "execution_count": 114,
      "metadata": {},
      "outputs": [
        {
          "output_type": "display_data",
          "metadata": {},
          "data": {
            "image/png": "[encoded data removed]"
          }
        }
      ],
      "source": [
        "plt.plot((a*b).detach(),'--o')"
      ],
      "id": "cell-129"
    },
    {
      "cell_type": "markdown",
      "metadata": {},
      "source": [
        "-   앞으로 섬세하게 코딩하자??\n",
        "\n",
        "`-` 앞으로 섬세하기 싫다면?? $\\to$ `torch.set_grad_enabled()` 이용\n",
        "\n",
        "*모드확인*\n",
        "\n",
        "*모드변경*\n",
        "\n",
        "*다시 모드확인*\n",
        "\n",
        "*a,b상태 출력*\n",
        "\n",
        "*계산*\n",
        "\n",
        "*plot*\n",
        "\n",
        "*다시모드변경*\n",
        "\n",
        "*모드변경확인*\n",
        "\n",
        "*plot – 이제 못그림*\n",
        "\n",
        "`#`\n",
        "\n",
        "`# 예제3`"
      ],
      "id": "bc1f04a3-2cd4-485b-9c1a-a912f446fcc0"
    },
    {
      "cell_type": "code",
      "execution_count": 26,
      "metadata": {},
      "outputs": [],
      "source": [
        "model = transformers.AutoModelForSequenceClassification.from_pretrained(\n",
        "    \"distilbert/distilbert-base-uncased\", num_labels=2\n",
        ")\n",
        "model_input = {\n",
        "    'input_ids': torch.tensor([[101, 2023, 3185, 2003, 6659, 2021, 2009, 2038, 2070, 2204, 3896, 1012, 102]]),\n",
        "    'attention_mask': torch.tensor([[1, 1, 1, 1, 1, 1, 1, 1, 1, 1, 1, 1, 1]]),\n",
        "    'labels': torch.tensor([0])\n",
        "}\n",
        "model(**model_input)"
      ],
      "id": "cell-152"
    },
    {
      "cell_type": "markdown",
      "metadata": {},
      "source": [
        "`#`"
      ],
      "id": "5db555d1-d27b-4c62-a78b-33304414e52d"
    }
  ],
  "nbformat": 4,
  "nbformat_minor": 5,
  "metadata": {
    "kernelspec": {
      "name": "python3",
      "display_name": "hf",
      "language": "python"
    },
    "language_info": {
      "name": "python",
      "codemirror_mode": {
        "name": "ipython",
        "version": "3"
      },
      "file_extension": ".py",
      "mimetype": "text/x-python",
      "nbconvert_exporter": "python",
      "pygments_lexer": "ipython3",
      "version": "3.12.2"
    }
  }
}